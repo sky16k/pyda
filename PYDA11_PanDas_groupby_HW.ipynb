{
  "cells": [
    {
      "cell_type": "markdown",
      "metadata": {
        "id": "view-in-github",
        "colab_type": "text"
      },
      "source": [
        "<a href=\"https://colab.research.google.com/github/sky16k/pyda/blob/main/PYDA11_PanDas_groupby_HW.ipynb\" target=\"_parent\"><img src=\"https://colab.research.google.com/assets/colab-badge.svg\" alt=\"Open In Colab\"/></a>"
      ]
    },
    {
      "cell_type": "markdown",
      "source": [
        "#Домашнее задание"
      ],
      "metadata": {
        "id": "xut-1lrgNCEM"
      }
    },
    {
      "cell_type": "markdown",
      "source": [
        "## осн. текст"
      ],
      "metadata": {
        "id": "p9YQFxg3dvW2"
      }
    },
    {
      "cell_type": "code",
      "source": [
        "'''\n",
        "Преподаватель: Константин Башевой\n",
        "**Домашнее задание к лекции.\n",
        "\n",
        "Задание 1**\n",
        "Напишите функцию, которая классифицирует фильмы из материалов занятия по следующим правилам:\n",
        "- оценка 2 и меньше - низкий рейтинг\n",
        "- оценка 4 и меньше - средний рейтинг\n",
        "- оценка 4.5 и 5 - высокий рейтинг\n",
        "\n",
        "Результат классификации запишите в столбец class\n",
        "\n",
        "Задание 2\n",
        "Используем файл keywords.csv.\n",
        "\n",
        "Необходимо написать гео-классификатор, который каждой строке сможет выставить географическую принадлежность определенному региону. Т. е. если поисковый запрос содержит название города региона, то в столбце ‘region’ пишется название этого региона. Если поисковый запрос не содержит названия города, то ставим ‘undefined’.\n",
        "\n",
        "Правила распределения по регионам Центр, Северо-Запад и Дальний Восток:\n",
        "\n",
        "geo_data = {\n",
        "\n",
        "1\n",
        "2\n",
        "3\n",
        "4\n",
        "5\n",
        "'Центр': ['москва', 'тула', 'ярославль'],\n",
        "\n",
        "'Северо-Запад': ['петербург', 'псков', 'мурманск'],\n",
        "\n",
        "'Дальний Восток': ['владивосток', 'сахалин', 'хабаровск']\n",
        "}\n",
        "\n",
        "Результат классификации запишите в отдельный столбец region.\n",
        "\n",
        "Задание 3 (бонусное)\n",
        "\n",
        "Есть мнение, что “раньше снимали настоящее кино, не то что сейчас”. Ваша задача проверить это утверждение, используя файлы с рейтингами фильмов из прошлого домашнего занятия (файл movies.csv и ratings.csv из базы grouplens.org.../movielens). Т. е. проверить верно ли, что с ростом года выпуска фильма его средний рейтинг становится ниже.\n",
        "\n",
        "При этом мы не будем затрагивать субьективные факторы выставления этих рейтингов, а пройдемся по следующему алгоритму:\n",
        "\n",
        "В переменную years запишите список из всех годов с 1950 по 2010.\n",
        "\n",
        "Напишите функцию production_year, которая каждой строке из названия фильма выставляет год выпуска. Не все названия фильмов содержат год выпуска в одинаковом формате, поэтому используйте следующий алгоритм:\n",
        "\n",
        "для каждой строки пройдите по всем годам списка years\n",
        "если номер года присутствует в названии фильма, то функция возвращает этот год как год выпуска\n",
        "если ни один из номеров года списка years не встретился в названии фильма, то возвращается 1900 год\n",
        "Запишите год выпуска фильма по алгоритму пункта 2 в новый столбец ‘year’\n",
        "\n",
        "Посчитайте средний рейтинг всех фильмов для каждого значения столбца ‘year’ и отсортируйте результат по убыванию рейтинга\n",
        "\n",
        "P/S/ все файлы находятся в архиве «дополнительные файлы к лекции и дз»\n",
        "\n",
        "Важно! При копировании юпитер ноутбука изменяет кавычки ’ на ` , что может способствовать ошибки в коде. В данной ситуации необходимо их просто заменить.\n",
        "'''"
      ],
      "metadata": {
        "id": "r6XxRCktd2fw"
      },
      "execution_count": null,
      "outputs": []
    },
    {
      "cell_type": "markdown",
      "source": [
        "## Задание 1"
      ],
      "metadata": {
        "id": "K28MI5k_MbDE"
      }
    },
    {
      "cell_type": "markdown",
      "source": [
        "###текст"
      ],
      "metadata": {
        "id": "_m6QJdwtMeFu"
      }
    },
    {
      "cell_type": "code",
      "source": [
        "# комментарий эксперта\n",
        "'''\n",
        "\n",
        "'''"
      ],
      "metadata": {
        "id": "LG7Q1soZ97bI"
      },
      "execution_count": null,
      "outputs": []
    },
    {
      "cell_type": "code",
      "source": [
        "'''\n",
        "Задание 1**\n",
        "Напишите функцию, которая классифицирует фильмы \n",
        "из материалов занятия по следующим правилам:\n",
        "- оценка 2 и меньше - низкий рейтинг\n",
        "- оценка 4 и меньше - средний рейтинг\n",
        "- оценка 4.5 и 5 - высокий рейтинг\n",
        "\n",
        "Результат классификации запишите в столбец class\n",
        "'''"
      ],
      "metadata": {
        "id": "6jF-_YjBMe2t"
      },
      "execution_count": null,
      "outputs": []
    },
    {
      "cell_type": "markdown",
      "source": [
        "###программа"
      ],
      "metadata": {
        "id": "KjSvPiWdMfT5"
      }
    },
    {
      "cell_type": "code",
      "source": [
        "import"
      ],
      "metadata": {
        "id": "3o0lOm-gMfqS"
      },
      "execution_count": null,
      "outputs": []
    },
    {
      "cell_type": "code",
      "source": [
        ""
      ],
      "metadata": {
        "id": "klqicdcgdUro"
      },
      "execution_count": null,
      "outputs": []
    },
    {
      "cell_type": "code",
      "source": [
        ""
      ],
      "metadata": {
        "id": "23RrTYaNdUMT"
      },
      "execution_count": null,
      "outputs": []
    },
    {
      "cell_type": "code",
      "source": [
        ""
      ],
      "metadata": {
        "id": "tWbuoJzLdT9E"
      },
      "execution_count": null,
      "outputs": []
    },
    {
      "cell_type": "markdown",
      "source": [
        "## Задание 2"
      ],
      "metadata": {
        "id": "uOhN2ArmMgkB"
      }
    },
    {
      "cell_type": "markdown",
      "source": [
        "###текст"
      ],
      "metadata": {
        "id": "KRNNt6LNMg0B"
      }
    },
    {
      "cell_type": "code",
      "source": [
        "# комментарий эксперта\n",
        "'''\n",
        "\n",
        "'''"
      ],
      "metadata": {
        "id": "QXwNwGPB-Dup"
      },
      "execution_count": null,
      "outputs": []
    },
    {
      "cell_type": "code",
      "source": [
        "'''\n",
        "Задание 2\n",
        "Используем файл keywords.csv.\n",
        "\n",
        "Необходимо написать гео-классификатор, который \n",
        "каждой строке сможет выставить географическую \n",
        "принадлежность определенному региону. \n",
        "Т. е. если поисковый запрос \n",
        "содержит название города региона, то в столбце 'region' \n",
        "пишется название этого региона. \n",
        "Если поисковый запрос не содержит названия города, \n",
        "то ставим 'undefined'.\n",
        "\n",
        "Правила распределения по регионам Центр, Северо-Запад и Дальний Восток:\n",
        "\n",
        "geo_data = {\n",
        "'Центр': ['москва', 'тула', 'ярославль'],\n",
        "\n",
        "'Северо-Запад': ['петербург', 'псков', 'мурманск'],\n",
        "\n",
        "'Дальний Восток': ['владивосток', 'сахалин', 'хабаровск']\n",
        "}\n",
        "\n",
        "Результат классификации запишите в отдельный столбец region.\n",
        "'''"
      ],
      "metadata": {
        "id": "nASO5cKOMhKM"
      },
      "execution_count": null,
      "outputs": []
    },
    {
      "cell_type": "markdown",
      "source": [
        "###программа"
      ],
      "metadata": {
        "id": "sr6nEVKHMhaG"
      }
    },
    {
      "cell_type": "code",
      "source": [
        "import"
      ],
      "metadata": {
        "id": "wSqCygzFMho8"
      },
      "execution_count": null,
      "outputs": []
    },
    {
      "cell_type": "code",
      "source": [
        ""
      ],
      "metadata": {
        "id": "AfQpgTFSdYJC"
      },
      "execution_count": null,
      "outputs": []
    },
    {
      "cell_type": "code",
      "source": [
        ""
      ],
      "metadata": {
        "id": "eH3SppGJdX0c"
      },
      "execution_count": null,
      "outputs": []
    },
    {
      "cell_type": "code",
      "source": [
        ""
      ],
      "metadata": {
        "id": "lygF7qnTdXn3"
      },
      "execution_count": null,
      "outputs": []
    },
    {
      "cell_type": "markdown",
      "source": [
        "## Задание 3"
      ],
      "metadata": {
        "id": "ljWnHN2Edg34"
      }
    },
    {
      "cell_type": "markdown",
      "source": [
        "###текст"
      ],
      "metadata": {
        "id": "b9HDph-5dg37"
      }
    },
    {
      "cell_type": "code",
      "source": [
        "# комментарий эксперта\n",
        "'''\n",
        "\n",
        "'''"
      ],
      "metadata": {
        "id": "zoSR8q8V-EZS"
      },
      "execution_count": null,
      "outputs": []
    },
    {
      "cell_type": "code",
      "source": [
        "'''\n",
        "Задание 3 (бонусное)\n",
        "\n",
        "Есть мнение, что “раньше снимали настоящее кино, \n",
        "не то что сейчас”. \n",
        "Ваша задача проверить это утверждение, \n",
        "используя файлы с рейтингами фильмов \n",
        "из прошлого домашнего занятия \n",
        "(файл movies.csv и ratings.csv из базы \n",
        "https://grouplens.org/datasets/movielens). \n",
        "Т. е. проверить верно ли, что \n",
        "с ростом года выпуска фильма \n",
        "его средний рейтинг становится ниже.\n",
        "\n",
        "При этом мы не будем затрагивать \n",
        "субьективные факторы выставления этих рейтингов, \n",
        "а пройдемся по следующему алгоритму:\n",
        "\n",
        "1. В переменную years запишите список из всех годов с 1950 по 2010.\n",
        "\n",
        "2. Напишите функцию production_year, \n",
        "которая каждой строке из названия фильма выставляет год выпуска. \n",
        "Не все названия фильмов содержат год выпуска в одинаковом формате, \n",
        "поэтому используйте следующий алгоритм:\n",
        "    1) для каждой строки пройдите по всем годам списка years\n",
        "    2) если номер года присутствует в названии фильма, \n",
        "       то функция возвращает этот год как год выпуска\n",
        "    3) если ни один из номеров года списка years \n",
        "       не встретился в названии фильма, то возвращается 1900 год\n",
        "\n",
        "3. Запишите год выпуска фильма по алгоритму пункта 2 в новый столбец ‘year’\n",
        "\n",
        "4. Посчитайте средний рейтинг всех фильмов для каждого значения столбца ‘year’ \n",
        "и отсортируйте результат по убыванию рейтинга\n",
        "\n",
        "P/S/ все файлы находятся в архиве «дополнительные файлы к лекции и дз»\n",
        "\n",
        "Важно! При копировании юпитер ноутбука изменяет кавычки ’ на ` , \n",
        "что может способствовать ошибки в коде. \n",
        "В данной ситуации необходимо их просто заменить.\n",
        "'''"
      ],
      "metadata": {
        "id": "r-O80AG7dg38"
      },
      "execution_count": null,
      "outputs": []
    },
    {
      "cell_type": "markdown",
      "source": [
        "###программа"
      ],
      "metadata": {
        "id": "Xclhk-WGdg39"
      }
    },
    {
      "cell_type": "code",
      "source": [
        "import"
      ],
      "metadata": {
        "id": "-DcrQLnZdg3-"
      },
      "execution_count": null,
      "outputs": []
    },
    {
      "cell_type": "code",
      "source": [
        ""
      ],
      "metadata": {
        "id": "V5-YykfOdg3-"
      },
      "execution_count": null,
      "outputs": []
    },
    {
      "cell_type": "code",
      "source": [
        ""
      ],
      "metadata": {
        "id": "UGueqM_0dg3_"
      },
      "execution_count": null,
      "outputs": []
    },
    {
      "cell_type": "code",
      "source": [
        ""
      ],
      "metadata": {
        "id": "-VWZfKdMdg3_"
      },
      "execution_count": null,
      "outputs": []
    },
    {
      "cell_type": "markdown",
      "metadata": {
        "id": "mC7aaBzd-NaE"
      },
      "source": [
        "#Теория: Функции в Pandas, Groupby\n",
        " "
      ]
    },
    {
      "cell_type": "markdown",
      "source": [
        "## Применение любых функций к DF"
      ],
      "metadata": {
        "id": "o-VpeZYb-4Gu"
      }
    },
    {
      "cell_type": "markdown",
      "source": [
        "### Примеры из презентации"
      ],
      "metadata": {
        "id": "rQahO8Nc-i6W"
      }
    },
    {
      "cell_type": "code",
      "execution_count": null,
      "metadata": {
        "id": "49PaymXJ-NaI"
      },
      "outputs": [],
      "source": [
        "import pandas as pd"
      ]
    },
    {
      "cell_type": "code",
      "execution_count": null,
      "metadata": {
        "id": "00bgWHmx-NaJ",
        "outputId": "22619789-4377-4e88-9abe-53117a09c373"
      },
      "outputs": [
        {
          "data": {
            "text/html": [
              "<div>\n",
              "<style scoped>\n",
              "    .dataframe tbody tr th:only-of-type {\n",
              "        vertical-align: middle;\n",
              "    }\n",
              "\n",
              "    .dataframe tbody tr th {\n",
              "        vertical-align: top;\n",
              "    }\n",
              "\n",
              "    .dataframe thead th {\n",
              "        text-align: right;\n",
              "    }\n",
              "</style>\n",
              "<table border=\"1\" class=\"dataframe\">\n",
              "  <thead>\n",
              "    <tr style=\"text-align: right;\">\n",
              "      <th></th>\n",
              "      <th>user_id</th>\n",
              "      <th>clicks</th>\n",
              "      <th>orders</th>\n",
              "    </tr>\n",
              "  </thead>\n",
              "  <tbody>\n",
              "    <tr>\n",
              "      <th>0</th>\n",
              "      <td>1</td>\n",
              "      <td>163</td>\n",
              "      <td>2</td>\n",
              "    </tr>\n",
              "    <tr>\n",
              "      <th>1</th>\n",
              "      <td>2</td>\n",
              "      <td>130</td>\n",
              "      <td>4</td>\n",
              "    </tr>\n",
              "    <tr>\n",
              "      <th>2</th>\n",
              "      <td>3</td>\n",
              "      <td>97</td>\n",
              "      <td>0</td>\n",
              "    </tr>\n",
              "  </tbody>\n",
              "</table>\n",
              "</div>"
            ],
            "text/plain": [
              "   user_id  clicks  orders\n",
              "0        1     163       2\n",
              "1        2     130       4\n",
              "2        3      97       0"
            ]
          },
          "execution_count": 2,
          "metadata": {},
          "output_type": "execute_result"
        }
      ],
      "source": [
        "df = pd.DataFrame({'user_id': [1, 2, 3], 'clicks': [163, 130, 97], 'orders': [2, 4, 0]})\n",
        "df"
      ]
    },
    {
      "cell_type": "code",
      "execution_count": null,
      "metadata": {
        "scrolled": true,
        "id": "2VIDXg6I-NaL",
        "outputId": "5241860a-e1b5-4226-e2d3-9fc566241346"
      },
      "outputs": [
        {
          "data": {
            "text/html": [
              "<div>\n",
              "<style scoped>\n",
              "    .dataframe tbody tr th:only-of-type {\n",
              "        vertical-align: middle;\n",
              "    }\n",
              "\n",
              "    .dataframe tbody tr th {\n",
              "        vertical-align: top;\n",
              "    }\n",
              "\n",
              "    .dataframe thead th {\n",
              "        text-align: right;\n",
              "    }\n",
              "</style>\n",
              "<table border=\"1\" class=\"dataframe\">\n",
              "  <thead>\n",
              "    <tr style=\"text-align: right;\">\n",
              "      <th></th>\n",
              "      <th>user_id</th>\n",
              "      <th>clicks</th>\n",
              "      <th>orders</th>\n",
              "      <th>calculated</th>\n",
              "    </tr>\n",
              "  </thead>\n",
              "  <tbody>\n",
              "    <tr>\n",
              "      <th>0</th>\n",
              "      <td>1</td>\n",
              "      <td>163</td>\n",
              "      <td>2</td>\n",
              "      <td>False</td>\n",
              "    </tr>\n",
              "    <tr>\n",
              "      <th>1</th>\n",
              "      <td>2</td>\n",
              "      <td>130</td>\n",
              "      <td>4</td>\n",
              "      <td>False</td>\n",
              "    </tr>\n",
              "    <tr>\n",
              "      <th>2</th>\n",
              "      <td>3</td>\n",
              "      <td>97</td>\n",
              "      <td>0</td>\n",
              "      <td>True</td>\n",
              "    </tr>\n",
              "  </tbody>\n",
              "</table>\n",
              "</div>"
            ],
            "text/plain": [
              "   user_id  clicks  orders  calculated\n",
              "0        1     163       2       False\n",
              "1        2     130       4       False\n",
              "2        3      97       0        True"
            ]
          },
          "execution_count": 3,
          "metadata": {},
          "output_type": "execute_result"
        }
      ],
      "source": [
        "df = pd.DataFrame({'user_id': [1, 2, 3], 'clicks': [163, 130, 97], 'orders': [2, 4, 0], 'calculated': [False, False, True]})\n",
        "df[['user_id', 'clicks', 'orders', 'calculated']]"
      ]
    },
    {
      "cell_type": "code",
      "execution_count": null,
      "metadata": {
        "id": "KBMaoT-0-NaM"
      },
      "outputs": [],
      "source": [
        "def watcher(param):\n",
        "    \"\"\"Мне только посмотреть\"\"\"\n",
        "    return param == 0"
      ]
    },
    {
      "cell_type": "code",
      "execution_count": null,
      "metadata": {
        "id": "ddMzn-aI-NaN",
        "outputId": "e17544fc-62f8-4e10-9e63-8a8d6abb74dc"
      },
      "outputs": [
        {
          "data": {
            "text/html": [
              "<div>\n",
              "<style scoped>\n",
              "    .dataframe tbody tr th:only-of-type {\n",
              "        vertical-align: middle;\n",
              "    }\n",
              "\n",
              "    .dataframe tbody tr th {\n",
              "        vertical-align: top;\n",
              "    }\n",
              "\n",
              "    .dataframe thead th {\n",
              "        text-align: right;\n",
              "    }\n",
              "</style>\n",
              "<table border=\"1\" class=\"dataframe\">\n",
              "  <thead>\n",
              "    <tr style=\"text-align: right;\">\n",
              "      <th></th>\n",
              "      <th>user_id</th>\n",
              "      <th>clicks</th>\n",
              "      <th>orders</th>\n",
              "      <th>calculated</th>\n",
              "      <th>watcher</th>\n",
              "    </tr>\n",
              "  </thead>\n",
              "  <tbody>\n",
              "    <tr>\n",
              "      <th>0</th>\n",
              "      <td>1</td>\n",
              "      <td>163</td>\n",
              "      <td>2</td>\n",
              "      <td>False</td>\n",
              "      <td>False</td>\n",
              "    </tr>\n",
              "    <tr>\n",
              "      <th>1</th>\n",
              "      <td>2</td>\n",
              "      <td>130</td>\n",
              "      <td>4</td>\n",
              "      <td>False</td>\n",
              "      <td>False</td>\n",
              "    </tr>\n",
              "    <tr>\n",
              "      <th>2</th>\n",
              "      <td>3</td>\n",
              "      <td>97</td>\n",
              "      <td>0</td>\n",
              "      <td>True</td>\n",
              "      <td>True</td>\n",
              "    </tr>\n",
              "  </tbody>\n",
              "</table>\n",
              "</div>"
            ],
            "text/plain": [
              "   user_id  clicks  orders  calculated  watcher\n",
              "0        1     163       2       False    False\n",
              "1        2     130       4       False    False\n",
              "2        3      97       0        True     True"
            ]
          },
          "execution_count": 5,
          "metadata": {},
          "output_type": "execute_result"
        }
      ],
      "source": [
        "df['watcher'] = df['orders'].apply(watcher)\n",
        "df"
      ]
    },
    {
      "cell_type": "markdown",
      "metadata": {
        "id": "02auTpEu-NaN"
      },
      "source": [
        "Применяем метод apply к одному столбцу. Сейчас в переменную функции передаются значения одного столбца"
      ]
    },
    {
      "cell_type": "code",
      "execution_count": null,
      "metadata": {
        "id": "gByU4cm3-NaO"
      },
      "outputs": [],
      "source": [
        "def conversion(row):\n",
        "    \"\"\"Подсчет конверсии переходов в покупки\"\"\"\n",
        "    return row['orders'] / row['clicks']"
      ]
    },
    {
      "cell_type": "markdown",
      "metadata": {
        "id": "33z3n8kb-NaO"
      },
      "source": [
        "### Как потестировать функцию со значениями одной строки"
      ]
    },
    {
      "cell_type": "code",
      "execution_count": null,
      "metadata": {
        "id": "0G0Wghhv-NaO",
        "outputId": "bd2dd6b0-a5da-47a6-a8c1-50d236deb158"
      },
      "outputs": [
        {
          "data": {
            "text/plain": [
              "0    0.01227\n",
              "dtype: float64"
            ]
          },
          "execution_count": 7,
          "metadata": {},
          "output_type": "execute_result"
        }
      ],
      "source": [
        "row1 = pd.DataFrame({'clicks': [163], \n",
        "                     'orders': [2], \n",
        "                     'user_id': [1]})\n",
        "conversion(row1)"
      ]
    },
    {
      "cell_type": "code",
      "execution_count": null,
      "metadata": {
        "id": "f8HxmlTL-NaP",
        "outputId": "fdac5401-6f87-46de-c9e9-326c4f18e04b"
      },
      "outputs": [
        {
          "data": {
            "text/html": [
              "<div>\n",
              "<style scoped>\n",
              "    .dataframe tbody tr th:only-of-type {\n",
              "        vertical-align: middle;\n",
              "    }\n",
              "\n",
              "    .dataframe tbody tr th {\n",
              "        vertical-align: top;\n",
              "    }\n",
              "\n",
              "    .dataframe thead th {\n",
              "        text-align: right;\n",
              "    }\n",
              "</style>\n",
              "<table border=\"1\" class=\"dataframe\">\n",
              "  <thead>\n",
              "    <tr style=\"text-align: right;\">\n",
              "      <th></th>\n",
              "      <th>clicks</th>\n",
              "      <th>orders</th>\n",
              "      <th>user_id</th>\n",
              "    </tr>\n",
              "  </thead>\n",
              "  <tbody>\n",
              "    <tr>\n",
              "      <th>0</th>\n",
              "      <td>163</td>\n",
              "      <td>2</td>\n",
              "      <td>1</td>\n",
              "    </tr>\n",
              "  </tbody>\n",
              "</table>\n",
              "</div>"
            ],
            "text/plain": [
              "   clicks  orders  user_id\n",
              "0     163       2        1"
            ]
          },
          "execution_count": 11,
          "metadata": {},
          "output_type": "execute_result"
        }
      ],
      "source": [
        "row1"
      ]
    },
    {
      "cell_type": "markdown",
      "metadata": {
        "id": "wdwhUOMP-NaQ"
      },
      "source": [
        "Применяем метод apply к датафрейму. В переменную функции передаются строки целиком"
      ]
    },
    {
      "cell_type": "code",
      "execution_count": null,
      "metadata": {
        "id": "H3C53PLM-NaQ",
        "outputId": "7ac4a537-4fc5-4b2d-a6f0-8fc9d9f3cb06"
      },
      "outputs": [
        {
          "data": {
            "text/html": [
              "<div>\n",
              "<style scoped>\n",
              "    .dataframe tbody tr th:only-of-type {\n",
              "        vertical-align: middle;\n",
              "    }\n",
              "\n",
              "    .dataframe tbody tr th {\n",
              "        vertical-align: top;\n",
              "    }\n",
              "\n",
              "    .dataframe thead th {\n",
              "        text-align: right;\n",
              "    }\n",
              "</style>\n",
              "<table border=\"1\" class=\"dataframe\">\n",
              "  <thead>\n",
              "    <tr style=\"text-align: right;\">\n",
              "      <th></th>\n",
              "      <th>user_id</th>\n",
              "      <th>clicks</th>\n",
              "      <th>orders</th>\n",
              "    </tr>\n",
              "  </thead>\n",
              "  <tbody>\n",
              "    <tr>\n",
              "      <th>0</th>\n",
              "      <td>1</td>\n",
              "      <td>163</td>\n",
              "      <td>2</td>\n",
              "    </tr>\n",
              "    <tr>\n",
              "      <th>1</th>\n",
              "      <td>2</td>\n",
              "      <td>130</td>\n",
              "      <td>4</td>\n",
              "    </tr>\n",
              "    <tr>\n",
              "      <th>2</th>\n",
              "      <td>3</td>\n",
              "      <td>97</td>\n",
              "      <td>0</td>\n",
              "    </tr>\n",
              "  </tbody>\n",
              "</table>\n",
              "</div>"
            ],
            "text/plain": [
              "   user_id  clicks  orders\n",
              "0        1     163       2\n",
              "1        2     130       4\n",
              "2        3      97       0"
            ]
          },
          "execution_count": 8,
          "metadata": {},
          "output_type": "execute_result"
        }
      ],
      "source": [
        "df = pd.DataFrame({'user_id': [1, 2, 3], 'clicks': [163, 130, 97], 'orders': [2, 4, 0]})\n",
        "df[['user_id', 'clicks', 'orders']]"
      ]
    },
    {
      "cell_type": "code",
      "execution_count": null,
      "metadata": {
        "id": "nM5AQ7bP-NaR"
      },
      "outputs": [],
      "source": [
        "df['conversion'] = df.apply(conversion, axis=1)"
      ]
    },
    {
      "cell_type": "code",
      "execution_count": null,
      "metadata": {
        "id": "V1mBO0bH-NaR",
        "outputId": "fb6d16b3-c9a9-4a05-8fb2-4970a998363c"
      },
      "outputs": [
        {
          "data": {
            "text/html": [
              "<div>\n",
              "<style scoped>\n",
              "    .dataframe tbody tr th:only-of-type {\n",
              "        vertical-align: middle;\n",
              "    }\n",
              "\n",
              "    .dataframe tbody tr th {\n",
              "        vertical-align: top;\n",
              "    }\n",
              "\n",
              "    .dataframe thead th {\n",
              "        text-align: right;\n",
              "    }\n",
              "</style>\n",
              "<table border=\"1\" class=\"dataframe\">\n",
              "  <thead>\n",
              "    <tr style=\"text-align: right;\">\n",
              "      <th></th>\n",
              "      <th>user_id</th>\n",
              "      <th>clicks</th>\n",
              "      <th>orders</th>\n",
              "      <th>conversion</th>\n",
              "    </tr>\n",
              "  </thead>\n",
              "  <tbody>\n",
              "    <tr>\n",
              "      <th>0</th>\n",
              "      <td>1</td>\n",
              "      <td>163</td>\n",
              "      <td>2</td>\n",
              "      <td>0.012270</td>\n",
              "    </tr>\n",
              "    <tr>\n",
              "      <th>1</th>\n",
              "      <td>2</td>\n",
              "      <td>130</td>\n",
              "      <td>4</td>\n",
              "      <td>0.030769</td>\n",
              "    </tr>\n",
              "    <tr>\n",
              "      <th>2</th>\n",
              "      <td>3</td>\n",
              "      <td>97</td>\n",
              "      <td>0</td>\n",
              "      <td>0.000000</td>\n",
              "    </tr>\n",
              "  </tbody>\n",
              "</table>\n",
              "</div>"
            ],
            "text/plain": [
              "   user_id  clicks  orders  conversion\n",
              "0        1     163       2    0.012270\n",
              "1        2     130       4    0.030769\n",
              "2        3      97       0    0.000000"
            ]
          },
          "execution_count": 10,
          "metadata": {},
          "output_type": "execute_result"
        }
      ],
      "source": [
        "df[['user_id', 'clicks', 'orders', 'conversion']]"
      ]
    },
    {
      "cell_type": "markdown",
      "metadata": {
        "id": "Y23dMfwN-NaS"
      },
      "source": [
        "### Анализ рекламных кампаний"
      ]
    },
    {
      "cell_type": "code",
      "execution_count": null,
      "metadata": {
        "id": "TDv13ySp-NaS"
      },
      "outputs": [],
      "source": [
        "import pandas as pd"
      ]
    },
    {
      "cell_type": "code",
      "execution_count": null,
      "metadata": {
        "scrolled": true,
        "id": "DhOjFnGu-NaS",
        "outputId": "e5a97aca-26d3-437b-cd5a-b358cd46a73f"
      },
      "outputs": [
        {
          "data": {
            "text/html": [
              "<div>\n",
              "<style scoped>\n",
              "    .dataframe tbody tr th:only-of-type {\n",
              "        vertical-align: middle;\n",
              "    }\n",
              "\n",
              "    .dataframe tbody tr th {\n",
              "        vertical-align: top;\n",
              "    }\n",
              "\n",
              "    .dataframe thead th {\n",
              "        text-align: right;\n",
              "    }\n",
              "</style>\n",
              "<table border=\"1\" class=\"dataframe\">\n",
              "  <thead>\n",
              "    <tr style=\"text-align: right;\">\n",
              "      <th></th>\n",
              "      <th>Название группы</th>\n",
              "      <th>Фраза (с минус-словами)</th>\n",
              "      <th>Продуктивность</th>\n",
              "      <th>ID объявления</th>\n",
              "      <th>Заголовок</th>\n",
              "      <th>Текст</th>\n",
              "      <th>Ссылка</th>\n",
              "    </tr>\n",
              "  </thead>\n",
              "  <tbody>\n",
              "    <tr>\n",
              "      <th>0</th>\n",
              "      <td>мрт менделеевская</td>\n",
              "      <td>\"!мрт !менделеевская\"</td>\n",
              "      <td>4.5</td>\n",
              "      <td>2101704995</td>\n",
              "      <td>МРТ на Менделеевской от 2000₽</td>\n",
              "      <td>24 часа. МРТ в день обращения. Консультация вр...</td>\n",
              "      <td>https://awesome-site.ru/?utm_source=yandex&amp;utm...</td>\n",
              "    </tr>\n",
              "    <tr>\n",
              "      <th>1</th>\n",
              "      <td>мрт цао</td>\n",
              "      <td>\"мрт менделеевская\"</td>\n",
              "      <td>4.5</td>\n",
              "      <td>2101704995</td>\n",
              "      <td>МРТ на Менделеевской от 2000₽</td>\n",
              "      <td>24 часа. МРТ в день обращения. Консультация вр...</td>\n",
              "      <td>https://awesome-site.ru/?utm_source=yandex&amp;utm...</td>\n",
              "    </tr>\n",
              "    <tr>\n",
              "      <th>2</th>\n",
              "      <td>мрт цао</td>\n",
              "      <td>мрт менделеевская -головы -позвоночника -сдела...</td>\n",
              "      <td>7.4</td>\n",
              "      <td>2101704995</td>\n",
              "      <td>МРТ на Менделеевской от 2000₽</td>\n",
              "      <td>24 часа. МРТ в день обращения. Консультация вр...</td>\n",
              "      <td>https://awesome-site.ru/?utm_source=yandex&amp;utm...</td>\n",
              "    </tr>\n",
              "    <tr>\n",
              "      <th>3</th>\n",
              "      <td>мрт цао</td>\n",
              "      <td>\"!мрт !цао\"</td>\n",
              "      <td>5.0</td>\n",
              "      <td>2101704999</td>\n",
              "      <td>МРТ в ЦАО от 2000₽. Звоните!</td>\n",
              "      <td>24 часа. МРТ в день обращения. Консультация вр...</td>\n",
              "      <td>https://awesome-site.ru/?utm_source=yandex&amp;utm...</td>\n",
              "    </tr>\n",
              "    <tr>\n",
              "      <th>4</th>\n",
              "      <td>мрт сао</td>\n",
              "      <td>\"мрт цао\"</td>\n",
              "      <td>5.0</td>\n",
              "      <td>2101704999</td>\n",
              "      <td>МРТ в ЦАО от 2000₽. Звоните!</td>\n",
              "      <td>24 часа. МРТ в день обращения. Консультация вр...</td>\n",
              "      <td>https://awesome-site.ru/?utm_source=yandex&amp;utm...</td>\n",
              "    </tr>\n",
              "  </tbody>\n",
              "</table>\n",
              "</div>"
            ],
            "text/plain": [
              "     Название группы                            Фраза (с минус-словами)  \\\n",
              "0  мрт менделеевская                              \"!мрт !менделеевская\"   \n",
              "1            мрт цао                                \"мрт менделеевская\"   \n",
              "2            мрт цао  мрт менделеевская -головы -позвоночника -сдела...   \n",
              "3            мрт цао                                        \"!мрт !цао\"   \n",
              "4            мрт сао                                          \"мрт цао\"   \n",
              "\n",
              "   Продуктивность  ID объявления                      Заголовок  \\\n",
              "0             4.5     2101704995  МРТ на Менделеевской от 2000₽   \n",
              "1             4.5     2101704995  МРТ на Менделеевской от 2000₽   \n",
              "2             7.4     2101704995  МРТ на Менделеевской от 2000₽   \n",
              "3             5.0     2101704999   МРТ в ЦАО от 2000₽. Звоните!   \n",
              "4             5.0     2101704999   МРТ в ЦАО от 2000₽. Звоните!   \n",
              "\n",
              "                                               Текст  \\\n",
              "0  24 часа. МРТ в день обращения. Консультация вр...   \n",
              "1  24 часа. МРТ в день обращения. Консультация вр...   \n",
              "2  24 часа. МРТ в день обращения. Консультация вр...   \n",
              "3  24 часа. МРТ в день обращения. Консультация вр...   \n",
              "4  24 часа. МРТ в день обращения. Консультация вр...   \n",
              "\n",
              "                                              Ссылка  \n",
              "0  https://awesome-site.ru/?utm_source=yandex&utm...  \n",
              "1  https://awesome-site.ru/?utm_source=yandex&utm...  \n",
              "2  https://awesome-site.ru/?utm_source=yandex&utm...  \n",
              "3  https://awesome-site.ru/?utm_source=yandex&utm...  \n",
              "4  https://awesome-site.ru/?utm_source=yandex&utm...  "
            ]
          },
          "execution_count": 13,
          "metadata": {},
          "output_type": "execute_result"
        }
      ],
      "source": [
        "stats = pd.read_excel('ad_campaigns.xlsx')\n",
        "stats.head()"
      ]
    },
    {
      "cell_type": "code",
      "execution_count": null,
      "metadata": {
        "scrolled": true,
        "id": "dsyz0aUn-NaT",
        "outputId": "f957c4d0-d45c-4e4c-b87f-35115c3d0f79"
      },
      "outputs": [
        {
          "data": {
            "text/html": [
              "<div>\n",
              "<style scoped>\n",
              "    .dataframe tbody tr th:only-of-type {\n",
              "        vertical-align: middle;\n",
              "    }\n",
              "\n",
              "    .dataframe tbody tr th {\n",
              "        vertical-align: top;\n",
              "    }\n",
              "\n",
              "    .dataframe thead th {\n",
              "        text-align: right;\n",
              "    }\n",
              "</style>\n",
              "<table border=\"1\" class=\"dataframe\">\n",
              "  <thead>\n",
              "    <tr style=\"text-align: right;\">\n",
              "      <th></th>\n",
              "      <th>group</th>\n",
              "      <th>phrase</th>\n",
              "      <th>effect</th>\n",
              "      <th>ad_id</th>\n",
              "      <th>title</th>\n",
              "      <th>text</th>\n",
              "      <th>link</th>\n",
              "    </tr>\n",
              "  </thead>\n",
              "  <tbody>\n",
              "    <tr>\n",
              "      <th>0</th>\n",
              "      <td>мрт менделеевская</td>\n",
              "      <td>\"!мрт !менделеевская\"</td>\n",
              "      <td>4.5</td>\n",
              "      <td>2101704995</td>\n",
              "      <td>МРТ на Менделеевской от 2000₽</td>\n",
              "      <td>24 часа. МРТ в день обращения. Консультация вр...</td>\n",
              "      <td>https://awesome-site.ru/?utm_source=yandex&amp;utm...</td>\n",
              "    </tr>\n",
              "    <tr>\n",
              "      <th>1</th>\n",
              "      <td>мрт цао</td>\n",
              "      <td>\"мрт менделеевская\"</td>\n",
              "      <td>4.5</td>\n",
              "      <td>2101704995</td>\n",
              "      <td>МРТ на Менделеевской от 2000₽</td>\n",
              "      <td>24 часа. МРТ в день обращения. Консультация вр...</td>\n",
              "      <td>https://awesome-site.ru/?utm_source=yandex&amp;utm...</td>\n",
              "    </tr>\n",
              "    <tr>\n",
              "      <th>2</th>\n",
              "      <td>мрт цао</td>\n",
              "      <td>мрт менделеевская -головы -позвоночника -сдела...</td>\n",
              "      <td>7.4</td>\n",
              "      <td>2101704995</td>\n",
              "      <td>МРТ на Менделеевской от 2000₽</td>\n",
              "      <td>24 часа. МРТ в день обращения. Консультация вр...</td>\n",
              "      <td>https://awesome-site.ru/?utm_source=yandex&amp;utm...</td>\n",
              "    </tr>\n",
              "    <tr>\n",
              "      <th>3</th>\n",
              "      <td>мрт цао</td>\n",
              "      <td>\"!мрт !цао\"</td>\n",
              "      <td>5.0</td>\n",
              "      <td>2101704999</td>\n",
              "      <td>МРТ в ЦАО от 2000₽. Звоните!</td>\n",
              "      <td>24 часа. МРТ в день обращения. Консультация вр...</td>\n",
              "      <td>https://awesome-site.ru/?utm_source=yandex&amp;utm...</td>\n",
              "    </tr>\n",
              "    <tr>\n",
              "      <th>4</th>\n",
              "      <td>мрт сао</td>\n",
              "      <td>\"мрт цао\"</td>\n",
              "      <td>5.0</td>\n",
              "      <td>2101704999</td>\n",
              "      <td>МРТ в ЦАО от 2000₽. Звоните!</td>\n",
              "      <td>24 часа. МРТ в день обращения. Консультация вр...</td>\n",
              "      <td>https://awesome-site.ru/?utm_source=yandex&amp;utm...</td>\n",
              "    </tr>\n",
              "  </tbody>\n",
              "</table>\n",
              "</div>"
            ],
            "text/plain": [
              "               group                                             phrase  \\\n",
              "0  мрт менделеевская                              \"!мрт !менделеевская\"   \n",
              "1            мрт цао                                \"мрт менделеевская\"   \n",
              "2            мрт цао  мрт менделеевская -головы -позвоночника -сдела...   \n",
              "3            мрт цао                                        \"!мрт !цао\"   \n",
              "4            мрт сао                                          \"мрт цао\"   \n",
              "\n",
              "   effect       ad_id                          title  \\\n",
              "0     4.5  2101704995  МРТ на Менделеевской от 2000₽   \n",
              "1     4.5  2101704995  МРТ на Менделеевской от 2000₽   \n",
              "2     7.4  2101704995  МРТ на Менделеевской от 2000₽   \n",
              "3     5.0  2101704999   МРТ в ЦАО от 2000₽. Звоните!   \n",
              "4     5.0  2101704999   МРТ в ЦАО от 2000₽. Звоните!   \n",
              "\n",
              "                                                text  \\\n",
              "0  24 часа. МРТ в день обращения. Консультация вр...   \n",
              "1  24 часа. МРТ в день обращения. Консультация вр...   \n",
              "2  24 часа. МРТ в день обращения. Консультация вр...   \n",
              "3  24 часа. МРТ в день обращения. Консультация вр...   \n",
              "4  24 часа. МРТ в день обращения. Консультация вр...   \n",
              "\n",
              "                                                link  \n",
              "0  https://awesome-site.ru/?utm_source=yandex&utm...  \n",
              "1  https://awesome-site.ru/?utm_source=yandex&utm...  \n",
              "2  https://awesome-site.ru/?utm_source=yandex&utm...  \n",
              "3  https://awesome-site.ru/?utm_source=yandex&utm...  \n",
              "4  https://awesome-site.ru/?utm_source=yandex&utm...  "
            ]
          },
          "execution_count": 14,
          "metadata": {},
          "output_type": "execute_result"
        }
      ],
      "source": [
        "stats.columns = ['group', 'phrase', 'effect', 'ad_id', 'title', 'text', 'link']\n",
        "stats.head()"
      ]
    },
    {
      "cell_type": "markdown",
      "metadata": {
        "id": "6VEJyU4H-NaT"
      },
      "source": [
        "### Lambda-функции\n",
        "Хотим посчитать распределение количества слов в столбце с фразами"
      ]
    },
    {
      "cell_type": "code",
      "execution_count": null,
      "metadata": {
        "id": "TUzcd5Df-NaT"
      },
      "outputs": [],
      "source": [
        "phrase = 'МРТ на Менделеевской от 2000'"
      ]
    },
    {
      "cell_type": "code",
      "execution_count": null,
      "metadata": {
        "id": "nqniUq68-NaU",
        "outputId": "c5d17fba-eba9-4dc0-ed19-20578a9bbb7b"
      },
      "outputs": [
        {
          "data": {
            "text/plain": [
              "['МРТ', 'на', 'Менделеевской', 'от', '2000']"
            ]
          },
          "execution_count": 16,
          "metadata": {},
          "output_type": "execute_result"
        }
      ],
      "source": [
        "phrase.split(' ')"
      ]
    },
    {
      "cell_type": "code",
      "execution_count": null,
      "metadata": {
        "id": "7x2bHR3c-NaU",
        "outputId": "0852763b-cd06-4fb8-cf31-6ec87cd00b1f"
      },
      "outputs": [
        {
          "data": {
            "text/plain": [
              "5"
            ]
          },
          "execution_count": 17,
          "metadata": {},
          "output_type": "execute_result"
        }
      ],
      "source": [
        "len(phrase.split(' '))"
      ]
    },
    {
      "cell_type": "code",
      "execution_count": null,
      "metadata": {
        "id": "6Ji6Twav-NaV"
      },
      "outputs": [],
      "source": [
        "def word_count(phrase):\n",
        "    return len(phrase.split(' '))"
      ]
    },
    {
      "cell_type": "code",
      "execution_count": null,
      "metadata": {
        "id": "TWiKhr_A-NaV",
        "outputId": "19d95934-5267-429b-ac1f-01a81a84331f"
      },
      "outputs": [
        {
          "data": {
            "text/plain": [
              "5"
            ]
          },
          "execution_count": 19,
          "metadata": {},
          "output_type": "execute_result"
        }
      ],
      "source": [
        "word_count('МРТ на Менделеевской от 2000')"
      ]
    },
    {
      "cell_type": "code",
      "execution_count": null,
      "metadata": {
        "id": "uEmjh4rx-NaV"
      },
      "outputs": [],
      "source": [
        "word_count = lambda phrase: len(phrase.split(' '))"
      ]
    },
    {
      "cell_type": "code",
      "execution_count": null,
      "metadata": {
        "id": "B56k4D1--NaW",
        "outputId": "37f51d2f-4d24-41f9-b080-049fc22bb434"
      },
      "outputs": [
        {
          "data": {
            "text/html": [
              "<div>\n",
              "<style scoped>\n",
              "    .dataframe tbody tr th:only-of-type {\n",
              "        vertical-align: middle;\n",
              "    }\n",
              "\n",
              "    .dataframe tbody tr th {\n",
              "        vertical-align: top;\n",
              "    }\n",
              "\n",
              "    .dataframe thead th {\n",
              "        text-align: right;\n",
              "    }\n",
              "</style>\n",
              "<table border=\"1\" class=\"dataframe\">\n",
              "  <thead>\n",
              "    <tr style=\"text-align: right;\">\n",
              "      <th></th>\n",
              "      <th>group</th>\n",
              "      <th>phrase</th>\n",
              "      <th>effect</th>\n",
              "      <th>ad_id</th>\n",
              "      <th>title</th>\n",
              "      <th>text</th>\n",
              "      <th>link</th>\n",
              "      <th>word_count</th>\n",
              "    </tr>\n",
              "  </thead>\n",
              "  <tbody>\n",
              "    <tr>\n",
              "      <th>0</th>\n",
              "      <td>мрт менделеевская</td>\n",
              "      <td>\"!мрт !менделеевская\"</td>\n",
              "      <td>4.5</td>\n",
              "      <td>2101704995</td>\n",
              "      <td>МРТ на Менделеевской от 2000₽</td>\n",
              "      <td>24 часа. МРТ в день обращения. Консультация вр...</td>\n",
              "      <td>https://awesome-site.ru/?utm_source=yandex&amp;utm...</td>\n",
              "      <td>2</td>\n",
              "    </tr>\n",
              "    <tr>\n",
              "      <th>1</th>\n",
              "      <td>мрт цао</td>\n",
              "      <td>\"мрт менделеевская\"</td>\n",
              "      <td>4.5</td>\n",
              "      <td>2101704995</td>\n",
              "      <td>МРТ на Менделеевской от 2000₽</td>\n",
              "      <td>24 часа. МРТ в день обращения. Консультация вр...</td>\n",
              "      <td>https://awesome-site.ru/?utm_source=yandex&amp;utm...</td>\n",
              "      <td>2</td>\n",
              "    </tr>\n",
              "    <tr>\n",
              "      <th>2</th>\n",
              "      <td>мрт цао</td>\n",
              "      <td>мрт менделеевская -головы -позвоночника -сдела...</td>\n",
              "      <td>7.4</td>\n",
              "      <td>2101704995</td>\n",
              "      <td>МРТ на Менделеевской от 2000₽</td>\n",
              "      <td>24 часа. МРТ в день обращения. Консультация вр...</td>\n",
              "      <td>https://awesome-site.ru/?utm_source=yandex&amp;utm...</td>\n",
              "      <td>6</td>\n",
              "    </tr>\n",
              "    <tr>\n",
              "      <th>3</th>\n",
              "      <td>мрт цао</td>\n",
              "      <td>\"!мрт !цао\"</td>\n",
              "      <td>5.0</td>\n",
              "      <td>2101704999</td>\n",
              "      <td>МРТ в ЦАО от 2000₽. Звоните!</td>\n",
              "      <td>24 часа. МРТ в день обращения. Консультация вр...</td>\n",
              "      <td>https://awesome-site.ru/?utm_source=yandex&amp;utm...</td>\n",
              "      <td>2</td>\n",
              "    </tr>\n",
              "    <tr>\n",
              "      <th>4</th>\n",
              "      <td>мрт сао</td>\n",
              "      <td>\"мрт цао\"</td>\n",
              "      <td>5.0</td>\n",
              "      <td>2101704999</td>\n",
              "      <td>МРТ в ЦАО от 2000₽. Звоните!</td>\n",
              "      <td>24 часа. МРТ в день обращения. Консультация вр...</td>\n",
              "      <td>https://awesome-site.ru/?utm_source=yandex&amp;utm...</td>\n",
              "      <td>2</td>\n",
              "    </tr>\n",
              "  </tbody>\n",
              "</table>\n",
              "</div>"
            ],
            "text/plain": [
              "               group                                             phrase  \\\n",
              "0  мрт менделеевская                              \"!мрт !менделеевская\"   \n",
              "1            мрт цао                                \"мрт менделеевская\"   \n",
              "2            мрт цао  мрт менделеевская -головы -позвоночника -сдела...   \n",
              "3            мрт цао                                        \"!мрт !цао\"   \n",
              "4            мрт сао                                          \"мрт цао\"   \n",
              "\n",
              "   effect       ad_id                          title  \\\n",
              "0     4.5  2101704995  МРТ на Менделеевской от 2000₽   \n",
              "1     4.5  2101704995  МРТ на Менделеевской от 2000₽   \n",
              "2     7.4  2101704995  МРТ на Менделеевской от 2000₽   \n",
              "3     5.0  2101704999   МРТ в ЦАО от 2000₽. Звоните!   \n",
              "4     5.0  2101704999   МРТ в ЦАО от 2000₽. Звоните!   \n",
              "\n",
              "                                                text  \\\n",
              "0  24 часа. МРТ в день обращения. Консультация вр...   \n",
              "1  24 часа. МРТ в день обращения. Консультация вр...   \n",
              "2  24 часа. МРТ в день обращения. Консультация вр...   \n",
              "3  24 часа. МРТ в день обращения. Консультация вр...   \n",
              "4  24 часа. МРТ в день обращения. Консультация вр...   \n",
              "\n",
              "                                                link  word_count  \n",
              "0  https://awesome-site.ru/?utm_source=yandex&utm...           2  \n",
              "1  https://awesome-site.ru/?utm_source=yandex&utm...           2  \n",
              "2  https://awesome-site.ru/?utm_source=yandex&utm...           6  \n",
              "3  https://awesome-site.ru/?utm_source=yandex&utm...           2  \n",
              "4  https://awesome-site.ru/?utm_source=yandex&utm...           2  "
            ]
          },
          "execution_count": 20,
          "metadata": {},
          "output_type": "execute_result"
        }
      ],
      "source": [
        "stats['word_count'] = stats['phrase'].apply(lambda word: len(word.split(' ')))\n",
        "stats.head()"
      ]
    },
    {
      "cell_type": "code",
      "execution_count": null,
      "metadata": {
        "id": "e1DrMPT0-NaW",
        "outputId": "2fdbf471-b9d4-4986-8aca-0eab9905dd29"
      },
      "outputs": [
        {
          "data": {
            "text/html": [
              "<div>\n",
              "<style scoped>\n",
              "    .dataframe tbody tr th:only-of-type {\n",
              "        vertical-align: middle;\n",
              "    }\n",
              "\n",
              "    .dataframe tbody tr th {\n",
              "        vertical-align: top;\n",
              "    }\n",
              "\n",
              "    .dataframe thead th {\n",
              "        text-align: right;\n",
              "    }\n",
              "</style>\n",
              "<table border=\"1\" class=\"dataframe\">\n",
              "  <thead>\n",
              "    <tr style=\"text-align: right;\">\n",
              "      <th></th>\n",
              "      <th>group</th>\n",
              "      <th>phrase</th>\n",
              "      <th>effect</th>\n",
              "      <th>ad_id</th>\n",
              "      <th>title</th>\n",
              "      <th>text</th>\n",
              "      <th>link</th>\n",
              "      <th>word_count</th>\n",
              "    </tr>\n",
              "  </thead>\n",
              "  <tbody>\n",
              "    <tr>\n",
              "      <th>0</th>\n",
              "      <td>мрт менделеевская</td>\n",
              "      <td>\"!мрт !менделеевская\"</td>\n",
              "      <td>4.5</td>\n",
              "      <td>2101704995</td>\n",
              "      <td>МРТ на Менделеевской от 2000₽</td>\n",
              "      <td>24 часа. МРТ в день обращения. Консультация вр...</td>\n",
              "      <td>https://awesome-site.ru/?utm_source=yandex&amp;utm...</td>\n",
              "      <td>2</td>\n",
              "    </tr>\n",
              "    <tr>\n",
              "      <th>1</th>\n",
              "      <td>мрт цао</td>\n",
              "      <td>\"мрт менделеевская\"</td>\n",
              "      <td>4.5</td>\n",
              "      <td>2101704995</td>\n",
              "      <td>МРТ на Менделеевской от 2000₽</td>\n",
              "      <td>24 часа. МРТ в день обращения. Консультация вр...</td>\n",
              "      <td>https://awesome-site.ru/?utm_source=yandex&amp;utm...</td>\n",
              "      <td>2</td>\n",
              "    </tr>\n",
              "    <tr>\n",
              "      <th>2</th>\n",
              "      <td>мрт цао</td>\n",
              "      <td>мрт менделеевская -головы -позвоночника -сдела...</td>\n",
              "      <td>7.4</td>\n",
              "      <td>2101704995</td>\n",
              "      <td>МРТ на Менделеевской от 2000₽</td>\n",
              "      <td>24 часа. МРТ в день обращения. Консультация вр...</td>\n",
              "      <td>https://awesome-site.ru/?utm_source=yandex&amp;utm...</td>\n",
              "      <td>6</td>\n",
              "    </tr>\n",
              "    <tr>\n",
              "      <th>3</th>\n",
              "      <td>мрт цао</td>\n",
              "      <td>\"!мрт !цао\"</td>\n",
              "      <td>5.0</td>\n",
              "      <td>2101704999</td>\n",
              "      <td>МРТ в ЦАО от 2000₽. Звоните!</td>\n",
              "      <td>24 часа. МРТ в день обращения. Консультация вр...</td>\n",
              "      <td>https://awesome-site.ru/?utm_source=yandex&amp;utm...</td>\n",
              "      <td>2</td>\n",
              "    </tr>\n",
              "    <tr>\n",
              "      <th>4</th>\n",
              "      <td>мрт сао</td>\n",
              "      <td>\"мрт цао\"</td>\n",
              "      <td>5.0</td>\n",
              "      <td>2101704999</td>\n",
              "      <td>МРТ в ЦАО от 2000₽. Звоните!</td>\n",
              "      <td>24 часа. МРТ в день обращения. Консультация вр...</td>\n",
              "      <td>https://awesome-site.ru/?utm_source=yandex&amp;utm...</td>\n",
              "      <td>2</td>\n",
              "    </tr>\n",
              "  </tbody>\n",
              "</table>\n",
              "</div>"
            ],
            "text/plain": [
              "               group                                             phrase  \\\n",
              "0  мрт менделеевская                              \"!мрт !менделеевская\"   \n",
              "1            мрт цао                                \"мрт менделеевская\"   \n",
              "2            мрт цао  мрт менделеевская -головы -позвоночника -сдела...   \n",
              "3            мрт цао                                        \"!мрт !цао\"   \n",
              "4            мрт сао                                          \"мрт цао\"   \n",
              "\n",
              "   effect       ad_id                          title  \\\n",
              "0     4.5  2101704995  МРТ на Менделеевской от 2000₽   \n",
              "1     4.5  2101704995  МРТ на Менделеевской от 2000₽   \n",
              "2     7.4  2101704995  МРТ на Менделеевской от 2000₽   \n",
              "3     5.0  2101704999   МРТ в ЦАО от 2000₽. Звоните!   \n",
              "4     5.0  2101704999   МРТ в ЦАО от 2000₽. Звоните!   \n",
              "\n",
              "                                                text  \\\n",
              "0  24 часа. МРТ в день обращения. Консультация вр...   \n",
              "1  24 часа. МРТ в день обращения. Консультация вр...   \n",
              "2  24 часа. МРТ в день обращения. Консультация вр...   \n",
              "3  24 часа. МРТ в день обращения. Консультация вр...   \n",
              "4  24 часа. МРТ в день обращения. Консультация вр...   \n",
              "\n",
              "                                                link  word_count  \n",
              "0  https://awesome-site.ru/?utm_source=yandex&utm...           2  \n",
              "1  https://awesome-site.ru/?utm_source=yandex&utm...           2  \n",
              "2  https://awesome-site.ru/?utm_source=yandex&utm...           6  \n",
              "3  https://awesome-site.ru/?utm_source=yandex&utm...           2  \n",
              "4  https://awesome-site.ru/?utm_source=yandex&utm...           2  "
            ]
          },
          "execution_count": 21,
          "metadata": {},
          "output_type": "execute_result"
        }
      ],
      "source": [
        "# вариант с передачей всей строчки функции\n",
        "# тут надо обязательно указать параметр axis = 1\n",
        "\n",
        "stats['word_count'] = stats.apply(lambda x: len(x['phrase'].split(' ')), axis=1)\n",
        "stats.head()"
      ]
    },
    {
      "cell_type": "markdown",
      "metadata": {
        "id": "Pd417ZYh-NaW"
      },
      "source": [
        "### Упражнение\n",
        "Напишите отдельную функцию word_count, которая считает количество слов в столбце phrase. Функцию можно применять как к столбцу phrase, так и к строке целиком."
      ]
    },
    {
      "cell_type": "code",
      "execution_count": null,
      "metadata": {
        "id": "LESOhD0i-NaX"
      },
      "outputs": [],
      "source": [
        ""
      ]
    },
    {
      "cell_type": "code",
      "execution_count": null,
      "metadata": {
        "id": "gJGP0DAC-NaX"
      },
      "outputs": [],
      "source": [
        ""
      ]
    },
    {
      "cell_type": "code",
      "execution_count": null,
      "metadata": {
        "id": "oZ6Al87V-NaX"
      },
      "outputs": [],
      "source": [
        ""
      ]
    },
    {
      "cell_type": "markdown",
      "metadata": {
        "id": "EIEpsL8p-NaX"
      },
      "source": [
        "### Произвольные функции\n",
        "В URL кампаний есть названия. С этим надо что-то делать"
      ]
    },
    {
      "cell_type": "code",
      "execution_count": null,
      "metadata": {
        "id": "5RyhfH-0-NaY",
        "outputId": "045533aa-fa98-4085-f4d5-fbb13a22005d"
      },
      "outputs": [
        {
          "data": {
            "text/plain": [
              "3     1129\n",
              "4      529\n",
              "2      189\n",
              "5      137\n",
              "6       84\n",
              "7       38\n",
              "8       30\n",
              "9       12\n",
              "10       6\n",
              "12       2\n",
              "21       1\n",
              "17       1\n",
              "11       1\n",
              "Name: word_count, dtype: int64"
            ]
          },
          "execution_count": 23,
          "metadata": {},
          "output_type": "execute_result"
        }
      ],
      "source": [
        "# обращение к индексу и значениям Series\n",
        "res = stats.word_count.value_counts()\n",
        "res"
      ]
    },
    {
      "cell_type": "code",
      "execution_count": null,
      "metadata": {
        "id": "WdmSzq_y-NaY"
      },
      "outputs": [],
      "source": [
        "res.index[0]"
      ]
    },
    {
      "cell_type": "code",
      "execution_count": null,
      "metadata": {
        "id": "-nL7O2oI-NaY"
      },
      "outputs": [],
      "source": [
        "res.values[0]"
      ]
    },
    {
      "cell_type": "code",
      "execution_count": null,
      "metadata": {
        "id": "KnoJeEzi-NaZ",
        "outputId": "5d25e874-a798-4383-efa9-5ed1384e5ebd"
      },
      "outputs": [
        {
          "data": {
            "text/plain": [
              "'https://awesome-site.ru/?utm_source=yandex&utm_medium=cpc&utm_campaign=a825749b87&utm_content=dev_{device_type}'"
            ]
          },
          "execution_count": 22,
          "metadata": {},
          "output_type": "execute_result"
        }
      ],
      "source": [
        "# пример ссылки\n",
        "url = stats.loc[0, 'link']\n",
        "url"
      ]
    },
    {
      "cell_type": "code",
      "execution_count": null,
      "metadata": {
        "id": "rG1CZ1IA-NaZ"
      },
      "outputs": [],
      "source": [
        "from urllib import parse"
      ]
    },
    {
      "cell_type": "code",
      "execution_count": null,
      "metadata": {
        "id": "GGMqpPrP-NaZ",
        "outputId": "bc0c0139-76e6-4a47-c969-db0dd356a41e"
      },
      "outputs": [
        {
          "data": {
            "text/plain": [
              "SplitResult(scheme='https', netloc='ya.ru', path='/news/sport', query='search=footbal', fragment='abc')"
            ]
          },
          "execution_count": 25,
          "metadata": {},
          "output_type": "execute_result"
        }
      ],
      "source": [
        "parse.urlsplit('https://ya.ru/news/sport?search=footbal#abc')"
      ]
    },
    {
      "cell_type": "code",
      "execution_count": null,
      "metadata": {
        "id": "3w3dBY_p-Naa",
        "outputId": "2a9f79c6-aa04-4180-b8b6-5a3b356e5895"
      },
      "outputs": [
        {
          "data": {
            "text/plain": [
              "'ya.ru'"
            ]
          },
          "execution_count": 26,
          "metadata": {},
          "output_type": "execute_result"
        }
      ],
      "source": [
        "parse.urlsplit('https://ya.ru/news/sport?search=footbal#abc').netloc"
      ]
    },
    {
      "cell_type": "code",
      "execution_count": null,
      "metadata": {
        "id": "32LlN2zB-Naa",
        "outputId": "b8c125b7-15de-4864-918b-0da00a007255"
      },
      "outputs": [
        {
          "data": {
            "text/plain": [
              "SplitResult(scheme='https', netloc='awesome-site.ru', path='/', query='utm_source=yandex&utm_medium=cpc&utm_campaign=a825749b87&utm_content=dev_{device_type}', fragment='')"
            ]
          },
          "execution_count": 27,
          "metadata": {},
          "output_type": "execute_result"
        }
      ],
      "source": [
        "parsed = parse.urlsplit(url)\n",
        "parsed"
      ]
    },
    {
      "cell_type": "code",
      "execution_count": null,
      "metadata": {
        "id": "o1v-3VyR-Nab"
      },
      "outputs": [],
      "source": [
        "# можно конечно вручную\n",
        "parsed.query.split('&')[2].split('=')[1]"
      ]
    },
    {
      "cell_type": "code",
      "execution_count": null,
      "metadata": {
        "id": "fEyd-cE8-Nab"
      },
      "outputs": [],
      "source": [
        "# как доставать значения\n",
        "\n",
        "parsed.netloc"
      ]
    },
    {
      "cell_type": "code",
      "execution_count": null,
      "metadata": {
        "id": "bWj9_aAf-Nab",
        "outputId": "8ab0de67-ff71-4ab2-f71a-325f2b36469c"
      },
      "outputs": [
        {
          "data": {
            "text/plain": [
              "{'utm_source': ['yandex'],\n",
              " 'utm_medium': ['cpc'],\n",
              " 'utm_campaign': ['a825749b87'],\n",
              " 'utm_content': ['dev_{device_type}']}"
            ]
          },
          "execution_count": 28,
          "metadata": {},
          "output_type": "execute_result"
        }
      ],
      "source": [
        "params = parse.parse_qs(parsed.query)\n",
        "params"
      ]
    },
    {
      "cell_type": "code",
      "execution_count": null,
      "metadata": {
        "id": "BIzQV3Qv-Nab",
        "outputId": "ad30a04a-27ff-4923-a8c1-912d7fa41af9"
      },
      "outputs": [
        {
          "data": {
            "text/plain": [
              "'a825749b87'"
            ]
          },
          "execution_count": 29,
          "metadata": {},
          "output_type": "execute_result"
        }
      ],
      "source": [
        "# вот и кампании\n",
        "\n",
        "params['utm_campaign'][0]"
      ]
    },
    {
      "cell_type": "code",
      "execution_count": null,
      "metadata": {
        "id": "ONcNw640-Nac",
        "outputId": "22ff4f08-648f-496d-e414-ac3ae9a94fe9"
      },
      "outputs": [
        {
          "data": {
            "text/plain": [
              "{'a': ['1', '2', '3']}"
            ]
          },
          "execution_count": 30,
          "metadata": {},
          "output_type": "execute_result"
        }
      ],
      "source": [
        "# зачем тут везде списки?\n",
        "\n",
        "url_with_doubles = 'https://awesome-site.ru/?a=1&a=2&a=3'\n",
        "\n",
        "parsed = parse.urlsplit(url_with_doubles)\n",
        "parse.parse_qs(parsed.query)"
      ]
    },
    {
      "cell_type": "code",
      "execution_count": null,
      "metadata": {
        "id": "aIGoFu68-Nac"
      },
      "outputs": [],
      "source": [
        "# оборачиваем все в функцию\n",
        "# в качестве аргумента будет строка датафрейма\n",
        "\n",
        "def campaign_name(row):\n",
        "    \"\"\"Получение названия кампании из ссылки внутри строки row\"\"\"\n",
        "\n",
        "    parsed = parse.urlsplit(row['link'])\n",
        "    params_dict = parse.parse_qs(parsed.query)\n",
        "\n",
        "    return params_dict['utm_campaign'][0]"
      ]
    },
    {
      "cell_type": "code",
      "execution_count": null,
      "metadata": {
        "id": "VXkLp82b-Nac",
        "outputId": "c2aa8fb4-592c-4c34-9530-65eb8b87ab59"
      },
      "outputs": [
        {
          "data": {
            "text/html": [
              "<div>\n",
              "<style scoped>\n",
              "    .dataframe tbody tr th:only-of-type {\n",
              "        vertical-align: middle;\n",
              "    }\n",
              "\n",
              "    .dataframe tbody tr th {\n",
              "        vertical-align: top;\n",
              "    }\n",
              "\n",
              "    .dataframe thead th {\n",
              "        text-align: right;\n",
              "    }\n",
              "</style>\n",
              "<table border=\"1\" class=\"dataframe\">\n",
              "  <thead>\n",
              "    <tr style=\"text-align: right;\">\n",
              "      <th></th>\n",
              "      <th>group</th>\n",
              "      <th>phrase</th>\n",
              "      <th>effect</th>\n",
              "      <th>ad_id</th>\n",
              "      <th>title</th>\n",
              "      <th>text</th>\n",
              "      <th>link</th>\n",
              "      <th>word_count</th>\n",
              "    </tr>\n",
              "  </thead>\n",
              "  <tbody>\n",
              "    <tr>\n",
              "      <th>0</th>\n",
              "      <td>мрт менделеевская</td>\n",
              "      <td>\"!мрт !менделеевская\"</td>\n",
              "      <td>4.5</td>\n",
              "      <td>2101704995</td>\n",
              "      <td>МРТ на Менделеевской от 2000₽</td>\n",
              "      <td>24 часа. МРТ в день обращения. Консультация вр...</td>\n",
              "      <td>https://awesome-site.ru/?utm_source=yandex&amp;utm...</td>\n",
              "      <td>2</td>\n",
              "    </tr>\n",
              "    <tr>\n",
              "      <th>1</th>\n",
              "      <td>мрт цао</td>\n",
              "      <td>\"мрт менделеевская\"</td>\n",
              "      <td>4.5</td>\n",
              "      <td>2101704995</td>\n",
              "      <td>МРТ на Менделеевской от 2000₽</td>\n",
              "      <td>24 часа. МРТ в день обращения. Консультация вр...</td>\n",
              "      <td>https://awesome-site.ru/?utm_source=yandex&amp;utm...</td>\n",
              "      <td>2</td>\n",
              "    </tr>\n",
              "    <tr>\n",
              "      <th>2</th>\n",
              "      <td>мрт цао</td>\n",
              "      <td>мрт менделеевская -головы -позвоночника -сдела...</td>\n",
              "      <td>7.4</td>\n",
              "      <td>2101704995</td>\n",
              "      <td>МРТ на Менделеевской от 2000₽</td>\n",
              "      <td>24 часа. МРТ в день обращения. Консультация вр...</td>\n",
              "      <td>https://awesome-site.ru/?utm_source=yandex&amp;utm...</td>\n",
              "      <td>6</td>\n",
              "    </tr>\n",
              "    <tr>\n",
              "      <th>3</th>\n",
              "      <td>мрт цао</td>\n",
              "      <td>\"!мрт !цао\"</td>\n",
              "      <td>5.0</td>\n",
              "      <td>2101704999</td>\n",
              "      <td>МРТ в ЦАО от 2000₽. Звоните!</td>\n",
              "      <td>24 часа. МРТ в день обращения. Консультация вр...</td>\n",
              "      <td>https://awesome-site.ru/?utm_source=yandex&amp;utm...</td>\n",
              "      <td>2</td>\n",
              "    </tr>\n",
              "    <tr>\n",
              "      <th>4</th>\n",
              "      <td>мрт сао</td>\n",
              "      <td>\"мрт цао\"</td>\n",
              "      <td>5.0</td>\n",
              "      <td>2101704999</td>\n",
              "      <td>МРТ в ЦАО от 2000₽. Звоните!</td>\n",
              "      <td>24 часа. МРТ в день обращения. Консультация вр...</td>\n",
              "      <td>https://awesome-site.ru/?utm_source=yandex&amp;utm...</td>\n",
              "      <td>2</td>\n",
              "    </tr>\n",
              "  </tbody>\n",
              "</table>\n",
              "</div>"
            ],
            "text/plain": [
              "               group                                             phrase  \\\n",
              "0  мрт менделеевская                              \"!мрт !менделеевская\"   \n",
              "1            мрт цао                                \"мрт менделеевская\"   \n",
              "2            мрт цао  мрт менделеевская -головы -позвоночника -сдела...   \n",
              "3            мрт цао                                        \"!мрт !цао\"   \n",
              "4            мрт сао                                          \"мрт цао\"   \n",
              "\n",
              "   effect       ad_id                          title  \\\n",
              "0     4.5  2101704995  МРТ на Менделеевской от 2000₽   \n",
              "1     4.5  2101704995  МРТ на Менделеевской от 2000₽   \n",
              "2     7.4  2101704995  МРТ на Менделеевской от 2000₽   \n",
              "3     5.0  2101704999   МРТ в ЦАО от 2000₽. Звоните!   \n",
              "4     5.0  2101704999   МРТ в ЦАО от 2000₽. Звоните!   \n",
              "\n",
              "                                                text  \\\n",
              "0  24 часа. МРТ в день обращения. Консультация вр...   \n",
              "1  24 часа. МРТ в день обращения. Консультация вр...   \n",
              "2  24 часа. МРТ в день обращения. Консультация вр...   \n",
              "3  24 часа. МРТ в день обращения. Консультация вр...   \n",
              "4  24 часа. МРТ в день обращения. Консультация вр...   \n",
              "\n",
              "                                                link  word_count  \n",
              "0  https://awesome-site.ru/?utm_source=yandex&utm...           2  \n",
              "1  https://awesome-site.ru/?utm_source=yandex&utm...           2  \n",
              "2  https://awesome-site.ru/?utm_source=yandex&utm...           6  \n",
              "3  https://awesome-site.ru/?utm_source=yandex&utm...           2  \n",
              "4  https://awesome-site.ru/?utm_source=yandex&utm...           2  "
            ]
          },
          "execution_count": 32,
          "metadata": {},
          "output_type": "execute_result"
        }
      ],
      "source": [
        "# проверяем датафрейм\n",
        "stats.head()"
      ]
    },
    {
      "cell_type": "code",
      "execution_count": null,
      "metadata": {
        "scrolled": true,
        "id": "3XajPU98-Nad",
        "outputId": "c9e2de19-8099-4684-8c4b-dd1f09ef460f"
      },
      "outputs": [
        {
          "data": {
            "text/html": [
              "<div>\n",
              "<style scoped>\n",
              "    .dataframe tbody tr th:only-of-type {\n",
              "        vertical-align: middle;\n",
              "    }\n",
              "\n",
              "    .dataframe tbody tr th {\n",
              "        vertical-align: top;\n",
              "    }\n",
              "\n",
              "    .dataframe thead th {\n",
              "        text-align: right;\n",
              "    }\n",
              "</style>\n",
              "<table border=\"1\" class=\"dataframe\">\n",
              "  <thead>\n",
              "    <tr style=\"text-align: right;\">\n",
              "      <th></th>\n",
              "      <th>group</th>\n",
              "      <th>phrase</th>\n",
              "      <th>effect</th>\n",
              "      <th>ad_id</th>\n",
              "      <th>title</th>\n",
              "      <th>text</th>\n",
              "      <th>link</th>\n",
              "      <th>word_count</th>\n",
              "      <th>campaign</th>\n",
              "    </tr>\n",
              "  </thead>\n",
              "  <tbody>\n",
              "    <tr>\n",
              "      <th>0</th>\n",
              "      <td>мрт менделеевская</td>\n",
              "      <td>\"!мрт !менделеевская\"</td>\n",
              "      <td>4.5</td>\n",
              "      <td>2101704995</td>\n",
              "      <td>МРТ на Менделеевской от 2000₽</td>\n",
              "      <td>24 часа. МРТ в день обращения. Консультация вр...</td>\n",
              "      <td>https://awesome-site.ru/?utm_source=yandex&amp;utm...</td>\n",
              "      <td>2</td>\n",
              "      <td>a825749b87</td>\n",
              "    </tr>\n",
              "    <tr>\n",
              "      <th>1</th>\n",
              "      <td>мрт цао</td>\n",
              "      <td>\"мрт менделеевская\"</td>\n",
              "      <td>4.5</td>\n",
              "      <td>2101704995</td>\n",
              "      <td>МРТ на Менделеевской от 2000₽</td>\n",
              "      <td>24 часа. МРТ в день обращения. Консультация вр...</td>\n",
              "      <td>https://awesome-site.ru/?utm_source=yandex&amp;utm...</td>\n",
              "      <td>2</td>\n",
              "      <td>a825749b87</td>\n",
              "    </tr>\n",
              "    <tr>\n",
              "      <th>2</th>\n",
              "      <td>мрт цао</td>\n",
              "      <td>мрт менделеевская -головы -позвоночника -сдела...</td>\n",
              "      <td>7.4</td>\n",
              "      <td>2101704995</td>\n",
              "      <td>МРТ на Менделеевской от 2000₽</td>\n",
              "      <td>24 часа. МРТ в день обращения. Консультация вр...</td>\n",
              "      <td>https://awesome-site.ru/?utm_source=yandex&amp;utm...</td>\n",
              "      <td>6</td>\n",
              "      <td>a825749b87</td>\n",
              "    </tr>\n",
              "    <tr>\n",
              "      <th>3</th>\n",
              "      <td>мрт цао</td>\n",
              "      <td>\"!мрт !цао\"</td>\n",
              "      <td>5.0</td>\n",
              "      <td>2101704999</td>\n",
              "      <td>МРТ в ЦАО от 2000₽. Звоните!</td>\n",
              "      <td>24 часа. МРТ в день обращения. Консультация вр...</td>\n",
              "      <td>https://awesome-site.ru/?utm_source=yandex&amp;utm...</td>\n",
              "      <td>2</td>\n",
              "      <td>9cc0c5f6ca</td>\n",
              "    </tr>\n",
              "    <tr>\n",
              "      <th>4</th>\n",
              "      <td>мрт сао</td>\n",
              "      <td>\"мрт цао\"</td>\n",
              "      <td>5.0</td>\n",
              "      <td>2101704999</td>\n",
              "      <td>МРТ в ЦАО от 2000₽. Звоните!</td>\n",
              "      <td>24 часа. МРТ в день обращения. Консультация вр...</td>\n",
              "      <td>https://awesome-site.ru/?utm_source=yandex&amp;utm...</td>\n",
              "      <td>2</td>\n",
              "      <td>9cc0c5f6ca</td>\n",
              "    </tr>\n",
              "  </tbody>\n",
              "</table>\n",
              "</div>"
            ],
            "text/plain": [
              "               group                                             phrase  \\\n",
              "0  мрт менделеевская                              \"!мрт !менделеевская\"   \n",
              "1            мрт цао                                \"мрт менделеевская\"   \n",
              "2            мрт цао  мрт менделеевская -головы -позвоночника -сдела...   \n",
              "3            мрт цао                                        \"!мрт !цао\"   \n",
              "4            мрт сао                                          \"мрт цао\"   \n",
              "\n",
              "   effect       ad_id                          title  \\\n",
              "0     4.5  2101704995  МРТ на Менделеевской от 2000₽   \n",
              "1     4.5  2101704995  МРТ на Менделеевской от 2000₽   \n",
              "2     7.4  2101704995  МРТ на Менделеевской от 2000₽   \n",
              "3     5.0  2101704999   МРТ в ЦАО от 2000₽. Звоните!   \n",
              "4     5.0  2101704999   МРТ в ЦАО от 2000₽. Звоните!   \n",
              "\n",
              "                                                text  \\\n",
              "0  24 часа. МРТ в день обращения. Консультация вр...   \n",
              "1  24 часа. МРТ в день обращения. Консультация вр...   \n",
              "2  24 часа. МРТ в день обращения. Консультация вр...   \n",
              "3  24 часа. МРТ в день обращения. Консультация вр...   \n",
              "4  24 часа. МРТ в день обращения. Консультация вр...   \n",
              "\n",
              "                                                link  word_count    campaign  \n",
              "0  https://awesome-site.ru/?utm_source=yandex&utm...           2  a825749b87  \n",
              "1  https://awesome-site.ru/?utm_source=yandex&utm...           2  a825749b87  \n",
              "2  https://awesome-site.ru/?utm_source=yandex&utm...           6  a825749b87  \n",
              "3  https://awesome-site.ru/?utm_source=yandex&utm...           2  9cc0c5f6ca  \n",
              "4  https://awesome-site.ru/?utm_source=yandex&utm...           2  9cc0c5f6ca  "
            ]
          },
          "execution_count": 33,
          "metadata": {},
          "output_type": "execute_result"
        }
      ],
      "source": [
        "stats['campaign'] = stats.apply(campaign_name, axis=1)\n",
        "stats.head()"
      ]
    },
    {
      "cell_type": "markdown",
      "metadata": {
        "id": "MgOCc8dB-Nad"
      },
      "source": [
        "### Как передать в функцию несколько аргументов"
      ]
    },
    {
      "cell_type": "code",
      "execution_count": null,
      "metadata": {
        "id": "1mx1yC1q-Nad"
      },
      "outputs": [],
      "source": [
        "# как передать несколько аргументов\n",
        "\n",
        "def power_up(row, n):\n",
        "    \"\"\"Возводит значение столбца effect в степень n\"\"\"\n",
        "    return row['effect'] ** n"
      ]
    },
    {
      "cell_type": "code",
      "execution_count": null,
      "metadata": {
        "id": "9ji_T0RK-Nae",
        "outputId": "94f1f4dd-db66-40af-b051-70aacd908017"
      },
      "outputs": [
        {
          "data": {
            "text/html": [
              "<div>\n",
              "<style scoped>\n",
              "    .dataframe tbody tr th:only-of-type {\n",
              "        vertical-align: middle;\n",
              "    }\n",
              "\n",
              "    .dataframe tbody tr th {\n",
              "        vertical-align: top;\n",
              "    }\n",
              "\n",
              "    .dataframe thead th {\n",
              "        text-align: right;\n",
              "    }\n",
              "</style>\n",
              "<table border=\"1\" class=\"dataframe\">\n",
              "  <thead>\n",
              "    <tr style=\"text-align: right;\">\n",
              "      <th></th>\n",
              "      <th>group</th>\n",
              "      <th>phrase</th>\n",
              "      <th>effect</th>\n",
              "      <th>ad_id</th>\n",
              "      <th>title</th>\n",
              "      <th>text</th>\n",
              "      <th>link</th>\n",
              "      <th>word_count</th>\n",
              "      <th>campaign</th>\n",
              "      <th>power_up</th>\n",
              "    </tr>\n",
              "  </thead>\n",
              "  <tbody>\n",
              "    <tr>\n",
              "      <th>0</th>\n",
              "      <td>мрт менделеевская</td>\n",
              "      <td>\"!мрт !менделеевская\"</td>\n",
              "      <td>4.5</td>\n",
              "      <td>2101704995</td>\n",
              "      <td>МРТ на Менделеевской от 2000₽</td>\n",
              "      <td>24 часа. МРТ в день обращения. Консультация вр...</td>\n",
              "      <td>https://awesome-site.ru/?utm_source=yandex&amp;utm...</td>\n",
              "      <td>2</td>\n",
              "      <td>a825749b87</td>\n",
              "      <td>20.25</td>\n",
              "    </tr>\n",
              "    <tr>\n",
              "      <th>1</th>\n",
              "      <td>мрт цао</td>\n",
              "      <td>\"мрт менделеевская\"</td>\n",
              "      <td>4.5</td>\n",
              "      <td>2101704995</td>\n",
              "      <td>МРТ на Менделеевской от 2000₽</td>\n",
              "      <td>24 часа. МРТ в день обращения. Консультация вр...</td>\n",
              "      <td>https://awesome-site.ru/?utm_source=yandex&amp;utm...</td>\n",
              "      <td>2</td>\n",
              "      <td>a825749b87</td>\n",
              "      <td>20.25</td>\n",
              "    </tr>\n",
              "    <tr>\n",
              "      <th>2</th>\n",
              "      <td>мрт цао</td>\n",
              "      <td>мрт менделеевская -головы -позвоночника -сдела...</td>\n",
              "      <td>7.4</td>\n",
              "      <td>2101704995</td>\n",
              "      <td>МРТ на Менделеевской от 2000₽</td>\n",
              "      <td>24 часа. МРТ в день обращения. Консультация вр...</td>\n",
              "      <td>https://awesome-site.ru/?utm_source=yandex&amp;utm...</td>\n",
              "      <td>6</td>\n",
              "      <td>a825749b87</td>\n",
              "      <td>54.76</td>\n",
              "    </tr>\n",
              "    <tr>\n",
              "      <th>3</th>\n",
              "      <td>мрт цао</td>\n",
              "      <td>\"!мрт !цао\"</td>\n",
              "      <td>5.0</td>\n",
              "      <td>2101704999</td>\n",
              "      <td>МРТ в ЦАО от 2000₽. Звоните!</td>\n",
              "      <td>24 часа. МРТ в день обращения. Консультация вр...</td>\n",
              "      <td>https://awesome-site.ru/?utm_source=yandex&amp;utm...</td>\n",
              "      <td>2</td>\n",
              "      <td>9cc0c5f6ca</td>\n",
              "      <td>25.00</td>\n",
              "    </tr>\n",
              "    <tr>\n",
              "      <th>4</th>\n",
              "      <td>мрт сао</td>\n",
              "      <td>\"мрт цао\"</td>\n",
              "      <td>5.0</td>\n",
              "      <td>2101704999</td>\n",
              "      <td>МРТ в ЦАО от 2000₽. Звоните!</td>\n",
              "      <td>24 часа. МРТ в день обращения. Консультация вр...</td>\n",
              "      <td>https://awesome-site.ru/?utm_source=yandex&amp;utm...</td>\n",
              "      <td>2</td>\n",
              "      <td>9cc0c5f6ca</td>\n",
              "      <td>25.00</td>\n",
              "    </tr>\n",
              "  </tbody>\n",
              "</table>\n",
              "</div>"
            ],
            "text/plain": [
              "               group                                             phrase  \\\n",
              "0  мрт менделеевская                              \"!мрт !менделеевская\"   \n",
              "1            мрт цао                                \"мрт менделеевская\"   \n",
              "2            мрт цао  мрт менделеевская -головы -позвоночника -сдела...   \n",
              "3            мрт цао                                        \"!мрт !цао\"   \n",
              "4            мрт сао                                          \"мрт цао\"   \n",
              "\n",
              "   effect       ad_id                          title  \\\n",
              "0     4.5  2101704995  МРТ на Менделеевской от 2000₽   \n",
              "1     4.5  2101704995  МРТ на Менделеевской от 2000₽   \n",
              "2     7.4  2101704995  МРТ на Менделеевской от 2000₽   \n",
              "3     5.0  2101704999   МРТ в ЦАО от 2000₽. Звоните!   \n",
              "4     5.0  2101704999   МРТ в ЦАО от 2000₽. Звоните!   \n",
              "\n",
              "                                                text  \\\n",
              "0  24 часа. МРТ в день обращения. Консультация вр...   \n",
              "1  24 часа. МРТ в день обращения. Консультация вр...   \n",
              "2  24 часа. МРТ в день обращения. Консультация вр...   \n",
              "3  24 часа. МРТ в день обращения. Консультация вр...   \n",
              "4  24 часа. МРТ в день обращения. Консультация вр...   \n",
              "\n",
              "                                                link  word_count    campaign  \\\n",
              "0  https://awesome-site.ru/?utm_source=yandex&utm...           2  a825749b87   \n",
              "1  https://awesome-site.ru/?utm_source=yandex&utm...           2  a825749b87   \n",
              "2  https://awesome-site.ru/?utm_source=yandex&utm...           6  a825749b87   \n",
              "3  https://awesome-site.ru/?utm_source=yandex&utm...           2  9cc0c5f6ca   \n",
              "4  https://awesome-site.ru/?utm_source=yandex&utm...           2  9cc0c5f6ca   \n",
              "\n",
              "   power_up  \n",
              "0     20.25  \n",
              "1     20.25  \n",
              "2     54.76  \n",
              "3     25.00  \n",
              "4     25.00  "
            ]
          },
          "execution_count": 36,
          "metadata": {},
          "output_type": "execute_result"
        }
      ],
      "source": [
        "stats['power_up'] = stats.apply(power_up, n=2, axis=1)\n",
        "stats.head()"
      ]
    },
    {
      "cell_type": "markdown",
      "metadata": {
        "id": "PxWQSDSN-Nae"
      },
      "source": [
        "### Упражнение\n",
        "В наших данных есть много объявлений с услугой МРТ (в столбце group есть слово 'мрт') круглосуточно (в тексте объявления text есть '24 часа'). Отфильтруйте строки, в которых НЕ упоминается МРТ, но прием идет круглосуточно. Сколько таких строк в датасете?"
      ]
    },
    {
      "cell_type": "code",
      "execution_count": null,
      "metadata": {
        "id": "H7W0cW35-Nae"
      },
      "outputs": [],
      "source": [
        "def mrt(row):\n",
        "    if ('мрт' not in row['group']) and ('24 часа' in row['text']):\n",
        "        return True\n",
        "    \n",
        "    return False"
      ]
    },
    {
      "cell_type": "code",
      "execution_count": null,
      "metadata": {
        "id": "15BxvBgl-Naf"
      },
      "outputs": [],
      "source": [
        "stats['mrt'] = stats.apply(mrt, axis=1)"
      ]
    },
    {
      "cell_type": "code",
      "execution_count": null,
      "metadata": {
        "id": "efweGQA3-Naf",
        "outputId": "b49cc8c5-70ce-4d81-90fb-a6de520ea01a"
      },
      "outputs": [
        {
          "data": {
            "text/html": [
              "<div>\n",
              "<style scoped>\n",
              "    .dataframe tbody tr th:only-of-type {\n",
              "        vertical-align: middle;\n",
              "    }\n",
              "\n",
              "    .dataframe tbody tr th {\n",
              "        vertical-align: top;\n",
              "    }\n",
              "\n",
              "    .dataframe thead th {\n",
              "        text-align: right;\n",
              "    }\n",
              "</style>\n",
              "<table border=\"1\" class=\"dataframe\">\n",
              "  <thead>\n",
              "    <tr style=\"text-align: right;\">\n",
              "      <th></th>\n",
              "      <th>group</th>\n",
              "      <th>phrase</th>\n",
              "      <th>effect</th>\n",
              "      <th>ad_id</th>\n",
              "      <th>title</th>\n",
              "      <th>text</th>\n",
              "      <th>link</th>\n",
              "      <th>word_count</th>\n",
              "      <th>campaign</th>\n",
              "      <th>power_up</th>\n",
              "      <th>mrt</th>\n",
              "    </tr>\n",
              "  </thead>\n",
              "  <tbody>\n",
              "    <tr>\n",
              "      <th>0</th>\n",
              "      <td>мрт менделеевская</td>\n",
              "      <td>\"!мрт !менделеевская\"</td>\n",
              "      <td>4.5</td>\n",
              "      <td>2101704995</td>\n",
              "      <td>МРТ на Менделеевской от 2000₽</td>\n",
              "      <td>24 часа. МРТ в день обращения. Консультация вр...</td>\n",
              "      <td>https://awesome-site.ru/?utm_source=yandex&amp;utm...</td>\n",
              "      <td>2</td>\n",
              "      <td>a825749b87</td>\n",
              "      <td>20.25</td>\n",
              "      <td>False</td>\n",
              "    </tr>\n",
              "    <tr>\n",
              "      <th>1</th>\n",
              "      <td>мрт цао</td>\n",
              "      <td>\"мрт менделеевская\"</td>\n",
              "      <td>4.5</td>\n",
              "      <td>2101704995</td>\n",
              "      <td>МРТ на Менделеевской от 2000₽</td>\n",
              "      <td>24 часа. МРТ в день обращения. Консультация вр...</td>\n",
              "      <td>https://awesome-site.ru/?utm_source=yandex&amp;utm...</td>\n",
              "      <td>2</td>\n",
              "      <td>a825749b87</td>\n",
              "      <td>20.25</td>\n",
              "      <td>False</td>\n",
              "    </tr>\n",
              "    <tr>\n",
              "      <th>2</th>\n",
              "      <td>мрт цао</td>\n",
              "      <td>мрт менделеевская -головы -позвоночника -сдела...</td>\n",
              "      <td>7.4</td>\n",
              "      <td>2101704995</td>\n",
              "      <td>МРТ на Менделеевской от 2000₽</td>\n",
              "      <td>24 часа. МРТ в день обращения. Консультация вр...</td>\n",
              "      <td>https://awesome-site.ru/?utm_source=yandex&amp;utm...</td>\n",
              "      <td>6</td>\n",
              "      <td>a825749b87</td>\n",
              "      <td>54.76</td>\n",
              "      <td>False</td>\n",
              "    </tr>\n",
              "    <tr>\n",
              "      <th>3</th>\n",
              "      <td>мрт цао</td>\n",
              "      <td>\"!мрт !цао\"</td>\n",
              "      <td>5.0</td>\n",
              "      <td>2101704999</td>\n",
              "      <td>МРТ в ЦАО от 2000₽. Звоните!</td>\n",
              "      <td>24 часа. МРТ в день обращения. Консультация вр...</td>\n",
              "      <td>https://awesome-site.ru/?utm_source=yandex&amp;utm...</td>\n",
              "      <td>2</td>\n",
              "      <td>9cc0c5f6ca</td>\n",
              "      <td>25.00</td>\n",
              "      <td>False</td>\n",
              "    </tr>\n",
              "    <tr>\n",
              "      <th>4</th>\n",
              "      <td>мрт сао</td>\n",
              "      <td>\"мрт цао\"</td>\n",
              "      <td>5.0</td>\n",
              "      <td>2101704999</td>\n",
              "      <td>МРТ в ЦАО от 2000₽. Звоните!</td>\n",
              "      <td>24 часа. МРТ в день обращения. Консультация вр...</td>\n",
              "      <td>https://awesome-site.ru/?utm_source=yandex&amp;utm...</td>\n",
              "      <td>2</td>\n",
              "      <td>9cc0c5f6ca</td>\n",
              "      <td>25.00</td>\n",
              "      <td>False</td>\n",
              "    </tr>\n",
              "  </tbody>\n",
              "</table>\n",
              "</div>"
            ],
            "text/plain": [
              "               group                                             phrase  \\\n",
              "0  мрт менделеевская                              \"!мрт !менделеевская\"   \n",
              "1            мрт цао                                \"мрт менделеевская\"   \n",
              "2            мрт цао  мрт менделеевская -головы -позвоночника -сдела...   \n",
              "3            мрт цао                                        \"!мрт !цао\"   \n",
              "4            мрт сао                                          \"мрт цао\"   \n",
              "\n",
              "   effect       ad_id                          title  \\\n",
              "0     4.5  2101704995  МРТ на Менделеевской от 2000₽   \n",
              "1     4.5  2101704995  МРТ на Менделеевской от 2000₽   \n",
              "2     7.4  2101704995  МРТ на Менделеевской от 2000₽   \n",
              "3     5.0  2101704999   МРТ в ЦАО от 2000₽. Звоните!   \n",
              "4     5.0  2101704999   МРТ в ЦАО от 2000₽. Звоните!   \n",
              "\n",
              "                                                text  \\\n",
              "0  24 часа. МРТ в день обращения. Консультация вр...   \n",
              "1  24 часа. МРТ в день обращения. Консультация вр...   \n",
              "2  24 часа. МРТ в день обращения. Консультация вр...   \n",
              "3  24 часа. МРТ в день обращения. Консультация вр...   \n",
              "4  24 часа. МРТ в день обращения. Консультация вр...   \n",
              "\n",
              "                                                link  word_count    campaign  \\\n",
              "0  https://awesome-site.ru/?utm_source=yandex&utm...           2  a825749b87   \n",
              "1  https://awesome-site.ru/?utm_source=yandex&utm...           2  a825749b87   \n",
              "2  https://awesome-site.ru/?utm_source=yandex&utm...           6  a825749b87   \n",
              "3  https://awesome-site.ru/?utm_source=yandex&utm...           2  9cc0c5f6ca   \n",
              "4  https://awesome-site.ru/?utm_source=yandex&utm...           2  9cc0c5f6ca   \n",
              "\n",
              "   power_up    mrt  \n",
              "0     20.25  False  \n",
              "1     20.25  False  \n",
              "2     54.76  False  \n",
              "3     25.00  False  \n",
              "4     25.00  False  "
            ]
          },
          "execution_count": 39,
          "metadata": {},
          "output_type": "execute_result"
        }
      ],
      "source": [
        "stats.head()"
      ]
    },
    {
      "cell_type": "code",
      "execution_count": null,
      "metadata": {
        "id": "jpA5TtOJ-Naf",
        "outputId": "5c978173-7650-4e4c-89dc-be53a67a9289"
      },
      "outputs": [
        {
          "data": {
            "text/plain": [
              "False    2120\n",
              "True       39\n",
              "Name: mrt, dtype: int64"
            ]
          },
          "execution_count": 40,
          "metadata": {},
          "output_type": "execute_result"
        }
      ],
      "source": [
        "stats.mrt.value_counts()"
      ]
    },
    {
      "cell_type": "markdown",
      "metadata": {
        "id": "u54NXKaD-Nag"
      },
      "source": [
        "## Группировки"
      ]
    },
    {
      "cell_type": "markdown",
      "source": [
        "### Basics"
      ],
      "metadata": {
        "id": "MbnXdPJy_NzF"
      }
    },
    {
      "cell_type": "code",
      "execution_count": null,
      "metadata": {
        "scrolled": true,
        "id": "PNarw6v1-Nag",
        "outputId": "80893771-a1fb-46d3-fa65-89941d6e5d59"
      },
      "outputs": [
        {
          "data": {
            "text/html": [
              "<div>\n",
              "<style scoped>\n",
              "    .dataframe tbody tr th:only-of-type {\n",
              "        vertical-align: middle;\n",
              "    }\n",
              "\n",
              "    .dataframe tbody tr th {\n",
              "        vertical-align: top;\n",
              "    }\n",
              "\n",
              "    .dataframe thead th {\n",
              "        text-align: right;\n",
              "    }\n",
              "</style>\n",
              "<table border=\"1\" class=\"dataframe\">\n",
              "  <thead>\n",
              "    <tr style=\"text-align: right;\">\n",
              "      <th></th>\n",
              "      <th>order_id</th>\n",
              "      <th>country</th>\n",
              "      <th>category</th>\n",
              "      <th>amount</th>\n",
              "    </tr>\n",
              "  </thead>\n",
              "  <tbody>\n",
              "    <tr>\n",
              "      <th>0</th>\n",
              "      <td>1</td>\n",
              "      <td>Россия</td>\n",
              "      <td>Электроника</td>\n",
              "      <td>100</td>\n",
              "    </tr>\n",
              "    <tr>\n",
              "      <th>1</th>\n",
              "      <td>2</td>\n",
              "      <td>Китай</td>\n",
              "      <td>Авто</td>\n",
              "      <td>80</td>\n",
              "    </tr>\n",
              "    <tr>\n",
              "      <th>2</th>\n",
              "      <td>3</td>\n",
              "      <td>Китай</td>\n",
              "      <td>Электроника</td>\n",
              "      <td>90</td>\n",
              "    </tr>\n",
              "    <tr>\n",
              "      <th>3</th>\n",
              "      <td>4</td>\n",
              "      <td>Россия</td>\n",
              "      <td>Авто</td>\n",
              "      <td>140</td>\n",
              "    </tr>\n",
              "    <tr>\n",
              "      <th>4</th>\n",
              "      <td>5</td>\n",
              "      <td>Россия</td>\n",
              "      <td>Авто</td>\n",
              "      <td>90</td>\n",
              "    </tr>\n",
              "  </tbody>\n",
              "</table>\n",
              "</div>"
            ],
            "text/plain": [
              "   order_id country     category  amount\n",
              "0         1  Россия  Электроника     100\n",
              "1         2   Китай         Авто      80\n",
              "2         3   Китай  Электроника      90\n",
              "3         4  Россия         Авто     140\n",
              "4         5  Россия         Авто      90"
            ]
          },
          "execution_count": 41,
          "metadata": {},
          "output_type": "execute_result"
        }
      ],
      "source": [
        "df = pd.DataFrame({'order_id': [1, 2, 3, 4, 5], 'country': ['Россия', 'Китай', 'Китай', 'Россия', 'Россия'], \n",
        "                   'category': ['Электроника', 'Авто', 'Электроника', 'Авто', 'Авто'], \n",
        "                   'amount': [100, 80, 90, 140, 90]})\n",
        "df"
      ]
    },
    {
      "cell_type": "markdown",
      "metadata": {
        "id": "n1i31hkV-Nag"
      },
      "source": [
        "Создадим датафрейм df_russia, в котором оставим заказы из России. И аналогично df_china (заказы из Китая)."
      ]
    },
    {
      "cell_type": "code",
      "execution_count": null,
      "metadata": {
        "id": "dkcBF83H-Nag",
        "outputId": "e65be48f-319b-44c6-d9ea-45c75888522c"
      },
      "outputs": [
        {
          "data": {
            "text/html": [
              "<div>\n",
              "<style scoped>\n",
              "    .dataframe tbody tr th:only-of-type {\n",
              "        vertical-align: middle;\n",
              "    }\n",
              "\n",
              "    .dataframe tbody tr th {\n",
              "        vertical-align: top;\n",
              "    }\n",
              "\n",
              "    .dataframe thead th {\n",
              "        text-align: right;\n",
              "    }\n",
              "</style>\n",
              "<table border=\"1\" class=\"dataframe\">\n",
              "  <thead>\n",
              "    <tr style=\"text-align: right;\">\n",
              "      <th></th>\n",
              "      <th>order_id</th>\n",
              "      <th>country</th>\n",
              "      <th>category</th>\n",
              "      <th>amount</th>\n",
              "    </tr>\n",
              "  </thead>\n",
              "  <tbody>\n",
              "    <tr>\n",
              "      <th>0</th>\n",
              "      <td>1</td>\n",
              "      <td>Россия</td>\n",
              "      <td>Электроника</td>\n",
              "      <td>100</td>\n",
              "    </tr>\n",
              "    <tr>\n",
              "      <th>3</th>\n",
              "      <td>4</td>\n",
              "      <td>Россия</td>\n",
              "      <td>Авто</td>\n",
              "      <td>140</td>\n",
              "    </tr>\n",
              "    <tr>\n",
              "      <th>4</th>\n",
              "      <td>5</td>\n",
              "      <td>Россия</td>\n",
              "      <td>Авто</td>\n",
              "      <td>90</td>\n",
              "    </tr>\n",
              "  </tbody>\n",
              "</table>\n",
              "</div>"
            ],
            "text/plain": [
              "   order_id country     category  amount\n",
              "0         1  Россия  Электроника     100\n",
              "3         4  Россия         Авто     140\n",
              "4         5  Россия         Авто      90"
            ]
          },
          "execution_count": 42,
          "metadata": {},
          "output_type": "execute_result"
        }
      ],
      "source": [
        "df_russia = df[df.country == 'Россия']\n",
        "df_russia"
      ]
    },
    {
      "cell_type": "code",
      "execution_count": null,
      "metadata": {
        "id": "1UlGWaV8-Nah",
        "outputId": "7296a2e1-2edf-47e4-f9ef-881369d67257"
      },
      "outputs": [
        {
          "data": {
            "text/html": [
              "<div>\n",
              "<style scoped>\n",
              "    .dataframe tbody tr th:only-of-type {\n",
              "        vertical-align: middle;\n",
              "    }\n",
              "\n",
              "    .dataframe tbody tr th {\n",
              "        vertical-align: top;\n",
              "    }\n",
              "\n",
              "    .dataframe thead th {\n",
              "        text-align: right;\n",
              "    }\n",
              "</style>\n",
              "<table border=\"1\" class=\"dataframe\">\n",
              "  <thead>\n",
              "    <tr style=\"text-align: right;\">\n",
              "      <th></th>\n",
              "      <th>order_id</th>\n",
              "      <th>country</th>\n",
              "      <th>category</th>\n",
              "      <th>amount</th>\n",
              "    </tr>\n",
              "  </thead>\n",
              "  <tbody>\n",
              "    <tr>\n",
              "      <th>1</th>\n",
              "      <td>2</td>\n",
              "      <td>Китай</td>\n",
              "      <td>Авто</td>\n",
              "      <td>80</td>\n",
              "    </tr>\n",
              "    <tr>\n",
              "      <th>2</th>\n",
              "      <td>3</td>\n",
              "      <td>Китай</td>\n",
              "      <td>Электроника</td>\n",
              "      <td>90</td>\n",
              "    </tr>\n",
              "  </tbody>\n",
              "</table>\n",
              "</div>"
            ],
            "text/plain": [
              "   order_id country     category  amount\n",
              "1         2   Китай         Авто      80\n",
              "2         3   Китай  Электроника      90"
            ]
          },
          "execution_count": 43,
          "metadata": {},
          "output_type": "execute_result"
        }
      ],
      "source": [
        "df_china = df[df.country == 'Китай']\n",
        "df_china"
      ]
    },
    {
      "cell_type": "code",
      "execution_count": null,
      "metadata": {
        "id": "gvrlEfsi-Nah"
      },
      "outputs": [],
      "source": [
        ""
      ]
    },
    {
      "cell_type": "markdown",
      "metadata": {
        "id": "PGw0EkOa-Nah"
      },
      "source": [
        "Посчитаем для df_russia и df_china:\n",
        "- среднюю стоимость заказа\n",
        "- разницу между максимальной и минимальной стоимостью заказа"
      ]
    },
    {
      "cell_type": "code",
      "execution_count": null,
      "metadata": {
        "scrolled": true,
        "id": "gny7tRQm-Nah",
        "outputId": "3e0f0dbd-4cf2-49ff-f99f-ff0119b17bfc"
      },
      "outputs": [
        {
          "data": {
            "text/plain": [
              "110.0"
            ]
          },
          "execution_count": 44,
          "metadata": {},
          "output_type": "execute_result"
        }
      ],
      "source": [
        "df_russia.amount.mean()"
      ]
    },
    {
      "cell_type": "code",
      "execution_count": null,
      "metadata": {
        "id": "lQSn72T3-Nah",
        "outputId": "fd8eac04-1cce-45c9-f171-fb7258d63827"
      },
      "outputs": [
        {
          "data": {
            "text/plain": [
              "85.0"
            ]
          },
          "execution_count": 45,
          "metadata": {},
          "output_type": "execute_result"
        }
      ],
      "source": [
        "df_china.amount.mean()"
      ]
    },
    {
      "cell_type": "code",
      "execution_count": null,
      "metadata": {
        "id": "AStfoEYD-Nai",
        "outputId": "ad044961-53df-4258-ca68-5c94c7fe6e3c"
      },
      "outputs": [
        {
          "data": {
            "text/plain": [
              "50"
            ]
          },
          "execution_count": 46,
          "metadata": {},
          "output_type": "execute_result"
        }
      ],
      "source": [
        "df_russia.amount.max() - df_russia.amount.min()"
      ]
    },
    {
      "cell_type": "code",
      "execution_count": null,
      "metadata": {
        "id": "vW4g-aAT-Nai",
        "outputId": "6576e9ca-e165-4f26-f3b7-32dc528b8944"
      },
      "outputs": [
        {
          "data": {
            "text/plain": [
              "10"
            ]
          },
          "execution_count": 47,
          "metadata": {},
          "output_type": "execute_result"
        }
      ],
      "source": [
        "df_china.amount.max() - df_china.amount.min()"
      ]
    },
    {
      "cell_type": "markdown",
      "metadata": {
        "id": "jIZCUG46-Nai"
      },
      "source": [
        "Объединим процесс разбиения на датафреймы"
      ]
    },
    {
      "cell_type": "code",
      "execution_count": null,
      "metadata": {
        "id": "ZZW-LRl8-Nai"
      },
      "outputs": [],
      "source": [
        "def groupby_function(data):\n",
        "    return data.amount.max() - data.amount.min()"
      ]
    },
    {
      "cell_type": "code",
      "execution_count": null,
      "metadata": {
        "scrolled": true,
        "id": "cERvdXc8-Naj",
        "outputId": "89cf5273-ffb0-486d-be0d-4a23331f68c9"
      },
      "outputs": [
        {
          "data": {
            "text/plain": [
              "country\n",
              "Китай     10\n",
              "Россия    50\n",
              "dtype: int64"
            ]
          },
          "execution_count": 49,
          "metadata": {},
          "output_type": "execute_result"
        }
      ],
      "source": [
        "df.groupby('country').apply(groupby_function)"
      ]
    },
    {
      "cell_type": "markdown",
      "metadata": {
        "id": "zrX4weoz-Naj"
      },
      "source": [
        "Вернемся к статистике рекламных кампаний"
      ]
    },
    {
      "cell_type": "code",
      "execution_count": null,
      "metadata": {
        "id": "QALVXEde-Naj",
        "outputId": "57ca177b-acb2-49ef-a42c-4fe550f1f669"
      },
      "outputs": [
        {
          "data": {
            "text/plain": [
              "7f35591a28    456\n",
              "8e77a0e565    348\n",
              "2cc2e7d770    240\n",
              "f6d2ae1e3d    220\n",
              "e90f4db55a    218\n",
              "Name: campaign, dtype: int64"
            ]
          },
          "execution_count": 50,
          "metadata": {},
          "output_type": "execute_result"
        }
      ],
      "source": [
        "# раньше использовали value_counts\n",
        "\n",
        "stats['campaign'].value_counts().head()"
      ]
    },
    {
      "cell_type": "code",
      "execution_count": null,
      "metadata": {
        "scrolled": false,
        "id": "sP935UkR-Naj",
        "outputId": "64ce51e1-7319-4a42-8f9b-d50d03914589"
      },
      "outputs": [
        {
          "data": {
            "text/html": [
              "<div>\n",
              "<style scoped>\n",
              "    .dataframe tbody tr th:only-of-type {\n",
              "        vertical-align: middle;\n",
              "    }\n",
              "\n",
              "    .dataframe tbody tr th {\n",
              "        vertical-align: top;\n",
              "    }\n",
              "\n",
              "    .dataframe thead th {\n",
              "        text-align: right;\n",
              "    }\n",
              "</style>\n",
              "<table border=\"1\" class=\"dataframe\">\n",
              "  <thead>\n",
              "    <tr style=\"text-align: right;\">\n",
              "      <th></th>\n",
              "      <th>group</th>\n",
              "      <th>phrase</th>\n",
              "      <th>effect</th>\n",
              "      <th>ad_id</th>\n",
              "      <th>title</th>\n",
              "      <th>text</th>\n",
              "      <th>link</th>\n",
              "      <th>word_count</th>\n",
              "      <th>power_up</th>\n",
              "      <th>mrt</th>\n",
              "    </tr>\n",
              "    <tr>\n",
              "      <th>campaign</th>\n",
              "      <th></th>\n",
              "      <th></th>\n",
              "      <th></th>\n",
              "      <th></th>\n",
              "      <th></th>\n",
              "      <th></th>\n",
              "      <th></th>\n",
              "      <th></th>\n",
              "      <th></th>\n",
              "      <th></th>\n",
              "    </tr>\n",
              "  </thead>\n",
              "  <tbody>\n",
              "    <tr>\n",
              "      <th>034ada41b6</th>\n",
              "      <td>3</td>\n",
              "      <td>3</td>\n",
              "      <td>3</td>\n",
              "      <td>3</td>\n",
              "      <td>3</td>\n",
              "      <td>3</td>\n",
              "      <td>3</td>\n",
              "      <td>3</td>\n",
              "      <td>3</td>\n",
              "      <td>3</td>\n",
              "    </tr>\n",
              "    <tr>\n",
              "      <th>03fcaecd1d</th>\n",
              "      <td>2</td>\n",
              "      <td>2</td>\n",
              "      <td>2</td>\n",
              "      <td>2</td>\n",
              "      <td>2</td>\n",
              "      <td>2</td>\n",
              "      <td>2</td>\n",
              "      <td>2</td>\n",
              "      <td>2</td>\n",
              "      <td>2</td>\n",
              "    </tr>\n",
              "    <tr>\n",
              "      <th>0697a81555</th>\n",
              "      <td>2</td>\n",
              "      <td>2</td>\n",
              "      <td>2</td>\n",
              "      <td>2</td>\n",
              "      <td>2</td>\n",
              "      <td>2</td>\n",
              "      <td>2</td>\n",
              "      <td>2</td>\n",
              "      <td>2</td>\n",
              "      <td>2</td>\n",
              "    </tr>\n",
              "    <tr>\n",
              "      <th>08cdcb57a3</th>\n",
              "      <td>3</td>\n",
              "      <td>3</td>\n",
              "      <td>3</td>\n",
              "      <td>3</td>\n",
              "      <td>3</td>\n",
              "      <td>3</td>\n",
              "      <td>3</td>\n",
              "      <td>3</td>\n",
              "      <td>3</td>\n",
              "      <td>3</td>\n",
              "    </tr>\n",
              "    <tr>\n",
              "      <th>0f0ba311fb</th>\n",
              "      <td>2</td>\n",
              "      <td>2</td>\n",
              "      <td>2</td>\n",
              "      <td>2</td>\n",
              "      <td>2</td>\n",
              "      <td>2</td>\n",
              "      <td>2</td>\n",
              "      <td>2</td>\n",
              "      <td>2</td>\n",
              "      <td>2</td>\n",
              "    </tr>\n",
              "  </tbody>\n",
              "</table>\n",
              "</div>"
            ],
            "text/plain": [
              "            group  phrase  effect  ad_id  title  text  link  word_count  \\\n",
              "campaign                                                                  \n",
              "034ada41b6      3       3       3      3      3     3     3           3   \n",
              "03fcaecd1d      2       2       2      2      2     2     2           2   \n",
              "0697a81555      2       2       2      2      2     2     2           2   \n",
              "08cdcb57a3      3       3       3      3      3     3     3           3   \n",
              "0f0ba311fb      2       2       2      2      2     2     2           2   \n",
              "\n",
              "            power_up  mrt  \n",
              "campaign                   \n",
              "034ada41b6         3    3  \n",
              "03fcaecd1d         2    2  \n",
              "0697a81555         2    2  \n",
              "08cdcb57a3         3    3  \n",
              "0f0ba311fb         2    2  "
            ]
          },
          "execution_count": 51,
          "metadata": {},
          "output_type": "execute_result"
        }
      ],
      "source": [
        "# более универсальный способ\n",
        "\n",
        "stats.groupby('campaign').count().head()"
      ]
    },
    {
      "cell_type": "code",
      "execution_count": null,
      "metadata": {
        "id": "ieSHZEu2-Nak",
        "outputId": "69142357-ea66-47ed-f749-c8866c82278d"
      },
      "outputs": [
        {
          "data": {
            "text/html": [
              "<div>\n",
              "<style scoped>\n",
              "    .dataframe tbody tr th:only-of-type {\n",
              "        vertical-align: middle;\n",
              "    }\n",
              "\n",
              "    .dataframe tbody tr th {\n",
              "        vertical-align: top;\n",
              "    }\n",
              "\n",
              "    .dataframe thead th {\n",
              "        text-align: right;\n",
              "    }\n",
              "</style>\n",
              "<table border=\"1\" class=\"dataframe\">\n",
              "  <thead>\n",
              "    <tr style=\"text-align: right;\">\n",
              "      <th></th>\n",
              "      <th>group</th>\n",
              "      <th>phrase</th>\n",
              "      <th>effect</th>\n",
              "      <th>ad_id</th>\n",
              "      <th>title</th>\n",
              "      <th>text</th>\n",
              "      <th>link</th>\n",
              "      <th>word_count</th>\n",
              "      <th>campaign</th>\n",
              "      <th>power_up</th>\n",
              "      <th>mrt</th>\n",
              "    </tr>\n",
              "  </thead>\n",
              "  <tbody>\n",
              "    <tr>\n",
              "      <th>0</th>\n",
              "      <td>мрт менделеевская</td>\n",
              "      <td>\"!мрт !менделеевская\"</td>\n",
              "      <td>4.5</td>\n",
              "      <td>2101704995</td>\n",
              "      <td>МРТ на Менделеевской от 2000₽</td>\n",
              "      <td>24 часа. МРТ в день обращения. Консультация вр...</td>\n",
              "      <td>https://awesome-site.ru/?utm_source=yandex&amp;utm...</td>\n",
              "      <td>2</td>\n",
              "      <td>a825749b87</td>\n",
              "      <td>20.25</td>\n",
              "      <td>False</td>\n",
              "    </tr>\n",
              "    <tr>\n",
              "      <th>1</th>\n",
              "      <td>мрт цао</td>\n",
              "      <td>\"мрт менделеевская\"</td>\n",
              "      <td>4.5</td>\n",
              "      <td>2101704995</td>\n",
              "      <td>МРТ на Менделеевской от 2000₽</td>\n",
              "      <td>24 часа. МРТ в день обращения. Консультация вр...</td>\n",
              "      <td>https://awesome-site.ru/?utm_source=yandex&amp;utm...</td>\n",
              "      <td>2</td>\n",
              "      <td>a825749b87</td>\n",
              "      <td>20.25</td>\n",
              "      <td>False</td>\n",
              "    </tr>\n",
              "    <tr>\n",
              "      <th>2</th>\n",
              "      <td>мрт цао</td>\n",
              "      <td>мрт менделеевская -головы -позвоночника -сдела...</td>\n",
              "      <td>7.4</td>\n",
              "      <td>2101704995</td>\n",
              "      <td>МРТ на Менделеевской от 2000₽</td>\n",
              "      <td>24 часа. МРТ в день обращения. Консультация вр...</td>\n",
              "      <td>https://awesome-site.ru/?utm_source=yandex&amp;utm...</td>\n",
              "      <td>6</td>\n",
              "      <td>a825749b87</td>\n",
              "      <td>54.76</td>\n",
              "      <td>False</td>\n",
              "    </tr>\n",
              "    <tr>\n",
              "      <th>3</th>\n",
              "      <td>мрт цао</td>\n",
              "      <td>\"!мрт !цао\"</td>\n",
              "      <td>5.0</td>\n",
              "      <td>2101704999</td>\n",
              "      <td>МРТ в ЦАО от 2000₽. Звоните!</td>\n",
              "      <td>24 часа. МРТ в день обращения. Консультация вр...</td>\n",
              "      <td>https://awesome-site.ru/?utm_source=yandex&amp;utm...</td>\n",
              "      <td>2</td>\n",
              "      <td>9cc0c5f6ca</td>\n",
              "      <td>25.00</td>\n",
              "      <td>False</td>\n",
              "    </tr>\n",
              "    <tr>\n",
              "      <th>4</th>\n",
              "      <td>мрт сао</td>\n",
              "      <td>\"мрт цао\"</td>\n",
              "      <td>5.0</td>\n",
              "      <td>2101704999</td>\n",
              "      <td>МРТ в ЦАО от 2000₽. Звоните!</td>\n",
              "      <td>24 часа. МРТ в день обращения. Консультация вр...</td>\n",
              "      <td>https://awesome-site.ru/?utm_source=yandex&amp;utm...</td>\n",
              "      <td>2</td>\n",
              "      <td>9cc0c5f6ca</td>\n",
              "      <td>25.00</td>\n",
              "      <td>False</td>\n",
              "    </tr>\n",
              "  </tbody>\n",
              "</table>\n",
              "</div>"
            ],
            "text/plain": [
              "               group                                             phrase  \\\n",
              "0  мрт менделеевская                              \"!мрт !менделеевская\"   \n",
              "1            мрт цао                                \"мрт менделеевская\"   \n",
              "2            мрт цао  мрт менделеевская -головы -позвоночника -сдела...   \n",
              "3            мрт цао                                        \"!мрт !цао\"   \n",
              "4            мрт сао                                          \"мрт цао\"   \n",
              "\n",
              "   effect       ad_id                          title  \\\n",
              "0     4.5  2101704995  МРТ на Менделеевской от 2000₽   \n",
              "1     4.5  2101704995  МРТ на Менделеевской от 2000₽   \n",
              "2     7.4  2101704995  МРТ на Менделеевской от 2000₽   \n",
              "3     5.0  2101704999   МРТ в ЦАО от 2000₽. Звоните!   \n",
              "4     5.0  2101704999   МРТ в ЦАО от 2000₽. Звоните!   \n",
              "\n",
              "                                                text  \\\n",
              "0  24 часа. МРТ в день обращения. Консультация вр...   \n",
              "1  24 часа. МРТ в день обращения. Консультация вр...   \n",
              "2  24 часа. МРТ в день обращения. Консультация вр...   \n",
              "3  24 часа. МРТ в день обращения. Консультация вр...   \n",
              "4  24 часа. МРТ в день обращения. Консультация вр...   \n",
              "\n",
              "                                                link  word_count    campaign  \\\n",
              "0  https://awesome-site.ru/?utm_source=yandex&utm...           2  a825749b87   \n",
              "1  https://awesome-site.ru/?utm_source=yandex&utm...           2  a825749b87   \n",
              "2  https://awesome-site.ru/?utm_source=yandex&utm...           6  a825749b87   \n",
              "3  https://awesome-site.ru/?utm_source=yandex&utm...           2  9cc0c5f6ca   \n",
              "4  https://awesome-site.ru/?utm_source=yandex&utm...           2  9cc0c5f6ca   \n",
              "\n",
              "   power_up    mrt  \n",
              "0     20.25  False  \n",
              "1     20.25  False  \n",
              "2     54.76  False  \n",
              "3     25.00  False  \n",
              "4     25.00  False  "
            ]
          },
          "execution_count": 53,
          "metadata": {},
          "output_type": "execute_result"
        }
      ],
      "source": [
        "stats.head()"
      ]
    },
    {
      "cell_type": "code",
      "execution_count": null,
      "metadata": {
        "id": "_B35bhqd-Nak",
        "outputId": "4d35ec2f-629d-4b84-8084-c1c371ff3906"
      },
      "outputs": [
        {
          "data": {
            "text/html": [
              "<div>\n",
              "<style scoped>\n",
              "    .dataframe tbody tr th:only-of-type {\n",
              "        vertical-align: middle;\n",
              "    }\n",
              "\n",
              "    .dataframe tbody tr th {\n",
              "        vertical-align: top;\n",
              "    }\n",
              "\n",
              "    .dataframe thead th {\n",
              "        text-align: right;\n",
              "    }\n",
              "</style>\n",
              "<table border=\"1\" class=\"dataframe\">\n",
              "  <thead>\n",
              "    <tr style=\"text-align: right;\">\n",
              "      <th></th>\n",
              "      <th>group</th>\n",
              "      <th>effect</th>\n",
              "    </tr>\n",
              "    <tr>\n",
              "      <th>campaign</th>\n",
              "      <th></th>\n",
              "      <th></th>\n",
              "    </tr>\n",
              "  </thead>\n",
              "  <tbody>\n",
              "    <tr>\n",
              "      <th>034ada41b6</th>\n",
              "      <td>3</td>\n",
              "      <td>3</td>\n",
              "    </tr>\n",
              "    <tr>\n",
              "      <th>03fcaecd1d</th>\n",
              "      <td>2</td>\n",
              "      <td>2</td>\n",
              "    </tr>\n",
              "    <tr>\n",
              "      <th>0697a81555</th>\n",
              "      <td>2</td>\n",
              "      <td>2</td>\n",
              "    </tr>\n",
              "    <tr>\n",
              "      <th>08cdcb57a3</th>\n",
              "      <td>3</td>\n",
              "      <td>3</td>\n",
              "    </tr>\n",
              "    <tr>\n",
              "      <th>0f0ba311fb</th>\n",
              "      <td>2</td>\n",
              "      <td>2</td>\n",
              "    </tr>\n",
              "  </tbody>\n",
              "</table>\n",
              "</div>"
            ],
            "text/plain": [
              "            group  effect\n",
              "campaign                 \n",
              "034ada41b6      3       3\n",
              "03fcaecd1d      2       2\n",
              "0697a81555      2       2\n",
              "08cdcb57a3      3       3\n",
              "0f0ba311fb      2       2"
            ]
          },
          "execution_count": 52,
          "metadata": {},
          "output_type": "execute_result"
        }
      ],
      "source": [
        "stats.groupby('campaign').count()[['group', 'effect']].head()"
      ]
    },
    {
      "cell_type": "markdown",
      "metadata": {
        "id": "SptCN1B--Nak"
      },
      "source": [
        "### Как вернуть столбец из индекса - метод reset_index()"
      ]
    },
    {
      "cell_type": "code",
      "execution_count": null,
      "metadata": {
        "scrolled": true,
        "id": "WaeUJ79u-Nak",
        "outputId": "ec4cf4c6-95e9-4954-c5ae-6d01bf94fd47"
      },
      "outputs": [
        {
          "data": {
            "text/html": [
              "<div>\n",
              "<style scoped>\n",
              "    .dataframe tbody tr th:only-of-type {\n",
              "        vertical-align: middle;\n",
              "    }\n",
              "\n",
              "    .dataframe tbody tr th {\n",
              "        vertical-align: top;\n",
              "    }\n",
              "\n",
              "    .dataframe thead th {\n",
              "        text-align: right;\n",
              "    }\n",
              "</style>\n",
              "<table border=\"1\" class=\"dataframe\">\n",
              "  <thead>\n",
              "    <tr style=\"text-align: right;\">\n",
              "      <th></th>\n",
              "      <th>campaign</th>\n",
              "      <th>group</th>\n",
              "      <th>phrase</th>\n",
              "      <th>effect</th>\n",
              "      <th>ad_id</th>\n",
              "      <th>title</th>\n",
              "      <th>text</th>\n",
              "      <th>link</th>\n",
              "      <th>word_count</th>\n",
              "      <th>power_up</th>\n",
              "      <th>mrt</th>\n",
              "    </tr>\n",
              "  </thead>\n",
              "  <tbody>\n",
              "    <tr>\n",
              "      <th>0</th>\n",
              "      <td>034ada41b6</td>\n",
              "      <td>3</td>\n",
              "      <td>3</td>\n",
              "      <td>3</td>\n",
              "      <td>3</td>\n",
              "      <td>3</td>\n",
              "      <td>3</td>\n",
              "      <td>3</td>\n",
              "      <td>3</td>\n",
              "      <td>3</td>\n",
              "      <td>3</td>\n",
              "    </tr>\n",
              "    <tr>\n",
              "      <th>1</th>\n",
              "      <td>03fcaecd1d</td>\n",
              "      <td>2</td>\n",
              "      <td>2</td>\n",
              "      <td>2</td>\n",
              "      <td>2</td>\n",
              "      <td>2</td>\n",
              "      <td>2</td>\n",
              "      <td>2</td>\n",
              "      <td>2</td>\n",
              "      <td>2</td>\n",
              "      <td>2</td>\n",
              "    </tr>\n",
              "    <tr>\n",
              "      <th>2</th>\n",
              "      <td>0697a81555</td>\n",
              "      <td>2</td>\n",
              "      <td>2</td>\n",
              "      <td>2</td>\n",
              "      <td>2</td>\n",
              "      <td>2</td>\n",
              "      <td>2</td>\n",
              "      <td>2</td>\n",
              "      <td>2</td>\n",
              "      <td>2</td>\n",
              "      <td>2</td>\n",
              "    </tr>\n",
              "    <tr>\n",
              "      <th>3</th>\n",
              "      <td>08cdcb57a3</td>\n",
              "      <td>3</td>\n",
              "      <td>3</td>\n",
              "      <td>3</td>\n",
              "      <td>3</td>\n",
              "      <td>3</td>\n",
              "      <td>3</td>\n",
              "      <td>3</td>\n",
              "      <td>3</td>\n",
              "      <td>3</td>\n",
              "      <td>3</td>\n",
              "    </tr>\n",
              "    <tr>\n",
              "      <th>4</th>\n",
              "      <td>0f0ba311fb</td>\n",
              "      <td>2</td>\n",
              "      <td>2</td>\n",
              "      <td>2</td>\n",
              "      <td>2</td>\n",
              "      <td>2</td>\n",
              "      <td>2</td>\n",
              "      <td>2</td>\n",
              "      <td>2</td>\n",
              "      <td>2</td>\n",
              "      <td>2</td>\n",
              "    </tr>\n",
              "  </tbody>\n",
              "</table>\n",
              "</div>"
            ],
            "text/plain": [
              "     campaign  group  phrase  effect  ad_id  title  text  link  word_count  \\\n",
              "0  034ada41b6      3       3       3      3      3     3     3           3   \n",
              "1  03fcaecd1d      2       2       2      2      2     2     2           2   \n",
              "2  0697a81555      2       2       2      2      2     2     2           2   \n",
              "3  08cdcb57a3      3       3       3      3      3     3     3           3   \n",
              "4  0f0ba311fb      2       2       2      2      2     2     2           2   \n",
              "\n",
              "   power_up  mrt  \n",
              "0         3    3  \n",
              "1         2    2  \n",
              "2         2    2  \n",
              "3         3    3  \n",
              "4         2    2  "
            ]
          },
          "execution_count": 54,
          "metadata": {},
          "output_type": "execute_result"
        }
      ],
      "source": [
        "stats.groupby('campaign').count().reset_index().head()"
      ]
    },
    {
      "cell_type": "markdown",
      "metadata": {
        "id": "Jz1hI8-p-Nal"
      },
      "source": [
        "### К группировке можно применять разные функции такие образом:"
      ]
    },
    {
      "cell_type": "code",
      "execution_count": null,
      "metadata": {
        "id": "H3AHghM_-Nal"
      },
      "outputs": [],
      "source": [
        "obj = stats.groupby('campaign')"
      ]
    },
    {
      "cell_type": "code",
      "execution_count": null,
      "metadata": {
        "id": "SbkLo6Y8-Nal",
        "outputId": "233ce501-0374-4ae6-8e80-ed3499e8f45b"
      },
      "outputs": [
        {
          "data": {
            "text/plain": [
              "pandas.core.groupby.generic.DataFrameGroupBy"
            ]
          },
          "execution_count": 56,
          "metadata": {},
          "output_type": "execute_result"
        }
      ],
      "source": [
        "type(obj)"
      ]
    },
    {
      "cell_type": "code",
      "execution_count": null,
      "metadata": {
        "scrolled": true,
        "id": "ceZsnZbb-Nal",
        "outputId": "6dc09746-311a-47fd-bd64-a164cc5605f2"
      },
      "outputs": [
        {
          "data": {
            "text/html": [
              "<div>\n",
              "<style scoped>\n",
              "    .dataframe tbody tr th:only-of-type {\n",
              "        vertical-align: middle;\n",
              "    }\n",
              "\n",
              "    .dataframe tbody tr th {\n",
              "        vertical-align: top;\n",
              "    }\n",
              "\n",
              "    .dataframe thead th {\n",
              "        text-align: right;\n",
              "    }\n",
              "</style>\n",
              "<table border=\"1\" class=\"dataframe\">\n",
              "  <thead>\n",
              "    <tr style=\"text-align: right;\">\n",
              "      <th></th>\n",
              "      <th>group</th>\n",
              "      <th>phrase</th>\n",
              "      <th>effect</th>\n",
              "      <th>ad_id</th>\n",
              "      <th>title</th>\n",
              "      <th>text</th>\n",
              "      <th>link</th>\n",
              "      <th>word_count</th>\n",
              "      <th>power_up</th>\n",
              "      <th>mrt</th>\n",
              "    </tr>\n",
              "    <tr>\n",
              "      <th>campaign</th>\n",
              "      <th></th>\n",
              "      <th></th>\n",
              "      <th></th>\n",
              "      <th></th>\n",
              "      <th></th>\n",
              "      <th></th>\n",
              "      <th></th>\n",
              "      <th></th>\n",
              "      <th></th>\n",
              "      <th></th>\n",
              "    </tr>\n",
              "  </thead>\n",
              "  <tbody>\n",
              "    <tr>\n",
              "      <th>034ada41b6</th>\n",
              "      <td>в недорого москва мрт</td>\n",
              "      <td>в москве открытого типа адрес мрт -цена</td>\n",
              "      <td>9.0</td>\n",
              "      <td>2428554779</td>\n",
              "      <td>Адрес МРТ открытого типа в Москве</td>\n",
              "      <td>24 часа. От 2 000₽. Консультация врача бесплат...</td>\n",
              "      <td>https://awesome-site.ru/?utm_source=yandex&amp;utm...</td>\n",
              "      <td>7</td>\n",
              "      <td>81.00</td>\n",
              "      <td>False</td>\n",
              "    </tr>\n",
              "    <tr>\n",
              "      <th>03fcaecd1d</th>\n",
              "      <td>сделать мрт сущевский вал</td>\n",
              "      <td>сделать мрт стромынка</td>\n",
              "      <td>6.5</td>\n",
              "      <td>2101705759</td>\n",
              "      <td>Сделайте МРТ на ул. Стромынка!</td>\n",
              "      <td>24 часа. От 2 000₽. Консультация врача бесплат...</td>\n",
              "      <td>https://awesome-site.ru/?utm_source=yandex&amp;utm...</td>\n",
              "      <td>3</td>\n",
              "      <td>42.25</td>\n",
              "      <td>False</td>\n",
              "    </tr>\n",
              "    <tr>\n",
              "      <th>0697a81555</th>\n",
              "      <td>мрт позвоночника сущевский вал</td>\n",
              "      <td>мрт позвоночника стромынка</td>\n",
              "      <td>5.5</td>\n",
              "      <td>2101706415</td>\n",
              "      <td>МРТ позвоночника на ул. Стромынка</td>\n",
              "      <td>24 часа. От 2 000₽. Консультация врача бесплат...</td>\n",
              "      <td>https://awesome-site.ru/?utm_source=yandex&amp;utm...</td>\n",
              "      <td>3</td>\n",
              "      <td>30.25</td>\n",
              "      <td>False</td>\n",
              "    </tr>\n",
              "    <tr>\n",
              "      <th>08cdcb57a3</th>\n",
              "      <td>мрт сао</td>\n",
              "      <td>мрт сао -головы -москве -позвоночника -сделать...</td>\n",
              "      <td>7.4</td>\n",
              "      <td>2101705000</td>\n",
              "      <td>МРТ в САО от 2000₽. Звоните!</td>\n",
              "      <td>24 часа. МРТ в день обращения. Консультация вр...</td>\n",
              "      <td>https://awesome-site.ru/?utm_source=yandex&amp;utm...</td>\n",
              "      <td>7</td>\n",
              "      <td>54.76</td>\n",
              "      <td>False</td>\n",
              "    </tr>\n",
              "    <tr>\n",
              "      <th>0f0ba311fb</th>\n",
              "      <td>сделать мрт октябрьский</td>\n",
              "      <td>сделать мрт новослободская</td>\n",
              "      <td>6.4</td>\n",
              "      <td>2101705726</td>\n",
              "      <td>Сделайте МРТ на Новослободской</td>\n",
              "      <td>24 часа. От 2 000₽. Консультация врача бесплат...</td>\n",
              "      <td>https://awesome-site.ru/?utm_source=yandex&amp;utm...</td>\n",
              "      <td>3</td>\n",
              "      <td>40.96</td>\n",
              "      <td>False</td>\n",
              "    </tr>\n",
              "  </tbody>\n",
              "</table>\n",
              "</div>"
            ],
            "text/plain": [
              "                                     group  \\\n",
              "campaign                                     \n",
              "034ada41b6           в недорого москва мрт   \n",
              "03fcaecd1d       сделать мрт сущевский вал   \n",
              "0697a81555  мрт позвоночника сущевский вал   \n",
              "08cdcb57a3                         мрт сао   \n",
              "0f0ba311fb         сделать мрт октябрьский   \n",
              "\n",
              "                                                       phrase  effect  \\\n",
              "campaign                                                                \n",
              "034ada41b6            в москве открытого типа адрес мрт -цена     9.0   \n",
              "03fcaecd1d                              сделать мрт стромынка     6.5   \n",
              "0697a81555                         мрт позвоночника стромынка     5.5   \n",
              "08cdcb57a3  мрт сао -головы -москве -позвоночника -сделать...     7.4   \n",
              "0f0ba311fb                         сделать мрт новослободская     6.4   \n",
              "\n",
              "                 ad_id                              title  \\\n",
              "campaign                                                    \n",
              "034ada41b6  2428554779  Адрес МРТ открытого типа в Москве   \n",
              "03fcaecd1d  2101705759     Сделайте МРТ на ул. Стромынка!   \n",
              "0697a81555  2101706415  МРТ позвоночника на ул. Стромынка   \n",
              "08cdcb57a3  2101705000       МРТ в САО от 2000₽. Звоните!   \n",
              "0f0ba311fb  2101705726     Сделайте МРТ на Новослободской   \n",
              "\n",
              "                                                         text  \\\n",
              "campaign                                                        \n",
              "034ada41b6  24 часа. От 2 000₽. Консультация врача бесплат...   \n",
              "03fcaecd1d  24 часа. От 2 000₽. Консультация врача бесплат...   \n",
              "0697a81555  24 часа. От 2 000₽. Консультация врача бесплат...   \n",
              "08cdcb57a3  24 часа. МРТ в день обращения. Консультация вр...   \n",
              "0f0ba311fb  24 часа. От 2 000₽. Консультация врача бесплат...   \n",
              "\n",
              "                                                         link  word_count  \\\n",
              "campaign                                                                    \n",
              "034ada41b6  https://awesome-site.ru/?utm_source=yandex&utm...           7   \n",
              "03fcaecd1d  https://awesome-site.ru/?utm_source=yandex&utm...           3   \n",
              "0697a81555  https://awesome-site.ru/?utm_source=yandex&utm...           3   \n",
              "08cdcb57a3  https://awesome-site.ru/?utm_source=yandex&utm...           7   \n",
              "0f0ba311fb  https://awesome-site.ru/?utm_source=yandex&utm...           3   \n",
              "\n",
              "            power_up    mrt  \n",
              "campaign                     \n",
              "034ada41b6     81.00  False  \n",
              "03fcaecd1d     42.25  False  \n",
              "0697a81555     30.25  False  \n",
              "08cdcb57a3     54.76  False  \n",
              "0f0ba311fb     40.96  False  "
            ]
          },
          "execution_count": 57,
          "metadata": {},
          "output_type": "execute_result"
        }
      ],
      "source": [
        "obj.max().head()"
      ]
    },
    {
      "cell_type": "code",
      "execution_count": null,
      "metadata": {
        "scrolled": true,
        "id": "Ihv2HgNR-Nam",
        "outputId": "9f17b922-8682-4157-d7d5-693fae00fe3d"
      },
      "outputs": [
        {
          "data": {
            "text/html": [
              "<div>\n",
              "<style scoped>\n",
              "    .dataframe tbody tr th:only-of-type {\n",
              "        vertical-align: middle;\n",
              "    }\n",
              "\n",
              "    .dataframe tbody tr th {\n",
              "        vertical-align: top;\n",
              "    }\n",
              "\n",
              "    .dataframe thead th {\n",
              "        text-align: right;\n",
              "    }\n",
              "</style>\n",
              "<table border=\"1\" class=\"dataframe\">\n",
              "  <thead>\n",
              "    <tr style=\"text-align: right;\">\n",
              "      <th></th>\n",
              "      <th>effect</th>\n",
              "      <th>ad_id</th>\n",
              "      <th>word_count</th>\n",
              "      <th>power_up</th>\n",
              "      <th>mrt</th>\n",
              "    </tr>\n",
              "    <tr>\n",
              "      <th>campaign</th>\n",
              "      <th></th>\n",
              "      <th></th>\n",
              "      <th></th>\n",
              "      <th></th>\n",
              "      <th></th>\n",
              "    </tr>\n",
              "  </thead>\n",
              "  <tbody>\n",
              "    <tr>\n",
              "      <th>034ada41b6</th>\n",
              "      <td>7.200000</td>\n",
              "      <td>2.428555e+09</td>\n",
              "      <td>6.333333</td>\n",
              "      <td>56.686667</td>\n",
              "      <td>0.0</td>\n",
              "    </tr>\n",
              "    <tr>\n",
              "      <th>03fcaecd1d</th>\n",
              "      <td>5.250000</td>\n",
              "      <td>2.101706e+09</td>\n",
              "      <td>3.000000</td>\n",
              "      <td>29.125000</td>\n",
              "      <td>0.0</td>\n",
              "    </tr>\n",
              "    <tr>\n",
              "      <th>0697a81555</th>\n",
              "      <td>4.750000</td>\n",
              "      <td>2.101706e+09</td>\n",
              "      <td>3.000000</td>\n",
              "      <td>23.125000</td>\n",
              "      <td>0.0</td>\n",
              "    </tr>\n",
              "    <tr>\n",
              "      <th>08cdcb57a3</th>\n",
              "      <td>6.133333</td>\n",
              "      <td>2.101705e+09</td>\n",
              "      <td>3.666667</td>\n",
              "      <td>38.420000</td>\n",
              "      <td>0.0</td>\n",
              "    </tr>\n",
              "    <tr>\n",
              "      <th>0f0ba311fb</th>\n",
              "      <td>5.400000</td>\n",
              "      <td>2.101706e+09</td>\n",
              "      <td>3.000000</td>\n",
              "      <td>30.160000</td>\n",
              "      <td>0.0</td>\n",
              "    </tr>\n",
              "  </tbody>\n",
              "</table>\n",
              "</div>"
            ],
            "text/plain": [
              "              effect         ad_id  word_count   power_up  mrt\n",
              "campaign                                                      \n",
              "034ada41b6  7.200000  2.428555e+09    6.333333  56.686667  0.0\n",
              "03fcaecd1d  5.250000  2.101706e+09    3.000000  29.125000  0.0\n",
              "0697a81555  4.750000  2.101706e+09    3.000000  23.125000  0.0\n",
              "08cdcb57a3  6.133333  2.101705e+09    3.666667  38.420000  0.0\n",
              "0f0ba311fb  5.400000  2.101706e+09    3.000000  30.160000  0.0"
            ]
          },
          "execution_count": 58,
          "metadata": {},
          "output_type": "execute_result"
        }
      ],
      "source": [
        "obj.mean().head()"
      ]
    },
    {
      "cell_type": "markdown",
      "metadata": {
        "id": "cVIjjRNR-Nam"
      },
      "source": [
        "### Несколько функций в группировках"
      ]
    },
    {
      "cell_type": "code",
      "execution_count": null,
      "metadata": {
        "id": "Sth-03Sg-Nam",
        "outputId": "9a16af23-4bc2-4e53-ecc9-e766e5d0ba18"
      },
      "outputs": [
        {
          "data": {
            "text/html": [
              "<div>\n",
              "<style scoped>\n",
              "    .dataframe tbody tr th:only-of-type {\n",
              "        vertical-align: middle;\n",
              "    }\n",
              "\n",
              "    .dataframe tbody tr th {\n",
              "        vertical-align: top;\n",
              "    }\n",
              "\n",
              "    .dataframe thead th {\n",
              "        text-align: right;\n",
              "    }\n",
              "</style>\n",
              "<table border=\"1\" class=\"dataframe\">\n",
              "  <thead>\n",
              "    <tr style=\"text-align: right;\">\n",
              "      <th></th>\n",
              "      <th>min</th>\n",
              "      <th>max</th>\n",
              "    </tr>\n",
              "    <tr>\n",
              "      <th>campaign</th>\n",
              "      <th></th>\n",
              "      <th></th>\n",
              "    </tr>\n",
              "  </thead>\n",
              "  <tbody>\n",
              "    <tr>\n",
              "      <th>034ada41b6</th>\n",
              "      <td>4.1</td>\n",
              "      <td>9.0</td>\n",
              "    </tr>\n",
              "    <tr>\n",
              "      <th>03fcaecd1d</th>\n",
              "      <td>4.0</td>\n",
              "      <td>6.5</td>\n",
              "    </tr>\n",
              "    <tr>\n",
              "      <th>0697a81555</th>\n",
              "      <td>4.0</td>\n",
              "      <td>5.5</td>\n",
              "    </tr>\n",
              "    <tr>\n",
              "      <th>08cdcb57a3</th>\n",
              "      <td>5.5</td>\n",
              "      <td>7.4</td>\n",
              "    </tr>\n",
              "    <tr>\n",
              "      <th>0f0ba311fb</th>\n",
              "      <td>4.4</td>\n",
              "      <td>6.4</td>\n",
              "    </tr>\n",
              "  </tbody>\n",
              "</table>\n",
              "</div>"
            ],
            "text/plain": [
              "            min  max\n",
              "campaign            \n",
              "034ada41b6  4.1  9.0\n",
              "03fcaecd1d  4.0  6.5\n",
              "0697a81555  4.0  5.5\n",
              "08cdcb57a3  5.5  7.4\n",
              "0f0ba311fb  4.4  6.4"
            ]
          },
          "execution_count": 59,
          "metadata": {},
          "output_type": "execute_result"
        }
      ],
      "source": [
        "# задаем несколько функций сразу\n",
        "\n",
        "stats.groupby('campaign').agg(['min', 'max'])['effect'].head()"
      ]
    },
    {
      "cell_type": "code",
      "execution_count": null,
      "metadata": {
        "id": "qpO30SIF-Nam",
        "outputId": "69bef249-0d5e-44b1-aa03-5573748e4142"
      },
      "outputs": [
        {
          "data": {
            "text/html": [
              "<div>\n",
              "<style scoped>\n",
              "    .dataframe tbody tr th:only-of-type {\n",
              "        vertical-align: middle;\n",
              "    }\n",
              "\n",
              "    .dataframe tbody tr th {\n",
              "        vertical-align: top;\n",
              "    }\n",
              "\n",
              "    .dataframe thead tr th {\n",
              "        text-align: left;\n",
              "    }\n",
              "\n",
              "    .dataframe thead tr:last-of-type th {\n",
              "        text-align: right;\n",
              "    }\n",
              "</style>\n",
              "<table border=\"1\" class=\"dataframe\">\n",
              "  <thead>\n",
              "    <tr>\n",
              "      <th></th>\n",
              "      <th colspan=\"2\" halign=\"left\">effect</th>\n",
              "      <th>power_up</th>\n",
              "    </tr>\n",
              "    <tr>\n",
              "      <th></th>\n",
              "      <th>min</th>\n",
              "      <th>max</th>\n",
              "      <th>mean</th>\n",
              "    </tr>\n",
              "    <tr>\n",
              "      <th>campaign</th>\n",
              "      <th></th>\n",
              "      <th></th>\n",
              "      <th></th>\n",
              "    </tr>\n",
              "  </thead>\n",
              "  <tbody>\n",
              "    <tr>\n",
              "      <th>034ada41b6</th>\n",
              "      <td>4.1</td>\n",
              "      <td>9.0</td>\n",
              "      <td>56.686667</td>\n",
              "    </tr>\n",
              "    <tr>\n",
              "      <th>03fcaecd1d</th>\n",
              "      <td>4.0</td>\n",
              "      <td>6.5</td>\n",
              "      <td>29.125000</td>\n",
              "    </tr>\n",
              "    <tr>\n",
              "      <th>0697a81555</th>\n",
              "      <td>4.0</td>\n",
              "      <td>5.5</td>\n",
              "      <td>23.125000</td>\n",
              "    </tr>\n",
              "    <tr>\n",
              "      <th>08cdcb57a3</th>\n",
              "      <td>5.5</td>\n",
              "      <td>7.4</td>\n",
              "      <td>38.420000</td>\n",
              "    </tr>\n",
              "    <tr>\n",
              "      <th>0f0ba311fb</th>\n",
              "      <td>4.4</td>\n",
              "      <td>6.4</td>\n",
              "      <td>30.160000</td>\n",
              "    </tr>\n",
              "  </tbody>\n",
              "</table>\n",
              "</div>"
            ],
            "text/plain": [
              "           effect        power_up\n",
              "              min  max       mean\n",
              "campaign                         \n",
              "034ada41b6    4.1  9.0  56.686667\n",
              "03fcaecd1d    4.0  6.5  29.125000\n",
              "0697a81555    4.0  5.5  23.125000\n",
              "08cdcb57a3    5.5  7.4  38.420000\n",
              "0f0ba311fb    4.4  6.4  30.160000"
            ]
          },
          "execution_count": 60,
          "metadata": {},
          "output_type": "execute_result"
        }
      ],
      "source": [
        "# разные метрики для разных столбцов\n",
        "\n",
        "results = stats.groupby('campaign').agg({'effect': ['min', 'max'], 'power_up': 'mean'})\n",
        "results.head()"
      ]
    },
    {
      "cell_type": "markdown",
      "metadata": {
        "id": "ZFOkO4WG-Nan"
      },
      "source": [
        "### Как обращаться к вложенным столбцам"
      ]
    },
    {
      "cell_type": "code",
      "execution_count": null,
      "metadata": {
        "id": "ZB4J4FKr-Nan",
        "outputId": "58ba4fb7-a126-443a-aa8e-fb31160c1e25"
      },
      "outputs": [
        {
          "data": {
            "text/plain": [
              "campaign\n",
              "034ada41b6    9.0\n",
              "03fcaecd1d    6.5\n",
              "0697a81555    5.5\n",
              "08cdcb57a3    7.4\n",
              "0f0ba311fb    6.4\n",
              "Name: max, dtype: float64"
            ]
          },
          "execution_count": 61,
          "metadata": {},
          "output_type": "execute_result"
        }
      ],
      "source": [
        "results['effect']['max'].head()"
      ]
    },
    {
      "cell_type": "code",
      "execution_count": null,
      "metadata": {
        "id": "7FTfjYXa-Nan",
        "outputId": "18945ad6-6738-4e0a-895f-c712dab5ca39"
      },
      "outputs": [
        {
          "data": {
            "text/plain": [
              "campaign\n",
              "034ada41b6    9.0\n",
              "03fcaecd1d    6.5\n",
              "0697a81555    5.5\n",
              "08cdcb57a3    7.4\n",
              "0f0ba311fb    6.4\n",
              "Name: max, dtype: float64"
            ]
          },
          "execution_count": 62,
          "metadata": {},
          "output_type": "execute_result"
        }
      ],
      "source": [
        "# или даже так\n",
        "stats.groupby('campaign').agg({'effect': ['min', 'max'], 'power_up': 'mean'})['effect']['max'].head()"
      ]
    },
    {
      "cell_type": "code",
      "execution_count": null,
      "metadata": {
        "id": "8uiPaaLr-Nan",
        "outputId": "5502e926-32d9-49ee-fc20-31b3c562b918"
      },
      "outputs": [
        {
          "data": {
            "text/html": [
              "<div>\n",
              "<style scoped>\n",
              "    .dataframe tbody tr th:only-of-type {\n",
              "        vertical-align: middle;\n",
              "    }\n",
              "\n",
              "    .dataframe tbody tr th {\n",
              "        vertical-align: top;\n",
              "    }\n",
              "\n",
              "    .dataframe thead th {\n",
              "        text-align: right;\n",
              "    }\n",
              "</style>\n",
              "<table border=\"1\" class=\"dataframe\">\n",
              "  <thead>\n",
              "    <tr style=\"text-align: right;\">\n",
              "      <th></th>\n",
              "      <th></th>\n",
              "      <th>phrase</th>\n",
              "      <th>effect</th>\n",
              "      <th>ad_id</th>\n",
              "      <th>title</th>\n",
              "      <th>text</th>\n",
              "      <th>link</th>\n",
              "      <th>word_count</th>\n",
              "      <th>power_up</th>\n",
              "      <th>mrt</th>\n",
              "    </tr>\n",
              "    <tr>\n",
              "      <th>group</th>\n",
              "      <th>campaign</th>\n",
              "      <th></th>\n",
              "      <th></th>\n",
              "      <th></th>\n",
              "      <th></th>\n",
              "      <th></th>\n",
              "      <th></th>\n",
              "      <th></th>\n",
              "      <th></th>\n",
              "      <th></th>\n",
              "    </tr>\n",
              "  </thead>\n",
              "  <tbody>\n",
              "    <tr>\n",
              "      <th rowspan=\"3\" valign=\"top\">1 5 москва мрт тесла</th>\n",
              "      <th>777160ba51</th>\n",
              "      <td>1</td>\n",
              "      <td>1</td>\n",
              "      <td>1</td>\n",
              "      <td>1</td>\n",
              "      <td>1</td>\n",
              "      <td>1</td>\n",
              "      <td>1</td>\n",
              "      <td>1</td>\n",
              "      <td>1</td>\n",
              "    </tr>\n",
              "    <tr>\n",
              "      <th>8e77a0e565</th>\n",
              "      <td>1</td>\n",
              "      <td>1</td>\n",
              "      <td>1</td>\n",
              "      <td>1</td>\n",
              "      <td>1</td>\n",
              "      <td>1</td>\n",
              "      <td>1</td>\n",
              "      <td>1</td>\n",
              "      <td>1</td>\n",
              "    </tr>\n",
              "    <tr>\n",
              "      <th>f0079349af</th>\n",
              "      <td>1</td>\n",
              "      <td>1</td>\n",
              "      <td>1</td>\n",
              "      <td>1</td>\n",
              "      <td>1</td>\n",
              "      <td>1</td>\n",
              "      <td>1</td>\n",
              "      <td>1</td>\n",
              "      <td>1</td>\n",
              "    </tr>\n",
              "    <tr>\n",
              "      <th>1 градская мрт</th>\n",
              "      <th>7f35591a28</th>\n",
              "      <td>3</td>\n",
              "      <td>3</td>\n",
              "      <td>3</td>\n",
              "      <td>3</td>\n",
              "      <td>3</td>\n",
              "      <td>3</td>\n",
              "      <td>3</td>\n",
              "      <td>3</td>\n",
              "      <td>3</td>\n",
              "    </tr>\n",
              "    <tr>\n",
              "      <th>1 мрт нагатинский</th>\n",
              "      <th>8e77a0e565</th>\n",
              "      <td>1</td>\n",
              "      <td>1</td>\n",
              "      <td>1</td>\n",
              "      <td>1</td>\n",
              "      <td>1</td>\n",
              "      <td>1</td>\n",
              "      <td>1</td>\n",
              "      <td>1</td>\n",
              "      <td>1</td>\n",
              "    </tr>\n",
              "  </tbody>\n",
              "</table>\n",
              "</div>"
            ],
            "text/plain": [
              "                                 phrase  effect  ad_id  title  text  link  \\\n",
              "group                campaign                                               \n",
              "1 5 москва мрт тесла 777160ba51       1       1      1      1     1     1   \n",
              "                     8e77a0e565       1       1      1      1     1     1   \n",
              "                     f0079349af       1       1      1      1     1     1   \n",
              "1 градская мрт       7f35591a28       3       3      3      3     3     3   \n",
              "1 мрт нагатинский    8e77a0e565       1       1      1      1     1     1   \n",
              "\n",
              "                                 word_count  power_up  mrt  \n",
              "group                campaign                               \n",
              "1 5 москва мрт тесла 777160ba51           1         1    1  \n",
              "                     8e77a0e565           1         1    1  \n",
              "                     f0079349af           1         1    1  \n",
              "1 градская мрт       7f35591a28           3         3    3  \n",
              "1 мрт нагатинский    8e77a0e565           1         1    1  "
            ]
          },
          "execution_count": 63,
          "metadata": {},
          "output_type": "execute_result"
        }
      ],
      "source": [
        "# группировка по нескольким столбцам\n",
        "\n",
        "stats.groupby(['group', 'campaign']).count().head()"
      ]
    },
    {
      "cell_type": "code",
      "execution_count": null,
      "metadata": {
        "id": "VBHce-oj-Nao",
        "outputId": "dc88101a-85f6-4db7-fdb3-55a8805c57a6"
      },
      "outputs": [
        {
          "data": {
            "text/html": [
              "<div>\n",
              "<style scoped>\n",
              "    .dataframe tbody tr th:only-of-type {\n",
              "        vertical-align: middle;\n",
              "    }\n",
              "\n",
              "    .dataframe tbody tr th {\n",
              "        vertical-align: top;\n",
              "    }\n",
              "\n",
              "    .dataframe thead th {\n",
              "        text-align: right;\n",
              "    }\n",
              "</style>\n",
              "<table border=\"1\" class=\"dataframe\">\n",
              "  <thead>\n",
              "    <tr style=\"text-align: right;\">\n",
              "      <th></th>\n",
              "      <th></th>\n",
              "      <th>phrase</th>\n",
              "      <th>effect</th>\n",
              "      <th>ad_id</th>\n",
              "      <th>title</th>\n",
              "      <th>text</th>\n",
              "      <th>link</th>\n",
              "      <th>word_count</th>\n",
              "      <th>power_up</th>\n",
              "      <th>mrt</th>\n",
              "    </tr>\n",
              "    <tr>\n",
              "      <th>group</th>\n",
              "      <th>campaign</th>\n",
              "      <th></th>\n",
              "      <th></th>\n",
              "      <th></th>\n",
              "      <th></th>\n",
              "      <th></th>\n",
              "      <th></th>\n",
              "      <th></th>\n",
              "      <th></th>\n",
              "      <th></th>\n",
              "    </tr>\n",
              "  </thead>\n",
              "  <tbody>\n",
              "    <tr>\n",
              "      <th>мрт на алексеевской кулаков переулок 13</th>\n",
              "      <th>7f35591a28</th>\n",
              "      <td>3</td>\n",
              "      <td>3</td>\n",
              "      <td>3</td>\n",
              "      <td>3</td>\n",
              "      <td>3</td>\n",
              "      <td>3</td>\n",
              "      <td>3</td>\n",
              "      <td>3</td>\n",
              "      <td>3</td>\n",
              "    </tr>\n",
              "    <tr>\n",
              "      <th>мрт каширское шоссе</th>\n",
              "      <th>7f35591a28</th>\n",
              "      <td>3</td>\n",
              "      <td>3</td>\n",
              "      <td>3</td>\n",
              "      <td>3</td>\n",
              "      <td>3</td>\n",
              "      <td>3</td>\n",
              "      <td>3</td>\n",
              "      <td>3</td>\n",
              "      <td>3</td>\n",
              "    </tr>\n",
              "    <tr>\n",
              "      <th>мрт кутузовский</th>\n",
              "      <th>7f35591a28</th>\n",
              "      <td>3</td>\n",
              "      <td>3</td>\n",
              "      <td>3</td>\n",
              "      <td>3</td>\n",
              "      <td>3</td>\n",
              "      <td>3</td>\n",
              "      <td>3</td>\n",
              "      <td>3</td>\n",
              "      <td>3</td>\n",
              "    </tr>\n",
              "    <tr>\n",
              "      <th>мрт куркинское шоссе 30</th>\n",
              "      <th>7f35591a28</th>\n",
              "      <td>3</td>\n",
              "      <td>3</td>\n",
              "      <td>3</td>\n",
              "      <td>3</td>\n",
              "      <td>3</td>\n",
              "      <td>3</td>\n",
              "      <td>3</td>\n",
              "      <td>3</td>\n",
              "      <td>3</td>\n",
              "    </tr>\n",
              "    <tr>\n",
              "      <th>мрт куркино</th>\n",
              "      <th>7f35591a28</th>\n",
              "      <td>3</td>\n",
              "      <td>3</td>\n",
              "      <td>3</td>\n",
              "      <td>3</td>\n",
              "      <td>3</td>\n",
              "      <td>3</td>\n",
              "      <td>3</td>\n",
              "      <td>3</td>\n",
              "      <td>3</td>\n",
              "    </tr>\n",
              "  </tbody>\n",
              "</table>\n",
              "</div>"
            ],
            "text/plain": [
              "                                                    phrase  effect  ad_id  \\\n",
              "group                                   campaign                            \n",
              "мрт на алексеевской кулаков переулок 13 7f35591a28       3       3      3   \n",
              "мрт каширское шоссе                     7f35591a28       3       3      3   \n",
              "мрт кутузовский                         7f35591a28       3       3      3   \n",
              "мрт куркинское шоссе 30                 7f35591a28       3       3      3   \n",
              "мрт куркино                             7f35591a28       3       3      3   \n",
              "\n",
              "                                                    title  text  link  \\\n",
              "group                                   campaign                        \n",
              "мрт на алексеевской кулаков переулок 13 7f35591a28      3     3     3   \n",
              "мрт каширское шоссе                     7f35591a28      3     3     3   \n",
              "мрт кутузовский                         7f35591a28      3     3     3   \n",
              "мрт куркинское шоссе 30                 7f35591a28      3     3     3   \n",
              "мрт куркино                             7f35591a28      3     3     3   \n",
              "\n",
              "                                                    word_count  power_up  mrt  \n",
              "group                                   campaign                               \n",
              "мрт на алексеевской кулаков переулок 13 7f35591a28           3         3    3  \n",
              "мрт каширское шоссе                     7f35591a28           3         3    3  \n",
              "мрт кутузовский                         7f35591a28           3         3    3  \n",
              "мрт куркинское шоссе 30                 7f35591a28           3         3    3  \n",
              "мрт куркино                             7f35591a28           3         3    3  "
            ]
          },
          "execution_count": 64,
          "metadata": {},
          "output_type": "execute_result"
        }
      ],
      "source": [
        "# максимальное число объявлений в одной группе\n",
        "\n",
        "stats.groupby(['group', 'campaign']).count().sort_values('phrase', ascending=False).head()"
      ]
    }
  ],
  "metadata": {
    "kernelspec": {
      "display_name": "Python 3",
      "language": "python",
      "name": "python3"
    },
    "language_info": {
      "codemirror_mode": {
        "name": "ipython",
        "version": 3
      },
      "file_extension": ".py",
      "mimetype": "text/x-python",
      "name": "python",
      "nbconvert_exporter": "python",
      "pygments_lexer": "ipython3",
      "version": "3.7.0"
    },
    "colab": {
      "name": "PYDA11_PanDas_groupby_HW.ipynb",
      "provenance": [],
      "include_colab_link": true
    }
  },
  "nbformat": 4,
  "nbformat_minor": 0
}