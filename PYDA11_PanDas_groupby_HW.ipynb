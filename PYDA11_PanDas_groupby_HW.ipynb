{
  "cells": [
    {
      "cell_type": "markdown",
      "metadata": {
        "id": "view-in-github",
        "colab_type": "text"
      },
      "source": [
        "<a href=\"https://colab.research.google.com/github/sky16k/pyda/blob/main/PYDA11_PanDas_groupby_HW.ipynb\" target=\"_parent\"><img src=\"https://colab.research.google.com/assets/colab-badge.svg\" alt=\"Open In Colab\"/></a>"
      ]
    },
    {
      "cell_type": "markdown",
      "source": [
        "#Домашнее задание"
      ],
      "metadata": {
        "id": "xut-1lrgNCEM"
      }
    },
    {
      "cell_type": "markdown",
      "source": [
        "## осн. текст"
      ],
      "metadata": {
        "id": "p9YQFxg3dvW2"
      }
    },
    {
      "cell_type": "code",
      "source": [
        "'''\n",
        "Преподаватель: Константин Башевой\n",
        "**Домашнее задание к лекции.\n",
        "\n",
        "Задание 1**\n",
        "Напишите функцию, которая классифицирует фильмы из материалов занятия по следующим правилам:\n",
        "- оценка 2 и меньше - низкий рейтинг\n",
        "- оценка 4 и меньше - средний рейтинг\n",
        "- оценка 4.5 и 5 - высокий рейтинг\n",
        "\n",
        "Результат классификации запишите в столбец class\n",
        "\n",
        "Задание 2\n",
        "Используем файл keywords.csv.\n",
        "\n",
        "Необходимо написать гео-классификатор, который каждой строке сможет выставить географическую принадлежность определенному региону. Т. е. если поисковый запрос содержит название города региона, то в столбце ‘region’ пишется название этого региона. Если поисковый запрос не содержит названия города, то ставим ‘undefined’.\n",
        "\n",
        "Правила распределения по регионам Центр, Северо-Запад и Дальний Восток:\n",
        "\n",
        "geo_data = {\n",
        "\n",
        "1\n",
        "2\n",
        "3\n",
        "4\n",
        "5\n",
        "'Центр': ['москва', 'тула', 'ярославль'],\n",
        "\n",
        "'Северо-Запад': ['петербург', 'псков', 'мурманск'],\n",
        "\n",
        "'Дальний Восток': ['владивосток', 'сахалин', 'хабаровск']\n",
        "}\n",
        "\n",
        "Результат классификации запишите в отдельный столбец region.\n",
        "\n",
        "Задание 3 (бонусное)\n",
        "\n",
        "Есть мнение, что “раньше снимали настоящее кино, не то что сейчас”. Ваша задача проверить это утверждение, используя файлы с рейтингами фильмов из прошлого домашнего занятия (файл movies.csv и ratings.csv из базы grouplens.org.../movielens). Т. е. проверить верно ли, что с ростом года выпуска фильма его средний рейтинг становится ниже.\n",
        "\n",
        "При этом мы не будем затрагивать субьективные факторы выставления этих рейтингов, а пройдемся по следующему алгоритму:\n",
        "\n",
        "В переменную years запишите список из всех годов с 1950 по 2010.\n",
        "\n",
        "Напишите функцию production_year, которая каждой строке из названия фильма выставляет год выпуска. Не все названия фильмов содержат год выпуска в одинаковом формате, поэтому используйте следующий алгоритм:\n",
        "\n",
        "для каждой строки пройдите по всем годам списка years\n",
        "если номер года присутствует в названии фильма, то функция возвращает этот год как год выпуска\n",
        "если ни один из номеров года списка years не встретился в названии фильма, то возвращается 1900 год\n",
        "Запишите год выпуска фильма по алгоритму пункта 2 в новый столбец ‘year’\n",
        "\n",
        "Посчитайте средний рейтинг всех фильмов для каждого значения столбца ‘year’ и отсортируйте результат по убыванию рейтинга\n",
        "\n",
        "P/S/ все файлы находятся в архиве «дополнительные файлы к лекции и дз»\n",
        "\n",
        "Важно! При копировании юпитер ноутбука изменяет кавычки ’ на ` , что может способствовать ошибки в коде. В данной ситуации необходимо их просто заменить.\n",
        "'''"
      ],
      "metadata": {
        "id": "r6XxRCktd2fw",
        "colab": {
          "base_uri": "https://localhost:8080/",
          "height": 0
        },
        "outputId": "47af4f10-f659-4037-dcec-428ca4166c77"
      },
      "execution_count": 1,
      "outputs": [
        {
          "output_type": "execute_result",
          "data": {
            "text/plain": [
              "\"\\nПреподаватель: Константин Башевой\\n**Домашнее задание к лекции.\\n\\nЗадание 1**\\nНапишите функцию, которая классифицирует фильмы из материалов занятия по следующим правилам:\\n- оценка 2 и меньше - низкий рейтинг\\n- оценка 4 и меньше - средний рейтинг\\n- оценка 4.5 и 5 - высокий рейтинг\\n\\nРезультат классификации запишите в столбец class\\n\\nЗадание 2\\nИспользуем файл keywords.csv.\\n\\nНеобходимо написать гео-классификатор, который каждой строке сможет выставить географическую принадлежность определенному региону. Т. е. если поисковый запрос содержит название города региона, то в столбце ‘region’ пишется название этого региона. Если поисковый запрос не содержит названия города, то ставим ‘undefined’.\\n\\nПравила распределения по регионам Центр, Северо-Запад и Дальний Восток:\\n\\ngeo_data = {\\n\\n1\\n2\\n3\\n4\\n5\\n'Центр': ['москва', 'тула', 'ярославль'],\\n\\n'Северо-Запад': ['петербург', 'псков', 'мурманск'],\\n\\n'Дальний Восток': ['владивосток', 'сахалин', 'хабаровск']\\n}\\n\\nРезультат классификации запишите в отдельный столбец region.\\n\\nЗадание 3 (бонусное)\\n\\nЕсть мнение, что “раньше снимали настоящее кино, не то что сейчас”. Ваша задача проверить это утверждение, используя файлы с рейтингами фильмов из прошлого домашнего занятия (файл movies.csv и ratings.csv из базы grouplens.org.../movielens). Т. е. проверить верно ли, что с ростом года выпуска фильма его средний рейтинг становится ниже.\\n\\nПри этом мы не будем затрагивать субьективные факторы выставления этих рейтингов, а пройдемся по следующему алгоритму:\\n\\nВ переменную years запишите список из всех годов с 1950 по 2010.\\n\\nНапишите функцию production_year, которая каждой строке из названия фильма выставляет год выпуска. Не все названия фильмов содержат год выпуска в одинаковом формате, поэтому используйте следующий алгоритм:\\n\\nдля каждой строки пройдите по всем годам списка years\\nесли номер года присутствует в названии фильма, то функция возвращает этот год как год выпуска\\nесли ни один из номеров года списка years не встретился в названии фильма, то возвращается 1900 год\\nЗапишите год выпуска фильма по алгоритму пункта 2 в новый столбец ‘year’\\n\\nПосчитайте средний рейтинг всех фильмов для каждого значения столбца ‘year’ и отсортируйте результат по убыванию рейтинга\\n\\nP/S/ все файлы находятся в архиве «дополнительные файлы к лекции и дз»\\n\\nВажно! При копировании юпитер ноутбука изменяет кавычки ’ на ` , что может способствовать ошибки в коде. В данной ситуации необходимо их просто заменить.\\n\""
            ],
            "application/vnd.google.colaboratory.intrinsic+json": {
              "type": "string"
            }
          },
          "metadata": {},
          "execution_count": 1
        }
      ]
    },
    {
      "cell_type": "markdown",
      "source": [
        "## Задание 1"
      ],
      "metadata": {
        "id": "K28MI5k_MbDE"
      }
    },
    {
      "cell_type": "markdown",
      "source": [
        "###текст"
      ],
      "metadata": {
        "id": "_m6QJdwtMeFu"
      }
    },
    {
      "cell_type": "code",
      "source": [
        "# комментарий эксперта\n",
        "'''\n",
        "\n",
        "'''"
      ],
      "metadata": {
        "id": "LG7Q1soZ97bI",
        "colab": {
          "base_uri": "https://localhost:8080/",
          "height": 35
        },
        "outputId": "a5cde6cd-5972-4d76-f2e7-ef5e2b2b7a4f"
      },
      "execution_count": 2,
      "outputs": [
        {
          "output_type": "execute_result",
          "data": {
            "text/plain": [
              "'\\n\\n'"
            ],
            "application/vnd.google.colaboratory.intrinsic+json": {
              "type": "string"
            }
          },
          "metadata": {},
          "execution_count": 2
        }
      ]
    },
    {
      "cell_type": "code",
      "source": [
        "'''\n",
        "Задание 1**\n",
        "Напишите функцию, которая классифицирует фильмы \n",
        "из материалов занятия по следующим правилам:\n",
        "- оценка 2 и меньше - низкий рейтинг\n",
        "- оценка 4 и меньше - средний рейтинг\n",
        "- оценка 4.5 и 5 - высокий рейтинг\n",
        "\n",
        "Результат классификации запишите в столбец class\n",
        "'''"
      ],
      "metadata": {
        "id": "6jF-_YjBMe2t",
        "colab": {
          "base_uri": "https://localhost:8080/",
          "height": 52
        },
        "outputId": "84f507f8-91e2-41a8-df81-b65b74886e2f"
      },
      "execution_count": 3,
      "outputs": [
        {
          "output_type": "execute_result",
          "data": {
            "text/plain": [
              "'\\nЗадание 1**\\nНапишите функцию, которая классифицирует фильмы \\nиз материалов занятия по следующим правилам:\\n- оценка 2 и меньше - низкий рейтинг\\n- оценка 4 и меньше - средний рейтинг\\n- оценка 4.5 и 5 - высокий рейтинг\\n\\nРезультат классификации запишите в столбец class\\n'"
            ],
            "application/vnd.google.colaboratory.intrinsic+json": {
              "type": "string"
            }
          },
          "metadata": {},
          "execution_count": 3
        }
      ]
    },
    {
      "cell_type": "markdown",
      "source": [
        "###программа"
      ],
      "metadata": {
        "id": "KjSvPiWdMfT5"
      }
    },
    {
      "cell_type": "code",
      "source": [
        "import pandas as pd\n"
      ],
      "metadata": {
        "id": "3o0lOm-gMfqS"
      },
      "execution_count": 4,
      "outputs": []
    },
    {
      "cell_type": "code",
      "source": [
        "df = pd.read_csv('ratings.csv')\n",
        "df"
      ],
      "metadata": {
        "id": "klqicdcgdUro",
        "colab": {
          "base_uri": "https://localhost:8080/",
          "height": 423
        },
        "outputId": "0167fee6-68b9-4eeb-ebec-58ea39e43541"
      },
      "execution_count": 5,
      "outputs": [
        {
          "output_type": "execute_result",
          "data": {
            "text/plain": [
              "        userId  movieId  rating   timestamp\n",
              "0            1        1     4.0   964982703\n",
              "1            1        3     4.0   964981247\n",
              "2            1        6     4.0   964982224\n",
              "3            1       47     5.0   964983815\n",
              "4            1       50     5.0   964982931\n",
              "...        ...      ...     ...         ...\n",
              "100831     610   166534     4.0  1493848402\n",
              "100832     610   168248     5.0  1493850091\n",
              "100833     610   168250     5.0  1494273047\n",
              "100834     610   168252     5.0  1493846352\n",
              "100835     610   170875     3.0  1493846415\n",
              "\n",
              "[100836 rows x 4 columns]"
            ],
            "text/html": [
              "\n",
              "  <div id=\"df-4963935e-5ecd-4c0c-bda2-31f54c9f7f46\">\n",
              "    <div class=\"colab-df-container\">\n",
              "      <div>\n",
              "<style scoped>\n",
              "    .dataframe tbody tr th:only-of-type {\n",
              "        vertical-align: middle;\n",
              "    }\n",
              "\n",
              "    .dataframe tbody tr th {\n",
              "        vertical-align: top;\n",
              "    }\n",
              "\n",
              "    .dataframe thead th {\n",
              "        text-align: right;\n",
              "    }\n",
              "</style>\n",
              "<table border=\"1\" class=\"dataframe\">\n",
              "  <thead>\n",
              "    <tr style=\"text-align: right;\">\n",
              "      <th></th>\n",
              "      <th>userId</th>\n",
              "      <th>movieId</th>\n",
              "      <th>rating</th>\n",
              "      <th>timestamp</th>\n",
              "    </tr>\n",
              "  </thead>\n",
              "  <tbody>\n",
              "    <tr>\n",
              "      <th>0</th>\n",
              "      <td>1</td>\n",
              "      <td>1</td>\n",
              "      <td>4.0</td>\n",
              "      <td>964982703</td>\n",
              "    </tr>\n",
              "    <tr>\n",
              "      <th>1</th>\n",
              "      <td>1</td>\n",
              "      <td>3</td>\n",
              "      <td>4.0</td>\n",
              "      <td>964981247</td>\n",
              "    </tr>\n",
              "    <tr>\n",
              "      <th>2</th>\n",
              "      <td>1</td>\n",
              "      <td>6</td>\n",
              "      <td>4.0</td>\n",
              "      <td>964982224</td>\n",
              "    </tr>\n",
              "    <tr>\n",
              "      <th>3</th>\n",
              "      <td>1</td>\n",
              "      <td>47</td>\n",
              "      <td>5.0</td>\n",
              "      <td>964983815</td>\n",
              "    </tr>\n",
              "    <tr>\n",
              "      <th>4</th>\n",
              "      <td>1</td>\n",
              "      <td>50</td>\n",
              "      <td>5.0</td>\n",
              "      <td>964982931</td>\n",
              "    </tr>\n",
              "    <tr>\n",
              "      <th>...</th>\n",
              "      <td>...</td>\n",
              "      <td>...</td>\n",
              "      <td>...</td>\n",
              "      <td>...</td>\n",
              "    </tr>\n",
              "    <tr>\n",
              "      <th>100831</th>\n",
              "      <td>610</td>\n",
              "      <td>166534</td>\n",
              "      <td>4.0</td>\n",
              "      <td>1493848402</td>\n",
              "    </tr>\n",
              "    <tr>\n",
              "      <th>100832</th>\n",
              "      <td>610</td>\n",
              "      <td>168248</td>\n",
              "      <td>5.0</td>\n",
              "      <td>1493850091</td>\n",
              "    </tr>\n",
              "    <tr>\n",
              "      <th>100833</th>\n",
              "      <td>610</td>\n",
              "      <td>168250</td>\n",
              "      <td>5.0</td>\n",
              "      <td>1494273047</td>\n",
              "    </tr>\n",
              "    <tr>\n",
              "      <th>100834</th>\n",
              "      <td>610</td>\n",
              "      <td>168252</td>\n",
              "      <td>5.0</td>\n",
              "      <td>1493846352</td>\n",
              "    </tr>\n",
              "    <tr>\n",
              "      <th>100835</th>\n",
              "      <td>610</td>\n",
              "      <td>170875</td>\n",
              "      <td>3.0</td>\n",
              "      <td>1493846415</td>\n",
              "    </tr>\n",
              "  </tbody>\n",
              "</table>\n",
              "<p>100836 rows × 4 columns</p>\n",
              "</div>\n",
              "      <button class=\"colab-df-convert\" onclick=\"convertToInteractive('df-4963935e-5ecd-4c0c-bda2-31f54c9f7f46')\"\n",
              "              title=\"Convert this dataframe to an interactive table.\"\n",
              "              style=\"display:none;\">\n",
              "        \n",
              "  <svg xmlns=\"http://www.w3.org/2000/svg\" height=\"24px\"viewBox=\"0 0 24 24\"\n",
              "       width=\"24px\">\n",
              "    <path d=\"M0 0h24v24H0V0z\" fill=\"none\"/>\n",
              "    <path d=\"M18.56 5.44l.94 2.06.94-2.06 2.06-.94-2.06-.94-.94-2.06-.94 2.06-2.06.94zm-11 1L8.5 8.5l.94-2.06 2.06-.94-2.06-.94L8.5 2.5l-.94 2.06-2.06.94zm10 10l.94 2.06.94-2.06 2.06-.94-2.06-.94-.94-2.06-.94 2.06-2.06.94z\"/><path d=\"M17.41 7.96l-1.37-1.37c-.4-.4-.92-.59-1.43-.59-.52 0-1.04.2-1.43.59L10.3 9.45l-7.72 7.72c-.78.78-.78 2.05 0 2.83L4 21.41c.39.39.9.59 1.41.59.51 0 1.02-.2 1.41-.59l7.78-7.78 2.81-2.81c.8-.78.8-2.07 0-2.86zM5.41 20L4 18.59l7.72-7.72 1.47 1.35L5.41 20z\"/>\n",
              "  </svg>\n",
              "      </button>\n",
              "      \n",
              "  <style>\n",
              "    .colab-df-container {\n",
              "      display:flex;\n",
              "      flex-wrap:wrap;\n",
              "      gap: 12px;\n",
              "    }\n",
              "\n",
              "    .colab-df-convert {\n",
              "      background-color: #E8F0FE;\n",
              "      border: none;\n",
              "      border-radius: 50%;\n",
              "      cursor: pointer;\n",
              "      display: none;\n",
              "      fill: #1967D2;\n",
              "      height: 32px;\n",
              "      padding: 0 0 0 0;\n",
              "      width: 32px;\n",
              "    }\n",
              "\n",
              "    .colab-df-convert:hover {\n",
              "      background-color: #E2EBFA;\n",
              "      box-shadow: 0px 1px 2px rgba(60, 64, 67, 0.3), 0px 1px 3px 1px rgba(60, 64, 67, 0.15);\n",
              "      fill: #174EA6;\n",
              "    }\n",
              "\n",
              "    [theme=dark] .colab-df-convert {\n",
              "      background-color: #3B4455;\n",
              "      fill: #D2E3FC;\n",
              "    }\n",
              "\n",
              "    [theme=dark] .colab-df-convert:hover {\n",
              "      background-color: #434B5C;\n",
              "      box-shadow: 0px 1px 3px 1px rgba(0, 0, 0, 0.15);\n",
              "      filter: drop-shadow(0px 1px 2px rgba(0, 0, 0, 0.3));\n",
              "      fill: #FFFFFF;\n",
              "    }\n",
              "  </style>\n",
              "\n",
              "      <script>\n",
              "        const buttonEl =\n",
              "          document.querySelector('#df-4963935e-5ecd-4c0c-bda2-31f54c9f7f46 button.colab-df-convert');\n",
              "        buttonEl.style.display =\n",
              "          google.colab.kernel.accessAllowed ? 'block' : 'none';\n",
              "\n",
              "        async function convertToInteractive(key) {\n",
              "          const element = document.querySelector('#df-4963935e-5ecd-4c0c-bda2-31f54c9f7f46');\n",
              "          const dataTable =\n",
              "            await google.colab.kernel.invokeFunction('convertToInteractive',\n",
              "                                                     [key], {});\n",
              "          if (!dataTable) return;\n",
              "\n",
              "          const docLinkHtml = 'Like what you see? Visit the ' +\n",
              "            '<a target=\"_blank\" href=https://colab.research.google.com/notebooks/data_table.ipynb>data table notebook</a>'\n",
              "            + ' to learn more about interactive tables.';\n",
              "          element.innerHTML = '';\n",
              "          dataTable['output_type'] = 'display_data';\n",
              "          await google.colab.output.renderOutput(dataTable, element);\n",
              "          const docLink = document.createElement('div');\n",
              "          docLink.innerHTML = docLinkHtml;\n",
              "          element.appendChild(docLink);\n",
              "        }\n",
              "      </script>\n",
              "    </div>\n",
              "  </div>\n",
              "  "
            ]
          },
          "metadata": {},
          "execution_count": 5
        }
      ]
    },
    {
      "cell_type": "code",
      "source": [
        "# классификация\n",
        "# определить класс по рейтингу \n",
        "def classify (rate) :\n",
        "    if       rate <= 2 : return 'низкий рейтинг'  #\n",
        "    elif 2 < rate <= 4 : return 'средний рейтинг' #\n",
        "    elif 4 < rate      : return 'высокий рейтинг' #\n"
      ],
      "metadata": {
        "id": "23RrTYaNdUMT"
      },
      "execution_count": 6,
      "outputs": []
    },
    {
      "cell_type": "code",
      "source": [
        "df['class'] = (df.rating        # взять столбец \"рейтингов\"\n",
        "               .apply(classify) # применить функцию классификации\n",
        "               )\n",
        "# df.sort_values(by='rating')\n",
        "df"
      ],
      "metadata": {
        "id": "tWbuoJzLdT9E",
        "colab": {
          "base_uri": "https://localhost:8080/",
          "height": 423
        },
        "outputId": "523a1ed2-e538-411e-fed6-7e4fb08ca0ac"
      },
      "execution_count": 7,
      "outputs": [
        {
          "output_type": "execute_result",
          "data": {
            "text/plain": [
              "        userId  movieId  rating   timestamp            class\n",
              "0            1        1     4.0   964982703  средний рейтинг\n",
              "1            1        3     4.0   964981247  средний рейтинг\n",
              "2            1        6     4.0   964982224  средний рейтинг\n",
              "3            1       47     5.0   964983815  высокий рейтинг\n",
              "4            1       50     5.0   964982931  высокий рейтинг\n",
              "...        ...      ...     ...         ...              ...\n",
              "100831     610   166534     4.0  1493848402  средний рейтинг\n",
              "100832     610   168248     5.0  1493850091  высокий рейтинг\n",
              "100833     610   168250     5.0  1494273047  высокий рейтинг\n",
              "100834     610   168252     5.0  1493846352  высокий рейтинг\n",
              "100835     610   170875     3.0  1493846415  средний рейтинг\n",
              "\n",
              "[100836 rows x 5 columns]"
            ],
            "text/html": [
              "\n",
              "  <div id=\"df-0b1d610e-ba7a-429e-93f8-983791153666\">\n",
              "    <div class=\"colab-df-container\">\n",
              "      <div>\n",
              "<style scoped>\n",
              "    .dataframe tbody tr th:only-of-type {\n",
              "        vertical-align: middle;\n",
              "    }\n",
              "\n",
              "    .dataframe tbody tr th {\n",
              "        vertical-align: top;\n",
              "    }\n",
              "\n",
              "    .dataframe thead th {\n",
              "        text-align: right;\n",
              "    }\n",
              "</style>\n",
              "<table border=\"1\" class=\"dataframe\">\n",
              "  <thead>\n",
              "    <tr style=\"text-align: right;\">\n",
              "      <th></th>\n",
              "      <th>userId</th>\n",
              "      <th>movieId</th>\n",
              "      <th>rating</th>\n",
              "      <th>timestamp</th>\n",
              "      <th>class</th>\n",
              "    </tr>\n",
              "  </thead>\n",
              "  <tbody>\n",
              "    <tr>\n",
              "      <th>0</th>\n",
              "      <td>1</td>\n",
              "      <td>1</td>\n",
              "      <td>4.0</td>\n",
              "      <td>964982703</td>\n",
              "      <td>средний рейтинг</td>\n",
              "    </tr>\n",
              "    <tr>\n",
              "      <th>1</th>\n",
              "      <td>1</td>\n",
              "      <td>3</td>\n",
              "      <td>4.0</td>\n",
              "      <td>964981247</td>\n",
              "      <td>средний рейтинг</td>\n",
              "    </tr>\n",
              "    <tr>\n",
              "      <th>2</th>\n",
              "      <td>1</td>\n",
              "      <td>6</td>\n",
              "      <td>4.0</td>\n",
              "      <td>964982224</td>\n",
              "      <td>средний рейтинг</td>\n",
              "    </tr>\n",
              "    <tr>\n",
              "      <th>3</th>\n",
              "      <td>1</td>\n",
              "      <td>47</td>\n",
              "      <td>5.0</td>\n",
              "      <td>964983815</td>\n",
              "      <td>высокий рейтинг</td>\n",
              "    </tr>\n",
              "    <tr>\n",
              "      <th>4</th>\n",
              "      <td>1</td>\n",
              "      <td>50</td>\n",
              "      <td>5.0</td>\n",
              "      <td>964982931</td>\n",
              "      <td>высокий рейтинг</td>\n",
              "    </tr>\n",
              "    <tr>\n",
              "      <th>...</th>\n",
              "      <td>...</td>\n",
              "      <td>...</td>\n",
              "      <td>...</td>\n",
              "      <td>...</td>\n",
              "      <td>...</td>\n",
              "    </tr>\n",
              "    <tr>\n",
              "      <th>100831</th>\n",
              "      <td>610</td>\n",
              "      <td>166534</td>\n",
              "      <td>4.0</td>\n",
              "      <td>1493848402</td>\n",
              "      <td>средний рейтинг</td>\n",
              "    </tr>\n",
              "    <tr>\n",
              "      <th>100832</th>\n",
              "      <td>610</td>\n",
              "      <td>168248</td>\n",
              "      <td>5.0</td>\n",
              "      <td>1493850091</td>\n",
              "      <td>высокий рейтинг</td>\n",
              "    </tr>\n",
              "    <tr>\n",
              "      <th>100833</th>\n",
              "      <td>610</td>\n",
              "      <td>168250</td>\n",
              "      <td>5.0</td>\n",
              "      <td>1494273047</td>\n",
              "      <td>высокий рейтинг</td>\n",
              "    </tr>\n",
              "    <tr>\n",
              "      <th>100834</th>\n",
              "      <td>610</td>\n",
              "      <td>168252</td>\n",
              "      <td>5.0</td>\n",
              "      <td>1493846352</td>\n",
              "      <td>высокий рейтинг</td>\n",
              "    </tr>\n",
              "    <tr>\n",
              "      <th>100835</th>\n",
              "      <td>610</td>\n",
              "      <td>170875</td>\n",
              "      <td>3.0</td>\n",
              "      <td>1493846415</td>\n",
              "      <td>средний рейтинг</td>\n",
              "    </tr>\n",
              "  </tbody>\n",
              "</table>\n",
              "<p>100836 rows × 5 columns</p>\n",
              "</div>\n",
              "      <button class=\"colab-df-convert\" onclick=\"convertToInteractive('df-0b1d610e-ba7a-429e-93f8-983791153666')\"\n",
              "              title=\"Convert this dataframe to an interactive table.\"\n",
              "              style=\"display:none;\">\n",
              "        \n",
              "  <svg xmlns=\"http://www.w3.org/2000/svg\" height=\"24px\"viewBox=\"0 0 24 24\"\n",
              "       width=\"24px\">\n",
              "    <path d=\"M0 0h24v24H0V0z\" fill=\"none\"/>\n",
              "    <path d=\"M18.56 5.44l.94 2.06.94-2.06 2.06-.94-2.06-.94-.94-2.06-.94 2.06-2.06.94zm-11 1L8.5 8.5l.94-2.06 2.06-.94-2.06-.94L8.5 2.5l-.94 2.06-2.06.94zm10 10l.94 2.06.94-2.06 2.06-.94-2.06-.94-.94-2.06-.94 2.06-2.06.94z\"/><path d=\"M17.41 7.96l-1.37-1.37c-.4-.4-.92-.59-1.43-.59-.52 0-1.04.2-1.43.59L10.3 9.45l-7.72 7.72c-.78.78-.78 2.05 0 2.83L4 21.41c.39.39.9.59 1.41.59.51 0 1.02-.2 1.41-.59l7.78-7.78 2.81-2.81c.8-.78.8-2.07 0-2.86zM5.41 20L4 18.59l7.72-7.72 1.47 1.35L5.41 20z\"/>\n",
              "  </svg>\n",
              "      </button>\n",
              "      \n",
              "  <style>\n",
              "    .colab-df-container {\n",
              "      display:flex;\n",
              "      flex-wrap:wrap;\n",
              "      gap: 12px;\n",
              "    }\n",
              "\n",
              "    .colab-df-convert {\n",
              "      background-color: #E8F0FE;\n",
              "      border: none;\n",
              "      border-radius: 50%;\n",
              "      cursor: pointer;\n",
              "      display: none;\n",
              "      fill: #1967D2;\n",
              "      height: 32px;\n",
              "      padding: 0 0 0 0;\n",
              "      width: 32px;\n",
              "    }\n",
              "\n",
              "    .colab-df-convert:hover {\n",
              "      background-color: #E2EBFA;\n",
              "      box-shadow: 0px 1px 2px rgba(60, 64, 67, 0.3), 0px 1px 3px 1px rgba(60, 64, 67, 0.15);\n",
              "      fill: #174EA6;\n",
              "    }\n",
              "\n",
              "    [theme=dark] .colab-df-convert {\n",
              "      background-color: #3B4455;\n",
              "      fill: #D2E3FC;\n",
              "    }\n",
              "\n",
              "    [theme=dark] .colab-df-convert:hover {\n",
              "      background-color: #434B5C;\n",
              "      box-shadow: 0px 1px 3px 1px rgba(0, 0, 0, 0.15);\n",
              "      filter: drop-shadow(0px 1px 2px rgba(0, 0, 0, 0.3));\n",
              "      fill: #FFFFFF;\n",
              "    }\n",
              "  </style>\n",
              "\n",
              "      <script>\n",
              "        const buttonEl =\n",
              "          document.querySelector('#df-0b1d610e-ba7a-429e-93f8-983791153666 button.colab-df-convert');\n",
              "        buttonEl.style.display =\n",
              "          google.colab.kernel.accessAllowed ? 'block' : 'none';\n",
              "\n",
              "        async function convertToInteractive(key) {\n",
              "          const element = document.querySelector('#df-0b1d610e-ba7a-429e-93f8-983791153666');\n",
              "          const dataTable =\n",
              "            await google.colab.kernel.invokeFunction('convertToInteractive',\n",
              "                                                     [key], {});\n",
              "          if (!dataTable) return;\n",
              "\n",
              "          const docLinkHtml = 'Like what you see? Visit the ' +\n",
              "            '<a target=\"_blank\" href=https://colab.research.google.com/notebooks/data_table.ipynb>data table notebook</a>'\n",
              "            + ' to learn more about interactive tables.';\n",
              "          element.innerHTML = '';\n",
              "          dataTable['output_type'] = 'display_data';\n",
              "          await google.colab.output.renderOutput(dataTable, element);\n",
              "          const docLink = document.createElement('div');\n",
              "          docLink.innerHTML = docLinkHtml;\n",
              "          element.appendChild(docLink);\n",
              "        }\n",
              "      </script>\n",
              "    </div>\n",
              "  </div>\n",
              "  "
            ]
          },
          "metadata": {},
          "execution_count": 7
        }
      ]
    },
    {
      "cell_type": "markdown",
      "source": [
        "## Задание 2"
      ],
      "metadata": {
        "id": "uOhN2ArmMgkB"
      }
    },
    {
      "cell_type": "markdown",
      "source": [
        "###текст"
      ],
      "metadata": {
        "id": "KRNNt6LNMg0B"
      }
    },
    {
      "cell_type": "code",
      "source": [
        "# комментарий эксперта\n",
        "'''\n",
        "\n",
        "'''"
      ],
      "metadata": {
        "id": "QXwNwGPB-Dup",
        "colab": {
          "base_uri": "https://localhost:8080/",
          "height": 35
        },
        "outputId": "af6eea80-a0c4-415a-893c-5284638b4b45"
      },
      "execution_count": 8,
      "outputs": [
        {
          "output_type": "execute_result",
          "data": {
            "text/plain": [
              "'\\n\\n'"
            ],
            "application/vnd.google.colaboratory.intrinsic+json": {
              "type": "string"
            }
          },
          "metadata": {},
          "execution_count": 8
        }
      ]
    },
    {
      "cell_type": "code",
      "source": [
        "'''\n",
        "Задание 2\n",
        "Используем файл keywords.csv.\n",
        "\n",
        "Необходимо написать гео-классификатор, который \n",
        "каждой строке сможет выставить географическую \n",
        "принадлежность определенному региону. \n",
        "Т. е. если поисковый запрос \n",
        "содержит название города региона, то в столбце 'region' \n",
        "пишется название этого региона. \n",
        "Если поисковый запрос не содержит названия города, \n",
        "то ставим 'undefined'.\n",
        "\n",
        "Правила распределения по регионам Центр, Северо-Запад и Дальний Восток:\n",
        "\n",
        "geo_data = {\n",
        "'Центр': ['москва', 'тула', 'ярославль'],\n",
        "\n",
        "'Северо-Запад': ['петербург', 'псков', 'мурманск'],\n",
        "\n",
        "'Дальний Восток': ['владивосток', 'сахалин', 'хабаровск']\n",
        "}\n",
        "\n",
        "Результат классификации запишите в отдельный столбец region.\n",
        "'''"
      ],
      "metadata": {
        "id": "nASO5cKOMhKM",
        "colab": {
          "base_uri": "https://localhost:8080/",
          "height": 87
        },
        "outputId": "d35faa18-bf5c-4246-847a-ee4b2c0ef584"
      },
      "execution_count": 9,
      "outputs": [
        {
          "output_type": "execute_result",
          "data": {
            "text/plain": [
              "\"\\nЗадание 2\\nИспользуем файл keywords.csv.\\n\\nНеобходимо написать гео-классификатор, который \\nкаждой строке сможет выставить географическую \\nпринадлежность определенному региону. \\nТ. е. если поисковый запрос \\nсодержит название города региона, то в столбце 'region' \\nпишется название этого региона. \\nЕсли поисковый запрос не содержит названия города, \\nто ставим 'undefined'.\\n\\nПравила распределения по регионам Центр, Северо-Запад и Дальний Восток:\\n\\ngeo_data = {\\n'Центр': ['москва', 'тула', 'ярославль'],\\n\\n'Северо-Запад': ['петербург', 'псков', 'мурманск'],\\n\\n'Дальний Восток': ['владивосток', 'сахалин', 'хабаровск']\\n}\\n\\nРезультат классификации запишите в отдельный столбец region.\\n\""
            ],
            "application/vnd.google.colaboratory.intrinsic+json": {
              "type": "string"
            }
          },
          "metadata": {},
          "execution_count": 9
        }
      ]
    },
    {
      "cell_type": "markdown",
      "source": [
        "###программа"
      ],
      "metadata": {
        "id": "sr6nEVKHMhaG"
      }
    },
    {
      "cell_type": "code",
      "source": [
        "import pandas as pd\n"
      ],
      "metadata": {
        "id": "wSqCygzFMho8"
      },
      "execution_count": 10,
      "outputs": []
    },
    {
      "cell_type": "code",
      "source": [
        "# пришлось убрать окончания потому, что \"авито в москвЕ\"\n",
        "geo_data = {'Центр'         : ['москв', 'тул', 'ярославл'], # убрать окончания\n",
        "            'Северо-Запад'  : ['петербург', 'псков', 'мурманск'],\n",
        "            'Дальний Восток': ['владивосток', 'сахалин', 'хабаровск']\n",
        "            }\n"
      ],
      "metadata": {
        "id": "sY8-GdJAQ8q6"
      },
      "execution_count": 11,
      "outputs": []
    },
    {
      "cell_type": "code",
      "source": [
        "df = pd.read_csv('keywords.csv')\n",
        "df"
      ],
      "metadata": {
        "id": "AfQpgTFSdYJC",
        "colab": {
          "base_uri": "https://localhost:8080/",
          "height": 423
        },
        "outputId": "ee418aff-7edb-4024-a52d-d3104a60a2fa"
      },
      "execution_count": 12,
      "outputs": [
        {
          "output_type": "execute_result",
          "data": {
            "text/plain": [
              "                       keyword     shows\n",
              "0                           вк  64292779\n",
              "1                одноклассники  63810309\n",
              "2                        порно  41747114\n",
              "3                         ютуб  39995567\n",
              "4                    вконтакте  21014195\n",
              "...                        ...       ...\n",
              "99995   эльдорадо старый оскол      3705\n",
              "99996      frigate для firefox      3630\n",
              "99997                   укрсиб      3630\n",
              "99998  погода в ялте на неделю      3688\n",
              "99999                     ггму      3630\n",
              "\n",
              "[100000 rows x 2 columns]"
            ],
            "text/html": [
              "\n",
              "  <div id=\"df-929cb3d1-e7a2-4172-b49d-2d5d70083ab2\">\n",
              "    <div class=\"colab-df-container\">\n",
              "      <div>\n",
              "<style scoped>\n",
              "    .dataframe tbody tr th:only-of-type {\n",
              "        vertical-align: middle;\n",
              "    }\n",
              "\n",
              "    .dataframe tbody tr th {\n",
              "        vertical-align: top;\n",
              "    }\n",
              "\n",
              "    .dataframe thead th {\n",
              "        text-align: right;\n",
              "    }\n",
              "</style>\n",
              "<table border=\"1\" class=\"dataframe\">\n",
              "  <thead>\n",
              "    <tr style=\"text-align: right;\">\n",
              "      <th></th>\n",
              "      <th>keyword</th>\n",
              "      <th>shows</th>\n",
              "    </tr>\n",
              "  </thead>\n",
              "  <tbody>\n",
              "    <tr>\n",
              "      <th>0</th>\n",
              "      <td>вк</td>\n",
              "      <td>64292779</td>\n",
              "    </tr>\n",
              "    <tr>\n",
              "      <th>1</th>\n",
              "      <td>одноклассники</td>\n",
              "      <td>63810309</td>\n",
              "    </tr>\n",
              "    <tr>\n",
              "      <th>2</th>\n",
              "      <td>порно</td>\n",
              "      <td>41747114</td>\n",
              "    </tr>\n",
              "    <tr>\n",
              "      <th>3</th>\n",
              "      <td>ютуб</td>\n",
              "      <td>39995567</td>\n",
              "    </tr>\n",
              "    <tr>\n",
              "      <th>4</th>\n",
              "      <td>вконтакте</td>\n",
              "      <td>21014195</td>\n",
              "    </tr>\n",
              "    <tr>\n",
              "      <th>...</th>\n",
              "      <td>...</td>\n",
              "      <td>...</td>\n",
              "    </tr>\n",
              "    <tr>\n",
              "      <th>99995</th>\n",
              "      <td>эльдорадо старый оскол</td>\n",
              "      <td>3705</td>\n",
              "    </tr>\n",
              "    <tr>\n",
              "      <th>99996</th>\n",
              "      <td>frigate для firefox</td>\n",
              "      <td>3630</td>\n",
              "    </tr>\n",
              "    <tr>\n",
              "      <th>99997</th>\n",
              "      <td>укрсиб</td>\n",
              "      <td>3630</td>\n",
              "    </tr>\n",
              "    <tr>\n",
              "      <th>99998</th>\n",
              "      <td>погода в ялте на неделю</td>\n",
              "      <td>3688</td>\n",
              "    </tr>\n",
              "    <tr>\n",
              "      <th>99999</th>\n",
              "      <td>ггму</td>\n",
              "      <td>3630</td>\n",
              "    </tr>\n",
              "  </tbody>\n",
              "</table>\n",
              "<p>100000 rows × 2 columns</p>\n",
              "</div>\n",
              "      <button class=\"colab-df-convert\" onclick=\"convertToInteractive('df-929cb3d1-e7a2-4172-b49d-2d5d70083ab2')\"\n",
              "              title=\"Convert this dataframe to an interactive table.\"\n",
              "              style=\"display:none;\">\n",
              "        \n",
              "  <svg xmlns=\"http://www.w3.org/2000/svg\" height=\"24px\"viewBox=\"0 0 24 24\"\n",
              "       width=\"24px\">\n",
              "    <path d=\"M0 0h24v24H0V0z\" fill=\"none\"/>\n",
              "    <path d=\"M18.56 5.44l.94 2.06.94-2.06 2.06-.94-2.06-.94-.94-2.06-.94 2.06-2.06.94zm-11 1L8.5 8.5l.94-2.06 2.06-.94-2.06-.94L8.5 2.5l-.94 2.06-2.06.94zm10 10l.94 2.06.94-2.06 2.06-.94-2.06-.94-.94-2.06-.94 2.06-2.06.94z\"/><path d=\"M17.41 7.96l-1.37-1.37c-.4-.4-.92-.59-1.43-.59-.52 0-1.04.2-1.43.59L10.3 9.45l-7.72 7.72c-.78.78-.78 2.05 0 2.83L4 21.41c.39.39.9.59 1.41.59.51 0 1.02-.2 1.41-.59l7.78-7.78 2.81-2.81c.8-.78.8-2.07 0-2.86zM5.41 20L4 18.59l7.72-7.72 1.47 1.35L5.41 20z\"/>\n",
              "  </svg>\n",
              "      </button>\n",
              "      \n",
              "  <style>\n",
              "    .colab-df-container {\n",
              "      display:flex;\n",
              "      flex-wrap:wrap;\n",
              "      gap: 12px;\n",
              "    }\n",
              "\n",
              "    .colab-df-convert {\n",
              "      background-color: #E8F0FE;\n",
              "      border: none;\n",
              "      border-radius: 50%;\n",
              "      cursor: pointer;\n",
              "      display: none;\n",
              "      fill: #1967D2;\n",
              "      height: 32px;\n",
              "      padding: 0 0 0 0;\n",
              "      width: 32px;\n",
              "    }\n",
              "\n",
              "    .colab-df-convert:hover {\n",
              "      background-color: #E2EBFA;\n",
              "      box-shadow: 0px 1px 2px rgba(60, 64, 67, 0.3), 0px 1px 3px 1px rgba(60, 64, 67, 0.15);\n",
              "      fill: #174EA6;\n",
              "    }\n",
              "\n",
              "    [theme=dark] .colab-df-convert {\n",
              "      background-color: #3B4455;\n",
              "      fill: #D2E3FC;\n",
              "    }\n",
              "\n",
              "    [theme=dark] .colab-df-convert:hover {\n",
              "      background-color: #434B5C;\n",
              "      box-shadow: 0px 1px 3px 1px rgba(0, 0, 0, 0.15);\n",
              "      filter: drop-shadow(0px 1px 2px rgba(0, 0, 0, 0.3));\n",
              "      fill: #FFFFFF;\n",
              "    }\n",
              "  </style>\n",
              "\n",
              "      <script>\n",
              "        const buttonEl =\n",
              "          document.querySelector('#df-929cb3d1-e7a2-4172-b49d-2d5d70083ab2 button.colab-df-convert');\n",
              "        buttonEl.style.display =\n",
              "          google.colab.kernel.accessAllowed ? 'block' : 'none';\n",
              "\n",
              "        async function convertToInteractive(key) {\n",
              "          const element = document.querySelector('#df-929cb3d1-e7a2-4172-b49d-2d5d70083ab2');\n",
              "          const dataTable =\n",
              "            await google.colab.kernel.invokeFunction('convertToInteractive',\n",
              "                                                     [key], {});\n",
              "          if (!dataTable) return;\n",
              "\n",
              "          const docLinkHtml = 'Like what you see? Visit the ' +\n",
              "            '<a target=\"_blank\" href=https://colab.research.google.com/notebooks/data_table.ipynb>data table notebook</a>'\n",
              "            + ' to learn more about interactive tables.';\n",
              "          element.innerHTML = '';\n",
              "          dataTable['output_type'] = 'display_data';\n",
              "          await google.colab.output.renderOutput(dataTable, element);\n",
              "          const docLink = document.createElement('div');\n",
              "          docLink.innerHTML = docLinkHtml;\n",
              "          element.appendChild(docLink);\n",
              "        }\n",
              "      </script>\n",
              "    </div>\n",
              "  </div>\n",
              "  "
            ]
          },
          "metadata": {},
          "execution_count": 12
        }
      ]
    },
    {
      "cell_type": "code",
      "source": [
        "# общий список городов для поиска в строке\n",
        "\n",
        "towns_list = []   \n",
        "for l in geo_data.values() : towns_list += l\n",
        "# towns_list\n",
        "# geo_data.values()"
      ],
      "metadata": {
        "id": "eH3SppGJdX0c"
      },
      "execution_count": 13,
      "outputs": []
    },
    {
      "cell_type": "code",
      "source": [
        "# # def classify_region ()\n",
        "# df1 = pd.DataFrame({\n",
        "#     'keyword' : ['москва', 'тула', 'ярославль', 'петербург', 'псков', 'мурманск', 'владивосток', 'сахалин', 'хабаровск', 'qwe', '123', 'q1w2e3'],\n",
        "#     'shows'   : [1,2,3,4,5,6,7,8,9,0,1,2]\n",
        "#     })\n",
        "\n",
        "# print(df1)\n"
      ],
      "metadata": {
        "id": "V6YVrVWpZGEH"
      },
      "execution_count": 14,
      "outputs": []
    },
    {
      "cell_type": "code",
      "source": [
        "# определить регион\n",
        "def classify_region (frame) :\n",
        "    # print(type(frame))\n",
        "    town_=''\n",
        "    for town in towns_list :                # перебираем города\n",
        "        # print(town, type(town))\n",
        "        if town in frame.keyword.lower() :  # и ищем их в строке\n",
        "            town_ = town                    # отмечаем, какой именно нашли и выходим\n",
        "            # print(town_)\n",
        "            break\n",
        "    \n",
        "    for region_ in geo_data :           # перебираем регионы\n",
        "        # print(region_)\n",
        "        if town_ in geo_data[region_] : # в каком из них находится найденный город\n",
        "            # print(frame)\n",
        "            return region_\n",
        "    \n",
        "    return 'undefined'                  # если городов нет - пишем \"не определено\"\n",
        "           "
      ],
      "metadata": {
        "id": "T916WD36bvga"
      },
      "execution_count": 15,
      "outputs": []
    },
    {
      "cell_type": "code",
      "source": [
        "# применяем к таблице определитель регионов \n",
        "# и записываем результат в колонку 'регион'\n",
        "df['region'] = df.apply(classify_region, axis=1) \n",
        "# оценить результат работы: отсортировать\n",
        "df.sort_values(by='shows', ascending = False)"
      ],
      "metadata": {
        "id": "5WrjxAPocKIf",
        "colab": {
          "base_uri": "https://localhost:8080/",
          "height": 423
        },
        "outputId": "5e32a5a6-86f1-47da-919c-bbb026c14154"
      },
      "execution_count": 16,
      "outputs": [
        {
          "output_type": "execute_result",
          "data": {
            "text/plain": [
              "                                      keyword     shows     region\n",
              "0                                          вк  64292779  undefined\n",
              "1                               одноклассники  63810309  undefined\n",
              "2                                       порно  41747114  undefined\n",
              "3                                        ютуб  39995567  undefined\n",
              "4                                   вконтакте  21014195  undefined\n",
              "...                                       ...       ...        ...\n",
              "95416                     русских не победить      2832  undefined\n",
              "97930     евротур хоккей 2016 2017 расписание      2821  undefined\n",
              "96499  баталов алексей владимирович биография      2527  undefined\n",
              "88648    мастер шеф дети 2 сезон украина 2017      2292  undefined\n",
              "94199            моторола командир повстанцев      1942  undefined\n",
              "\n",
              "[100000 rows x 3 columns]"
            ],
            "text/html": [
              "\n",
              "  <div id=\"df-4de52ae4-8b16-4740-b0dd-48193353a491\">\n",
              "    <div class=\"colab-df-container\">\n",
              "      <div>\n",
              "<style scoped>\n",
              "    .dataframe tbody tr th:only-of-type {\n",
              "        vertical-align: middle;\n",
              "    }\n",
              "\n",
              "    .dataframe tbody tr th {\n",
              "        vertical-align: top;\n",
              "    }\n",
              "\n",
              "    .dataframe thead th {\n",
              "        text-align: right;\n",
              "    }\n",
              "</style>\n",
              "<table border=\"1\" class=\"dataframe\">\n",
              "  <thead>\n",
              "    <tr style=\"text-align: right;\">\n",
              "      <th></th>\n",
              "      <th>keyword</th>\n",
              "      <th>shows</th>\n",
              "      <th>region</th>\n",
              "    </tr>\n",
              "  </thead>\n",
              "  <tbody>\n",
              "    <tr>\n",
              "      <th>0</th>\n",
              "      <td>вк</td>\n",
              "      <td>64292779</td>\n",
              "      <td>undefined</td>\n",
              "    </tr>\n",
              "    <tr>\n",
              "      <th>1</th>\n",
              "      <td>одноклассники</td>\n",
              "      <td>63810309</td>\n",
              "      <td>undefined</td>\n",
              "    </tr>\n",
              "    <tr>\n",
              "      <th>2</th>\n",
              "      <td>порно</td>\n",
              "      <td>41747114</td>\n",
              "      <td>undefined</td>\n",
              "    </tr>\n",
              "    <tr>\n",
              "      <th>3</th>\n",
              "      <td>ютуб</td>\n",
              "      <td>39995567</td>\n",
              "      <td>undefined</td>\n",
              "    </tr>\n",
              "    <tr>\n",
              "      <th>4</th>\n",
              "      <td>вконтакте</td>\n",
              "      <td>21014195</td>\n",
              "      <td>undefined</td>\n",
              "    </tr>\n",
              "    <tr>\n",
              "      <th>...</th>\n",
              "      <td>...</td>\n",
              "      <td>...</td>\n",
              "      <td>...</td>\n",
              "    </tr>\n",
              "    <tr>\n",
              "      <th>95416</th>\n",
              "      <td>русских не победить</td>\n",
              "      <td>2832</td>\n",
              "      <td>undefined</td>\n",
              "    </tr>\n",
              "    <tr>\n",
              "      <th>97930</th>\n",
              "      <td>евротур хоккей 2016 2017 расписание</td>\n",
              "      <td>2821</td>\n",
              "      <td>undefined</td>\n",
              "    </tr>\n",
              "    <tr>\n",
              "      <th>96499</th>\n",
              "      <td>баталов алексей владимирович биография</td>\n",
              "      <td>2527</td>\n",
              "      <td>undefined</td>\n",
              "    </tr>\n",
              "    <tr>\n",
              "      <th>88648</th>\n",
              "      <td>мастер шеф дети 2 сезон украина 2017</td>\n",
              "      <td>2292</td>\n",
              "      <td>undefined</td>\n",
              "    </tr>\n",
              "    <tr>\n",
              "      <th>94199</th>\n",
              "      <td>моторола командир повстанцев</td>\n",
              "      <td>1942</td>\n",
              "      <td>undefined</td>\n",
              "    </tr>\n",
              "  </tbody>\n",
              "</table>\n",
              "<p>100000 rows × 3 columns</p>\n",
              "</div>\n",
              "      <button class=\"colab-df-convert\" onclick=\"convertToInteractive('df-4de52ae4-8b16-4740-b0dd-48193353a491')\"\n",
              "              title=\"Convert this dataframe to an interactive table.\"\n",
              "              style=\"display:none;\">\n",
              "        \n",
              "  <svg xmlns=\"http://www.w3.org/2000/svg\" height=\"24px\"viewBox=\"0 0 24 24\"\n",
              "       width=\"24px\">\n",
              "    <path d=\"M0 0h24v24H0V0z\" fill=\"none\"/>\n",
              "    <path d=\"M18.56 5.44l.94 2.06.94-2.06 2.06-.94-2.06-.94-.94-2.06-.94 2.06-2.06.94zm-11 1L8.5 8.5l.94-2.06 2.06-.94-2.06-.94L8.5 2.5l-.94 2.06-2.06.94zm10 10l.94 2.06.94-2.06 2.06-.94-2.06-.94-.94-2.06-.94 2.06-2.06.94z\"/><path d=\"M17.41 7.96l-1.37-1.37c-.4-.4-.92-.59-1.43-.59-.52 0-1.04.2-1.43.59L10.3 9.45l-7.72 7.72c-.78.78-.78 2.05 0 2.83L4 21.41c.39.39.9.59 1.41.59.51 0 1.02-.2 1.41-.59l7.78-7.78 2.81-2.81c.8-.78.8-2.07 0-2.86zM5.41 20L4 18.59l7.72-7.72 1.47 1.35L5.41 20z\"/>\n",
              "  </svg>\n",
              "      </button>\n",
              "      \n",
              "  <style>\n",
              "    .colab-df-container {\n",
              "      display:flex;\n",
              "      flex-wrap:wrap;\n",
              "      gap: 12px;\n",
              "    }\n",
              "\n",
              "    .colab-df-convert {\n",
              "      background-color: #E8F0FE;\n",
              "      border: none;\n",
              "      border-radius: 50%;\n",
              "      cursor: pointer;\n",
              "      display: none;\n",
              "      fill: #1967D2;\n",
              "      height: 32px;\n",
              "      padding: 0 0 0 0;\n",
              "      width: 32px;\n",
              "    }\n",
              "\n",
              "    .colab-df-convert:hover {\n",
              "      background-color: #E2EBFA;\n",
              "      box-shadow: 0px 1px 2px rgba(60, 64, 67, 0.3), 0px 1px 3px 1px rgba(60, 64, 67, 0.15);\n",
              "      fill: #174EA6;\n",
              "    }\n",
              "\n",
              "    [theme=dark] .colab-df-convert {\n",
              "      background-color: #3B4455;\n",
              "      fill: #D2E3FC;\n",
              "    }\n",
              "\n",
              "    [theme=dark] .colab-df-convert:hover {\n",
              "      background-color: #434B5C;\n",
              "      box-shadow: 0px 1px 3px 1px rgba(0, 0, 0, 0.15);\n",
              "      filter: drop-shadow(0px 1px 2px rgba(0, 0, 0, 0.3));\n",
              "      fill: #FFFFFF;\n",
              "    }\n",
              "  </style>\n",
              "\n",
              "      <script>\n",
              "        const buttonEl =\n",
              "          document.querySelector('#df-4de52ae4-8b16-4740-b0dd-48193353a491 button.colab-df-convert');\n",
              "        buttonEl.style.display =\n",
              "          google.colab.kernel.accessAllowed ? 'block' : 'none';\n",
              "\n",
              "        async function convertToInteractive(key) {\n",
              "          const element = document.querySelector('#df-4de52ae4-8b16-4740-b0dd-48193353a491');\n",
              "          const dataTable =\n",
              "            await google.colab.kernel.invokeFunction('convertToInteractive',\n",
              "                                                     [key], {});\n",
              "          if (!dataTable) return;\n",
              "\n",
              "          const docLinkHtml = 'Like what you see? Visit the ' +\n",
              "            '<a target=\"_blank\" href=https://colab.research.google.com/notebooks/data_table.ipynb>data table notebook</a>'\n",
              "            + ' to learn more about interactive tables.';\n",
              "          element.innerHTML = '';\n",
              "          dataTable['output_type'] = 'display_data';\n",
              "          await google.colab.output.renderOutput(dataTable, element);\n",
              "          const docLink = document.createElement('div');\n",
              "          docLink.innerHTML = docLinkHtml;\n",
              "          element.appendChild(docLink);\n",
              "        }\n",
              "      </script>\n",
              "    </div>\n",
              "  </div>\n",
              "  "
            ]
          },
          "metadata": {},
          "execution_count": 16
        }
      ]
    },
    {
      "cell_type": "markdown",
      "source": [
        "## Задание 3"
      ],
      "metadata": {
        "id": "ljWnHN2Edg34"
      }
    },
    {
      "cell_type": "markdown",
      "source": [
        "###текст"
      ],
      "metadata": {
        "id": "b9HDph-5dg37"
      }
    },
    {
      "cell_type": "code",
      "source": [
        "# комментарий эксперта\n",
        "'''\n",
        "\n",
        "'''"
      ],
      "metadata": {
        "id": "zoSR8q8V-EZS",
        "colab": {
          "base_uri": "https://localhost:8080/",
          "height": 35
        },
        "outputId": "e8a1d972-1f17-4058-97dc-453592dbc9c3"
      },
      "execution_count": 17,
      "outputs": [
        {
          "output_type": "execute_result",
          "data": {
            "text/plain": [
              "'\\n\\n'"
            ],
            "application/vnd.google.colaboratory.intrinsic+json": {
              "type": "string"
            }
          },
          "metadata": {},
          "execution_count": 17
        }
      ]
    },
    {
      "cell_type": "code",
      "source": [
        "'''\n",
        "Задание 3 (бонусное)\n",
        "\n",
        "Есть мнение, что “раньше снимали настоящее кино, \n",
        "не то что сейчас”. \n",
        "Ваша задача проверить это утверждение, \n",
        "используя файлы с рейтингами фильмов \n",
        "из прошлого домашнего занятия \n",
        "(файл movies.csv и ratings.csv из базы \n",
        "https://grouplens.org/datasets/movielens). \n",
        "Т. е. проверить верно ли, что \n",
        "с ростом года выпуска фильма \n",
        "его средний рейтинг становится ниже.\n",
        "\n",
        "При этом мы не будем затрагивать \n",
        "субьективные факторы выставления этих рейтингов, \n",
        "а пройдемся по следующему алгоритму:\n",
        "\n",
        "1. В переменную years запишите список из всех годов с 1950 по 2010.\n",
        "\n",
        "2. Напишите функцию production_year, \n",
        "которая каждой строке из названия фильма выставляет год выпуска. \n",
        "Не все названия фильмов содержат год выпуска в одинаковом формате, \n",
        "поэтому используйте следующий алгоритм:\n",
        "    1) для каждой строки пройдите по всем годам списка years\n",
        "    2) если номер года присутствует в названии фильма, \n",
        "       то функция возвращает этот год как год выпуска\n",
        "    3) если ни один из номеров года списка years \n",
        "       не встретился в названии фильма, то возвращается 1900 год\n",
        "\n",
        "3. Запишите год выпуска фильма по алгоритму пункта 2 в новый столбец ‘year’\n",
        "\n",
        "4. Посчитайте средний рейтинг всех фильмов для каждого значения столбца ‘year’ \n",
        "и отсортируйте результат по убыванию рейтинга\n",
        "\n",
        "P/S/ все файлы находятся в архиве «дополнительные файлы к лекции и дз»\n",
        "\n",
        "Важно! При копировании юпитер ноутбука изменяет кавычки ’ на ` , \n",
        "что может способствовать ошибки в коде. \n",
        "В данной ситуации необходимо их просто заменить.\n",
        "'''"
      ],
      "metadata": {
        "id": "r-O80AG7dg38",
        "colab": {
          "base_uri": "https://localhost:8080/",
          "height": 105
        },
        "outputId": "02e009ee-9c29-4be2-e288-9af12bfc27d7"
      },
      "execution_count": 18,
      "outputs": [
        {
          "output_type": "execute_result",
          "data": {
            "text/plain": [
              "'\\nЗадание 3 (бонусное)\\n\\nЕсть мнение, что “раньше снимали настоящее кино, \\nне то что сейчас”. \\nВаша задача проверить это утверждение, \\nиспользуя файлы с рейтингами фильмов \\nиз прошлого домашнего занятия \\n(файл movies.csv и ratings.csv из базы \\nhttps://grouplens.org/datasets/movielens). \\nТ. е. проверить верно ли, что \\nс ростом года выпуска фильма \\nего средний рейтинг становится ниже.\\n\\nПри этом мы не будем затрагивать \\nсубьективные факторы выставления этих рейтингов, \\nа пройдемся по следующему алгоритму:\\n\\n1. В переменную years запишите список из всех годов с 1950 по 2010.\\n\\n2. Напишите функцию production_year, \\nкоторая каждой строке из названия фильма выставляет год выпуска. \\nНе все названия фильмов содержат год выпуска в одинаковом формате, \\nпоэтому используйте следующий алгоритм:\\n    1) для каждой строки пройдите по всем годам списка years\\n    2) если номер года присутствует в названии фильма, \\n       то функция возвращает этот год как год выпуска\\n    3) если ни один из номеров года списка years \\n       не встретился в названии фильма, то возвращается 1900 год\\n\\n3. Запишите год выпуска фильма по алгоритму пункта 2 в новый столбец ‘year’\\n\\n4. Посчитайте средний рейтинг всех фильмов для каждого значения столбца ‘year’ \\nи отсортируйте результат по убыванию рейтинга\\n\\nP/S/ все файлы находятся в архиве «дополнительные файлы к лекции и дз»\\n\\nВажно! При копировании юпитер ноутбука изменяет кавычки ’ на ` , \\nчто может способствовать ошибки в коде. \\nВ данной ситуации необходимо их просто заменить.\\n'"
            ],
            "application/vnd.google.colaboratory.intrinsic+json": {
              "type": "string"
            }
          },
          "metadata": {},
          "execution_count": 18
        }
      ]
    },
    {
      "cell_type": "markdown",
      "source": [
        "###программа"
      ],
      "metadata": {
        "id": "Xclhk-WGdg39"
      }
    },
    {
      "cell_type": "code",
      "source": [
        "import pandas as pd\n",
        "import re"
      ],
      "metadata": {
        "id": "-DcrQLnZdg3-"
      },
      "execution_count": 19,
      "outputs": []
    },
    {
      "cell_type": "code",
      "source": [
        "df = pd.read_csv('movies.csv')\n",
        "ratings = pd.read_csv('ratings.csv')\n",
        "#df, ratings"
      ],
      "metadata": {
        "id": "V5-YykfOdg3-"
      },
      "execution_count": 20,
      "outputs": []
    },
    {
      "cell_type": "code",
      "source": [
        "# найти в названии год выпуска, \n",
        "# если не получилось - назначить \"1900\"\n",
        "def year_search(str_) :\n",
        "    # print( str_ )    \n",
        "    try :\n",
        "        # print( year_ )\n",
        "        return re.search(r'\\((\\d\\d\\d\\d)\\)', str_).group(1)\n",
        "    except :\n",
        "        try :\n",
        "            return re.search(r'\\((\\d\\d\\d\\d)–\\d\\d\\d\\d\\)', str_).group(1)\n",
        "        except :\n",
        "            return '1900'\n",
        "        # print ( 'zzz' )"
      ],
      "metadata": {
        "id": "M4EmCOHwoJa6"
      },
      "execution_count": 21,
      "outputs": []
    },
    {
      "cell_type": "code",
      "source": [
        "# применить \"поиск года()\"\n",
        "# записать результат в колонку \"год\"\n",
        "\n",
        "df['year'] = df.title.apply( year_search )\n",
        "# print(df. groupby ('movieId'))\n",
        "# df.sort_values('movieId')\n",
        "# print(df)\n",
        "\n",
        "# взять из таблицы только \"код фильма\" и \"год\"\n",
        "movie_year = df.set_index(df.movieId).year  # проиндексировал по ИД фильма и взял только \"год\"\n",
        "                                            # так будет проще сращивать с рейтингом\n",
        "movie_year\n"
      ],
      "metadata": {
        "id": "UGueqM_0dg3_",
        "colab": {
          "base_uri": "https://localhost:8080/"
        },
        "outputId": "37e3b064-32b3-4ad7-b00f-237fe57b0ba9"
      },
      "execution_count": 22,
      "outputs": [
        {
          "output_type": "execute_result",
          "data": {
            "text/plain": [
              "movieId\n",
              "1         1995\n",
              "2         1995\n",
              "3         1995\n",
              "4         1995\n",
              "5         1995\n",
              "          ... \n",
              "193581    2017\n",
              "193583    2017\n",
              "193585    2017\n",
              "193587    2018\n",
              "193609    1991\n",
              "Name: year, Length: 9742, dtype: object"
            ]
          },
          "metadata": {},
          "execution_count": 22
        }
      ]
    },
    {
      "cell_type": "code",
      "source": [
        "# подготовить рейтинги для сращивания с годами\n",
        "# посчитать средний рейтинг на каждый фильм\n",
        "rating_means = ratings. groupby ('movieId').mean()['rating'] \n",
        "# кстати, индексом теперь является \"ИД фильма\"\n",
        "rating_means \n"
      ],
      "metadata": {
        "colab": {
          "base_uri": "https://localhost:8080/"
        },
        "id": "cUhydNAwCSvr",
        "outputId": "ef91f115-146c-44cb-e572-f62a406ea59a"
      },
      "execution_count": 23,
      "outputs": [
        {
          "output_type": "execute_result",
          "data": {
            "text/plain": [
              "movieId\n",
              "1         3.920930\n",
              "2         3.431818\n",
              "3         3.259615\n",
              "4         2.357143\n",
              "5         3.071429\n",
              "            ...   \n",
              "193581    4.000000\n",
              "193583    3.500000\n",
              "193585    3.500000\n",
              "193587    3.500000\n",
              "193609    4.000000\n",
              "Name: rating, Length: 9724, dtype: float64"
            ]
          },
          "metadata": {},
          "execution_count": 23
        }
      ]
    },
    {
      "cell_type": "code",
      "source": [
        "# срастить годы и рейтинги по \"ИД фильма\"\n",
        "\n",
        "year_rating = pd.concat( [movie_year, rating_means], axis=1 ).groupby('year').mean()\n",
        "# сразу группируем по году и считаем среднее по каждому году\n",
        "\n",
        "# year_rating.plot()\n",
        "# year_rating\n",
        "\n",
        "# отсортировать рейтинг года по убыванию, как в задании\n",
        "year_rating.sort_values(by='rating', ascending = False)\n"
      ],
      "metadata": {
        "colab": {
          "base_uri": "https://localhost:8080/",
          "height": 455
        },
        "id": "4PE53ApfrE5B",
        "outputId": "fbc9d568-d009-421d-ee9e-923c93368f6a"
      },
      "execution_count": 24,
      "outputs": [
        {
          "output_type": "execute_result",
          "data": {
            "text/plain": [
              "        rating\n",
              "year          \n",
              "1917  4.500000\n",
              "1921  4.100000\n",
              "1934  4.051190\n",
              "1908  4.000000\n",
              "1926  4.000000\n",
              "...        ...\n",
              "1987  3.041854\n",
              "1991  3.030564\n",
              "1903  2.500000\n",
              "1919  2.000000\n",
              "1915  2.000000\n",
              "\n",
              "[107 rows x 1 columns]"
            ],
            "text/html": [
              "\n",
              "  <div id=\"df-b8e77dac-0501-4ef8-aaaf-6b801159dda4\">\n",
              "    <div class=\"colab-df-container\">\n",
              "      <div>\n",
              "<style scoped>\n",
              "    .dataframe tbody tr th:only-of-type {\n",
              "        vertical-align: middle;\n",
              "    }\n",
              "\n",
              "    .dataframe tbody tr th {\n",
              "        vertical-align: top;\n",
              "    }\n",
              "\n",
              "    .dataframe thead th {\n",
              "        text-align: right;\n",
              "    }\n",
              "</style>\n",
              "<table border=\"1\" class=\"dataframe\">\n",
              "  <thead>\n",
              "    <tr style=\"text-align: right;\">\n",
              "      <th></th>\n",
              "      <th>rating</th>\n",
              "    </tr>\n",
              "    <tr>\n",
              "      <th>year</th>\n",
              "      <th></th>\n",
              "    </tr>\n",
              "  </thead>\n",
              "  <tbody>\n",
              "    <tr>\n",
              "      <th>1917</th>\n",
              "      <td>4.500000</td>\n",
              "    </tr>\n",
              "    <tr>\n",
              "      <th>1921</th>\n",
              "      <td>4.100000</td>\n",
              "    </tr>\n",
              "    <tr>\n",
              "      <th>1934</th>\n",
              "      <td>4.051190</td>\n",
              "    </tr>\n",
              "    <tr>\n",
              "      <th>1908</th>\n",
              "      <td>4.000000</td>\n",
              "    </tr>\n",
              "    <tr>\n",
              "      <th>1926</th>\n",
              "      <td>4.000000</td>\n",
              "    </tr>\n",
              "    <tr>\n",
              "      <th>...</th>\n",
              "      <td>...</td>\n",
              "    </tr>\n",
              "    <tr>\n",
              "      <th>1987</th>\n",
              "      <td>3.041854</td>\n",
              "    </tr>\n",
              "    <tr>\n",
              "      <th>1991</th>\n",
              "      <td>3.030564</td>\n",
              "    </tr>\n",
              "    <tr>\n",
              "      <th>1903</th>\n",
              "      <td>2.500000</td>\n",
              "    </tr>\n",
              "    <tr>\n",
              "      <th>1919</th>\n",
              "      <td>2.000000</td>\n",
              "    </tr>\n",
              "    <tr>\n",
              "      <th>1915</th>\n",
              "      <td>2.000000</td>\n",
              "    </tr>\n",
              "  </tbody>\n",
              "</table>\n",
              "<p>107 rows × 1 columns</p>\n",
              "</div>\n",
              "      <button class=\"colab-df-convert\" onclick=\"convertToInteractive('df-b8e77dac-0501-4ef8-aaaf-6b801159dda4')\"\n",
              "              title=\"Convert this dataframe to an interactive table.\"\n",
              "              style=\"display:none;\">\n",
              "        \n",
              "  <svg xmlns=\"http://www.w3.org/2000/svg\" height=\"24px\"viewBox=\"0 0 24 24\"\n",
              "       width=\"24px\">\n",
              "    <path d=\"M0 0h24v24H0V0z\" fill=\"none\"/>\n",
              "    <path d=\"M18.56 5.44l.94 2.06.94-2.06 2.06-.94-2.06-.94-.94-2.06-.94 2.06-2.06.94zm-11 1L8.5 8.5l.94-2.06 2.06-.94-2.06-.94L8.5 2.5l-.94 2.06-2.06.94zm10 10l.94 2.06.94-2.06 2.06-.94-2.06-.94-.94-2.06-.94 2.06-2.06.94z\"/><path d=\"M17.41 7.96l-1.37-1.37c-.4-.4-.92-.59-1.43-.59-.52 0-1.04.2-1.43.59L10.3 9.45l-7.72 7.72c-.78.78-.78 2.05 0 2.83L4 21.41c.39.39.9.59 1.41.59.51 0 1.02-.2 1.41-.59l7.78-7.78 2.81-2.81c.8-.78.8-2.07 0-2.86zM5.41 20L4 18.59l7.72-7.72 1.47 1.35L5.41 20z\"/>\n",
              "  </svg>\n",
              "      </button>\n",
              "      \n",
              "  <style>\n",
              "    .colab-df-container {\n",
              "      display:flex;\n",
              "      flex-wrap:wrap;\n",
              "      gap: 12px;\n",
              "    }\n",
              "\n",
              "    .colab-df-convert {\n",
              "      background-color: #E8F0FE;\n",
              "      border: none;\n",
              "      border-radius: 50%;\n",
              "      cursor: pointer;\n",
              "      display: none;\n",
              "      fill: #1967D2;\n",
              "      height: 32px;\n",
              "      padding: 0 0 0 0;\n",
              "      width: 32px;\n",
              "    }\n",
              "\n",
              "    .colab-df-convert:hover {\n",
              "      background-color: #E2EBFA;\n",
              "      box-shadow: 0px 1px 2px rgba(60, 64, 67, 0.3), 0px 1px 3px 1px rgba(60, 64, 67, 0.15);\n",
              "      fill: #174EA6;\n",
              "    }\n",
              "\n",
              "    [theme=dark] .colab-df-convert {\n",
              "      background-color: #3B4455;\n",
              "      fill: #D2E3FC;\n",
              "    }\n",
              "\n",
              "    [theme=dark] .colab-df-convert:hover {\n",
              "      background-color: #434B5C;\n",
              "      box-shadow: 0px 1px 3px 1px rgba(0, 0, 0, 0.15);\n",
              "      filter: drop-shadow(0px 1px 2px rgba(0, 0, 0, 0.3));\n",
              "      fill: #FFFFFF;\n",
              "    }\n",
              "  </style>\n",
              "\n",
              "      <script>\n",
              "        const buttonEl =\n",
              "          document.querySelector('#df-b8e77dac-0501-4ef8-aaaf-6b801159dda4 button.colab-df-convert');\n",
              "        buttonEl.style.display =\n",
              "          google.colab.kernel.accessAllowed ? 'block' : 'none';\n",
              "\n",
              "        async function convertToInteractive(key) {\n",
              "          const element = document.querySelector('#df-b8e77dac-0501-4ef8-aaaf-6b801159dda4');\n",
              "          const dataTable =\n",
              "            await google.colab.kernel.invokeFunction('convertToInteractive',\n",
              "                                                     [key], {});\n",
              "          if (!dataTable) return;\n",
              "\n",
              "          const docLinkHtml = 'Like what you see? Visit the ' +\n",
              "            '<a target=\"_blank\" href=https://colab.research.google.com/notebooks/data_table.ipynb>data table notebook</a>'\n",
              "            + ' to learn more about interactive tables.';\n",
              "          element.innerHTML = '';\n",
              "          dataTable['output_type'] = 'display_data';\n",
              "          await google.colab.output.renderOutput(dataTable, element);\n",
              "          const docLink = document.createElement('div');\n",
              "          docLink.innerHTML = docLinkHtml;\n",
              "          element.appendChild(docLink);\n",
              "        }\n",
              "      </script>\n",
              "    </div>\n",
              "  </div>\n",
              "  "
            ]
          },
          "metadata": {},
          "execution_count": 24
        }
      ]
    },
    {
      "cell_type": "markdown",
      "source": [
        "по полученной таблице сложно сделать вывод о верности утверждения в задании.\n",
        "поэтому разделим её на две части: с \"новыми\" и \"старыми\" фильмами по границе 1976-1977 год (избрание Картера). затем сравним средние значения и статистическую значимость полученных результатов."
      ],
      "metadata": {
        "id": "_mbRwaF1KrJE"
      }
    },
    {
      "cell_type": "code",
      "source": [
        "# movie_year_rating = pd.concat( [movie_year, rating_means], axis=1 ).sort_values(by='year')\n",
        "# movie_year_rating.reset_index () #([ list( range( len(movie_year_rating) ) ) ])"
      ],
      "metadata": {
        "id": "zEPv19Yo4LUN"
      },
      "execution_count": 25,
      "outputs": []
    },
    {
      "cell_type": "code",
      "source": [
        "# new = movie_year_rating[ movie_year_rating.year >= '1977' ]\n",
        "new = year_rating.loc['1977': ]\n",
        "# print(new)\n",
        "# old = movie_year_rating[ movie_year_rating.year < '1977' ]\n",
        "old = year_rating.loc[ :'1976']\n",
        "# print(old)"
      ],
      "metadata": {
        "id": "2zxPuXCl1iWh"
      },
      "execution_count": 26,
      "outputs": []
    },
    {
      "cell_type": "markdown",
      "source": [
        "####Гипотеза\n",
        "- H0 - средний рейтинг \"старых\" и \"новых\" фильмов не отличается.\n",
        "- HA - средний рейтинг \"старых\" фильмов больше, чем средний рейтинг \"новых\"."
      ],
      "metadata": {
        "id": "5O32euNCE15G"
      }
    },
    {
      "cell_type": "code",
      "metadata": {
        "id": "RYjflpc4AQIo"
      },
      "source": [
        "from scipy.stats import ttest_ind   #библиотека Т-теста - t-критерий Стьюдента\n",
        "from scipy.stats import mannwhitneyu    #библиотека теста Манна-Уитни\n",
        "\n",
        "alpha = 0.05                          # Уровень значимости"
      ],
      "execution_count": 27,
      "outputs": []
    },
    {
      "cell_type": "markdown",
      "metadata": {
        "id": "F6thXXtHTPQR"
      },
      "source": [
        "### Проведение Т-Теста (t-критерий Стьюдента)"
      ]
    },
    {
      "cell_type": "code",
      "metadata": {
        "colab": {
          "base_uri": "https://localhost:8080/"
        },
        "outputId": "dbfeadd7-8e5f-4468-88f2-103308207250",
        "id": "Pp-OfynaAe8k"
      },
      "source": [
        "result = ttest_ind(old['rating'], new['rating'], alternative='greater')\n",
        "print('p-value: %.5f' % result.pvalue)    #до 5 знака после запятой\n",
        "\n",
        "if (result.pvalue < alpha):\n",
        "    print('Отвергаем нулевую гипотезу')\n",
        "else:\n",
        "    print('Не отвергаем нулевую гипотезу')"
      ],
      "execution_count": 28,
      "outputs": [
        {
          "output_type": "stream",
          "name": "stdout",
          "text": [
            "p-value: 0.00000\n",
            "Отвергаем нулевую гипотезу\n"
          ]
        }
      ]
    },
    {
      "cell_type": "markdown",
      "source": [
        "Cредний рейтинг \"старых\" фильмов статистически значимо больше, чем средний рейтинг \"новых\". "
      ],
      "metadata": {
        "id": "JPeu4rP9VsLD"
      }
    },
    {
      "cell_type": "markdown",
      "metadata": {
        "id": "dSd0AAMITLCB"
      },
      "source": [
        "### Проведение теста Манна — Уитни (U-критерий Манна — Уитни)"
      ]
    },
    {
      "cell_type": "code",
      "metadata": {
        "colab": {
          "base_uri": "https://localhost:8080/"
        },
        "id": "YnGh-cM2TLCD",
        "outputId": "4ad9796c-9a94-4d24-8890-10c475c014e4"
      },
      "source": [
        "result = mannwhitneyu(old['rating'], new['rating'], alternative='greater')\n",
        "print('p-value: %.5f' % result.pvalue)    #до 5 знака после запятой\n",
        "\n",
        "if (result.pvalue < alpha):\n",
        "    print('Отвергаем нулевую гипотезу')\n",
        "else:\n",
        "    print('Не отвергаем нулевую гипотезу')"
      ],
      "execution_count": 29,
      "outputs": [
        {
          "output_type": "stream",
          "name": "stdout",
          "text": [
            "p-value: 0.00000\n",
            "Отвергаем нулевую гипотезу\n"
          ]
        }
      ]
    },
    {
      "cell_type": "markdown",
      "source": [
        "Cредний рейтинг \"старых\" фильмов статистически значимо больше, чем средний рейтинг \"новых\". "
      ],
      "metadata": {
        "id": "c-8T6B4wWCSp"
      }
    },
    {
      "cell_type": "markdown",
      "source": [
        "### иллюстрации"
      ],
      "metadata": {
        "id": "7SSPhrJijdrp"
      }
    },
    {
      "cell_type": "markdown",
      "source": [
        "проиллюстрируем выводы в виде графиков динамики и распределения плотности"
      ],
      "metadata": {
        "id": "cYdi9fPeL9-q"
      }
    },
    {
      "cell_type": "code",
      "source": [
        "year_rating.plot()\n"
      ],
      "metadata": {
        "colab": {
          "base_uri": "https://localhost:8080/",
          "height": 296
        },
        "id": "mKdnAx7HJOZo",
        "outputId": "01562e77-de11-4802-8f35-3ff022a5119c"
      },
      "execution_count": 30,
      "outputs": [
        {
          "output_type": "execute_result",
          "data": {
            "text/plain": [
              "<matplotlib.axes._subplots.AxesSubplot at 0x7f8fd77f7910>"
            ]
          },
          "metadata": {},
          "execution_count": 30
        },
        {
          "output_type": "display_data",
          "data": {
            "text/plain": [
              "<Figure size 432x288 with 1 Axes>"
            ],
            "image/png": "[encoded data removed]"
          },
          "metadata": {
            "needs_background": "light"
          }
        }
      ]
    },
    {
      "cell_type": "code",
      "source": [
        "import seaborn as sns   #работа с красивыми графиками\n",
        "import matplotlib.pyplot as plt   #работа с графиками\n",
        "\n",
        "sns.distplot(new['rating'],50)\n",
        "sns.distplot(old['rating'],50)\n",
        "plt.title('Плотность распределения рейтинга от \"новизны\"')\n",
        "plt.legend(['new', 'old'])\n",
        "plt.show()"
      ],
      "metadata": {
        "colab": {
          "base_uri": "https://localhost:8080/",
          "height": 384
        },
        "id": "VkOEs0TBJZbc",
        "outputId": "b0017b9d-2740-41e6-9abe-4885808d989a"
      },
      "execution_count": 31,
      "outputs": [
        {
          "output_type": "stream",
          "name": "stderr",
          "text": [
            "/usr/local/lib/python3.7/dist-packages/seaborn/distributions.py:2619: FutureWarning: `distplot` is a deprecated function and will be removed in a future version. Please adapt your code to use either `displot` (a figure-level function with similar flexibility) or `histplot` (an axes-level function for histograms).\n",
            "  warnings.warn(msg, FutureWarning)\n",
            "/usr/local/lib/python3.7/dist-packages/seaborn/distributions.py:2619: FutureWarning: `distplot` is a deprecated function and will be removed in a future version. Please adapt your code to use either `displot` (a figure-level function with similar flexibility) or `histplot` (an axes-level function for histograms).\n",
            "  warnings.warn(msg, FutureWarning)\n"
          ]
        },
        {
          "output_type": "display_data",
          "data": {
            "text/plain": [
              "<Figure size 432x288 with 1 Axes>"
            ],
            "image/png": "[encoded data removed]"
          },
          "metadata": {
            "needs_background": "light"
          }
        }
      ]
    },
    {
      "cell_type": "code",
      "source": [
        "# years = pd.DataFrame({'rating':[],\n",
        "#                       'year':[]\n",
        "#                       },\n",
        "#                      index=[]\n",
        "#                      )\n",
        "\n",
        "# for id in rating_means.index :\n",
        "я"
      ],
      "metadata": {
        "id": "yXjRw5rpiCNn",
        "colab": {
          "base_uri": "https://localhost:8080/",
          "height": 200
        },
        "outputId": "2eead8b6-abb2-448f-b53c-468e30232b86"
      },
      "execution_count": 32,
      "outputs": [
        {
          "output_type": "error",
          "ename": "NameError",
          "evalue": "ignored",
          "traceback": [
            "\u001b[0;31m---------------------------------------------------------------------------\u001b[0m",
            "\u001b[0;31mNameError\u001b[0m                                 Traceback (most recent call last)",
            "\u001b[0;32m<ipython-input-32-4557cb6cba17>\u001b[0m in \u001b[0;36m<module>\u001b[0;34m\u001b[0m\n\u001b[1;32m      6\u001b[0m \u001b[0;34m\u001b[0m\u001b[0m\n\u001b[1;32m      7\u001b[0m \u001b[0;31m# for id in rating_means.index :\u001b[0m\u001b[0;34m\u001b[0m\u001b[0;34m\u001b[0m\u001b[0;34m\u001b[0m\u001b[0m\n\u001b[0;32m----> 8\u001b[0;31m \u001b[0mя\u001b[0m\u001b[0;34m\u001b[0m\u001b[0;34m\u001b[0m\u001b[0m\n\u001b[0m",
            "\u001b[0;31mNameError\u001b[0m: name 'я' is not defined"
          ]
        }
      ]
    },
    {
      "cell_type": "code",
      "source": [
        "#df.groupby('year').count()"
      ],
      "metadata": {
        "id": "-VWZfKdMdg3_"
      },
      "execution_count": null,
      "outputs": []
    },
    {
      "cell_type": "code",
      "source": [
        ""
      ],
      "metadata": {
        "id": "a8NMKRNoByuz"
      },
      "execution_count": null,
      "outputs": []
    },
    {
      "cell_type": "markdown",
      "metadata": {
        "id": "mC7aaBzd-NaE"
      },
      "source": [
        "#Теория: Функции в Pandas, Groupby\n",
        " "
      ]
    },
    {
      "cell_type": "markdown",
      "source": [
        "## Применение любых функций к DF"
      ],
      "metadata": {
        "id": "o-VpeZYb-4Gu"
      }
    },
    {
      "cell_type": "markdown",
      "source": [
        "### Примеры из презентации"
      ],
      "metadata": {
        "id": "rQahO8Nc-i6W"
      }
    },
    {
      "cell_type": "code",
      "execution_count": null,
      "metadata": {
        "id": "49PaymXJ-NaI"
      },
      "outputs": [],
      "source": [
        "import pandas as pd"
      ]
    },
    {
      "cell_type": "code",
      "execution_count": null,
      "metadata": {
        "id": "00bgWHmx-NaJ"
      },
      "outputs": [],
      "source": [
        "df = pd.DataFrame({'user_id': [1, 2, 3], 'clicks': [163, 130, 97], 'orders': [2, 4, 0]})\n",
        "df"
      ]
    },
    {
      "cell_type": "code",
      "execution_count": null,
      "metadata": {
        "scrolled": true,
        "id": "2VIDXg6I-NaL"
      },
      "outputs": [],
      "source": [
        "df = pd.DataFrame({'user_id': [1, 2, 3], 'clicks': [163, 130, 97], 'orders': [2, 4, 0], 'calculated': [False, False, True]})\n",
        "df[['user_id', 'clicks', 'orders', 'calculated']]"
      ]
    },
    {
      "cell_type": "code",
      "execution_count": null,
      "metadata": {
        "id": "KBMaoT-0-NaM"
      },
      "outputs": [],
      "source": [
        "def watcher(param):\n",
        "    \"\"\"Мне только посмотреть\"\"\"\n",
        "    return param == 0"
      ]
    },
    {
      "cell_type": "code",
      "execution_count": null,
      "metadata": {
        "id": "ddMzn-aI-NaN"
      },
      "outputs": [],
      "source": [
        "df['watcher'] = df['orders'].apply(watcher)\n",
        "df"
      ]
    },
    {
      "cell_type": "markdown",
      "metadata": {
        "id": "02auTpEu-NaN"
      },
      "source": [
        "Применяем метод apply к одному столбцу. Сейчас в переменную функции передаются значения одного столбца"
      ]
    },
    {
      "cell_type": "code",
      "execution_count": null,
      "metadata": {
        "id": "gByU4cm3-NaO"
      },
      "outputs": [],
      "source": [
        "def conversion(row):\n",
        "    \"\"\"Подсчет конверсии переходов в покупки\"\"\"\n",
        "    return row['orders'] / row['clicks']"
      ]
    },
    {
      "cell_type": "markdown",
      "metadata": {
        "id": "33z3n8kb-NaO"
      },
      "source": [
        "### Как потестировать функцию со значениями одной строки"
      ]
    },
    {
      "cell_type": "code",
      "execution_count": null,
      "metadata": {
        "id": "0G0Wghhv-NaO"
      },
      "outputs": [],
      "source": [
        "row1 = pd.DataFrame({'clicks': [163], \n",
        "                     'orders': [2], \n",
        "                     'user_id': [1]})\n",
        "conversion(row1)"
      ]
    },
    {
      "cell_type": "code",
      "execution_count": null,
      "metadata": {
        "id": "f8HxmlTL-NaP"
      },
      "outputs": [],
      "source": [
        "row1"
      ]
    },
    {
      "cell_type": "markdown",
      "metadata": {
        "id": "wdwhUOMP-NaQ"
      },
      "source": [
        "Применяем метод apply к датафрейму. В переменную функции передаются строки целиком"
      ]
    },
    {
      "cell_type": "code",
      "execution_count": null,
      "metadata": {
        "id": "H3C53PLM-NaQ"
      },
      "outputs": [],
      "source": [
        "df = pd.DataFrame({'user_id': [1, 2, 3], 'clicks': [163, 130, 97], 'orders': [2, 4, 0]})\n",
        "df[['user_id', 'clicks', 'orders']]"
      ]
    },
    {
      "cell_type": "code",
      "execution_count": null,
      "metadata": {
        "id": "nM5AQ7bP-NaR"
      },
      "outputs": [],
      "source": [
        "df['conversion'] = df.apply(conversion, axis=1)"
      ]
    },
    {
      "cell_type": "code",
      "execution_count": null,
      "metadata": {
        "id": "V1mBO0bH-NaR"
      },
      "outputs": [],
      "source": [
        "df[['user_id', 'clicks', 'orders', 'conversion']]"
      ]
    },
    {
      "cell_type": "markdown",
      "metadata": {
        "id": "Y23dMfwN-NaS"
      },
      "source": [
        "### Анализ рекламных кампаний"
      ]
    },
    {
      "cell_type": "code",
      "execution_count": null,
      "metadata": {
        "id": "TDv13ySp-NaS"
      },
      "outputs": [],
      "source": [
        "import pandas as pd"
      ]
    },
    {
      "cell_type": "code",
      "execution_count": null,
      "metadata": {
        "scrolled": true,
        "id": "DhOjFnGu-NaS"
      },
      "outputs": [],
      "source": [
        "stats = pd.read_excel('ad_campaigns.xlsx')\n",
        "stats.head()"
      ]
    },
    {
      "cell_type": "code",
      "execution_count": null,
      "metadata": {
        "scrolled": true,
        "id": "dsyz0aUn-NaT"
      },
      "outputs": [],
      "source": [
        "stats.columns = ['group', 'phrase', 'effect', 'ad_id', 'title', 'text', 'link']\n",
        "stats.head()"
      ]
    },
    {
      "cell_type": "markdown",
      "metadata": {
        "id": "6VEJyU4H-NaT"
      },
      "source": [
        "### Lambda-функции\n",
        "Хотим посчитать распределение количества слов в столбце с фразами"
      ]
    },
    {
      "cell_type": "code",
      "execution_count": null,
      "metadata": {
        "id": "TUzcd5Df-NaT"
      },
      "outputs": [],
      "source": [
        "phrase = 'МРТ на Менделеевской от 2000'"
      ]
    },
    {
      "cell_type": "code",
      "execution_count": null,
      "metadata": {
        "id": "nqniUq68-NaU"
      },
      "outputs": [],
      "source": [
        "phrase.split(' ')"
      ]
    },
    {
      "cell_type": "code",
      "execution_count": null,
      "metadata": {
        "id": "7x2bHR3c-NaU"
      },
      "outputs": [],
      "source": [
        "len(phrase.split(' '))"
      ]
    },
    {
      "cell_type": "code",
      "execution_count": null,
      "metadata": {
        "id": "6Ji6Twav-NaV"
      },
      "outputs": [],
      "source": [
        "def word_count(phrase):\n",
        "    return len(phrase.split(' '))"
      ]
    },
    {
      "cell_type": "code",
      "execution_count": null,
      "metadata": {
        "id": "TWiKhr_A-NaV"
      },
      "outputs": [],
      "source": [
        "word_count('МРТ на Менделеевской от 2000')"
      ]
    },
    {
      "cell_type": "code",
      "execution_count": null,
      "metadata": {
        "id": "uEmjh4rx-NaV"
      },
      "outputs": [],
      "source": [
        "word_count = lambda phrase: len(phrase.split(' '))"
      ]
    },
    {
      "cell_type": "code",
      "execution_count": null,
      "metadata": {
        "id": "B56k4D1--NaW"
      },
      "outputs": [],
      "source": [
        "stats['word_count'] = stats['phrase'].apply(lambda word: len(word.split(' ')))\n",
        "stats.head()"
      ]
    },
    {
      "cell_type": "code",
      "execution_count": null,
      "metadata": {
        "id": "e1DrMPT0-NaW"
      },
      "outputs": [],
      "source": [
        "# вариант с передачей всей строчки функции\n",
        "# тут надо обязательно указать параметр axis = 1\n",
        "\n",
        "stats['word_count'] = stats.apply(lambda x: len(x['phrase'].split(' ')), axis=1)\n",
        "stats.head()"
      ]
    },
    {
      "cell_type": "markdown",
      "metadata": {
        "id": "Pd417ZYh-NaW"
      },
      "source": [
        "### Упражнение\n",
        "Напишите отдельную функцию word_count, которая считает количество слов в столбце phrase. Функцию можно применять как к столбцу phrase, так и к строке целиком."
      ]
    },
    {
      "cell_type": "code",
      "execution_count": null,
      "metadata": {
        "id": "LESOhD0i-NaX"
      },
      "outputs": [],
      "source": [
        ""
      ]
    },
    {
      "cell_type": "code",
      "execution_count": null,
      "metadata": {
        "id": "gJGP0DAC-NaX"
      },
      "outputs": [],
      "source": [
        ""
      ]
    },
    {
      "cell_type": "code",
      "execution_count": null,
      "metadata": {
        "id": "oZ6Al87V-NaX"
      },
      "outputs": [],
      "source": [
        ""
      ]
    },
    {
      "cell_type": "markdown",
      "metadata": {
        "id": "EIEpsL8p-NaX"
      },
      "source": [
        "### Произвольные функции\n",
        "В URL кампаний есть названия. С этим надо что-то делать"
      ]
    },
    {
      "cell_type": "code",
      "execution_count": null,
      "metadata": {
        "id": "5RyhfH-0-NaY"
      },
      "outputs": [],
      "source": [
        "# обращение к индексу и значениям Series\n",
        "res = stats.word_count.value_counts()\n",
        "res"
      ]
    },
    {
      "cell_type": "code",
      "execution_count": null,
      "metadata": {
        "id": "WdmSzq_y-NaY"
      },
      "outputs": [],
      "source": [
        "res.index[0]"
      ]
    },
    {
      "cell_type": "code",
      "execution_count": null,
      "metadata": {
        "id": "-nL7O2oI-NaY"
      },
      "outputs": [],
      "source": [
        "res.values[0]"
      ]
    },
    {
      "cell_type": "code",
      "execution_count": null,
      "metadata": {
        "id": "KnoJeEzi-NaZ"
      },
      "outputs": [],
      "source": [
        "# пример ссылки\n",
        "url = stats.loc[0, 'link']\n",
        "url"
      ]
    },
    {
      "cell_type": "code",
      "execution_count": null,
      "metadata": {
        "id": "rG1CZ1IA-NaZ"
      },
      "outputs": [],
      "source": [
        "from urllib import parse"
      ]
    },
    {
      "cell_type": "code",
      "execution_count": null,
      "metadata": {
        "id": "GGMqpPrP-NaZ"
      },
      "outputs": [],
      "source": [
        "parse.urlsplit('https://ya.ru/news/sport?search=footbal#abc')"
      ]
    },
    {
      "cell_type": "code",
      "execution_count": null,
      "metadata": {
        "id": "3w3dBY_p-Naa"
      },
      "outputs": [],
      "source": [
        "parse.urlsplit('https://ya.ru/news/sport?search=footbal#abc').netloc"
      ]
    },
    {
      "cell_type": "code",
      "execution_count": null,
      "metadata": {
        "id": "32LlN2zB-Naa"
      },
      "outputs": [],
      "source": [
        "parsed = parse.urlsplit(url)\n",
        "parsed"
      ]
    },
    {
      "cell_type": "code",
      "execution_count": null,
      "metadata": {
        "id": "o1v-3VyR-Nab"
      },
      "outputs": [],
      "source": [
        "# можно конечно вручную\n",
        "parsed.query.split('&')[2].split('=')[1]"
      ]
    },
    {
      "cell_type": "code",
      "execution_count": null,
      "metadata": {
        "id": "fEyd-cE8-Nab"
      },
      "outputs": [],
      "source": [
        "# как доставать значения\n",
        "\n",
        "parsed.netloc"
      ]
    },
    {
      "cell_type": "code",
      "execution_count": null,
      "metadata": {
        "id": "bWj9_aAf-Nab"
      },
      "outputs": [],
      "source": [
        "params = parse.parse_qs(parsed.query)\n",
        "params"
      ]
    },
    {
      "cell_type": "code",
      "execution_count": null,
      "metadata": {
        "id": "BIzQV3Qv-Nab"
      },
      "outputs": [],
      "source": [
        "# вот и кампании\n",
        "\n",
        "params['utm_campaign'][0]"
      ]
    },
    {
      "cell_type": "code",
      "execution_count": null,
      "metadata": {
        "id": "ONcNw640-Nac"
      },
      "outputs": [],
      "source": [
        "# зачем тут везде списки?\n",
        "\n",
        "url_with_doubles = 'https://awesome-site.ru/?a=1&a=2&a=3'\n",
        "\n",
        "parsed = parse.urlsplit(url_with_doubles)\n",
        "parse.parse_qs(parsed.query)"
      ]
    },
    {
      "cell_type": "code",
      "execution_count": null,
      "metadata": {
        "id": "aIGoFu68-Nac"
      },
      "outputs": [],
      "source": [
        "# оборачиваем все в функцию\n",
        "# в качестве аргумента будет строка датафрейма\n",
        "\n",
        "def campaign_name(row):\n",
        "    \"\"\"Получение названия кампании из ссылки внутри строки row\"\"\"\n",
        "\n",
        "    parsed = parse.urlsplit(row['link'])\n",
        "    params_dict = parse.parse_qs(parsed.query)\n",
        "\n",
        "    return params_dict['utm_campaign'][0]"
      ]
    },
    {
      "cell_type": "code",
      "execution_count": null,
      "metadata": {
        "id": "VXkLp82b-Nac"
      },
      "outputs": [],
      "source": [
        "# проверяем датафрейм\n",
        "stats.head()"
      ]
    },
    {
      "cell_type": "code",
      "execution_count": null,
      "metadata": {
        "scrolled": true,
        "id": "3XajPU98-Nad"
      },
      "outputs": [],
      "source": [
        "stats['campaign'] = stats.apply(campaign_name, axis=1)\n",
        "stats.head()"
      ]
    },
    {
      "cell_type": "markdown",
      "metadata": {
        "id": "MgOCc8dB-Nad"
      },
      "source": [
        "### Как передать в функцию несколько аргументов"
      ]
    },
    {
      "cell_type": "code",
      "execution_count": null,
      "metadata": {
        "id": "1mx1yC1q-Nad"
      },
      "outputs": [],
      "source": [
        "# как передать несколько аргументов\n",
        "\n",
        "def power_up(row, n):\n",
        "    \"\"\"Возводит значение столбца effect в степень n\"\"\"\n",
        "    return row['effect'] ** n"
      ]
    },
    {
      "cell_type": "code",
      "execution_count": null,
      "metadata": {
        "id": "9ji_T0RK-Nae"
      },
      "outputs": [],
      "source": [
        "stats['power_up'] = stats.apply(power_up, n=2, axis=1)\n",
        "stats.head()"
      ]
    },
    {
      "cell_type": "markdown",
      "metadata": {
        "id": "PxWQSDSN-Nae"
      },
      "source": [
        "### Упражнение\n",
        "В наших данных есть много объявлений с услугой МРТ (в столбце group есть слово 'мрт') круглосуточно (в тексте объявления text есть '24 часа'). Отфильтруйте строки, в которых НЕ упоминается МРТ, но прием идет круглосуточно. Сколько таких строк в датасете?"
      ]
    },
    {
      "cell_type": "code",
      "execution_count": null,
      "metadata": {
        "id": "H7W0cW35-Nae"
      },
      "outputs": [],
      "source": [
        "def mrt(row):\n",
        "    if ('мрт' not in row['group']) and ('24 часа' in row['text']):\n",
        "        return True\n",
        "    \n",
        "    return False"
      ]
    },
    {
      "cell_type": "code",
      "execution_count": null,
      "metadata": {
        "id": "15BxvBgl-Naf"
      },
      "outputs": [],
      "source": [
        "stats['mrt'] = stats.apply(mrt, axis=1)"
      ]
    },
    {
      "cell_type": "code",
      "execution_count": null,
      "metadata": {
        "id": "efweGQA3-Naf"
      },
      "outputs": [],
      "source": [
        "stats.head()"
      ]
    },
    {
      "cell_type": "code",
      "execution_count": null,
      "metadata": {
        "id": "jpA5TtOJ-Naf"
      },
      "outputs": [],
      "source": [
        "stats.mrt.value_counts()"
      ]
    },
    {
      "cell_type": "markdown",
      "metadata": {
        "id": "u54NXKaD-Nag"
      },
      "source": [
        "## Группировки"
      ]
    },
    {
      "cell_type": "markdown",
      "source": [
        "### Basics"
      ],
      "metadata": {
        "id": "MbnXdPJy_NzF"
      }
    },
    {
      "cell_type": "code",
      "execution_count": null,
      "metadata": {
        "scrolled": true,
        "id": "PNarw6v1-Nag"
      },
      "outputs": [],
      "source": [
        "df = pd.DataFrame({'order_id': [1, 2, 3, 4, 5], 'country': ['Россия', 'Китай', 'Китай', 'Россия', 'Россия'], \n",
        "                   'category': ['Электроника', 'Авто', 'Электроника', 'Авто', 'Авто'], \n",
        "                   'amount': [100, 80, 90, 140, 90]})\n",
        "df"
      ]
    },
    {
      "cell_type": "markdown",
      "metadata": {
        "id": "n1i31hkV-Nag"
      },
      "source": [
        "Создадим датафрейм df_russia, в котором оставим заказы из России. И аналогично df_china (заказы из Китая)."
      ]
    },
    {
      "cell_type": "code",
      "execution_count": null,
      "metadata": {
        "id": "dkcBF83H-Nag"
      },
      "outputs": [],
      "source": [
        "df_russia = df[df.country == 'Россия']\n",
        "df_russia"
      ]
    },
    {
      "cell_type": "code",
      "execution_count": null,
      "metadata": {
        "id": "1UlGWaV8-Nah"
      },
      "outputs": [],
      "source": [
        "df_china = df[df.country == 'Китай']\n",
        "df_china"
      ]
    },
    {
      "cell_type": "code",
      "execution_count": null,
      "metadata": {
        "id": "gvrlEfsi-Nah"
      },
      "outputs": [],
      "source": [
        ""
      ]
    },
    {
      "cell_type": "markdown",
      "metadata": {
        "id": "PGw0EkOa-Nah"
      },
      "source": [
        "Посчитаем для df_russia и df_china:\n",
        "- среднюю стоимость заказа\n",
        "- разницу между максимальной и минимальной стоимостью заказа"
      ]
    },
    {
      "cell_type": "code",
      "execution_count": null,
      "metadata": {
        "scrolled": true,
        "id": "gny7tRQm-Nah"
      },
      "outputs": [],
      "source": [
        "df_russia.amount.mean()"
      ]
    },
    {
      "cell_type": "code",
      "execution_count": null,
      "metadata": {
        "id": "lQSn72T3-Nah"
      },
      "outputs": [],
      "source": [
        "df_china.amount.mean()"
      ]
    },
    {
      "cell_type": "code",
      "execution_count": null,
      "metadata": {
        "id": "AStfoEYD-Nai"
      },
      "outputs": [],
      "source": [
        "df_russia.amount.max() - df_russia.amount.min()"
      ]
    },
    {
      "cell_type": "code",
      "execution_count": null,
      "metadata": {
        "id": "vW4g-aAT-Nai"
      },
      "outputs": [],
      "source": [
        "df_china.amount.max() - df_china.amount.min()"
      ]
    },
    {
      "cell_type": "markdown",
      "metadata": {
        "id": "jIZCUG46-Nai"
      },
      "source": [
        "Объединим процесс разбиения на датафреймы"
      ]
    },
    {
      "cell_type": "code",
      "execution_count": null,
      "metadata": {
        "id": "ZZW-LRl8-Nai"
      },
      "outputs": [],
      "source": [
        "def groupby_function(data):\n",
        "    return data.amount.max() - data.amount.min()"
      ]
    },
    {
      "cell_type": "code",
      "execution_count": null,
      "metadata": {
        "scrolled": true,
        "id": "cERvdXc8-Naj"
      },
      "outputs": [],
      "source": [
        "df.groupby('country').apply(groupby_function)"
      ]
    },
    {
      "cell_type": "markdown",
      "metadata": {
        "id": "zrX4weoz-Naj"
      },
      "source": [
        "Вернемся к статистике рекламных кампаний"
      ]
    },
    {
      "cell_type": "code",
      "execution_count": null,
      "metadata": {
        "id": "QALVXEde-Naj"
      },
      "outputs": [],
      "source": [
        "# раньше использовали value_counts\n",
        "\n",
        "stats['campaign'].value_counts().head()"
      ]
    },
    {
      "cell_type": "code",
      "execution_count": null,
      "metadata": {
        "scrolled": false,
        "id": "sP935UkR-Naj"
      },
      "outputs": [],
      "source": [
        "# более универсальный способ\n",
        "\n",
        "stats.groupby('campaign').count().head()"
      ]
    },
    {
      "cell_type": "code",
      "execution_count": null,
      "metadata": {
        "id": "ieSHZEu2-Nak"
      },
      "outputs": [],
      "source": [
        "stats.head()"
      ]
    },
    {
      "cell_type": "code",
      "execution_count": null,
      "metadata": {
        "id": "_B35bhqd-Nak"
      },
      "outputs": [],
      "source": [
        "stats.groupby('campaign').count()[['group', 'effect']].head()"
      ]
    },
    {
      "cell_type": "markdown",
      "metadata": {
        "id": "SptCN1B--Nak"
      },
      "source": [
        "### Как вернуть столбец из индекса - метод reset_index()"
      ]
    },
    {
      "cell_type": "code",
      "execution_count": null,
      "metadata": {
        "scrolled": true,
        "id": "WaeUJ79u-Nak"
      },
      "outputs": [],
      "source": [
        "stats.groupby('campaign').count().reset_index().head()"
      ]
    },
    {
      "cell_type": "markdown",
      "metadata": {
        "id": "Jz1hI8-p-Nal"
      },
      "source": [
        "### К группировке можно применять разные функции такие образом:"
      ]
    },
    {
      "cell_type": "code",
      "execution_count": null,
      "metadata": {
        "id": "H3AHghM_-Nal"
      },
      "outputs": [],
      "source": [
        "obj = stats.groupby('campaign')"
      ]
    },
    {
      "cell_type": "code",
      "execution_count": null,
      "metadata": {
        "id": "SbkLo6Y8-Nal"
      },
      "outputs": [],
      "source": [
        "type(obj)"
      ]
    },
    {
      "cell_type": "code",
      "execution_count": null,
      "metadata": {
        "scrolled": true,
        "id": "ceZsnZbb-Nal"
      },
      "outputs": [],
      "source": [
        "obj.max().head()"
      ]
    },
    {
      "cell_type": "code",
      "execution_count": null,
      "metadata": {
        "scrolled": true,
        "id": "Ihv2HgNR-Nam"
      },
      "outputs": [],
      "source": [
        "obj.mean().head()"
      ]
    },
    {
      "cell_type": "markdown",
      "metadata": {
        "id": "cVIjjRNR-Nam"
      },
      "source": [
        "### Несколько функций в группировках"
      ]
    },
    {
      "cell_type": "code",
      "execution_count": null,
      "metadata": {
        "id": "Sth-03Sg-Nam"
      },
      "outputs": [],
      "source": [
        "# задаем несколько функций сразу\n",
        "\n",
        "stats.groupby('campaign').agg(['min', 'max'])['effect'].head()"
      ]
    },
    {
      "cell_type": "code",
      "execution_count": null,
      "metadata": {
        "id": "qpO30SIF-Nam"
      },
      "outputs": [],
      "source": [
        "# разные метрики для разных столбцов\n",
        "\n",
        "results = stats.groupby('campaign').agg({'effect': ['min', 'max'], 'power_up': 'mean'})\n",
        "results.head()"
      ]
    },
    {
      "cell_type": "markdown",
      "metadata": {
        "id": "ZFOkO4WG-Nan"
      },
      "source": [
        "### Как обращаться к вложенным столбцам"
      ]
    },
    {
      "cell_type": "code",
      "execution_count": null,
      "metadata": {
        "id": "ZB4J4FKr-Nan"
      },
      "outputs": [],
      "source": [
        "results['effect']['max'].head()"
      ]
    },
    {
      "cell_type": "code",
      "execution_count": null,
      "metadata": {
        "id": "7FTfjYXa-Nan"
      },
      "outputs": [],
      "source": [
        "# или даже так\n",
        "stats.groupby('campaign').agg({'effect': ['min', 'max'], 'power_up': 'mean'})['effect']['max'].head()"
      ]
    },
    {
      "cell_type": "code",
      "execution_count": null,
      "metadata": {
        "id": "8uiPaaLr-Nan"
      },
      "outputs": [],
      "source": [
        "# группировка по нескольким столбцам\n",
        "\n",
        "stats.groupby(['group', 'campaign']).count().head()"
      ]
    },
    {
      "cell_type": "code",
      "execution_count": null,
      "metadata": {
        "id": "VBHce-oj-Nao"
      },
      "outputs": [],
      "source": [
        "# максимальное число объявлений в одной группе\n",
        "\n",
        "stats.groupby(['group', 'campaign']).count().sort_values('phrase', ascending=False).head()"
      ]
    }
  ],
  "metadata": {
    "kernelspec": {
      "display_name": "Python 3",
      "language": "python",
      "name": "python3"
    },
    "language_info": {
      "codemirror_mode": {
        "name": "ipython",
        "version": 3
      },
      "file_extension": ".py",
      "mimetype": "text/x-python",
      "name": "python",
      "nbconvert_exporter": "python",
      "pygments_lexer": "ipython3",
      "version": "3.7.0"
    },
    "colab": {
      "name": "PYDA11_PanDas_groupby_HW.ipynb",
      "provenance": [],
      "collapsed_sections": [
        "p9YQFxg3dvW2",
        "mC7aaBzd-NaE"
      ],
      "include_colab_link": true
    }
  },
  "nbformat": 4,
  "nbformat_minor": 0
}