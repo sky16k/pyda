{
  "cells": [
    {
      "cell_type": "markdown",
      "metadata": {
        "id": "view-in-github",
        "colab_type": "text"
      },
      "source": [
        "<a href=\"https://colab.research.google.com/github/sky16k/pyda/blob/main/PYDA12_pandas_optim_pivot_join_HW.ipynb\" target=\"_parent\"><img src=\"https://colab.research.google.com/assets/colab-badge.svg\" alt=\"Open In Colab\"/></a>"
      ]
    },
    {
      "cell_type": "code",
      "source": [
        "from google.colab import drive\n",
        "drive.mount('/content/drive')"
      ],
      "metadata": {
        "colab": {
          "base_uri": "https://localhost:8080/"
        },
        "id": "j9I0i8jfvAKH",
        "outputId": "8fdfab51-74b4-4fd1-90d1-ffd7cd868a12"
      },
      "execution_count": 1,
      "outputs": [
        {
          "output_type": "stream",
          "name": "stdout",
          "text": [
            "Drive already mounted at /content/drive; to attempt to forcibly remount, call drive.mount(\"/content/drive\", force_remount=True).\n"
          ]
        }
      ]
    },
    {
      "cell_type": "markdown",
      "source": [
        "#Домашнее задание"
      ],
      "metadata": {
        "id": "xut-1lrgNCEM"
      }
    },
    {
      "cell_type": "markdown",
      "source": [
        "## осн. текст"
      ],
      "metadata": {
        "id": "p9YQFxg3dvW2"
      }
    },
    {
      "cell_type": "code",
      "source": [
        "'''\n",
        "Преподаватель: Константин Башевой\n",
        "Домашнее задание\n",
        "\n",
        "Задание 1\n",
        "\n",
        "Для датафрейма log из материалов занятия создайте столбец source_type по следующим правилам:\n",
        "\n",
        "если источник traffic_source равен yandex или google, то в source_type ставится organic\n",
        "для источников paid и email из России - ставим ad\n",
        "для источников paid и email не из России - ставим other\n",
        "все остальные варианты берем из traffic_source без изменений\n",
        "Задание 2\n",
        "\n",
        "В файле URLs.txt содержатся url страниц новостного сайта. Вам необходимо отфильтровать его по адресам страниц с текстами новостей. Известно, что шаблон страницы новостей имеет внутри url следующую конструкцию: /, затем 8 цифр, затем дефис. Выполните следующие действия:\n",
        "\n",
        "Прочитайте содержимое файла с датафрейм\n",
        "Отфильтруйте страницы с текстом новостей, используя метод str.contains и регулярное выражение в соответствии с заданным шаблоном\n",
        "Задание 3\n",
        "\n",
        "Используйте файл с оценками фильмов ml-latest-small/ratings.csv. Посчитайте среднее время жизни пользователей, которые выставили более 100 оценок. Под временем жизни понимается разница между максимальным и минимальным значением столбца timestamp для данного значения userId.\n",
        "Задание 4\n",
        "\n",
        "Дана статистика услуг перевозок клиентов компании по типам (см. файл “Python_13_join.ipynb” в разделе Материалы для лекции «Продвинутый pandas» ---- Ноутбуки к лекции «Продвинутый pandas»).\n",
        "Необходимо сформировать две таблицы:\n",
        "таблицу с тремя типами выручки для каждого client_id без указания адреса клиента\n",
        "аналогичную таблицу по типам выручки с указанием адреса клиента\n",
        "Обратите внимание, что в процессе объединения таблиц данные не должны теряться.\n",
        "'''"
      ],
      "metadata": {
        "id": "r6XxRCktd2fw",
        "colab": {
          "base_uri": "https://localhost:8080/",
          "height": 0
        },
        "outputId": "6ada060e-1d18-4e63-ec69-dbca22f75406"
      },
      "execution_count": 2,
      "outputs": [
        {
          "output_type": "execute_result",
          "data": {
            "text/plain": [
              "'\\nПреподаватель: Константин Башевой\\nДомашнее задание\\n\\nЗадание 1\\n\\nДля датафрейма log из материалов занятия создайте столбец source_type по следующим правилам:\\n\\nесли источник traffic_source равен yandex или google, то в source_type ставится organic\\nдля источников paid и email из России - ставим ad\\nдля источников paid и email не из России - ставим other\\nвсе остальные варианты берем из traffic_source без изменений\\nЗадание 2\\n\\nВ файле URLs.txt содержатся url страниц новостного сайта. Вам необходимо отфильтровать его по адресам страниц с текстами новостей. Известно, что шаблон страницы новостей имеет внутри url следующую конструкцию: /, затем 8 цифр, затем дефис. Выполните следующие действия:\\n\\nПрочитайте содержимое файла с датафрейм\\nОтфильтруйте страницы с текстом новостей, используя метод str.contains и регулярное выражение в соответствии с заданным шаблоном\\nЗадание 3\\n\\nИспользуйте файл с оценками фильмов ml-latest-small/ratings.csv. Посчитайте среднее время жизни пользователей, которые выставили более 100 оценок. Под временем жизни понимается разница между максимальным и минимальным значением столбца timestamp для данного значения userId.\\nЗадание 4\\n\\nДана статистика услуг перевозок клиентов компании по типам (см. файл “Python_13_join.ipynb” в разделе Материалы для лекции «Продвинутый pandas» ---- Ноутбуки к лекции «Продвинутый pandas»).\\nНеобходимо сформировать две таблицы:\\nтаблицу с тремя типами выручки для каждого client_id без указания адреса клиента\\nаналогичную таблицу по типам выручки с указанием адреса клиента\\nОбратите внимание, что в процессе объединения таблиц данные не должны теряться.\\n'"
            ],
            "application/vnd.google.colaboratory.intrinsic+json": {
              "type": "string"
            }
          },
          "metadata": {},
          "execution_count": 2
        }
      ]
    },
    {
      "cell_type": "markdown",
      "source": [
        "## Задание 1"
      ],
      "metadata": {
        "id": "K28MI5k_MbDE"
      }
    },
    {
      "cell_type": "markdown",
      "source": [
        "###текст"
      ],
      "metadata": {
        "id": "_m6QJdwtMeFu"
      }
    },
    {
      "cell_type": "code",
      "source": [
        "# комментарий эксперта\n",
        "'''\n",
        "\n",
        "'''"
      ],
      "metadata": {
        "id": "LG7Q1soZ97bI",
        "colab": {
          "base_uri": "https://localhost:8080/",
          "height": 35
        },
        "outputId": "1c020772-a833-48cc-dc33-91995439f479"
      },
      "execution_count": 3,
      "outputs": [
        {
          "output_type": "execute_result",
          "data": {
            "text/plain": [
              "'\\n\\n'"
            ],
            "application/vnd.google.colaboratory.intrinsic+json": {
              "type": "string"
            }
          },
          "metadata": {},
          "execution_count": 3
        }
      ]
    },
    {
      "cell_type": "code",
      "source": [
        "'''\n",
        "Задание 1\n",
        "\n",
        "Для датафрейма log из материалов занятия \n",
        "создайте столбец source_type по следующим правилам:\n",
        "\n",
        "если источник \n",
        "traffic_source равен yandex или google, \n",
        "то в source_type ставится organic\n",
        "\n",
        "для источников paid и email из России - ставим ad\n",
        "\n",
        "для источников paid и email не из России - ставим other\n",
        "\n",
        "все остальные варианты берем из traffic_source без изменений\n",
        "\n",
        "'''"
      ],
      "metadata": {
        "id": "6jF-_YjBMe2t",
        "colab": {
          "base_uri": "https://localhost:8080/",
          "height": 70
        },
        "outputId": "dff3d9f6-ef4d-4bce-ccfe-32398cc32f3c"
      },
      "execution_count": 4,
      "outputs": [
        {
          "output_type": "execute_result",
          "data": {
            "text/plain": [
              "'\\nЗадание 1\\n\\nДля датафрейма log из материалов занятия \\nсоздайте столбец source_type по следующим правилам:\\n\\nесли источник \\ntraffic_source равен yandex или google, \\nто в source_type ставится organic\\n\\nдля источников paid и email из России - ставим ad\\n\\nдля источников paid и email не из России - ставим other\\n\\nвсе остальные варианты берем из traffic_source без изменений\\n\\n'"
            ],
            "application/vnd.google.colaboratory.intrinsic+json": {
              "type": "string"
            }
          },
          "metadata": {},
          "execution_count": 4
        }
      ]
    },
    {
      "cell_type": "markdown",
      "source": [
        "###программа"
      ],
      "metadata": {
        "id": "KjSvPiWdMfT5"
      }
    },
    {
      "cell_type": "code",
      "source": [
        "import pandas as pd\n",
        "import re"
      ],
      "metadata": {
        "id": "3o0lOm-gMfqS"
      },
      "execution_count": 5,
      "outputs": []
    },
    {
      "cell_type": "code",
      "source": [
        "# log = pd.read_csv('/content/drive/MyDrive/скул/DS/data/visit_log_2.csv', sep=';')\n",
        "# log"
      ],
      "metadata": {
        "id": "klqicdcgdUro"
      },
      "execution_count": 6,
      "outputs": []
    },
    {
      "cell_type": "code",
      "source": [
        "%%time\n",
        "\n",
        "with open('/content/drive/MyDrive/скул/DS/data/visit_log_2.csv') as f:\n",
        "    v = open('/content/drive/MyDrive/скул/DS/data/visit_out.csv', 'w')\n",
        "    line = f.readline()\n",
        "    \n",
        "\n",
        "\n",
        "    '''? кстати, почему не работает следующий метод: '''\n",
        "    # line.replace(r'\\n', r';source_type\\n')\n",
        "\n",
        "\n",
        "\n",
        "    line = line[:-1] + ';source_type\\n'\n",
        "    # print(line)\n",
        "    v.write(line)\n",
        "\n",
        "    for line in f :\n",
        "        if    re.search(r'(yandex$)|(google$)', line) : line = line[:-1] + ';organic\\n'       # line.replace('\\n', ';organic\\n')\n",
        "        elif  re.search(r'(Russia).*(paid$)|(email$)', line) : line = line[:-1] + ';ad\\n'     # line.replace('\\n', ';ad\\n')\n",
        "        elif  re.search(          r'(paid$)|(email$)', line) : line = line[:-1] + ';other\\n'  # line.replace('\\n', ';other\\n')\n",
        "        else :  line = line[:-1] + re.search((r'(;\\w+$)'), line).group(1) + '\\n'\n",
        "        \n",
        "        # print(line)\n",
        "        v.write(line)\n",
        "    \n",
        "    v.close()\n",
        "\n",
        "log = pd.read_csv('/content/drive/MyDrive/скул/DS/data/visit_out.csv', sep=';')\n"
      ],
      "metadata": {
        "id": "23RrTYaNdUMT",
        "colab": {
          "base_uri": "https://localhost:8080/"
        },
        "outputId": "497b51ae-3274-42be-a3d7-7d002f959ec2"
      },
      "execution_count": 44,
      "outputs": [
        {
          "output_type": "stream",
          "name": "stdout",
          "text": [
            "CPU times: user 215 ms, sys: 7.93 ms, total: 223 ms\n",
            "Wall time: 247 ms\n"
          ]
        }
      ]
    },
    {
      "cell_type": "code",
      "source": [
        "\n",
        "log"
      ],
      "metadata": {
        "colab": {
          "base_uri": "https://localhost:8080/",
          "height": 424
        },
        "id": "2GeYt65tSn2d",
        "outputId": "bbbc6c4d-0857-4354-c0c5-ca9ddbda3b25"
      },
      "execution_count": 45,
      "outputs": [
        {
          "output_type": "execute_result",
          "data": {
            "text/plain": [
              "        timestamp    visit_id                                 url   region  \\\n",
              "0      1549980692  e3b0c44298  https://host.ru/3c19b4ef7371864fa3   Russia   \n",
              "1      1549980704  6e340b9cff  https://host.ru/c8d9213a31839f9a3a   Russia   \n",
              "2      1549980715  96a296d224  https://host.ru/b8b58337d272ee7b15   Russia   \n",
              "3      1549980725  709e80c884  https://host.ru/b8b58337d272ee7b15   Russia   \n",
              "4      1549980736  df3f619804  https://host.ru/b8b58337d272ee7b15   Russia   \n",
              "...           ...         ...                                 ...      ...   \n",
              "18933  1550094288  57e5ba8560  https://host.ru/c2382eb3d6afc8d0f3  Belarus   \n",
              "18934  1550094296  6f9389ec1b  https://host.ru/f1eb4601740d627ab0   Russia   \n",
              "18935  1550094308  e8cf2eb8e6  https://host.ru/a5dda93e70318570c0  Belarus   \n",
              "18936  1550094314  79530b9a67  https://host.ru/6fda01ec57f23abc9e   Russia   \n",
              "18937  1550094323  b3b634f824  https://host.ru/39fa884393666d45fc   Russia   \n",
              "\n",
              "          user_id traffic_source source_type  \n",
              "0      b1613cc09f         yandex     organic  \n",
              "1      4c3ec14bee         direct      direct  \n",
              "2      a8c40697fb         yandex     organic  \n",
              "3      521ac1d6a0         yandex     organic  \n",
              "4      d7323c571c         yandex     organic  \n",
              "...           ...            ...         ...  \n",
              "18933  98b19810d0           paid       other  \n",
              "18934  32ebb20c13           paid          ad  \n",
              "18935  b85baa8c73         yandex     organic  \n",
              "18936  e154b06121           paid          ad  \n",
              "18937  7d27a58fb8          email          ad  \n",
              "\n",
              "[18938 rows x 7 columns]"
            ],
            "text/html": [
              "\n",
              "  <div id=\"df-63d7e369-fd22-4dbc-8bb1-fff1b809cb7d\">\n",
              "    <div class=\"colab-df-container\">\n",
              "      <div>\n",
              "<style scoped>\n",
              "    .dataframe tbody tr th:only-of-type {\n",
              "        vertical-align: middle;\n",
              "    }\n",
              "\n",
              "    .dataframe tbody tr th {\n",
              "        vertical-align: top;\n",
              "    }\n",
              "\n",
              "    .dataframe thead th {\n",
              "        text-align: right;\n",
              "    }\n",
              "</style>\n",
              "<table border=\"1\" class=\"dataframe\">\n",
              "  <thead>\n",
              "    <tr style=\"text-align: right;\">\n",
              "      <th></th>\n",
              "      <th>timestamp</th>\n",
              "      <th>visit_id</th>\n",
              "      <th>url</th>\n",
              "      <th>region</th>\n",
              "      <th>user_id</th>\n",
              "      <th>traffic_source</th>\n",
              "      <th>source_type</th>\n",
              "    </tr>\n",
              "  </thead>\n",
              "  <tbody>\n",
              "    <tr>\n",
              "      <th>0</th>\n",
              "      <td>1549980692</td>\n",
              "      <td>e3b0c44298</td>\n",
              "      <td>https://host.ru/3c19b4ef7371864fa3</td>\n",
              "      <td>Russia</td>\n",
              "      <td>b1613cc09f</td>\n",
              "      <td>yandex</td>\n",
              "      <td>organic</td>\n",
              "    </tr>\n",
              "    <tr>\n",
              "      <th>1</th>\n",
              "      <td>1549980704</td>\n",
              "      <td>6e340b9cff</td>\n",
              "      <td>https://host.ru/c8d9213a31839f9a3a</td>\n",
              "      <td>Russia</td>\n",
              "      <td>4c3ec14bee</td>\n",
              "      <td>direct</td>\n",
              "      <td>direct</td>\n",
              "    </tr>\n",
              "    <tr>\n",
              "      <th>2</th>\n",
              "      <td>1549980715</td>\n",
              "      <td>96a296d224</td>\n",
              "      <td>https://host.ru/b8b58337d272ee7b15</td>\n",
              "      <td>Russia</td>\n",
              "      <td>a8c40697fb</td>\n",
              "      <td>yandex</td>\n",
              "      <td>organic</td>\n",
              "    </tr>\n",
              "    <tr>\n",
              "      <th>3</th>\n",
              "      <td>1549980725</td>\n",
              "      <td>709e80c884</td>\n",
              "      <td>https://host.ru/b8b58337d272ee7b15</td>\n",
              "      <td>Russia</td>\n",
              "      <td>521ac1d6a0</td>\n",
              "      <td>yandex</td>\n",
              "      <td>organic</td>\n",
              "    </tr>\n",
              "    <tr>\n",
              "      <th>4</th>\n",
              "      <td>1549980736</td>\n",
              "      <td>df3f619804</td>\n",
              "      <td>https://host.ru/b8b58337d272ee7b15</td>\n",
              "      <td>Russia</td>\n",
              "      <td>d7323c571c</td>\n",
              "      <td>yandex</td>\n",
              "      <td>organic</td>\n",
              "    </tr>\n",
              "    <tr>\n",
              "      <th>...</th>\n",
              "      <td>...</td>\n",
              "      <td>...</td>\n",
              "      <td>...</td>\n",
              "      <td>...</td>\n",
              "      <td>...</td>\n",
              "      <td>...</td>\n",
              "      <td>...</td>\n",
              "    </tr>\n",
              "    <tr>\n",
              "      <th>18933</th>\n",
              "      <td>1550094288</td>\n",
              "      <td>57e5ba8560</td>\n",
              "      <td>https://host.ru/c2382eb3d6afc8d0f3</td>\n",
              "      <td>Belarus</td>\n",
              "      <td>98b19810d0</td>\n",
              "      <td>paid</td>\n",
              "      <td>other</td>\n",
              "    </tr>\n",
              "    <tr>\n",
              "      <th>18934</th>\n",
              "      <td>1550094296</td>\n",
              "      <td>6f9389ec1b</td>\n",
              "      <td>https://host.ru/f1eb4601740d627ab0</td>\n",
              "      <td>Russia</td>\n",
              "      <td>32ebb20c13</td>\n",
              "      <td>paid</td>\n",
              "      <td>ad</td>\n",
              "    </tr>\n",
              "    <tr>\n",
              "      <th>18935</th>\n",
              "      <td>1550094308</td>\n",
              "      <td>e8cf2eb8e6</td>\n",
              "      <td>https://host.ru/a5dda93e70318570c0</td>\n",
              "      <td>Belarus</td>\n",
              "      <td>b85baa8c73</td>\n",
              "      <td>yandex</td>\n",
              "      <td>organic</td>\n",
              "    </tr>\n",
              "    <tr>\n",
              "      <th>18936</th>\n",
              "      <td>1550094314</td>\n",
              "      <td>79530b9a67</td>\n",
              "      <td>https://host.ru/6fda01ec57f23abc9e</td>\n",
              "      <td>Russia</td>\n",
              "      <td>e154b06121</td>\n",
              "      <td>paid</td>\n",
              "      <td>ad</td>\n",
              "    </tr>\n",
              "    <tr>\n",
              "      <th>18937</th>\n",
              "      <td>1550094323</td>\n",
              "      <td>b3b634f824</td>\n",
              "      <td>https://host.ru/39fa884393666d45fc</td>\n",
              "      <td>Russia</td>\n",
              "      <td>7d27a58fb8</td>\n",
              "      <td>email</td>\n",
              "      <td>ad</td>\n",
              "    </tr>\n",
              "  </tbody>\n",
              "</table>\n",
              "<p>18938 rows × 7 columns</p>\n",
              "</div>\n",
              "      <button class=\"colab-df-convert\" onclick=\"convertToInteractive('df-63d7e369-fd22-4dbc-8bb1-fff1b809cb7d')\"\n",
              "              title=\"Convert this dataframe to an interactive table.\"\n",
              "              style=\"display:none;\">\n",
              "        \n",
              "  <svg xmlns=\"http://www.w3.org/2000/svg\" height=\"24px\"viewBox=\"0 0 24 24\"\n",
              "       width=\"24px\">\n",
              "    <path d=\"M0 0h24v24H0V0z\" fill=\"none\"/>\n",
              "    <path d=\"M18.56 5.44l.94 2.06.94-2.06 2.06-.94-2.06-.94-.94-2.06-.94 2.06-2.06.94zm-11 1L8.5 8.5l.94-2.06 2.06-.94-2.06-.94L8.5 2.5l-.94 2.06-2.06.94zm10 10l.94 2.06.94-2.06 2.06-.94-2.06-.94-.94-2.06-.94 2.06-2.06.94z\"/><path d=\"M17.41 7.96l-1.37-1.37c-.4-.4-.92-.59-1.43-.59-.52 0-1.04.2-1.43.59L10.3 9.45l-7.72 7.72c-.78.78-.78 2.05 0 2.83L4 21.41c.39.39.9.59 1.41.59.51 0 1.02-.2 1.41-.59l7.78-7.78 2.81-2.81c.8-.78.8-2.07 0-2.86zM5.41 20L4 18.59l7.72-7.72 1.47 1.35L5.41 20z\"/>\n",
              "  </svg>\n",
              "      </button>\n",
              "      \n",
              "  <style>\n",
              "    .colab-df-container {\n",
              "      display:flex;\n",
              "      flex-wrap:wrap;\n",
              "      gap: 12px;\n",
              "    }\n",
              "\n",
              "    .colab-df-convert {\n",
              "      background-color: #E8F0FE;\n",
              "      border: none;\n",
              "      border-radius: 50%;\n",
              "      cursor: pointer;\n",
              "      display: none;\n",
              "      fill: #1967D2;\n",
              "      height: 32px;\n",
              "      padding: 0 0 0 0;\n",
              "      width: 32px;\n",
              "    }\n",
              "\n",
              "    .colab-df-convert:hover {\n",
              "      background-color: #E2EBFA;\n",
              "      box-shadow: 0px 1px 2px rgba(60, 64, 67, 0.3), 0px 1px 3px 1px rgba(60, 64, 67, 0.15);\n",
              "      fill: #174EA6;\n",
              "    }\n",
              "\n",
              "    [theme=dark] .colab-df-convert {\n",
              "      background-color: #3B4455;\n",
              "      fill: #D2E3FC;\n",
              "    }\n",
              "\n",
              "    [theme=dark] .colab-df-convert:hover {\n",
              "      background-color: #434B5C;\n",
              "      box-shadow: 0px 1px 3px 1px rgba(0, 0, 0, 0.15);\n",
              "      filter: drop-shadow(0px 1px 2px rgba(0, 0, 0, 0.3));\n",
              "      fill: #FFFFFF;\n",
              "    }\n",
              "  </style>\n",
              "\n",
              "      <script>\n",
              "        const buttonEl =\n",
              "          document.querySelector('#df-63d7e369-fd22-4dbc-8bb1-fff1b809cb7d button.colab-df-convert');\n",
              "        buttonEl.style.display =\n",
              "          google.colab.kernel.accessAllowed ? 'block' : 'none';\n",
              "\n",
              "        async function convertToInteractive(key) {\n",
              "          const element = document.querySelector('#df-63d7e369-fd22-4dbc-8bb1-fff1b809cb7d');\n",
              "          const dataTable =\n",
              "            await google.colab.kernel.invokeFunction('convertToInteractive',\n",
              "                                                     [key], {});\n",
              "          if (!dataTable) return;\n",
              "\n",
              "          const docLinkHtml = 'Like what you see? Visit the ' +\n",
              "            '<a target=\"_blank\" href=https://colab.research.google.com/notebooks/data_table.ipynb>data table notebook</a>'\n",
              "            + ' to learn more about interactive tables.';\n",
              "          element.innerHTML = '';\n",
              "          dataTable['output_type'] = 'display_data';\n",
              "          await google.colab.output.renderOutput(dataTable, element);\n",
              "          const docLink = document.createElement('div');\n",
              "          docLink.innerHTML = docLinkHtml;\n",
              "          element.appendChild(docLink);\n",
              "        }\n",
              "      </script>\n",
              "    </div>\n",
              "  </div>\n",
              "  "
            ]
          },
          "metadata": {},
          "execution_count": 45
        }
      ]
    },
    {
      "cell_type": "code",
      "source": [
        "import numpy as np\n",
        "msk = np.logical_not( log.source_type.str.contains(r'(organic)|(ad)|(other)|(direct)') ) # |(direct)\n",
        "log.loc[ msk ]"
      ],
      "metadata": {
        "colab": {
          "base_uri": "https://localhost:8080/",
          "height": 104
        },
        "id": "1tSzy10TLuON",
        "outputId": "40e3762c-ac3b-432c-d90b-9706ff002c03"
      },
      "execution_count": 8,
      "outputs": [
        {
          "output_type": "stream",
          "name": "stderr",
          "text": [
            "/usr/local/lib/python3.7/dist-packages/ipykernel_launcher.py:2: UserWarning: This pattern has match groups. To actually get the groups, use str.extract.\n",
            "  \n"
          ]
        },
        {
          "output_type": "execute_result",
          "data": {
            "text/plain": [
              "Empty DataFrame\n",
              "Columns: [timestamp, visit_id, url, region, user_id, traffic_source, source_type]\n",
              "Index: []"
            ],
            "text/html": [
              "\n",
              "  <div id=\"df-b1f17e9f-8a70-4be8-ac3d-c1e58768da7f\">\n",
              "    <div class=\"colab-df-container\">\n",
              "      <div>\n",
              "<style scoped>\n",
              "    .dataframe tbody tr th:only-of-type {\n",
              "        vertical-align: middle;\n",
              "    }\n",
              "\n",
              "    .dataframe tbody tr th {\n",
              "        vertical-align: top;\n",
              "    }\n",
              "\n",
              "    .dataframe thead th {\n",
              "        text-align: right;\n",
              "    }\n",
              "</style>\n",
              "<table border=\"1\" class=\"dataframe\">\n",
              "  <thead>\n",
              "    <tr style=\"text-align: right;\">\n",
              "      <th></th>\n",
              "      <th>timestamp</th>\n",
              "      <th>visit_id</th>\n",
              "      <th>url</th>\n",
              "      <th>region</th>\n",
              "      <th>user_id</th>\n",
              "      <th>traffic_source</th>\n",
              "      <th>source_type</th>\n",
              "    </tr>\n",
              "  </thead>\n",
              "  <tbody>\n",
              "  </tbody>\n",
              "</table>\n",
              "</div>\n",
              "      <button class=\"colab-df-convert\" onclick=\"convertToInteractive('df-b1f17e9f-8a70-4be8-ac3d-c1e58768da7f')\"\n",
              "              title=\"Convert this dataframe to an interactive table.\"\n",
              "              style=\"display:none;\">\n",
              "        \n",
              "  <svg xmlns=\"http://www.w3.org/2000/svg\" height=\"24px\"viewBox=\"0 0 24 24\"\n",
              "       width=\"24px\">\n",
              "    <path d=\"M0 0h24v24H0V0z\" fill=\"none\"/>\n",
              "    <path d=\"M18.56 5.44l.94 2.06.94-2.06 2.06-.94-2.06-.94-.94-2.06-.94 2.06-2.06.94zm-11 1L8.5 8.5l.94-2.06 2.06-.94-2.06-.94L8.5 2.5l-.94 2.06-2.06.94zm10 10l.94 2.06.94-2.06 2.06-.94-2.06-.94-.94-2.06-.94 2.06-2.06.94z\"/><path d=\"M17.41 7.96l-1.37-1.37c-.4-.4-.92-.59-1.43-.59-.52 0-1.04.2-1.43.59L10.3 9.45l-7.72 7.72c-.78.78-.78 2.05 0 2.83L4 21.41c.39.39.9.59 1.41.59.51 0 1.02-.2 1.41-.59l7.78-7.78 2.81-2.81c.8-.78.8-2.07 0-2.86zM5.41 20L4 18.59l7.72-7.72 1.47 1.35L5.41 20z\"/>\n",
              "  </svg>\n",
              "      </button>\n",
              "      \n",
              "  <style>\n",
              "    .colab-df-container {\n",
              "      display:flex;\n",
              "      flex-wrap:wrap;\n",
              "      gap: 12px;\n",
              "    }\n",
              "\n",
              "    .colab-df-convert {\n",
              "      background-color: #E8F0FE;\n",
              "      border: none;\n",
              "      border-radius: 50%;\n",
              "      cursor: pointer;\n",
              "      display: none;\n",
              "      fill: #1967D2;\n",
              "      height: 32px;\n",
              "      padding: 0 0 0 0;\n",
              "      width: 32px;\n",
              "    }\n",
              "\n",
              "    .colab-df-convert:hover {\n",
              "      background-color: #E2EBFA;\n",
              "      box-shadow: 0px 1px 2px rgba(60, 64, 67, 0.3), 0px 1px 3px 1px rgba(60, 64, 67, 0.15);\n",
              "      fill: #174EA6;\n",
              "    }\n",
              "\n",
              "    [theme=dark] .colab-df-convert {\n",
              "      background-color: #3B4455;\n",
              "      fill: #D2E3FC;\n",
              "    }\n",
              "\n",
              "    [theme=dark] .colab-df-convert:hover {\n",
              "      background-color: #434B5C;\n",
              "      box-shadow: 0px 1px 3px 1px rgba(0, 0, 0, 0.15);\n",
              "      filter: drop-shadow(0px 1px 2px rgba(0, 0, 0, 0.3));\n",
              "      fill: #FFFFFF;\n",
              "    }\n",
              "  </style>\n",
              "\n",
              "      <script>\n",
              "        const buttonEl =\n",
              "          document.querySelector('#df-b1f17e9f-8a70-4be8-ac3d-c1e58768da7f button.colab-df-convert');\n",
              "        buttonEl.style.display =\n",
              "          google.colab.kernel.accessAllowed ? 'block' : 'none';\n",
              "\n",
              "        async function convertToInteractive(key) {\n",
              "          const element = document.querySelector('#df-b1f17e9f-8a70-4be8-ac3d-c1e58768da7f');\n",
              "          const dataTable =\n",
              "            await google.colab.kernel.invokeFunction('convertToInteractive',\n",
              "                                                     [key], {});\n",
              "          if (!dataTable) return;\n",
              "\n",
              "          const docLinkHtml = 'Like what you see? Visit the ' +\n",
              "            '<a target=\"_blank\" href=https://colab.research.google.com/notebooks/data_table.ipynb>data table notebook</a>'\n",
              "            + ' to learn more about interactive tables.';\n",
              "          element.innerHTML = '';\n",
              "          dataTable['output_type'] = 'display_data';\n",
              "          await google.colab.output.renderOutput(dataTable, element);\n",
              "          const docLink = document.createElement('div');\n",
              "          docLink.innerHTML = docLinkHtml;\n",
              "          element.appendChild(docLink);\n",
              "        }\n",
              "      </script>\n",
              "    </div>\n",
              "  </div>\n",
              "  "
            ]
          },
          "metadata": {},
          "execution_count": 8
        }
      ]
    },
    {
      "cell_type": "code",
      "source": [
        "%%time\n",
        "\n",
        "# читаем файл\n",
        "log = pd.read_csv('/content/drive/MyDrive/скул/DS/data/visit_log_2.csv', sep=';')\n",
        "\n",
        "# копируем столбец источников\n",
        "log['source_type'] = log.traffic_source\n",
        "# print(log)\n",
        "\n",
        "# обрабатываем поисковики\n",
        "log.loc[log.traffic_source.str.contains('(yandex)|(google)'),'source_type'] = 'organic' \n",
        "# если источник содержит yandex или google - в тип написать organic\n",
        "\n",
        "# обрабатываем рекламу в России\n",
        "log.loc[lambda row:                                                   # найти строки по максе из формулы:\n",
        "        pd.concat([                                                   # 1. сложить маски:\n",
        "                   row.traffic_source.str.contains('(paid)|(email)'), # 1.a если источник содержит paid или email \n",
        "                   row.region == 'Russia'                             # 1.b если регион - Россия\n",
        "                   ], axis = 1                                        # сложить по горизонтали\n",
        "                  ).all(axis=1)                                       # 2. объединить маски по горизонтали\n",
        "        , 'source_type'] = 'ad'                                      # в тип написать ad\n",
        "\n",
        "# обрабатываем рекламу из зарубежья\n",
        "# log.loc[(log.traffic_source == 'paid' | log.traffic_source == 'email') & log.region != 'Russia' , 'traffic_type'] = 'other'\n",
        "log.loc[lambda row:                                                   # найти строки по максе из формулы:\n",
        "        pd.concat([                                                   # 1. сложить маски:\n",
        "                   row.traffic_source.str.contains('(paid)|(email)'), # 1.a если источник содержит paid или email \n",
        "                   row.region != 'Russia'                             # 1.b если регион - не Россия\n",
        "                   ], axis = 1                                        # сложить по горизонтали\n",
        "                  ).all(axis=1)                                       # 2. объединить маски по горизонтали\n",
        "        , 'source_type'] = 'other'                                      # в тип написать other\n",
        "\n"
      ],
      "metadata": {
        "id": "tWbuoJzLdT9E",
        "colab": {
          "base_uri": "https://localhost:8080/"
        },
        "outputId": "acba0ea0-88ec-4930-97ac-7eeb1d4eae13"
      },
      "execution_count": 46,
      "outputs": [
        {
          "output_type": "stream",
          "name": "stdout",
          "text": [
            "CPU times: user 70.5 ms, sys: 6.07 ms, total: 76.5 ms\n",
            "Wall time: 84.2 ms\n"
          ]
        },
        {
          "output_type": "stream",
          "name": "stderr",
          "text": [
            "/usr/local/lib/python3.7/dist-packages/ipykernel_launcher.py:9: UserWarning: This pattern has match groups. To actually get the groups, use str.extract.\n",
            "  if __name__ == '__main__':\n",
            "/usr/local/lib/python3.7/dist-packages/ipykernel_launcher.py:15: UserWarning: This pattern has match groups. To actually get the groups, use str.extract.\n",
            "  from ipykernel import kernelapp as app\n",
            "/usr/local/lib/python3.7/dist-packages/ipykernel_launcher.py:25: UserWarning: This pattern has match groups. To actually get the groups, use str.extract.\n"
          ]
        }
      ]
    },
    {
      "cell_type": "code",
      "source": [
        "\n",
        "log#.region == 'Russia'\n"
      ],
      "metadata": {
        "colab": {
          "base_uri": "https://localhost:8080/",
          "height": 424
        },
        "id": "DwAolh6GSqqh",
        "outputId": "b37f6e4d-2bca-4515-8b3f-6682c5aa4961"
      },
      "execution_count": 47,
      "outputs": [
        {
          "output_type": "execute_result",
          "data": {
            "text/plain": [
              "        timestamp    visit_id                                 url   region  \\\n",
              "0      1549980692  e3b0c44298  https://host.ru/3c19b4ef7371864fa3   Russia   \n",
              "1      1549980704  6e340b9cff  https://host.ru/c8d9213a31839f9a3a   Russia   \n",
              "2      1549980715  96a296d224  https://host.ru/b8b58337d272ee7b15   Russia   \n",
              "3      1549980725  709e80c884  https://host.ru/b8b58337d272ee7b15   Russia   \n",
              "4      1549980736  df3f619804  https://host.ru/b8b58337d272ee7b15   Russia   \n",
              "...           ...         ...                                 ...      ...   \n",
              "18933  1550094288  57e5ba8560  https://host.ru/c2382eb3d6afc8d0f3  Belarus   \n",
              "18934  1550094296  6f9389ec1b  https://host.ru/f1eb4601740d627ab0   Russia   \n",
              "18935  1550094308  e8cf2eb8e6  https://host.ru/a5dda93e70318570c0  Belarus   \n",
              "18936  1550094314  79530b9a67  https://host.ru/6fda01ec57f23abc9e   Russia   \n",
              "18937  1550094323  b3b634f824  https://host.ru/39fa884393666d45fc   Russia   \n",
              "\n",
              "          user_id traffic_source source_type  \n",
              "0      b1613cc09f         yandex     organic  \n",
              "1      4c3ec14bee         direct      direct  \n",
              "2      a8c40697fb         yandex     organic  \n",
              "3      521ac1d6a0         yandex     organic  \n",
              "4      d7323c571c         yandex     organic  \n",
              "...           ...            ...         ...  \n",
              "18933  98b19810d0           paid       other  \n",
              "18934  32ebb20c13           paid          ad  \n",
              "18935  b85baa8c73         yandex     organic  \n",
              "18936  e154b06121           paid          ad  \n",
              "18937  7d27a58fb8          email          ad  \n",
              "\n",
              "[18938 rows x 7 columns]"
            ],
            "text/html": [
              "\n",
              "  <div id=\"df-54f8f279-2626-4f11-b833-ca865b69fc24\">\n",
              "    <div class=\"colab-df-container\">\n",
              "      <div>\n",
              "<style scoped>\n",
              "    .dataframe tbody tr th:only-of-type {\n",
              "        vertical-align: middle;\n",
              "    }\n",
              "\n",
              "    .dataframe tbody tr th {\n",
              "        vertical-align: top;\n",
              "    }\n",
              "\n",
              "    .dataframe thead th {\n",
              "        text-align: right;\n",
              "    }\n",
              "</style>\n",
              "<table border=\"1\" class=\"dataframe\">\n",
              "  <thead>\n",
              "    <tr style=\"text-align: right;\">\n",
              "      <th></th>\n",
              "      <th>timestamp</th>\n",
              "      <th>visit_id</th>\n",
              "      <th>url</th>\n",
              "      <th>region</th>\n",
              "      <th>user_id</th>\n",
              "      <th>traffic_source</th>\n",
              "      <th>source_type</th>\n",
              "    </tr>\n",
              "  </thead>\n",
              "  <tbody>\n",
              "    <tr>\n",
              "      <th>0</th>\n",
              "      <td>1549980692</td>\n",
              "      <td>e3b0c44298</td>\n",
              "      <td>https://host.ru/3c19b4ef7371864fa3</td>\n",
              "      <td>Russia</td>\n",
              "      <td>b1613cc09f</td>\n",
              "      <td>yandex</td>\n",
              "      <td>organic</td>\n",
              "    </tr>\n",
              "    <tr>\n",
              "      <th>1</th>\n",
              "      <td>1549980704</td>\n",
              "      <td>6e340b9cff</td>\n",
              "      <td>https://host.ru/c8d9213a31839f9a3a</td>\n",
              "      <td>Russia</td>\n",
              "      <td>4c3ec14bee</td>\n",
              "      <td>direct</td>\n",
              "      <td>direct</td>\n",
              "    </tr>\n",
              "    <tr>\n",
              "      <th>2</th>\n",
              "      <td>1549980715</td>\n",
              "      <td>96a296d224</td>\n",
              "      <td>https://host.ru/b8b58337d272ee7b15</td>\n",
              "      <td>Russia</td>\n",
              "      <td>a8c40697fb</td>\n",
              "      <td>yandex</td>\n",
              "      <td>organic</td>\n",
              "    </tr>\n",
              "    <tr>\n",
              "      <th>3</th>\n",
              "      <td>1549980725</td>\n",
              "      <td>709e80c884</td>\n",
              "      <td>https://host.ru/b8b58337d272ee7b15</td>\n",
              "      <td>Russia</td>\n",
              "      <td>521ac1d6a0</td>\n",
              "      <td>yandex</td>\n",
              "      <td>organic</td>\n",
              "    </tr>\n",
              "    <tr>\n",
              "      <th>4</th>\n",
              "      <td>1549980736</td>\n",
              "      <td>df3f619804</td>\n",
              "      <td>https://host.ru/b8b58337d272ee7b15</td>\n",
              "      <td>Russia</td>\n",
              "      <td>d7323c571c</td>\n",
              "      <td>yandex</td>\n",
              "      <td>organic</td>\n",
              "    </tr>\n",
              "    <tr>\n",
              "      <th>...</th>\n",
              "      <td>...</td>\n",
              "      <td>...</td>\n",
              "      <td>...</td>\n",
              "      <td>...</td>\n",
              "      <td>...</td>\n",
              "      <td>...</td>\n",
              "      <td>...</td>\n",
              "    </tr>\n",
              "    <tr>\n",
              "      <th>18933</th>\n",
              "      <td>1550094288</td>\n",
              "      <td>57e5ba8560</td>\n",
              "      <td>https://host.ru/c2382eb3d6afc8d0f3</td>\n",
              "      <td>Belarus</td>\n",
              "      <td>98b19810d0</td>\n",
              "      <td>paid</td>\n",
              "      <td>other</td>\n",
              "    </tr>\n",
              "    <tr>\n",
              "      <th>18934</th>\n",
              "      <td>1550094296</td>\n",
              "      <td>6f9389ec1b</td>\n",
              "      <td>https://host.ru/f1eb4601740d627ab0</td>\n",
              "      <td>Russia</td>\n",
              "      <td>32ebb20c13</td>\n",
              "      <td>paid</td>\n",
              "      <td>ad</td>\n",
              "    </tr>\n",
              "    <tr>\n",
              "      <th>18935</th>\n",
              "      <td>1550094308</td>\n",
              "      <td>e8cf2eb8e6</td>\n",
              "      <td>https://host.ru/a5dda93e70318570c0</td>\n",
              "      <td>Belarus</td>\n",
              "      <td>b85baa8c73</td>\n",
              "      <td>yandex</td>\n",
              "      <td>organic</td>\n",
              "    </tr>\n",
              "    <tr>\n",
              "      <th>18936</th>\n",
              "      <td>1550094314</td>\n",
              "      <td>79530b9a67</td>\n",
              "      <td>https://host.ru/6fda01ec57f23abc9e</td>\n",
              "      <td>Russia</td>\n",
              "      <td>e154b06121</td>\n",
              "      <td>paid</td>\n",
              "      <td>ad</td>\n",
              "    </tr>\n",
              "    <tr>\n",
              "      <th>18937</th>\n",
              "      <td>1550094323</td>\n",
              "      <td>b3b634f824</td>\n",
              "      <td>https://host.ru/39fa884393666d45fc</td>\n",
              "      <td>Russia</td>\n",
              "      <td>7d27a58fb8</td>\n",
              "      <td>email</td>\n",
              "      <td>ad</td>\n",
              "    </tr>\n",
              "  </tbody>\n",
              "</table>\n",
              "<p>18938 rows × 7 columns</p>\n",
              "</div>\n",
              "      <button class=\"colab-df-convert\" onclick=\"convertToInteractive('df-54f8f279-2626-4f11-b833-ca865b69fc24')\"\n",
              "              title=\"Convert this dataframe to an interactive table.\"\n",
              "              style=\"display:none;\">\n",
              "        \n",
              "  <svg xmlns=\"http://www.w3.org/2000/svg\" height=\"24px\"viewBox=\"0 0 24 24\"\n",
              "       width=\"24px\">\n",
              "    <path d=\"M0 0h24v24H0V0z\" fill=\"none\"/>\n",
              "    <path d=\"M18.56 5.44l.94 2.06.94-2.06 2.06-.94-2.06-.94-.94-2.06-.94 2.06-2.06.94zm-11 1L8.5 8.5l.94-2.06 2.06-.94-2.06-.94L8.5 2.5l-.94 2.06-2.06.94zm10 10l.94 2.06.94-2.06 2.06-.94-2.06-.94-.94-2.06-.94 2.06-2.06.94z\"/><path d=\"M17.41 7.96l-1.37-1.37c-.4-.4-.92-.59-1.43-.59-.52 0-1.04.2-1.43.59L10.3 9.45l-7.72 7.72c-.78.78-.78 2.05 0 2.83L4 21.41c.39.39.9.59 1.41.59.51 0 1.02-.2 1.41-.59l7.78-7.78 2.81-2.81c.8-.78.8-2.07 0-2.86zM5.41 20L4 18.59l7.72-7.72 1.47 1.35L5.41 20z\"/>\n",
              "  </svg>\n",
              "      </button>\n",
              "      \n",
              "  <style>\n",
              "    .colab-df-container {\n",
              "      display:flex;\n",
              "      flex-wrap:wrap;\n",
              "      gap: 12px;\n",
              "    }\n",
              "\n",
              "    .colab-df-convert {\n",
              "      background-color: #E8F0FE;\n",
              "      border: none;\n",
              "      border-radius: 50%;\n",
              "      cursor: pointer;\n",
              "      display: none;\n",
              "      fill: #1967D2;\n",
              "      height: 32px;\n",
              "      padding: 0 0 0 0;\n",
              "      width: 32px;\n",
              "    }\n",
              "\n",
              "    .colab-df-convert:hover {\n",
              "      background-color: #E2EBFA;\n",
              "      box-shadow: 0px 1px 2px rgba(60, 64, 67, 0.3), 0px 1px 3px 1px rgba(60, 64, 67, 0.15);\n",
              "      fill: #174EA6;\n",
              "    }\n",
              "\n",
              "    [theme=dark] .colab-df-convert {\n",
              "      background-color: #3B4455;\n",
              "      fill: #D2E3FC;\n",
              "    }\n",
              "\n",
              "    [theme=dark] .colab-df-convert:hover {\n",
              "      background-color: #434B5C;\n",
              "      box-shadow: 0px 1px 3px 1px rgba(0, 0, 0, 0.15);\n",
              "      filter: drop-shadow(0px 1px 2px rgba(0, 0, 0, 0.3));\n",
              "      fill: #FFFFFF;\n",
              "    }\n",
              "  </style>\n",
              "\n",
              "      <script>\n",
              "        const buttonEl =\n",
              "          document.querySelector('#df-54f8f279-2626-4f11-b833-ca865b69fc24 button.colab-df-convert');\n",
              "        buttonEl.style.display =\n",
              "          google.colab.kernel.accessAllowed ? 'block' : 'none';\n",
              "\n",
              "        async function convertToInteractive(key) {\n",
              "          const element = document.querySelector('#df-54f8f279-2626-4f11-b833-ca865b69fc24');\n",
              "          const dataTable =\n",
              "            await google.colab.kernel.invokeFunction('convertToInteractive',\n",
              "                                                     [key], {});\n",
              "          if (!dataTable) return;\n",
              "\n",
              "          const docLinkHtml = 'Like what you see? Visit the ' +\n",
              "            '<a target=\"_blank\" href=https://colab.research.google.com/notebooks/data_table.ipynb>data table notebook</a>'\n",
              "            + ' to learn more about interactive tables.';\n",
              "          element.innerHTML = '';\n",
              "          dataTable['output_type'] = 'display_data';\n",
              "          await google.colab.output.renderOutput(dataTable, element);\n",
              "          const docLink = document.createElement('div');\n",
              "          docLink.innerHTML = docLinkHtml;\n",
              "          element.appendChild(docLink);\n",
              "        }\n",
              "      </script>\n",
              "    </div>\n",
              "  </div>\n",
              "  "
            ]
          },
          "metadata": {},
          "execution_count": 47
        }
      ]
    },
    {
      "cell_type": "code",
      "source": [
        "pd.concat([log.traffic_source.str.contains('(paid)|(email)') ,\n",
        "                   log.region == 'Russia'\n",
        "                   ]\n",
        "                  , axis = 1\n",
        "                  ).all(axis=1)"
      ],
      "metadata": {
        "colab": {
          "base_uri": "https://localhost:8080/"
        },
        "id": "kY3FfwAUL68R",
        "outputId": "a330ebf2-4edd-4c5c-a872-d6855e0df3c8"
      },
      "execution_count": 10,
      "outputs": [
        {
          "output_type": "stream",
          "name": "stderr",
          "text": [
            "/usr/local/lib/python3.7/dist-packages/ipykernel_launcher.py:1: UserWarning: This pattern has match groups. To actually get the groups, use str.extract.\n",
            "  \"\"\"Entry point for launching an IPython kernel.\n"
          ]
        },
        {
          "output_type": "execute_result",
          "data": {
            "text/plain": [
              "0        False\n",
              "1        False\n",
              "2        False\n",
              "3        False\n",
              "4        False\n",
              "         ...  \n",
              "18933    False\n",
              "18934     True\n",
              "18935    False\n",
              "18936     True\n",
              "18937     True\n",
              "Length: 18938, dtype: bool"
            ]
          },
          "metadata": {},
          "execution_count": 10
        }
      ]
    },
    {
      "cell_type": "markdown",
      "source": [
        "## Задание 2"
      ],
      "metadata": {
        "id": "uOhN2ArmMgkB"
      }
    },
    {
      "cell_type": "markdown",
      "source": [
        "###текст"
      ],
      "metadata": {
        "id": "KRNNt6LNMg0B"
      }
    },
    {
      "cell_type": "code",
      "source": [
        "# комментарий эксперта\n",
        "'''\n",
        "\n",
        "'''"
      ],
      "metadata": {
        "id": "QXwNwGPB-Dup",
        "colab": {
          "base_uri": "https://localhost:8080/",
          "height": 35
        },
        "outputId": "e731c21b-0cfe-419d-e82a-9eef1a737eee"
      },
      "execution_count": 11,
      "outputs": [
        {
          "output_type": "execute_result",
          "data": {
            "text/plain": [
              "'\\n\\n'"
            ],
            "application/vnd.google.colaboratory.intrinsic+json": {
              "type": "string"
            }
          },
          "metadata": {},
          "execution_count": 11
        }
      ]
    },
    {
      "cell_type": "code",
      "source": [
        "'''\n",
        "Задание 2\n",
        "\n",
        "В файле URLs.txt содержатся url страниц новостного сайта. \n",
        "Вам необходимо отфильтровать его по адресам страниц \n",
        "с текстами новостей. \n",
        "Известно, что шаблон страницы новостей \n",
        "имеет внутри url следующую конструкцию: \n",
        "/, затем 8 цифр, затем дефис. \n",
        "\n",
        "Выполните следующие действия:\n",
        "\n",
        "Прочитайте содержимое файла с датафрейм\n",
        "Отфильтруйте страницы с текстом новостей, \n",
        "используя метод str.contains и регулярное выражение \n",
        "в соответствии с заданным шаблоном\n",
        "\n",
        "'''"
      ],
      "metadata": {
        "id": "nASO5cKOMhKM",
        "colab": {
          "base_uri": "https://localhost:8080/",
          "height": 87
        },
        "outputId": "48244147-67b2-4b45-d22b-5611084feea0"
      },
      "execution_count": 12,
      "outputs": [
        {
          "output_type": "execute_result",
          "data": {
            "text/plain": [
              "'\\nЗадание 2\\n\\nВ файле URLs.txt содержатся url страниц новостного сайта. \\nВам необходимо отфильтровать его по адресам страниц \\nс текстами новостей. \\nИзвестно, что шаблон страницы новостей \\nимеет внутри url следующую конструкцию: \\n/, затем 8 цифр, затем дефис. \\n\\nВыполните следующие действия:\\n\\nПрочитайте содержимое файла с датафрейм\\nОтфильтруйте страницы с текстом новостей, \\nиспользуя метод str.contains и регулярное выражение \\nв соответствии с заданным шаблоном\\n\\n'"
            ],
            "application/vnd.google.colaboratory.intrinsic+json": {
              "type": "string"
            }
          },
          "metadata": {},
          "execution_count": 12
        }
      ]
    },
    {
      "cell_type": "markdown",
      "source": [
        "###программа"
      ],
      "metadata": {
        "id": "sr6nEVKHMhaG"
      }
    },
    {
      "cell_type": "code",
      "source": [
        "import pandas as pd\n"
      ],
      "metadata": {
        "id": "wSqCygzFMho8"
      },
      "execution_count": 13,
      "outputs": []
    },
    {
      "cell_type": "code",
      "source": [
        "df = pd.read_csv('/content/drive/MyDrive/скул/DS/data/URLs.txt')\n",
        "df"
      ],
      "metadata": {
        "id": "AfQpgTFSdYJC",
        "colab": {
          "base_uri": "https://localhost:8080/",
          "height": 424
        },
        "outputId": "7ed3c7db-156c-453c-8f03-35e42ce3c7a6"
      },
      "execution_count": 14,
      "outputs": [
        {
          "output_type": "execute_result",
          "data": {
            "text/plain": [
              "                                                  url\n",
              "0                                             /world/\n",
              "1                                            /latest/\n",
              "2                                       /?updated=top\n",
              "3   /politics/36188461-s-marta-zhizn-rossiyan-susc...\n",
              "4   /world/36007585-tramp-pridumal-kak-reshit-ukra...\n",
              "..                                                ...\n",
              "88  /cis/35984145-kreml-prokommentiroval-soobschen...\n",
              "89  /video/36071019-olimpiyskie-obekty-rio-prevrat...\n",
              "90  /science/36151301-nazvano-posledstvie-zloupotr...\n",
              "91  /incidents/36027330-vospitatelnitsu-zatravili-...\n",
              "92  /world/36103095-dominikanskih-zhurnalistov-ubi...\n",
              "\n",
              "[93 rows x 1 columns]"
            ],
            "text/html": [
              "\n",
              "  <div id=\"df-7f8f6c05-03dc-4444-9ad8-4ddaeb113a70\">\n",
              "    <div class=\"colab-df-container\">\n",
              "      <div>\n",
              "<style scoped>\n",
              "    .dataframe tbody tr th:only-of-type {\n",
              "        vertical-align: middle;\n",
              "    }\n",
              "\n",
              "    .dataframe tbody tr th {\n",
              "        vertical-align: top;\n",
              "    }\n",
              "\n",
              "    .dataframe thead th {\n",
              "        text-align: right;\n",
              "    }\n",
              "</style>\n",
              "<table border=\"1\" class=\"dataframe\">\n",
              "  <thead>\n",
              "    <tr style=\"text-align: right;\">\n",
              "      <th></th>\n",
              "      <th>url</th>\n",
              "    </tr>\n",
              "  </thead>\n",
              "  <tbody>\n",
              "    <tr>\n",
              "      <th>0</th>\n",
              "      <td>/world/</td>\n",
              "    </tr>\n",
              "    <tr>\n",
              "      <th>1</th>\n",
              "      <td>/latest/</td>\n",
              "    </tr>\n",
              "    <tr>\n",
              "      <th>2</th>\n",
              "      <td>/?updated=top</td>\n",
              "    </tr>\n",
              "    <tr>\n",
              "      <th>3</th>\n",
              "      <td>/politics/36188461-s-marta-zhizn-rossiyan-susc...</td>\n",
              "    </tr>\n",
              "    <tr>\n",
              "      <th>4</th>\n",
              "      <td>/world/36007585-tramp-pridumal-kak-reshit-ukra...</td>\n",
              "    </tr>\n",
              "    <tr>\n",
              "      <th>...</th>\n",
              "      <td>...</td>\n",
              "    </tr>\n",
              "    <tr>\n",
              "      <th>88</th>\n",
              "      <td>/cis/35984145-kreml-prokommentiroval-soobschen...</td>\n",
              "    </tr>\n",
              "    <tr>\n",
              "      <th>89</th>\n",
              "      <td>/video/36071019-olimpiyskie-obekty-rio-prevrat...</td>\n",
              "    </tr>\n",
              "    <tr>\n",
              "      <th>90</th>\n",
              "      <td>/science/36151301-nazvano-posledstvie-zloupotr...</td>\n",
              "    </tr>\n",
              "    <tr>\n",
              "      <th>91</th>\n",
              "      <td>/incidents/36027330-vospitatelnitsu-zatravili-...</td>\n",
              "    </tr>\n",
              "    <tr>\n",
              "      <th>92</th>\n",
              "      <td>/world/36103095-dominikanskih-zhurnalistov-ubi...</td>\n",
              "    </tr>\n",
              "  </tbody>\n",
              "</table>\n",
              "<p>93 rows × 1 columns</p>\n",
              "</div>\n",
              "      <button class=\"colab-df-convert\" onclick=\"convertToInteractive('df-7f8f6c05-03dc-4444-9ad8-4ddaeb113a70')\"\n",
              "              title=\"Convert this dataframe to an interactive table.\"\n",
              "              style=\"display:none;\">\n",
              "        \n",
              "  <svg xmlns=\"http://www.w3.org/2000/svg\" height=\"24px\"viewBox=\"0 0 24 24\"\n",
              "       width=\"24px\">\n",
              "    <path d=\"M0 0h24v24H0V0z\" fill=\"none\"/>\n",
              "    <path d=\"M18.56 5.44l.94 2.06.94-2.06 2.06-.94-2.06-.94-.94-2.06-.94 2.06-2.06.94zm-11 1L8.5 8.5l.94-2.06 2.06-.94-2.06-.94L8.5 2.5l-.94 2.06-2.06.94zm10 10l.94 2.06.94-2.06 2.06-.94-2.06-.94-.94-2.06-.94 2.06-2.06.94z\"/><path d=\"M17.41 7.96l-1.37-1.37c-.4-.4-.92-.59-1.43-.59-.52 0-1.04.2-1.43.59L10.3 9.45l-7.72 7.72c-.78.78-.78 2.05 0 2.83L4 21.41c.39.39.9.59 1.41.59.51 0 1.02-.2 1.41-.59l7.78-7.78 2.81-2.81c.8-.78.8-2.07 0-2.86zM5.41 20L4 18.59l7.72-7.72 1.47 1.35L5.41 20z\"/>\n",
              "  </svg>\n",
              "      </button>\n",
              "      \n",
              "  <style>\n",
              "    .colab-df-container {\n",
              "      display:flex;\n",
              "      flex-wrap:wrap;\n",
              "      gap: 12px;\n",
              "    }\n",
              "\n",
              "    .colab-df-convert {\n",
              "      background-color: #E8F0FE;\n",
              "      border: none;\n",
              "      border-radius: 50%;\n",
              "      cursor: pointer;\n",
              "      display: none;\n",
              "      fill: #1967D2;\n",
              "      height: 32px;\n",
              "      padding: 0 0 0 0;\n",
              "      width: 32px;\n",
              "    }\n",
              "\n",
              "    .colab-df-convert:hover {\n",
              "      background-color: #E2EBFA;\n",
              "      box-shadow: 0px 1px 2px rgba(60, 64, 67, 0.3), 0px 1px 3px 1px rgba(60, 64, 67, 0.15);\n",
              "      fill: #174EA6;\n",
              "    }\n",
              "\n",
              "    [theme=dark] .colab-df-convert {\n",
              "      background-color: #3B4455;\n",
              "      fill: #D2E3FC;\n",
              "    }\n",
              "\n",
              "    [theme=dark] .colab-df-convert:hover {\n",
              "      background-color: #434B5C;\n",
              "      box-shadow: 0px 1px 3px 1px rgba(0, 0, 0, 0.15);\n",
              "      filter: drop-shadow(0px 1px 2px rgba(0, 0, 0, 0.3));\n",
              "      fill: #FFFFFF;\n",
              "    }\n",
              "  </style>\n",
              "\n",
              "      <script>\n",
              "        const buttonEl =\n",
              "          document.querySelector('#df-7f8f6c05-03dc-4444-9ad8-4ddaeb113a70 button.colab-df-convert');\n",
              "        buttonEl.style.display =\n",
              "          google.colab.kernel.accessAllowed ? 'block' : 'none';\n",
              "\n",
              "        async function convertToInteractive(key) {\n",
              "          const element = document.querySelector('#df-7f8f6c05-03dc-4444-9ad8-4ddaeb113a70');\n",
              "          const dataTable =\n",
              "            await google.colab.kernel.invokeFunction('convertToInteractive',\n",
              "                                                     [key], {});\n",
              "          if (!dataTable) return;\n",
              "\n",
              "          const docLinkHtml = 'Like what you see? Visit the ' +\n",
              "            '<a target=\"_blank\" href=https://colab.research.google.com/notebooks/data_table.ipynb>data table notebook</a>'\n",
              "            + ' to learn more about interactive tables.';\n",
              "          element.innerHTML = '';\n",
              "          dataTable['output_type'] = 'display_data';\n",
              "          await google.colab.output.renderOutput(dataTable, element);\n",
              "          const docLink = document.createElement('div');\n",
              "          docLink.innerHTML = docLinkHtml;\n",
              "          element.appendChild(docLink);\n",
              "        }\n",
              "      </script>\n",
              "    </div>\n",
              "  </div>\n",
              "  "
            ]
          },
          "metadata": {},
          "execution_count": 14
        }
      ]
    },
    {
      "cell_type": "code",
      "source": [
        "df.loc[df.url.str.contains(r'/\\d{8}-')]\n"
      ],
      "metadata": {
        "id": "eH3SppGJdX0c",
        "colab": {
          "base_uri": "https://localhost:8080/",
          "height": 424
        },
        "outputId": "c21b8c6d-3894-4d43-c001-a416e42c923d"
      },
      "execution_count": 15,
      "outputs": [
        {
          "output_type": "execute_result",
          "data": {
            "text/plain": [
              "                                                  url\n",
              "3   /politics/36188461-s-marta-zhizn-rossiyan-susc...\n",
              "4   /world/36007585-tramp-pridumal-kak-reshit-ukra...\n",
              "5   /science/36157853-nasa-sobiraet-ekstrennuyu-pr...\n",
              "6   /video/36001498-poyavilis-pervye-podrobnosti-g...\n",
              "7   /world/36007585-tramp-pridumal-kak-reshit-ukra...\n",
              "..                                                ...\n",
              "88  /cis/35984145-kreml-prokommentiroval-soobschen...\n",
              "89  /video/36071019-olimpiyskie-obekty-rio-prevrat...\n",
              "90  /science/36151301-nazvano-posledstvie-zloupotr...\n",
              "91  /incidents/36027330-vospitatelnitsu-zatravili-...\n",
              "92  /world/36103095-dominikanskih-zhurnalistov-ubi...\n",
              "\n",
              "[84 rows x 1 columns]"
            ],
            "text/html": [
              "\n",
              "  <div id=\"df-ed3e3a5f-69b9-4092-8b0f-c5bfb9c0f536\">\n",
              "    <div class=\"colab-df-container\">\n",
              "      <div>\n",
              "<style scoped>\n",
              "    .dataframe tbody tr th:only-of-type {\n",
              "        vertical-align: middle;\n",
              "    }\n",
              "\n",
              "    .dataframe tbody tr th {\n",
              "        vertical-align: top;\n",
              "    }\n",
              "\n",
              "    .dataframe thead th {\n",
              "        text-align: right;\n",
              "    }\n",
              "</style>\n",
              "<table border=\"1\" class=\"dataframe\">\n",
              "  <thead>\n",
              "    <tr style=\"text-align: right;\">\n",
              "      <th></th>\n",
              "      <th>url</th>\n",
              "    </tr>\n",
              "  </thead>\n",
              "  <tbody>\n",
              "    <tr>\n",
              "      <th>3</th>\n",
              "      <td>/politics/36188461-s-marta-zhizn-rossiyan-susc...</td>\n",
              "    </tr>\n",
              "    <tr>\n",
              "      <th>4</th>\n",
              "      <td>/world/36007585-tramp-pridumal-kak-reshit-ukra...</td>\n",
              "    </tr>\n",
              "    <tr>\n",
              "      <th>5</th>\n",
              "      <td>/science/36157853-nasa-sobiraet-ekstrennuyu-pr...</td>\n",
              "    </tr>\n",
              "    <tr>\n",
              "      <th>6</th>\n",
              "      <td>/video/36001498-poyavilis-pervye-podrobnosti-g...</td>\n",
              "    </tr>\n",
              "    <tr>\n",
              "      <th>7</th>\n",
              "      <td>/world/36007585-tramp-pridumal-kak-reshit-ukra...</td>\n",
              "    </tr>\n",
              "    <tr>\n",
              "      <th>...</th>\n",
              "      <td>...</td>\n",
              "    </tr>\n",
              "    <tr>\n",
              "      <th>88</th>\n",
              "      <td>/cis/35984145-kreml-prokommentiroval-soobschen...</td>\n",
              "    </tr>\n",
              "    <tr>\n",
              "      <th>89</th>\n",
              "      <td>/video/36071019-olimpiyskie-obekty-rio-prevrat...</td>\n",
              "    </tr>\n",
              "    <tr>\n",
              "      <th>90</th>\n",
              "      <td>/science/36151301-nazvano-posledstvie-zloupotr...</td>\n",
              "    </tr>\n",
              "    <tr>\n",
              "      <th>91</th>\n",
              "      <td>/incidents/36027330-vospitatelnitsu-zatravili-...</td>\n",
              "    </tr>\n",
              "    <tr>\n",
              "      <th>92</th>\n",
              "      <td>/world/36103095-dominikanskih-zhurnalistov-ubi...</td>\n",
              "    </tr>\n",
              "  </tbody>\n",
              "</table>\n",
              "<p>84 rows × 1 columns</p>\n",
              "</div>\n",
              "      <button class=\"colab-df-convert\" onclick=\"convertToInteractive('df-ed3e3a5f-69b9-4092-8b0f-c5bfb9c0f536')\"\n",
              "              title=\"Convert this dataframe to an interactive table.\"\n",
              "              style=\"display:none;\">\n",
              "        \n",
              "  <svg xmlns=\"http://www.w3.org/2000/svg\" height=\"24px\"viewBox=\"0 0 24 24\"\n",
              "       width=\"24px\">\n",
              "    <path d=\"M0 0h24v24H0V0z\" fill=\"none\"/>\n",
              "    <path d=\"M18.56 5.44l.94 2.06.94-2.06 2.06-.94-2.06-.94-.94-2.06-.94 2.06-2.06.94zm-11 1L8.5 8.5l.94-2.06 2.06-.94-2.06-.94L8.5 2.5l-.94 2.06-2.06.94zm10 10l.94 2.06.94-2.06 2.06-.94-2.06-.94-.94-2.06-.94 2.06-2.06.94z\"/><path d=\"M17.41 7.96l-1.37-1.37c-.4-.4-.92-.59-1.43-.59-.52 0-1.04.2-1.43.59L10.3 9.45l-7.72 7.72c-.78.78-.78 2.05 0 2.83L4 21.41c.39.39.9.59 1.41.59.51 0 1.02-.2 1.41-.59l7.78-7.78 2.81-2.81c.8-.78.8-2.07 0-2.86zM5.41 20L4 18.59l7.72-7.72 1.47 1.35L5.41 20z\"/>\n",
              "  </svg>\n",
              "      </button>\n",
              "      \n",
              "  <style>\n",
              "    .colab-df-container {\n",
              "      display:flex;\n",
              "      flex-wrap:wrap;\n",
              "      gap: 12px;\n",
              "    }\n",
              "\n",
              "    .colab-df-convert {\n",
              "      background-color: #E8F0FE;\n",
              "      border: none;\n",
              "      border-radius: 50%;\n",
              "      cursor: pointer;\n",
              "      display: none;\n",
              "      fill: #1967D2;\n",
              "      height: 32px;\n",
              "      padding: 0 0 0 0;\n",
              "      width: 32px;\n",
              "    }\n",
              "\n",
              "    .colab-df-convert:hover {\n",
              "      background-color: #E2EBFA;\n",
              "      box-shadow: 0px 1px 2px rgba(60, 64, 67, 0.3), 0px 1px 3px 1px rgba(60, 64, 67, 0.15);\n",
              "      fill: #174EA6;\n",
              "    }\n",
              "\n",
              "    [theme=dark] .colab-df-convert {\n",
              "      background-color: #3B4455;\n",
              "      fill: #D2E3FC;\n",
              "    }\n",
              "\n",
              "    [theme=dark] .colab-df-convert:hover {\n",
              "      background-color: #434B5C;\n",
              "      box-shadow: 0px 1px 3px 1px rgba(0, 0, 0, 0.15);\n",
              "      filter: drop-shadow(0px 1px 2px rgba(0, 0, 0, 0.3));\n",
              "      fill: #FFFFFF;\n",
              "    }\n",
              "  </style>\n",
              "\n",
              "      <script>\n",
              "        const buttonEl =\n",
              "          document.querySelector('#df-ed3e3a5f-69b9-4092-8b0f-c5bfb9c0f536 button.colab-df-convert');\n",
              "        buttonEl.style.display =\n",
              "          google.colab.kernel.accessAllowed ? 'block' : 'none';\n",
              "\n",
              "        async function convertToInteractive(key) {\n",
              "          const element = document.querySelector('#df-ed3e3a5f-69b9-4092-8b0f-c5bfb9c0f536');\n",
              "          const dataTable =\n",
              "            await google.colab.kernel.invokeFunction('convertToInteractive',\n",
              "                                                     [key], {});\n",
              "          if (!dataTable) return;\n",
              "\n",
              "          const docLinkHtml = 'Like what you see? Visit the ' +\n",
              "            '<a target=\"_blank\" href=https://colab.research.google.com/notebooks/data_table.ipynb>data table notebook</a>'\n",
              "            + ' to learn more about interactive tables.';\n",
              "          element.innerHTML = '';\n",
              "          dataTable['output_type'] = 'display_data';\n",
              "          await google.colab.output.renderOutput(dataTable, element);\n",
              "          const docLink = document.createElement('div');\n",
              "          docLink.innerHTML = docLinkHtml;\n",
              "          element.appendChild(docLink);\n",
              "        }\n",
              "      </script>\n",
              "    </div>\n",
              "  </div>\n",
              "  "
            ]
          },
          "metadata": {},
          "execution_count": 15
        }
      ]
    },
    {
      "cell_type": "code",
      "source": [
        ""
      ],
      "metadata": {
        "id": "lygF7qnTdXn3"
      },
      "execution_count": 15,
      "outputs": []
    },
    {
      "cell_type": "markdown",
      "source": [
        "## Задание 3"
      ],
      "metadata": {
        "id": "ljWnHN2Edg34"
      }
    },
    {
      "cell_type": "markdown",
      "source": [
        "###текст"
      ],
      "metadata": {
        "id": "b9HDph-5dg37"
      }
    },
    {
      "cell_type": "code",
      "source": [
        "# комментарий эксперта\n",
        "'''\n",
        "\n",
        "'''"
      ],
      "metadata": {
        "id": "zoSR8q8V-EZS",
        "colab": {
          "base_uri": "https://localhost:8080/",
          "height": 35
        },
        "outputId": "80a13b01-e49c-42f9-e791-83306e3a4ec2"
      },
      "execution_count": 16,
      "outputs": [
        {
          "output_type": "execute_result",
          "data": {
            "text/plain": [
              "'\\n\\n'"
            ],
            "application/vnd.google.colaboratory.intrinsic+json": {
              "type": "string"
            }
          },
          "metadata": {},
          "execution_count": 16
        }
      ]
    },
    {
      "cell_type": "code",
      "source": [
        "'''\n",
        "Задание 3\n",
        "\n",
        "Используйте файл с оценками фильмов \n",
        "ml-latest-small/ratings.csv. \n",
        "\n",
        "Посчитайте среднее время жизни пользователей, \n",
        "которые выставили более 100 оценок. \n",
        "\n",
        "Под временем жизни понимается разница между \n",
        "максимальным и минимальным значением \n",
        "столбца timestamp для данного значения userId.\n",
        "\n",
        "'''"
      ],
      "metadata": {
        "id": "r-O80AG7dg38",
        "colab": {
          "base_uri": "https://localhost:8080/",
          "height": 70
        },
        "outputId": "918bb068-7dcf-4c31-adfd-fe86608403c6"
      },
      "execution_count": 17,
      "outputs": [
        {
          "output_type": "execute_result",
          "data": {
            "text/plain": [
              "'\\nЗадание 3\\n\\nИспользуйте файл с оценками фильмов \\nml-latest-small/ratings.csv. \\n\\nПосчитайте среднее время жизни пользователей, \\nкоторые выставили более 100 оценок. \\n\\nПод временем жизни понимается разница между \\nмаксимальным и минимальным значением \\nстолбца timestamp для данного значения userId.\\n\\n'"
            ],
            "application/vnd.google.colaboratory.intrinsic+json": {
              "type": "string"
            }
          },
          "metadata": {},
          "execution_count": 17
        }
      ]
    },
    {
      "cell_type": "markdown",
      "source": [
        "###программа"
      ],
      "metadata": {
        "id": "Xclhk-WGdg39"
      }
    },
    {
      "cell_type": "code",
      "source": [
        "import pandas as pd\n",
        "import numpy as np\n"
      ],
      "metadata": {
        "id": "-DcrQLnZdg3-"
      },
      "execution_count": 18,
      "outputs": []
    },
    {
      "cell_type": "code",
      "source": [
        "ratings = pd.read_csv('/content/drive/MyDrive/скул/DS/data/ml-latest-small/ratings.csv')\n",
        "# ratings"
      ],
      "metadata": {
        "id": "V5-YykfOdg3-"
      },
      "execution_count": 19,
      "outputs": []
    },
    {
      "cell_type": "code",
      "source": [
        "# user_activity = ratings.groupby('userId').count()\n",
        "# user_activity[user_activity.rating>100]"
      ],
      "metadata": {
        "id": "UGueqM_0dg3_"
      },
      "execution_count": 20,
      "outputs": []
    },
    {
      "cell_type": "code",
      "source": [
        "rating_pivot = ratings.pivot_table(\n",
        "                index='userId',\n",
        "                # values = 'timestamp', \n",
        "                aggfunc={'timestamp': lambda arr: (arr.max() - arr.min()),\n",
        "                        'rating': 'count'}\n",
        "                )\n"
      ],
      "metadata": {
        "id": "UAbcDOs1VVOr"
      },
      "execution_count": 21,
      "outputs": []
    },
    {
      "cell_type": "code",
      "source": [
        "user_lifetime = rating_pivot.loc[(rating_pivot.rating > 100) , 'timestamp'].mean()\n"
      ],
      "metadata": {
        "id": "hVyhp7U_aema"
      },
      "execution_count": 22,
      "outputs": []
    },
    {
      "cell_type": "code",
      "source": [
        "from datetime import timedelta\n",
        "print( timedelta(seconds = round(user_lifetime)) )"
      ],
      "metadata": {
        "colab": {
          "base_uri": "https://localhost:8080/"
        },
        "id": "4dUj961we9gg",
        "outputId": "894ee9c2-151d-4548-d596-c2d42031433e"
      },
      "execution_count": 23,
      "outputs": [
        {
          "output_type": "stream",
          "name": "stdout",
          "text": [
            "463 days, 21:28:27\n"
          ]
        }
      ]
    },
    {
      "cell_type": "code",
      "source": [
        ""
      ],
      "metadata": {
        "id": "-VWZfKdMdg3_"
      },
      "execution_count": 23,
      "outputs": []
    },
    {
      "cell_type": "markdown",
      "source": [
        "## Задание 4"
      ],
      "metadata": {
        "id": "8YqezIHDdg3_"
      }
    },
    {
      "cell_type": "markdown",
      "source": [
        "###текст"
      ],
      "metadata": {
        "id": "uLdZOkcZdg4A"
      }
    },
    {
      "cell_type": "code",
      "source": [
        "# комментарий эксперта\n",
        "'''\n",
        "\n",
        "'''"
      ],
      "metadata": {
        "id": "xywMChlD-FCA",
        "colab": {
          "base_uri": "https://localhost:8080/",
          "height": 35
        },
        "outputId": "e634641f-a571-4970-8ee1-bd83131bbfc9"
      },
      "execution_count": 24,
      "outputs": [
        {
          "output_type": "execute_result",
          "data": {
            "text/plain": [
              "'\\n\\n'"
            ],
            "application/vnd.google.colaboratory.intrinsic+json": {
              "type": "string"
            }
          },
          "metadata": {},
          "execution_count": 24
        }
      ]
    },
    {
      "cell_type": "code",
      "source": [
        "'''\n",
        "Задание 4\n",
        "\n",
        "Дана статистика услуг перевозок клиентов компании по типам \n",
        "(см. файл “Python_13_join.ipynb” в разделе \n",
        "Материалы для лекции «Продвинутый pandas» \n",
        "---- Ноутбуки к лекции «Продвинутый pandas»).\n",
        "\n",
        "Необходимо сформировать две таблицы:\n",
        "\n",
        "таблицу с тремя типами выручки \n",
        "для каждого client_id без указания адреса клиента\n",
        "\n",
        "аналогичную таблицу по типам выручки \n",
        "с указанием адреса клиента\n",
        "\n",
        "Обратите внимание, что в процессе объединения таблиц \n",
        "данные не должны теряться.\n",
        "\n",
        "'''"
      ],
      "metadata": {
        "id": "G1aBswthdg4A",
        "colab": {
          "base_uri": "https://localhost:8080/",
          "height": 87
        },
        "outputId": "265986f5-686f-4d58-fe9c-38f0f051d630"
      },
      "execution_count": 25,
      "outputs": [
        {
          "output_type": "execute_result",
          "data": {
            "text/plain": [
              "'\\nЗадание 4\\n\\nДана статистика услуг перевозок клиентов компании по типам \\n(см. файл “Python_13_join.ipynb” в разделе \\nМатериалы для лекции «Продвинутый pandas» \\n---- Ноутбуки к лекции «Продвинутый pandas»).\\n\\nНеобходимо сформировать две таблицы:\\n\\nтаблицу с тремя типами выручки \\nдля каждого client_id без указания адреса клиента\\n\\nаналогичную таблицу по типам выручки \\nс указанием адреса клиента\\n\\nОбратите внимание, что в процессе объединения таблиц \\nданные не должны теряться.\\n\\n'"
            ],
            "application/vnd.google.colaboratory.intrinsic+json": {
              "type": "string"
            }
          },
          "metadata": {},
          "execution_count": 25
        }
      ]
    },
    {
      "cell_type": "markdown",
      "source": [
        "###программа"
      ],
      "metadata": {
        "id": "iZGbrVk8dg4B"
      }
    },
    {
      "cell_type": "code",
      "source": [
        "import pandas as pd\n"
      ],
      "metadata": {
        "id": "QMSQyIp9dg4B"
      },
      "execution_count": 26,
      "outputs": []
    },
    {
      "cell_type": "markdown",
      "source": [
        "#### Дано:"
      ],
      "metadata": {
        "id": "sctN7-ZLIP8S"
      }
    },
    {
      "cell_type": "code",
      "execution_count": 27,
      "metadata": {
        "id": "dXEDbEDrCINI"
      },
      "outputs": [],
      "source": [
        "rzd = pd.DataFrame(\n",
        "    {\n",
        "        'client_id': [111, 112, 113, 114, 115],\n",
        "        'rzd_revenue': [1093, 2810, 10283, 5774, 981]\n",
        "    }\n",
        ")\n",
        "# rzd"
      ]
    },
    {
      "cell_type": "code",
      "execution_count": 28,
      "metadata": {
        "id": "7TDiwXO4CINJ"
      },
      "outputs": [],
      "source": [
        "auto = pd.DataFrame(\n",
        "    {\n",
        "        'client_id': [113, 114, 115, 116, 117],\n",
        "        'auto_revenue': [57483, 83, 912, 4834, 98]\n",
        "    }\n",
        ")\n",
        "# auto"
      ]
    },
    {
      "cell_type": "code",
      "execution_count": 29,
      "metadata": {
        "id": "uWRJ88YkCINK"
      },
      "outputs": [],
      "source": [
        "air = pd.DataFrame(\n",
        "    {\n",
        "        'client_id': [115, 116, 117, 118],\n",
        "        'air_revenue': [81, 4, 13, 173]\n",
        "    }\n",
        ")\n",
        "# air"
      ]
    },
    {
      "cell_type": "code",
      "execution_count": 30,
      "metadata": {
        "id": "TRH3S-LVCINK"
      },
      "outputs": [],
      "source": [
        "client_base = pd.DataFrame(\n",
        "    {\n",
        "        'client_id': [111, 112, 113, 114, 115, 116, 117, 118],\n",
        "        'address': ['Комсомольская 4', 'Энтузиастов 8а', 'Левобережная 1а', 'Мира 14', 'ЗЖБИиДК 1', \n",
        "                    'Строителей 18', 'Панфиловская 33', 'Мастеркова 4']\n",
        "    }\n",
        ")\n",
        "# client_base"
      ]
    },
    {
      "cell_type": "markdown",
      "source": [
        "####простой вар"
      ],
      "metadata": {
        "id": "2SYEdeUEEmho"
      }
    },
    {
      "cell_type": "code",
      "source": [
        "%%time\n",
        "revenue = client_base[['client_id']].merge(rzd, how='outer', on='client_id').merge(auto, how='outer', on='client_id').merge(air, how='outer', on='client_id')\n",
        "print(revenue)\n",
        "revenue_addr = client_base.merge(rzd, how='outer', on='client_id').merge(auto, how='outer', on='client_id').merge(air, how='outer', on='client_id')\n",
        "print(revenue_addr)"
      ],
      "metadata": {
        "id": "GC4HDI3eEssO",
        "colab": {
          "base_uri": "https://localhost:8080/"
        },
        "outputId": "13f4425e-5c15-42b5-e787-293e2b4ce01a"
      },
      "execution_count": 31,
      "outputs": [
        {
          "output_type": "stream",
          "name": "stdout",
          "text": [
            "   client_id  rzd_revenue  auto_revenue  air_revenue\n",
            "0        111       1093.0           NaN          NaN\n",
            "1        112       2810.0           NaN          NaN\n",
            "2        113      10283.0       57483.0          NaN\n",
            "3        114       5774.0          83.0          NaN\n",
            "4        115        981.0         912.0         81.0\n",
            "5        116          NaN        4834.0          4.0\n",
            "6        117          NaN          98.0         13.0\n",
            "7        118          NaN           NaN        173.0\n",
            "   client_id          address  rzd_revenue  auto_revenue  air_revenue\n",
            "0        111  Комсомольская 4       1093.0           NaN          NaN\n",
            "1        112   Энтузиастов 8а       2810.0           NaN          NaN\n",
            "2        113  Левобережная 1а      10283.0       57483.0          NaN\n",
            "3        114          Мира 14       5774.0          83.0          NaN\n",
            "4        115        ЗЖБИиДК 1        981.0         912.0         81.0\n",
            "5        116    Строителей 18          NaN        4834.0          4.0\n",
            "6        117  Панфиловская 33          NaN          98.0         13.0\n",
            "7        118     Мастеркова 4          NaN           NaN        173.0\n",
            "CPU times: user 20.4 ms, sys: 26 µs, total: 20.5 ms\n",
            "Wall time: 19.7 ms\n"
          ]
        }
      ]
    },
    {
      "cell_type": "markdown",
      "source": [
        "#### Вариант с функцией"
      ],
      "metadata": {
        "id": "9RxF1J3OE4q2"
      }
    },
    {
      "cell_type": "code",
      "source": [
        "%%time\n",
        "\n",
        "trans_list = [client_base, rzd, auto, air]\n",
        "\n",
        "def table_merge(table_list, on_col) :\n",
        "    result = table_list[0]\n",
        "    for table in table_list[1:] :\n",
        "        result = result.merge(table, how='outer', on=on_col)\n",
        "    return result\n",
        "\n",
        "clients_revenue_addr = table_merge(trans_list, 'client_id')\n",
        "clients_revenue = clients_revenue_addr.drop('address', axis=1)\n",
        "print(clients_revenue)\n",
        "print(clients_revenue_addr)\n"
      ],
      "metadata": {
        "colab": {
          "base_uri": "https://localhost:8080/"
        },
        "id": "lvBzAyjCAs4Z",
        "outputId": "2f9bb42e-ddda-4449-bb3d-29c706d66261"
      },
      "execution_count": 32,
      "outputs": [
        {
          "output_type": "stream",
          "name": "stdout",
          "text": [
            "   client_id  rzd_revenue  auto_revenue  air_revenue\n",
            "0        111       1093.0           NaN          NaN\n",
            "1        112       2810.0           NaN          NaN\n",
            "2        113      10283.0       57483.0          NaN\n",
            "3        114       5774.0          83.0          NaN\n",
            "4        115        981.0         912.0         81.0\n",
            "5        116          NaN        4834.0          4.0\n",
            "6        117          NaN          98.0         13.0\n",
            "7        118          NaN           NaN        173.0\n",
            "   client_id          address  rzd_revenue  auto_revenue  air_revenue\n",
            "0        111  Комсомольская 4       1093.0           NaN          NaN\n",
            "1        112   Энтузиастов 8а       2810.0           NaN          NaN\n",
            "2        113  Левобережная 1а      10283.0       57483.0          NaN\n",
            "3        114          Мира 14       5774.0          83.0          NaN\n",
            "4        115        ЗЖБИиДК 1        981.0         912.0         81.0\n",
            "5        116    Строителей 18          NaN        4834.0          4.0\n",
            "6        117  Панфиловская 33          NaN          98.0         13.0\n",
            "7        118     Мастеркова 4          NaN           NaN        173.0\n",
            "CPU times: user 20.9 ms, sys: 1 ms, total: 21.9 ms\n",
            "Wall time: 21.1 ms\n"
          ]
        }
      ]
    },
    {
      "cell_type": "code",
      "source": [
        ""
      ],
      "metadata": {
        "id": "7i5BGWEiEjFu"
      },
      "execution_count": 32,
      "outputs": []
    },
    {
      "cell_type": "markdown",
      "source": [
        "####рабочий вар"
      ],
      "metadata": {
        "id": "XIij-fAEB83v"
      }
    },
    {
      "cell_type": "code",
      "source": [
        "%%time\n",
        "\n",
        "trans_list = [rzd, auto, air]\n",
        "\n",
        "revenue = client_base[['client_id']]\n",
        "\n",
        "for trans in trans_list :\n",
        "    revenue = revenue.merge(trans, how='outer', on='client_id')\n",
        "\n",
        "clients_revenue_addr = revenue\n",
        "\n",
        "revenue = client_base#[['client_id']]\n",
        "\n",
        "for trans in trans_list :\n",
        "    revenue = revenue.merge(trans, how='outer', on='client_id')\n",
        "\n",
        "clients_revenue = revenue\n",
        "print(clients_revenue)\n",
        "print(clients_revenue_addr)\n"
      ],
      "metadata": {
        "id": "aaHAGJUjEe2u",
        "colab": {
          "base_uri": "https://localhost:8080/"
        },
        "outputId": "1f071660-6ed4-44dc-c177-c8475dd6905f"
      },
      "execution_count": 33,
      "outputs": [
        {
          "output_type": "stream",
          "name": "stdout",
          "text": [
            "   client_id          address  rzd_revenue  auto_revenue  air_revenue\n",
            "0        111  Комсомольская 4       1093.0           NaN          NaN\n",
            "1        112   Энтузиастов 8а       2810.0           NaN          NaN\n",
            "2        113  Левобережная 1а      10283.0       57483.0          NaN\n",
            "3        114          Мира 14       5774.0          83.0          NaN\n",
            "4        115        ЗЖБИиДК 1        981.0         912.0         81.0\n",
            "5        116    Строителей 18          NaN        4834.0          4.0\n",
            "6        117  Панфиловская 33          NaN          98.0         13.0\n",
            "7        118     Мастеркова 4          NaN           NaN        173.0\n",
            "   client_id  rzd_revenue  auto_revenue  air_revenue\n",
            "0        111       1093.0           NaN          NaN\n",
            "1        112       2810.0           NaN          NaN\n",
            "2        113      10283.0       57483.0          NaN\n",
            "3        114       5774.0          83.0          NaN\n",
            "4        115        981.0         912.0         81.0\n",
            "5        116          NaN        4834.0          4.0\n",
            "6        117          NaN          98.0         13.0\n",
            "7        118          NaN           NaN        173.0\n",
            "CPU times: user 27.1 ms, sys: 1.94 ms, total: 29 ms\n",
            "Wall time: 28.8 ms\n"
          ]
        }
      ]
    },
    {
      "cell_type": "code",
      "source": [
        ""
      ],
      "metadata": {
        "id": "oUnCWfjDdg4D"
      },
      "execution_count": 33,
      "outputs": []
    },
    {
      "cell_type": "markdown",
      "source": [
        "# Теория: оптимизация, сводные, фильтры (.loc), строковые методы, формы слов, объединение таблиц"
      ],
      "metadata": {
        "id": "EPSv3wic8urQ"
      }
    },
    {
      "cell_type": "markdown",
      "metadata": {
        "id": "V9sEim_W7-qh"
      },
      "source": [
        "## Про pandas, ключи и индексы\n"
      ]
    },
    {
      "cell_type": "markdown",
      "source": [
        "###Задача - определить есть ли в наборе значений заданное"
      ],
      "metadata": {
        "id": "Ac1kbd8f8KJt"
      }
    },
    {
      "cell_type": "code",
      "execution_count": 34,
      "metadata": {
        "id": "Uc9ecrUl7-qq"
      },
      "outputs": [],
      "source": [
        "data_list = list(range(10000))"
      ]
    },
    {
      "cell_type": "code",
      "execution_count": 35,
      "metadata": {
        "colab": {
          "base_uri": "https://localhost:8080/"
        },
        "id": "qng7Dg3Z7-qt",
        "outputId": "54fb174d-71f7-40ad-c2fe-89767af5b796"
      },
      "outputs": [
        {
          "output_type": "execute_result",
          "data": {
            "text/plain": [
              "[0, 1, 2, 3, 4]"
            ]
          },
          "metadata": {},
          "execution_count": 35
        }
      ],
      "source": [
        "data_list[:5]"
      ]
    },
    {
      "cell_type": "code",
      "execution_count": 36,
      "metadata": {
        "colab": {
          "base_uri": "https://localhost:8080/"
        },
        "id": "rL3kPi6D7-qu",
        "outputId": "cb16c159-c9b8-44d8-8342-98de7e6cfcb1"
      },
      "outputs": [
        {
          "output_type": "stream",
          "name": "stdout",
          "text": [
            "Ура нашел!\n"
          ]
        }
      ],
      "source": [
        "if 5000 in data_list:\n",
        "    print('Ура нашел!')"
      ]
    },
    {
      "cell_type": "markdown",
      "metadata": {
        "id": "vNZ7KLJN7-qv"
      },
      "source": [
        "Время поиска зависит от того какой именно элемент вы ищете: первый, из середины или в конце"
      ]
    },
    {
      "cell_type": "code",
      "execution_count": 37,
      "metadata": {
        "id": "Ep45j8If7-qw"
      },
      "outputs": [],
      "source": [
        "%%time\n",
        "\n",
        "for _ in range(10**5):\n",
        "    9000 in data_list"
      ]
    },
    {
      "cell_type": "markdown",
      "metadata": {
        "id": "wnZI866i7-qx"
      },
      "source": [
        "### Заменим список на множество"
      ]
    },
    {
      "cell_type": "code",
      "execution_count": 38,
      "metadata": {
        "id": "WTZtDGvB7-qy",
        "colab": {
          "base_uri": "https://localhost:8080/"
        },
        "outputId": "8d5f1efc-43bf-4e4d-8cbb-bfdfdfbf7a37"
      },
      "outputs": [
        {
          "output_type": "execute_result",
          "data": {
            "text/plain": [
              "{1, 2, 3}"
            ]
          },
          "metadata": {},
          "execution_count": 38
        }
      ],
      "source": [
        "set([1, 2, 2, 2, 3])"
      ]
    },
    {
      "cell_type": "code",
      "execution_count": 39,
      "metadata": {
        "id": "QiPPGBhm7-qz"
      },
      "outputs": [],
      "source": [
        "data_set = set(range(10000))"
      ]
    },
    {
      "cell_type": "code",
      "execution_count": 40,
      "metadata": {
        "id": "dm4TXHxy7-q0",
        "colab": {
          "base_uri": "https://localhost:8080/"
        },
        "outputId": "e6ad33ee-db33-4416-e2b9-d00c735a2b87"
      },
      "outputs": [
        {
          "output_type": "execute_result",
          "data": {
            "text/plain": [
              "set"
            ]
          },
          "metadata": {},
          "execution_count": 40
        }
      ],
      "source": [
        "type(data_set)"
      ]
    },
    {
      "cell_type": "code",
      "execution_count": 41,
      "metadata": {
        "id": "TNzRSrCU7-q1",
        "colab": {
          "base_uri": "https://localhost:8080/"
        },
        "outputId": "18ee6e2f-a5c7-4619-e116-e81ec8c40ea3"
      },
      "outputs": [
        {
          "output_type": "stream",
          "name": "stdout",
          "text": [
            "CPU times: user 12 ms, sys: 1 ms, total: 13 ms\n",
            "Wall time: 14.4 ms\n"
          ]
        }
      ],
      "source": [
        "%%time\n",
        "\n",
        "for _ in range(10**5):\n",
        "    9000 in data_set"
      ]
    },
    {
      "cell_type": "markdown",
      "metadata": {
        "id": "Qmx_5q8x7-q2"
      },
      "source": [
        "### Усложним задачу - в таблице из пяти столбцов найти нужную строчку."
      ]
    },
    {
      "cell_type": "code",
      "execution_count": 42,
      "metadata": {
        "id": "v3Y_deT17-q2"
      },
      "outputs": [],
      "source": [
        "import pandas as pd"
      ]
    },
    {
      "cell_type": "code",
      "execution_count": 43,
      "metadata": {
        "id": "iSdDuv1L7-q3",
        "colab": {
          "base_uri": "https://localhost:8080/",
          "height": 346
        },
        "outputId": "207a6d24-7300-4ad2-8f8a-761c5f74b2dd"
      },
      "outputs": [
        {
          "output_type": "error",
          "ename": "FileNotFoundError",
          "evalue": "ignored",
          "traceback": [
            "\u001b[0;31m---------------------------------------------------------------------------\u001b[0m",
            "\u001b[0;31mFileNotFoundError\u001b[0m                         Traceback (most recent call last)",
            "\u001b[0;32m<ipython-input-43-a33c89bb8da9>\u001b[0m in \u001b[0;36m<module>\u001b[0;34m\u001b[0m\n\u001b[0;32m----> 1\u001b[0;31m \u001b[0mtable\u001b[0m \u001b[0;34m=\u001b[0m \u001b[0mpd\u001b[0m\u001b[0;34m.\u001b[0m\u001b[0mread_csv\u001b[0m\u001b[0;34m(\u001b[0m\u001b[0;34m'data.tsv'\u001b[0m\u001b[0;34m,\u001b[0m \u001b[0msep\u001b[0m\u001b[0;34m=\u001b[0m\u001b[0;34m'\\t'\u001b[0m\u001b[0;34m)\u001b[0m\u001b[0;34m\u001b[0m\u001b[0;34m\u001b[0m\u001b[0m\n\u001b[0m\u001b[1;32m      2\u001b[0m \u001b[0mtable\u001b[0m\u001b[0;34m.\u001b[0m\u001b[0mhead\u001b[0m\u001b[0;34m(\u001b[0m\u001b[0;34m)\u001b[0m\u001b[0;34m\u001b[0m\u001b[0;34m\u001b[0m\u001b[0m\n",
            "\u001b[0;32m/usr/local/lib/python3.7/dist-packages/pandas/util/_decorators.py\u001b[0m in \u001b[0;36mwrapper\u001b[0;34m(*args, **kwargs)\u001b[0m\n\u001b[1;32m    309\u001b[0m                     \u001b[0mstacklevel\u001b[0m\u001b[0;34m=\u001b[0m\u001b[0mstacklevel\u001b[0m\u001b[0;34m,\u001b[0m\u001b[0;34m\u001b[0m\u001b[0;34m\u001b[0m\u001b[0m\n\u001b[1;32m    310\u001b[0m                 )\n\u001b[0;32m--> 311\u001b[0;31m             \u001b[0;32mreturn\u001b[0m \u001b[0mfunc\u001b[0m\u001b[0;34m(\u001b[0m\u001b[0;34m*\u001b[0m\u001b[0margs\u001b[0m\u001b[0;34m,\u001b[0m \u001b[0;34m**\u001b[0m\u001b[0mkwargs\u001b[0m\u001b[0;34m)\u001b[0m\u001b[0;34m\u001b[0m\u001b[0;34m\u001b[0m\u001b[0m\n\u001b[0m\u001b[1;32m    312\u001b[0m \u001b[0;34m\u001b[0m\u001b[0m\n\u001b[1;32m    313\u001b[0m         \u001b[0;32mreturn\u001b[0m \u001b[0mwrapper\u001b[0m\u001b[0;34m\u001b[0m\u001b[0;34m\u001b[0m\u001b[0m\n",
            "\u001b[0;32m/usr/local/lib/python3.7/dist-packages/pandas/io/parsers/readers.py\u001b[0m in \u001b[0;36mread_csv\u001b[0;34m(filepath_or_buffer, sep, delimiter, header, names, index_col, usecols, squeeze, prefix, mangle_dupe_cols, dtype, engine, converters, true_values, false_values, skipinitialspace, skiprows, skipfooter, nrows, na_values, keep_default_na, na_filter, verbose, skip_blank_lines, parse_dates, infer_datetime_format, keep_date_col, date_parser, dayfirst, cache_dates, iterator, chunksize, compression, thousands, decimal, lineterminator, quotechar, quoting, doublequote, escapechar, comment, encoding, encoding_errors, dialect, error_bad_lines, warn_bad_lines, on_bad_lines, delim_whitespace, low_memory, memory_map, float_precision, storage_options)\u001b[0m\n\u001b[1;32m    584\u001b[0m     \u001b[0mkwds\u001b[0m\u001b[0;34m.\u001b[0m\u001b[0mupdate\u001b[0m\u001b[0;34m(\u001b[0m\u001b[0mkwds_defaults\u001b[0m\u001b[0;34m)\u001b[0m\u001b[0;34m\u001b[0m\u001b[0;34m\u001b[0m\u001b[0m\n\u001b[1;32m    585\u001b[0m \u001b[0;34m\u001b[0m\u001b[0m\n\u001b[0;32m--> 586\u001b[0;31m     \u001b[0;32mreturn\u001b[0m \u001b[0m_read\u001b[0m\u001b[0;34m(\u001b[0m\u001b[0mfilepath_or_buffer\u001b[0m\u001b[0;34m,\u001b[0m \u001b[0mkwds\u001b[0m\u001b[0;34m)\u001b[0m\u001b[0;34m\u001b[0m\u001b[0;34m\u001b[0m\u001b[0m\n\u001b[0m\u001b[1;32m    587\u001b[0m \u001b[0;34m\u001b[0m\u001b[0m\n\u001b[1;32m    588\u001b[0m \u001b[0;34m\u001b[0m\u001b[0m\n",
            "\u001b[0;32m/usr/local/lib/python3.7/dist-packages/pandas/io/parsers/readers.py\u001b[0m in \u001b[0;36m_read\u001b[0;34m(filepath_or_buffer, kwds)\u001b[0m\n\u001b[1;32m    480\u001b[0m \u001b[0;34m\u001b[0m\u001b[0m\n\u001b[1;32m    481\u001b[0m     \u001b[0;31m# Create the parser.\u001b[0m\u001b[0;34m\u001b[0m\u001b[0;34m\u001b[0m\u001b[0;34m\u001b[0m\u001b[0m\n\u001b[0;32m--> 482\u001b[0;31m     \u001b[0mparser\u001b[0m \u001b[0;34m=\u001b[0m \u001b[0mTextFileReader\u001b[0m\u001b[0;34m(\u001b[0m\u001b[0mfilepath_or_buffer\u001b[0m\u001b[0;34m,\u001b[0m \u001b[0;34m**\u001b[0m\u001b[0mkwds\u001b[0m\u001b[0;34m)\u001b[0m\u001b[0;34m\u001b[0m\u001b[0;34m\u001b[0m\u001b[0m\n\u001b[0m\u001b[1;32m    483\u001b[0m \u001b[0;34m\u001b[0m\u001b[0m\n\u001b[1;32m    484\u001b[0m     \u001b[0;32mif\u001b[0m \u001b[0mchunksize\u001b[0m \u001b[0;32mor\u001b[0m \u001b[0miterator\u001b[0m\u001b[0;34m:\u001b[0m\u001b[0;34m\u001b[0m\u001b[0;34m\u001b[0m\u001b[0m\n",
            "\u001b[0;32m/usr/local/lib/python3.7/dist-packages/pandas/io/parsers/readers.py\u001b[0m in \u001b[0;36m__init__\u001b[0;34m(self, f, engine, **kwds)\u001b[0m\n\u001b[1;32m    809\u001b[0m             \u001b[0mself\u001b[0m\u001b[0;34m.\u001b[0m\u001b[0moptions\u001b[0m\u001b[0;34m[\u001b[0m\u001b[0;34m\"has_index_names\"\u001b[0m\u001b[0;34m]\u001b[0m \u001b[0;34m=\u001b[0m \u001b[0mkwds\u001b[0m\u001b[0;34m[\u001b[0m\u001b[0;34m\"has_index_names\"\u001b[0m\u001b[0;34m]\u001b[0m\u001b[0;34m\u001b[0m\u001b[0;34m\u001b[0m\u001b[0m\n\u001b[1;32m    810\u001b[0m \u001b[0;34m\u001b[0m\u001b[0m\n\u001b[0;32m--> 811\u001b[0;31m         \u001b[0mself\u001b[0m\u001b[0;34m.\u001b[0m\u001b[0m_engine\u001b[0m \u001b[0;34m=\u001b[0m \u001b[0mself\u001b[0m\u001b[0;34m.\u001b[0m\u001b[0m_make_engine\u001b[0m\u001b[0;34m(\u001b[0m\u001b[0mself\u001b[0m\u001b[0;34m.\u001b[0m\u001b[0mengine\u001b[0m\u001b[0;34m)\u001b[0m\u001b[0;34m\u001b[0m\u001b[0;34m\u001b[0m\u001b[0m\n\u001b[0m\u001b[1;32m    812\u001b[0m \u001b[0;34m\u001b[0m\u001b[0m\n\u001b[1;32m    813\u001b[0m     \u001b[0;32mdef\u001b[0m \u001b[0mclose\u001b[0m\u001b[0;34m(\u001b[0m\u001b[0mself\u001b[0m\u001b[0;34m)\u001b[0m\u001b[0;34m:\u001b[0m\u001b[0;34m\u001b[0m\u001b[0;34m\u001b[0m\u001b[0m\n",
            "\u001b[0;32m/usr/local/lib/python3.7/dist-packages/pandas/io/parsers/readers.py\u001b[0m in \u001b[0;36m_make_engine\u001b[0;34m(self, engine)\u001b[0m\n\u001b[1;32m   1038\u001b[0m             )\n\u001b[1;32m   1039\u001b[0m         \u001b[0;31m# error: Too many arguments for \"ParserBase\"\u001b[0m\u001b[0;34m\u001b[0m\u001b[0;34m\u001b[0m\u001b[0;34m\u001b[0m\u001b[0m\n\u001b[0;32m-> 1040\u001b[0;31m         \u001b[0;32mreturn\u001b[0m \u001b[0mmapping\u001b[0m\u001b[0;34m[\u001b[0m\u001b[0mengine\u001b[0m\u001b[0;34m]\u001b[0m\u001b[0;34m(\u001b[0m\u001b[0mself\u001b[0m\u001b[0;34m.\u001b[0m\u001b[0mf\u001b[0m\u001b[0;34m,\u001b[0m \u001b[0;34m**\u001b[0m\u001b[0mself\u001b[0m\u001b[0;34m.\u001b[0m\u001b[0moptions\u001b[0m\u001b[0;34m)\u001b[0m  \u001b[0;31m# type: ignore[call-arg]\u001b[0m\u001b[0;34m\u001b[0m\u001b[0;34m\u001b[0m\u001b[0m\n\u001b[0m\u001b[1;32m   1041\u001b[0m \u001b[0;34m\u001b[0m\u001b[0m\n\u001b[1;32m   1042\u001b[0m     \u001b[0;32mdef\u001b[0m \u001b[0m_failover_to_python\u001b[0m\u001b[0;34m(\u001b[0m\u001b[0mself\u001b[0m\u001b[0;34m)\u001b[0m\u001b[0;34m:\u001b[0m\u001b[0;34m\u001b[0m\u001b[0;34m\u001b[0m\u001b[0m\n",
            "\u001b[0;32m/usr/local/lib/python3.7/dist-packages/pandas/io/parsers/c_parser_wrapper.py\u001b[0m in \u001b[0;36m__init__\u001b[0;34m(self, src, **kwds)\u001b[0m\n\u001b[1;32m     49\u001b[0m \u001b[0;34m\u001b[0m\u001b[0m\n\u001b[1;32m     50\u001b[0m         \u001b[0;31m# open handles\u001b[0m\u001b[0;34m\u001b[0m\u001b[0;34m\u001b[0m\u001b[0;34m\u001b[0m\u001b[0m\n\u001b[0;32m---> 51\u001b[0;31m         \u001b[0mself\u001b[0m\u001b[0;34m.\u001b[0m\u001b[0m_open_handles\u001b[0m\u001b[0;34m(\u001b[0m\u001b[0msrc\u001b[0m\u001b[0;34m,\u001b[0m \u001b[0mkwds\u001b[0m\u001b[0;34m)\u001b[0m\u001b[0;34m\u001b[0m\u001b[0;34m\u001b[0m\u001b[0m\n\u001b[0m\u001b[1;32m     52\u001b[0m         \u001b[0;32massert\u001b[0m \u001b[0mself\u001b[0m\u001b[0;34m.\u001b[0m\u001b[0mhandles\u001b[0m \u001b[0;32mis\u001b[0m \u001b[0;32mnot\u001b[0m \u001b[0;32mNone\u001b[0m\u001b[0;34m\u001b[0m\u001b[0;34m\u001b[0m\u001b[0m\n\u001b[1;32m     53\u001b[0m \u001b[0;34m\u001b[0m\u001b[0m\n",
            "\u001b[0;32m/usr/local/lib/python3.7/dist-packages/pandas/io/parsers/base_parser.py\u001b[0m in \u001b[0;36m_open_handles\u001b[0;34m(self, src, kwds)\u001b[0m\n\u001b[1;32m    227\u001b[0m             \u001b[0mmemory_map\u001b[0m\u001b[0;34m=\u001b[0m\u001b[0mkwds\u001b[0m\u001b[0;34m.\u001b[0m\u001b[0mget\u001b[0m\u001b[0;34m(\u001b[0m\u001b[0;34m\"memory_map\"\u001b[0m\u001b[0;34m,\u001b[0m \u001b[0;32mFalse\u001b[0m\u001b[0;34m)\u001b[0m\u001b[0;34m,\u001b[0m\u001b[0;34m\u001b[0m\u001b[0;34m\u001b[0m\u001b[0m\n\u001b[1;32m    228\u001b[0m             \u001b[0mstorage_options\u001b[0m\u001b[0;34m=\u001b[0m\u001b[0mkwds\u001b[0m\u001b[0;34m.\u001b[0m\u001b[0mget\u001b[0m\u001b[0;34m(\u001b[0m\u001b[0;34m\"storage_options\"\u001b[0m\u001b[0;34m,\u001b[0m \u001b[0;32mNone\u001b[0m\u001b[0;34m)\u001b[0m\u001b[0;34m,\u001b[0m\u001b[0;34m\u001b[0m\u001b[0;34m\u001b[0m\u001b[0m\n\u001b[0;32m--> 229\u001b[0;31m             \u001b[0merrors\u001b[0m\u001b[0;34m=\u001b[0m\u001b[0mkwds\u001b[0m\u001b[0;34m.\u001b[0m\u001b[0mget\u001b[0m\u001b[0;34m(\u001b[0m\u001b[0;34m\"encoding_errors\"\u001b[0m\u001b[0;34m,\u001b[0m \u001b[0;34m\"strict\"\u001b[0m\u001b[0;34m)\u001b[0m\u001b[0;34m,\u001b[0m\u001b[0;34m\u001b[0m\u001b[0;34m\u001b[0m\u001b[0m\n\u001b[0m\u001b[1;32m    230\u001b[0m         )\n\u001b[1;32m    231\u001b[0m \u001b[0;34m\u001b[0m\u001b[0m\n",
            "\u001b[0;32m/usr/local/lib/python3.7/dist-packages/pandas/io/common.py\u001b[0m in \u001b[0;36mget_handle\u001b[0;34m(path_or_buf, mode, encoding, compression, memory_map, is_text, errors, storage_options)\u001b[0m\n\u001b[1;32m    705\u001b[0m                 \u001b[0mencoding\u001b[0m\u001b[0;34m=\u001b[0m\u001b[0mioargs\u001b[0m\u001b[0;34m.\u001b[0m\u001b[0mencoding\u001b[0m\u001b[0;34m,\u001b[0m\u001b[0;34m\u001b[0m\u001b[0;34m\u001b[0m\u001b[0m\n\u001b[1;32m    706\u001b[0m                 \u001b[0merrors\u001b[0m\u001b[0;34m=\u001b[0m\u001b[0merrors\u001b[0m\u001b[0;34m,\u001b[0m\u001b[0;34m\u001b[0m\u001b[0;34m\u001b[0m\u001b[0m\n\u001b[0;32m--> 707\u001b[0;31m                 \u001b[0mnewline\u001b[0m\u001b[0;34m=\u001b[0m\u001b[0;34m\"\"\u001b[0m\u001b[0;34m,\u001b[0m\u001b[0;34m\u001b[0m\u001b[0;34m\u001b[0m\u001b[0m\n\u001b[0m\u001b[1;32m    708\u001b[0m             )\n\u001b[1;32m    709\u001b[0m         \u001b[0;32melse\u001b[0m\u001b[0;34m:\u001b[0m\u001b[0;34m\u001b[0m\u001b[0;34m\u001b[0m\u001b[0m\n",
            "\u001b[0;31mFileNotFoundError\u001b[0m: [Errno 2] No such file or directory: 'data.tsv'"
          ]
        }
      ],
      "source": [
        "table = pd.read_csv('data.tsv', sep='\\t')\n",
        "table.head()"
      ]
    },
    {
      "cell_type": "code",
      "execution_count": null,
      "metadata": {
        "id": "pgTgjgit7-q3"
      },
      "outputs": [],
      "source": [
        "table[(table.date=='2020-12-06') & (table.category==70) & (table.campaign_id==3) & (table.slice==3)]\n"
      ]
    },
    {
      "cell_type": "code",
      "execution_count": null,
      "metadata": {
        "scrolled": true,
        "id": "DFUK2BfP7-q4"
      },
      "outputs": [],
      "source": [
        "%%time\n",
        "\n",
        "for _ in range(10**4):\n",
        "    table[(table.date=='2020-12-06') & (table.category==70) & (table.campaign_id==3) & (table.slice==3)]"
      ]
    },
    {
      "cell_type": "code",
      "execution_count": null,
      "metadata": {
        "id": "vzbZYSR47-q4"
      },
      "outputs": [],
      "source": [
        "len(table)"
      ]
    },
    {
      "cell_type": "code",
      "execution_count": null,
      "metadata": {
        "id": "fs1i51u37-q5"
      },
      "outputs": [],
      "source": [
        ""
      ]
    },
    {
      "cell_type": "markdown",
      "metadata": {
        "id": "AR_gTsEE7-q5"
      },
      "source": [
        "### Аналогичный расчет для списков"
      ]
    },
    {
      "cell_type": "code",
      "execution_count": null,
      "metadata": {
        "id": "p_OLwZJg7-q5"
      },
      "outputs": [],
      "source": [
        "with open('data.tsv') as f:\n",
        "    next(f)\n",
        "    table = [x.strip().split('\\t') for x in f.readlines()]"
      ]
    },
    {
      "cell_type": "code",
      "execution_count": null,
      "metadata": {
        "id": "Tyj5sowj7-q6"
      },
      "outputs": [],
      "source": [
        "table[:2]"
      ]
    },
    {
      "cell_type": "code",
      "execution_count": null,
      "metadata": {
        "id": "ftO4WWG17-q6"
      },
      "outputs": [],
      "source": [
        "line_to_search = ['2020-12-06', '70', '3', '3']"
      ]
    },
    {
      "cell_type": "code",
      "execution_count": null,
      "metadata": {
        "scrolled": true,
        "id": "P3jUAXRO7-q6"
      },
      "outputs": [],
      "source": [
        "%%time\n",
        "\n",
        "for _ in range(10**4):\n",
        "    [x for x in table if x[:4] == line_to_search]"
      ]
    },
    {
      "cell_type": "markdown",
      "metadata": {
        "id": "I9MBgOG57-q7"
      },
      "source": [
        "### Можно побыстрее? Преобразуем список в словарь."
      ]
    },
    {
      "cell_type": "code",
      "execution_count": null,
      "metadata": {
        "id": "LSX4U-Nz7-q7"
      },
      "outputs": [],
      "source": [
        "tuple_to_search = ('2020-12-06', '70', '3', '3')"
      ]
    },
    {
      "cell_type": "code",
      "execution_count": null,
      "metadata": {
        "id": "iB94NESM7-q7"
      },
      "outputs": [],
      "source": [
        "%%time\n",
        "dict_ = {}\n",
        "\n",
        "for line in table:\n",
        "    key = tuple(line[:4])\n",
        "    value = line[4]\n",
        "    \n",
        "    dict_[key] = value"
      ]
    },
    {
      "cell_type": "code",
      "execution_count": null,
      "metadata": {
        "scrolled": true,
        "id": "WQh-3UjP7-q8"
      },
      "outputs": [],
      "source": [
        "dict_[('2020-12-06', '70', '3', '3')]"
      ]
    },
    {
      "cell_type": "code",
      "execution_count": null,
      "metadata": {
        "id": "MwIEcLz27-q8"
      },
      "outputs": [],
      "source": [
        "%%time\n",
        "\n",
        "for _ in range(10**4):\n",
        "    dict_[tuple_to_search]"
      ]
    },
    {
      "cell_type": "code",
      "source": [
        ""
      ],
      "metadata": {
        "id": "ZMcgdxrm8ns7"
      },
      "execution_count": null,
      "outputs": []
    },
    {
      "cell_type": "markdown",
      "metadata": {
        "id": "0BEkCnVy8gpO"
      },
      "source": [
        "## Что будет\n",
        "- сводные таблицы\n",
        "- фильтры и вычисления с помощью метода loc\n",
        "- фильтрация пустых значений через isnull\n",
        "- время в pandas\n",
        "- строковые методы\n",
        "- немного про учет форм слов"
      ]
    },
    {
      "cell_type": "markdown",
      "metadata": {
        "id": "3vQMAHhZ8gpV"
      },
      "source": [
        "## Сводные таблицы\n",
        "Прям как в экселе"
      ]
    },
    {
      "cell_type": "code",
      "execution_count": null,
      "metadata": {
        "id": "wwn0tkt88gpX"
      },
      "outputs": [],
      "source": [
        "import pandas as pd"
      ]
    },
    {
      "cell_type": "code",
      "execution_count": null,
      "metadata": {
        "scrolled": true,
        "id": "fXsyG93J8gpZ"
      },
      "outputs": [],
      "source": [
        "ratings = pd.read_csv('ml-latest-small/ratings.csv')\n",
        "ratings.head()"
      ]
    },
    {
      "cell_type": "markdown",
      "metadata": {
        "id": "gtqN3_dw8gpa"
      },
      "source": [
        "### Вопрос аналитику\n",
        "Какие оценки поставил пользователь №1 и в каком количестве?\n",
        "\n",
        "Что сделаем:\n",
        "1. Фильтруем датафрейм ratings для userId = 1\n",
        "2. Считаем для этого пользователя сколько он выставил единиц, двоек итд"
      ]
    },
    {
      "cell_type": "code",
      "execution_count": null,
      "metadata": {
        "id": "sE7qRpWP8gpb"
      },
      "outputs": [],
      "source": [
        ""
      ]
    },
    {
      "cell_type": "code",
      "execution_count": null,
      "metadata": {
        "id": "8JkuvJ1o8gpb"
      },
      "outputs": [],
      "source": [
        ""
      ]
    },
    {
      "cell_type": "code",
      "execution_count": null,
      "metadata": {
        "id": "_EguFpiz8gpc"
      },
      "outputs": [],
      "source": [
        ""
      ]
    },
    {
      "cell_type": "markdown",
      "metadata": {
        "id": "idXqUJEX8gpd"
      },
      "source": [
        "Как это сделать для всех пользователей сразу:"
      ]
    },
    {
      "cell_type": "code",
      "execution_count": null,
      "metadata": {
        "id": "9su8kPWD8gpd"
      },
      "outputs": [],
      "source": [
        "ratings.pivot_table(index = 'userId', columns = 'rating', values = 'timestamp', aggfunc = 'count', fill_value = 0).head()\n"
      ]
    },
    {
      "cell_type": "code",
      "execution_count": null,
      "metadata": {
        "scrolled": true,
        "id": "NLHslrNc8gpe"
      },
      "outputs": [],
      "source": [
        "# можно итоги добавить\n",
        "ratings.pivot_table(index = 'userId', columns = 'rating', values = 'timestamp', aggfunc = 'count', fill_value = 0, \n",
        "                    margins = True).head()"
      ]
    },
    {
      "cell_type": "markdown",
      "metadata": {
        "id": "EGFTuePb8gpf"
      },
      "source": [
        "### Фильтры и вычисления с помощью loc и iloc"
      ]
    },
    {
      "cell_type": "code",
      "execution_count": null,
      "metadata": {
        "id": "YTg4Yhc58gpf"
      },
      "outputs": [],
      "source": [
        "log = pd.read_csv('visit_log.csv', sep=';')\n",
        "log.head()"
      ]
    },
    {
      "cell_type": "code",
      "execution_count": null,
      "metadata": {
        "id": "xkAVajQn8gpg"
      },
      "outputs": [],
      "source": [
        "# метод loc позволяет выбрать строки и столбцы в соответствии с условиями\n",
        "# двоеточие означает выбор всех значений\n",
        "\n",
        "log.loc[:, ['user_id', 'region']].head()"
      ]
    },
    {
      "cell_type": "code",
      "execution_count": null,
      "metadata": {
        "id": "KADDGfmh8gpg"
      },
      "outputs": [],
      "source": [
        "# iloc работает аналогично, но с указанием номера строки / столбца\n",
        "\n",
        "log.iloc[:, [1, -3]].head()"
      ]
    },
    {
      "cell_type": "code",
      "execution_count": null,
      "metadata": {
        "id": "GmzbqPIT8gph"
      },
      "outputs": [],
      "source": [
        "# пример фильтра на страну\n",
        "# если столбцы не надо фильтровать, то второй параметр можно не указывать\n",
        "\n",
        "log.loc[log.region == 'Russia'].head()"
      ]
    },
    {
      "cell_type": "code",
      "execution_count": null,
      "metadata": {
        "scrolled": true,
        "id": "v1msPiqH8gph"
      },
      "outputs": [],
      "source": [
        "# пример вычисления нового столбца с НДС для страны\n",
        "\n",
        "log.loc[log.region == 'Russia', 'VAT'] = 1.2\n",
        "log.head(10)"
      ]
    },
    {
      "cell_type": "code",
      "execution_count": null,
      "metadata": {
        "id": "oqPwO6z-8gpi"
      },
      "outputs": [],
      "source": [
        "# вариант с вычисляемым фильтром\n",
        "\n",
        "log.loc[lambda row: row.region == 'Russia'].head(10)"
      ]
    },
    {
      "cell_type": "markdown",
      "metadata": {
        "id": "iILHxRdf8gpj"
      },
      "source": [
        "### Скорость метода loc\n",
        "Посчитаем средний рейтинг разных жанров. Метод merge взят из материалов следующего занятия ¯ \\ _ (ツ) _ / ¯"
      ]
    },
    {
      "cell_type": "code",
      "execution_count": null,
      "metadata": {
        "id": "XpTtHY2l8gpj"
      },
      "outputs": [],
      "source": [
        "ratings = pd.read_csv('ml-latest-small/ratings.csv')\n",
        "movies = pd.read_csv('ml-latest-small/movies.csv')\n",
        "joined = ratings.merge(movies, how='left', on='movieId')\n",
        "joined.head()"
      ]
    },
    {
      "cell_type": "code",
      "execution_count": null,
      "metadata": {
        "scrolled": true,
        "id": "8G74iB9N8gpk"
      },
      "outputs": [],
      "source": [
        "joined['Adventure'] = joined.apply(lambda row: row.rating if 'Adventure' in row.genres else None, axis=1)\n",
        "joined.head()"
      ]
    },
    {
      "cell_type": "markdown",
      "metadata": {
        "id": "swp69_vP8gpk"
      },
      "source": [
        "Можно и через loc"
      ]
    },
    {
      "cell_type": "code",
      "execution_count": null,
      "metadata": {
        "id": "WHxeHPes8gpk"
      },
      "outputs": [],
      "source": [
        "joined['Adventure'] = joined.loc[joined.genres.str.contains('Adventure'), 'rating']\n",
        "joined.head()"
      ]
    },
    {
      "cell_type": "markdown",
      "metadata": {
        "id": "iWgGwfSG8gpl"
      },
      "source": [
        "Для замера времени сделаем эти операции для набор жанров"
      ]
    },
    {
      "cell_type": "code",
      "execution_count": null,
      "metadata": {
        "id": "z-4sUUdr8gpl"
      },
      "outputs": [],
      "source": [
        "genres = ['Adventure', 'Animation', 'Children', 'Drama', 'Musical', 'Thriller']"
      ]
    },
    {
      "cell_type": "code",
      "execution_count": null,
      "metadata": {
        "id": "TN66mmw38gpl"
      },
      "outputs": [],
      "source": [
        "%%time\n",
        "joined = ratings.merge(movies, how='left', on='movieId')\n",
        "\n",
        "for genre in genres:\n",
        "    joined[genre] = joined.apply(lambda row: row.rating if genre in row.genres else None, axis=1)"
      ]
    },
    {
      "cell_type": "code",
      "execution_count": null,
      "metadata": {
        "id": "6EGwLSLH8gpm"
      },
      "outputs": [],
      "source": [
        "%%time\n",
        "joined = ratings.merge(movies, how='left', on='movieId')\n",
        "\n",
        "for genre in genres:\n",
        "    joined[genre] = joined.loc[joined.genres.str.contains(genre), 'rating']"
      ]
    },
    {
      "cell_type": "markdown",
      "metadata": {
        "id": "DMeQQAFO8gpm"
      },
      "source": [
        "### Методы isnull, isna\n",
        "Определение пустых или None значений. По сути одинаковые методы"
      ]
    },
    {
      "cell_type": "code",
      "execution_count": null,
      "metadata": {
        "id": "dot576ED8gpn"
      },
      "outputs": [],
      "source": [
        "import numpy as np"
      ]
    },
    {
      "cell_type": "code",
      "execution_count": null,
      "metadata": {
        "id": "D9VVIG6d8gpn"
      },
      "outputs": [],
      "source": [
        "df = pd.DataFrame({'value': [123, None, np.nan, np.NaN, np.NAN, 456]})\n",
        "df"
      ]
    },
    {
      "cell_type": "code",
      "execution_count": null,
      "metadata": {
        "id": "b5Cpd8zl8gpn"
      },
      "outputs": [],
      "source": [
        "# фильтр на пустые значения в столбце value\n",
        "\n",
        "df.loc[pd.isnull(df.value), :]"
      ]
    },
    {
      "cell_type": "markdown",
      "metadata": {
        "id": "b8ZD-dPs8gpo"
      },
      "source": [
        "### Дата и время в pandas"
      ]
    },
    {
      "cell_type": "code",
      "execution_count": null,
      "metadata": {
        "id": "lIXiHfBJ8gpo"
      },
      "outputs": [],
      "source": [
        "log['date'] = pd.to_datetime(log['timestamp'], unit='s')\n",
        "log.head()"
      ]
    },
    {
      "cell_type": "code",
      "execution_count": null,
      "metadata": {
        "id": "ETd24-wj8gpo"
      },
      "outputs": [],
      "source": [
        "# столбец datetime64[ns] теперь имеет тип даты\n",
        "log.info()"
      ]
    },
    {
      "cell_type": "code",
      "execution_count": null,
      "metadata": {
        "id": "EbOzSf_N8gpp"
      },
      "outputs": [],
      "source": [
        "# получим час визита\n",
        "\n",
        "log['hour'] = log.date.dt.hour\n",
        "log.head()"
      ]
    },
    {
      "cell_type": "markdown",
      "metadata": {
        "id": "U2LUCMjw8gpp"
      },
      "source": [
        "### Методы работы со строками"
      ]
    },
    {
      "cell_type": "code",
      "execution_count": null,
      "metadata": {
        "id": "tux-2wT48gpp"
      },
      "outputs": [],
      "source": [
        "stats = pd.read_csv('keywords.csv')\n",
        "stats.head()"
      ]
    },
    {
      "cell_type": "markdown",
      "metadata": {
        "id": "mNqqOp6q8gpq"
      },
      "source": [
        "Проверка наличия подстроки в строке в питоне:"
      ]
    },
    {
      "cell_type": "code",
      "execution_count": null,
      "metadata": {
        "id": "5PZs9NI78gpq"
      },
      "outputs": [],
      "source": [
        "'охотник' in 'каждый охотник желает знать...'"
      ]
    },
    {
      "cell_type": "markdown",
      "metadata": {
        "id": "O1_Uwom98gpq"
      },
      "source": [
        "Аналог в pandas:"
      ]
    },
    {
      "cell_type": "code",
      "execution_count": null,
      "metadata": {
        "id": "PO5Iuicy8gpq"
      },
      "outputs": [],
      "source": [
        "stats[stats.keyword.str.contains('охотник')].head()"
      ]
    },
    {
      "cell_type": "markdown",
      "metadata": {
        "id": "0vnbu06Q8gpr"
      },
      "source": [
        "[Документация](https://www.geeksforgeeks.org/python-pandas-series-str-contains/)\n",
        "\n",
        "Syntax: Series.str.contains(pat, case=True, flags=0, na=nan, regex=True)\n",
        "\n",
        "Parameter :\n",
        "- pat : Character sequence or regular expression.\n",
        "- case : If True, case sensitive.\n",
        "- flags : Flags to pass through to the re module, e.g. re.IGNORECASE.\n",
        "- na : Fill value for missing values.\n",
        "- regex : If True, assumes the pat is a regular expression."
      ]
    },
    {
      "cell_type": "code",
      "execution_count": null,
      "metadata": {
        "id": "pNxNh6uc8gpr"
      },
      "outputs": [],
      "source": [
        "# поиск одного из нескольких слов\n",
        "\n",
        "stats[stats.keyword.str.contains('охотник|фильм|2016')].head()"
      ]
    },
    {
      "cell_type": "markdown",
      "metadata": {
        "id": "QjbqjvLW8gpr"
      },
      "source": [
        "### replace"
      ]
    },
    {
      "cell_type": "code",
      "execution_count": null,
      "metadata": {
        "id": "JnZF7PGf8gps"
      },
      "outputs": [],
      "source": [
        "'отпуск начнется завтра'.replace('завтра', 'через месяц')"
      ]
    },
    {
      "cell_type": "markdown",
      "metadata": {
        "id": "qnMW_pSP8gps"
      },
      "source": [
        "Аналог в pandas на запросах про сериалы:"
      ]
    },
    {
      "cell_type": "code",
      "execution_count": null,
      "metadata": {
        "id": "qaVsmucp8gps"
      },
      "outputs": [],
      "source": [
        "serial = stats[stats.keyword.str.contains('сериалы')]\n",
        "serial.head()"
      ]
    },
    {
      "cell_type": "code",
      "execution_count": null,
      "metadata": {
        "id": "Y4Rb_AFl8gps"
      },
      "outputs": [],
      "source": [
        "serial.keyword.str.replace('сериалы', 'книги').head()"
      ]
    },
    {
      "cell_type": "markdown",
      "metadata": {
        "id": "Z4N6Gkry8gpt"
      },
      "source": [
        "### Как учитывать разное написание слов\n",
        "Самое простое - методы upper и lower"
      ]
    },
    {
      "cell_type": "code",
      "execution_count": null,
      "metadata": {
        "id": "rzQ4b4qp8gpt"
      },
      "outputs": [],
      "source": [
        "serial.keyword.str.upper().head()"
      ]
    },
    {
      "cell_type": "code",
      "execution_count": null,
      "metadata": {
        "id": "MqR4EebD8gpt"
      },
      "outputs": [],
      "source": [
        "serial.keyword.str.lower().head()"
      ]
    },
    {
      "cell_type": "markdown",
      "metadata": {
        "id": "i6kTI3bj8gpu"
      },
      "source": [
        "### Что делать если нужно учесть формы написания слов?"
      ]
    },
    {
      "cell_type": "code",
      "execution_count": null,
      "metadata": {
        "id": "A-KZETjk8gpu"
      },
      "outputs": [],
      "source": [
        "stats[stats.keyword.str.contains('рубл')].head()"
      ]
    },
    {
      "cell_type": "markdown",
      "metadata": {
        "id": "OifbFhbQ8gpu"
      },
      "source": [
        "Почему нельзя просто оставить str.contains('рубл'):"
      ]
    },
    {
      "cell_type": "code",
      "execution_count": null,
      "metadata": {
        "id": "dEruytgi8gpu"
      },
      "outputs": [],
      "source": [
        "non_financial_search = 'рубленая котлетка'"
      ]
    },
    {
      "cell_type": "markdown",
      "metadata": {
        "id": "1LVxZwmi8gpv"
      },
      "source": [
        "### Библиотека [pymystem](https://pypi.org/project/pymystem3/)"
      ]
    },
    {
      "cell_type": "code",
      "execution_count": null,
      "metadata": {
        "id": "gCfFiXe88gpv"
      },
      "outputs": [],
      "source": [
        "from pymystem3 import Mystem"
      ]
    },
    {
      "cell_type": "code",
      "execution_count": null,
      "metadata": {
        "id": "svt6m5xl8gpv"
      },
      "outputs": [],
      "source": [
        "search = 'курс гривны к рублю рубли рублях'"
      ]
    },
    {
      "cell_type": "code",
      "execution_count": null,
      "metadata": {
        "id": "1DYPqqVu8gpv"
      },
      "outputs": [],
      "source": [
        "m = Mystem()\n",
        "lemmas = m.lemmatize(search)\n",
        "lemmas"
      ]
    },
    {
      "cell_type": "code",
      "execution_count": null,
      "metadata": {
        "id": "n63Eh7Fx8gpw"
      },
      "outputs": [],
      "source": [
        "' '.join(lemmas)"
      ]
    },
    {
      "cell_type": "markdown",
      "metadata": {
        "id": "UhWFi5ud8gpw"
      },
      "source": [
        "### Домашнее задание\n",
        "В датафрейме data создайте столбец lemmas, в котором вычислите леммы поисковых запросов из столбца keyword. Леммы должны иметь строковый тип."
      ]
    },
    {
      "cell_type": "code",
      "execution_count": null,
      "metadata": {
        "id": "TDpcIUuV8gpw"
      },
      "outputs": [],
      "source": [
        "data = pd.DataFrame({\n",
        "    'keyword': ['курс гривны к рублю', 'доллары в рубли', '100 долларов в рублях', 'курс рубля'],\n",
        "    'shows': [125076, 114173, 97534, 53546],\n",
        "})"
      ]
    },
    {
      "cell_type": "code",
      "execution_count": null,
      "metadata": {
        "id": "U0dkIx0t8gpx"
      },
      "outputs": [],
      "source": [
        ""
      ]
    },
    {
      "cell_type": "code",
      "execution_count": null,
      "metadata": {
        "id": "z-zD-O1C8gpx"
      },
      "outputs": [],
      "source": [
        ""
      ]
    },
    {
      "cell_type": "code",
      "execution_count": null,
      "metadata": {
        "id": "WMi41Eoa8gpx"
      },
      "outputs": [],
      "source": [
        ""
      ]
    },
    {
      "cell_type": "code",
      "source": [
        ""
      ],
      "metadata": {
        "id": "aT9eT6Ly-ODF"
      },
      "execution_count": null,
      "outputs": []
    },
    {
      "cell_type": "markdown",
      "metadata": {
        "id": "qft6R-ve9gEj"
      },
      "source": [
        "## Что будет\n",
        "- сводные таблицы\n",
        "- фильтры и вычисления с помощью метода loc\n",
        "- фильтрация пустых значений через isnull\n",
        "- время в pandas\n",
        "- строковые методы\n",
        "- немного про учет форм слов"
      ]
    },
    {
      "cell_type": "markdown",
      "metadata": {
        "id": "jd0if-Mg9gEq"
      },
      "source": [
        "## Сводные таблицы\n",
        "Прям как в экселе"
      ]
    },
    {
      "cell_type": "code",
      "execution_count": null,
      "metadata": {
        "id": "GaS9xuJM9gEr"
      },
      "outputs": [],
      "source": [
        "import pandas as pd"
      ]
    },
    {
      "cell_type": "code",
      "execution_count": null,
      "metadata": {
        "scrolled": true,
        "id": "9qgfcZGq9gEt"
      },
      "outputs": [],
      "source": [
        "ratings = pd.read_csv('ml-latest-small/ratings.csv')\n",
        "ratings.head()"
      ]
    },
    {
      "cell_type": "markdown",
      "metadata": {
        "id": "iJ6FOxfc9gEu"
      },
      "source": [
        "### Вопрос аналитику\n",
        "Какие оценки поставил пользователь №1 и в каком количестве?\n",
        "\n",
        "Что сделаем:\n",
        "1. Фильтруем датафрейм ratings для userId = 1\n",
        "2. Считаем для этого пользователя сколько он выставил единиц, двоек итд"
      ]
    },
    {
      "cell_type": "code",
      "execution_count": null,
      "metadata": {
        "id": "6Ylx-fy_9gEv"
      },
      "outputs": [],
      "source": [
        ""
      ]
    },
    {
      "cell_type": "code",
      "execution_count": null,
      "metadata": {
        "id": "3hUeNpaB9gEv"
      },
      "outputs": [],
      "source": [
        ""
      ]
    },
    {
      "cell_type": "code",
      "execution_count": null,
      "metadata": {
        "id": "gp0dv-Du9gEv"
      },
      "outputs": [],
      "source": [
        ""
      ]
    },
    {
      "cell_type": "markdown",
      "metadata": {
        "id": "-4tFMlgE9gEw"
      },
      "source": [
        "Как это сделать для всех пользователей сразу:"
      ]
    },
    {
      "cell_type": "code",
      "execution_count": null,
      "metadata": {
        "id": "7t1w4bqo9gEx"
      },
      "outputs": [],
      "source": [
        "ratings.pivot_table(index = 'userId', columns = 'rating', values = 'timestamp', aggfunc = 'count', fill_value = 0).head()\n"
      ]
    },
    {
      "cell_type": "code",
      "execution_count": null,
      "metadata": {
        "scrolled": true,
        "id": "sXNr19vw9gEx"
      },
      "outputs": [],
      "source": [
        "# можно итоги добавить\n",
        "ratings.pivot_table(index = 'userId', columns = 'rating', values = 'timestamp', aggfunc = 'count', fill_value = 0, \n",
        "                    margins = True).head()"
      ]
    },
    {
      "cell_type": "markdown",
      "metadata": {
        "id": "xfi8pLN99gEy"
      },
      "source": [
        "### Фильтры и вычисления с помощью loc и iloc"
      ]
    },
    {
      "cell_type": "code",
      "execution_count": null,
      "metadata": {
        "id": "aKqQGw6x9gEz"
      },
      "outputs": [],
      "source": [
        "log = pd.read_csv('visit_log.csv', sep=';')\n",
        "log.head()"
      ]
    },
    {
      "cell_type": "code",
      "execution_count": null,
      "metadata": {
        "id": "YTZUNbZJ9gEz"
      },
      "outputs": [],
      "source": [
        "# метод loc позволяет выбрать строки и столбцы в соответствии с условиями\n",
        "# двоеточие означает выбор всех значений\n",
        "\n",
        "log.loc[:, ['user_id', 'region']].head()"
      ]
    },
    {
      "cell_type": "code",
      "execution_count": null,
      "metadata": {
        "id": "a60xxcfH9gE0"
      },
      "outputs": [],
      "source": [
        "# iloc работает аналогично, но с указанием номера строки / столбца\n",
        "\n",
        "log.iloc[:, [1, -3]].head()"
      ]
    },
    {
      "cell_type": "code",
      "execution_count": null,
      "metadata": {
        "id": "UNrt4oSw9gE0"
      },
      "outputs": [],
      "source": [
        "# пример фильтра на страну\n",
        "# если столбцы не надо фильтровать, то второй параметр можно не указывать\n",
        "\n",
        "log.loc[log.region == 'Russia'].head()"
      ]
    },
    {
      "cell_type": "code",
      "execution_count": null,
      "metadata": {
        "scrolled": true,
        "id": "bnngidcM9gE1"
      },
      "outputs": [],
      "source": [
        "# пример вычисления нового столбца с НДС для страны\n",
        "\n",
        "log.loc[log.region == 'Russia', 'VAT'] = 1.2\n",
        "log.head(10)"
      ]
    },
    {
      "cell_type": "code",
      "execution_count": null,
      "metadata": {
        "id": "rMmYYs6m9gE1"
      },
      "outputs": [],
      "source": [
        "# вариант с вычисляемым фильтром\n",
        "\n",
        "log.loc[lambda row: row.region == 'Russia'].head(10)"
      ]
    },
    {
      "cell_type": "markdown",
      "metadata": {
        "id": "TOttqlI-9gE2"
      },
      "source": [
        "### Скорость метода loc\n",
        "Посчитаем средний рейтинг разных жанров. Метод merge взят из материалов следующего занятия ¯ \\ _ (ツ) _ / ¯"
      ]
    },
    {
      "cell_type": "code",
      "execution_count": null,
      "metadata": {
        "id": "4aoN96RD9gE2"
      },
      "outputs": [],
      "source": [
        "ratings = pd.read_csv('ml-latest-small/ratings.csv')\n",
        "movies = pd.read_csv('ml-latest-small/movies.csv')\n",
        "joined = ratings.merge(movies, how='left', on='movieId')\n",
        "joined.head()"
      ]
    },
    {
      "cell_type": "code",
      "execution_count": null,
      "metadata": {
        "scrolled": true,
        "id": "gaXM16JX9gE2"
      },
      "outputs": [],
      "source": [
        "joined['Adventure'] = joined.apply(lambda row: row.rating if 'Adventure' in row.genres else None, axis=1)\n",
        "joined.head()"
      ]
    },
    {
      "cell_type": "markdown",
      "metadata": {
        "id": "DHCy-wcN9gE3"
      },
      "source": [
        "Можно и через loc"
      ]
    },
    {
      "cell_type": "code",
      "execution_count": null,
      "metadata": {
        "id": "CkuDceKh9gE3"
      },
      "outputs": [],
      "source": [
        "joined['Adventure'] = joined.loc[joined.genres.str.contains('Adventure'), 'rating']\n",
        "joined.head()"
      ]
    },
    {
      "cell_type": "markdown",
      "metadata": {
        "id": "b8P5Uc9N9gE4"
      },
      "source": [
        "Для замера времени сделаем эти операции для набор жанров"
      ]
    },
    {
      "cell_type": "code",
      "execution_count": null,
      "metadata": {
        "id": "0ELPJgpF9gE4"
      },
      "outputs": [],
      "source": [
        "genres = ['Adventure', 'Animation', 'Children', 'Drama', 'Musical', 'Thriller']"
      ]
    },
    {
      "cell_type": "code",
      "execution_count": null,
      "metadata": {
        "id": "PdO0jfer9gE4"
      },
      "outputs": [],
      "source": [
        "%%time\n",
        "joined = ratings.merge(movies, how='left', on='movieId')\n",
        "\n",
        "for genre in genres:\n",
        "    joined[genre] = joined.apply(lambda row: row.rating if genre in row.genres else None, axis=1)"
      ]
    },
    {
      "cell_type": "code",
      "execution_count": null,
      "metadata": {
        "id": "UGqTkM389gE5"
      },
      "outputs": [],
      "source": [
        "%%time\n",
        "joined = ratings.merge(movies, how='left', on='movieId')\n",
        "\n",
        "for genre in genres:\n",
        "    joined[genre] = joined.loc[joined.genres.str.contains(genre), 'rating']"
      ]
    },
    {
      "cell_type": "markdown",
      "metadata": {
        "id": "UcalkNI_9gE5"
      },
      "source": [
        "### Упражнение\n",
        "Какие варианты источников трафика есть в столбце traffic_source?\n",
        "\n",
        "Создайте столбец traffic_type, в котором для источников 'yandex' и 'google' будет стоять значение 'organic'. А для остальных вариантов - NaN."
      ]
    },
    {
      "cell_type": "code",
      "execution_count": null,
      "metadata": {
        "id": "CdTbW5mF9gE5"
      },
      "outputs": [],
      "source": [
        ""
      ]
    },
    {
      "cell_type": "code",
      "execution_count": null,
      "metadata": {
        "id": "NmhlL4Av9gE6"
      },
      "outputs": [],
      "source": [
        ""
      ]
    },
    {
      "cell_type": "code",
      "execution_count": null,
      "metadata": {
        "id": "JJ3nAYVM9gE6"
      },
      "outputs": [],
      "source": [
        ""
      ]
    },
    {
      "cell_type": "markdown",
      "metadata": {
        "id": "ZHoKfdu59gE6"
      },
      "source": [
        "### Методы isnull, isna\n",
        "Определение пустых или None значений. По сути одинаковые методы"
      ]
    },
    {
      "cell_type": "code",
      "execution_count": null,
      "metadata": {
        "id": "Hjq7NHBu9gE6"
      },
      "outputs": [],
      "source": [
        "import numpy as np"
      ]
    },
    {
      "cell_type": "code",
      "execution_count": null,
      "metadata": {
        "id": "MpkYNUMl9gE7"
      },
      "outputs": [],
      "source": [
        "df = pd.DataFrame({'value': [123, None, np.nan, np.NaN, np.NAN, 456]})\n",
        "df"
      ]
    },
    {
      "cell_type": "code",
      "execution_count": null,
      "metadata": {
        "id": "gUWd4pt69gE7"
      },
      "outputs": [],
      "source": [
        "# фильтр на пустые значения в столбце value\n",
        "\n",
        "df.loc[pd.isnull(df.value), :]"
      ]
    },
    {
      "cell_type": "markdown",
      "metadata": {
        "id": "YQCb9eX49gE7"
      },
      "source": [
        "### Упражнение\n",
        "Для пустых значений в столбце traffic_type выставьте значение 'other'"
      ]
    },
    {
      "cell_type": "code",
      "execution_count": null,
      "metadata": {
        "id": "FetZzoVJ9gE8"
      },
      "outputs": [],
      "source": [
        ""
      ]
    },
    {
      "cell_type": "code",
      "execution_count": null,
      "metadata": {
        "id": "LBpZldKL9gE8"
      },
      "outputs": [],
      "source": [
        ""
      ]
    },
    {
      "cell_type": "code",
      "execution_count": null,
      "metadata": {
        "id": "gpO9hv-59gE8"
      },
      "outputs": [],
      "source": [
        ""
      ]
    },
    {
      "cell_type": "markdown",
      "metadata": {
        "id": "8IpggTj99gE8"
      },
      "source": [
        "### Дата и время в pandas"
      ]
    },
    {
      "cell_type": "code",
      "execution_count": null,
      "metadata": {
        "id": "U-d-RFDL9gE8"
      },
      "outputs": [],
      "source": [
        "log['date'] = pd.to_datetime(log['timestamp'], unit='s')\n",
        "log.head()"
      ]
    },
    {
      "cell_type": "code",
      "execution_count": null,
      "metadata": {
        "id": "FxIQdBzY9gE9"
      },
      "outputs": [],
      "source": [
        "# столбец datetime64[ns] теперь имеет тип даты\n",
        "log.info()"
      ]
    },
    {
      "cell_type": "code",
      "execution_count": null,
      "metadata": {
        "id": "ReQUdZUt9gE9"
      },
      "outputs": [],
      "source": [
        "# получим час визита\n",
        "\n",
        "log['hour'] = log.date.dt.hour\n",
        "log.head()"
      ]
    },
    {
      "cell_type": "markdown",
      "metadata": {
        "id": "tCOm_AoQ9gE9"
      },
      "source": [
        "### Методы работы со строками"
      ]
    },
    {
      "cell_type": "code",
      "execution_count": null,
      "metadata": {
        "id": "kTJdx_xo9gE9"
      },
      "outputs": [],
      "source": [
        "stats = pd.read_csv('keywords.csv')\n",
        "stats.head()"
      ]
    },
    {
      "cell_type": "markdown",
      "metadata": {
        "id": "XLdw7dNu9gE-"
      },
      "source": [
        "Проверка наличия подстроки в строке в питоне:"
      ]
    },
    {
      "cell_type": "code",
      "execution_count": null,
      "metadata": {
        "id": "CNJvznBe9gE-"
      },
      "outputs": [],
      "source": [
        "'охотник' in 'каждый охотник желает знать...'"
      ]
    },
    {
      "cell_type": "markdown",
      "metadata": {
        "id": "TRBsR44-9gE-"
      },
      "source": [
        "Аналог в pandas:"
      ]
    },
    {
      "cell_type": "code",
      "execution_count": null,
      "metadata": {
        "id": "Chhfd-3v9gE-"
      },
      "outputs": [],
      "source": [
        "stats[stats.keyword.str.contains('охотник')].head()"
      ]
    },
    {
      "cell_type": "markdown",
      "metadata": {
        "id": "vRk3deTU9gE_"
      },
      "source": [
        "[Документация](https://www.geeksforgeeks.org/python-pandas-series-str-contains/)\n",
        "\n",
        "Syntax: Series.str.contains(pat, case=True, flags=0, na=nan, regex=True)\n",
        "\n",
        "Parameter :\n",
        "- pat : Character sequence or regular expression.\n",
        "- case : If True, case sensitive.\n",
        "- flags : Flags to pass through to the re module, e.g. re.IGNORECASE.\n",
        "- na : Fill value for missing values.\n",
        "- regex : If True, assumes the pat is a regular expression."
      ]
    },
    {
      "cell_type": "code",
      "execution_count": null,
      "metadata": {
        "id": "Is1jJ7ae9gE_"
      },
      "outputs": [],
      "source": [
        "# поиск одного из нескольких слов\n",
        "\n",
        "stats[stats.keyword.str.contains('охотник|фильм|2016')].head()"
      ]
    },
    {
      "cell_type": "markdown",
      "metadata": {
        "id": "bc9ycu-W9gE_"
      },
      "source": [
        "### Упражнение\n",
        "Отфильтруйте датафрейм stats по поисковым запросам, которые содержат строку \"погода в\" и упоминают один из городов: Москва, Новосибирск, Краснодар."
      ]
    },
    {
      "cell_type": "code",
      "execution_count": null,
      "metadata": {
        "id": "NHE3pU5f9gFA"
      },
      "outputs": [],
      "source": [
        ""
      ]
    },
    {
      "cell_type": "code",
      "execution_count": null,
      "metadata": {
        "id": "62zT2t3V9gFA"
      },
      "outputs": [],
      "source": [
        ""
      ]
    },
    {
      "cell_type": "code",
      "execution_count": null,
      "metadata": {
        "id": "9sKqTxEn9gFA"
      },
      "outputs": [],
      "source": [
        ""
      ]
    },
    {
      "cell_type": "markdown",
      "metadata": {
        "id": "pi1n85dr9gFA"
      },
      "source": [
        "### replace"
      ]
    },
    {
      "cell_type": "code",
      "execution_count": null,
      "metadata": {
        "id": "c3M7Q03V9gFA"
      },
      "outputs": [],
      "source": [
        "'отпуск начнется завтра'.replace('завтра', 'через месяц')"
      ]
    },
    {
      "cell_type": "markdown",
      "metadata": {
        "id": "8c-TcdTy9gFB"
      },
      "source": [
        "Аналог в pandas на запросах про сериалы:"
      ]
    },
    {
      "cell_type": "code",
      "execution_count": null,
      "metadata": {
        "id": "gC5perE39gFB"
      },
      "outputs": [],
      "source": [
        "serial = stats[stats.keyword.str.contains('сериалы')]\n",
        "serial.head()"
      ]
    },
    {
      "cell_type": "code",
      "execution_count": null,
      "metadata": {
        "id": "CTWvbRg49gFB"
      },
      "outputs": [],
      "source": [
        "serial.keyword.str.replace('сериалы', 'книги').head()"
      ]
    },
    {
      "cell_type": "markdown",
      "metadata": {
        "id": "Tlz7qsI99gFB"
      },
      "source": [
        "### Как учитывать разное написание слов\n",
        "Самое простое - методы upper и lower"
      ]
    },
    {
      "cell_type": "code",
      "execution_count": null,
      "metadata": {
        "id": "FDyItRy_9gFC"
      },
      "outputs": [],
      "source": [
        "serial.keyword.str.upper().head()"
      ]
    },
    {
      "cell_type": "code",
      "execution_count": null,
      "metadata": {
        "id": "pXouQO_Y9gFC"
      },
      "outputs": [],
      "source": [
        "serial.keyword.str.lower().head()"
      ]
    },
    {
      "cell_type": "markdown",
      "metadata": {
        "id": "uB7F8UQ09gFC"
      },
      "source": [
        "### Что делать если нужно учесть формы написания слов?"
      ]
    },
    {
      "cell_type": "code",
      "execution_count": null,
      "metadata": {
        "id": "ExQYfEvQ9gFC"
      },
      "outputs": [],
      "source": [
        "stats[stats.keyword.str.contains('рубл')].head()"
      ]
    },
    {
      "cell_type": "markdown",
      "metadata": {
        "id": "I8Z5XKuY9gFD"
      },
      "source": [
        "Почему нельзя просто оставить str.contains('рубл'):"
      ]
    },
    {
      "cell_type": "code",
      "execution_count": null,
      "metadata": {
        "id": "7xnzktC49gFD"
      },
      "outputs": [],
      "source": [
        "non_financial_search = 'рубленая котлетка'"
      ]
    },
    {
      "cell_type": "code",
      "source": [
        "NLTK, Pymorhy, pymystem3"
      ],
      "metadata": {
        "id": "TNR1z9a3AODf"
      },
      "execution_count": null,
      "outputs": []
    },
    {
      "cell_type": "markdown",
      "metadata": {
        "id": "BNVrN8819gFD"
      },
      "source": [
        "### Библиотека [pymystem](https://pypi.org/project/pymystem3/)"
      ]
    },
    {
      "cell_type": "code",
      "execution_count": null,
      "metadata": {
        "id": "0oH-jboX9gFD"
      },
      "outputs": [],
      "source": [
        "from pymystem3 import Mystem"
      ]
    },
    {
      "cell_type": "code",
      "execution_count": null,
      "metadata": {
        "id": "e3VJVL9r9gFE"
      },
      "outputs": [],
      "source": [
        "search = 'курс гривны к рублю рубли рублях'"
      ]
    },
    {
      "cell_type": "code",
      "execution_count": null,
      "metadata": {
        "id": "hcZtMp5I9gFE"
      },
      "outputs": [],
      "source": [
        "m = Mystem()\n",
        "lemmas = m.lemmatize(search)\n",
        "lemmas"
      ]
    },
    {
      "cell_type": "code",
      "execution_count": null,
      "metadata": {
        "id": "rSVn0B1E9gFE"
      },
      "outputs": [],
      "source": [
        "' '.join(lemmas)"
      ]
    },
    {
      "cell_type": "code",
      "source": [
        ""
      ],
      "metadata": {
        "id": "Y5t7-E8q-SQh"
      },
      "execution_count": null,
      "outputs": []
    },
    {
      "cell_type": "code",
      "source": [
        ""
      ],
      "metadata": {
        "id": "yXvaFyah-c5-"
      },
      "execution_count": null,
      "outputs": []
    },
    {
      "cell_type": "markdown",
      "metadata": {
        "id": "z6En-dLN_APh"
      },
      "source": [
        "## Pandas и большие файлы"
      ]
    },
    {
      "cell_type": "code",
      "execution_count": null,
      "metadata": {
        "id": "iClCqxWS_APp"
      },
      "outputs": [],
      "source": [
        "import pandas as pd"
      ]
    },
    {
      "cell_type": "markdown",
      "metadata": {
        "id": "IoR8VsRL_APr"
      },
      "source": [
        "### Упражнение\n",
        "Для каждого пользователя user_id из файла sales_db.csv посчитайте самую дорогую покупку (в столбце cost)"
      ]
    },
    {
      "cell_type": "code",
      "execution_count": null,
      "metadata": {
        "id": "x9fZcmLr_APs"
      },
      "outputs": [],
      "source": [
        ""
      ]
    },
    {
      "cell_type": "code",
      "execution_count": null,
      "metadata": {
        "id": "UFKfT3MB_APs"
      },
      "outputs": [],
      "source": [
        ""
      ]
    },
    {
      "cell_type": "code",
      "execution_count": null,
      "metadata": {
        "id": "jtbtH4am_APt"
      },
      "outputs": [],
      "source": [
        ""
      ]
    },
    {
      "cell_type": "markdown",
      "metadata": {
        "id": "NRVH7TyS_APt"
      },
      "source": [
        "## Объединение датафреймов"
      ]
    },
    {
      "cell_type": "markdown",
      "metadata": {
        "id": "OBi-Ujsc_APu"
      },
      "source": [
        "### Данные со слайдов"
      ]
    },
    {
      "cell_type": "code",
      "execution_count": null,
      "metadata": {
        "id": "aJmI7pSj_APv"
      },
      "outputs": [],
      "source": [
        "visits = pd.DataFrame(\n",
        "    {\n",
        "        'user_id': [11, 22, 55, 11, 77],\n",
        "        'source': ['ad', 'yandex', 'email', 'google', 'ad']\n",
        "    }\n",
        ")\n",
        "\n",
        "visits = visits[['user_id', 'source']]\n",
        "visits"
      ]
    },
    {
      "cell_type": "code",
      "execution_count": null,
      "metadata": {
        "scrolled": false,
        "id": "pHklNRGy_APw"
      },
      "outputs": [],
      "source": [
        "purchases = pd.DataFrame(\n",
        "    {\n",
        "        'user_id': [11, 22, 55, 11, 99],\n",
        "        'category': ['Спорт', 'Авто', 'Дача', 'Спорт', 'Авто'],\n",
        "    }\n",
        ")\n",
        "\n",
        "purchases = purchases[['user_id', 'category']]\n",
        "purchases"
      ]
    },
    {
      "cell_type": "code",
      "execution_count": null,
      "metadata": {
        "scrolled": true,
        "id": "D3p6oY_l_APw"
      },
      "outputs": [],
      "source": [
        "visits_grouped = visits.groupby('user_id').count()\n",
        "visits_grouped.rename(columns={'source': 'visits'}, inplace=True)\n",
        "visits_grouped"
      ]
    },
    {
      "cell_type": "code",
      "execution_count": null,
      "metadata": {
        "scrolled": false,
        "id": "zDrh6d92_APx"
      },
      "outputs": [],
      "source": [
        "visits.groupby('user_id').count().reset_index()"
      ]
    },
    {
      "cell_type": "code",
      "execution_count": null,
      "metadata": {
        "scrolled": false,
        "id": "4HeFcWlp_APy"
      },
      "outputs": [],
      "source": [
        "purchases_pivot = purchases.pivot_table(index='user_id', columns='category', values='user_id', \n",
        "                                        aggfunc='size', fill_value=0)\n",
        "purchases_pivot"
      ]
    },
    {
      "cell_type": "code",
      "execution_count": null,
      "metadata": {
        "id": "4q1F2x2W_APy"
      },
      "outputs": [],
      "source": [
        "purchases_pivot.reset_index()"
      ]
    },
    {
      "cell_type": "code",
      "execution_count": null,
      "metadata": {
        "id": "2bzzbuoN_APz"
      },
      "outputs": [],
      "source": [
        "visits_grouped.join(purchases_pivot)"
      ]
    },
    {
      "cell_type": "markdown",
      "metadata": {
        "id": "ClQS1hCR_APz"
      },
      "source": [
        "### LEFT join\n",
        "Каждой строчке в левой таблице ищет соответствие в правой"
      ]
    },
    {
      "cell_type": "code",
      "execution_count": null,
      "metadata": {
        "id": "ZmZDD83m_APz"
      },
      "outputs": [],
      "source": [
        "visits_grouped.join(purchases_pivot, how='left')"
      ]
    },
    {
      "cell_type": "markdown",
      "metadata": {
        "id": "4i4QbbSO_AP0"
      },
      "source": [
        "### RIGHT join\n",
        "Каждой строчке в правой таблице ищет соответствие в левой"
      ]
    },
    {
      "cell_type": "code",
      "execution_count": null,
      "metadata": {
        "scrolled": true,
        "id": "S3fLzIxl_AP0"
      },
      "outputs": [],
      "source": [
        "visits_grouped.join(purchases_pivot, how='right')"
      ]
    },
    {
      "cell_type": "markdown",
      "metadata": {
        "id": "x4hOnjew_AP1"
      },
      "source": [
        "### Упражнение\n",
        "Дана статистика:\n",
        "- ID клиентов и их имена (датафрейм clients)\n",
        "- статистика доходов (earnings)\n",
        "- статистика расходов (spending)\n",
        "\n",
        "Определите имена клиентов, расходы которых превышают доходы."
      ]
    },
    {
      "cell_type": "code",
      "execution_count": null,
      "metadata": {
        "id": "pwp6xIw2_AP1"
      },
      "outputs": [],
      "source": [
        "# подсказка - по умолчанию в методе merge объединение НЕ left join\n",
        "\n",
        "?pd.DataFrame.merge\n",
        "?pd.DataFrame.join"
      ]
    },
    {
      "cell_type": "code",
      "execution_count": null,
      "metadata": {
        "id": "3L96p7VU_AP1"
      },
      "outputs": [],
      "source": [
        "clients = pd.DataFrame(\n",
        "    {\n",
        "        'id': [43018, 48329, 51043, 74943, 75029],\n",
        "        'name': ['Марков Илья', 'Зарицкая Елизавета', 'Благова Дарья', 'Слепова Елена', 'Гордецкий Максим'],\n",
        "    }\n",
        ")\n",
        "\n",
        "clients"
      ]
    },
    {
      "cell_type": "code",
      "execution_count": null,
      "metadata": {
        "id": "Pjs8bVrg_AP2"
      },
      "outputs": [],
      "source": [
        "earnings = pd.DataFrame(\n",
        "    {\n",
        "        'id': [51043, 48329, 74943, 75029, 43018],\n",
        "        'debit': [34500, 12400, 89044, 5355, 19800],\n",
        "    }\n",
        ")\n",
        "\n",
        "earnings"
      ]
    },
    {
      "cell_type": "code",
      "execution_count": null,
      "metadata": {
        "id": "1XGem-jC_AP2"
      },
      "outputs": [],
      "source": [
        "spending = pd.DataFrame(\n",
        "    {\n",
        "        'id': [51043, 48329, 74943, 75029, 43018],\n",
        "        'credit': [22990, 2500, 69880, 6000, 29000],\n",
        "    }\n",
        ")\n",
        "\n",
        "spending"
      ]
    },
    {
      "cell_type": "code",
      "execution_count": null,
      "metadata": {
        "id": "Mk0LodKv_AP3"
      },
      "outputs": [],
      "source": [
        "# df = clients.merge(earnings,  on='id').merge(spending, on='id')"
      ]
    },
    {
      "cell_type": "code",
      "source": [
        "df = spending.merge(earnings,  on='id').merge(clients,  on='id')"
      ],
      "metadata": {
        "id": "TEuBFjPY2hrB"
      },
      "execution_count": null,
      "outputs": []
    },
    {
      "cell_type": "code",
      "source": [
        "df.loc[ df.credit > df.debit, 'name']"
      ],
      "metadata": {
        "id": "tRsjBAD72dWS"
      },
      "execution_count": null,
      "outputs": []
    },
    {
      "cell_type": "code",
      "execution_count": null,
      "metadata": {
        "id": "yw67pH3g_AP3"
      },
      "outputs": [],
      "source": [
        "print('Клиенты с задолженностями: ',', '.join( df.loc[ df.credit > df.debit, 'name'] ))"
      ]
    },
    {
      "cell_type": "code",
      "execution_count": null,
      "metadata": {
        "id": "ONZCj5hv_AP3"
      },
      "outputs": [],
      "source": [
        ""
      ]
    },
    {
      "cell_type": "markdown",
      "metadata": {
        "id": "WAOz3SOu_AP3"
      },
      "source": [
        "### INNER join\n",
        "Оставляет строчки, которые есть в обеих таблицах"
      ]
    },
    {
      "cell_type": "code",
      "execution_count": null,
      "metadata": {
        "id": "cdJsIDz7_AP4"
      },
      "outputs": [],
      "source": [
        "visits_grouped.join(purchases_pivot, how='inner')"
      ]
    },
    {
      "cell_type": "markdown",
      "metadata": {
        "id": "NgsY8aOW_AP4"
      },
      "source": [
        "### Outer join\n",
        "Оставляет все строчки"
      ]
    },
    {
      "cell_type": "code",
      "execution_count": null,
      "metadata": {
        "id": "cPlTaK88_AP4"
      },
      "outputs": [],
      "source": [
        "visits_grouped.join(purchases_pivot, how='outer')"
      ]
    },
    {
      "cell_type": "markdown",
      "metadata": {
        "id": "9S1FiMhe_AP5"
      },
      "source": [
        "## Конкатенация таблиц"
      ]
    },
    {
      "cell_type": "code",
      "execution_count": null,
      "metadata": {
        "id": "gBgWczW9_AP5"
      },
      "outputs": [],
      "source": [
        "a = pd.DataFrame({'date': ['2020-01-01', '2020-01-02', '2020-01-03'], 'value_a': [1, 2, 3]})\n",
        "b = pd.DataFrame({'date': ['2020-01-01', '2020-01-02', '2020-01-03'], 'value_b': [3, 4, 5]})"
      ]
    },
    {
      "cell_type": "code",
      "execution_count": null,
      "metadata": {
        "id": "MXSc0E5i_AP5"
      },
      "outputs": [],
      "source": [
        "a"
      ]
    },
    {
      "cell_type": "code",
      "execution_count": null,
      "metadata": {
        "id": "nczVUQNj_AP6"
      },
      "outputs": [],
      "source": [
        "b"
      ]
    },
    {
      "cell_type": "code",
      "execution_count": null,
      "metadata": {
        "id": "6jyvDVUl_AP6"
      },
      "outputs": [],
      "source": [
        "pd.concat([a, b])"
      ]
    },
    {
      "cell_type": "code",
      "execution_count": null,
      "metadata": {
        "id": "qQdRE-We_AP6"
      },
      "outputs": [],
      "source": [
        "# объединение по горизонтали\n",
        "pd.concat([a, b], axis=1)"
      ]
    },
    {
      "cell_type": "markdown",
      "metadata": {
        "id": "R6kSEqnn_AP7"
      },
      "source": [
        "### Дубликаты при объединении таблиц"
      ]
    },
    {
      "cell_type": "code",
      "execution_count": null,
      "metadata": {
        "id": "5jpPhZXH_AP7"
      },
      "outputs": [],
      "source": [
        "ratings = pd.read_csv('ratings_example.txt', sep = '\\t')\n",
        "ratings.head()"
      ]
    },
    {
      "cell_type": "code",
      "execution_count": null,
      "metadata": {
        "id": "30EnivmF_AP7"
      },
      "outputs": [],
      "source": [
        "movies = pd.read_csv('movies_example.txt', sep = '\\t')\n",
        "movies.head()"
      ]
    },
    {
      "cell_type": "code",
      "execution_count": null,
      "metadata": {
        "id": "w9WkhTac_AP8"
      },
      "outputs": [],
      "source": [
        "# ¯\\_(ツ)_/¯\n",
        "\n",
        "ratings.merge(movies, how='left', on='movieId')"
      ]
    },
    {
      "cell_type": "code",
      "execution_count": null,
      "metadata": {
        "id": "03hDAofO_AP8"
      },
      "outputs": [],
      "source": [
        "movies.drop_duplicates(subset = 'movieId', keep = 'first', inplace = True)\n",
        "movies.head()"
      ]
    },
    {
      "cell_type": "code",
      "execution_count": null,
      "metadata": {
        "id": "8aL9fhbz_AP8"
      },
      "outputs": [],
      "source": [
        "ratings.merge(movies, how = 'left', on = 'movieId')"
      ]
    },
    {
      "cell_type": "code",
      "execution_count": null,
      "metadata": {
        "scrolled": false,
        "id": "OWUH2-ZV_AP9"
      },
      "outputs": [],
      "source": [
        "ratings.merge(movies, how = 'right', on = 'movieId')"
      ]
    },
    {
      "cell_type": "markdown",
      "metadata": {
        "id": "OAmbitgA_AP9"
      },
      "source": [
        "### Упражнение\n",
        "Объедините датафреймы с визитами и покупками на сайте по ключу date. Обратите внимание, что в датафрейме визитов имеются дубликаты по дате."
      ]
    },
    {
      "cell_type": "code",
      "execution_count": null,
      "metadata": {
        "id": "f_ne6HUF_AP9"
      },
      "outputs": [],
      "source": [
        "visits = pd.DataFrame(\n",
        "    {'date': ['2019-11-01', '2019-11-01', '2019-11-02', '2019-11-02', '2019-11-03'], \n",
        "     'source': ['organic', 'paid', 'organic', 'paid', 'organic'], \n",
        "     'visits': [16825, 1952, 21890, 376, 19509]}\n",
        ")\n",
        "\n",
        "visits"
      ]
    },
    {
      "cell_type": "code",
      "execution_count": null,
      "metadata": {
        "id": "9usW6tBT_AP-"
      },
      "outputs": [],
      "source": [
        "orders = pd.DataFrame(\n",
        "    {'date': ['2019-11-01', '2019-11-02', '2019-11-03'],\n",
        "     'orders': [198, 225, 201]}\n",
        ")\n",
        "\n",
        "orders"
      ]
    },
    {
      "cell_type": "code",
      "execution_count": null,
      "metadata": {
        "id": "4DJEmkZ4_AP-"
      },
      "outputs": [],
      "source": [
        ""
      ]
    },
    {
      "cell_type": "code",
      "execution_count": null,
      "metadata": {
        "id": "7D7gPopy_AP-"
      },
      "outputs": [],
      "source": [
        ""
      ]
    },
    {
      "cell_type": "code",
      "execution_count": null,
      "metadata": {
        "id": "uNaSnvF4_AP_"
      },
      "outputs": [],
      "source": [
        ""
      ]
    },
    {
      "cell_type": "markdown",
      "metadata": {
        "id": "K2jqEJBn_AP_"
      },
      "source": [
        "### Оптимизация хранения данных"
      ]
    },
    {
      "cell_type": "code",
      "execution_count": null,
      "metadata": {
        "id": "JYldZuQn_AP_"
      },
      "outputs": [],
      "source": [
        "# 2.4mb\n",
        "ratings = pd.read_csv('ml-latest-small/ratings.csv')\n",
        "\n",
        "# 0.5mb\n",
        "movies = pd.read_csv('ml-latest-small/movies.csv')\n",
        "joined = ratings.merge(movies, how='left', on='movieId')"
      ]
    },
    {
      "cell_type": "code",
      "execution_count": null,
      "metadata": {
        "id": "rKscW0K-_AP_"
      },
      "outputs": [],
      "source": [
        "joined.head()"
      ]
    },
    {
      "cell_type": "code",
      "execution_count": null,
      "metadata": {
        "id": "2rjVO_Mq_AQA"
      },
      "outputs": [],
      "source": [
        "ratings = pd.read_csv('ml-latest-small/ratings.csv')\n",
        "ratings.head()"
      ]
    },
    {
      "cell_type": "code",
      "execution_count": null,
      "metadata": {
        "id": "21MUZ1ld_AQA"
      },
      "outputs": [],
      "source": [
        "len(ratings)"
      ]
    },
    {
      "cell_type": "code",
      "execution_count": null,
      "metadata": {
        "id": "vhXfJ_9i_AQA"
      },
      "outputs": [],
      "source": [
        "movies = pd.read_csv('ml-latest-small/movies.csv')\n",
        "movies.head()"
      ]
    },
    {
      "cell_type": "code",
      "execution_count": null,
      "metadata": {
        "id": "JjbyrI3t_AQA"
      },
      "outputs": [],
      "source": [
        "len(movies)"
      ]
    },
    {
      "cell_type": "code",
      "execution_count": null,
      "metadata": {
        "id": "2zTAU3xx_AQB"
      },
      "outputs": [],
      "source": [
        "len(ratings) == len(joined)"
      ]
    },
    {
      "cell_type": "code",
      "execution_count": null,
      "metadata": {
        "id": "Mt7mpgyb_AQB"
      },
      "outputs": [],
      "source": [
        "joined.to_csv('joined_ratings.csv', index=False)"
      ]
    },
    {
      "cell_type": "code",
      "execution_count": null,
      "metadata": {
        "id": "L8KB-zIJ_AQB"
      },
      "outputs": [],
      "source": [
        "joined.head()"
      ]
    },
    {
      "cell_type": "code",
      "execution_count": null,
      "metadata": {
        "scrolled": true,
        "id": "uKoj6OYr_AQC"
      },
      "outputs": [],
      "source": [
        "logs = joined[['userId', 'movieId', 'rating']].head()"
      ]
    },
    {
      "cell_type": "code",
      "execution_count": null,
      "metadata": {
        "id": "crm4PxWG_AQC"
      },
      "outputs": [],
      "source": [
        "len(joined[['movieId', 'title', 'genres']].drop_duplicates())"
      ]
    },
    {
      "cell_type": "markdown",
      "metadata": {
        "id": "ooY3oyYv_AQC"
      },
      "source": [
        "### Какой жанр имеет самые высокие рейтинги?"
      ]
    },
    {
      "cell_type": "code",
      "execution_count": null,
      "metadata": {
        "id": "z06dnVft_AQC"
      },
      "outputs": [],
      "source": [
        "import numpy as np"
      ]
    },
    {
      "cell_type": "code",
      "execution_count": null,
      "metadata": {
        "id": "ypY9tInD_AQD"
      },
      "outputs": [],
      "source": [
        "genres = ['Drama', 'Action', 'Thriller']"
      ]
    },
    {
      "cell_type": "code",
      "execution_count": null,
      "metadata": {
        "id": "Kax1Thqs_AQD"
      },
      "outputs": [],
      "source": [
        "ratings = pd.read_csv('ml-latest-small/ratings.csv')\n",
        "ratings.head()"
      ]
    },
    {
      "cell_type": "code",
      "execution_count": null,
      "metadata": {
        "id": "JkDr5oSx_AQD"
      },
      "outputs": [],
      "source": [
        "len(ratings)"
      ]
    },
    {
      "cell_type": "code",
      "execution_count": null,
      "metadata": {
        "id": "WMnev8By_AQE"
      },
      "outputs": [],
      "source": [
        "movies = pd.read_csv('ml-latest-small/movies.csv')\n",
        "movies.head()"
      ]
    },
    {
      "cell_type": "code",
      "execution_count": null,
      "metadata": {
        "id": "4h0AFu9Z_AQE"
      },
      "outputs": [],
      "source": [
        "len(movies)"
      ]
    },
    {
      "cell_type": "code",
      "execution_count": null,
      "metadata": {
        "id": "CwucMcDB_AQE"
      },
      "outputs": [],
      "source": [
        "joined = ratings.merge(movies, on='movieId', how='left')\n",
        "joined.head()"
      ]
    },
    {
      "cell_type": "code",
      "execution_count": null,
      "metadata": {
        "id": "3blrp8x3_AQF"
      },
      "outputs": [],
      "source": [
        "# рекомендуемая проверка на возможные дубликаты\n",
        "\n",
        "len(ratings) == len(joined)"
      ]
    },
    {
      "cell_type": "markdown",
      "metadata": {
        "id": "U9IXcQ0f_AQF"
      },
      "source": [
        "### Считаем рейтинг жанров"
      ]
    },
    {
      "cell_type": "code",
      "execution_count": null,
      "metadata": {
        "id": "1Qe2w-Nr_AQF"
      },
      "outputs": [],
      "source": [
        "# еще раз список жанров\n",
        "\n",
        "genres = ['Drama', 'Action', 'Thriller']"
      ]
    },
    {
      "cell_type": "code",
      "execution_count": null,
      "metadata": {
        "id": "CF4KdGq7_AQF"
      },
      "outputs": [],
      "source": [
        "def genres_ratings(row):\n",
        "    \"\"\"Возвращает рейтинг, если он есть в списке жанров данного фильма\"\"\"\n",
        "    \n",
        "    return pd.Series([row['rating'] if genre in row['genres'] else np.NaN for genre in genres])"
      ]
    },
    {
      "cell_type": "code",
      "execution_count": null,
      "metadata": {
        "scrolled": true,
        "id": "pwM60d27_AQG"
      },
      "outputs": [],
      "source": [
        "%%time\n",
        "joined[genres] = joined.apply(genres_ratings, axis=1)"
      ]
    },
    {
      "cell_type": "code",
      "execution_count": null,
      "metadata": {
        "id": "S4FB77bU_AQG"
      },
      "outputs": [],
      "source": [
        "def genres_ratings_version_2(row):\n",
        "    \"\"\"Возвращает рейтинг, если он есть в списке жанров данного фильма\"\"\"\n",
        "    \n",
        "    for genre in genres:\n",
        "        if genre in row.genres:\n",
        "            row[genre] = row.rating\n",
        "    \n",
        "    return rating"
      ]
    },
    {
      "cell_type": "code",
      "execution_count": null,
      "metadata": {
        "id": "vojkzcwe_AQG"
      },
      "outputs": [],
      "source": [
        "joined[genres] = joined.apply(genres_ratings, axis=1)\n",
        "joined.head()"
      ]
    },
    {
      "cell_type": "markdown",
      "metadata": {
        "id": "zAyj2taW_AQH"
      },
      "source": [
        "### Упражнение\n",
        "Выведите средний рейтинг каждого жанра из списка genres"
      ]
    },
    {
      "cell_type": "code",
      "execution_count": null,
      "metadata": {
        "id": "eMnZnacq_AQH"
      },
      "outputs": [],
      "source": [
        ""
      ]
    },
    {
      "cell_type": "code",
      "execution_count": null,
      "metadata": {
        "id": "dT7tpxlM_AQH"
      },
      "outputs": [],
      "source": [
        ""
      ]
    },
    {
      "cell_type": "code",
      "execution_count": null,
      "metadata": {
        "id": "nOOI2Gz6_AQH"
      },
      "outputs": [],
      "source": [
        ""
      ]
    },
    {
      "cell_type": "markdown",
      "metadata": {
        "id": "gmVJ6aoZ_AQH"
      },
      "source": [
        "### К домашнему заданию, задача 2\n",
        "Дана статистика услуг перевозок клиентов компании по типам:\n",
        "- rzd - железнодорожные перевозки\n",
        "- auto - автомобильные перевозки\n",
        "- air - воздушные перевозки\n",
        "- client_base - адреса клиентов"
      ]
    },
    {
      "cell_type": "code",
      "execution_count": null,
      "metadata": {
        "id": "Aq5MLPxs_AQP"
      },
      "outputs": [],
      "source": [
        "rzd = pd.DataFrame(\n",
        "    {\n",
        "        'client_id': [111, 112, 113, 114, 115],\n",
        "        'rzd_revenue': [1093, 2810, 10283, 5774, 981]\n",
        "    }\n",
        ")\n",
        "rzd"
      ]
    },
    {
      "cell_type": "code",
      "execution_count": null,
      "metadata": {
        "id": "6L9JGwPW_AQP"
      },
      "outputs": [],
      "source": [
        "auto = pd.DataFrame(\n",
        "    {\n",
        "        'client_id': [113, 114, 115, 116, 117],\n",
        "        'auto_revenue': [57483, 83, 912, 4834, 98]\n",
        "    }\n",
        ")\n",
        "auto"
      ]
    },
    {
      "cell_type": "code",
      "execution_count": null,
      "metadata": {
        "id": "3fmI7GZ7_AQP"
      },
      "outputs": [],
      "source": [
        "air = pd.DataFrame(\n",
        "    {\n",
        "        'client_id': [115, 116, 117, 118],\n",
        "        'air_revenue': [81, 4, 13, 173]\n",
        "    }\n",
        ")\n",
        "air"
      ]
    },
    {
      "cell_type": "code",
      "execution_count": null,
      "metadata": {
        "id": "1Iuu24-j_AQQ"
      },
      "outputs": [],
      "source": [
        "client_base = pd.DataFrame(\n",
        "    {\n",
        "        'client_id': [111, 112, 113, 114, 115, 116, 117, 118],\n",
        "        'address': ['Комсомольская 4', 'Энтузиастов 8а', 'Левобережная 1а', 'Мира 14', 'ЗЖБИиДК 1', \n",
        "                    'Строителей 18', 'Панфиловская 33', 'Мастеркова 4']\n",
        "    }\n",
        ")\n",
        "client_base"
      ]
    },
    {
      "cell_type": "code",
      "execution_count": null,
      "metadata": {
        "id": "MFue_RIj_AQQ"
      },
      "outputs": [],
      "source": [
        ""
      ]
    },
    {
      "cell_type": "code",
      "execution_count": null,
      "metadata": {
        "id": "g2tZfk-k_AQQ"
      },
      "outputs": [],
      "source": [
        ""
      ]
    },
    {
      "cell_type": "code",
      "execution_count": null,
      "metadata": {
        "id": "z9RRCddj_AQQ"
      },
      "outputs": [],
      "source": [
        ""
      ]
    }
  ],
  "metadata": {
    "kernelspec": {
      "display_name": "Python 3",
      "language": "python",
      "name": "python3"
    },
    "language_info": {
      "codemirror_mode": {
        "name": "ipython",
        "version": 3
      },
      "file_extension": ".py",
      "mimetype": "text/x-python",
      "name": "python",
      "nbconvert_exporter": "python",
      "pygments_lexer": "ipython3",
      "version": "3.7.0"
    },
    "colab": {
      "name": "PYDA12_pandas_optim_pivot_join_HW.ipynb",
      "provenance": [],
      "collapsed_sections": [
        "p9YQFxg3dvW2",
        "sctN7-ZLIP8S",
        "2SYEdeUEEmho",
        "9RxF1J3OE4q2",
        "XIij-fAEB83v",
        "3vQMAHhZ8gpV",
        "gtqN3_dw8gpa",
        "DMeQQAFO8gpm",
        "b8ZD-dPs8gpo",
        "Z4N6Gkry8gpt",
        "i6kTI3bj8gpu",
        "1LVxZwmi8gpv",
        "TOttqlI-9gE2",
        "UcalkNI_9gE5",
        "ZHoKfdu59gE6",
        "YQCb9eX49gE7",
        "8IpggTj99gE8",
        "tCOm_AoQ9gE9",
        "bc9ycu-W9gE_",
        "pi1n85dr9gFA",
        "Tlz7qsI99gFB",
        "OBi-Ujsc_APu",
        "ClQS1hCR_APz",
        "4i4QbbSO_AP0",
        "x4hOnjew_AP1",
        "WAOz3SOu_AP3",
        "NgsY8aOW_AP4"
      ],
      "include_colab_link": true
    }
  },
  "nbformat": 4,
  "nbformat_minor": 0
}