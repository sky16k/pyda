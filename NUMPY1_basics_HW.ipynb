{
  "nbformat": 4,
  "nbformat_minor": 0,
  "metadata": {
    "colab": {
      "name": "NUMPY1_basics_HW.ipynb",
      "provenance": [],
      "collapsed_sections": [
        "o6xP6lsdSkST"
      ],
      "authorship_tag": "ABX9TyO9runjw6mKHH+SbH6FLTVI",
      "include_colab_link": true
    },
    "kernelspec": {
      "name": "python3",
      "display_name": "Python 3"
    },
    "language_info": {
      "name": "python"
    }
  },
  "cells": [
    {
      "cell_type": "markdown",
      "metadata": {
        "id": "view-in-github",
        "colab_type": "text"
      },
      "source": [
        "<a href=\"https://colab.research.google.com/github/sky16k/pyda/blob/main/NUMPY1_basics_HW.ipynb\" target=\"_parent\"><img src=\"https://colab.research.google.com/assets/colab-badge.svg\" alt=\"Open In Colab\"/></a>"
      ]
    },
    {
      "cell_type": "markdown",
      "source": [
        "#Домашнее задание"
      ],
      "metadata": {
        "id": "xut-1lrgNCEM"
      }
    },
    {
      "cell_type": "markdown",
      "source": [
        "### Основной текст"
      ],
      "metadata": {
        "id": "o6xP6lsdSkST"
      }
    },
    {
      "cell_type": "code",
      "source": [
        "Преподаватель: Константин Башевой\n",
        "Домашнее задание\n",
        "\n",
        "Задание 1\n",
        "Создайте numpy array с элементами от числа N до 0 (например, для N = 10 это будет array([9, 8, 7, 6, 5, 4, 3, 2, 1, 0])).\n",
        "\n",
        "Задание 2\n",
        "Создайте диагональную матрицу с элементами от N до 0. Посчитайте сумму ее значений на диагонали.\n",
        "\n",
        "Задание 3\n",
        "Решите систему уравнений:\n",
        "4x + 2y + z = 4\n",
        "x + 3y = 12\n",
        "5y + 4z = -3\n",
        "\n",
        "Задание 4\n",
        "Задание и входные данные к нему находятся в материалах занятия (ноутбук Python_9_Numpy.ipynb, раздел “Задача 4 домашнего задания”"
      ],
      "metadata": {
        "id": "ycHPYqQgSh3D"
      },
      "execution_count": null,
      "outputs": []
    },
    {
      "cell_type": "markdown",
      "source": [
        "##Задание 1"
      ],
      "metadata": {
        "id": "K28MI5k_MbDE"
      }
    },
    {
      "cell_type": "markdown",
      "source": [
        "###текст"
      ],
      "metadata": {
        "id": "_m6QJdwtMeFu"
      }
    },
    {
      "cell_type": "code",
      "source": [
        "'''\n",
        "Задание 1\n",
        "Создайте numpy array с элементами \n",
        "от числа N до 0 \n",
        "(например, для N = 10 это будет \n",
        "array([9, 8, 7, 6, 5, 4, 3, 2, 1, 0])).\n",
        "\n",
        "'''"
      ],
      "metadata": {
        "id": "6jF-_YjBMe2t"
      },
      "execution_count": null,
      "outputs": []
    },
    {
      "cell_type": "markdown",
      "source": [
        "###программа"
      ],
      "metadata": {
        "id": "KjSvPiWdMfT5"
      }
    },
    {
      "cell_type": "code",
      "source": [
        "import numpy as np\n",
        "\n",
        "n=15\n",
        "\n",
        "np.arange(n-1,0-1,-1)\n",
        "\n",
        "np.linspace(n-1,0,n)\n",
        "\n",
        "np.flip( np.arange(n) )"
      ],
      "metadata": {
        "id": "3o0lOm-gMfqS",
        "colab": {
          "base_uri": "https://localhost:8080/"
        },
        "outputId": "08c284d7-3fe2-49fc-a1bc-d1fe4b54f36f"
      },
      "execution_count": 10,
      "outputs": [
        {
          "output_type": "execute_result",
          "data": {
            "text/plain": [
              "array([14, 13, 12, 11, 10,  9,  8,  7,  6,  5,  4,  3,  2,  1,  0])"
            ]
          },
          "metadata": {},
          "execution_count": 10
        }
      ]
    },
    {
      "cell_type": "markdown",
      "source": [
        "##Задание 2"
      ],
      "metadata": {
        "id": "uOhN2ArmMgkB"
      }
    },
    {
      "cell_type": "markdown",
      "source": [
        "###текст"
      ],
      "metadata": {
        "id": "KRNNt6LNMg0B"
      }
    },
    {
      "cell_type": "code",
      "source": [
        "'''\n",
        "Задание 2\n",
        "Создайте диагональную матрицу \n",
        "с элементами от N до 0. \n",
        "Посчитайте сумму ее значений на диагонали.\n",
        "\n",
        "'''"
      ],
      "metadata": {
        "id": "nASO5cKOMhKM"
      },
      "execution_count": null,
      "outputs": []
    },
    {
      "cell_type": "markdown",
      "source": [
        "###программа"
      ],
      "metadata": {
        "id": "sr6nEVKHMhaG"
      }
    },
    {
      "cell_type": "code",
      "source": [
        "import numpy as np"
      ],
      "metadata": {
        "id": "wSqCygzFMho8"
      },
      "execution_count": 15,
      "outputs": []
    },
    {
      "cell_type": "code",
      "source": [
        "n = 15"
      ],
      "metadata": {
        "id": "eNZOgjFA_V1r"
      },
      "execution_count": 16,
      "outputs": []
    },
    {
      "cell_type": "code",
      "source": [
        "a = np.flip( np.arange(n) )\n",
        "\n",
        "a_diag = np.diag(a)"
      ],
      "metadata": {
        "id": "EJVugAY__WvS"
      },
      "execution_count": 17,
      "outputs": []
    },
    {
      "cell_type": "code",
      "source": [
        "from random import Random\n",
        "a_diag = np.Random"
      ],
      "metadata": {
        "id": "TjwIAg6lof8e"
      },
      "execution_count": null,
      "outputs": []
    },
    {
      "cell_type": "code",
      "source": [
        "result = sum(np.diag(a_diag))\n",
        "result"
      ],
      "metadata": {
        "colab": {
          "base_uri": "https://localhost:8080/"
        },
        "id": "DfJOAwm2AJT6",
        "outputId": "0373ec02-b8e5-415c-d583-0bc9e5895a46"
      },
      "execution_count": 18,
      "outputs": [
        {
          "output_type": "execute_result",
          "data": {
            "text/plain": [
              "105"
            ]
          },
          "metadata": {},
          "execution_count": 18
        }
      ]
    },
    {
      "cell_type": "markdown",
      "source": [
        "##Задание 3"
      ],
      "metadata": {
        "id": "hupsLTXbS124"
      }
    },
    {
      "cell_type": "markdown",
      "source": [
        "###текст"
      ],
      "metadata": {
        "id": "logY4eorS125"
      }
    },
    {
      "cell_type": "code",
      "source": [
        "'''\n",
        "Задание 3\n",
        "Решите систему уравнений:\n",
        "4x + 2y + z = 4\n",
        "x + 3y = 12\n",
        "5y + 4z = -3\n",
        "\n",
        "'''"
      ],
      "metadata": {
        "id": "VJYfSjhjS126"
      },
      "execution_count": null,
      "outputs": []
    },
    {
      "cell_type": "markdown",
      "source": [
        "###программа"
      ],
      "metadata": {
        "id": "6z1VkSSWS127"
      }
    },
    {
      "cell_type": "code",
      "source": [
        "import numpy as np"
      ],
      "metadata": {
        "id": "5pvNv6eSS128"
      },
      "execution_count": 19,
      "outputs": []
    },
    {
      "cell_type": "code",
      "source": [
        "a = np.array([[4, 2, 1],\n",
        "              [1, 3, 0],\n",
        "              [0, 5, 4]])\n",
        "b = np.array([4, 12, -3])"
      ],
      "metadata": {
        "id": "u576sy1tCF68"
      },
      "execution_count": 20,
      "outputs": []
    },
    {
      "cell_type": "code",
      "source": [
        "# функция \"Реши!\"\n",
        "c = np.linalg.solve(a,b).round(6)"
      ],
      "metadata": {
        "id": "6apYLn4CCGiG"
      },
      "execution_count": 45,
      "outputs": []
    },
    {
      "cell_type": "code",
      "source": [
        "# проверка верности\n",
        "\n",
        "np.allclose( np.dot(a, c), b )"
      ],
      "metadata": {
        "colab": {
          "base_uri": "https://localhost:8080/"
        },
        "id": "4tIdPiRLESDA",
        "outputId": "d7fac5ec-5e3a-463d-d40c-a76af89efa29"
      },
      "execution_count": 46,
      "outputs": [
        {
          "output_type": "execute_result",
          "data": {
            "text/plain": [
              "True"
            ]
          },
          "metadata": {},
          "execution_count": 46
        }
      ]
    },
    {
      "cell_type": "code",
      "source": [
        "print(f'Ответ: x={c[0]}, y={c[1]}, z={c[2]} ')"
      ],
      "metadata": {
        "colab": {
          "base_uri": "https://localhost:8080/"
        },
        "id": "aDFrc9YNmOsL",
        "outputId": "2abd2d0e-5e67-4c6b-9849-01d1414e9f1b"
      },
      "execution_count": 48,
      "outputs": [
        {
          "output_type": "stream",
          "name": "stdout",
          "text": [
            "Ответ: x=0.466667, y=3.844444, z=-5.555556 \n"
          ]
        }
      ]
    },
    {
      "cell_type": "markdown",
      "source": [
        "##Задание 4"
      ],
      "metadata": {
        "id": "amuraERcS128"
      }
    },
    {
      "cell_type": "markdown",
      "source": [
        "###текст"
      ],
      "metadata": {
        "id": "HR92lSZWS129"
      }
    },
    {
      "cell_type": "code",
      "source": [
        "'''\n",
        "Задание 4\n",
        "Задание и входные данные к нему находятся в материалах занятия (ноутбук Python_9_Numpy.ipynb, раздел “Задача 4 домашнего задания”\n",
        "'''\n",
        "'''\n",
        "Имеется матрица покупок в интернет-магазине. Столбец А - ID пользователя. Остальные столбцы - количество покупок категорий товаров этим пользователем:\n",
        "'''\n",
        "'''\n",
        "users_stats = np.array(\n",
        "    [\n",
        "        [2, 1, 0, 0, 0, 0],\n",
        "        [1, 1, 2, 1, 0, 0],\n",
        "        [2, 0, 1, 0, 0, 0],\n",
        "        [1, 1, 2, 1, 0, 1],\n",
        "        [0, 0, 1, 2, 0, 0],\n",
        "        [0, 0, 0, 0, 0, 5],\n",
        "        [1, 0, 0, 0, 0, 0],\n",
        "        [0, 1, 1, 0, 0, 0],\n",
        "        [0, 0, 0, 1, 1, 3],\n",
        "        [1, 0, 0, 2, 1, 4]\n",
        "    ],\n",
        "    np.int32\n",
        ")\n",
        "'''\n",
        "'''\n",
        "На сайт заходит очередной посетитель, о покупках которого известно следующее:\n",
        "'''\n",
        "'''\n",
        "next_user_stats = np.array([0, 1, 2, 0, 0, 0])\n",
        "'''\n",
        "'''\n",
        "Найдите самого похожего пользователя. Т. е. посчитайте косинусное сходство между этим пользователем и всеми пользователями из массива user_stats'''"
      ],
      "metadata": {
        "id": "6KhzjWtuS12-"
      },
      "execution_count": null,
      "outputs": []
    },
    {
      "cell_type": "markdown",
      "source": [
        "![image.png](data:image/png;base64,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)"
      ],
      "metadata": {
        "id": "D-c-7ZdZaiJL"
      }
    },
    {
      "cell_type": "markdown",
      "source": [
        "###программа"
      ],
      "metadata": {
        "id": "0s2PHhwmS12-"
      }
    },
    {
      "cell_type": "code",
      "source": [
        "import numpy as np"
      ],
      "metadata": {
        "id": "QdZ9wIB5S13A"
      },
      "execution_count": 1,
      "outputs": []
    },
    {
      "cell_type": "code",
      "source": [
        "users_stats = np.array(\n",
        "    [\n",
        "        [2, 1, 0, 0, 0, 0],\n",
        "        [1, 1, 2, 1, 0, 0],\n",
        "        [2, 0, 1, 0, 0, 0],\n",
        "        [1, 1, 2, 1, 0, 1],\n",
        "        [0, 0, 1, 2, 0, 0],\n",
        "        [0, 0, 0, 0, 0, 5],\n",
        "        [1, 0, 0, 0, 0, 0],\n",
        "        [0, 1, 1, 0, 0, 0],\n",
        "        [0, 0, 0, 1, 1, 3],\n",
        "        [1, 0, 0, 2, 1, 4]\n",
        "    ],\n",
        "    np.int32\n",
        ")\n",
        "\n",
        "next_user_stats = np.array([0, 1, 2, 0, 0, 0])"
      ],
      "metadata": {
        "id": "m3RLiFS8IEOA"
      },
      "execution_count": 2,
      "outputs": []
    },
    {
      "cell_type": "code",
      "execution_count": 3,
      "metadata": {
        "id": "6QNngLilf_PA"
      },
      "outputs": [],
      "source": [
        "def cosine( a, b ):\n",
        "    \"\"\"\n",
        "    Подсчет косинуса угла между векторами a, b по их координатам\n",
        "    \"\"\"\n",
        "    \n",
        "    # длины векторов\n",
        "    aLength = np.linalg.norm( a )\n",
        "    bLength = np.linalg.norm( b )\n",
        "    \n",
        "    return np.dot( a, b ) / ( aLength * bLength )"
      ]
    },
    {
      "cell_type": "code",
      "source": [
        "max_cos = 0\n",
        "\n",
        "for i, user in enumerate(users_stats) :\n",
        "    \n",
        "    user_cos = cosine(next_user_stats, user)  \n",
        "    if user_cos > max_cos :\n",
        "        id_max = i+1\n",
        "        max_cos = user_cos\n",
        "\n",
        "print(f'Наибольшее сходство нового пользователя наблюдается с пользователем ID: {id_max}')"
      ],
      "metadata": {
        "colab": {
          "base_uri": "https://localhost:8080/"
        },
        "id": "GFT5yhimgkKK",
        "outputId": "133368e5-ebb0-441e-c904-b7a6905ad435"
      },
      "execution_count": 9,
      "outputs": [
        {
          "output_type": "stream",
          "name": "stdout",
          "text": [
            "0.19999999999999996\n",
            "0.8451542547285165\n",
            "0.3999999999999999\n",
            "0.7905694150420948\n",
            "0.3999999999999999\n",
            "0.0\n",
            "0.0\n",
            "0.9486832980505138\n",
            "0.0\n",
            "0.0\n",
            "Наибольшее сходство нового пользователя наблюдается с пользователем ID: 8\n"
          ]
        }
      ]
    },
    {
      "cell_type": "markdown",
      "metadata": {
        "id": "1SCEJg8mT0ub"
      },
      "source": [
        "# Теория: NumPy и LinAlg\n",
        "Что сегодня сделаем\n",
        "\n",
        "Рекомендательный алгоритм сопутствующих товаров для пользователя"
      ]
    },
    {
      "cell_type": "markdown",
      "metadata": {
        "id": "-BQnSY1vT0ui"
      },
      "source": [
        "### Повторим списки и словари\n",
        "Статистика взята с сайта http://www.bodycounters.com\n",
        "\n",
        "Дана статистика погибших в серии фильмов \"Пираты Карибского моря\". Посчитайте среднее число погибших людей в каждом фильме. Пиратов зомби за людей не считайте."
      ]
    },
    {
      "cell_type": "code",
      "execution_count": null,
      "metadata": {
        "id": "uYoFL8BFT0uj"
      },
      "outputs": [],
      "source": [
        "stats = [\n",
        "    {\n",
        "        'movie': 'На странных берегах',\n",
        "        'bodycount': {'люди': 56, 'русалки': 2, 'ядовитые жабы': 3, 'пираты-зомби': 2}\n",
        "    },\n",
        "    {\n",
        "        'movie': 'На краю света',\n",
        "        'bodycount': {'люди': 88}\n",
        "    },\n",
        "    {\n",
        "        'movie': 'Сундук мертвеца',\n",
        "        'bodycount': {'люди': 56, 'крабы отшельники': 1}\n",
        "    },\n",
        "    {\n",
        "        'movie': 'Проклятие Черной жемчужины',\n",
        "        'bodycount': {'люди': 17}\n",
        "    },\n",
        "]"
      ]
    },
    {
      "cell_type": "code",
      "execution_count": null,
      "metadata": {
        "id": "Nistx_TtT0ul",
        "outputId": "b76e2d9a-0df4-4a90-f8bb-86a067fb351f"
      },
      "outputs": [
        {
          "data": {
            "text/plain": [
              "[{'movie': 'На странных берегах',\n",
              "  'bodycount': {'люди': 56,\n",
              "   'русалки': 2,\n",
              "   'ядовитые жабы': 3,\n",
              "   'пираты-зомби': 2}},\n",
              " {'movie': 'На краю света', 'bodycount': {'люди': 88}},\n",
              " {'movie': 'Сундук мертвеца',\n",
              "  'bodycount': {'люди': 56, 'крабы отшельники': 1}},\n",
              " {'movie': 'Проклятие Черной жемчужины', 'bodycount': {'люди': 17}}]"
            ]
          },
          "execution_count": 2,
          "metadata": {},
          "output_type": "execute_result"
        }
      ],
      "source": [
        "stats"
      ]
    },
    {
      "cell_type": "code",
      "execution_count": null,
      "metadata": {
        "id": "OaiZkeqET0un"
      },
      "outputs": [],
      "source": [
        "from pprint import pprint  # pretty print"
      ]
    },
    {
      "cell_type": "markdown",
      "metadata": {
        "id": "gHCzPmftT0un"
      },
      "source": [
        "Что можно сделать:\n",
        "1. Пройтись по списку stats\n",
        "2. В каждом элементе взять словарь по ключу 'bodycount'\n",
        "3. В словаре по ключу 'bodycount' взять значение ключа 'люди'\n",
        "4. Просуммировать количество людей во всех шагах\n",
        "5. Поделить сумму людей на количество фильмов"
      ]
    },
    {
      "cell_type": "code",
      "execution_count": null,
      "metadata": {
        "id": "bLyitNzqT0uo",
        "outputId": "34cdee13-43cc-4420-ec83-3ba672ab52be"
      },
      "outputs": [
        {
          "name": "stdout",
          "output_type": "stream",
          "text": [
            "[{'bodycount': {'люди': 56,\n",
            "                'пираты-зомби': 2,\n",
            "                'русалки': 2,\n",
            "                'ядовитые жабы': 3},\n",
            "  'movie': 'На странных берегах'},\n",
            " {'bodycount': {'люди': 88}, 'movie': 'На краю света'},\n",
            " {'bodycount': {'крабы отшельники': 1, 'люди': 56}, 'movie': 'Сундук мертвеца'},\n",
            " {'bodycount': {'люди': 17}, 'movie': 'Проклятие Черной жемчужины'}]\n"
          ]
        }
      ],
      "source": [
        "pprint(stats)"
      ]
    },
    {
      "cell_type": "code",
      "execution_count": null,
      "metadata": {
        "id": "lhYCvL9PT0up",
        "outputId": "2db48b6c-8aa8-4aa1-831b-02f8e88f5588"
      },
      "outputs": [
        {
          "data": {
            "text/plain": [
              "list"
            ]
          },
          "execution_count": 5,
          "metadata": {},
          "output_type": "execute_result"
        }
      ],
      "source": [
        "type(stats)"
      ]
    },
    {
      "cell_type": "code",
      "execution_count": null,
      "metadata": {
        "id": "7onxJmyET0uq",
        "outputId": "b138e60b-663a-4ed4-d87f-18148a620347"
      },
      "outputs": [
        {
          "name": "stdout",
          "output_type": "stream",
          "text": [
            "217 4 54.25\n"
          ]
        }
      ],
      "source": [
        "count = 0\n",
        "\n",
        "for item in stats:\n",
        "    count += item['bodycount']['люди']\n",
        "    \n",
        "print(count, len(stats), count / len(stats))"
      ]
    },
    {
      "cell_type": "code",
      "execution_count": null,
      "metadata": {
        "id": "SqGSZuSZT0uq",
        "outputId": "62445f26-6b9d-48c7-ef0f-f9f0ab091d79"
      },
      "outputs": [
        {
          "data": {
            "text/plain": [
              "54.25"
            ]
          },
          "execution_count": 21,
          "metadata": {},
          "output_type": "execute_result"
        }
      ],
      "source": [
        "sum([x['bodycount']['люди'] for x in stats]) / len(stats)"
      ]
    },
    {
      "cell_type": "code",
      "execution_count": null,
      "metadata": {
        "id": "pOe8BJAkT0ur"
      },
      "outputs": [],
      "source": [
        ""
      ]
    },
    {
      "cell_type": "markdown",
      "metadata": {
        "id": "93yug0i7T0us"
      },
      "source": [
        "## Numpy и матричная алгебра"
      ]
    },
    {
      "cell_type": "code",
      "execution_count": null,
      "metadata": {
        "id": "qI8LJIaST0us"
      },
      "outputs": [],
      "source": [
        "import numpy as np"
      ]
    },
    {
      "cell_type": "code",
      "execution_count": null,
      "metadata": {
        "id": "M6JFYEUxT0ut"
      },
      "outputs": [],
      "source": [
        "x = np.array([1, 2, 3])\n",
        "y = np.array( [4, 5, 6] )"
      ]
    },
    {
      "cell_type": "code",
      "execution_count": null,
      "metadata": {
        "id": "xG0a5R8iT0ut",
        "outputId": "602350f8-ebfa-4d44-ff78-411bd54433e8"
      },
      "outputs": [
        {
          "data": {
            "text/plain": [
              "131283700.0"
            ]
          },
          "execution_count": 24,
          "metadata": {},
          "output_type": "execute_result"
        }
      ],
      "source": [
        "float('1.312837E+08')"
      ]
    },
    {
      "cell_type": "code",
      "execution_count": null,
      "metadata": {
        "id": "RLGFnADaT0uu"
      },
      "outputs": [],
      "source": [
        "# у переменной x тип, отличный от list\n",
        "type(x)"
      ]
    },
    {
      "cell_type": "code",
      "execution_count": null,
      "metadata": {
        "id": "n91w0xRhT0uu"
      },
      "outputs": [],
      "source": [
        "# дополнительные методы\n",
        "x.mean()"
      ]
    },
    {
      "cell_type": "code",
      "execution_count": null,
      "metadata": {
        "id": "-V1zxLX4T0uu"
      },
      "outputs": [],
      "source": [
        "x.cumsum()"
      ]
    },
    {
      "cell_type": "code",
      "execution_count": null,
      "metadata": {
        "id": "dAOj8F7pT0uv"
      },
      "outputs": [],
      "source": [
        "for "
      ]
    },
    {
      "cell_type": "markdown",
      "metadata": {
        "id": "GbWWoV90T0uv"
      },
      "source": [
        "## Скорость\n",
        "- numpy\n",
        "- for python\n",
        "- pandas"
      ]
    },
    {
      "cell_type": "markdown",
      "metadata": {
        "id": "92KTo-PxT0uv"
      },
      "source": [
        "### Поэлементные операции"
      ]
    },
    {
      "cell_type": "code",
      "execution_count": null,
      "metadata": {
        "id": "6WvXY-o0T2Lc",
        "outputId": "d3a14eb9-c324-47ee-87bc-33ba327f8957"
      },
      "outputs": [
        {
          "data": {
            "text/plain": [
              "25"
            ]
          },
          "execution_count": 5,
          "metadata": {},
          "output_type": "execute_result"
        }
      ],
      "source": [
        "5 *5"
      ]
    },
    {
      "cell_type": "code",
      "execution_count": null,
      "metadata": {
        "id": "GAePQbEdT2Ld",
        "outputId": "d500521a-4289-4faa-a5df-0112a5b74bf0"
      },
      "outputs": [
        {
          "data": {
            "text/plain": [
              "10"
            ]
          },
          "execution_count": 6,
          "metadata": {},
          "output_type": "execute_result"
        }
      ],
      "source": [
        "5 + 5"
      ]
    },
    {
      "cell_type": "code",
      "execution_count": null,
      "metadata": {
        "id": "77dEzhNGT2Le",
        "outputId": "99f9cd9d-b42d-41d5-b665-e348d69a410a"
      },
      "outputs": [
        {
          "data": {
            "text/plain": [
              "'55'"
            ]
          },
          "execution_count": 7,
          "metadata": {},
          "output_type": "execute_result"
        }
      ],
      "source": [
        "'5' + '5'"
      ]
    },
    {
      "cell_type": "code",
      "execution_count": null,
      "metadata": {
        "id": "jwmcFnhNT0uw",
        "outputId": "f1e14e45-6693-41f3-9258-3e2ef1796ad8"
      },
      "outputs": [
        {
          "data": {
            "text/plain": [
              "(array([1, 2, 3]), array([4, 5, 6]))"
            ]
          },
          "execution_count": 25,
          "metadata": {},
          "output_type": "execute_result"
        }
      ],
      "source": [
        "x, y"
      ]
    },
    {
      "cell_type": "code",
      "execution_count": null,
      "metadata": {
        "scrolled": true,
        "id": "LaXAT0PRT0uw",
        "outputId": "a41c6d40-4ebf-4682-bd7b-bdadaa10e223"
      },
      "outputs": [
        {
          "data": {
            "text/plain": [
              "array([5, 7, 9])"
            ]
          },
          "execution_count": 26,
          "metadata": {},
          "output_type": "execute_result"
        }
      ],
      "source": [
        "x + y"
      ]
    },
    {
      "cell_type": "code",
      "execution_count": null,
      "metadata": {
        "id": "BvjyDuVIT0ux",
        "outputId": "9f69998f-8d16-4327-fba2-683d4eba76d4"
      },
      "outputs": [
        {
          "data": {
            "text/plain": [
              "[1, 2, 3, 4, 5, 6]"
            ]
          },
          "execution_count": 27,
          "metadata": {},
          "output_type": "execute_result"
        }
      ],
      "source": [
        "[1, 2, 3] + [4, 5, 6]"
      ]
    },
    {
      "cell_type": "code",
      "execution_count": null,
      "metadata": {
        "id": "vOAbyj2mT0ux"
      },
      "outputs": [],
      "source": [
        "x - y"
      ]
    },
    {
      "cell_type": "code",
      "execution_count": null,
      "metadata": {
        "scrolled": true,
        "id": "AEy6-iBGT0ux"
      },
      "outputs": [],
      "source": [
        "x * y"
      ]
    },
    {
      "cell_type": "code",
      "execution_count": null,
      "metadata": {
        "scrolled": true,
        "id": "5IOU6-jET0uy"
      },
      "outputs": [],
      "source": [
        "x / y"
      ]
    },
    {
      "cell_type": "code",
      "execution_count": null,
      "metadata": {
        "scrolled": true,
        "id": "0qBHz0tfT0uy"
      },
      "outputs": [],
      "source": [
        "# элементы массива x возводятся в соответствующие степени элементов массива y\n",
        "x ** y"
      ]
    },
    {
      "cell_type": "code",
      "execution_count": null,
      "metadata": {
        "scrolled": true,
        "id": "Hi7RSYuAT0uy"
      },
      "outputs": [],
      "source": [
        "# остаток от деления\n",
        "# обратите внимание, что для удобства данного примера x и y идут в другом порядке\n",
        "\n",
        "y % x"
      ]
    },
    {
      "cell_type": "markdown",
      "metadata": {
        "id": "059JHd9_T0uz"
      },
      "source": [
        "### Автоматическое наполнение массивов"
      ]
    },
    {
      "cell_type": "code",
      "execution_count": null,
      "metadata": {
        "id": "pEMzalPyT0uz"
      },
      "outputs": [],
      "source": [
        "# аналог range\n",
        "\n",
        "np.arange(0, 10)"
      ]
    },
    {
      "cell_type": "code",
      "execution_count": null,
      "metadata": {
        "id": "8SSF2h9XT2Lj",
        "outputId": "2e024b9a-22c5-4ba3-f83d-bc3cda2ac95d"
      },
      "outputs": [
        {
          "data": {
            "text/plain": [
              "[0, 1, 2, 3, 4, 5, 6, 7, 8, 9]"
            ]
          },
          "execution_count": 23,
          "metadata": {},
          "output_type": "execute_result"
        }
      ],
      "source": [
        "list(range(10))"
      ]
    },
    {
      "cell_type": "code",
      "execution_count": null,
      "metadata": {
        "id": "uv1vXhBaT2Lj",
        "outputId": "9944507a-c7b9-4a55-b3de-aa6b4d11569d",
        "colab": {
          "base_uri": "https://localhost:8080/"
        }
      },
      "outputs": [
        {
          "output_type": "stream",
          "name": "stdout",
          "text": [
            "0\n"
          ]
        }
      ],
      "source": [
        "for i in range(10**20):\n",
        "    print(i)\n",
        "    break"
      ]
    },
    {
      "cell_type": "code",
      "execution_count": null,
      "metadata": {
        "scrolled": true,
        "id": "S5uRhoNbT0uz",
        "outputId": "2525aef7-76c5-4e90-ea79-3a2d650db2f7"
      },
      "outputs": [
        {
          "data": {
            "text/plain": [
              "array([1, 1, 1, 1, 1, 1, 1, 1, 1, 1])"
            ]
          },
          "execution_count": 28,
          "metadata": {},
          "output_type": "execute_result"
        }
      ],
      "source": [
        "# создать массив из 10 чисел, заполненных единицами\n",
        "np.full(10, 1)"
      ]
    },
    {
      "cell_type": "code",
      "execution_count": null,
      "metadata": {
        "id": "1u8q7qiOT0u0"
      },
      "outputs": [],
      "source": [
        "# создать матрицу 2х5 из нулей\n",
        "np.full([2, 5], 0)"
      ]
    },
    {
      "cell_type": "code",
      "execution_count": null,
      "metadata": {
        "id": "ZCjWEjNQT0u0",
        "colab": {
          "base_uri": "https://localhost:8080/"
        },
        "outputId": "59f9d396-dc1f-4b4e-9dc2-d2667d22effe"
      },
      "outputs": [
        {
          "output_type": "execute_result",
          "data": {
            "text/plain": [
              "array([0, 1, 2, 3, 4, 5, 6, 7, 8, 9])"
            ]
          },
          "metadata": {},
          "execution_count": 4
        }
      ],
      "source": [
        "# объединить массивы в один\n",
        "a = np.arange(10)\n",
        "b = np.arange(10, 20)\n",
        "\n",
        "# обратите внимание на двойные скобки\n",
        "np.concatenate((a, b))\n",
        "b\n",
        "a"
      ]
    },
    {
      "cell_type": "code",
      "execution_count": null,
      "metadata": {
        "id": "ryRVgpLtT0u0",
        "outputId": "682dc998-e890-45d8-d166-525be9f7b067"
      },
      "outputs": [
        {
          "data": {
            "text/plain": [
              "array([3, 5, 2, 9, 1, 6, 8, 4, 7, 0])"
            ]
          },
          "execution_count": 60,
          "metadata": {},
          "output_type": "execute_result"
        }
      ],
      "source": [
        "# перемешать элементы массива\n",
        "import random\n",
        "\n",
        "nums = np.arange(10)\n",
        "random.shuffle(nums)\n",
        "\n",
        "nums"
      ]
    },
    {
      "cell_type": "markdown",
      "metadata": {
        "id": "7oADqS85T0u1"
      },
      "source": [
        "### Упражнение\n",
        "По мотивам https://thecode.media/choose-life/\n",
        "\n",
        "По результатам собеседования вам предлагают определенную зарплату. И конверт, который может случайным образом снизить или увеличить эту зарплату вдвое. Т. е. если сначала была сумма Х, то после вскрытия конверта она может стать 0.5Х или 2Х. Как в среднем изменится будущая зарплата, если соискатель решил открыть конверт?\n",
        "\n",
        "Смоделируйте процесс изменения условной зарплаты в 1000 в случае открытия конверта:\n",
        "1. Задайте переменную n_samples = 1000\n",
        "2. Создайте numpy array из n_samples элементов, равных зарплате 0.5Х. И такой же с зарплатой 2Х.\n",
        "3. Объедините их в один массив\n",
        "4. Перемешайте значения в получившемся массиве\n",
        "5. Посчитайте среднее значение зарплаты для объединенного массива"
      ]
    },
    {
      "cell_type": "code",
      "execution_count": null,
      "metadata": {
        "id": "lfghaKL9T0u1"
      },
      "outputs": [],
      "source": [
        "n_samples = 1000"
      ]
    },
    {
      "cell_type": "code",
      "execution_count": null,
      "metadata": {
        "id": "YnT6LbesT0u2",
        "outputId": "b8b433ae-f2e1-4369-932e-f6ef69258336"
      },
      "outputs": [
        {
          "data": {
            "text/plain": [
              "array([2000, 2000, 2000, 2000, 2000])"
            ]
          },
          "execution_count": 58,
          "metadata": {},
          "output_type": "execute_result"
        }
      ],
      "source": [
        "sample_x2 = np.full(n_samples, 2*1000)\n",
        "sample_x2[:5]"
      ]
    },
    {
      "cell_type": "code",
      "execution_count": null,
      "metadata": {
        "id": "OCbTSXZKT0u2",
        "outputId": "2d2e8b91-17c4-4fe7-eaea-43280946ae39"
      },
      "outputs": [
        {
          "data": {
            "text/plain": [
              "array([500., 500., 500., 500., 500.])"
            ]
          },
          "execution_count": 59,
          "metadata": {},
          "output_type": "execute_result"
        }
      ],
      "source": [
        "sample_x05 = np.full(n_samples, 0.5*1000)\n",
        "sample_x05[:5]"
      ]
    },
    {
      "cell_type": "code",
      "execution_count": null,
      "metadata": {
        "id": "ilkfU6gVT0u2",
        "outputId": "664ab6fc-4717-489a-9a9b-033170070eeb"
      },
      "outputs": [
        {
          "data": {
            "text/plain": [
              "array([2000., 2000., 2000.,  500.,  500.,  500., 2000., 2000., 2000.,\n",
              "       2000., 2000., 2000., 2000., 2000., 2000., 2000., 2000.,  500.,\n",
              "        500.,  500.])"
            ]
          },
          "execution_count": 61,
          "metadata": {},
          "output_type": "execute_result"
        }
      ],
      "source": [
        "total = np.concatenate([sample_x2, sample_x05])\n",
        "random.shuffle(total)\n",
        "total[:20]"
      ]
    },
    {
      "cell_type": "code",
      "execution_count": null,
      "metadata": {
        "id": "jBnlxKk7T0u3",
        "outputId": "1bc2fb97-d39a-4f20-d33b-531d008dc205"
      },
      "outputs": [
        {
          "data": {
            "text/plain": [
              "1250.0"
            ]
          },
          "execution_count": 62,
          "metadata": {},
          "output_type": "execute_result"
        }
      ],
      "source": [
        "total.mean()"
      ]
    },
    {
      "cell_type": "code",
      "execution_count": null,
      "metadata": {
        "id": "zfgIgCQXT0u3"
      },
      "outputs": [],
      "source": [
        "500 <-- 1000 -----------> 2000"
      ]
    },
    {
      "cell_type": "code",
      "execution_count": null,
      "metadata": {
        "id": "HJnEKsd_T0u3"
      },
      "outputs": [],
      "source": [
        " <-- 1000 --> 100%"
      ]
    },
    {
      "cell_type": "code",
      "execution_count": null,
      "metadata": {
        "id": "V-k2sevUT0u4"
      },
      "outputs": [],
      "source": [
        ""
      ]
    },
    {
      "cell_type": "code",
      "execution_count": null,
      "metadata": {
        "id": "6Xrk12dCT0u4"
      },
      "outputs": [],
      "source": [
        "x = np.array([[1, 2, 3], [4, 5, 6]])"
      ]
    },
    {
      "cell_type": "code",
      "execution_count": null,
      "metadata": {
        "id": "4Z7Thy4fT0u4",
        "outputId": "ce7968b7-dcde-4d15-8ef7-2e1094c3c70b"
      },
      "outputs": [
        {
          "data": {
            "text/plain": [
              "array([[1, 2, 3],\n",
              "       [4, 5, 6]])"
            ]
          },
          "execution_count": 35,
          "metadata": {},
          "output_type": "execute_result"
        }
      ],
      "source": [
        "x"
      ]
    },
    {
      "cell_type": "code",
      "execution_count": null,
      "metadata": {
        "id": "BJgnG_ZST0u5",
        "outputId": "2da3daa7-f31e-48ab-aba3-9a3545fdb372"
      },
      "outputs": [
        {
          "data": {
            "text/plain": [
              "array([5, 7, 9])"
            ]
          },
          "execution_count": 38,
          "metadata": {},
          "output_type": "execute_result"
        }
      ],
      "source": [
        "np.sum(x, axis=0)"
      ]
    },
    {
      "cell_type": "code",
      "execution_count": null,
      "metadata": {
        "id": "oQe2TbUOT0u6",
        "outputId": "46999b62-36e9-491c-e750-4f7b795d0fd4"
      },
      "outputs": [
        {
          "data": {
            "text/plain": [
              "array([[1, 2, 3],\n",
              "       [4, 5, 6]])"
            ]
          },
          "execution_count": 40,
          "metadata": {},
          "output_type": "execute_result"
        }
      ],
      "source": [
        "x = np.array([[1, 2, 3], [4, 5, 6]])\n",
        "x"
      ]
    },
    {
      "cell_type": "code",
      "execution_count": null,
      "metadata": {
        "id": "evQM7wf0T0u6",
        "outputId": "dddc2a15-26b3-461a-c0aa-2a7792e51acc"
      },
      "outputs": [
        {
          "name": "stdout",
          "output_type": "stream",
          "text": [
            "CPU times: user 4.05 ms, sys: 8 µs, total: 4.06 ms\n",
            "Wall time: 4.06 ms\n"
          ]
        }
      ],
      "source": [
        "%%time\n",
        "\n",
        "for _ in range(10**3):\n",
        "    np.sum(x)"
      ]
    },
    {
      "cell_type": "code",
      "execution_count": null,
      "metadata": {
        "id": "7nrD2nIiT0u6"
      },
      "outputs": [],
      "source": [
        "x = np.array(range(10**6))"
      ]
    },
    {
      "cell_type": "code",
      "execution_count": null,
      "metadata": {
        "id": "b8qVPnLtT0u7",
        "outputId": "5a1f490b-4dc4-429a-e48d-f49b75529443"
      },
      "outputs": [
        {
          "data": {
            "text/plain": [
              "6"
            ]
          },
          "execution_count": 48,
          "metadata": {},
          "output_type": "execute_result"
        }
      ],
      "source": [
        "sum_ = 0\n",
        "for i in x:\n",
        "    sum_ += i\n",
        "    \n",
        "sum_"
      ]
    },
    {
      "cell_type": "code",
      "execution_count": null,
      "metadata": {
        "id": "Mo2sB_jnT0u7",
        "outputId": "c367522c-610d-4d5a-d818-f888510c4c5c"
      },
      "outputs": [
        {
          "name": "stdout",
          "output_type": "stream",
          "text": [
            "CPU times: user 584 ms, sys: 4.76 ms, total: 589 ms\n",
            "Wall time: 596 ms\n"
          ]
        }
      ],
      "source": [
        "%%time\n",
        "\n",
        "for _ in range(10**3):\n",
        "    np.sum(x)"
      ]
    },
    {
      "cell_type": "code",
      "execution_count": null,
      "metadata": {
        "id": "gd-vspW8T0u7",
        "outputId": "c0cf12e0-bd14-497b-f496-bbd5f3d96c9f"
      },
      "outputs": [
        {
          "ename": "KeyboardInterrupt",
          "evalue": "",
          "output_type": "error",
          "traceback": [
            "\u001b[0;31m---------------------------------------------------------------------------\u001b[0m",
            "\u001b[0;31mKeyboardInterrupt\u001b[0m                         Traceback (most recent call last)",
            "\u001b[0;32m<timed exec>\u001b[0m in \u001b[0;36m<module>\u001b[0;34m\u001b[0m\n",
            "\u001b[0;31mKeyboardInterrupt\u001b[0m: "
          ]
        }
      ],
      "source": [
        "%%time\n",
        "\n",
        "for _ in range(10**3):\n",
        "    sum_ = 0\n",
        "    for i in x:\n",
        "        sum_ += i"
      ]
    },
    {
      "cell_type": "markdown",
      "metadata": {
        "id": "D7kNOys3T0u8"
      },
      "source": [
        "### Изменение размерности"
      ]
    },
    {
      "cell_type": "code",
      "execution_count": null,
      "metadata": {
        "id": "6PDo2PG4T0u8"
      },
      "outputs": [],
      "source": [
        "x = np.arange( 0, 10 )\n",
        "x"
      ]
    },
    {
      "cell_type": "code",
      "execution_count": null,
      "metadata": {
        "id": "6mdLDJzhT0u8"
      },
      "outputs": [],
      "source": [
        "# 10 - количество строк\n",
        "\n",
        "x.shape"
      ]
    },
    {
      "cell_type": "code",
      "execution_count": null,
      "metadata": {
        "id": "Il1YhRxfT0u8"
      },
      "outputs": [],
      "source": [
        "# первый аргумент - количество строк\n",
        "# второй - столбцов\n",
        "\n",
        "x.reshape(5, 2)"
      ]
    },
    {
      "cell_type": "code",
      "execution_count": null,
      "metadata": {
        "scrolled": true,
        "id": "W77tz_CCT0u9"
      },
      "outputs": [],
      "source": [
        "x.reshape(3, 3)"
      ]
    },
    {
      "cell_type": "code",
      "execution_count": null,
      "metadata": {
        "id": "0taGyzEBT0u9"
      },
      "outputs": [],
      "source": [
        "# транспонирование матриц\n",
        "\n",
        "np.array(\n",
        "    [\n",
        "        [1, 2],\n",
        "        [3, 4],\n",
        "        [5, 6]\n",
        "    ]\n",
        ").T"
      ]
    },
    {
      "cell_type": "code",
      "execution_count": null,
      "metadata": {
        "id": "9dEurCJST0u9"
      },
      "outputs": [],
      "source": [
        "# склеивание набора списков\n",
        "[1, 2, 3] + [4, 5, 6]"
      ]
    },
    {
      "cell_type": "code",
      "execution_count": null,
      "metadata": {
        "id": "ZQ95PAOWT0u9"
      },
      "outputs": [],
      "source": [
        "# склеивание массива из списков\n",
        "\n",
        "x = np.array( [ [1, 2, 3], [4, 5, 6] ] )\n",
        "x.ravel()"
      ]
    },
    {
      "cell_type": "code",
      "execution_count": null,
      "metadata": {
        "id": "I-7TsSAiT0u-"
      },
      "outputs": [],
      "source": [
        "# можно и так\n",
        "\n",
        "x.reshape(6)"
      ]
    },
    {
      "cell_type": "code",
      "execution_count": null,
      "metadata": {
        "id": "DJLtX3U5T0u-"
      },
      "outputs": [],
      "source": [
        "# результат разный, если добавить 1 в качестве количества строк\n",
        "\n",
        "x.reshape(1, 6)"
      ]
    },
    {
      "cell_type": "markdown",
      "metadata": {
        "id": "mYH8410TT0u-"
      },
      "source": [
        "### Создание матриц"
      ]
    },
    {
      "cell_type": "code",
      "execution_count": null,
      "metadata": {
        "id": "yZa_1nlmT0u_"
      },
      "outputs": [],
      "source": [
        "# нулевой вектор заданной размерности\n",
        "\n",
        "np.zeros(10)"
      ]
    },
    {
      "cell_type": "code",
      "execution_count": null,
      "metadata": {
        "id": "KnSFtpc6T0u_"
      },
      "outputs": [],
      "source": [
        "# единичная матрица\n",
        "\n",
        "np.eye(5)"
      ]
    },
    {
      "cell_type": "code",
      "execution_count": null,
      "metadata": {
        "id": "-b8DCuwpT0u_"
      },
      "outputs": [],
      "source": [
        "# более общий случай диагональной матрицы\n",
        "\n",
        "np.diag(np.arange(2, 50, 15), k=0)"
      ]
    },
    {
      "cell_type": "code",
      "execution_count": null,
      "metadata": {
        "id": "3eusPkRlT2Lq",
        "outputId": "24627160-f77a-48f4-db11-7f57c8751b38"
      },
      "outputs": [
        {
          "data": {
            "text/plain": [
              "array([[ 0,  2,  0,  0,  0],\n",
              "       [ 0,  0, 17,  0,  0],\n",
              "       [ 0,  0,  0, 32,  0],\n",
              "       [ 0,  0,  0,  0, 47],\n",
              "       [ 0,  0,  0,  0,  0]])"
            ]
          },
          "execution_count": 41,
          "metadata": {},
          "output_type": "execute_result"
        }
      ],
      "source": [
        "# более общий случай диагональной матрицы\n",
        "\n",
        "np.diag(np.arange(2, 50, 15), k=1)"
      ]
    },
    {
      "cell_type": "code",
      "execution_count": null,
      "metadata": {
        "id": "kbzsFVnfT0u_"
      },
      "outputs": [],
      "source": [
        "# матрица со случайными значениями\n",
        "\n",
        "np.random.random(10)"
      ]
    },
    {
      "cell_type": "code",
      "execution_count": null,
      "metadata": {
        "id": "P11UXcY8T0u_"
      },
      "outputs": [],
      "source": [
        "# более универсальный вариант создания матриц\n",
        "\n",
        "?np.linspace"
      ]
    },
    {
      "cell_type": "code",
      "execution_count": null,
      "metadata": {
        "scrolled": false,
        "id": "MhXuRLxlT0vA"
      },
      "outputs": [],
      "source": [
        "np.linspace(5, 25, 30)"
      ]
    },
    {
      "cell_type": "markdown",
      "metadata": {
        "id": "rMyLlE_qT0vA"
      },
      "source": [
        "### Более сложные распределения\n",
        "\n",
        "https://docs.scipy.org/doc/scipy-0.14.0/reference/generated/scipy.signal.gaussian.html"
      ]
    },
    {
      "cell_type": "markdown",
      "metadata": {
        "id": "noYnyMxTT0vA"
      },
      "source": [
        "## Скалярное произведение векторов"
      ]
    },
    {
      "cell_type": "markdown",
      "metadata": {
        "id": "3rH6SUEOT0vB"
      },
      "source": [
        "\\begin{equation*}\n",
        "\\LARGE\n",
        "\\vec{a} \\dot{} \\vec{b} = |\\vec{a}| \\space |\\vec{b}| \\space cos(\\vec{a}, \\vec{b})\n",
        "\\end{equation*}"
      ]
    },
    {
      "cell_type": "markdown",
      "metadata": {
        "id": "h4Ju9XFwT0vB"
      },
      "source": [
        "Пусть \n",
        "\\begin{equation*}\n",
        "\\LARGE\n",
        "\\vec{a} = (a_1, a_2, a_3) \\\\\n",
        "\\LARGE\n",
        "\\vec{b} = (b_1, b_2, b_3)\n",
        "\\end{equation*}"
      ]
    },
    {
      "cell_type": "markdown",
      "metadata": {
        "id": "OutAjU5QT0vB"
      },
      "source": [
        "Тогда скалярное произведение векторов равно\n",
        "\\begin{equation*}\n",
        "\\LARGE\n",
        "\\vec{a} \\dot{} \\vec{b} = a_1 b_1 + a_2 b_2 + a_3 b_3\n",
        "\\end{equation*}"
      ]
    },
    {
      "cell_type": "code",
      "execution_count": null,
      "metadata": {
        "id": "uQXEIkjcT0vB"
      },
      "outputs": [],
      "source": [
        "a = np.array( [4, 3] )\n",
        "b = np.array( [2, 1] )"
      ]
    },
    {
      "cell_type": "markdown",
      "metadata": {
        "id": "XkStXPlUT0vC"
      },
      "source": [
        "Пример расчета скалярного произведения векторов"
      ]
    },
    {
      "cell_type": "code",
      "execution_count": null,
      "metadata": {
        "id": "8zFboAgET2Lu",
        "outputId": "3c0a14a4-f29e-4985-882e-77bad4e770c7"
      },
      "outputs": [
        {
          "data": {
            "text/plain": [
              "11"
            ]
          },
          "execution_count": 48,
          "metadata": {},
          "output_type": "execute_result"
        }
      ],
      "source": [
        "4*2 + 3*1"
      ]
    },
    {
      "cell_type": "code",
      "execution_count": null,
      "metadata": {
        "id": "vcRDNhNoT0vC"
      },
      "outputs": [],
      "source": [
        "np.dot( a, b )"
      ]
    },
    {
      "cell_type": "markdown",
      "metadata": {
        "id": "Lo3FsCi3T0vC"
      },
      "source": [
        "Можно посчитать и таким образом"
      ]
    },
    {
      "cell_type": "code",
      "execution_count": null,
      "metadata": {
        "id": "iBOdn3kLT0vD"
      },
      "outputs": [],
      "source": [
        "# первый шаг\n",
        "\n",
        "for pair in zip( a, b ):\n",
        "    print( pair )"
      ]
    },
    {
      "cell_type": "code",
      "execution_count": null,
      "metadata": {
        "id": "YVoRFVZJT0vD"
      },
      "outputs": [],
      "source": [
        "# второй шаг\n",
        "\n",
        "[ pair[0] * pair[1] for pair in zip( a, b ) ]"
      ]
    },
    {
      "cell_type": "code",
      "execution_count": null,
      "metadata": {
        "id": "BUxiwD9bT0vE"
      },
      "outputs": [],
      "source": [
        "# итоговый результат\n",
        "\n",
        "sum( [ pair[0] * pair[1] for pair in zip( a, b ) ] )"
      ]
    },
    {
      "cell_type": "markdown",
      "metadata": {
        "id": "LObW8tqyT0vE"
      },
      "source": [
        "## Косинусное сходство между векторами"
      ]
    },
    {
      "cell_type": "markdown",
      "metadata": {
        "id": "AXMPa9P2T0vE"
      },
      "source": [
        "\\begin{equation*}\n",
        "\\LARGE\n",
        "cos(\\vec{a}, \\vec{b}) = \\frac{\\vec{a} \\dot{} \\vec{b}}{|\\vec{a}| \\space |\\vec{b}|}\n",
        "\\end{equation*}"
      ]
    },
    {
      "cell_type": "code",
      "execution_count": null,
      "metadata": {
        "id": "wdtxiu63T0vE"
      },
      "outputs": [],
      "source": [
        "import matplotlib.pyplot as plt"
      ]
    },
    {
      "cell_type": "code",
      "execution_count": null,
      "metadata": {
        "id": "0Jxu31KdT0vF",
        "colab": {
          "base_uri": "https://localhost:8080/",
          "height": 269
        },
        "outputId": "201342f1-9e6e-4c68-d322-b9d0d5fab34e"
      },
      "outputs": [
        {
          "output_type": "display_data",
          "data": {
            "text/plain": [
              "<Figure size 432x288 with 1 Axes>"
            ],
            "image/png": "[encoded data removed]"
          },
          "metadata": {
            "needs_background": "light"
          }
        }
      ],
      "source": [
        "ax = plt.axes()\n",
        "\n",
        "plt.xlim( [0, 5] )\n",
        "plt.ylim( [0, 4] )\n",
        "\n",
        "ax.arrow( 0, 0, a[0], a[1], head_width=0.1, head_length=0.2, fc='k', ec='k' )\n",
        "ax.arrow( 0, 0, b[0], b[1], head_width=0.1, head_length=0.2, fc='k', ec='k' )\n",
        "\n",
        "plt.show()"
      ]
    },
    {
      "cell_type": "code",
      "execution_count": null,
      "metadata": {
        "id": "JuAG5HvuT0vF"
      },
      "outputs": [],
      "source": [
        "def cosine( a, b ):\n",
        "    \"\"\"\n",
        "    Подсчет косинуса угла между векторами a, b по их координатам\n",
        "    \"\"\"\n",
        "    \n",
        "    # длины векторов\n",
        "    aLength = np.linalg.norm( a )\n",
        "    bLength = np.linalg.norm( b )\n",
        "    \n",
        "    return np.dot( a, b ) / ( aLength * bLength )"
      ]
    },
    {
      "cell_type": "code",
      "execution_count": null,
      "metadata": {
        "id": "FIOv17IvT0vF"
      },
      "outputs": [],
      "source": [
        "# длины векторов можно было посчитать и так\n",
        "\n",
        "aLength = np.sqrt( (a*a).sum() )\n",
        "bLength = np.sqrt( (b*b).sum() )"
      ]
    },
    {
      "cell_type": "code",
      "execution_count": null,
      "metadata": {
        "scrolled": true,
        "id": "RbunEz7ST0vG",
        "colab": {
          "base_uri": "https://localhost:8080/"
        },
        "outputId": "4284d5cc-8540-4802-8cc3-15ce68a7eb2d"
      },
      "outputs": [
        {
          "output_type": "execute_result",
          "data": {
            "text/plain": [
              "0.9838699100999074"
            ]
          },
          "metadata": {},
          "execution_count": 8
        }
      ],
      "source": [
        "cosine( a, b )"
      ]
    },
    {
      "cell_type": "code",
      "execution_count": null,
      "metadata": {
        "id": "ztv0fbM-T0vG"
      },
      "outputs": [],
      "source": [
        "# угол между векторами в радианах\n",
        "\n",
        "np.arccos( cosine( a, b ) )"
      ]
    },
    {
      "cell_type": "code",
      "execution_count": null,
      "metadata": {
        "id": "d36PqQ6OT0vG"
      },
      "outputs": [],
      "source": [
        "# угол между векторами в градусах\n",
        "\n",
        "np.arccos( cosine( a, b ) ) * 360 / 2 / np.pi"
      ]
    },
    {
      "cell_type": "markdown",
      "metadata": {
        "id": "CJSTvtmST0vG"
      },
      "source": [
        "## Задача 4 домашнего задания"
      ]
    },
    {
      "cell_type": "markdown",
      "metadata": {
        "id": "vQc3hPJ3T0vH"
      },
      "source": [
        "Имеется матрица покупок в интернет-магазине. Столбец А - ID пользователя. Остальные столбцы - количество покупок категорий товаров этим пользователем:"
      ]
    },
    {
      "cell_type": "markdown",
      "source": [
        "![image.png](data:image/png;base64,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)"
      ],
      "metadata": {
        "id": "HzJYXW_uZ74S"
      }
    },
    {
      "cell_type": "code",
      "execution_count": null,
      "metadata": {
        "scrolled": true,
        "id": "CXnPuiVzT0vH",
        "colab": {
          "base_uri": "https://localhost:8080/",
          "height": 34
        },
        "outputId": "803cb0e6-4745-4776-f929-90a7b6ae9d93"
      },
      "outputs": [
        {
          "output_type": "execute_result",
          "data": {
            "text/plain": [
              "<IPython.core.display.Image object>"
            ],
            "image/png": "user_matrix.JPG"
          },
          "metadata": {},
          "execution_count": 9
        }
      ],
      "source": [
        "from IPython.display import Image\n",
        "Image(\"user_matrix.JPG\")"
      ]
    },
    {
      "cell_type": "markdown",
      "metadata": {
        "id": "TLxjjI8GT0vH"
      },
      "source": [
        "Матрица в виде numpy array"
      ]
    },
    {
      "cell_type": "code",
      "execution_count": null,
      "metadata": {
        "id": "R2zVD_lnT0vH"
      },
      "outputs": [],
      "source": [
        "users_stats = np.array(\n",
        "    [\n",
        "        [2, 1, 0, 0, 0, 0],\n",
        "        [1, 1, 2, 1, 0, 0],\n",
        "        [2, 0, 1, 0, 0, 0],\n",
        "        [1, 1, 2, 1, 0, 1],\n",
        "        [0, 0, 1, 2, 0, 0],\n",
        "        [0, 0, 0, 0, 0, 5],\n",
        "        [1, 0, 0, 0, 0, 0],\n",
        "        [0, 1, 1, 0, 0, 0],\n",
        "        [0, 0, 0, 1, 1, 3],\n",
        "        [1, 0, 0, 2, 1, 4]\n",
        "    ], \n",
        "    np.int32\n",
        ")"
      ]
    },
    {
      "cell_type": "markdown",
      "metadata": {
        "id": "FICN9jVeT0vI"
      },
      "source": [
        "На сайт заходит очередной посетитель, о покупках которого известно следующее:"
      ]
    },
    {
      "cell_type": "code",
      "execution_count": null,
      "metadata": {
        "id": "hT-zL4cbT0vI"
      },
      "outputs": [],
      "source": [
        "next_user_stats = np.array([0, 1, 2, 0, 0, 0])"
      ]
    },
    {
      "cell_type": "markdown",
      "metadata": {
        "id": "764Y5TstT0vI"
      },
      "source": [
        "Найдите самого похожего пользователя. Т. е. посчитайте косинусное сходство между этим пользователем и всеми пользователями из массива user_stats"
      ]
    },
    {
      "cell_type": "code",
      "execution_count": null,
      "metadata": {
        "id": "YFl9zAMtT0vI"
      },
      "outputs": [],
      "source": [
        ""
      ]
    },
    {
      "cell_type": "code",
      "execution_count": null,
      "metadata": {
        "id": "WWTGxeEjT0vJ"
      },
      "outputs": [],
      "source": [
        ""
      ]
    },
    {
      "cell_type": "code",
      "execution_count": null,
      "metadata": {
        "id": "XTeac-PJT0vJ"
      },
      "outputs": [],
      "source": [
        ""
      ]
    },
    {
      "cell_type": "markdown",
      "metadata": {
        "id": "sGsBiG7zT0vJ"
      },
      "source": [
        "## Перемножение матриц"
      ]
    },
    {
      "cell_type": "markdown",
      "metadata": {
        "id": "y8yXM8M5T0vJ"
      },
      "source": [
        "**Определение**\n",
        "\n",
        "Пусть даны две матрицы a и b размером l x m и m x n соответственно. l - количество строк, n - количество столбцов.\n",
        "\n",
        "\\begin{equation*}\n",
        "\\LARGE\n",
        "a = \n",
        "\\begin{bmatrix}\n",
        "    a_{11} & a_{12} \\dots a_{1m} \\\\\n",
        "    a_{21} & a_{22} \\dots a_{2m} \\\\\n",
        "    \\vdots & \\vdots \\dots \\vdots \\\\\n",
        "    a_{l1} & a_{l2} \\dots a_{lm}\n",
        "\\end{bmatrix}\n",
        "\\end{equation*}\n",
        "\n",
        "<br>\n",
        "\n",
        "\\begin{equation*}\n",
        "\\LARGE\n",
        "b = \n",
        "\\begin{bmatrix}\n",
        "    b_{11} & b_{12} \\dots b_{1n} \\\\\n",
        "    b_{21} & b_{22} \\dots b_{2n} \\\\\n",
        "    \\vdots & \\vdots \\dots \\vdots \\\\\n",
        "    b_{m1} & b_{m2} \\dots b_{mn}\n",
        "\\end{bmatrix}\n",
        "\\end{equation*}"
      ]
    },
    {
      "cell_type": "markdown",
      "metadata": {
        "id": "fxr6KuchT0vK"
      },
      "source": [
        "Тогда произведением матриц a и b будет матрица c размерностью l x n:\n",
        "\n",
        "\\begin{equation*}\n",
        "\\LARGE\n",
        "c = \n",
        "\\begin{bmatrix}\n",
        "    c_{11} & c_{12} \\dots c_{1n} \\\\\n",
        "    c_{21} & c_{22} \\dots c_{2n} \\\\\n",
        "    \\vdots & \\vdots \\dots \\vdots \\\\\n",
        "    c_{l1} & c_{l2} \\dots c_{ln}\n",
        "\\end{bmatrix}\n",
        "\\end{equation*}\n",
        "\n",
        "<br>\n",
        "\n",
        "\\begin{equation*}\n",
        "\\LARGE\n",
        "c_{ij} = \\sum_{k=1}^m a_{ik} b_{kj}\n",
        "\\end{equation*}"
      ]
    },
    {
      "cell_type": "markdown",
      "metadata": {
        "id": "Y4V1Kx-iT0vK"
      },
      "source": [
        "<img src = 'https://wikimedia.org/api/rest_v1/media/math/render/svg/1f96c71f0a99eac3ee872e7baf22e84324d7b4c9' style=\"width: 80%\"></img>"
      ]
    },
    {
      "cell_type": "code",
      "execution_count": null,
      "metadata": {
        "id": "aFf8zVkgT0vK"
      },
      "outputs": [],
      "source": [
        "a = np.array( \n",
        "    [\n",
        "        [1, 2],\n",
        "        [3, 4]\n",
        "    ] \n",
        ")"
      ]
    },
    {
      "cell_type": "code",
      "execution_count": null,
      "metadata": {
        "id": "SD5X9LYET0vL"
      },
      "outputs": [],
      "source": [
        "b = np.array( \n",
        "    [\n",
        "        [5, 6],\n",
        "        [7, 8]\n",
        "    ] \n",
        ")"
      ]
    },
    {
      "cell_type": "code",
      "execution_count": null,
      "metadata": {
        "id": "jttXi7shT0vL",
        "colab": {
          "base_uri": "https://localhost:8080/"
        },
        "outputId": "1be79193-2e0e-40ed-be64-5450786be4d7"
      },
      "outputs": [
        {
          "output_type": "execute_result",
          "data": {
            "text/plain": [
              "array([[19, 22],\n",
              "       [43, 50]])"
            ]
          },
          "metadata": {},
          "execution_count": 12
        }
      ],
      "source": [
        "c = np.dot( a, b )\n",
        "c"
      ]
    },
    {
      "cell_type": "markdown",
      "metadata": {
        "id": "KRvfVxEIT0vL"
      },
      "source": [
        "В numpy есть специальный тип matrix, который отличается от ndarray"
      ]
    },
    {
      "cell_type": "code",
      "execution_count": null,
      "metadata": {
        "id": "b8-fsBbRT0vL"
      },
      "outputs": [],
      "source": [
        "# создаем матрицы, такие же как ndarray\n",
        "aMatrix = np.matrix( [ [1, 2], [3, 4] ] )\n",
        "bMatrix = np.matrix( [ [5, 6], [7, 8] ] )"
      ]
    },
    {
      "cell_type": "code",
      "execution_count": null,
      "metadata": {
        "id": "akrcHDVYT0vM"
      },
      "outputs": [],
      "source": [
        "type(aMatrix)"
      ]
    },
    {
      "cell_type": "code",
      "execution_count": null,
      "metadata": {
        "id": "qUBkc3NhT0vM",
        "colab": {
          "base_uri": "https://localhost:8080/"
        },
        "outputId": "8f6e290b-32fd-40f4-c0a8-eb3b051b8704"
      },
      "outputs": [
        {
          "output_type": "execute_result",
          "data": {
            "text/plain": [
              "matrix([[19, 22],\n",
              "        [43, 50]])"
            ]
          },
          "metadata": {},
          "execution_count": 14
        }
      ],
      "source": [
        "# перемножение матриц идет по правилам линейной алгебры\n",
        "aMatrix * bMatrix"
      ]
    },
    {
      "cell_type": "code",
      "source": [
        "# а перемножение ndarray - поэлементно\n",
        "a * b"
      ],
      "metadata": {
        "colab": {
          "base_uri": "https://localhost:8080/"
        },
        "id": "sTy5koM5bmJc",
        "outputId": "4885c651-5706-4d39-c48d-f9be80975e38"
      },
      "execution_count": null,
      "outputs": [
        {
          "output_type": "execute_result",
          "data": {
            "text/plain": [
              "array([[ 5, 12],\n",
              "       [21, 32]])"
            ]
          },
          "metadata": {},
          "execution_count": 15
        }
      ]
    },
    {
      "cell_type": "code",
      "execution_count": null,
      "metadata": {
        "id": "Zj23NkEgT0vM",
        "colab": {
          "base_uri": "https://localhost:8080/"
        },
        "outputId": "cc61670d-6315-4beb-8f77-9dbdace7e8ac"
      },
      "outputs": [
        {
          "output_type": "execute_result",
          "data": {
            "text/plain": [
              "(numpy.matrix, numpy.ndarray)"
            ]
          },
          "metadata": {},
          "execution_count": 16
        }
      ],
      "source": [
        "type( aMatrix ), type( a )"
      ]
    },
    {
      "cell_type": "code",
      "execution_count": null,
      "metadata": {
        "scrolled": true,
        "id": "7-3qD9-GT0vM",
        "colab": {
          "base_uri": "https://localhost:8080/"
        },
        "outputId": "fa0f861a-04b4-4e12-dc28-a92c150f80c9"
      },
      "outputs": [
        {
          "output_type": "execute_result",
          "data": {
            "text/plain": [
              "matrix([[19, 22],\n",
              "        [43, 50]])"
            ]
          },
          "metadata": {},
          "execution_count": 17
        }
      ],
      "source": [
        "# преобразование типа \"ndarray\" в тип \"matrix\"\n",
        "np.mat( a ) * np.mat( b )\n",
        "# так как к моменту перемножения массив уже преобразовался в матрицу\n",
        "# умножение пошло по правилам матриц"
      ]
    },
    {
      "cell_type": "markdown",
      "metadata": {
        "id": "MKhV73C_T0vN"
      },
      "source": [
        "## Линейные уравнения"
      ]
    },
    {
      "cell_type": "markdown",
      "metadata": {
        "id": "5b8NiGpyT0vN"
      },
      "source": [
        "Дана система линейных уравнений\n",
        "\n",
        "\\begin{equation*}\n",
        "\\LARGE\n",
        "x + 3*y = 9 \\\\\n",
        "\\LARGE\n",
        "2*x - 4*y = 8\n",
        "\\end{equation*}"
      ]
    },
    {
      "cell_type": "code",
      "execution_count": null,
      "metadata": {
        "id": "6USj5FBDT0vN"
      },
      "outputs": [],
      "source": [
        "# коэффициенты при переменных в левой части уравнения\n",
        "\n",
        "a = np.array( [ [1, 3], [2, -4] ] )"
      ]
    },
    {
      "cell_type": "code",
      "execution_count": null,
      "metadata": {
        "id": "k3_aOdrvT0vN"
      },
      "outputs": [],
      "source": [
        "# значения в правой части уравнения\n",
        "\n",
        "b = np.array( [9, 8] )"
      ]
    },
    {
      "cell_type": "code",
      "execution_count": null,
      "metadata": {
        "id": "Xg_wEwuVT0vO"
      },
      "outputs": [],
      "source": [
        "# решение\n",
        "\n",
        "from numpy import linalg"
      ]
    },
    {
      "cell_type": "code",
      "execution_count": null,
      "metadata": {
        "id": "Wy29InrpT0vO"
      },
      "outputs": [],
      "source": [
        "# функция \"решить!\"\n",
        "linalg.solve(a, b)"
      ]
    },
    {
      "cell_type": "code",
      "execution_count": null,
      "metadata": {
        "id": "YR4mA6xxT0vO"
      },
      "outputs": [],
      "source": [
        "# проверка верности\n",
        "\n",
        "np.allclose( np.dot(a, linalg.solve(a, b)), b )"
      ]
    }
  ]
}