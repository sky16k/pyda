{
  "nbformat": 4,
  "nbformat_minor": 0,
  "metadata": {
    "colab": {
      "provenance": [],
      "collapsed_sections": [],
      "authorship_tag": "ABX9TyOL9IB/w3jaaqQgtSc6Pg8P",
      "include_colab_link": true
    },
    "kernelspec": {
      "name": "python3",
      "display_name": "Python 3"
    },
    "language_info": {
      "name": "python"
    }
  },
  "cells": [
    {
      "cell_type": "markdown",
      "metadata": {
        "id": "view-in-github",
        "colab_type": "text"
      },
      "source": [
        "<a href=\"https://colab.research.google.com/github/sky16k/pyda/blob/main/PYDA16_random_HW.ipynb\" target=\"_parent\"><img src=\"https://colab.research.google.com/assets/colab-badge.svg\" alt=\"Open In Colab\"/></a>"
      ]
    },
    {
      "cell_type": "code",
      "source": [
        "from google.colab import drive\n",
        "drive.mount('/content/drive')\n",
        "\n",
        "import os, sys\n",
        "data_path = '/content/data'\n",
        "try:\n",
        "    os.symlink('/content/drive/MyDrive/скул/DS/data', data_path)\n",
        "    sys.path.insert(0,data_path)\n",
        "except:\n",
        "    pass\n",
        "# Then you can install a library, and specify the target.\n",
        "# !pip install --target=$data_path vk_api_config.py"
      ],
      "metadata": {
        "colab": {
          "base_uri": "https://localhost:8080/"
        },
        "id": "j9I0i8jfvAKH",
        "outputId": "a503779d-6814-4fe1-e381-924d2910d286"
      },
      "execution_count": null,
      "outputs": [
        {
          "output_type": "stream",
          "name": "stdout",
          "text": [
            "Mounted at /content/drive\n"
          ]
        }
      ]
    },
    {
      "cell_type": "markdown",
      "source": [
        "#Домашнее задание"
      ],
      "metadata": {
        "id": "xut-1lrgNCEM"
      }
    },
    {
      "cell_type": "markdown",
      "source": [
        "## осн. текст"
      ],
      "metadata": {
        "id": "p9YQFxg3dvW2"
      }
    },
    {
      "cell_type": "code",
      "source": [
        "'''\n",
        "Домашнее задание\n",
        "Смоделировать игру против лотерейного автомата типа \"777\". \n",
        "Игрок платит 1 руб., после чего выпадает случайное целое число, \n",
        "равномерно распределенное от 0 до 999. \n",
        "При некоторых значениях числа игрок получает выигрыш (см. справа)\n",
        "●Выгодна ли игра игроку? \n",
        "●Сколько в среднем приобретает или теряет игрок за одну игру?\n",
        "\n",
        "777: 200 руб.\n",
        "999: 100 руб.\n",
        "555: 50 руб.\n",
        "333: 15 руб.\n",
        "111: 10 руб.\n",
        "*77: 5 руб.\n",
        "**7: 3 руб.\n",
        "*00: 2 руб.\n",
        "**0: 1 руб.\n",
        "* – любая цифра\n",
        "\n",
        "Дополнительное задание повышенной сложности. \n",
        "Теоретически рассчитать средний выигрыш (проигрыш) \n",
        "и сравнить с результатами моделирования\n",
        "'''"
      ],
      "metadata": {
        "id": "r6XxRCktd2fw"
      },
      "execution_count": null,
      "outputs": []
    },
    {
      "cell_type": "markdown",
      "source": [
        "## Задание 1"
      ],
      "metadata": {
        "id": "K28MI5k_MbDE"
      }
    },
    {
      "cell_type": "markdown",
      "source": [
        "###текст"
      ],
      "metadata": {
        "id": "_m6QJdwtMeFu"
      }
    },
    {
      "cell_type": "code",
      "source": [
        "# комментарий эксперта\n",
        "'''\n",
        "\n",
        "'''"
      ],
      "metadata": {
        "id": "LG7Q1soZ97bI"
      },
      "execution_count": null,
      "outputs": []
    },
    {
      "cell_type": "code",
      "source": [
        "'''\n",
        "\n",
        "'''"
      ],
      "metadata": {
        "id": "6jF-_YjBMe2t"
      },
      "execution_count": null,
      "outputs": []
    },
    {
      "cell_type": "markdown",
      "source": [
        "###программа"
      ],
      "metadata": {
        "id": "KjSvPiWdMfT5"
      }
    },
    {
      "cell_type": "code",
      "source": [
        "import numpy as np"
      ],
      "metadata": {
        "id": "3o0lOm-gMfqS"
      },
      "execution_count": 19,
      "outputs": []
    },
    {
      "cell_type": "code",
      "source": [
        "n = 1000000"
      ],
      "metadata": {
        "id": "23RrTYaNdUMT"
      },
      "execution_count": 20,
      "outputs": []
    },
    {
      "cell_type": "code",
      "source": [
        "# test = [777,999,555,333,111,577,557,500,550,684]"
      ],
      "metadata": {
        "id": "o34aAS06Srl5"
      },
      "execution_count": 21,
      "outputs": []
    },
    {
      "cell_type": "code",
      "source": [
        "def game(n_, start_=0, stake_=1) :\n",
        "    import numpy as np\n",
        "    out = start_\n",
        "    for i in range(n_) :\n",
        "        out -= stake_\n",
        "        x = list(np.random.randint (0, 10, 3))\n",
        "        z = ''\n",
        "        for y in x :\n",
        "            z = z+str(y)\n",
        "        z = int(z)\n",
        "        # z = i\n",
        "        # print(z)\n",
        "\n",
        "        if   z == 777 :\n",
        "            out += 200\n",
        "            # print(-777)\n",
        "            # break\n",
        "        elif z == 999 :\n",
        "            out += 100\n",
        "            # print(-999)\n",
        "            # break\n",
        "        elif z == 555 :\n",
        "            out += 50\n",
        "            # print(-555)\n",
        "            # break\n",
        "        elif z == 333 :\n",
        "            out += 15\n",
        "            # print(-333)\n",
        "            # break\n",
        "        elif z == 111 :\n",
        "            out += 10\n",
        "            # print(-111)\n",
        "            # break\n",
        "        elif z%100 == 77 :\n",
        "            out += 5\n",
        "            # print('-x77')\n",
        "            # break\n",
        "        elif z%10 == 7 :\n",
        "            out += 3\n",
        "            # print('-xx7')\n",
        "            # break\n",
        "        elif z%100 == 0 :\n",
        "            out += 2\n",
        "            # print('-x00')\n",
        "            # break\n",
        "        elif z%10 == 0 :\n",
        "            out += 1\n",
        "            # print('-xx0')\n",
        "            # break\n",
        "        else : pass\n",
        "            # print('-miss')\n",
        "            # break\n",
        "\n",
        "    return (out, (out-start_)/n_)"
      ],
      "metadata": {
        "id": "klqicdcgdUro"
      },
      "execution_count": 22,
      "outputs": []
    },
    {
      "cell_type": "code",
      "source": [
        "(money, eff) = game(n,200000,0.5)\n",
        "print(f\"итог={money}, результативность попытки={eff}\")"
      ],
      "metadata": {
        "colab": {
          "base_uri": "https://localhost:8080/"
        },
        "id": "FKVnpvit7vqk",
        "outputId": "58d2e6f7-af62-4c1d-e26f-3b06da80cafb"
      },
      "execution_count": 23,
      "outputs": [
        {
          "output_type": "stream",
          "name": "stdout",
          "text": [
            "итог=498601.0, результативность попытки=0.298601\n"
          ]
        }
      ]
    },
    {
      "cell_type": "code",
      "source": [
        "\n",
        "eff_list=[]\n",
        "for t in range(100) :\n",
        "    (money, eff) = game(n)\n",
        "    eff_list = eff_list + [eff]\n",
        "    print(f\"итог= {money}, результативность попытки= {eff}\")"
      ],
      "metadata": {
        "colab": {
          "base_uri": "https://localhost:8080/"
        },
        "id": "_TNOo_1pIptO",
        "outputId": "5ca3dacf-a30c-4fad-ce55-97cc21ac0516"
      },
      "execution_count": 24,
      "outputs": [
        {
          "output_type": "stream",
          "name": "stdout",
          "text": [
            "итог=-198722, результативность попытки=-0.198722\n",
            "итог=-198594, результативность попытки=-0.198594\n",
            "итог=-211860, результативность попытки=-0.21186\n",
            "итог=-204194, результативность попытки=-0.204194\n",
            "итог=-198278, результативность попытки=-0.198278\n",
            "итог=-205450, результативность попытки=-0.20545\n",
            "итог=-204911, результативность попытки=-0.204911\n",
            "итог=-214074, результативность попытки=-0.214074\n",
            "итог=-224388, результативность попытки=-0.224388\n",
            "итог=-197288, результативность попытки=-0.197288\n",
            "итог=-215056, результативность попытки=-0.215056\n",
            "итог=-202950, результативность попытки=-0.20295\n",
            "итог=-196095, результативность попытки=-0.196095\n",
            "итог=-190320, результативность попытки=-0.19032\n",
            "итог=-204556, результативность попытки=-0.204556\n",
            "итог=-205006, результативность попытки=-0.205006\n",
            "итог=-207228, результативность попытки=-0.207228\n",
            "итог=-196772, результативность попытки=-0.196772\n",
            "итог=-191510, результативность попытки=-0.19151\n",
            "итог=-211516, результативность попытки=-0.211516\n",
            "итог=-210891, результативность попытки=-0.210891\n",
            "итог=-203615, результативность попытки=-0.203615\n",
            "итог=-193931, результативность попытки=-0.193931\n",
            "итог=-200028, результативность попытки=-0.200028\n",
            "итог=-200841, результативность попытки=-0.200841\n",
            "итог=-203887, результативность попытки=-0.203887\n",
            "итог=-197472, результативность попытки=-0.197472\n",
            "итог=-205939, результативность попытки=-0.205939\n",
            "итог=-209729, результативность попытки=-0.209729\n",
            "итог=-198634, результативность попытки=-0.198634\n",
            "итог=-201478, результативность попытки=-0.201478\n",
            "итог=-194556, результативность попытки=-0.194556\n",
            "итог=-204127, результативность попытки=-0.204127\n",
            "итог=-217354, результативность попытки=-0.217354\n",
            "итог=-193097, результативность попытки=-0.193097\n",
            "итог=-204193, результативность попытки=-0.204193\n",
            "итог=-213189, результативность попытки=-0.213189\n",
            "итог=-198209, результативность попытки=-0.198209\n",
            "итог=-184626, результативность попытки=-0.184626\n",
            "итог=-202858, результативность попытки=-0.202858\n",
            "итог=-186124, результативность попытки=-0.186124\n",
            "итог=-192386, результативность попытки=-0.192386\n",
            "итог=-200732, результативность попытки=-0.200732\n",
            "итог=-205774, результативность попытки=-0.205774\n",
            "итог=-198724, результативность попытки=-0.198724\n",
            "итог=-214387, результативность попытки=-0.214387\n",
            "итог=-207705, результативность попытки=-0.207705\n",
            "итог=-207390, результативность попытки=-0.20739\n",
            "итог=-198499, результативность попытки=-0.198499\n",
            "итог=-198212, результативность попытки=-0.198212\n",
            "итог=-196883, результативность попытки=-0.196883\n",
            "итог=-198633, результативность попытки=-0.198633\n",
            "итог=-196891, результативность попытки=-0.196891\n",
            "итог=-213499, результативность попытки=-0.213499\n",
            "итог=-199533, результативность попытки=-0.199533\n",
            "итог=-200126, результативность попытки=-0.200126\n",
            "итог=-191974, результативность попытки=-0.191974\n",
            "итог=-193681, результативность попытки=-0.193681\n",
            "итог=-197718, результативность попытки=-0.197718\n",
            "итог=-201312, результативность попытки=-0.201312\n",
            "итог=-201040, результативность попытки=-0.20104\n",
            "итог=-191020, результативность попытки=-0.19102\n",
            "итог=-194715, результативность попытки=-0.194715\n",
            "итог=-197854, результативность попытки=-0.197854\n",
            "итог=-202443, результативность попытки=-0.202443\n",
            "итог=-199251, результативность попытки=-0.199251\n",
            "итог=-216940, результативность попытки=-0.21694\n",
            "итог=-206729, результативность попытки=-0.206729\n",
            "итог=-196473, результативность попытки=-0.196473\n",
            "итог=-203699, результативность попытки=-0.203699\n",
            "итог=-194359, результативность попытки=-0.194359\n",
            "итог=-193339, результативность попытки=-0.193339\n",
            "итог=-202021, результативность попытки=-0.202021\n",
            "итог=-209036, результативность попытки=-0.209036\n",
            "итог=-202203, результативность попытки=-0.202203\n",
            "итог=-199424, результативность попытки=-0.199424\n",
            "итог=-202081, результативность попытки=-0.202081\n",
            "итог=-188649, результативность попытки=-0.188649\n",
            "итог=-196916, результативность попытки=-0.196916\n",
            "итог=-208616, результативность попытки=-0.208616\n",
            "итог=-191131, результативность попытки=-0.191131\n",
            "итог=-195720, результативность попытки=-0.19572\n",
            "итог=-201702, результативность попытки=-0.201702\n",
            "итог=-197426, результативность попытки=-0.197426\n",
            "итог=-191167, результативность попытки=-0.191167\n",
            "итог=-186547, результативность попытки=-0.186547\n",
            "итог=-192584, результативность попытки=-0.192584\n",
            "итог=-204557, результативность попытки=-0.204557\n",
            "итог=-211204, результативность попытки=-0.211204\n",
            "итог=-193902, результативность попытки=-0.193902\n",
            "итог=-208710, результативность попытки=-0.20871\n",
            "итог=-200668, результативность попытки=-0.200668\n",
            "итог=-212159, результативность попытки=-0.212159\n",
            "итог=-203470, результативность попытки=-0.20347\n",
            "итог=-201021, результативность попытки=-0.201021\n",
            "итог=-192028, результативность попытки=-0.192028\n",
            "итог=-191155, результативность попытки=-0.191155\n",
            "итог=-202110, результативность попытки=-0.20211\n",
            "итог=-206938, результативность попытки=-0.206938\n",
            "итог=-202816, результативность попытки=-0.202816\n"
          ]
        }
      ]
    },
    {
      "cell_type": "code",
      "source": [
        "print(sum(eff_list)/len(eff_list))"
      ],
      "metadata": {
        "colab": {
          "base_uri": "https://localhost:8080/"
        },
        "id": "kORUkGYEdRgo",
        "outputId": "d7b8eb26-5de2-4845-b2e1-d8355c8c0377"
      },
      "execution_count": 25,
      "outputs": [
        {
          "output_type": "stream",
          "name": "stdout",
          "text": [
            "-0.20111428000000006\n"
          ]
        }
      ]
    },
    {
      "cell_type": "markdown",
      "source": [
        "как видно по результатам моделирования, играть в эту игру с такой конфигурацией невыгодно: в среднем каждая попытка даёт 0.2 единицы убытка"
      ],
      "metadata": {
        "id": "oxz-nilh9LX7"
      }
    },
    {
      "cell_type": "code",
      "source": [],
      "metadata": {
        "id": "tWbuoJzLdT9E"
      },
      "execution_count": null,
      "outputs": []
    },
    {
      "cell_type": "markdown",
      "source": [
        "## Задание 2"
      ],
      "metadata": {
        "id": "uOhN2ArmMgkB"
      }
    },
    {
      "cell_type": "markdown",
      "source": [
        "###текст"
      ],
      "metadata": {
        "id": "KRNNt6LNMg0B"
      }
    },
    {
      "cell_type": "code",
      "source": [
        "# комментарий эксперта\n",
        "'''\n",
        "\n",
        "'''"
      ],
      "metadata": {
        "id": "QXwNwGPB-Dup"
      },
      "execution_count": null,
      "outputs": []
    },
    {
      "cell_type": "code",
      "source": [
        "'''\n",
        "\n",
        "'''"
      ],
      "metadata": {
        "id": "nASO5cKOMhKM"
      },
      "execution_count": null,
      "outputs": []
    },
    {
      "cell_type": "markdown",
      "source": [
        "###программа"
      ],
      "metadata": {
        "id": "sr6nEVKHMhaG"
      }
    },
    {
      "cell_type": "code",
      "source": [
        "import"
      ],
      "metadata": {
        "id": "wSqCygzFMho8"
      },
      "execution_count": null,
      "outputs": []
    },
    {
      "cell_type": "code",
      "source": [
        "price = 1"
      ],
      "metadata": {
        "id": "AfQpgTFSdYJC"
      },
      "execution_count": 26,
      "outputs": []
    },
    {
      "cell_type": "code",
      "source": [
        "p_777 = 1/1000\n",
        "p_999 = 1/1000\n",
        "p_555 = 1/1000\n",
        "p_333 = 1/1000\n",
        "p_111 = 1/1000\n",
        "p_x77 = ((10*1*1) /1000) - p_777\n",
        "p_xx7 = ((10*10*1) /1000)- p_777 - p_x77\n",
        "p_x00 = ((10*1*1) /1000)\n",
        "p_xx0 = ((10*10*1) /1000)- p_x00\n",
        "p_sum = (p_777 + \n",
        "         p_999 + \n",
        "         p_555 + \n",
        "         p_333 + \n",
        "         p_111 + \n",
        "         p_x77 + \n",
        "         p_xx7 + \n",
        "         p_x00 + \n",
        "         p_xx0\n",
        "         )\n",
        "p_xxx = 1 - p_sum"
      ],
      "metadata": {
        "id": "eH3SppGJdX0c"
      },
      "execution_count": 27,
      "outputs": []
    },
    {
      "cell_type": "code",
      "source": [
        "r_777 = 200 - price\n",
        "r_999 = 100 - price\n",
        "r_555 = 50 - price\n",
        "r_333 = 15 - price\n",
        "r_111 = 10 - price\n",
        "r_x77 = 5 - price\n",
        "r_xx7 = 3 - price\n",
        "r_x00 = 2 - price\n",
        "r_xx0 = 1 - price\n",
        "r_xxx = 0 - price"
      ],
      "metadata": {
        "id": "Z-qeJDVb8ZjA"
      },
      "execution_count": 28,
      "outputs": []
    },
    {
      "cell_type": "code",
      "source": [
        "\n",
        "M =(  p_777 * r_777 \n",
        "    + p_999 * r_999\n",
        "    + p_555 * r_555\n",
        "    + p_333 * r_333\n",
        "    + p_111 * r_111\n",
        "    + p_x77 * r_x77\n",
        "    + p_xx7 * r_xx7\n",
        "    + p_x00 * r_x00\n",
        "    + p_xx0 * r_xx0\n",
        "    + p_xxx * r_xxx\n",
        "    )\n",
        "print(M)"
      ],
      "metadata": {
        "id": "bnfXcKRn8aTq",
        "colab": {
          "base_uri": "https://localhost:8080/"
        },
        "outputId": "1826cc25-0b37-4ec7-f24e-0ed14ac2a67a"
      },
      "execution_count": 29,
      "outputs": [
        {
          "output_type": "stream",
          "name": "stdout",
          "text": [
            "-0.19999999999999996\n"
          ]
        }
      ]
    },
    {
      "cell_type": "code",
      "source": [],
      "metadata": {
        "id": "lygF7qnTdXn3"
      },
      "execution_count": 18,
      "outputs": []
    },
    {
      "cell_type": "markdown",
      "source": [
        "## Задание 3"
      ],
      "metadata": {
        "id": "ljWnHN2Edg34"
      }
    },
    {
      "cell_type": "markdown",
      "source": [
        "###текст"
      ],
      "metadata": {
        "id": "b9HDph-5dg37"
      }
    },
    {
      "cell_type": "code",
      "source": [
        "# комментарий эксперта\n",
        "'''\n",
        "\n",
        "'''"
      ],
      "metadata": {
        "id": "zoSR8q8V-EZS"
      },
      "execution_count": null,
      "outputs": []
    },
    {
      "cell_type": "code",
      "source": [
        "'''\n",
        "\n",
        "'''"
      ],
      "metadata": {
        "id": "r-O80AG7dg38"
      },
      "execution_count": null,
      "outputs": []
    },
    {
      "cell_type": "markdown",
      "source": [
        "###программа"
      ],
      "metadata": {
        "id": "Xclhk-WGdg39"
      }
    },
    {
      "cell_type": "code",
      "source": [
        "import"
      ],
      "metadata": {
        "id": "-DcrQLnZdg3-"
      },
      "execution_count": null,
      "outputs": []
    },
    {
      "cell_type": "code",
      "source": [],
      "metadata": {
        "id": "V5-YykfOdg3-"
      },
      "execution_count": null,
      "outputs": []
    },
    {
      "cell_type": "code",
      "source": [],
      "metadata": {
        "id": "UGueqM_0dg3_"
      },
      "execution_count": null,
      "outputs": []
    },
    {
      "cell_type": "code",
      "source": [],
      "metadata": {
        "id": "-VWZfKdMdg3_"
      },
      "execution_count": null,
      "outputs": []
    },
    {
      "cell_type": "markdown",
      "source": [
        "## Задание 4"
      ],
      "metadata": {
        "id": "8YqezIHDdg3_"
      }
    },
    {
      "cell_type": "markdown",
      "source": [
        "###текст"
      ],
      "metadata": {
        "id": "uLdZOkcZdg4A"
      }
    },
    {
      "cell_type": "code",
      "source": [
        "# комментарий эксперта\n",
        "'''\n",
        "\n",
        "'''"
      ],
      "metadata": {
        "id": "xywMChlD-FCA"
      },
      "execution_count": null,
      "outputs": []
    },
    {
      "cell_type": "code",
      "source": [
        "'''\n",
        "\n",
        "'''"
      ],
      "metadata": {
        "id": "G1aBswthdg4A"
      },
      "execution_count": null,
      "outputs": []
    },
    {
      "cell_type": "markdown",
      "source": [
        "###программа"
      ],
      "metadata": {
        "id": "iZGbrVk8dg4B"
      }
    },
    {
      "cell_type": "code",
      "source": [
        "import"
      ],
      "metadata": {
        "id": "QMSQyIp9dg4B"
      },
      "execution_count": null,
      "outputs": []
    },
    {
      "cell_type": "code",
      "source": [],
      "metadata": {
        "id": "g715nXuWdg4C"
      },
      "execution_count": null,
      "outputs": []
    },
    {
      "cell_type": "code",
      "source": [],
      "metadata": {
        "id": "L7NZJu7Idg4C"
      },
      "execution_count": null,
      "outputs": []
    },
    {
      "cell_type": "code",
      "source": [],
      "metadata": {
        "id": "oUnCWfjDdg4D"
      },
      "execution_count": null,
      "outputs": []
    }
  ]
}