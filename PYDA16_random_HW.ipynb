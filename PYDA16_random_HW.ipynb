{
  "nbformat": 4,
  "nbformat_minor": 0,
  "metadata": {
    "colab": {
      "provenance": [],
      "collapsed_sections": [],
      "authorship_tag": "ABX9TyN4IrEOlB0EzMTi02PvVioz",
      "include_colab_link": true
    },
    "kernelspec": {
      "name": "python3",
      "display_name": "Python 3"
    },
    "language_info": {
      "name": "python"
    }
  },
  "cells": [
    {
      "cell_type": "markdown",
      "metadata": {
        "id": "view-in-github",
        "colab_type": "text"
      },
      "source": [
        "<a href=\"https://colab.research.google.com/github/sky16k/pyda/blob/main/PYDA16_random_HW.ipynb\" target=\"_parent\"><img src=\"https://colab.research.google.com/assets/colab-badge.svg\" alt=\"Open In Colab\"/></a>"
      ]
    },
    {
      "cell_type": "code",
      "source": [
        "from google.colab import drive\n",
        "drive.mount('/content/drive')\n",
        "\n",
        "import os, sys\n",
        "data_path = '/content/data'\n",
        "try:\n",
        "    os.symlink('/content/drive/MyDrive/скул/DS/data', data_path)\n",
        "    sys.path.insert(0,data_path)\n",
        "except:\n",
        "    pass\n",
        "# Then you can install a library, and specify the target.\n",
        "# !pip install --target=$data_path vk_api_config.py"
      ],
      "metadata": {
        "colab": {
          "base_uri": "https://localhost:8080/"
        },
        "id": "j9I0i8jfvAKH",
        "outputId": "a503779d-6814-4fe1-e381-924d2910d286"
      },
      "execution_count": null,
      "outputs": [
        {
          "output_type": "stream",
          "name": "stdout",
          "text": [
            "Mounted at /content/drive\n"
          ]
        }
      ]
    },
    {
      "cell_type": "markdown",
      "source": [
        "#Домашнее задание"
      ],
      "metadata": {
        "id": "xut-1lrgNCEM"
      }
    },
    {
      "cell_type": "markdown",
      "source": [
        "## осн. текст"
      ],
      "metadata": {
        "id": "p9YQFxg3dvW2"
      }
    },
    {
      "cell_type": "code",
      "source": [
        "'''\n",
        "Домашнее задание\n",
        "Смоделировать игру против лотерейного автомата типа \"777\". \n",
        "Игрок платит 1 руб., после чего выпадает случайное целое число, \n",
        "равномерно распределенное от 0 до 999. \n",
        "При некоторых значениях числа игрок получает выигрыш (см. справа)\n",
        "●Выгодна ли игра игроку? \n",
        "●Сколько в среднем приобретает или теряет игрок за одну игру?\n",
        "\n",
        "777: 200 руб.\n",
        "999: 100 руб.\n",
        "555: 50 руб.\n",
        "333: 15 руб.\n",
        "111: 10 руб.\n",
        "*77: 5 руб.\n",
        "**7: 3 руб.\n",
        "*00: 2 руб.\n",
        "**0: 1 руб.\n",
        "* – любая цифра\n",
        "\n",
        "Дополнительное задание повышенной сложности. \n",
        "Теоретически рассчитать средний выигрыш (проигрыш) \n",
        "и сравнить с результатами моделирования\n",
        "'''"
      ],
      "metadata": {
        "id": "r6XxRCktd2fw"
      },
      "execution_count": null,
      "outputs": []
    },
    {
      "cell_type": "markdown",
      "source": [
        "## Задание 1"
      ],
      "metadata": {
        "id": "K28MI5k_MbDE"
      }
    },
    {
      "cell_type": "markdown",
      "source": [
        "###текст"
      ],
      "metadata": {
        "id": "_m6QJdwtMeFu"
      }
    },
    {
      "cell_type": "code",
      "source": [
        "# комментарий эксперта\n",
        "'''\n",
        "\n",
        "'''"
      ],
      "metadata": {
        "id": "LG7Q1soZ97bI"
      },
      "execution_count": null,
      "outputs": []
    },
    {
      "cell_type": "code",
      "source": [
        "'''\n",
        "\n",
        "'''"
      ],
      "metadata": {
        "id": "6jF-_YjBMe2t"
      },
      "execution_count": null,
      "outputs": []
    },
    {
      "cell_type": "markdown",
      "source": [
        "###программа"
      ],
      "metadata": {
        "id": "KjSvPiWdMfT5"
      }
    },
    {
      "cell_type": "code",
      "source": [
        "import numpy as np"
      ],
      "metadata": {
        "id": "3o0lOm-gMfqS"
      },
      "execution_count": null,
      "outputs": []
    },
    {
      "cell_type": "code",
      "source": [
        "n = 10"
      ],
      "metadata": {
        "id": "23RrTYaNdUMT"
      },
      "execution_count": null,
      "outputs": []
    },
    {
      "cell_type": "code",
      "source": [
        "test = [777,999,555,333,111,577,557,500,550,684]"
      ],
      "metadata": {
        "id": "o34aAS06Srl5"
      },
      "execution_count": 14,
      "outputs": []
    },
    {
      "cell_type": "code",
      "source": [
        "out = 0\n",
        "for i in test :#range(n) :\n",
        "    out -= 1\n",
        "    # x = list(np.random.randint (0, 10, 3))\n",
        "    # z = ''\n",
        "    # for y in x :\n",
        "    #     z = z+str(y)\n",
        "    # z = int(z)\n",
        "    z = i\n",
        "    print(z)\n",
        "\n",
        "    if   z == 777 :\n",
        "        out += 200\n",
        "        print(777)\n",
        "        # break\n",
        "    elif z == 999 :\n",
        "        out += 100\n",
        "        print(999)\n",
        "        # break\n",
        "    elif z == 555 :\n",
        "        out += 50\n",
        "        print(555)\n",
        "        # break\n",
        "    elif z == 333 :\n",
        "        out += 15\n",
        "        print(333)\n",
        "        # break\n",
        "    elif z == 111 :\n",
        "        out += 10\n",
        "        print(111)\n",
        "        # break\n",
        "    elif z%100 == 77 :\n",
        "        out += 5\n",
        "        print('*77')\n",
        "        # break\n",
        "    elif z%10 == 7 :\n",
        "        out += 3\n",
        "        print('**7')\n",
        "        # break\n",
        "    elif z%100 == 0 :\n",
        "        out += 2\n",
        "        print('*00')\n",
        "        # break\n",
        "    elif z%10 == 0 :\n",
        "        out += 1\n",
        "        print('**0')\n",
        "        # break\n",
        "    else :\n",
        "        print('miss')\n",
        "        # break\n",
        "\n",
        "print(out)"
      ],
      "metadata": {
        "id": "klqicdcgdUro",
        "colab": {
          "base_uri": "https://localhost:8080/"
        },
        "outputId": "7d62f518-5652-4b58-83e4-b5ca0e146496"
      },
      "execution_count": 17,
      "outputs": [
        {
          "output_type": "stream",
          "name": "stdout",
          "text": [
            "777\n",
            "777\n",
            "999\n",
            "999\n",
            "555\n",
            "555\n",
            "333\n",
            "333\n",
            "111\n",
            "111\n",
            "577\n",
            "*77\n",
            "557\n",
            "**7\n",
            "500\n",
            "*00\n",
            "550\n",
            "**0\n",
            "684\n",
            "miss\n",
            "376\n"
          ]
        }
      ]
    },
    {
      "cell_type": "code",
      "source": [],
      "metadata": {
        "id": "tWbuoJzLdT9E"
      },
      "execution_count": null,
      "outputs": []
    },
    {
      "cell_type": "markdown",
      "source": [
        "## Задание 2"
      ],
      "metadata": {
        "id": "uOhN2ArmMgkB"
      }
    },
    {
      "cell_type": "markdown",
      "source": [
        "###текст"
      ],
      "metadata": {
        "id": "KRNNt6LNMg0B"
      }
    },
    {
      "cell_type": "code",
      "source": [
        "# комментарий эксперта\n",
        "'''\n",
        "\n",
        "'''"
      ],
      "metadata": {
        "id": "QXwNwGPB-Dup"
      },
      "execution_count": null,
      "outputs": []
    },
    {
      "cell_type": "code",
      "source": [
        "'''\n",
        "\n",
        "'''"
      ],
      "metadata": {
        "id": "nASO5cKOMhKM"
      },
      "execution_count": null,
      "outputs": []
    },
    {
      "cell_type": "markdown",
      "source": [
        "###программа"
      ],
      "metadata": {
        "id": "sr6nEVKHMhaG"
      }
    },
    {
      "cell_type": "code",
      "source": [
        "import"
      ],
      "metadata": {
        "id": "wSqCygzFMho8"
      },
      "execution_count": null,
      "outputs": []
    },
    {
      "cell_type": "code",
      "source": [],
      "metadata": {
        "id": "AfQpgTFSdYJC"
      },
      "execution_count": null,
      "outputs": []
    },
    {
      "cell_type": "code",
      "source": [],
      "metadata": {
        "id": "eH3SppGJdX0c"
      },
      "execution_count": null,
      "outputs": []
    },
    {
      "cell_type": "code",
      "source": [],
      "metadata": {
        "id": "lygF7qnTdXn3"
      },
      "execution_count": null,
      "outputs": []
    },
    {
      "cell_type": "markdown",
      "source": [
        "## Задание 3"
      ],
      "metadata": {
        "id": "ljWnHN2Edg34"
      }
    },
    {
      "cell_type": "markdown",
      "source": [
        "###текст"
      ],
      "metadata": {
        "id": "b9HDph-5dg37"
      }
    },
    {
      "cell_type": "code",
      "source": [
        "# комментарий эксперта\n",
        "'''\n",
        "\n",
        "'''"
      ],
      "metadata": {
        "id": "zoSR8q8V-EZS"
      },
      "execution_count": null,
      "outputs": []
    },
    {
      "cell_type": "code",
      "source": [
        "'''\n",
        "\n",
        "'''"
      ],
      "metadata": {
        "id": "r-O80AG7dg38"
      },
      "execution_count": null,
      "outputs": []
    },
    {
      "cell_type": "markdown",
      "source": [
        "###программа"
      ],
      "metadata": {
        "id": "Xclhk-WGdg39"
      }
    },
    {
      "cell_type": "code",
      "source": [
        "import"
      ],
      "metadata": {
        "id": "-DcrQLnZdg3-"
      },
      "execution_count": null,
      "outputs": []
    },
    {
      "cell_type": "code",
      "source": [],
      "metadata": {
        "id": "V5-YykfOdg3-"
      },
      "execution_count": null,
      "outputs": []
    },
    {
      "cell_type": "code",
      "source": [],
      "metadata": {
        "id": "UGueqM_0dg3_"
      },
      "execution_count": null,
      "outputs": []
    },
    {
      "cell_type": "code",
      "source": [],
      "metadata": {
        "id": "-VWZfKdMdg3_"
      },
      "execution_count": null,
      "outputs": []
    },
    {
      "cell_type": "markdown",
      "source": [
        "## Задание 4"
      ],
      "metadata": {
        "id": "8YqezIHDdg3_"
      }
    },
    {
      "cell_type": "markdown",
      "source": [
        "###текст"
      ],
      "metadata": {
        "id": "uLdZOkcZdg4A"
      }
    },
    {
      "cell_type": "code",
      "source": [
        "# комментарий эксперта\n",
        "'''\n",
        "\n",
        "'''"
      ],
      "metadata": {
        "id": "xywMChlD-FCA"
      },
      "execution_count": null,
      "outputs": []
    },
    {
      "cell_type": "code",
      "source": [
        "'''\n",
        "\n",
        "'''"
      ],
      "metadata": {
        "id": "G1aBswthdg4A"
      },
      "execution_count": null,
      "outputs": []
    },
    {
      "cell_type": "markdown",
      "source": [
        "###программа"
      ],
      "metadata": {
        "id": "iZGbrVk8dg4B"
      }
    },
    {
      "cell_type": "code",
      "source": [
        "import"
      ],
      "metadata": {
        "id": "QMSQyIp9dg4B"
      },
      "execution_count": null,
      "outputs": []
    },
    {
      "cell_type": "code",
      "source": [],
      "metadata": {
        "id": "g715nXuWdg4C"
      },
      "execution_count": null,
      "outputs": []
    },
    {
      "cell_type": "code",
      "source": [],
      "metadata": {
        "id": "L7NZJu7Idg4C"
      },
      "execution_count": null,
      "outputs": []
    },
    {
      "cell_type": "code",
      "source": [],
      "metadata": {
        "id": "oUnCWfjDdg4D"
      },
      "execution_count": null,
      "outputs": []
    }
  ]
}