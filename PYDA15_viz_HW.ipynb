{
  "nbformat": 4,
  "nbformat_minor": 0,
  "metadata": {
    "colab": {
      "provenance": [],
      "collapsed_sections": [],
      "authorship_tag": "ABX9TyPI+eFCuiXloBP7lSXFoZPo",
      "include_colab_link": true
    },
    "kernelspec": {
      "name": "python3",
      "display_name": "Python 3"
    },
    "language_info": {
      "name": "python"
    }
  },
  "cells": [
    {
      "cell_type": "markdown",
      "metadata": {
        "id": "view-in-github",
        "colab_type": "text"
      },
      "source": [
        "<a href=\"https://colab.research.google.com/github/sky16k/pyda/blob/main/PYDA15_viz_HW.ipynb\" target=\"_parent\"><img src=\"https://colab.research.google.com/assets/colab-badge.svg\" alt=\"Open In Colab\"/></a>"
      ]
    },
    {
      "cell_type": "code",
      "source": [
        "from google.colab import drive\n",
        "drive.mount('/content/drive')\n",
        "\n",
        "import os, sys\n",
        "data_path = '/content/data'\n",
        "try: \n",
        "    os.symlink('/content/drive/MyDrive/скул/DS/data', data_path)\n",
        "    sys.path.insert(0,data_path)\n",
        "except:\n",
        "    pass\n",
        "# Then you can install a library, and specify the target.\n",
        "# !pip install --target=$data_path vk_api_config.py"
      ],
      "metadata": {
        "colab": {
          "base_uri": "https://localhost:8080/"
        },
        "id": "j9I0i8jfvAKH",
        "outputId": "5ed6a313-69e5-4a98-e912-e6a7a9684b0a"
      },
      "execution_count": 1,
      "outputs": [
        {
          "output_type": "stream",
          "name": "stdout",
          "text": [
            "Drive already mounted at /content/drive; to attempt to forcibly remount, call drive.mount(\"/content/drive\", force_remount=True).\n"
          ]
        }
      ]
    },
    {
      "cell_type": "markdown",
      "source": [
        "#Домашнее задание"
      ],
      "metadata": {
        "id": "xut-1lrgNCEM"
      }
    },
    {
      "cell_type": "markdown",
      "source": [
        "## осн. текст"
      ],
      "metadata": {
        "id": "p9YQFxg3dvW2"
      }
    },
    {
      "cell_type": "code",
      "source": [
        "'''\n",
        "Преподаватель: Олег Булыгин\n",
        "Домашнее задание к лекции \"Визуализация данных\"\n",
        "\n",
        "Обязательная часть\n",
        "Вам необходимо провести базовый EDA (exploratory data analysis) выбранного набора данных.\n",
        "\n",
        "Требования к анализу:\n",
        "\n",
        "построить не менее 4 визуализаций различных видов;\n",
        "каждая визуализация должным образом оформлена и читается даже в отрыве от контекста;\n",
        "по каждой визуализации необходимо написать вывод (какую гипотезу на ее основе можно выдвинуть?).\n",
        "Откуда брать данные?\n",
        "\n",
        "Можете взять свои рабочие данные, либо найти открытые данные (например, на kaggle.com) по интересующей вас предметной области (тогда не забудьте приложить ссылку на данные). Если идей нет, можете взять один из перечисленных ниже:\n",
        "\n",
        "данные приложений из Google Play;\n",
        "данные о видео из трендов YouTube;\n",
        "данные об уровне счастья в разных странах.\n",
        "\n",
        "Дополнительная часть (необязательная)\n",
        "построить дополнительно не менее 2 визуализаций (итого не менее 6);\n",
        "в работе должны присутствовать следующие визуализации: boxplot, heatmap, scatter plot matrix;\n",
        "'''"
      ],
      "metadata": {
        "id": "r6XxRCktd2fw",
        "colab": {
          "base_uri": "https://localhost:8080/",
          "height": 123
        },
        "outputId": "8bf3691b-4fc0-46f0-c160-94ae589f3542"
      },
      "execution_count": 2,
      "outputs": [
        {
          "output_type": "execute_result",
          "data": {
            "text/plain": [
              "'\\nПреподаватель: Олег Булыгин\\nДомашнее задание к лекции \"Визуализация данных\"\\n\\nОбязательная часть\\nВам необходимо провести базовый EDA (exploratory data analysis) выбранного набора данных.\\n\\nТребования к анализу:\\n\\nпостроить не менее 4 визуализаций различных видов;\\nкаждая визуализация должным образом оформлена и читается даже в отрыве от контекста;\\nпо каждой визуализации необходимо написать вывод (какую гипотезу на ее основе можно выдвинуть?).\\nОткуда брать данные?\\n\\nМожете взять свои рабочие данные, либо найти открытые данные (например, на kaggle.com) по интересующей вас предметной области (тогда не забудьте приложить ссылку на данные). Если идей нет, можете взять один из перечисленных ниже:\\n\\nданные приложений из Google Play;\\nданные о видео из трендов YouTube;\\nданные об уровне счастья в разных странах.\\n\\nДополнительная часть (необязательная)\\nпостроить дополнительно не менее 2 визуализаций (итого не менее 6);\\nв работе должны присутствовать следующие визуализации: boxplot, heatmap, scatter plot matrix;\\n'"
            ],
            "application/vnd.google.colaboratory.intrinsic+json": {
              "type": "string"
            }
          },
          "metadata": {},
          "execution_count": 2
        }
      ]
    },
    {
      "cell_type": "markdown",
      "source": [
        "## Задание 1"
      ],
      "metadata": {
        "id": "K28MI5k_MbDE"
      }
    },
    {
      "cell_type": "markdown",
      "source": [
        "###текст"
      ],
      "metadata": {
        "id": "_m6QJdwtMeFu"
      }
    },
    {
      "cell_type": "code",
      "source": [
        "# комментарий эксперта\n",
        "'''\n",
        "\n",
        "'''"
      ],
      "metadata": {
        "id": "LG7Q1soZ97bI",
        "colab": {
          "base_uri": "https://localhost:8080/",
          "height": 36
        },
        "outputId": "05cb6f87-32b0-4869-aa1e-412e648aa4fb"
      },
      "execution_count": 3,
      "outputs": [
        {
          "output_type": "execute_result",
          "data": {
            "text/plain": [
              "'\\n\\n'"
            ],
            "application/vnd.google.colaboratory.intrinsic+json": {
              "type": "string"
            }
          },
          "metadata": {},
          "execution_count": 3
        }
      ]
    },
    {
      "cell_type": "code",
      "source": [
        "'''\n",
        "Обязательная часть\n",
        "Вам необходимо провести базовый EDA (exploratory data analysis) выбранного набора данных.\n",
        "\n",
        "Требования к анализу:\n",
        "\n",
        "построить не менее 4 визуализаций различных видов;\n",
        "каждая визуализация должным образом оформлена и читается даже в отрыве от контекста;\n",
        "по каждой визуализации необходимо написать вывод (какую гипотезу на ее основе можно выдвинуть?).\n",
        "Откуда брать данные?\n",
        "\n",
        "Можете взять свои рабочие данные, либо найти открытые данные (например, на kaggle.com) по интересующей вас предметной области (тогда не забудьте приложить ссылку на данные). Если идей нет, можете взять один из перечисленных ниже:\n",
        "\n",
        "данные приложений из Google Play;\n",
        "данные о видео из трендов YouTube;\n",
        "данные об уровне счастья в разных странах.\n",
        "\n",
        "в работе должны присутствовать следующие визуализации: boxplot, heatmap, scatter plot matrix;\n",
        "\n",
        "'''"
      ],
      "metadata": {
        "id": "6jF-_YjBMe2t",
        "colab": {
          "base_uri": "https://localhost:8080/",
          "height": 105
        },
        "outputId": "4677ecb3-44ec-4ee1-b945-cd7ce5c969f4"
      },
      "execution_count": 4,
      "outputs": [
        {
          "output_type": "execute_result",
          "data": {
            "text/plain": [
              "'\\nОбязательная часть\\nВам необходимо провести базовый EDA (exploratory data analysis) выбранного набора данных.\\n\\nТребования к анализу:\\n\\nпостроить не менее 4 визуализаций различных видов;\\nкаждая визуализация должным образом оформлена и читается даже в отрыве от контекста;\\nпо каждой визуализации необходимо написать вывод (какую гипотезу на ее основе можно выдвинуть?).\\nОткуда брать данные?\\n\\nМожете взять свои рабочие данные, либо найти открытые данные (например, на kaggle.com) по интересующей вас предметной области (тогда не забудьте приложить ссылку на данные). Если идей нет, можете взять один из перечисленных ниже:\\n\\nданные приложений из Google Play;\\nданные о видео из трендов YouTube;\\nданные об уровне счастья в разных странах.\\n\\nв работе должны присутствовать следующие визуализации: boxplot, heatmap, scatter plot matrix;\\n\\n'"
            ],
            "application/vnd.google.colaboratory.intrinsic+json": {
              "type": "string"
            }
          },
          "metadata": {},
          "execution_count": 4
        }
      ]
    },
    {
      "cell_type": "markdown",
      "source": [
        "###программа"
      ],
      "metadata": {
        "id": "KjSvPiWdMfT5"
      }
    },
    {
      "cell_type": "code",
      "source": [
        "import pandas as pd\n"
      ],
      "metadata": {
        "id": "3o0lOm-gMfqS"
      },
      "execution_count": 5,
      "outputs": []
    },
    {
      "cell_type": "code",
      "source": [
        "import numpy as np\n",
        "import re\n"
      ],
      "metadata": {
        "id": "F-F-uT2t57dn"
      },
      "execution_count": 6,
      "outputs": []
    },
    {
      "cell_type": "code",
      "source": [
        "import matplotlib.pyplot as plt\n"
      ],
      "metadata": {
        "id": "J-T7BMzLqUfV"
      },
      "execution_count": 7,
      "outputs": []
    },
    {
      "cell_type": "code",
      "metadata": {
        "scrolled": false,
        "id": "mINvYdgqko5T"
      },
      "source": [
        "import seaborn as sns\n"
      ],
      "execution_count": 8,
      "outputs": []
    },
    {
      "cell_type": "code",
      "source": [
        "df = pd.read_csv('/content/data/lep_data-20180411T0657.csv')[1:]\n",
        "df"
      ],
      "metadata": {
        "id": "klqicdcgdUro",
        "colab": {
          "base_uri": "https://localhost:8080/",
          "height": 659
        },
        "outputId": "d77ffcec-0d24-44ef-daad-3fba418fe348"
      },
      "execution_count": 9,
      "outputs": [
        {
          "output_type": "execute_result",
          "data": {
            "text/plain": [
              "    Номер объекта                                       Наименование  \\\n",
              "1            ВЛ-1                       ВЛ 220 кВ Микунь - Заовражье   \n",
              "2            ВЛ-2              ВЛ 750 кВ Ленинградская - Белозерская   \n",
              "3            ВЛ-3         ВЛ 220 кВ Череповецкая ГРЭС - Череповецкая   \n",
              "4            ВЛ-4          ВЛ 330 кВ Балтийская АЭС - Алитус (Литва)   \n",
              "5            ВЛ-5  ВЛ 330 кВ Балтийская АЭС - ПС ПТ Мамоново N 1 ...   \n",
              "..            ...                                                ...   \n",
              "273        ВЛ-269  ВЛ 110кВ Приморская ТЭС - О-52 Светлый N 1 с о...   \n",
              "274        ВЛ-270  ВЛ 110 кВ Приморская ТЭС - О-1 Центральная с о...   \n",
              "275        ВЛ-271  ВЛ 110 кВ Маяковская ТЭС - О-4 Черняховск N 2 ...   \n",
              "276        ВЛ-272  ЛЭП 220 кВ Лозовая - ВНХК с ПС 220 кВ ВНХК (с ...   \n",
              "277        ВЛ-273  КЛ 110 кВ ПС 220/110 кВ ВНХК - РУ 110 кВ ТЭС В...   \n",
              "\n",
              "                                        Местоположение  Класс напряжения (кВ)  \\\n",
              "1    Котласский район (пос. Ватса, дер. Нырма, с. Н...                  220.0   \n",
              "2    Устюженский, Кадуйский и Череповецкий районы, ...                  750.0   \n",
              "3    Кадуйский район, Череповецкий район (дер. Шулм...                  220.0   \n",
              "4    Неманский, Краснознаменский, Гусевский и Несте...                  330.0   \n",
              "5    Багратионовский район (пос. Богдановка, пос. П...                  330.0   \n",
              "..                                                 ...                    ...   \n",
              "273  Светловский городской округ, Калининградская о...                  110.0   \n",
              "274  Светловский городской округ, Калининградская о...                  110.0   \n",
              "275  Гусевский городской округ, Черняховский городс...                  110.0   \n",
              "276                Партизанский район, Приморский край                  220.0   \n",
              "277  падь Елизарова, Партизанский муниципальный рай...                  110.0   \n",
              "\n",
              "       Срок ввода     Протяженность (км) Unnamed: 6  \\\n",
              "1        2020 год                    250        250   \n",
              "2        2019 год                    450        450   \n",
              "3        2016 год                     32         32   \n",
              "4        2017 год               2 x 58,9      117.8   \n",
              "5    до 2020 года              2 x 175,1      350.2   \n",
              "..            ...                    ...        ...   \n",
              "273      2018 год                  1 + 1          2   \n",
              "274      2018 год                  1 + 1          2   \n",
              "275      2018 год                   26.7       26.7   \n",
              "276      2019 год          30,54 + 30,53      61.07   \n",
              "277      2020 год  2 x 1,058 + 2 x 1,031      4.178   \n",
              "\n",
              "                                   Схемные особенности  \n",
              "1    обеспечение соединения и параллельной работы э...  \n",
              "2    обеспечение соединения и параллельной работы э...  \n",
              "3    обеспечение выдачи мощности электростанции мощ...  \n",
              "4    обеспечение выдачи мощности новой электростанц...  \n",
              "5    обеспечение выдачи мощности новой электростанц...  \n",
              "..                                                 ...  \n",
              "273  обеспечение выдачи мощности электростанции мощ...  \n",
              "274  обеспечение выдачи мощности электростанции мощ...  \n",
              "275  обеспечение выдачи мощности электростанции мощ...  \n",
              "276                                                  -  \n",
              "277                                                  -  \n",
              "\n",
              "[277 rows x 8 columns]"
            ],
            "text/html": [
              "\n",
              "  <div id=\"df-b3cd75f7-39bd-48c9-8274-fd46b3014b61\">\n",
              "    <div class=\"colab-df-container\">\n",
              "      <div>\n",
              "<style scoped>\n",
              "    .dataframe tbody tr th:only-of-type {\n",
              "        vertical-align: middle;\n",
              "    }\n",
              "\n",
              "    .dataframe tbody tr th {\n",
              "        vertical-align: top;\n",
              "    }\n",
              "\n",
              "    .dataframe thead th {\n",
              "        text-align: right;\n",
              "    }\n",
              "</style>\n",
              "<table border=\"1\" class=\"dataframe\">\n",
              "  <thead>\n",
              "    <tr style=\"text-align: right;\">\n",
              "      <th></th>\n",
              "      <th>Номер объекта</th>\n",
              "      <th>Наименование</th>\n",
              "      <th>Местоположение</th>\n",
              "      <th>Класс напряжения (кВ)</th>\n",
              "      <th>Срок ввода</th>\n",
              "      <th>Протяженность (км)</th>\n",
              "      <th>Unnamed: 6</th>\n",
              "      <th>Схемные особенности</th>\n",
              "    </tr>\n",
              "  </thead>\n",
              "  <tbody>\n",
              "    <tr>\n",
              "      <th>1</th>\n",
              "      <td>ВЛ-1</td>\n",
              "      <td>ВЛ 220 кВ Микунь - Заовражье</td>\n",
              "      <td>Котласский район (пос. Ватса, дер. Нырма, с. Н...</td>\n",
              "      <td>220.0</td>\n",
              "      <td>2020 год</td>\n",
              "      <td>250</td>\n",
              "      <td>250</td>\n",
              "      <td>обеспечение соединения и параллельной работы э...</td>\n",
              "    </tr>\n",
              "    <tr>\n",
              "      <th>2</th>\n",
              "      <td>ВЛ-2</td>\n",
              "      <td>ВЛ 750 кВ Ленинградская - Белозерская</td>\n",
              "      <td>Устюженский, Кадуйский и Череповецкий районы, ...</td>\n",
              "      <td>750.0</td>\n",
              "      <td>2019 год</td>\n",
              "      <td>450</td>\n",
              "      <td>450</td>\n",
              "      <td>обеспечение соединения и параллельной работы э...</td>\n",
              "    </tr>\n",
              "    <tr>\n",
              "      <th>3</th>\n",
              "      <td>ВЛ-3</td>\n",
              "      <td>ВЛ 220 кВ Череповецкая ГРЭС - Череповецкая</td>\n",
              "      <td>Кадуйский район, Череповецкий район (дер. Шулм...</td>\n",
              "      <td>220.0</td>\n",
              "      <td>2016 год</td>\n",
              "      <td>32</td>\n",
              "      <td>32</td>\n",
              "      <td>обеспечение выдачи мощности электростанции мощ...</td>\n",
              "    </tr>\n",
              "    <tr>\n",
              "      <th>4</th>\n",
              "      <td>ВЛ-4</td>\n",
              "      <td>ВЛ 330 кВ Балтийская АЭС - Алитус (Литва)</td>\n",
              "      <td>Неманский, Краснознаменский, Гусевский и Несте...</td>\n",
              "      <td>330.0</td>\n",
              "      <td>2017 год</td>\n",
              "      <td>2 x 58,9</td>\n",
              "      <td>117.8</td>\n",
              "      <td>обеспечение выдачи мощности новой электростанц...</td>\n",
              "    </tr>\n",
              "    <tr>\n",
              "      <th>5</th>\n",
              "      <td>ВЛ-5</td>\n",
              "      <td>ВЛ 330 кВ Балтийская АЭС - ПС ПТ Мамоново N 1 ...</td>\n",
              "      <td>Багратионовский район (пос. Богдановка, пос. П...</td>\n",
              "      <td>330.0</td>\n",
              "      <td>до 2020 года</td>\n",
              "      <td>2 x 175,1</td>\n",
              "      <td>350.2</td>\n",
              "      <td>обеспечение выдачи мощности новой электростанц...</td>\n",
              "    </tr>\n",
              "    <tr>\n",
              "      <th>...</th>\n",
              "      <td>...</td>\n",
              "      <td>...</td>\n",
              "      <td>...</td>\n",
              "      <td>...</td>\n",
              "      <td>...</td>\n",
              "      <td>...</td>\n",
              "      <td>...</td>\n",
              "      <td>...</td>\n",
              "    </tr>\n",
              "    <tr>\n",
              "      <th>273</th>\n",
              "      <td>ВЛ-269</td>\n",
              "      <td>ВЛ 110кВ Приморская ТЭС - О-52 Светлый N 1 с о...</td>\n",
              "      <td>Светловский городской округ, Калининградская о...</td>\n",
              "      <td>110.0</td>\n",
              "      <td>2018 год</td>\n",
              "      <td>1 + 1</td>\n",
              "      <td>2</td>\n",
              "      <td>обеспечение выдачи мощности электростанции мощ...</td>\n",
              "    </tr>\n",
              "    <tr>\n",
              "      <th>274</th>\n",
              "      <td>ВЛ-270</td>\n",
              "      <td>ВЛ 110 кВ Приморская ТЭС - О-1 Центральная с о...</td>\n",
              "      <td>Светловский городской округ, Калининградская о...</td>\n",
              "      <td>110.0</td>\n",
              "      <td>2018 год</td>\n",
              "      <td>1 + 1</td>\n",
              "      <td>2</td>\n",
              "      <td>обеспечение выдачи мощности электростанции мощ...</td>\n",
              "    </tr>\n",
              "    <tr>\n",
              "      <th>275</th>\n",
              "      <td>ВЛ-271</td>\n",
              "      <td>ВЛ 110 кВ Маяковская ТЭС - О-4 Черняховск N 2 ...</td>\n",
              "      <td>Гусевский городской округ, Черняховский городс...</td>\n",
              "      <td>110.0</td>\n",
              "      <td>2018 год</td>\n",
              "      <td>26.7</td>\n",
              "      <td>26.7</td>\n",
              "      <td>обеспечение выдачи мощности электростанции мощ...</td>\n",
              "    </tr>\n",
              "    <tr>\n",
              "      <th>276</th>\n",
              "      <td>ВЛ-272</td>\n",
              "      <td>ЛЭП 220 кВ Лозовая - ВНХК с ПС 220 кВ ВНХК (с ...</td>\n",
              "      <td>Партизанский район, Приморский край</td>\n",
              "      <td>220.0</td>\n",
              "      <td>2019 год</td>\n",
              "      <td>30,54 + 30,53</td>\n",
              "      <td>61.07</td>\n",
              "      <td>-</td>\n",
              "    </tr>\n",
              "    <tr>\n",
              "      <th>277</th>\n",
              "      <td>ВЛ-273</td>\n",
              "      <td>КЛ 110 кВ ПС 220/110 кВ ВНХК - РУ 110 кВ ТЭС В...</td>\n",
              "      <td>падь Елизарова, Партизанский муниципальный рай...</td>\n",
              "      <td>110.0</td>\n",
              "      <td>2020 год</td>\n",
              "      <td>2 x 1,058 + 2 x 1,031</td>\n",
              "      <td>4.178</td>\n",
              "      <td>-</td>\n",
              "    </tr>\n",
              "  </tbody>\n",
              "</table>\n",
              "<p>277 rows × 8 columns</p>\n",
              "</div>\n",
              "      <button class=\"colab-df-convert\" onclick=\"convertToInteractive('df-b3cd75f7-39bd-48c9-8274-fd46b3014b61')\"\n",
              "              title=\"Convert this dataframe to an interactive table.\"\n",
              "              style=\"display:none;\">\n",
              "        \n",
              "  <svg xmlns=\"http://www.w3.org/2000/svg\" height=\"24px\"viewBox=\"0 0 24 24\"\n",
              "       width=\"24px\">\n",
              "    <path d=\"M0 0h24v24H0V0z\" fill=\"none\"/>\n",
              "    <path d=\"M18.56 5.44l.94 2.06.94-2.06 2.06-.94-2.06-.94-.94-2.06-.94 2.06-2.06.94zm-11 1L8.5 8.5l.94-2.06 2.06-.94-2.06-.94L8.5 2.5l-.94 2.06-2.06.94zm10 10l.94 2.06.94-2.06 2.06-.94-2.06-.94-.94-2.06-.94 2.06-2.06.94z\"/><path d=\"M17.41 7.96l-1.37-1.37c-.4-.4-.92-.59-1.43-.59-.52 0-1.04.2-1.43.59L10.3 9.45l-7.72 7.72c-.78.78-.78 2.05 0 2.83L4 21.41c.39.39.9.59 1.41.59.51 0 1.02-.2 1.41-.59l7.78-7.78 2.81-2.81c.8-.78.8-2.07 0-2.86zM5.41 20L4 18.59l7.72-7.72 1.47 1.35L5.41 20z\"/>\n",
              "  </svg>\n",
              "      </button>\n",
              "      \n",
              "  <style>\n",
              "    .colab-df-container {\n",
              "      display:flex;\n",
              "      flex-wrap:wrap;\n",
              "      gap: 12px;\n",
              "    }\n",
              "\n",
              "    .colab-df-convert {\n",
              "      background-color: #E8F0FE;\n",
              "      border: none;\n",
              "      border-radius: 50%;\n",
              "      cursor: pointer;\n",
              "      display: none;\n",
              "      fill: #1967D2;\n",
              "      height: 32px;\n",
              "      padding: 0 0 0 0;\n",
              "      width: 32px;\n",
              "    }\n",
              "\n",
              "    .colab-df-convert:hover {\n",
              "      background-color: #E2EBFA;\n",
              "      box-shadow: 0px 1px 2px rgba(60, 64, 67, 0.3), 0px 1px 3px 1px rgba(60, 64, 67, 0.15);\n",
              "      fill: #174EA6;\n",
              "    }\n",
              "\n",
              "    [theme=dark] .colab-df-convert {\n",
              "      background-color: #3B4455;\n",
              "      fill: #D2E3FC;\n",
              "    }\n",
              "\n",
              "    [theme=dark] .colab-df-convert:hover {\n",
              "      background-color: #434B5C;\n",
              "      box-shadow: 0px 1px 3px 1px rgba(0, 0, 0, 0.15);\n",
              "      filter: drop-shadow(0px 1px 2px rgba(0, 0, 0, 0.3));\n",
              "      fill: #FFFFFF;\n",
              "    }\n",
              "  </style>\n",
              "\n",
              "      <script>\n",
              "        const buttonEl =\n",
              "          document.querySelector('#df-b3cd75f7-39bd-48c9-8274-fd46b3014b61 button.colab-df-convert');\n",
              "        buttonEl.style.display =\n",
              "          google.colab.kernel.accessAllowed ? 'block' : 'none';\n",
              "\n",
              "        async function convertToInteractive(key) {\n",
              "          const element = document.querySelector('#df-b3cd75f7-39bd-48c9-8274-fd46b3014b61');\n",
              "          const dataTable =\n",
              "            await google.colab.kernel.invokeFunction('convertToInteractive',\n",
              "                                                     [key], {});\n",
              "          if (!dataTable) return;\n",
              "\n",
              "          const docLinkHtml = 'Like what you see? Visit the ' +\n",
              "            '<a target=\"_blank\" href=https://colab.research.google.com/notebooks/data_table.ipynb>data table notebook</a>'\n",
              "            + ' to learn more about interactive tables.';\n",
              "          element.innerHTML = '';\n",
              "          dataTable['output_type'] = 'display_data';\n",
              "          await google.colab.output.renderOutput(dataTable, element);\n",
              "          const docLink = document.createElement('div');\n",
              "          docLink.innerHTML = docLinkHtml;\n",
              "          element.appendChild(docLink);\n",
              "        }\n",
              "      </script>\n",
              "    </div>\n",
              "  </div>\n",
              "  "
            ]
          },
          "metadata": {},
          "execution_count": 9
        }
      ]
    },
    {
      "cell_type": "code",
      "source": [
        "df.info()\n"
      ],
      "metadata": {
        "id": "23RrTYaNdUMT",
        "colab": {
          "base_uri": "https://localhost:8080/"
        },
        "outputId": "cfb4bce5-27f5-4087-ff2f-4cdb662b66a1"
      },
      "execution_count": 10,
      "outputs": [
        {
          "output_type": "stream",
          "name": "stdout",
          "text": [
            "<class 'pandas.core.frame.DataFrame'>\n",
            "RangeIndex: 277 entries, 1 to 277\n",
            "Data columns (total 8 columns):\n",
            " #   Column                 Non-Null Count  Dtype  \n",
            "---  ------                 --------------  -----  \n",
            " 0   Номер объекта          273 non-null    object \n",
            " 1   Наименование           275 non-null    object \n",
            " 2   Местоположение         273 non-null    object \n",
            " 3   Класс напряжения (кВ)  273 non-null    float64\n",
            " 4   Срок ввода             273 non-null    object \n",
            " 5   Протяженность (км)     275 non-null    object \n",
            " 6   Unnamed: 6             274 non-null    object \n",
            " 7   Схемные особенности    273 non-null    object \n",
            "dtypes: float64(1), object(7)\n",
            "memory usage: 17.4+ KB\n"
          ]
        }
      ]
    },
    {
      "cell_type": "code",
      "source": [
        "names = ['id',\n",
        "         'name',\n",
        "         'place',\n",
        "         'class',\n",
        "         'year_str',\n",
        "         'dist_name',\n",
        "         'dist',\n",
        "         'features'\n",
        "          ]"
      ],
      "metadata": {
        "id": "tWbuoJzLdT9E"
      },
      "execution_count": 11,
      "outputs": []
    },
    {
      "cell_type": "code",
      "execution_count": 12,
      "metadata": {
        "colab": {
          "base_uri": "https://localhost:8080/",
          "height": 572
        },
        "id": "0tGPevZJwdLt",
        "outputId": "f10c6f37-2266-4f71-b5fe-6cff2efa4dfe"
      },
      "outputs": [
        {
          "output_type": "execute_result",
          "data": {
            "text/plain": [
              "         id                                               name  \\\n",
              "1      ВЛ-1                       ВЛ 220 кВ Микунь - Заовражье   \n",
              "2      ВЛ-2              ВЛ 750 кВ Ленинградская - Белозерская   \n",
              "3      ВЛ-3         ВЛ 220 кВ Череповецкая ГРЭС - Череповецкая   \n",
              "4      ВЛ-4          ВЛ 330 кВ Балтийская АЭС - Алитус (Литва)   \n",
              "5      ВЛ-5  ВЛ 330 кВ Балтийская АЭС - ПС ПТ Мамоново N 1 ...   \n",
              "..      ...                                                ...   \n",
              "273  ВЛ-269  ВЛ 110кВ Приморская ТЭС - О-52 Светлый N 1 с о...   \n",
              "274  ВЛ-270  ВЛ 110 кВ Приморская ТЭС - О-1 Центральная с о...   \n",
              "275  ВЛ-271  ВЛ 110 кВ Маяковская ТЭС - О-4 Черняховск N 2 ...   \n",
              "276  ВЛ-272  ЛЭП 220 кВ Лозовая - ВНХК с ПС 220 кВ ВНХК (с ...   \n",
              "277  ВЛ-273  КЛ 110 кВ ПС 220/110 кВ ВНХК - РУ 110 кВ ТЭС В...   \n",
              "\n",
              "                                                 place  class      year_str  \\\n",
              "1    Котласский район (пос. Ватса, дер. Нырма, с. Н...  220.0      2020 год   \n",
              "2    Устюженский, Кадуйский и Череповецкий районы, ...  750.0      2019 год   \n",
              "3    Кадуйский район, Череповецкий район (дер. Шулм...  220.0      2016 год   \n",
              "4    Неманский, Краснознаменский, Гусевский и Несте...  330.0      2017 год   \n",
              "5    Багратионовский район (пос. Богдановка, пос. П...  330.0  до 2020 года   \n",
              "..                                                 ...    ...           ...   \n",
              "273  Светловский городской округ, Калининградская о...  110.0      2018 год   \n",
              "274  Светловский городской округ, Калининградская о...  110.0      2018 год   \n",
              "275  Гусевский городской округ, Черняховский городс...  110.0      2018 год   \n",
              "276                Партизанский район, Приморский край  220.0      2019 год   \n",
              "277  падь Елизарова, Партизанский муниципальный рай...  110.0      2020 год   \n",
              "\n",
              "                 dist_name   dist  \\\n",
              "1                      250    250   \n",
              "2                      450    450   \n",
              "3                       32     32   \n",
              "4                 2 x 58,9  117.8   \n",
              "5                2 x 175,1  350.2   \n",
              "..                     ...    ...   \n",
              "273                  1 + 1      2   \n",
              "274                  1 + 1      2   \n",
              "275                   26.7   26.7   \n",
              "276          30,54 + 30,53  61.07   \n",
              "277  2 x 1,058 + 2 x 1,031  4.178   \n",
              "\n",
              "                                              features  \n",
              "1    обеспечение соединения и параллельной работы э...  \n",
              "2    обеспечение соединения и параллельной работы э...  \n",
              "3    обеспечение выдачи мощности электростанции мощ...  \n",
              "4    обеспечение выдачи мощности новой электростанц...  \n",
              "5    обеспечение выдачи мощности новой электростанц...  \n",
              "..                                                 ...  \n",
              "273  обеспечение выдачи мощности электростанции мощ...  \n",
              "274  обеспечение выдачи мощности электростанции мощ...  \n",
              "275  обеспечение выдачи мощности электростанции мощ...  \n",
              "276                                                  -  \n",
              "277                                                  -  \n",
              "\n",
              "[277 rows x 8 columns]"
            ],
            "text/html": [
              "\n",
              "  <div id=\"df-c4dd5566-4e66-4dc1-b096-f6b510008096\">\n",
              "    <div class=\"colab-df-container\">\n",
              "      <div>\n",
              "<style scoped>\n",
              "    .dataframe tbody tr th:only-of-type {\n",
              "        vertical-align: middle;\n",
              "    }\n",
              "\n",
              "    .dataframe tbody tr th {\n",
              "        vertical-align: top;\n",
              "    }\n",
              "\n",
              "    .dataframe thead th {\n",
              "        text-align: right;\n",
              "    }\n",
              "</style>\n",
              "<table border=\"1\" class=\"dataframe\">\n",
              "  <thead>\n",
              "    <tr style=\"text-align: right;\">\n",
              "      <th></th>\n",
              "      <th>id</th>\n",
              "      <th>name</th>\n",
              "      <th>place</th>\n",
              "      <th>class</th>\n",
              "      <th>year_str</th>\n",
              "      <th>dist_name</th>\n",
              "      <th>dist</th>\n",
              "      <th>features</th>\n",
              "    </tr>\n",
              "  </thead>\n",
              "  <tbody>\n",
              "    <tr>\n",
              "      <th>1</th>\n",
              "      <td>ВЛ-1</td>\n",
              "      <td>ВЛ 220 кВ Микунь - Заовражье</td>\n",
              "      <td>Котласский район (пос. Ватса, дер. Нырма, с. Н...</td>\n",
              "      <td>220.0</td>\n",
              "      <td>2020 год</td>\n",
              "      <td>250</td>\n",
              "      <td>250</td>\n",
              "      <td>обеспечение соединения и параллельной работы э...</td>\n",
              "    </tr>\n",
              "    <tr>\n",
              "      <th>2</th>\n",
              "      <td>ВЛ-2</td>\n",
              "      <td>ВЛ 750 кВ Ленинградская - Белозерская</td>\n",
              "      <td>Устюженский, Кадуйский и Череповецкий районы, ...</td>\n",
              "      <td>750.0</td>\n",
              "      <td>2019 год</td>\n",
              "      <td>450</td>\n",
              "      <td>450</td>\n",
              "      <td>обеспечение соединения и параллельной работы э...</td>\n",
              "    </tr>\n",
              "    <tr>\n",
              "      <th>3</th>\n",
              "      <td>ВЛ-3</td>\n",
              "      <td>ВЛ 220 кВ Череповецкая ГРЭС - Череповецкая</td>\n",
              "      <td>Кадуйский район, Череповецкий район (дер. Шулм...</td>\n",
              "      <td>220.0</td>\n",
              "      <td>2016 год</td>\n",
              "      <td>32</td>\n",
              "      <td>32</td>\n",
              "      <td>обеспечение выдачи мощности электростанции мощ...</td>\n",
              "    </tr>\n",
              "    <tr>\n",
              "      <th>4</th>\n",
              "      <td>ВЛ-4</td>\n",
              "      <td>ВЛ 330 кВ Балтийская АЭС - Алитус (Литва)</td>\n",
              "      <td>Неманский, Краснознаменский, Гусевский и Несте...</td>\n",
              "      <td>330.0</td>\n",
              "      <td>2017 год</td>\n",
              "      <td>2 x 58,9</td>\n",
              "      <td>117.8</td>\n",
              "      <td>обеспечение выдачи мощности новой электростанц...</td>\n",
              "    </tr>\n",
              "    <tr>\n",
              "      <th>5</th>\n",
              "      <td>ВЛ-5</td>\n",
              "      <td>ВЛ 330 кВ Балтийская АЭС - ПС ПТ Мамоново N 1 ...</td>\n",
              "      <td>Багратионовский район (пос. Богдановка, пос. П...</td>\n",
              "      <td>330.0</td>\n",
              "      <td>до 2020 года</td>\n",
              "      <td>2 x 175,1</td>\n",
              "      <td>350.2</td>\n",
              "      <td>обеспечение выдачи мощности новой электростанц...</td>\n",
              "    </tr>\n",
              "    <tr>\n",
              "      <th>...</th>\n",
              "      <td>...</td>\n",
              "      <td>...</td>\n",
              "      <td>...</td>\n",
              "      <td>...</td>\n",
              "      <td>...</td>\n",
              "      <td>...</td>\n",
              "      <td>...</td>\n",
              "      <td>...</td>\n",
              "    </tr>\n",
              "    <tr>\n",
              "      <th>273</th>\n",
              "      <td>ВЛ-269</td>\n",
              "      <td>ВЛ 110кВ Приморская ТЭС - О-52 Светлый N 1 с о...</td>\n",
              "      <td>Светловский городской округ, Калининградская о...</td>\n",
              "      <td>110.0</td>\n",
              "      <td>2018 год</td>\n",
              "      <td>1 + 1</td>\n",
              "      <td>2</td>\n",
              "      <td>обеспечение выдачи мощности электростанции мощ...</td>\n",
              "    </tr>\n",
              "    <tr>\n",
              "      <th>274</th>\n",
              "      <td>ВЛ-270</td>\n",
              "      <td>ВЛ 110 кВ Приморская ТЭС - О-1 Центральная с о...</td>\n",
              "      <td>Светловский городской округ, Калининградская о...</td>\n",
              "      <td>110.0</td>\n",
              "      <td>2018 год</td>\n",
              "      <td>1 + 1</td>\n",
              "      <td>2</td>\n",
              "      <td>обеспечение выдачи мощности электростанции мощ...</td>\n",
              "    </tr>\n",
              "    <tr>\n",
              "      <th>275</th>\n",
              "      <td>ВЛ-271</td>\n",
              "      <td>ВЛ 110 кВ Маяковская ТЭС - О-4 Черняховск N 2 ...</td>\n",
              "      <td>Гусевский городской округ, Черняховский городс...</td>\n",
              "      <td>110.0</td>\n",
              "      <td>2018 год</td>\n",
              "      <td>26.7</td>\n",
              "      <td>26.7</td>\n",
              "      <td>обеспечение выдачи мощности электростанции мощ...</td>\n",
              "    </tr>\n",
              "    <tr>\n",
              "      <th>276</th>\n",
              "      <td>ВЛ-272</td>\n",
              "      <td>ЛЭП 220 кВ Лозовая - ВНХК с ПС 220 кВ ВНХК (с ...</td>\n",
              "      <td>Партизанский район, Приморский край</td>\n",
              "      <td>220.0</td>\n",
              "      <td>2019 год</td>\n",
              "      <td>30,54 + 30,53</td>\n",
              "      <td>61.07</td>\n",
              "      <td>-</td>\n",
              "    </tr>\n",
              "    <tr>\n",
              "      <th>277</th>\n",
              "      <td>ВЛ-273</td>\n",
              "      <td>КЛ 110 кВ ПС 220/110 кВ ВНХК - РУ 110 кВ ТЭС В...</td>\n",
              "      <td>падь Елизарова, Партизанский муниципальный рай...</td>\n",
              "      <td>110.0</td>\n",
              "      <td>2020 год</td>\n",
              "      <td>2 x 1,058 + 2 x 1,031</td>\n",
              "      <td>4.178</td>\n",
              "      <td>-</td>\n",
              "    </tr>\n",
              "  </tbody>\n",
              "</table>\n",
              "<p>277 rows × 8 columns</p>\n",
              "</div>\n",
              "      <button class=\"colab-df-convert\" onclick=\"convertToInteractive('df-c4dd5566-4e66-4dc1-b096-f6b510008096')\"\n",
              "              title=\"Convert this dataframe to an interactive table.\"\n",
              "              style=\"display:none;\">\n",
              "        \n",
              "  <svg xmlns=\"http://www.w3.org/2000/svg\" height=\"24px\"viewBox=\"0 0 24 24\"\n",
              "       width=\"24px\">\n",
              "    <path d=\"M0 0h24v24H0V0z\" fill=\"none\"/>\n",
              "    <path d=\"M18.56 5.44l.94 2.06.94-2.06 2.06-.94-2.06-.94-.94-2.06-.94 2.06-2.06.94zm-11 1L8.5 8.5l.94-2.06 2.06-.94-2.06-.94L8.5 2.5l-.94 2.06-2.06.94zm10 10l.94 2.06.94-2.06 2.06-.94-2.06-.94-.94-2.06-.94 2.06-2.06.94z\"/><path d=\"M17.41 7.96l-1.37-1.37c-.4-.4-.92-.59-1.43-.59-.52 0-1.04.2-1.43.59L10.3 9.45l-7.72 7.72c-.78.78-.78 2.05 0 2.83L4 21.41c.39.39.9.59 1.41.59.51 0 1.02-.2 1.41-.59l7.78-7.78 2.81-2.81c.8-.78.8-2.07 0-2.86zM5.41 20L4 18.59l7.72-7.72 1.47 1.35L5.41 20z\"/>\n",
              "  </svg>\n",
              "      </button>\n",
              "      \n",
              "  <style>\n",
              "    .colab-df-container {\n",
              "      display:flex;\n",
              "      flex-wrap:wrap;\n",
              "      gap: 12px;\n",
              "    }\n",
              "\n",
              "    .colab-df-convert {\n",
              "      background-color: #E8F0FE;\n",
              "      border: none;\n",
              "      border-radius: 50%;\n",
              "      cursor: pointer;\n",
              "      display: none;\n",
              "      fill: #1967D2;\n",
              "      height: 32px;\n",
              "      padding: 0 0 0 0;\n",
              "      width: 32px;\n",
              "    }\n",
              "\n",
              "    .colab-df-convert:hover {\n",
              "      background-color: #E2EBFA;\n",
              "      box-shadow: 0px 1px 2px rgba(60, 64, 67, 0.3), 0px 1px 3px 1px rgba(60, 64, 67, 0.15);\n",
              "      fill: #174EA6;\n",
              "    }\n",
              "\n",
              "    [theme=dark] .colab-df-convert {\n",
              "      background-color: #3B4455;\n",
              "      fill: #D2E3FC;\n",
              "    }\n",
              "\n",
              "    [theme=dark] .colab-df-convert:hover {\n",
              "      background-color: #434B5C;\n",
              "      box-shadow: 0px 1px 3px 1px rgba(0, 0, 0, 0.15);\n",
              "      filter: drop-shadow(0px 1px 2px rgba(0, 0, 0, 0.3));\n",
              "      fill: #FFFFFF;\n",
              "    }\n",
              "  </style>\n",
              "\n",
              "      <script>\n",
              "        const buttonEl =\n",
              "          document.querySelector('#df-c4dd5566-4e66-4dc1-b096-f6b510008096 button.colab-df-convert');\n",
              "        buttonEl.style.display =\n",
              "          google.colab.kernel.accessAllowed ? 'block' : 'none';\n",
              "\n",
              "        async function convertToInteractive(key) {\n",
              "          const element = document.querySelector('#df-c4dd5566-4e66-4dc1-b096-f6b510008096');\n",
              "          const dataTable =\n",
              "            await google.colab.kernel.invokeFunction('convertToInteractive',\n",
              "                                                     [key], {});\n",
              "          if (!dataTable) return;\n",
              "\n",
              "          const docLinkHtml = 'Like what you see? Visit the ' +\n",
              "            '<a target=\"_blank\" href=https://colab.research.google.com/notebooks/data_table.ipynb>data table notebook</a>'\n",
              "            + ' to learn more about interactive tables.';\n",
              "          element.innerHTML = '';\n",
              "          dataTable['output_type'] = 'display_data';\n",
              "          await google.colab.output.renderOutput(dataTable, element);\n",
              "          const docLink = document.createElement('div');\n",
              "          docLink.innerHTML = docLinkHtml;\n",
              "          element.appendChild(docLink);\n",
              "        }\n",
              "      </script>\n",
              "    </div>\n",
              "  </div>\n",
              "  "
            ]
          },
          "metadata": {},
          "execution_count": 12
        }
      ],
      "source": [
        "df = df.rename(dict(zip(df.columns, names)), axis=1)\n",
        "df"
      ]
    },
    {
      "cell_type": "code",
      "source": [
        "df['dist'] = df['dist'].astype(float)\n",
        "# df['year'] = df['year'].astype(int)\n",
        "df.info()\n"
      ],
      "metadata": {
        "colab": {
          "base_uri": "https://localhost:8080/"
        },
        "id": "RnCCiiQirugy",
        "outputId": "179dd943-2b0b-4b13-f016-ea4123078ddf"
      },
      "execution_count": 13,
      "outputs": [
        {
          "output_type": "stream",
          "name": "stdout",
          "text": [
            "<class 'pandas.core.frame.DataFrame'>\n",
            "RangeIndex: 277 entries, 1 to 277\n",
            "Data columns (total 8 columns):\n",
            " #   Column     Non-Null Count  Dtype  \n",
            "---  ------     --------------  -----  \n",
            " 0   id         273 non-null    object \n",
            " 1   name       275 non-null    object \n",
            " 2   place      273 non-null    object \n",
            " 3   class      273 non-null    float64\n",
            " 4   year_str   273 non-null    object \n",
            " 5   dist_name  275 non-null    object \n",
            " 6   dist       274 non-null    float64\n",
            " 7   features   273 non-null    object \n",
            "dtypes: float64(2), object(6)\n",
            "memory usage: 17.4+ KB\n"
          ]
        }
      ]
    },
    {
      "cell_type": "code",
      "source": [
        "df.describe()"
      ],
      "metadata": {
        "colab": {
          "base_uri": "https://localhost:8080/",
          "height": 300
        },
        "id": "MEJqvM3Zx8Nq",
        "outputId": "312a2c6f-ca9d-4647-92f8-6aba754aca32"
      },
      "execution_count": 14,
      "outputs": [
        {
          "output_type": "execute_result",
          "data": {
            "text/plain": [
              "            class        dist\n",
              "count  273.000000  274.000000\n",
              "mean   288.388278  116.394226\n",
              "std    136.716899  147.652287\n",
              "min    110.000000    0.200000\n",
              "25%    220.000000   10.000000\n",
              "50%    220.000000   58.500000\n",
              "75%    330.000000  160.450000\n",
              "max    750.000000  850.000000"
            ],
            "text/html": [
              "\n",
              "  <div id=\"df-07db800a-500e-410b-a4cc-3ea840004f37\">\n",
              "    <div class=\"colab-df-container\">\n",
              "      <div>\n",
              "<style scoped>\n",
              "    .dataframe tbody tr th:only-of-type {\n",
              "        vertical-align: middle;\n",
              "    }\n",
              "\n",
              "    .dataframe tbody tr th {\n",
              "        vertical-align: top;\n",
              "    }\n",
              "\n",
              "    .dataframe thead th {\n",
              "        text-align: right;\n",
              "    }\n",
              "</style>\n",
              "<table border=\"1\" class=\"dataframe\">\n",
              "  <thead>\n",
              "    <tr style=\"text-align: right;\">\n",
              "      <th></th>\n",
              "      <th>class</th>\n",
              "      <th>dist</th>\n",
              "    </tr>\n",
              "  </thead>\n",
              "  <tbody>\n",
              "    <tr>\n",
              "      <th>count</th>\n",
              "      <td>273.000000</td>\n",
              "      <td>274.000000</td>\n",
              "    </tr>\n",
              "    <tr>\n",
              "      <th>mean</th>\n",
              "      <td>288.388278</td>\n",
              "      <td>116.394226</td>\n",
              "    </tr>\n",
              "    <tr>\n",
              "      <th>std</th>\n",
              "      <td>136.716899</td>\n",
              "      <td>147.652287</td>\n",
              "    </tr>\n",
              "    <tr>\n",
              "      <th>min</th>\n",
              "      <td>110.000000</td>\n",
              "      <td>0.200000</td>\n",
              "    </tr>\n",
              "    <tr>\n",
              "      <th>25%</th>\n",
              "      <td>220.000000</td>\n",
              "      <td>10.000000</td>\n",
              "    </tr>\n",
              "    <tr>\n",
              "      <th>50%</th>\n",
              "      <td>220.000000</td>\n",
              "      <td>58.500000</td>\n",
              "    </tr>\n",
              "    <tr>\n",
              "      <th>75%</th>\n",
              "      <td>330.000000</td>\n",
              "      <td>160.450000</td>\n",
              "    </tr>\n",
              "    <tr>\n",
              "      <th>max</th>\n",
              "      <td>750.000000</td>\n",
              "      <td>850.000000</td>\n",
              "    </tr>\n",
              "  </tbody>\n",
              "</table>\n",
              "</div>\n",
              "      <button class=\"colab-df-convert\" onclick=\"convertToInteractive('df-07db800a-500e-410b-a4cc-3ea840004f37')\"\n",
              "              title=\"Convert this dataframe to an interactive table.\"\n",
              "              style=\"display:none;\">\n",
              "        \n",
              "  <svg xmlns=\"http://www.w3.org/2000/svg\" height=\"24px\"viewBox=\"0 0 24 24\"\n",
              "       width=\"24px\">\n",
              "    <path d=\"M0 0h24v24H0V0z\" fill=\"none\"/>\n",
              "    <path d=\"M18.56 5.44l.94 2.06.94-2.06 2.06-.94-2.06-.94-.94-2.06-.94 2.06-2.06.94zm-11 1L8.5 8.5l.94-2.06 2.06-.94-2.06-.94L8.5 2.5l-.94 2.06-2.06.94zm10 10l.94 2.06.94-2.06 2.06-.94-2.06-.94-.94-2.06-.94 2.06-2.06.94z\"/><path d=\"M17.41 7.96l-1.37-1.37c-.4-.4-.92-.59-1.43-.59-.52 0-1.04.2-1.43.59L10.3 9.45l-7.72 7.72c-.78.78-.78 2.05 0 2.83L4 21.41c.39.39.9.59 1.41.59.51 0 1.02-.2 1.41-.59l7.78-7.78 2.81-2.81c.8-.78.8-2.07 0-2.86zM5.41 20L4 18.59l7.72-7.72 1.47 1.35L5.41 20z\"/>\n",
              "  </svg>\n",
              "      </button>\n",
              "      \n",
              "  <style>\n",
              "    .colab-df-container {\n",
              "      display:flex;\n",
              "      flex-wrap:wrap;\n",
              "      gap: 12px;\n",
              "    }\n",
              "\n",
              "    .colab-df-convert {\n",
              "      background-color: #E8F0FE;\n",
              "      border: none;\n",
              "      border-radius: 50%;\n",
              "      cursor: pointer;\n",
              "      display: none;\n",
              "      fill: #1967D2;\n",
              "      height: 32px;\n",
              "      padding: 0 0 0 0;\n",
              "      width: 32px;\n",
              "    }\n",
              "\n",
              "    .colab-df-convert:hover {\n",
              "      background-color: #E2EBFA;\n",
              "      box-shadow: 0px 1px 2px rgba(60, 64, 67, 0.3), 0px 1px 3px 1px rgba(60, 64, 67, 0.15);\n",
              "      fill: #174EA6;\n",
              "    }\n",
              "\n",
              "    [theme=dark] .colab-df-convert {\n",
              "      background-color: #3B4455;\n",
              "      fill: #D2E3FC;\n",
              "    }\n",
              "\n",
              "    [theme=dark] .colab-df-convert:hover {\n",
              "      background-color: #434B5C;\n",
              "      box-shadow: 0px 1px 3px 1px rgba(0, 0, 0, 0.15);\n",
              "      filter: drop-shadow(0px 1px 2px rgba(0, 0, 0, 0.3));\n",
              "      fill: #FFFFFF;\n",
              "    }\n",
              "  </style>\n",
              "\n",
              "      <script>\n",
              "        const buttonEl =\n",
              "          document.querySelector('#df-07db800a-500e-410b-a4cc-3ea840004f37 button.colab-df-convert');\n",
              "        buttonEl.style.display =\n",
              "          google.colab.kernel.accessAllowed ? 'block' : 'none';\n",
              "\n",
              "        async function convertToInteractive(key) {\n",
              "          const element = document.querySelector('#df-07db800a-500e-410b-a4cc-3ea840004f37');\n",
              "          const dataTable =\n",
              "            await google.colab.kernel.invokeFunction('convertToInteractive',\n",
              "                                                     [key], {});\n",
              "          if (!dataTable) return;\n",
              "\n",
              "          const docLinkHtml = 'Like what you see? Visit the ' +\n",
              "            '<a target=\"_blank\" href=https://colab.research.google.com/notebooks/data_table.ipynb>data table notebook</a>'\n",
              "            + ' to learn more about interactive tables.';\n",
              "          element.innerHTML = '';\n",
              "          dataTable['output_type'] = 'display_data';\n",
              "          await google.colab.output.renderOutput(dataTable, element);\n",
              "          const docLink = document.createElement('div');\n",
              "          docLink.innerHTML = docLinkHtml;\n",
              "          element.appendChild(docLink);\n",
              "        }\n",
              "      </script>\n",
              "    </div>\n",
              "  </div>\n",
              "  "
            ]
          },
          "metadata": {},
          "execution_count": 14
        }
      ]
    },
    {
      "cell_type": "markdown",
      "source": [
        "Видно наличие пропусков, стоит рассмотреть их природу и определить методы работы с ними"
      ],
      "metadata": {
        "id": "_7gPJ43l1Z0y"
      }
    },
    {
      "cell_type": "code",
      "source": [
        "df[df.isna().any(1)]\n"
      ],
      "metadata": {
        "colab": {
          "base_uri": "https://localhost:8080/",
          "height": 175
        },
        "id": "kAw8T3D2ruo9",
        "outputId": "88d85c97-eb68-4dcb-db3b-116ef3aaa8ec"
      },
      "execution_count": 15,
      "outputs": [
        {
          "output_type": "execute_result",
          "data": {
            "text/plain": [
              "      id                                       name place  class year_str  \\\n",
              "34   NaN                                        NaN   NaN    NaN      NaN   \n",
              "83   NaN  заходы на Ярославскую ТЭС (ПГУ - 470 МВт)   NaN    NaN      NaN   \n",
              "85   NaN  заходы на Ярославскую ТЭС (ПГУ - 470 МВт)   NaN    NaN      NaN   \n",
              "122  NaN                                        NaN   NaN    NaN      NaN   \n",
              "\n",
              "                             dist_name  dist features  \n",
              "34                             КЛ - 46  46.0      NaN  \n",
              "83                                 NaN   NaN      NaN  \n",
              "85                                 NaN   NaN      NaN  \n",
              "122  со стороны ПС 220 кВ Бужора - 8,3   NaN      NaN  "
            ],
            "text/html": [
              "\n",
              "  <div id=\"df-550c8c29-1de4-4635-82cc-0527c99974ab\">\n",
              "    <div class=\"colab-df-container\">\n",
              "      <div>\n",
              "<style scoped>\n",
              "    .dataframe tbody tr th:only-of-type {\n",
              "        vertical-align: middle;\n",
              "    }\n",
              "\n",
              "    .dataframe tbody tr th {\n",
              "        vertical-align: top;\n",
              "    }\n",
              "\n",
              "    .dataframe thead th {\n",
              "        text-align: right;\n",
              "    }\n",
              "</style>\n",
              "<table border=\"1\" class=\"dataframe\">\n",
              "  <thead>\n",
              "    <tr style=\"text-align: right;\">\n",
              "      <th></th>\n",
              "      <th>id</th>\n",
              "      <th>name</th>\n",
              "      <th>place</th>\n",
              "      <th>class</th>\n",
              "      <th>year_str</th>\n",
              "      <th>dist_name</th>\n",
              "      <th>dist</th>\n",
              "      <th>features</th>\n",
              "    </tr>\n",
              "  </thead>\n",
              "  <tbody>\n",
              "    <tr>\n",
              "      <th>34</th>\n",
              "      <td>NaN</td>\n",
              "      <td>NaN</td>\n",
              "      <td>NaN</td>\n",
              "      <td>NaN</td>\n",
              "      <td>NaN</td>\n",
              "      <td>КЛ - 46</td>\n",
              "      <td>46.0</td>\n",
              "      <td>NaN</td>\n",
              "    </tr>\n",
              "    <tr>\n",
              "      <th>83</th>\n",
              "      <td>NaN</td>\n",
              "      <td>заходы на Ярославскую ТЭС (ПГУ - 470 МВт)</td>\n",
              "      <td>NaN</td>\n",
              "      <td>NaN</td>\n",
              "      <td>NaN</td>\n",
              "      <td>NaN</td>\n",
              "      <td>NaN</td>\n",
              "      <td>NaN</td>\n",
              "    </tr>\n",
              "    <tr>\n",
              "      <th>85</th>\n",
              "      <td>NaN</td>\n",
              "      <td>заходы на Ярославскую ТЭС (ПГУ - 470 МВт)</td>\n",
              "      <td>NaN</td>\n",
              "      <td>NaN</td>\n",
              "      <td>NaN</td>\n",
              "      <td>NaN</td>\n",
              "      <td>NaN</td>\n",
              "      <td>NaN</td>\n",
              "    </tr>\n",
              "    <tr>\n",
              "      <th>122</th>\n",
              "      <td>NaN</td>\n",
              "      <td>NaN</td>\n",
              "      <td>NaN</td>\n",
              "      <td>NaN</td>\n",
              "      <td>NaN</td>\n",
              "      <td>со стороны ПС 220 кВ Бужора - 8,3</td>\n",
              "      <td>NaN</td>\n",
              "      <td>NaN</td>\n",
              "    </tr>\n",
              "  </tbody>\n",
              "</table>\n",
              "</div>\n",
              "      <button class=\"colab-df-convert\" onclick=\"convertToInteractive('df-550c8c29-1de4-4635-82cc-0527c99974ab')\"\n",
              "              title=\"Convert this dataframe to an interactive table.\"\n",
              "              style=\"display:none;\">\n",
              "        \n",
              "  <svg xmlns=\"http://www.w3.org/2000/svg\" height=\"24px\"viewBox=\"0 0 24 24\"\n",
              "       width=\"24px\">\n",
              "    <path d=\"M0 0h24v24H0V0z\" fill=\"none\"/>\n",
              "    <path d=\"M18.56 5.44l.94 2.06.94-2.06 2.06-.94-2.06-.94-.94-2.06-.94 2.06-2.06.94zm-11 1L8.5 8.5l.94-2.06 2.06-.94-2.06-.94L8.5 2.5l-.94 2.06-2.06.94zm10 10l.94 2.06.94-2.06 2.06-.94-2.06-.94-.94-2.06-.94 2.06-2.06.94z\"/><path d=\"M17.41 7.96l-1.37-1.37c-.4-.4-.92-.59-1.43-.59-.52 0-1.04.2-1.43.59L10.3 9.45l-7.72 7.72c-.78.78-.78 2.05 0 2.83L4 21.41c.39.39.9.59 1.41.59.51 0 1.02-.2 1.41-.59l7.78-7.78 2.81-2.81c.8-.78.8-2.07 0-2.86zM5.41 20L4 18.59l7.72-7.72 1.47 1.35L5.41 20z\"/>\n",
              "  </svg>\n",
              "      </button>\n",
              "      \n",
              "  <style>\n",
              "    .colab-df-container {\n",
              "      display:flex;\n",
              "      flex-wrap:wrap;\n",
              "      gap: 12px;\n",
              "    }\n",
              "\n",
              "    .colab-df-convert {\n",
              "      background-color: #E8F0FE;\n",
              "      border: none;\n",
              "      border-radius: 50%;\n",
              "      cursor: pointer;\n",
              "      display: none;\n",
              "      fill: #1967D2;\n",
              "      height: 32px;\n",
              "      padding: 0 0 0 0;\n",
              "      width: 32px;\n",
              "    }\n",
              "\n",
              "    .colab-df-convert:hover {\n",
              "      background-color: #E2EBFA;\n",
              "      box-shadow: 0px 1px 2px rgba(60, 64, 67, 0.3), 0px 1px 3px 1px rgba(60, 64, 67, 0.15);\n",
              "      fill: #174EA6;\n",
              "    }\n",
              "\n",
              "    [theme=dark] .colab-df-convert {\n",
              "      background-color: #3B4455;\n",
              "      fill: #D2E3FC;\n",
              "    }\n",
              "\n",
              "    [theme=dark] .colab-df-convert:hover {\n",
              "      background-color: #434B5C;\n",
              "      box-shadow: 0px 1px 3px 1px rgba(0, 0, 0, 0.15);\n",
              "      filter: drop-shadow(0px 1px 2px rgba(0, 0, 0, 0.3));\n",
              "      fill: #FFFFFF;\n",
              "    }\n",
              "  </style>\n",
              "\n",
              "      <script>\n",
              "        const buttonEl =\n",
              "          document.querySelector('#df-550c8c29-1de4-4635-82cc-0527c99974ab button.colab-df-convert');\n",
              "        buttonEl.style.display =\n",
              "          google.colab.kernel.accessAllowed ? 'block' : 'none';\n",
              "\n",
              "        async function convertToInteractive(key) {\n",
              "          const element = document.querySelector('#df-550c8c29-1de4-4635-82cc-0527c99974ab');\n",
              "          const dataTable =\n",
              "            await google.colab.kernel.invokeFunction('convertToInteractive',\n",
              "                                                     [key], {});\n",
              "          if (!dataTable) return;\n",
              "\n",
              "          const docLinkHtml = 'Like what you see? Visit the ' +\n",
              "            '<a target=\"_blank\" href=https://colab.research.google.com/notebooks/data_table.ipynb>data table notebook</a>'\n",
              "            + ' to learn more about interactive tables.';\n",
              "          element.innerHTML = '';\n",
              "          dataTable['output_type'] = 'display_data';\n",
              "          await google.colab.output.renderOutput(dataTable, element);\n",
              "          const docLink = document.createElement('div');\n",
              "          docLink.innerHTML = docLinkHtml;\n",
              "          element.appendChild(docLink);\n",
              "        }\n",
              "      </script>\n",
              "    </div>\n",
              "  </div>\n",
              "  "
            ]
          },
          "metadata": {},
          "execution_count": 15
        }
      ]
    },
    {
      "cell_type": "code",
      "source": [
        "temp = df.loc[122, ['dist_name']]\n",
        "df.loc[122, : ] = '-'\n",
        "df.loc[122, ['class']] = 220\n",
        "df.loc[122, ['dist']] = 8.3\n",
        "df.loc[122, ['dist_name']] = temp\n",
        "df.loc[122, ['place']] = 'Бужора'\n",
        "# df.loc[122, ['year']] = df['year'].mode()\n",
        "df[ df.isna().any(1) ]"
      ],
      "metadata": {
        "colab": {
          "base_uri": "https://localhost:8080/",
          "height": 144
        },
        "id": "OntnSiO6VLJy",
        "outputId": "184255ff-ff31-4738-b7f7-a82911b628f6"
      },
      "execution_count": 16,
      "outputs": [
        {
          "output_type": "execute_result",
          "data": {
            "text/plain": [
              "     id                                       name place class year_str  \\\n",
              "34  NaN                                        NaN   NaN   NaN      NaN   \n",
              "83  NaN  заходы на Ярославскую ТЭС (ПГУ - 470 МВт)   NaN   NaN      NaN   \n",
              "85  NaN  заходы на Ярославскую ТЭС (ПГУ - 470 МВт)   NaN   NaN      NaN   \n",
              "\n",
              "   dist_name  dist features  \n",
              "34   КЛ - 46  46.0      NaN  \n",
              "83       NaN   NaN      NaN  \n",
              "85       NaN   NaN      NaN  "
            ],
            "text/html": [
              "\n",
              "  <div id=\"df-64de268a-cda9-4631-b73b-d29074725e1b\">\n",
              "    <div class=\"colab-df-container\">\n",
              "      <div>\n",
              "<style scoped>\n",
              "    .dataframe tbody tr th:only-of-type {\n",
              "        vertical-align: middle;\n",
              "    }\n",
              "\n",
              "    .dataframe tbody tr th {\n",
              "        vertical-align: top;\n",
              "    }\n",
              "\n",
              "    .dataframe thead th {\n",
              "        text-align: right;\n",
              "    }\n",
              "</style>\n",
              "<table border=\"1\" class=\"dataframe\">\n",
              "  <thead>\n",
              "    <tr style=\"text-align: right;\">\n",
              "      <th></th>\n",
              "      <th>id</th>\n",
              "      <th>name</th>\n",
              "      <th>place</th>\n",
              "      <th>class</th>\n",
              "      <th>year_str</th>\n",
              "      <th>dist_name</th>\n",
              "      <th>dist</th>\n",
              "      <th>features</th>\n",
              "    </tr>\n",
              "  </thead>\n",
              "  <tbody>\n",
              "    <tr>\n",
              "      <th>34</th>\n",
              "      <td>NaN</td>\n",
              "      <td>NaN</td>\n",
              "      <td>NaN</td>\n",
              "      <td>NaN</td>\n",
              "      <td>NaN</td>\n",
              "      <td>КЛ - 46</td>\n",
              "      <td>46.0</td>\n",
              "      <td>NaN</td>\n",
              "    </tr>\n",
              "    <tr>\n",
              "      <th>83</th>\n",
              "      <td>NaN</td>\n",
              "      <td>заходы на Ярославскую ТЭС (ПГУ - 470 МВт)</td>\n",
              "      <td>NaN</td>\n",
              "      <td>NaN</td>\n",
              "      <td>NaN</td>\n",
              "      <td>NaN</td>\n",
              "      <td>NaN</td>\n",
              "      <td>NaN</td>\n",
              "    </tr>\n",
              "    <tr>\n",
              "      <th>85</th>\n",
              "      <td>NaN</td>\n",
              "      <td>заходы на Ярославскую ТЭС (ПГУ - 470 МВт)</td>\n",
              "      <td>NaN</td>\n",
              "      <td>NaN</td>\n",
              "      <td>NaN</td>\n",
              "      <td>NaN</td>\n",
              "      <td>NaN</td>\n",
              "      <td>NaN</td>\n",
              "    </tr>\n",
              "  </tbody>\n",
              "</table>\n",
              "</div>\n",
              "      <button class=\"colab-df-convert\" onclick=\"convertToInteractive('df-64de268a-cda9-4631-b73b-d29074725e1b')\"\n",
              "              title=\"Convert this dataframe to an interactive table.\"\n",
              "              style=\"display:none;\">\n",
              "        \n",
              "  <svg xmlns=\"http://www.w3.org/2000/svg\" height=\"24px\"viewBox=\"0 0 24 24\"\n",
              "       width=\"24px\">\n",
              "    <path d=\"M0 0h24v24H0V0z\" fill=\"none\"/>\n",
              "    <path d=\"M18.56 5.44l.94 2.06.94-2.06 2.06-.94-2.06-.94-.94-2.06-.94 2.06-2.06.94zm-11 1L8.5 8.5l.94-2.06 2.06-.94-2.06-.94L8.5 2.5l-.94 2.06-2.06.94zm10 10l.94 2.06.94-2.06 2.06-.94-2.06-.94-.94-2.06-.94 2.06-2.06.94z\"/><path d=\"M17.41 7.96l-1.37-1.37c-.4-.4-.92-.59-1.43-.59-.52 0-1.04.2-1.43.59L10.3 9.45l-7.72 7.72c-.78.78-.78 2.05 0 2.83L4 21.41c.39.39.9.59 1.41.59.51 0 1.02-.2 1.41-.59l7.78-7.78 2.81-2.81c.8-.78.8-2.07 0-2.86zM5.41 20L4 18.59l7.72-7.72 1.47 1.35L5.41 20z\"/>\n",
              "  </svg>\n",
              "      </button>\n",
              "      \n",
              "  <style>\n",
              "    .colab-df-container {\n",
              "      display:flex;\n",
              "      flex-wrap:wrap;\n",
              "      gap: 12px;\n",
              "    }\n",
              "\n",
              "    .colab-df-convert {\n",
              "      background-color: #E8F0FE;\n",
              "      border: none;\n",
              "      border-radius: 50%;\n",
              "      cursor: pointer;\n",
              "      display: none;\n",
              "      fill: #1967D2;\n",
              "      height: 32px;\n",
              "      padding: 0 0 0 0;\n",
              "      width: 32px;\n",
              "    }\n",
              "\n",
              "    .colab-df-convert:hover {\n",
              "      background-color: #E2EBFA;\n",
              "      box-shadow: 0px 1px 2px rgba(60, 64, 67, 0.3), 0px 1px 3px 1px rgba(60, 64, 67, 0.15);\n",
              "      fill: #174EA6;\n",
              "    }\n",
              "\n",
              "    [theme=dark] .colab-df-convert {\n",
              "      background-color: #3B4455;\n",
              "      fill: #D2E3FC;\n",
              "    }\n",
              "\n",
              "    [theme=dark] .colab-df-convert:hover {\n",
              "      background-color: #434B5C;\n",
              "      box-shadow: 0px 1px 3px 1px rgba(0, 0, 0, 0.15);\n",
              "      filter: drop-shadow(0px 1px 2px rgba(0, 0, 0, 0.3));\n",
              "      fill: #FFFFFF;\n",
              "    }\n",
              "  </style>\n",
              "\n",
              "      <script>\n",
              "        const buttonEl =\n",
              "          document.querySelector('#df-64de268a-cda9-4631-b73b-d29074725e1b button.colab-df-convert');\n",
              "        buttonEl.style.display =\n",
              "          google.colab.kernel.accessAllowed ? 'block' : 'none';\n",
              "\n",
              "        async function convertToInteractive(key) {\n",
              "          const element = document.querySelector('#df-64de268a-cda9-4631-b73b-d29074725e1b');\n",
              "          const dataTable =\n",
              "            await google.colab.kernel.invokeFunction('convertToInteractive',\n",
              "                                                     [key], {});\n",
              "          if (!dataTable) return;\n",
              "\n",
              "          const docLinkHtml = 'Like what you see? Visit the ' +\n",
              "            '<a target=\"_blank\" href=https://colab.research.google.com/notebooks/data_table.ipynb>data table notebook</a>'\n",
              "            + ' to learn more about interactive tables.';\n",
              "          element.innerHTML = '';\n",
              "          dataTable['output_type'] = 'display_data';\n",
              "          await google.colab.output.renderOutput(dataTable, element);\n",
              "          const docLink = document.createElement('div');\n",
              "          docLink.innerHTML = docLinkHtml;\n",
              "          element.appendChild(docLink);\n",
              "        }\n",
              "      </script>\n",
              "    </div>\n",
              "  </div>\n",
              "  "
            ]
          },
          "metadata": {},
          "execution_count": 16
        }
      ]
    },
    {
      "cell_type": "markdown",
      "source": [
        "в оставшихся строках с пропусками слишком мало информации, а та, что есть близка к медианному значению. а значит сами строки интереса для исследования не представляют и их можно удалить для удобства обработки."
      ],
      "metadata": {
        "id": "XwjqhQZ21loi"
      }
    },
    {
      "cell_type": "code",
      "source": [
        "df_copy = df.dropna(subset=['id'])\n",
        "\n",
        "df_copy['class'] = df_copy['class'].astype(int)\n",
        "# df_copy['year'] = df_copy['year'].astype(int)\n",
        "df_copy['dist'] = df_copy['dist'].astype(float)\n",
        "\n",
        "df_copy.info()\n"
      ],
      "metadata": {
        "colab": {
          "base_uri": "https://localhost:8080/"
        },
        "id": "2uIjcvi8rvPR",
        "outputId": "4256af14-a87c-40c0-bbbe-445772b96627"
      },
      "execution_count": 17,
      "outputs": [
        {
          "output_type": "stream",
          "name": "stdout",
          "text": [
            "<class 'pandas.core.frame.DataFrame'>\n",
            "Int64Index: 274 entries, 1 to 277\n",
            "Data columns (total 8 columns):\n",
            " #   Column     Non-Null Count  Dtype  \n",
            "---  ------     --------------  -----  \n",
            " 0   id         274 non-null    object \n",
            " 1   name       274 non-null    object \n",
            " 2   place      274 non-null    object \n",
            " 3   class      274 non-null    int64  \n",
            " 4   year_str   274 non-null    object \n",
            " 5   dist_name  274 non-null    object \n",
            " 6   dist       274 non-null    float64\n",
            " 7   features   274 non-null    object \n",
            "dtypes: float64(1), int64(1), object(6)\n",
            "memory usage: 19.3+ KB\n"
          ]
        },
        {
          "output_type": "stream",
          "name": "stderr",
          "text": [
            "/usr/local/lib/python3.7/dist-packages/ipykernel_launcher.py:3: SettingWithCopyWarning: \n",
            "A value is trying to be set on a copy of a slice from a DataFrame.\n",
            "Try using .loc[row_indexer,col_indexer] = value instead\n",
            "\n",
            "See the caveats in the documentation: https://pandas.pydata.org/pandas-docs/stable/user_guide/indexing.html#returning-a-view-versus-a-copy\n",
            "  This is separate from the ipykernel package so we can avoid doing imports until\n",
            "/usr/local/lib/python3.7/dist-packages/ipykernel_launcher.py:5: SettingWithCopyWarning: \n",
            "A value is trying to be set on a copy of a slice from a DataFrame.\n",
            "Try using .loc[row_indexer,col_indexer] = value instead\n",
            "\n",
            "See the caveats in the documentation: https://pandas.pydata.org/pandas-docs/stable/user_guide/indexing.html#returning-a-view-versus-a-copy\n",
            "  \"\"\"\n"
          ]
        }
      ]
    },
    {
      "cell_type": "code",
      "source": [
        "for n,s in df_copy['year_str'].items() :\n",
        "    df_copy.loc[n,'year'] = np.NaN\n",
        "    match_ = re.search(r'\\d{4}',s)\n",
        "    if match_ : df_copy.loc[n,'year'] = int(match_.group(0))\n"
      ],
      "metadata": {
        "colab": {
          "base_uri": "https://localhost:8080/"
        },
        "id": "fvjulo-t1v9Q",
        "outputId": "23f69e5a-a66b-4d43-9ee4-24ecd367e6a7"
      },
      "execution_count": 18,
      "outputs": [
        {
          "output_type": "stream",
          "name": "stderr",
          "text": [
            "/usr/local/lib/python3.7/dist-packages/pandas/core/indexing.py:1684: SettingWithCopyWarning: \n",
            "A value is trying to be set on a copy of a slice from a DataFrame.\n",
            "Try using .loc[row_indexer,col_indexer] = value instead\n",
            "\n",
            "See the caveats in the documentation: https://pandas.pydata.org/pandas-docs/stable/user_guide/indexing.html#returning-a-view-versus-a-copy\n",
            "  self.obj[key] = infer_fill_value(value)\n",
            "/usr/local/lib/python3.7/dist-packages/pandas/core/indexing.py:1817: SettingWithCopyWarning: \n",
            "A value is trying to be set on a copy of a slice from a DataFrame.\n",
            "Try using .loc[row_indexer,col_indexer] = value instead\n",
            "\n",
            "See the caveats in the documentation: https://pandas.pydata.org/pandas-docs/stable/user_guide/indexing.html#returning-a-view-versus-a-copy\n",
            "  self._setitem_single_column(loc, value, pi)\n"
          ]
        }
      ]
    },
    {
      "cell_type": "code",
      "source": [
        "df_copy[ df_copy.isna().any(1) ]\n"
      ],
      "metadata": {
        "colab": {
          "base_uri": "https://localhost:8080/",
          "height": 81
        },
        "id": "R7Z6AwR0SAaa",
        "outputId": "05513b3a-55e9-46f5-916a-4c5e3bf65a01"
      },
      "execution_count": 19,
      "outputs": [
        {
          "output_type": "execute_result",
          "data": {
            "text/plain": [
              "    id name   place  class year_str                          dist_name  dist  \\\n",
              "122  -    -  Бужора    220        -  со стороны ПС 220 кВ Бужора - 8,3   8.3   \n",
              "\n",
              "    features  year  \n",
              "122        -   NaN  "
            ],
            "text/html": [
              "\n",
              "  <div id=\"df-46e6ba41-be59-4608-a5be-6a168f23bfa9\">\n",
              "    <div class=\"colab-df-container\">\n",
              "      <div>\n",
              "<style scoped>\n",
              "    .dataframe tbody tr th:only-of-type {\n",
              "        vertical-align: middle;\n",
              "    }\n",
              "\n",
              "    .dataframe tbody tr th {\n",
              "        vertical-align: top;\n",
              "    }\n",
              "\n",
              "    .dataframe thead th {\n",
              "        text-align: right;\n",
              "    }\n",
              "</style>\n",
              "<table border=\"1\" class=\"dataframe\">\n",
              "  <thead>\n",
              "    <tr style=\"text-align: right;\">\n",
              "      <th></th>\n",
              "      <th>id</th>\n",
              "      <th>name</th>\n",
              "      <th>place</th>\n",
              "      <th>class</th>\n",
              "      <th>year_str</th>\n",
              "      <th>dist_name</th>\n",
              "      <th>dist</th>\n",
              "      <th>features</th>\n",
              "      <th>year</th>\n",
              "    </tr>\n",
              "  </thead>\n",
              "  <tbody>\n",
              "    <tr>\n",
              "      <th>122</th>\n",
              "      <td>-</td>\n",
              "      <td>-</td>\n",
              "      <td>Бужора</td>\n",
              "      <td>220</td>\n",
              "      <td>-</td>\n",
              "      <td>со стороны ПС 220 кВ Бужора - 8,3</td>\n",
              "      <td>8.3</td>\n",
              "      <td>-</td>\n",
              "      <td>NaN</td>\n",
              "    </tr>\n",
              "  </tbody>\n",
              "</table>\n",
              "</div>\n",
              "      <button class=\"colab-df-convert\" onclick=\"convertToInteractive('df-46e6ba41-be59-4608-a5be-6a168f23bfa9')\"\n",
              "              title=\"Convert this dataframe to an interactive table.\"\n",
              "              style=\"display:none;\">\n",
              "        \n",
              "  <svg xmlns=\"http://www.w3.org/2000/svg\" height=\"24px\"viewBox=\"0 0 24 24\"\n",
              "       width=\"24px\">\n",
              "    <path d=\"M0 0h24v24H0V0z\" fill=\"none\"/>\n",
              "    <path d=\"M18.56 5.44l.94 2.06.94-2.06 2.06-.94-2.06-.94-.94-2.06-.94 2.06-2.06.94zm-11 1L8.5 8.5l.94-2.06 2.06-.94-2.06-.94L8.5 2.5l-.94 2.06-2.06.94zm10 10l.94 2.06.94-2.06 2.06-.94-2.06-.94-.94-2.06-.94 2.06-2.06.94z\"/><path d=\"M17.41 7.96l-1.37-1.37c-.4-.4-.92-.59-1.43-.59-.52 0-1.04.2-1.43.59L10.3 9.45l-7.72 7.72c-.78.78-.78 2.05 0 2.83L4 21.41c.39.39.9.59 1.41.59.51 0 1.02-.2 1.41-.59l7.78-7.78 2.81-2.81c.8-.78.8-2.07 0-2.86zM5.41 20L4 18.59l7.72-7.72 1.47 1.35L5.41 20z\"/>\n",
              "  </svg>\n",
              "      </button>\n",
              "      \n",
              "  <style>\n",
              "    .colab-df-container {\n",
              "      display:flex;\n",
              "      flex-wrap:wrap;\n",
              "      gap: 12px;\n",
              "    }\n",
              "\n",
              "    .colab-df-convert {\n",
              "      background-color: #E8F0FE;\n",
              "      border: none;\n",
              "      border-radius: 50%;\n",
              "      cursor: pointer;\n",
              "      display: none;\n",
              "      fill: #1967D2;\n",
              "      height: 32px;\n",
              "      padding: 0 0 0 0;\n",
              "      width: 32px;\n",
              "    }\n",
              "\n",
              "    .colab-df-convert:hover {\n",
              "      background-color: #E2EBFA;\n",
              "      box-shadow: 0px 1px 2px rgba(60, 64, 67, 0.3), 0px 1px 3px 1px rgba(60, 64, 67, 0.15);\n",
              "      fill: #174EA6;\n",
              "    }\n",
              "\n",
              "    [theme=dark] .colab-df-convert {\n",
              "      background-color: #3B4455;\n",
              "      fill: #D2E3FC;\n",
              "    }\n",
              "\n",
              "    [theme=dark] .colab-df-convert:hover {\n",
              "      background-color: #434B5C;\n",
              "      box-shadow: 0px 1px 3px 1px rgba(0, 0, 0, 0.15);\n",
              "      filter: drop-shadow(0px 1px 2px rgba(0, 0, 0, 0.3));\n",
              "      fill: #FFFFFF;\n",
              "    }\n",
              "  </style>\n",
              "\n",
              "      <script>\n",
              "        const buttonEl =\n",
              "          document.querySelector('#df-46e6ba41-be59-4608-a5be-6a168f23bfa9 button.colab-df-convert');\n",
              "        buttonEl.style.display =\n",
              "          google.colab.kernel.accessAllowed ? 'block' : 'none';\n",
              "\n",
              "        async function convertToInteractive(key) {\n",
              "          const element = document.querySelector('#df-46e6ba41-be59-4608-a5be-6a168f23bfa9');\n",
              "          const dataTable =\n",
              "            await google.colab.kernel.invokeFunction('convertToInteractive',\n",
              "                                                     [key], {});\n",
              "          if (!dataTable) return;\n",
              "\n",
              "          const docLinkHtml = 'Like what you see? Visit the ' +\n",
              "            '<a target=\"_blank\" href=https://colab.research.google.com/notebooks/data_table.ipynb>data table notebook</a>'\n",
              "            + ' to learn more about interactive tables.';\n",
              "          element.innerHTML = '';\n",
              "          dataTable['output_type'] = 'display_data';\n",
              "          await google.colab.output.renderOutput(dataTable, element);\n",
              "          const docLink = document.createElement('div');\n",
              "          docLink.innerHTML = docLinkHtml;\n",
              "          element.appendChild(docLink);\n",
              "        }\n",
              "      </script>\n",
              "    </div>\n",
              "  </div>\n",
              "  "
            ]
          },
          "metadata": {},
          "execution_count": 19
        }
      ]
    },
    {
      "cell_type": "markdown",
      "source": [
        "Единичный пропуск заполним модальным значением"
      ],
      "metadata": {
        "id": "WBQYPiGCgNpb"
      }
    },
    {
      "cell_type": "code",
      "source": [
        "df_copy['year'] = df_copy['year'].fillna(df_copy['year'].mode()[0])#, inplace=True)\n",
        "df_copy[ df_copy.isna().any(1) ]\n"
      ],
      "metadata": {
        "id": "NHTvijq1rvfz",
        "colab": {
          "base_uri": "https://localhost:8080/",
          "height": 154
        },
        "outputId": "8fa2b3e0-6fa5-4072-af4d-69b097b34554"
      },
      "execution_count": 20,
      "outputs": [
        {
          "output_type": "stream",
          "name": "stderr",
          "text": [
            "/usr/local/lib/python3.7/dist-packages/ipykernel_launcher.py:1: SettingWithCopyWarning: \n",
            "A value is trying to be set on a copy of a slice from a DataFrame.\n",
            "Try using .loc[row_indexer,col_indexer] = value instead\n",
            "\n",
            "See the caveats in the documentation: https://pandas.pydata.org/pandas-docs/stable/user_guide/indexing.html#returning-a-view-versus-a-copy\n",
            "  \"\"\"Entry point for launching an IPython kernel.\n"
          ]
        },
        {
          "output_type": "execute_result",
          "data": {
            "text/plain": [
              "Empty DataFrame\n",
              "Columns: [id, name, place, class, year_str, dist_name, dist, features, year]\n",
              "Index: []"
            ],
            "text/html": [
              "\n",
              "  <div id=\"df-9b2e02c9-fdcc-4bf3-a621-97b7476e47a2\">\n",
              "    <div class=\"colab-df-container\">\n",
              "      <div>\n",
              "<style scoped>\n",
              "    .dataframe tbody tr th:only-of-type {\n",
              "        vertical-align: middle;\n",
              "    }\n",
              "\n",
              "    .dataframe tbody tr th {\n",
              "        vertical-align: top;\n",
              "    }\n",
              "\n",
              "    .dataframe thead th {\n",
              "        text-align: right;\n",
              "    }\n",
              "</style>\n",
              "<table border=\"1\" class=\"dataframe\">\n",
              "  <thead>\n",
              "    <tr style=\"text-align: right;\">\n",
              "      <th></th>\n",
              "      <th>id</th>\n",
              "      <th>name</th>\n",
              "      <th>place</th>\n",
              "      <th>class</th>\n",
              "      <th>year_str</th>\n",
              "      <th>dist_name</th>\n",
              "      <th>dist</th>\n",
              "      <th>features</th>\n",
              "      <th>year</th>\n",
              "    </tr>\n",
              "  </thead>\n",
              "  <tbody>\n",
              "  </tbody>\n",
              "</table>\n",
              "</div>\n",
              "      <button class=\"colab-df-convert\" onclick=\"convertToInteractive('df-9b2e02c9-fdcc-4bf3-a621-97b7476e47a2')\"\n",
              "              title=\"Convert this dataframe to an interactive table.\"\n",
              "              style=\"display:none;\">\n",
              "        \n",
              "  <svg xmlns=\"http://www.w3.org/2000/svg\" height=\"24px\"viewBox=\"0 0 24 24\"\n",
              "       width=\"24px\">\n",
              "    <path d=\"M0 0h24v24H0V0z\" fill=\"none\"/>\n",
              "    <path d=\"M18.56 5.44l.94 2.06.94-2.06 2.06-.94-2.06-.94-.94-2.06-.94 2.06-2.06.94zm-11 1L8.5 8.5l.94-2.06 2.06-.94-2.06-.94L8.5 2.5l-.94 2.06-2.06.94zm10 10l.94 2.06.94-2.06 2.06-.94-2.06-.94-.94-2.06-.94 2.06-2.06.94z\"/><path d=\"M17.41 7.96l-1.37-1.37c-.4-.4-.92-.59-1.43-.59-.52 0-1.04.2-1.43.59L10.3 9.45l-7.72 7.72c-.78.78-.78 2.05 0 2.83L4 21.41c.39.39.9.59 1.41.59.51 0 1.02-.2 1.41-.59l7.78-7.78 2.81-2.81c.8-.78.8-2.07 0-2.86zM5.41 20L4 18.59l7.72-7.72 1.47 1.35L5.41 20z\"/>\n",
              "  </svg>\n",
              "      </button>\n",
              "      \n",
              "  <style>\n",
              "    .colab-df-container {\n",
              "      display:flex;\n",
              "      flex-wrap:wrap;\n",
              "      gap: 12px;\n",
              "    }\n",
              "\n",
              "    .colab-df-convert {\n",
              "      background-color: #E8F0FE;\n",
              "      border: none;\n",
              "      border-radius: 50%;\n",
              "      cursor: pointer;\n",
              "      display: none;\n",
              "      fill: #1967D2;\n",
              "      height: 32px;\n",
              "      padding: 0 0 0 0;\n",
              "      width: 32px;\n",
              "    }\n",
              "\n",
              "    .colab-df-convert:hover {\n",
              "      background-color: #E2EBFA;\n",
              "      box-shadow: 0px 1px 2px rgba(60, 64, 67, 0.3), 0px 1px 3px 1px rgba(60, 64, 67, 0.15);\n",
              "      fill: #174EA6;\n",
              "    }\n",
              "\n",
              "    [theme=dark] .colab-df-convert {\n",
              "      background-color: #3B4455;\n",
              "      fill: #D2E3FC;\n",
              "    }\n",
              "\n",
              "    [theme=dark] .colab-df-convert:hover {\n",
              "      background-color: #434B5C;\n",
              "      box-shadow: 0px 1px 3px 1px rgba(0, 0, 0, 0.15);\n",
              "      filter: drop-shadow(0px 1px 2px rgba(0, 0, 0, 0.3));\n",
              "      fill: #FFFFFF;\n",
              "    }\n",
              "  </style>\n",
              "\n",
              "      <script>\n",
              "        const buttonEl =\n",
              "          document.querySelector('#df-9b2e02c9-fdcc-4bf3-a621-97b7476e47a2 button.colab-df-convert');\n",
              "        buttonEl.style.display =\n",
              "          google.colab.kernel.accessAllowed ? 'block' : 'none';\n",
              "\n",
              "        async function convertToInteractive(key) {\n",
              "          const element = document.querySelector('#df-9b2e02c9-fdcc-4bf3-a621-97b7476e47a2');\n",
              "          const dataTable =\n",
              "            await google.colab.kernel.invokeFunction('convertToInteractive',\n",
              "                                                     [key], {});\n",
              "          if (!dataTable) return;\n",
              "\n",
              "          const docLinkHtml = 'Like what you see? Visit the ' +\n",
              "            '<a target=\"_blank\" href=https://colab.research.google.com/notebooks/data_table.ipynb>data table notebook</a>'\n",
              "            + ' to learn more about interactive tables.';\n",
              "          element.innerHTML = '';\n",
              "          dataTable['output_type'] = 'display_data';\n",
              "          await google.colab.output.renderOutput(dataTable, element);\n",
              "          const docLink = document.createElement('div');\n",
              "          docLink.innerHTML = docLinkHtml;\n",
              "          element.appendChild(docLink);\n",
              "        }\n",
              "      </script>\n",
              "    </div>\n",
              "  </div>\n",
              "  "
            ]
          },
          "metadata": {},
          "execution_count": 20
        }
      ]
    },
    {
      "cell_type": "code",
      "source": [
        "df_copy['year'] = df_copy['year'].astype(int)"
      ],
      "metadata": {
        "colab": {
          "base_uri": "https://localhost:8080/"
        },
        "id": "dyKaJWRSic4g",
        "outputId": "2c5e1392-d743-4952-c302-8e5b5fd0a6c6"
      },
      "execution_count": 21,
      "outputs": [
        {
          "output_type": "stream",
          "name": "stderr",
          "text": [
            "/usr/local/lib/python3.7/dist-packages/ipykernel_launcher.py:1: SettingWithCopyWarning: \n",
            "A value is trying to be set on a copy of a slice from a DataFrame.\n",
            "Try using .loc[row_indexer,col_indexer] = value instead\n",
            "\n",
            "See the caveats in the documentation: https://pandas.pydata.org/pandas-docs/stable/user_guide/indexing.html#returning-a-view-versus-a-copy\n",
            "  \"\"\"Entry point for launching an IPython kernel.\n"
          ]
        }
      ]
    },
    {
      "cell_type": "code",
      "source": [
        "df_copy.info()"
      ],
      "metadata": {
        "colab": {
          "base_uri": "https://localhost:8080/"
        },
        "id": "4WDEXLxTiXTr",
        "outputId": "b0477318-e4f7-4d9a-d90a-6b8fcc388e2a"
      },
      "execution_count": 22,
      "outputs": [
        {
          "output_type": "stream",
          "name": "stdout",
          "text": [
            "<class 'pandas.core.frame.DataFrame'>\n",
            "Int64Index: 274 entries, 1 to 277\n",
            "Data columns (total 9 columns):\n",
            " #   Column     Non-Null Count  Dtype  \n",
            "---  ------     --------------  -----  \n",
            " 0   id         274 non-null    object \n",
            " 1   name       274 non-null    object \n",
            " 2   place      274 non-null    object \n",
            " 3   class      274 non-null    int64  \n",
            " 4   year_str   274 non-null    object \n",
            " 5   dist_name  274 non-null    object \n",
            " 6   dist       274 non-null    float64\n",
            " 7   features   274 non-null    object \n",
            " 8   year       274 non-null    int64  \n",
            "dtypes: float64(1), int64(2), object(6)\n",
            "memory usage: 29.5+ KB\n"
          ]
        }
      ]
    },
    {
      "cell_type": "code",
      "source": [
        "df_copy.describe()"
      ],
      "metadata": {
        "colab": {
          "base_uri": "https://localhost:8080/",
          "height": 300
        },
        "id": "8gDvH4MZiSCL",
        "outputId": "4049360f-5f04-4726-85f5-8e2ecf1561ce"
      },
      "execution_count": 23,
      "outputs": [
        {
          "output_type": "execute_result",
          "data": {
            "text/plain": [
              "            class        dist         year\n",
              "count  274.000000  274.000000   274.000000\n",
              "mean   288.138686  116.256635  2018.306569\n",
              "std    136.528798  147.735667     2.261518\n",
              "min    110.000000    0.200000  2016.000000\n",
              "25%    220.000000   10.000000  2016.000000\n",
              "50%    220.000000   58.500000  2018.000000\n",
              "75%    330.000000  160.450000  2020.000000\n",
              "max    750.000000  850.000000  2030.000000"
            ],
            "text/html": [
              "\n",
              "  <div id=\"df-89d3213a-88a1-4acd-b808-a058c3407019\">\n",
              "    <div class=\"colab-df-container\">\n",
              "      <div>\n",
              "<style scoped>\n",
              "    .dataframe tbody tr th:only-of-type {\n",
              "        vertical-align: middle;\n",
              "    }\n",
              "\n",
              "    .dataframe tbody tr th {\n",
              "        vertical-align: top;\n",
              "    }\n",
              "\n",
              "    .dataframe thead th {\n",
              "        text-align: right;\n",
              "    }\n",
              "</style>\n",
              "<table border=\"1\" class=\"dataframe\">\n",
              "  <thead>\n",
              "    <tr style=\"text-align: right;\">\n",
              "      <th></th>\n",
              "      <th>class</th>\n",
              "      <th>dist</th>\n",
              "      <th>year</th>\n",
              "    </tr>\n",
              "  </thead>\n",
              "  <tbody>\n",
              "    <tr>\n",
              "      <th>count</th>\n",
              "      <td>274.000000</td>\n",
              "      <td>274.000000</td>\n",
              "      <td>274.000000</td>\n",
              "    </tr>\n",
              "    <tr>\n",
              "      <th>mean</th>\n",
              "      <td>288.138686</td>\n",
              "      <td>116.256635</td>\n",
              "      <td>2018.306569</td>\n",
              "    </tr>\n",
              "    <tr>\n",
              "      <th>std</th>\n",
              "      <td>136.528798</td>\n",
              "      <td>147.735667</td>\n",
              "      <td>2.261518</td>\n",
              "    </tr>\n",
              "    <tr>\n",
              "      <th>min</th>\n",
              "      <td>110.000000</td>\n",
              "      <td>0.200000</td>\n",
              "      <td>2016.000000</td>\n",
              "    </tr>\n",
              "    <tr>\n",
              "      <th>25%</th>\n",
              "      <td>220.000000</td>\n",
              "      <td>10.000000</td>\n",
              "      <td>2016.000000</td>\n",
              "    </tr>\n",
              "    <tr>\n",
              "      <th>50%</th>\n",
              "      <td>220.000000</td>\n",
              "      <td>58.500000</td>\n",
              "      <td>2018.000000</td>\n",
              "    </tr>\n",
              "    <tr>\n",
              "      <th>75%</th>\n",
              "      <td>330.000000</td>\n",
              "      <td>160.450000</td>\n",
              "      <td>2020.000000</td>\n",
              "    </tr>\n",
              "    <tr>\n",
              "      <th>max</th>\n",
              "      <td>750.000000</td>\n",
              "      <td>850.000000</td>\n",
              "      <td>2030.000000</td>\n",
              "    </tr>\n",
              "  </tbody>\n",
              "</table>\n",
              "</div>\n",
              "      <button class=\"colab-df-convert\" onclick=\"convertToInteractive('df-89d3213a-88a1-4acd-b808-a058c3407019')\"\n",
              "              title=\"Convert this dataframe to an interactive table.\"\n",
              "              style=\"display:none;\">\n",
              "        \n",
              "  <svg xmlns=\"http://www.w3.org/2000/svg\" height=\"24px\"viewBox=\"0 0 24 24\"\n",
              "       width=\"24px\">\n",
              "    <path d=\"M0 0h24v24H0V0z\" fill=\"none\"/>\n",
              "    <path d=\"M18.56 5.44l.94 2.06.94-2.06 2.06-.94-2.06-.94-.94-2.06-.94 2.06-2.06.94zm-11 1L8.5 8.5l.94-2.06 2.06-.94-2.06-.94L8.5 2.5l-.94 2.06-2.06.94zm10 10l.94 2.06.94-2.06 2.06-.94-2.06-.94-.94-2.06-.94 2.06-2.06.94z\"/><path d=\"M17.41 7.96l-1.37-1.37c-.4-.4-.92-.59-1.43-.59-.52 0-1.04.2-1.43.59L10.3 9.45l-7.72 7.72c-.78.78-.78 2.05 0 2.83L4 21.41c.39.39.9.59 1.41.59.51 0 1.02-.2 1.41-.59l7.78-7.78 2.81-2.81c.8-.78.8-2.07 0-2.86zM5.41 20L4 18.59l7.72-7.72 1.47 1.35L5.41 20z\"/>\n",
              "  </svg>\n",
              "      </button>\n",
              "      \n",
              "  <style>\n",
              "    .colab-df-container {\n",
              "      display:flex;\n",
              "      flex-wrap:wrap;\n",
              "      gap: 12px;\n",
              "    }\n",
              "\n",
              "    .colab-df-convert {\n",
              "      background-color: #E8F0FE;\n",
              "      border: none;\n",
              "      border-radius: 50%;\n",
              "      cursor: pointer;\n",
              "      display: none;\n",
              "      fill: #1967D2;\n",
              "      height: 32px;\n",
              "      padding: 0 0 0 0;\n",
              "      width: 32px;\n",
              "    }\n",
              "\n",
              "    .colab-df-convert:hover {\n",
              "      background-color: #E2EBFA;\n",
              "      box-shadow: 0px 1px 2px rgba(60, 64, 67, 0.3), 0px 1px 3px 1px rgba(60, 64, 67, 0.15);\n",
              "      fill: #174EA6;\n",
              "    }\n",
              "\n",
              "    [theme=dark] .colab-df-convert {\n",
              "      background-color: #3B4455;\n",
              "      fill: #D2E3FC;\n",
              "    }\n",
              "\n",
              "    [theme=dark] .colab-df-convert:hover {\n",
              "      background-color: #434B5C;\n",
              "      box-shadow: 0px 1px 3px 1px rgba(0, 0, 0, 0.15);\n",
              "      filter: drop-shadow(0px 1px 2px rgba(0, 0, 0, 0.3));\n",
              "      fill: #FFFFFF;\n",
              "    }\n",
              "  </style>\n",
              "\n",
              "      <script>\n",
              "        const buttonEl =\n",
              "          document.querySelector('#df-89d3213a-88a1-4acd-b808-a058c3407019 button.colab-df-convert');\n",
              "        buttonEl.style.display =\n",
              "          google.colab.kernel.accessAllowed ? 'block' : 'none';\n",
              "\n",
              "        async function convertToInteractive(key) {\n",
              "          const element = document.querySelector('#df-89d3213a-88a1-4acd-b808-a058c3407019');\n",
              "          const dataTable =\n",
              "            await google.colab.kernel.invokeFunction('convertToInteractive',\n",
              "                                                     [key], {});\n",
              "          if (!dataTable) return;\n",
              "\n",
              "          const docLinkHtml = 'Like what you see? Visit the ' +\n",
              "            '<a target=\"_blank\" href=https://colab.research.google.com/notebooks/data_table.ipynb>data table notebook</a>'\n",
              "            + ' to learn more about interactive tables.';\n",
              "          element.innerHTML = '';\n",
              "          dataTable['output_type'] = 'display_data';\n",
              "          await google.colab.output.renderOutput(dataTable, element);\n",
              "          const docLink = document.createElement('div');\n",
              "          docLink.innerHTML = docLinkHtml;\n",
              "          element.appendChild(docLink);\n",
              "        }\n",
              "      </script>\n",
              "    </div>\n",
              "  </div>\n",
              "  "
            ]
          },
          "metadata": {},
          "execution_count": 23
        }
      ]
    },
    {
      "cell_type": "code",
      "source": [
        "num_columns = ['class','dist','year']"
      ],
      "metadata": {
        "id": "B4-7-Vh8_fjO"
      },
      "execution_count": 24,
      "outputs": []
    },
    {
      "cell_type": "markdown",
      "source": [
        "Посмотрим на распределение данных"
      ],
      "metadata": {
        "id": "5Y98pRkOhrVq"
      }
    },
    {
      "cell_type": "code",
      "source": [
        "fig, (pl1,pl2,pl3) =  plt.subplots(3)\n",
        "fig.set_figheight(9)\n",
        "fig.set_figwidth(6)\n",
        "\n",
        "pl1.hist(df_copy['year'],bins=20)\n",
        "pl1.set_title(f\"year, mode={df_copy['year'].mode()[0]}\")\n",
        "pl2.hist(df_copy['class'],bins=20)\n",
        "pl2.set_title(f\"class, mode={df_copy['class'].mode()[0]}\")\n",
        "pl3.hist(df_copy['dist'],bins=50)\n",
        "pl3.set_title(f\"distance, mode={df_copy['dist'].mode()[0]}\")\n",
        "plt.show()"
      ],
      "metadata": {
        "colab": {
          "base_uri": "https://localhost:8080/",
          "height": 553
        },
        "outputId": "bb8ab362-70c0-41e5-9983-5f02f9869d60",
        "id": "T6gJfhnRzzVw"
      },
      "execution_count": 25,
      "outputs": [
        {
          "output_type": "display_data",
          "data": {
            "text/plain": [
              "<Figure size 432x648 with 3 Axes>"
            ],
            "image/png": "[encoded data removed]"
          },
          "metadata": {
            "needs_background": "light"
          }
        }
      ]
    },
    {
      "cell_type": "markdown",
      "source": [],
      "metadata": {
        "id": "Pg1_7cIJNzTs"
      }
    },
    {
      "cell_type": "code",
      "source": [
        "fig, (pl1,pl2,pl3) =  plt.subplots(3)\n",
        "fig.set_figheight(9)\n",
        "fig.set_figwidth(6)\n",
        "\n",
        "pl1.hist(df_copy['year'],bins=20)\n",
        "pl1.set_title(f\"year, mode={df_copy['year'].mode()[0]}\")\n",
        "pl2.hist(df_copy['class'],bins=20)\n",
        "pl2.set_title(f\"class, mode={df_copy['class'].mode()[0]}\")\n",
        "pl3.hist(df_copy['dist'],bins=50)\n",
        "pl3.set_title(f\"distance, mode={df_copy['dist'].mode()[0]}\")\n",
        "plt.show()"
      ],
      "metadata": {
        "colab": {
          "base_uri": "https://localhost:8080/",
          "height": 553
        },
        "outputId": "bb8ab362-70c0-41e5-9983-5f02f9869d60",
        "id": "u34q-MZaNuvm"
      },
      "execution_count": null,
      "outputs": [
        {
          "output_type": "display_data",
          "data": {
            "text/plain": [
              "<Figure size 432x648 with 3 Axes>"
            ],
            "image/png": "[encoded data removed]"
          },
          "metadata": {
            "needs_background": "light"
          }
        }
      ]
    },
    {
      "cell_type": "code",
      "source": [
        "# print(df_copy['year'].mode())\n",
        "# df_copy['year'].hist(bins=50)"
      ],
      "metadata": {
        "id": "8c-JLQ9fb1w8"
      },
      "execution_count": 27,
      "outputs": []
    },
    {
      "cell_type": "code",
      "source": [
        "# df[['class','dist']].plot(kind='box')\n",
        "# # df['class'].plot(kind='box')\n"
      ],
      "metadata": {
        "id": "mk9s99LLzgUK"
      },
      "execution_count": 28,
      "outputs": []
    },
    {
      "cell_type": "code",
      "source": [
        "fig, (pl1,pl2,pl3) =  plt.subplots(1,3)\n",
        "fig.set_figheight(5)\n",
        "fig.set_figwidth(9)\n",
        "\n",
        "pl1.boxplot(df_copy['year'])\n",
        "pl1.set_title('year')\n",
        "pl2.boxplot(df_copy['class'])\n",
        "pl2.set_title('class')\n",
        "pl3.boxplot(df_copy['dist'])\n",
        "pl3.set_title('distance')\n",
        "plt.show()"
      ],
      "metadata": {
        "colab": {
          "base_uri": "https://localhost:8080/",
          "height": 336
        },
        "id": "QeGx3FCPqhLC",
        "outputId": "40439b44-de79-4031-84e6-58ce32994833"
      },
      "execution_count": 29,
      "outputs": [
        {
          "output_type": "display_data",
          "data": {
            "text/plain": [
              "<Figure size 648x360 with 3 Axes>"
            ],
            "image/png": "[encoded data removed]"
          },
          "metadata": {
            "needs_background": "light"
          }
        }
      ]
    },
    {
      "cell_type": "markdown",
      "source": [
        "видно, что в параметрах присутствуют \"выбросы\" - стоит рассмотреть данные подробнее и понять природу этих \"выбросов\" и принять решение о методах их обработки."
      ],
      "metadata": {
        "id": "B8F58NlKiK_O"
      }
    },
    {
      "cell_type": "code",
      "source": [],
      "metadata": {
        "id": "7KEXBFuorvs7"
      },
      "execution_count": 29,
      "outputs": []
    },
    {
      "cell_type": "code",
      "source": [],
      "metadata": {
        "id": "yaISAc6Krwyu"
      },
      "execution_count": 29,
      "outputs": []
    },
    {
      "cell_type": "code",
      "metadata": {
        "colab": {
          "base_uri": "https://localhost:8080/",
          "height": 567
        },
        "id": "YKGF3X6Tko5V",
        "outputId": "585ab755-a4f4-432a-d677-e00f1fcbfe9a"
      },
      "source": [
        "sns.pairplot(df_copy)"
      ],
      "execution_count": 30,
      "outputs": [
        {
          "output_type": "execute_result",
          "data": {
            "text/plain": [
              "<seaborn.axisgrid.PairGrid at 0x7f37651e3190>"
            ]
          },
          "metadata": {},
          "execution_count": 30
        },
        {
          "output_type": "display_data",
          "data": {
            "text/plain": [
              "<Figure size 540x540 with 12 Axes>"
            ],
            "image/png": "[encoded data removed]"
          },
          "metadata": {
            "needs_background": "light"
          }
        }
      ]
    },
    {
      "cell_type": "markdown",
      "source": [
        "к сожалению, из-за наложения точек плохо видно состояние в самых плотных участках диаграмм. поэтому применим двухмерную гистограмму:"
      ],
      "metadata": {
        "id": "DW5PovUHL2Z1"
      }
    },
    {
      "cell_type": "code",
      "source": [
        "fig, axs = plt.subplots(3)\n",
        "fig.set_figheight(15)\n",
        "fig.set_figwidth(6)\n",
        "\n",
        "num_cols = num_columns.copy()\n",
        "# print(num_cols)\n",
        "n=0\n",
        "# args_=[]\n",
        "for col1 in num_cols[::-1] :\n",
        "    # print(col1)\n",
        "    num_cols.remove(col1)\n",
        "    # print(num_cols)\n",
        "    for col2 in num_cols :\n",
        "        axs[n].hist2d(df_copy[col1], df_copy[col2], bins=(30,30))\n",
        "        axs[n].set_title(f\"{col1}/{col2}\")\n",
        "        n += 1\n",
        "        # args_.insert( n-2 , (f\"df_copy['{col1}']\", f\"df_copy['{col2}']\"))\n",
        "\n",
        "# print(args_[1][0],args_[1][1])\n",
        "\n",
        "# for n,arg_ in enumerate(args_) :\n",
        "\n",
        "plt.show()\n"
      ],
      "metadata": {
        "id": "BrCPXnIgrolX",
        "colab": {
          "base_uri": "https://localhost:8080/",
          "height": 879
        },
        "outputId": "9afb0147-5e55-4abb-859d-71224185457b"
      },
      "execution_count": 64,
      "outputs": [
        {
          "output_type": "display_data",
          "data": {
            "text/plain": [
              "<Figure size 432x1080 with 3 Axes>"
            ],
            "image/png": "[encoded data removed]"
          },
          "metadata": {
            "needs_background": "light"
          }
        }
      ]
    },
    {
      "cell_type": "markdown",
      "source": [
        "а для комплексной оценки протяжённости возводимых линий создадим сводную таблицу и визуализируем её с помощью \"heatmap\""
      ],
      "metadata": {
        "id": "y35xBShnNG8h"
      }
    },
    {
      "cell_type": "code",
      "source": [
        "df_map = df_copy.pivot_table(\n",
        "                 index='class',\n",
        "                 columns='year',\n",
        "                 values='dist',\n",
        "                 aggfunc=sum\n",
        "                 ).fillna(0)\n",
        "df_map"
      ],
      "metadata": {
        "id": "rLBg3hdzrv4p",
        "colab": {
          "base_uri": "https://localhost:8080/",
          "height": 300
        },
        "outputId": "b0cffd20-e4c9-459a-f47e-8b601b3d1178"
      },
      "execution_count": 31,
      "outputs": [
        {
          "output_type": "execute_result",
          "data": {
            "text/plain": [
              "year      2016    2017     2018     2019      2020    2022   2024   2030\n",
              "class                                                                   \n",
              "110      75.91     0.0   163.74     0.00   740.178     0.0    0.0    0.0\n",
              "220    4585.33  3916.4  1468.20  2564.47  4480.200  1384.6    0.0    0.0\n",
              "300       0.00    67.0     0.00     0.00     0.000     0.0    0.0    0.0\n",
              "330     580.80   199.9   464.70   290.00  1457.600     0.0    0.0    0.0\n",
              "500     878.89   612.0   504.00   636.10  4579.700     0.0  677.0  620.0\n",
              "600       0.00     0.0     0.00     0.00   100.000     0.0    0.0   50.0\n",
              "750       0.00   137.6     0.00   450.00   170.000     0.0    0.0    0.0"
            ],
            "text/html": [
              "\n",
              "  <div id=\"df-ba51b940-430e-4fa1-a278-7907c30d9f24\">\n",
              "    <div class=\"colab-df-container\">\n",
              "      <div>\n",
              "<style scoped>\n",
              "    .dataframe tbody tr th:only-of-type {\n",
              "        vertical-align: middle;\n",
              "    }\n",
              "\n",
              "    .dataframe tbody tr th {\n",
              "        vertical-align: top;\n",
              "    }\n",
              "\n",
              "    .dataframe thead th {\n",
              "        text-align: right;\n",
              "    }\n",
              "</style>\n",
              "<table border=\"1\" class=\"dataframe\">\n",
              "  <thead>\n",
              "    <tr style=\"text-align: right;\">\n",
              "      <th>year</th>\n",
              "      <th>2016</th>\n",
              "      <th>2017</th>\n",
              "      <th>2018</th>\n",
              "      <th>2019</th>\n",
              "      <th>2020</th>\n",
              "      <th>2022</th>\n",
              "      <th>2024</th>\n",
              "      <th>2030</th>\n",
              "    </tr>\n",
              "    <tr>\n",
              "      <th>class</th>\n",
              "      <th></th>\n",
              "      <th></th>\n",
              "      <th></th>\n",
              "      <th></th>\n",
              "      <th></th>\n",
              "      <th></th>\n",
              "      <th></th>\n",
              "      <th></th>\n",
              "    </tr>\n",
              "  </thead>\n",
              "  <tbody>\n",
              "    <tr>\n",
              "      <th>110</th>\n",
              "      <td>75.91</td>\n",
              "      <td>0.0</td>\n",
              "      <td>163.74</td>\n",
              "      <td>0.00</td>\n",
              "      <td>740.178</td>\n",
              "      <td>0.0</td>\n",
              "      <td>0.0</td>\n",
              "      <td>0.0</td>\n",
              "    </tr>\n",
              "    <tr>\n",
              "      <th>220</th>\n",
              "      <td>4585.33</td>\n",
              "      <td>3916.4</td>\n",
              "      <td>1468.20</td>\n",
              "      <td>2564.47</td>\n",
              "      <td>4480.200</td>\n",
              "      <td>1384.6</td>\n",
              "      <td>0.0</td>\n",
              "      <td>0.0</td>\n",
              "    </tr>\n",
              "    <tr>\n",
              "      <th>300</th>\n",
              "      <td>0.00</td>\n",
              "      <td>67.0</td>\n",
              "      <td>0.00</td>\n",
              "      <td>0.00</td>\n",
              "      <td>0.000</td>\n",
              "      <td>0.0</td>\n",
              "      <td>0.0</td>\n",
              "      <td>0.0</td>\n",
              "    </tr>\n",
              "    <tr>\n",
              "      <th>330</th>\n",
              "      <td>580.80</td>\n",
              "      <td>199.9</td>\n",
              "      <td>464.70</td>\n",
              "      <td>290.00</td>\n",
              "      <td>1457.600</td>\n",
              "      <td>0.0</td>\n",
              "      <td>0.0</td>\n",
              "      <td>0.0</td>\n",
              "    </tr>\n",
              "    <tr>\n",
              "      <th>500</th>\n",
              "      <td>878.89</td>\n",
              "      <td>612.0</td>\n",
              "      <td>504.00</td>\n",
              "      <td>636.10</td>\n",
              "      <td>4579.700</td>\n",
              "      <td>0.0</td>\n",
              "      <td>677.0</td>\n",
              "      <td>620.0</td>\n",
              "    </tr>\n",
              "    <tr>\n",
              "      <th>600</th>\n",
              "      <td>0.00</td>\n",
              "      <td>0.0</td>\n",
              "      <td>0.00</td>\n",
              "      <td>0.00</td>\n",
              "      <td>100.000</td>\n",
              "      <td>0.0</td>\n",
              "      <td>0.0</td>\n",
              "      <td>50.0</td>\n",
              "    </tr>\n",
              "    <tr>\n",
              "      <th>750</th>\n",
              "      <td>0.00</td>\n",
              "      <td>137.6</td>\n",
              "      <td>0.00</td>\n",
              "      <td>450.00</td>\n",
              "      <td>170.000</td>\n",
              "      <td>0.0</td>\n",
              "      <td>0.0</td>\n",
              "      <td>0.0</td>\n",
              "    </tr>\n",
              "  </tbody>\n",
              "</table>\n",
              "</div>\n",
              "      <button class=\"colab-df-convert\" onclick=\"convertToInteractive('df-ba51b940-430e-4fa1-a278-7907c30d9f24')\"\n",
              "              title=\"Convert this dataframe to an interactive table.\"\n",
              "              style=\"display:none;\">\n",
              "        \n",
              "  <svg xmlns=\"http://www.w3.org/2000/svg\" height=\"24px\"viewBox=\"0 0 24 24\"\n",
              "       width=\"24px\">\n",
              "    <path d=\"M0 0h24v24H0V0z\" fill=\"none\"/>\n",
              "    <path d=\"M18.56 5.44l.94 2.06.94-2.06 2.06-.94-2.06-.94-.94-2.06-.94 2.06-2.06.94zm-11 1L8.5 8.5l.94-2.06 2.06-.94-2.06-.94L8.5 2.5l-.94 2.06-2.06.94zm10 10l.94 2.06.94-2.06 2.06-.94-2.06-.94-.94-2.06-.94 2.06-2.06.94z\"/><path d=\"M17.41 7.96l-1.37-1.37c-.4-.4-.92-.59-1.43-.59-.52 0-1.04.2-1.43.59L10.3 9.45l-7.72 7.72c-.78.78-.78 2.05 0 2.83L4 21.41c.39.39.9.59 1.41.59.51 0 1.02-.2 1.41-.59l7.78-7.78 2.81-2.81c.8-.78.8-2.07 0-2.86zM5.41 20L4 18.59l7.72-7.72 1.47 1.35L5.41 20z\"/>\n",
              "  </svg>\n",
              "      </button>\n",
              "      \n",
              "  <style>\n",
              "    .colab-df-container {\n",
              "      display:flex;\n",
              "      flex-wrap:wrap;\n",
              "      gap: 12px;\n",
              "    }\n",
              "\n",
              "    .colab-df-convert {\n",
              "      background-color: #E8F0FE;\n",
              "      border: none;\n",
              "      border-radius: 50%;\n",
              "      cursor: pointer;\n",
              "      display: none;\n",
              "      fill: #1967D2;\n",
              "      height: 32px;\n",
              "      padding: 0 0 0 0;\n",
              "      width: 32px;\n",
              "    }\n",
              "\n",
              "    .colab-df-convert:hover {\n",
              "      background-color: #E2EBFA;\n",
              "      box-shadow: 0px 1px 2px rgba(60, 64, 67, 0.3), 0px 1px 3px 1px rgba(60, 64, 67, 0.15);\n",
              "      fill: #174EA6;\n",
              "    }\n",
              "\n",
              "    [theme=dark] .colab-df-convert {\n",
              "      background-color: #3B4455;\n",
              "      fill: #D2E3FC;\n",
              "    }\n",
              "\n",
              "    [theme=dark] .colab-df-convert:hover {\n",
              "      background-color: #434B5C;\n",
              "      box-shadow: 0px 1px 3px 1px rgba(0, 0, 0, 0.15);\n",
              "      filter: drop-shadow(0px 1px 2px rgba(0, 0, 0, 0.3));\n",
              "      fill: #FFFFFF;\n",
              "    }\n",
              "  </style>\n",
              "\n",
              "      <script>\n",
              "        const buttonEl =\n",
              "          document.querySelector('#df-ba51b940-430e-4fa1-a278-7907c30d9f24 button.colab-df-convert');\n",
              "        buttonEl.style.display =\n",
              "          google.colab.kernel.accessAllowed ? 'block' : 'none';\n",
              "\n",
              "        async function convertToInteractive(key) {\n",
              "          const element = document.querySelector('#df-ba51b940-430e-4fa1-a278-7907c30d9f24');\n",
              "          const dataTable =\n",
              "            await google.colab.kernel.invokeFunction('convertToInteractive',\n",
              "                                                     [key], {});\n",
              "          if (!dataTable) return;\n",
              "\n",
              "          const docLinkHtml = 'Like what you see? Visit the ' +\n",
              "            '<a target=\"_blank\" href=https://colab.research.google.com/notebooks/data_table.ipynb>data table notebook</a>'\n",
              "            + ' to learn more about interactive tables.';\n",
              "          element.innerHTML = '';\n",
              "          dataTable['output_type'] = 'display_data';\n",
              "          await google.colab.output.renderOutput(dataTable, element);\n",
              "          const docLink = document.createElement('div');\n",
              "          docLink.innerHTML = docLinkHtml;\n",
              "          element.appendChild(docLink);\n",
              "        }\n",
              "      </script>\n",
              "    </div>\n",
              "  </div>\n",
              "  "
            ]
          },
          "metadata": {},
          "execution_count": 31
        }
      ]
    },
    {
      "cell_type": "code",
      "metadata": {
        "scrolled": false,
        "colab": {
          "base_uri": "https://localhost:8080/",
          "height": 296
        },
        "outputId": "17623019-051f-491f-e860-87246ef01580",
        "id": "MI6hWoXwmcIf"
      },
      "source": [
        "sns.heatmap(df_map, cmap='Greens')"
      ],
      "execution_count": 32,
      "outputs": [
        {
          "output_type": "execute_result",
          "data": {
            "text/plain": [
              "<matplotlib.axes._subplots.AxesSubplot at 0x7f3764ff9450>"
            ]
          },
          "metadata": {},
          "execution_count": 32
        },
        {
          "output_type": "display_data",
          "data": {
            "text/plain": [
              "<Figure size 432x288 with 2 Axes>"
            ],
            "image/png": "[encoded data removed]"
          },
          "metadata": {
            "needs_background": "light"
          }
        }
      ]
    },
    {
      "cell_type": "code",
      "source": [],
      "metadata": {
        "id": "gegKdOdMroip"
      },
      "execution_count": null,
      "outputs": []
    },
    {
      "cell_type": "code",
      "source": [],
      "metadata": {
        "id": "ZkzP_pjOrogf"
      },
      "execution_count": null,
      "outputs": []
    },
    {
      "cell_type": "code",
      "source": [
        "z"
      ],
      "metadata": {
        "id": "OMCVwMZNroeK"
      },
      "execution_count": null,
      "outputs": []
    },
    {
      "cell_type": "markdown",
      "source": [
        "## Задание 2"
      ],
      "metadata": {
        "id": "uOhN2ArmMgkB"
      }
    },
    {
      "cell_type": "markdown",
      "source": [
        "###текст"
      ],
      "metadata": {
        "id": "KRNNt6LNMg0B"
      }
    },
    {
      "cell_type": "code",
      "source": [
        "# комментарий эксперта\n",
        "'''\n",
        "\n",
        "'''"
      ],
      "metadata": {
        "id": "QXwNwGPB-Dup"
      },
      "execution_count": null,
      "outputs": []
    },
    {
      "cell_type": "code",
      "source": [
        "'''\n",
        "Дополнительная часть (необязательная)\n",
        "построить дополнительно не менее 2 визуализаций (итого не менее 6);\n",
        "в работе должны присутствовать следующие визуализации: boxplot, heatmap, scatter plot matrix;\n",
        "\n",
        "'''"
      ],
      "metadata": {
        "id": "nASO5cKOMhKM"
      },
      "execution_count": null,
      "outputs": []
    },
    {
      "cell_type": "markdown",
      "source": [
        "###программа"
      ],
      "metadata": {
        "id": "sr6nEVKHMhaG"
      }
    },
    {
      "cell_type": "code",
      "source": [
        "import"
      ],
      "metadata": {
        "id": "wSqCygzFMho8"
      },
      "execution_count": null,
      "outputs": []
    },
    {
      "cell_type": "code",
      "source": [],
      "metadata": {
        "id": "AfQpgTFSdYJC"
      },
      "execution_count": null,
      "outputs": []
    },
    {
      "cell_type": "code",
      "source": [],
      "metadata": {
        "id": "eH3SppGJdX0c"
      },
      "execution_count": null,
      "outputs": []
    },
    {
      "cell_type": "code",
      "source": [],
      "metadata": {
        "id": "lygF7qnTdXn3"
      },
      "execution_count": null,
      "outputs": []
    },
    {
      "cell_type": "markdown",
      "source": [
        "#Теория: Визуализация данных\n"
      ],
      "metadata": {
        "id": "UUk9oJgkUB88"
      }
    },
    {
      "cell_type": "markdown",
      "source": [
        "\n",
        "Булыгин Олег:  \n",
        "* [LinkedIn](linkedin.com/in/obulygin)  \n",
        "* [Мой канал в ТГ по Python](https://t.me/solidtalk)"
      ],
      "metadata": {
        "id": "kbnBm1xBigeH"
      }
    },
    {
      "cell_type": "code",
      "metadata": {
        "scrolled": false,
        "id": "a75E9qem448B"
      },
      "source": [
        "import matplotlib.pyplot as plt\n",
        "import pandas as pd\n",
        "import numpy as np"
      ],
      "execution_count": null,
      "outputs": []
    },
    {
      "cell_type": "code",
      "metadata": {
        "scrolled": false,
        "id": "ijcuEUxi448D"
      },
      "source": [
        "#увеличим дефолтный размер графиков\n",
        "from pylab import rcParams\n",
        "rcParams['figure.figsize'] = 11,7"
      ],
      "execution_count": null,
      "outputs": []
    },
    {
      "cell_type": "markdown",
      "metadata": {
        "id": "_x-5TdYW448D"
      },
      "source": [
        "## <center> Matplotlib"
      ]
    },
    {
      "cell_type": "markdown",
      "metadata": {
        "id": "YGOtI3FZ448E"
      },
      "source": [
        "Matplotlib – одна из самых популярных библиотек Python для визуализации данных.\n",
        "\n",
        "Импорт: import matplotlib.pyplot as plt\n",
        "\n",
        "Документация: https://matplotlib.org/contents.html"
      ]
    },
    {
      "cell_type": "code",
      "metadata": {
        "scrolled": false,
        "id": "2WcmUwMv448F"
      },
      "source": [
        "# первый позиционный аргумент – точки по X, второй – точки по Y. По умолчанию это единичные отрезки\n",
        "plt.plot(15, 5, 'x')\n",
        "# plt.show()"
      ],
      "execution_count": null,
      "outputs": []
    },
    {
      "cell_type": "code",
      "metadata": {
        "scrolled": false,
        "id": "Y9m6mx1Q448G"
      },
      "source": [
        "plt.plot([1, 4, 9, 12, 15, 20, 25])\n",
        "# plt.show()\n",
        "plt.plot([25, 20, 15, 12, 9, 4, 2])\n",
        "# plt.show()"
      ],
      "execution_count": null,
      "outputs": []
    },
    {
      "cell_type": "markdown",
      "metadata": {
        "id": "WbYItv3B448G"
      },
      "source": [
        "Поработаем с данными о продажах и оценках видеоигр с [Kaggle Datasets](https://www.kaggle.com/rush4ratio/video-game-sales-with-ratings)."
      ]
    },
    {
      "cell_type": "code",
      "metadata": {
        "scrolled": false,
        "id": "B3tMTzIR448H"
      },
      "source": [
        "df = pd.read_csv('https://raw.githubusercontent.com/obulygin/pyda_homeworks/master/stat_case_study/vgsales.csv')"
      ],
      "execution_count": null,
      "outputs": []
    },
    {
      "cell_type": "code",
      "metadata": {
        "scrolled": false,
        "id": "pJ2fvIPW448H"
      },
      "source": [
        "print(df.shape)"
      ],
      "execution_count": null,
      "outputs": []
    },
    {
      "cell_type": "code",
      "metadata": {
        "scrolled": false,
        "id": "wpQ-In45448I"
      },
      "source": [
        "df.head()"
      ],
      "execution_count": null,
      "outputs": []
    },
    {
      "cell_type": "code",
      "metadata": {
        "scrolled": false,
        "id": "tZO93bER448J"
      },
      "source": [
        "df.info()\n",
        "# что видим?"
      ],
      "execution_count": null,
      "outputs": []
    },
    {
      "cell_type": "code",
      "metadata": {
        "id": "xUBoLBJd448J"
      },
      "source": [
        "# почему в User_Score object?\n",
        "df['User_Score'].unique()"
      ],
      "execution_count": null,
      "outputs": []
    },
    {
      "cell_type": "code",
      "metadata": {
        "id": "OhrjEQWU448J"
      },
      "source": [
        "df['User_Score'] = df['User_Score'].replace('tbd', np.NaN)\n",
        "df['User_Score'].unique()"
      ],
      "execution_count": null,
      "outputs": []
    },
    {
      "cell_type": "code",
      "metadata": {
        "scrolled": false,
        "id": "G5NMSNp5448K"
      },
      "source": [
        "# исправим типы данных\n",
        "df['Year_of_Release'] = df['Year_of_Release'].astype('Int64')\n",
        "df['User_Count'] = df['User_Count'].astype('Int64')\n",
        "df['User_Score'] = df['User_Score'].astype('float64')\n",
        "df['Critic_Count'] = df['Critic_Count'].astype('Int64')\n",
        "\n",
        "# переводим оценки в один формат\n",
        "df['User_Score'] = df['User_Score'] * 10"
      ],
      "execution_count": null,
      "outputs": []
    },
    {
      "cell_type": "markdown",
      "metadata": {
        "id": "DsFtXmpH448L"
      },
      "source": [
        "### График\n",
        "Построим график динамики продаж видеоигр"
      ]
    },
    {
      "cell_type": "code",
      "metadata": {
        "scrolled": false,
        "id": "Om0CH4Ne448L"
      },
      "source": [
        "dynamics_by_region = df[['NA_Sales', 'EU_Sales', 'JP_Sales', 'Other_Sales', 'Global_Sales', 'Year_of_Release']] \\\n",
        "    .groupby('Year_of_Release').sum()\n",
        "dynamics_by_region"
      ],
      "execution_count": null,
      "outputs": []
    },
    {
      "cell_type": "code",
      "metadata": {
        "id": "zlpYME9G448L"
      },
      "source": [],
      "execution_count": null,
      "outputs": []
    },
    {
      "cell_type": "code",
      "metadata": {
        "scrolled": false,
        "id": "-s1tlY8D448L"
      },
      "source": [
        "# применяем функцию plot из matplotlib\n",
        "# для каждой дополнительной настройки есть своя функция\n",
        "plt.plot(dynamics_by_region.index, dynamics_by_region['Global_Sales'])\n",
        "plt.title('Динамика продаж видеоигр')\n",
        "plt.xlabel('Год')\n",
        "plt.ylabel('Продажи, млн.')\n"
      ],
      "execution_count": null,
      "outputs": []
    },
    {
      "cell_type": "code",
      "metadata": {
        "scrolled": false,
        "id": "PrwsOcFY448M"
      },
      "source": [
        "# можем использовать цикл, чтобы построить графики для каждого региона\n",
        "for region in dynamics_by_region.columns:\n",
        "    plt.plot(dynamics_by_region.index, dynamics_by_region[region])\n",
        "\n",
        "plt.title('Динамика продаж видеоигр')\n",
        "plt.xlabel('Год')\n",
        "plt.ylabel('Продажи, млн.') \n",
        "plt.legend(dynamics_by_region)"
      ],
      "execution_count": null,
      "outputs": []
    },
    {
      "cell_type": "markdown",
      "metadata": {
        "id": "xQd0VPkk448M"
      },
      "source": [
        "Метод .plot() в pandas основан на matplotlib. Если мы работаем с датафреймами, то это, как правило, более удобный вариант, чем использование matplotlib самой по себе. Мы сконцентрируемся на этом варианте.\n",
        "\n",
        "Документация: https://pandas.pydata.org/pandas-docs/stable/reference/api/pandas.DataFrame.plot.html"
      ]
    },
    {
      "cell_type": "code",
      "metadata": {
        "scrolled": false,
        "id": "gAndsbzR448N"
      },
      "source": [
        "# если работает с табличными структурами, то можем воспользоваться функционалом, \n",
        "# встроенным в pandas. Так удобнее\n",
        "# Метод plot по-умолчанию использует индекс датафрейма для оси X\n",
        "# метод plot по-умолчанию строит график\n",
        "dynamics_by_region['Global_Sales'].plot(title='Динамика продаж видеоигр',\n",
        "                                        xlabel='Год', \n",
        "                                        ylabel='Продажи, млн.')"
      ],
      "execution_count": null,
      "outputs": []
    },
    {
      "cell_type": "code",
      "metadata": {
        "scrolled": false,
        "id": "cKv3BxyY448N"
      },
      "source": [
        "# plot без цикла построит графики для каждого региона (столбца)\n",
        "# если у plot нету нужных методов, то можно применить функции matplotlib\n",
        "dynamics_by_region.plot(title='Динамика продаж видеоигр', \n",
        "                             xlabel='Год', \n",
        "                             ylabel='Продажи, млн.')\n",
        "plt.text(2007, 680, 'Почему отсюда начался спад?')  \n",
        "\n",
        "plt.legend(loc='upper left')"
      ],
      "execution_count": null,
      "outputs": []
    },
    {
      "cell_type": "markdown",
      "metadata": {
        "id": "uNh9R59d448N"
      },
      "source": [
        "### Area chart"
      ]
    },
    {
      "cell_type": "code",
      "metadata": {
        "scrolled": false,
        "id": "6LX-3xqM448O"
      },
      "source": [
        "# по-умолчанию  Area chart всегда накопительный\n",
        "dynamics_by_region.drop('Global_Sales', axis=1).plot(kind='area',\n",
        "                             title='Динамика продаж видеоигр', \n",
        "                             xlabel='Год', \n",
        "                                stacked=False,\n",
        "                             ylabel='Продажи, млн.')"
      ],
      "execution_count": null,
      "outputs": []
    },
    {
      "cell_type": "markdown",
      "metadata": {
        "id": "GUrkgvru448O"
      },
      "source": [
        "### Гистограммы"
      ]
    },
    {
      "cell_type": "code",
      "metadata": {
        "scrolled": false,
        "id": "lQ7kvuMJ448O"
      },
      "source": [
        "# распределение оценок пользователей\n",
        "df['User_Score'].plot(kind='hist', \n",
        "                   title='Распределение оценок пользователей', bins=20)"
      ],
      "execution_count": null,
      "outputs": []
    },
    {
      "cell_type": "code",
      "metadata": {
        "scrolled": false,
        "id": "-GRA-N1W448P"
      },
      "source": [
        "# распределение оценок критиков\n",
        "df['Critic_Score'].plot(kind='hist', \n",
        "                     title='Распределение оценок критиков', bins=20)"
      ],
      "execution_count": null,
      "outputs": []
    },
    {
      "cell_type": "code",
      "metadata": {
        "id": "o2RuMI3R448P"
      },
      "source": [
        "# сравнение\n",
        "df['Critic_Score'].plot(kind='hist', \n",
        "                     alpha = 0.5,\n",
        "                     bins=20,\n",
        "                     density = True)\n",
        "\n",
        "\n",
        "df['User_Score'].plot(kind='hist', \n",
        "                     alpha = 0.5,\n",
        "                     bins=20,\n",
        "                     density = True)\n",
        "plt.legend(loc='upper left')\n",
        "plt.title('Сравнение распределений оценок видеоигр')"
      ],
      "execution_count": null,
      "outputs": []
    },
    {
      "cell_type": "markdown",
      "metadata": {
        "id": "9X-cdJ3r448P"
      },
      "source": [
        "### Столбчатая диаграмма"
      ]
    },
    {
      "cell_type": "code",
      "metadata": {
        "scrolled": false,
        "id": "Hp4877H1448Q"
      },
      "source": [
        "# количество игр в разрезе платформ\n",
        "games_by_platforms = df[['Name', 'Platform']].groupby('Platform').count()\n",
        "games_by_platforms"
      ],
      "execution_count": null,
      "outputs": []
    },
    {
      "cell_type": "code",
      "metadata": {
        "scrolled": false,
        "id": "5YFo3_MP448Q"
      },
      "source": [
        "games_by_platforms.loc[['PC', 'X360', 'PS3', 'PS4', 'XOne']].plot(kind='bar', \n",
        "                                                                  title='Топ 5 платформ по количеству и игр',\n",
        "                                                                  xlabel='Платформа',\n",
        "                                                                  ylabel='Количество игр')"
      ],
      "execution_count": null,
      "outputs": []
    },
    {
      "cell_type": "code",
      "metadata": {
        "scrolled": false,
        "id": "BSUSJor2448R"
      },
      "source": [
        "# топ-5 жанров по продажам\n",
        "top5_genres = df[['Global_Sales', 'Genre']].groupby('Genre').sum().sort_values('Global_Sales', ascending=False).head(5)\n",
        "top5_genres.plot(kind='bar', title='Топ 5 жанров по продажам',\n",
        "                             xlabel='Платформа',\n",
        "                             ylabel='Количество игр')\n",
        "for i, val in enumerate(top5_genres.values):\n",
        "    plt.text(i, val, int(val), horizontalalignment='center', verticalalignment='bottom', fontdict={'size':14})\n",
        "\n"
      ],
      "execution_count": null,
      "outputs": []
    },
    {
      "cell_type": "code",
      "metadata": {
        "scrolled": false,
        "id": "0uTgVpnu448R"
      },
      "source": [
        "# динамика продаж в разрезе регионов. Выглядит фигово\n",
        "dynamics_by_region.plot(kind='bar')"
      ],
      "execution_count": null,
      "outputs": []
    },
    {
      "cell_type": "code",
      "metadata": {
        "scrolled": false,
        "id": "hHehGCIR448S"
      },
      "source": [
        "# Сделаем с накоплением!\n",
        "dynamics_by_region.drop('Global_Sales', axis=1).plot(kind='bar', stacked=True)"
      ],
      "execution_count": null,
      "outputs": []
    },
    {
      "cell_type": "markdown",
      "metadata": {
        "id": "n_hbQ5KX448S"
      },
      "source": [
        "### Круговая диаграмма"
      ]
    },
    {
      "cell_type": "code",
      "metadata": {
        "scrolled": false,
        "id": "xfCjDZN1448S"
      },
      "source": [
        "# количество игр по платформам\n",
        "pie_data = df['Platform'].value_counts()\n",
        "pie_data.plot(kind='pie', title='Количество игр по платформам')"
      ],
      "execution_count": null,
      "outputs": []
    },
    {
      "cell_type": "code",
      "metadata": {
        "scrolled": false,
        "id": "OzvirdUF448S"
      },
      "source": [
        "# количество игр по платформам (берем только топ-5)\n",
        "top_platforms = df['Platform'].value_counts().head(5)\n",
        "top_platforms.plot(kind='pie')\n",
        "plt.legend(bbox_to_anchor=(0.6, .5, 0.5, 0.5))"
      ],
      "execution_count": null,
      "outputs": []
    },
    {
      "cell_type": "markdown",
      "metadata": {
        "id": "1PeEYYaa448T"
      },
      "source": [
        "### Boxplot"
      ]
    },
    {
      "cell_type": "code",
      "metadata": {
        "scrolled": false,
        "id": "vmITJAcZ448T"
      },
      "source": [
        "# очень хорошо подходит для поиска выбросов!\n",
        "df['User_Score'].plot(kind='box',\n",
        "                   title='Распределение оценок пользователей', grid=True)"
      ],
      "execution_count": null,
      "outputs": []
    },
    {
      "cell_type": "code",
      "metadata": {
        "scrolled": false,
        "id": "kt1vYKkh448T"
      },
      "source": [
        "df[['User_Score', 'Critic_Score']].plot(kind='box',\n",
        "                                        title='Распределение оценок', grid=True)"
      ],
      "execution_count": null,
      "outputs": []
    },
    {
      "cell_type": "markdown",
      "metadata": {
        "id": "RjsbDsOl448U"
      },
      "source": [
        "### Точечная диаграмма"
      ]
    },
    {
      "cell_type": "code",
      "metadata": {
        "scrolled": false,
        "id": "pWEzAGwK448U"
      },
      "source": [
        "# посмотрим на взаимосвязь оценок и продаж\n",
        "df.plot(kind='scatter', \n",
        "        x='User_Score', \n",
        "        y='Global_Sales', \n",
        "        title='Корреляция между продажами и оценками пользователей')\n",
        "plt.ylim(0, 40)\n",
        "df.plot(kind='scatter', \n",
        "        x='Critic_Score', \n",
        "        y='Global_Sales', \n",
        "        title='Корреляция между продажами и оценками критиков')\n",
        "plt.ylim(0, 40)"
      ],
      "execution_count": null,
      "outputs": []
    },
    {
      "cell_type": "code",
      "metadata": {
        "scrolled": false,
        "id": "AfXFJQkB448U"
      },
      "source": [
        "# добавим третью ось\n",
        "df.plot(kind='scatter', \n",
        "        x='User_Score', \n",
        "        y='Critic_Score', \n",
        "        s=df['Global_Sales']*20,\n",
        "        title='Корреляция между оценкой критиков, пользоваталей и продажами'\n",
        "       )"
      ],
      "execution_count": null,
      "outputs": []
    },
    {
      "cell_type": "code",
      "metadata": {
        "scrolled": true,
        "id": "IRu_rcEG448U"
      },
      "source": [],
      "execution_count": null,
      "outputs": []
    },
    {
      "cell_type": "markdown",
      "metadata": {
        "id": "GsoZgx1i448V"
      },
      "source": [
        "## Стилизация таблиц"
      ]
    },
    {
      "cell_type": "code",
      "metadata": {
        "scrolled": false,
        "id": "tP4ukdnD448V"
      },
      "source": [
        "# выведем информацию о топ-10 издателях по продажам\n",
        "top_developers_df = df.groupby('Developer')[['Global_Sales']].sum()\\\n",
        "    .sort_values('Global_Sales', ascending=False).head(10)\n",
        "    \n",
        "top_developers_df"
      ],
      "execution_count": null,
      "outputs": []
    },
    {
      "cell_type": "code",
      "metadata": {
        "scrolled": false,
        "id": "Jwyxz7xf448V"
      },
      "source": [
        "top_developers_df.style.bar(align='mid')"
      ],
      "execution_count": null,
      "outputs": []
    },
    {
      "cell_type": "markdown",
      "metadata": {
        "id": "qvchLQ35448V"
      },
      "source": [
        "## <center> Seaborn"
      ]
    },
    {
      "cell_type": "code",
      "metadata": {
        "scrolled": false,
        "id": "v1GmJylf448W"
      },
      "source": [
        "import seaborn as sns"
      ],
      "execution_count": null,
      "outputs": []
    },
    {
      "cell_type": "code",
      "metadata": {
        "scrolled": false,
        "id": "1jrk2Mj6448W"
      },
      "source": [
        "# посмотрим зависимость продаж и оценок критиков\n",
        "sns.regplot(data=df, x='Critic_Score', y='Global_Sales', color='green', marker='+')\n",
        "plt.title('Корреляция между продажами и оценками критиков')\n",
        "plt.ylim(0, 40)"
      ],
      "execution_count": null,
      "outputs": []
    },
    {
      "cell_type": "markdown",
      "metadata": {
        "id": "QjFNzBXz448W"
      },
      "source": [
        "C помощью `seaborn` можно построить достаточно сложные визуализации, которые были бы очень сложны для представления в коде при использовании `matplotlib`. Рассмотрим часть из них."
      ]
    },
    {
      "cell_type": "markdown",
      "source": [
        "### histplot"
      ],
      "metadata": {
        "id": "Gla3_2BtmVUs"
      }
    },
    {
      "cell_type": "markdown",
      "metadata": {
        "id": "Dpy9hs0y448W"
      },
      "source": [
        "Посмотрим на **распределение оценок критиков `Critic_Score`**. Для этого построим __`histplot`__."
      ]
    },
    {
      "cell_type": "code",
      "metadata": {
        "scrolled": false,
        "id": "VCb8wxil448W"
      },
      "source": [
        "sns.histplot(df['Critic_Score'])\n",
        "plt.title('Распределение оценок критиков')"
      ],
      "execution_count": null,
      "outputs": []
    },
    {
      "cell_type": "markdown",
      "source": [
        "### joint_plot"
      ],
      "metadata": {
        "id": "DJ0Pp5NblUSn"
      }
    },
    {
      "cell_type": "markdown",
      "metadata": {
        "id": "vhZpWdyB448X"
      },
      "source": [
        "Для того чтобы подробнее посмотреть на взаимосвязь двух численных признаков можно использовать __`joint_plot`__ – это гибрид `scatter plot` и `histogram`. Посмотрим на то, как связаны между собой **оценка критиков `Critic_Score` и оценка пользователя `User_Score`**."
      ]
    },
    {
      "cell_type": "code",
      "source": [
        "sns.jointplot(x='Critic_Score', y='User_Score', data=df, kind='reg')"
      ],
      "metadata": {
        "id": "Swcn4xA1_QaC"
      },
      "execution_count": null,
      "outputs": []
    },
    {
      "cell_type": "code",
      "metadata": {
        "scrolled": false,
        "id": "9aCT2jpE448X"
      },
      "source": [
        "sns.jointplot(x='Critic_Score', y='User_Score', data=df, kind='reg', marginal_kws=dict(bins=10, fill=False))"
      ],
      "execution_count": null,
      "outputs": []
    },
    {
      "cell_type": "markdown",
      "source": [
        "### scatter plot matrix"
      ],
      "metadata": {
        "id": "_94Ckeg-lMxK"
      }
    },
    {
      "cell_type": "markdown",
      "metadata": {
        "id": "TUiU760f448X"
      },
      "source": [
        "**pair plot (scatter plot matrix)** поможет нам посмотреть на одной картинке, как связаны между собой различные признаки в наборе данных"
      ]
    },
    {
      "cell_type": "code",
      "metadata": {
        "id": "RpoZ7fmd448X"
      },
      "source": [
        "sns.pairplot(df)"
      ],
      "execution_count": null,
      "outputs": []
    },
    {
      "cell_type": "code",
      "metadata": {
        "scrolled": false,
        "id": "FCz7iaNQ448Y"
      },
      "source": [
        "sns.pairplot(df[['Global_Sales', 'Critic_Score', 'User_Score']])"
      ],
      "execution_count": null,
      "outputs": []
    },
    {
      "cell_type": "markdown",
      "source": [
        "### boxplot"
      ],
      "metadata": {
        "id": "b9rhtl9kkzGj"
      }
    },
    {
      "cell_type": "markdown",
      "metadata": {
        "id": "dDScAqpz448Y"
      },
      "source": [
        "Давайте **сравним оценки критиков игр для топ-10 крупнейших игровых платформ** при помощи `boxplot`."
      ]
    },
    {
      "cell_type": "code",
      "metadata": {
        "scrolled": true,
        "id": "4owut7JX448Y"
      },
      "source": [
        "top_platforms = df['Platform'].value_counts().sort_values(ascending=False).head(10).index.values\n",
        "# top_platforms\n",
        "sns.boxplot(x=\"Platform\", y=\"Critic_Score\", \n",
        "            data=df[df['Platform'].isin(top_platforms)])"
      ],
      "execution_count": null,
      "outputs": []
    },
    {
      "cell_type": "markdown",
      "source": [
        "### Heat map"
      ],
      "metadata": {
        "id": "I6hAw9q9kiRz"
      }
    },
    {
      "cell_type": "markdown",
      "metadata": {
        "id": "0WMSHWlk448Y"
      },
      "source": [
        "`Heat map` позволяет посмотреть на распределение какого-то численного признака по двум категориальным. Визуализируем **суммарные продажи игр по жанрам и игровым платформам**."
      ]
    },
    {
      "cell_type": "code",
      "metadata": {
        "scrolled": false,
        "id": "ZgGsU4RU448Z"
      },
      "source": [
        "platform_genre_sales = df[df['Platform'].isin(top_platforms)].pivot_table(\n",
        "                        index='Platform', \n",
        "                        columns='Genre', \n",
        "                        values='Global_Sales', \n",
        "                        aggfunc=sum).fillna(0)\n",
        "\n",
        "platform_genre_sales"
      ],
      "execution_count": null,
      "outputs": []
    },
    {
      "cell_type": "code",
      "metadata": {
        "scrolled": false,
        "id": "CdGtIsZM448Z"
      },
      "source": [
        "sns.heatmap(platform_genre_sales, cmap='PuBu')"
      ],
      "execution_count": null,
      "outputs": []
    },
    {
      "cell_type": "markdown",
      "metadata": {
        "id": "WxGXBKa5448a"
      },
      "source": [
        "## https://www.python-graph-gallery.com/"
      ]
    },
    {
      "cell_type": "code",
      "metadata": {
        "id": "ohDEzPvM448a"
      },
      "source": [
        "from plotly.offline import init_notebook_mode, iplot\n",
        "import plotly\n",
        "import plotly.graph_objs as go\n",
        "\n",
        "data = []\n",
        "\n",
        "for genre in df.Genre.unique():\n",
        "    data.append(\n",
        "        go.Box(y=df[df.Genre==genre].Critic_Score, \n",
        "               name=genre)\n",
        "    )\n",
        "iplot(data, show_link = False)"
      ],
      "execution_count": null,
      "outputs": []
    },
    {
      "cell_type": "code",
      "metadata": {
        "id": "vQvnwxH2rp2n"
      },
      "source": [
        "scores_genres_df = df.groupby('Genre')[['Critic_Score', 'User_Score']].mean()\n",
        "sales_genres_df = df.groupby('Genre')[['Global_Sales']].sum()\n",
        "\n",
        "genres_df = scores_genres_df.join(sales_genres_df)\n",
        "    \n",
        "genres_df.head()\n",
        "trace0 = go.Scatter(\n",
        "    x=genres_df.Critic_Score,\n",
        "    y=genres_df.User_Score,\n",
        "    mode = 'markers+text',\n",
        "    text = genres_df.index,\n",
        "    textposition='bottom center',\n",
        "    marker = dict(\n",
        "        size = 1/10*genres_df.Global_Sales,\n",
        "        color = [\n",
        "            'aqua', 'azure', 'beige', 'lightgreen',\n",
        "            'lavender', 'lightblue', 'pink', 'salmon',\n",
        "            'wheat', 'ivory', 'silver'\n",
        "        ]\n",
        "    )\n",
        ")\n",
        "\n",
        "data = [trace0]\n",
        "layout = {\n",
        "    'title': 'Statistics of video games genres',\n",
        "    'xaxis': {'title': 'Critic Score'},\n",
        "    'yaxis': {'title': 'User Score'}\n",
        "}\n",
        "\n",
        "fig = go.Figure(data=data, layout=layout)\n",
        "\n",
        "iplot(fig, show_link=False)"
      ],
      "execution_count": null,
      "outputs": []
    }
  ]
}