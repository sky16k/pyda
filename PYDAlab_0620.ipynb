{
  "cells": [
    {
      "cell_type": "markdown",
      "metadata": {
        "id": "view-in-github",
        "colab_type": "text"
      },
      "source": [
        "<a href=\"https://colab.research.google.com/github/sky16k/pyda/blob/main/PYDAlab_0620.ipynb\" target=\"_parent\"><img src=\"https://colab.research.google.com/assets/colab-badge.svg\" alt=\"Open In Colab\"/></a>"
      ]
    },
    {
      "cell_type": "markdown",
      "metadata": {
        "id": "mQl_jzYir5Be"
      },
      "source": [
        "## Лабораторная работа по курсу «Python для анализа данных»"
      ]
    },
    {
      "cell_type": "markdown",
      "metadata": {
        "id": "lURXM8KGr5Bk"
      },
      "source": [
        "### При выполнении работы допускается использование любых внешних модулей и пакетов."
      ]
    },
    {
      "cell_type": "markdown",
      "metadata": {
        "id": "VJzCfTv8r5Bl"
      },
      "source": [
        "#### Задача 1"
      ]
    },
    {
      "cell_type": "markdown",
      "metadata": {
        "id": "5ddFjMz7r5Bm"
      },
      "source": [
        "Дана строка:"
      ]
    },
    {
      "cell_type": "code",
      "execution_count": null,
      "metadata": {
        "id": "h4ECG7htr5Bm"
      },
      "outputs": [],
      "source": [
        "string_01 = \"History is always written by the winners. When two cultures clash, the loser is obliterated, and the winner writes the history books - books which glorify their own cause and disparage the conquered foe. As Napoleon once said, 'What is history, but a fable agreed upon?'\""
      ]
    },
    {
      "cell_type": "markdown",
      "metadata": {
        "id": "iAMqlloRr5Bp"
      },
      "source": [
        "1. Посчитайте, сколько в строке символов, исключая пробелы:"
      ]
    },
    {
      "cell_type": "code",
      "execution_count": null,
      "metadata": {
        "colab": {
          "base_uri": "https://localhost:8080/"
        },
        "id": "VLEKL6JFr5Bp",
        "outputId": "ab8f9e0b-a614-4b7c-f8f6-e9957303fbee"
      },
      "outputs": [
        {
          "output_type": "execute_result",
          "data": {
            "text/plain": [
              "225"
            ]
          },
          "metadata": {},
          "execution_count": 4
        }
      ],
      "source": [
        "len(string_01.replace(' ', ''))"
      ]
    },
    {
      "cell_type": "markdown",
      "metadata": {
        "id": "wwoUOBmwr5Bq"
      },
      "source": [
        "2. Посчитайте, сколько в строке слов."
      ]
    },
    {
      "cell_type": "code",
      "execution_count": null,
      "metadata": {
        "colab": {
          "base_uri": "https://localhost:8080/"
        },
        "id": "ktzUqEOLr5Br",
        "outputId": "40edd0d7-bc9c-4896-c3c8-6f8d96fba207"
      },
      "outputs": [
        {
          "output_type": "execute_result",
          "data": {
            "text/plain": [
              "45"
            ]
          },
          "metadata": {},
          "execution_count": 6
        }
      ],
      "source": [
        "import re\n",
        "\n",
        "len(re.findall(r'\\w+', string_01))"
      ]
    },
    {
      "cell_type": "markdown",
      "metadata": {
        "id": "UNnygXQJr5Br"
      },
      "source": [
        "3. Напишите функцию, которая будет принимать в качестве аргумента букву и выводить все слова из строки, начинающиеся на эту букву (например, “w”)."
      ]
    },
    {
      "cell_type": "code",
      "execution_count": null,
      "metadata": {
        "colab": {
          "base_uri": "https://localhost:8080/"
        },
        "id": "aDGwo82ur5Br",
        "outputId": "bb960c03-8a4e-4da8-c767-7abb39a858de"
      },
      "outputs": [
        {
          "output_type": "stream",
          "name": "stdout",
          "text": [
            "written, winners, when, winner, writes, which, what\n"
          ]
        }
      ],
      "source": [
        "char = 'w'\n",
        "# print(string_01.lower())\n",
        "print(', '.join(re.findall( fr'(\\b{char}\\w*)', string_01.lower() )) )"
      ]
    },
    {
      "cell_type": "markdown",
      "metadata": {
        "id": "jqaxldytr5Bs"
      },
      "source": [
        "#### Задача 2"
      ]
    },
    {
      "cell_type": "markdown",
      "metadata": {
        "id": "ypofFFTHr5Bs"
      },
      "source": [
        "Напишите код, который будет генерировать случайную последовательность из 6 цифр, одна из которых должна быть 3. Позиция цифры 3 должна\n",
        "определяться случайным образом. Результат должен быть строкой. Например: \"456309\" или \"330127\"."
      ]
    },
    {
      "cell_type": "code",
      "execution_count": null,
      "metadata": {
        "colab": {
          "base_uri": "https://localhost:8080/"
        },
        "id": "dCpPX-hwr5Bt",
        "outputId": "b64a6d28-119d-470e-e73c-dee85d5d6c42"
      },
      "outputs": [
        {
          "output_type": "stream",
          "name": "stdout",
          "text": [
            "22117\n",
            "331170\n"
          ]
        }
      ],
      "source": [
        "import random\n",
        "# s=''\n",
        "# while len(s) != 6 :\n",
        "s = str(int(random.random()//0.000001))\n",
        "# print(s)\n",
        "if len(s)<6 : s += '0'\n",
        "if '3' in s : print(s)\n",
        "else :\n",
        "    # print(s)\n",
        "    # i = int(random.random()*6)\n",
        "    # print(i)\n",
        "    # print(s[i])\n",
        "    print(s.replace(s[int(random.random()*6)], '3'))\n",
        "    \n",
        "    "
      ]
    },
    {
      "cell_type": "markdown",
      "metadata": {
        "id": "JeW_VYzsr5Bt"
      },
      "source": [
        "#### Задача 3"
      ]
    },
    {
      "cell_type": "markdown",
      "metadata": {
        "id": "GTsIKrmWr5Bt"
      },
      "source": [
        "Дан список:"
      ]
    },
    {
      "cell_type": "code",
      "execution_count": null,
      "metadata": {
        "id": "Fpv2NtyZr5Bu"
      },
      "outputs": [],
      "source": [
        "list_01 = [1, 1, 2, 3, 5, 8, 13, 21, 34, 55, 89, 144, 233, 377, 610, 14, 46, 273, 22, 99, 15, 1000]"
      ]
    },
    {
      "cell_type": "markdown",
      "metadata": {
        "id": "RPeAKHFbr5Bu"
      },
      "source": [
        "Напишите алгоритм, который выводит число, равное сумме элементов списка, которые больше 10, но меньше 100, и которые больше 200, но меньше 500."
      ]
    },
    {
      "cell_type": "code",
      "execution_count": null,
      "metadata": {
        "colab": {
          "base_uri": "https://localhost:8080/"
        },
        "id": "QmSC4RNVr5Bu",
        "outputId": "6dd97790-dac7-4a29-9047-1c62cbee6d48"
      },
      "outputs": [
        {
          "output_type": "stream",
          "name": "stdout",
          "text": [
            "1291\n"
          ]
        }
      ],
      "source": [
        "summa = 0\n",
        "for num in list_01 :\n",
        "    if ( 10 < num < 100\n",
        "        or \n",
        "        200 < num < 500\n",
        "        ) :\n",
        "        summa += num\n",
        "        # print(num, summa)\n",
        "print(summa)"
      ]
    },
    {
      "cell_type": "markdown",
      "metadata": {
        "id": "R4tLLRQfr5Bv"
      },
      "source": [
        "#### Задача 4"
      ]
    },
    {
      "cell_type": "markdown",
      "metadata": {
        "id": "fAthqhdLr5Bv"
      },
      "source": [
        "Данные студентов представлены в виде списка списков:"
      ]
    },
    {
      "cell_type": "code",
      "execution_count": null,
      "metadata": {
        "id": "iT7GW_-Fr5Bv"
      },
      "outputs": [],
      "source": [
        "students = [\n",
        "[\"0001\", \"Антонов\", \"Антон\", \"Игоревич\", \"20.08.2009\",\"БСТ161\"],\n",
        "[\"1102\", \"Богов\", \"Артем\", \"Игоревич\", \"25.01.2010\",\"БСТ162\"],\n",
        "[\"0333\", \"Глаголева\", \"Анастасия\", \"Николаевна\", \"11.07.2009\", \"БСТ163\"],\n",
        "[\"4004\", \"Степанова\", \"Наталья\", \"Александровна\", \"13.02.2008\", \"БСТ161\"],\n",
        "[\"0045\", \"Боков\", \"Игорь\", \"Харитонович\", \"02.06.2009\", \"БСТ161\"],\n",
        "[\"0096\", \"Васильков\", \"Валентин\", \"Сергеевич\", \"20.03.2009\", \"БСТ164\"],\n",
        "[\"0607\", \"Сиропова\", \"Виолетта\", \"Эдуардовна\", \"28.05.2010\", \"БСТ162\"]\n",
        "    ]"
      ]
    },
    {
      "cell_type": "markdown",
      "metadata": {
        "id": "PuIhBlYSr5Bw"
      },
      "source": [
        "1. Преобразуйте данные таким образом, чтобы они были представлены в виде словаря, в котором ключами являются номера студентов, а значениями — список из других данных о студентах."
      ]
    },
    {
      "cell_type": "code",
      "execution_count": null,
      "metadata": {
        "colab": {
          "base_uri": "https://localhost:8080/"
        },
        "id": "f5pf4nIhr5Bw",
        "outputId": "804ece8a-0717-48e1-b868-ca8c6a5a4eb3"
      },
      "outputs": [
        {
          "output_type": "execute_result",
          "data": {
            "text/plain": [
              "{'0001': ['Антонов', 'Антон', 'Игоревич', '20.08.2009', 'БСТ161'],\n",
              " '1102': ['Богов', 'Артем', 'Игоревич', '25.01.2010', 'БСТ162'],\n",
              " '0333': ['Глаголева', 'Анастасия', 'Николаевна', '11.07.2009', 'БСТ163'],\n",
              " '4004': ['Степанова', 'Наталья', 'Александровна', '13.02.2008', 'БСТ161'],\n",
              " '0045': ['Боков', 'Игорь', 'Харитонович', '02.06.2009', 'БСТ161'],\n",
              " '0096': ['Васильков', 'Валентин', 'Сергеевич', '20.03.2009', 'БСТ164'],\n",
              " '0607': ['Сиропова', 'Виолетта', 'Эдуардовна', '28.05.2010', 'БСТ162']}"
            ]
          },
          "metadata": {},
          "execution_count": 53
        }
      ],
      "source": [
        "students_dic = {}\n",
        "for stud in students :\n",
        "    students_dic[stud[0]] = stud[1:]\n",
        "students_dic"
      ]
    },
    {
      "cell_type": "markdown",
      "metadata": {
        "id": "__QrP5YKr5Bx"
      },
      "source": [
        "2. Напишите функцию, которая принимает в качестве аргумента номер студента и новый номер группы и позволяет изменить номер группы этого студента на новый внутри созданного словаря."
      ]
    },
    {
      "cell_type": "code",
      "execution_count": null,
      "metadata": {
        "colab": {
          "base_uri": "https://localhost:8080/"
        },
        "id": "iyRZLTJOr5Bx",
        "outputId": "df3495a8-b6af-4981-8254-d64b0ca90957"
      },
      "outputs": [
        {
          "output_type": "execute_result",
          "data": {
            "text/plain": [
              "{'0001': ['Антонов', 'Антон', 'Игоревич', '20.08.2009', 'БСТ161'],\n",
              " '1102': ['Богов', 'Артем', 'Игоревич', '25.01.2010', 'БСТ162'],\n",
              " '0333': ['Глаголева', 'Анастасия', 'Николаевна', '11.07.2009', 'python'],\n",
              " '4004': ['Степанова', 'Наталья', 'Александровна', '13.02.2008', 'qwerty'],\n",
              " '0045': ['Боков', 'Игорь', 'Харитонович', '02.06.2009', 'БСТ161'],\n",
              " '0096': ['Васильков', 'Валентин', 'Сергеевич', '20.03.2009', 'БСТ164'],\n",
              " '0607': ['Сиропова', 'Виолетта', 'Эдуардовна', '28.05.2010', 'БСТ162']}"
            ]
          },
          "metadata": {},
          "execution_count": 58
        }
      ],
      "source": [
        "# i = '4004'\n",
        "# new_group = 'qwerty'\n",
        "\n",
        "def group_change(studs, id, new_group) :\n",
        "    studs[id][-1] = new_group\n",
        "\n",
        "group_change(students_dic, '0333', 'python')\n",
        "\n",
        "students_dic"
      ]
    },
    {
      "cell_type": "markdown",
      "metadata": {
        "id": "LLNpAr4Fr5Bx"
      },
      "source": [
        "3. Напишите функцию, которая принимает номер группы и выводит список (фамилии, имена, отчества) всех студентов этой группы. Необходимо обращаться к словарю."
      ]
    },
    {
      "cell_type": "code",
      "execution_count": null,
      "metadata": {
        "colab": {
          "base_uri": "https://localhost:8080/"
        },
        "id": "ztWxZUOur5Bx",
        "outputId": "fdb1f87d-0af2-4002-80dc-34bbab22abf2"
      },
      "outputs": [
        {
          "output_type": "stream",
          "name": "stdout",
          "text": [
            "Глаголева Анастасия Николаевна\n"
          ]
        }
      ],
      "source": [
        "# group = 'БСТ161'\n",
        "\n",
        "def group_list(studs, group) :\n",
        "    for stud in studs :\n",
        "        # print(students_dic[stud])\n",
        "        if studs[stud][-1] == group :\n",
        "            # print('!')\n",
        "            print(' '.join(studs[stud][0:3]))\n",
        "\n",
        "group_list(students_dic, 'python')"
      ]
    },
    {
      "cell_type": "markdown",
      "metadata": {
        "id": "4cRNv5tVr5Bx"
      },
      "source": [
        "#### Задача 5"
      ]
    },
    {
      "cell_type": "markdown",
      "metadata": {
        "id": "5BjI9d_jr5By"
      },
      "source": [
        "Дана матрица:"
      ]
    },
    {
      "cell_type": "code",
      "execution_count": null,
      "metadata": {
        "id": "IqN5JYSgr5By"
      },
      "outputs": [],
      "source": [
        "matrix = [ \n",
        "    [0,1,2,4,8], \n",
        "    [6,2,2,1,9], \n",
        "    [3,3,3,3,3], \n",
        "    [4,6,7,1,2], \n",
        "    [5,7,3,4,0] \n",
        "]"
      ]
    },
    {
      "cell_type": "markdown",
      "metadata": {
        "id": "tE10wlcBr5By"
      },
      "source": [
        "1. Выведите результат сложения всех элементов матрицы."
      ]
    },
    {
      "cell_type": "code",
      "execution_count": null,
      "metadata": {
        "colab": {
          "base_uri": "https://localhost:8080/"
        },
        "id": "FSLcmk2Sr5Bz",
        "outputId": "fef25d38-b530-4de1-a9a4-5489279f0f1d"
      },
      "outputs": [
        {
          "output_type": "execute_result",
          "data": {
            "text/plain": [
              "89"
            ]
          },
          "metadata": {},
          "execution_count": 7
        }
      ],
      "source": [
        "summa = 0\n",
        "\n",
        "for row in matrix :\n",
        "    # print(row)\n",
        "    summa += sum(row)\n",
        "\n",
        "summa"
      ]
    },
    {
      "cell_type": "markdown",
      "metadata": {
        "id": "rmALuALZr5Bz"
      },
      "source": [
        "2. Напишите алгоритм вычисления максимума из сумм элементов каждого столбца."
      ]
    },
    {
      "cell_type": "code",
      "execution_count": null,
      "metadata": {
        "colab": {
          "base_uri": "https://localhost:8080/"
        },
        "id": "IhrSOc73r5Bz",
        "outputId": "7b1be51e-77ca-4e85-b1d4-8dca1578e8f6"
      },
      "outputs": [
        {
          "output_type": "execute_result",
          "data": {
            "text/plain": [
              "22"
            ]
          },
          "metadata": {},
          "execution_count": 16
        }
      ],
      "source": [
        "# print(matrix[0])\n",
        "n = len(matrix[0])\n",
        "\n",
        "summa = [0 for i in range(n)]\n",
        "# print(summa)\n",
        "for row in matrix :\n",
        "    for i in range(n) :\n",
        "        summa[i] += row[i]\n",
        "        pass\n",
        "\n",
        "max(summa)"
      ]
    }
  ],
  "metadata": {
    "kernelspec": {
      "display_name": "Python 3",
      "language": "python",
      "name": "python3"
    },
    "language_info": {
      "codemirror_mode": {
        "name": "ipython",
        "version": 3
      },
      "file_extension": ".py",
      "mimetype": "text/x-python",
      "name": "python",
      "nbconvert_exporter": "python",
      "pygments_lexer": "ipython3",
      "version": "3.7.0"
    },
    "colab": {
      "name": "PYDAlab-0620.ipynb",
      "provenance": [],
      "include_colab_link": true
    }
  },
  "nbformat": 4,
  "nbformat_minor": 0
}