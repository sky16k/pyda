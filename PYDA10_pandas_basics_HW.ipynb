{
  "cells": [
    {
      "cell_type": "markdown",
      "metadata": {
        "id": "view-in-github",
        "colab_type": "text"
      },
      "source": [
        "<a href=\"https://colab.research.google.com/github/sky16k/pyda/blob/main/PYDA10_pandas_basics_HW.ipynb\" target=\"_parent\"><img src=\"https://colab.research.google.com/assets/colab-badge.svg\" alt=\"Open In Colab\"/></a>"
      ]
    },
    {
      "cell_type": "markdown",
      "source": [
        "#Домашнее задание"
      ],
      "metadata": {
        "id": "xut-1lrgNCEM"
      }
    },
    {
      "cell_type": "markdown",
      "source": [
        "## осн. текст"
      ],
      "metadata": {
        "id": "p9YQFxg3dvW2"
      }
    },
    {
      "cell_type": "code",
      "source": [
        "'''\n",
        "Преподаватель: Константин Башевой\n",
        "Домашнее задание\n",
        "\n",
        "Задание 1\n",
        "Скачайте с сайта https://grouplens.org/datasets/movielens/ датасет любого размера. Определите, какому фильму было выставлено больше всего оценок 5.0.\n",
        "\n",
        "Задание 2\n",
        "По данным файла power.csv посчитайте суммарное потребление стран Прибалтики (Латвия, Литва и Эстония) категорий 4, 12 и 21 за период с 2005 по 2010 года. Не учитывайте в расчетах отрицательные значения quantity.\n",
        "\n",
        "Задание 3\n",
        "Выберите страницу любого сайта с табличными данными. Импортируйте таблицы в pandas dataframe.\n",
        "Примеры страниц (необязательно брать именно эти):\n",
        "https://fortrader.org/quotes\n",
        "https://www.finanz.ru/valyuty/v-realnom-vremeni\n",
        "'''"
      ],
      "metadata": {
        "id": "r6XxRCktd2fw",
        "outputId": "f28d661b-7741-416b-dd8e-d18423731def",
        "colab": {
          "base_uri": "https://localhost:8080/",
          "height": 0
        }
      },
      "execution_count": 1,
      "outputs": [
        {
          "output_type": "execute_result",
          "data": {
            "text/plain": [
              "'\\nПреподаватель: Константин Башевой\\nДомашнее задание\\n\\nЗадание 1\\nСкачайте с сайта https://grouplens.org/datasets/movielens/ датасет любого размера. Определите, какому фильму было выставлено больше всего оценок 5.0.\\n\\nЗадание 2\\nПо данным файла power.csv посчитайте суммарное потребление стран Прибалтики (Латвия, Литва и Эстония) категорий 4, 12 и 21 за период с 2005 по 2010 года. Не учитывайте в расчетах отрицательные значения quantity.\\n\\nЗадание 3\\nВыберите страницу любого сайта с табличными данными. Импортируйте таблицы в pandas dataframe.\\nПримеры страниц (необязательно брать именно эти):\\nhttps://fortrader.org/quotes\\nhttps://www.finanz.ru/valyuty/v-realnom-vremeni\\n'"
            ],
            "application/vnd.google.colaboratory.intrinsic+json": {
              "type": "string"
            }
          },
          "metadata": {},
          "execution_count": 1
        }
      ]
    },
    {
      "cell_type": "markdown",
      "source": [
        "## Задание 1"
      ],
      "metadata": {
        "id": "K28MI5k_MbDE"
      }
    },
    {
      "cell_type": "markdown",
      "source": [
        "###текст"
      ],
      "metadata": {
        "id": "_m6QJdwtMeFu"
      }
    },
    {
      "cell_type": "code",
      "source": [
        "'''\n",
        "В первом задании как вариант вместо цепочки \n",
        ".groupby('movieId').count().sort_values(by='rating', ascending=False) \n",
        "можно использовать более короткую версию с методом value_counts:\n",
        "df[df.rating == 5].movieId.value_counts()\n",
        "\n",
        "'''"
      ],
      "metadata": {
        "id": "Yaf2ZCqWjYty"
      },
      "execution_count": null,
      "outputs": []
    },
    {
      "cell_type": "code",
      "source": [
        "'''\n",
        "\n",
        "Задание 1\n",
        "Скачайте с сайта https://grouplens.org/datasets/movielens/ \n",
        "датасет любого размера. Определите, какому фильму \n",
        "было выставлено больше всего оценок 5.0.\n",
        "\n",
        "'''"
      ],
      "metadata": {
        "id": "6jF-_YjBMe2t",
        "outputId": "a2a5f5c1-7431-4369-89d0-f9622af86bf2",
        "colab": {
          "base_uri": "https://localhost:8080/",
          "height": 35
        }
      },
      "execution_count": 2,
      "outputs": [
        {
          "output_type": "execute_result",
          "data": {
            "text/plain": [
              "'\\n\\nЗадание 1\\nСкачайте с сайта https://grouplens.org/datasets/movielens/ \\nдатасет любого размера. Определите, какому фильму \\nбыло выставлено больше всего оценок 5.0.\\n\\n'"
            ],
            "application/vnd.google.colaboratory.intrinsic+json": {
              "type": "string"
            }
          },
          "metadata": {},
          "execution_count": 2
        }
      ]
    },
    {
      "cell_type": "markdown",
      "source": [
        "###программа"
      ],
      "metadata": {
        "id": "KjSvPiWdMfT5"
      }
    },
    {
      "cell_type": "code",
      "source": [
        "'''\n",
        "https://files.grouplens.org/datasets/movielens/ml-latest-small.zip\n",
        "/content/ratings.csv\n",
        "/content/movies.csv\n",
        "'''"
      ],
      "metadata": {
        "colab": {
          "base_uri": "https://localhost:8080/",
          "height": 35
        },
        "id": "YOaLvXypuDsC",
        "outputId": "5e74e692-0e96-4f68-9e25-6f110d4b6c23"
      },
      "execution_count": 3,
      "outputs": [
        {
          "output_type": "execute_result",
          "data": {
            "text/plain": [
              "'\\nhttps://files.grouplens.org/datasets/movielens/ml-latest-small.zip\\n/content/ratings.csv\\n/content/movies.csv\\n'"
            ],
            "application/vnd.google.colaboratory.intrinsic+json": {
              "type": "string"
            }
          },
          "metadata": {},
          "execution_count": 3
        }
      ]
    },
    {
      "cell_type": "code",
      "source": [
        "import pandas as pd\n"
      ],
      "metadata": {
        "id": "3o0lOm-gMfqS"
      },
      "execution_count": 2,
      "outputs": []
    },
    {
      "cell_type": "code",
      "source": [
        "df = pd.read_csv('ratings.csv')\n",
        "movies = pd.read_csv('movies.csv')\n",
        "# df['1'] = 1\n",
        "# df"
      ],
      "metadata": {
        "id": "klqicdcgdUro"
      },
      "execution_count": 3,
      "outputs": []
    },
    {
      "cell_type": "code",
      "source": [
        "# print( df [df.rating == 5.0].groupby('movieId') )"
      ],
      "metadata": {
        "id": "O2tKGPJzJQSo"
      },
      "execution_count": 4,
      "outputs": []
    },
    {
      "cell_type": "code",
      "source": [
        "movie_best_id = ( df[df.rating == 5] # выбрать только строки где рейтинг == 5\n",
        "                 .movieId            # взять колонку ИД фильма\n",
        "                 .value_counts()     # посчитать количество уникальных элементов в колонке и составить серию от наибольшего\n",
        "                 .index[0]           # взять индекс первого элемента (тк на месте индекса значения из колонки, по которой считали - получим ИД фильма с большим количеством)\n",
        "                 )"
      ],
      "metadata": {
        "id": "_L3bU-PvjxA_"
      },
      "execution_count": 8,
      "outputs": []
    },
    {
      "cell_type": "code",
      "source": [
        "# movie_best_id =( df [ df.rating == 5.0] # выбрать только строки где рейтинг == 5\n",
        "#                    .groupby('movieId') # сделать группировку по фильмам\n",
        "#                    .count()            # посчитать количество элементов в группах\n",
        "#                    .sort_values(by='rating',       # отсортировать по колонке \"рейтинг\" (не важно по какой именно, просто выбрать одну)\n",
        "#                                 ascending=False    # сортировка в обратном порядке\n",
        "#                                 )  \n",
        "#                    .index[0]           # взять индекс первого элемента (тк на месте индекса значения колоки, по которой группировали - получим ИД фильма)\n",
        "#                 )\n"
      ],
      "metadata": {
        "id": "tWbuoJzLdT9E"
      },
      "execution_count": 9,
      "outputs": []
    },
    {
      "cell_type": "code",
      "source": [
        "print(f\"Больше всего оценок 5.0 было выставлено фильму \\\"{movies.at[movie_best_id,'title']}\\\"\", ) # смотрим название в справочнике фильмов по его ИД"
      ],
      "metadata": {
        "colab": {
          "base_uri": "https://localhost:8080/"
        },
        "id": "poApOwUjlpkV",
        "outputId": "5b5690f6-eabd-4ebe-a544-f5ba491f5393"
      },
      "execution_count": 10,
      "outputs": [
        {
          "output_type": "stream",
          "name": "stdout",
          "text": [
            "Больше всего оценок 5.0 было выставлено фильму \"I Love Trouble (1994)\"\n"
          ]
        }
      ]
    },
    {
      "cell_type": "code",
      "source": [
        "# movie_rated = df [ df.rating == 5.0] [['movieId','1']].groupby('movieId').sum()\n",
        "# # print(movie_rated)#['1']#.idxmax\n",
        "# # print( movie_rated.idxmax() )\n",
        "# # print( movie_rated.loc[318,'1'] )\n",
        "# movie_best_id = movie_rated.sort_values(by='1', ascending=False).index[0]\n",
        "# # print(movie_best_id)\n",
        "# # movies.at[movie_best_id,'title']\n",
        "# print(f\"Больше всего оценок 5.0 было выставлено фильму \\\"{movies.at[movie_best_id,'title']}\\\"\", )"
      ],
      "metadata": {
        "id": "MUQml1LCsCIx"
      },
      "execution_count": 8,
      "outputs": []
    },
    {
      "cell_type": "markdown",
      "source": [
        "## Задание 2"
      ],
      "metadata": {
        "id": "uOhN2ArmMgkB"
      }
    },
    {
      "cell_type": "markdown",
      "source": [
        "###текст"
      ],
      "metadata": {
        "id": "KRNNt6LNMg0B"
      }
    },
    {
      "cell_type": "code",
      "source": [
        "'''\n",
        "В задании 2 можно немного сократить код, используя для дат \n",
        "метод between: \n",
        "df.year.between(2005, 2010)\n",
        "'''"
      ],
      "metadata": {
        "id": "jXzqpTrpjkrt"
      },
      "execution_count": null,
      "outputs": []
    },
    {
      "cell_type": "code",
      "source": [
        "'''\n",
        "\n",
        "Задание 2\n",
        "По данным файла power.csv посчитайте суммарное потребление \n",
        "стран Прибалтики (Латвия, Литва и Эстония) \n",
        "категорий 4, 12 и 21 \n",
        "за период с 2005 по 2010 года. \n",
        "Не учитывайте в расчетах отрицательные значения quantity.\n",
        "\n",
        "'''"
      ],
      "metadata": {
        "id": "nASO5cKOMhKM",
        "colab": {
          "base_uri": "https://localhost:8080/",
          "height": 52
        },
        "outputId": "a8727d47-f609-442c-bd97-628650c8ee5c"
      },
      "execution_count": 9,
      "outputs": [
        {
          "output_type": "execute_result",
          "data": {
            "text/plain": [
              "'\\n\\nЗадание 2\\nПо данным файла power.csv посчитайте суммарное потребление \\nстран Прибалтики (Латвия, Литва и Эстония) \\nкатегорий 4, 12 и 21 \\nза период с 2005 по 2010 года. \\nНе учитывайте в расчетах отрицательные значения quantity.\\n\\n'"
            ],
            "application/vnd.google.colaboratory.intrinsic+json": {
              "type": "string"
            }
          },
          "metadata": {},
          "execution_count": 9
        }
      ]
    },
    {
      "cell_type": "markdown",
      "source": [
        "###программа"
      ],
      "metadata": {
        "id": "sr6nEVKHMhaG"
      }
    },
    {
      "cell_type": "code",
      "source": [
        "import pandas as pd\n"
      ],
      "metadata": {
        "id": "wSqCygzFMho8"
      },
      "execution_count": 10,
      "outputs": []
    },
    {
      "cell_type": "code",
      "source": [
        "df = pd.read_csv('power.csv')\n",
        "# df\n"
      ],
      "metadata": {
        "id": "AfQpgTFSdYJC"
      },
      "execution_count": 11,
      "outputs": []
    },
    {
      "cell_type": "code",
      "source": [
        "# sorted( df['country'].unique() )"
      ],
      "metadata": {
        "id": "r6UH7fWOPqUT"
      },
      "execution_count": 12,
      "outputs": []
    },
    {
      "cell_type": "code",
      "source": [
        ""
      ],
      "metadata": {
        "id": "jmhs7scPTaQh"
      },
      "execution_count": 12,
      "outputs": []
    },
    {
      "cell_type": "code",
      "source": [
        "# df[ df.country.isin(['Estonia','Lithuania','Latvia']) ].sort_values(by='year')[ 2005<=df.year ]\n",
        "summa = df[ df.country.isin(['Estonia','Latvia','Lithuania']) # фильтр по столбцу \"страна\"\n",
        "  & (df.quantity>0)  # отсечение отрицательных\n",
        "  & (2005<=df.year)  # по году\n",
        "  & (df.year<=2010 ) \n",
        "  & df.category.isin([4, 12, 21]) # по категориям\n",
        "  ] ['quantity'].sum() # взять столбец \"кол-во\" и \".сложить()\""
      ],
      "metadata": {
        "id": "daFY1EZKOiuD"
      },
      "execution_count": 13,
      "outputs": []
    },
    {
      "cell_type": "code",
      "source": [
        "print(f\"Cуммарное потребление равно: {summa}\")"
      ],
      "metadata": {
        "colab": {
          "base_uri": "https://localhost:8080/"
        },
        "id": "n6up_QtUk7w_",
        "outputId": "02c333ce-c5c8-474f-8224-c12ce8e37318"
      },
      "execution_count": 14,
      "outputs": [
        {
          "output_type": "stream",
          "name": "stdout",
          "text": [
            "Cуммарное потребление равно: 240580.0\n"
          ]
        }
      ]
    },
    {
      "cell_type": "code",
      "source": [
        "# # df[ df.country.isin(['Estonia','Lithuania','Latvia']) ].sort_values(by='year')[ 2005<=df.year ]\n",
        "# df_filtered = df[ df.country.isin(['Estonia','Latvia','Lithuania']) # фильтр по столбцу \"страна\"\n",
        "#   & (df.quantity>0)  # отсечение отрицательных\n",
        "#   & (2005<=df.year)  # по году\n",
        "#   & (df.year<=2010 ) \n",
        "#   & df.category.isin([4, 12, 21]) # по категориям\n",
        "#   ] \n",
        "# df_filtered['cumsum'] = df_filtered['quantity'].cumsum()\n",
        "# df_filtered"
      ],
      "metadata": {
        "id": "pA3SMHPFj6iO"
      },
      "execution_count": 15,
      "outputs": []
    },
    {
      "cell_type": "code",
      "source": [
        ""
      ],
      "metadata": {
        "id": "lygF7qnTdXn3"
      },
      "execution_count": 15,
      "outputs": []
    },
    {
      "cell_type": "markdown",
      "source": [
        "## Задание 3"
      ],
      "metadata": {
        "id": "ljWnHN2Edg34"
      }
    },
    {
      "cell_type": "markdown",
      "source": [
        "###текст"
      ],
      "metadata": {
        "id": "b9HDph-5dg37"
      }
    },
    {
      "cell_type": "code",
      "source": [
        "'''\n",
        "\n",
        "Задание 3\n",
        "Выберите страницу любого сайта с табличными данными. Импортируйте таблицы в pandas dataframe.\n",
        "Примеры страниц (необязательно брать именно эти):\n",
        "https://fortrader.org/quotes\n",
        "https://www.finanz.ru/valyuty/v-realnom-vremeni\n",
        "\n",
        "'''"
      ],
      "metadata": {
        "id": "r-O80AG7dg38",
        "colab": {
          "base_uri": "https://localhost:8080/",
          "height": 52
        },
        "outputId": "8c501f4c-56ed-477a-b2f8-96dbe9b0be11"
      },
      "execution_count": 16,
      "outputs": [
        {
          "output_type": "execute_result",
          "data": {
            "text/plain": [
              "'\\n\\nЗадание 3\\nВыберите страницу любого сайта с табличными данными. Импортируйте таблицы в pandas dataframe.\\nПримеры страниц (необязательно брать именно эти):\\nhttps://fortrader.org/quotes\\nhttps://www.finanz.ru/valyuty/v-realnom-vremeni\\n\\n'"
            ],
            "application/vnd.google.colaboratory.intrinsic+json": {
              "type": "string"
            }
          },
          "metadata": {},
          "execution_count": 16
        }
      ]
    },
    {
      "cell_type": "markdown",
      "source": [
        "###программа"
      ],
      "metadata": {
        "id": "Xclhk-WGdg39"
      }
    },
    {
      "cell_type": "code",
      "source": [
        "import pandas as pd\n"
      ],
      "metadata": {
        "id": "-DcrQLnZdg3-"
      },
      "execution_count": 17,
      "outputs": []
    },
    {
      "cell_type": "code",
      "source": [
        "df = ( pd.read_html('https://cbr.ru/currency_base/daily/', # найти на странице все таблицы и создать список DF из этих таблиц\n",
        "                    header=0                               # в качестве заголовков взять строку 0\n",
        "                    )\n",
        "                  [0] # взять первый элемент списка \n",
        "      )\n",
        "# len( pd.read_html('https://cbr.ru/currency_base/daily/', header=0) )\n",
        "print( type(df) ) # показываем, что это действительно DF\n",
        "df # показываем результат"
      ],
      "metadata": {
        "id": "V5-YykfOdg3-",
        "colab": {
          "base_uri": "https://localhost:8080/",
          "height": 1000
        },
        "outputId": "c6a9948f-57b2-4a0c-8f46-f03acedefe00"
      },
      "execution_count": 18,
      "outputs": [
        {
          "output_type": "stream",
          "name": "stdout",
          "text": [
            "<class 'pandas.core.frame.DataFrame'>\n"
          ]
        },
        {
          "output_type": "execute_result",
          "data": {
            "text/plain": [
              "    Цифр. код Букв. код  Единиц                                    Валюта  \\\n",
              "0          36       AUD       1                      Австралийский доллар   \n",
              "1         944       AZN       1                     Азербайджанский манат   \n",
              "2          51       AMD     100                          Армянских драмов   \n",
              "3         933       BYN       1                         Белорусский рубль   \n",
              "4         975       BGN       1                            Болгарский лев   \n",
              "5         986       BRL       1                          Бразильский реал   \n",
              "6         348       HUF     100                       Венгерских форинтов   \n",
              "7         410       KRW    1000                      Вон Республики Корея   \n",
              "8         344       HKD      10                      Гонконгских долларов   \n",
              "9         208       DKK      10                              Датских крон   \n",
              "10        840       USD       1                                Доллар США   \n",
              "11        978       EUR       1                                      Евро   \n",
              "12        356       INR     100                           Индийских рупий   \n",
              "13        398       KZT     100                       Казахстанских тенге   \n",
              "14        124       CAD       1                          Канадский доллар   \n",
              "15        417       KGS     100                          Киргизских сомов   \n",
              "16        156       CNY      10                           Китайских юаней   \n",
              "17        498       MDL      10                           Молдавских леев   \n",
              "18        934       TMT       1                   Новый туркменский манат   \n",
              "19        578       NOK      10                           Норвежских крон   \n",
              "20        985       PLN       1                           Польский злотый   \n",
              "21        946       RON       1                             Румынский лей   \n",
              "22        960       XDR       1     СДР (специальные права заимствования)   \n",
              "23        702       SGD       1                       Сингапурский доллар   \n",
              "24        972       TJS      10                         Таджикских сомони   \n",
              "25        949       TRY      10                              Турецких лир   \n",
              "26        860       UZS   10000                           Узбекских сумов   \n",
              "27        980       UAH      10                         Украинских гривен   \n",
              "28        826       GBP       1  Фунт стерлингов Соединенного королевства   \n",
              "29        203       CZK      10                              Чешских крон   \n",
              "30        752       SEK      10                             Шведских крон   \n",
              "31        756       CHF       1                         Швейцарский франк   \n",
              "32        710       ZAR      10                    Южноафриканских рэндов   \n",
              "33        392       JPY     100                              Японских иен   \n",
              "\n",
              "      Курс  \n",
              "0   434717  \n",
              "1   361028  \n",
              "2   151099  \n",
              "3   237124  \n",
              "4   322753  \n",
              "5   120295  \n",
              "6   157666  \n",
              "7   471243  \n",
              "8   784542  \n",
              "9   848502  \n",
              "10  613747  \n",
              "11  625056  \n",
              "12  771247  \n",
              "13  128936  \n",
              "14  480128  \n",
              "15  745065  \n",
              "16  904515  \n",
              "17  318424  \n",
              "18  175356  \n",
              "19  633637  \n",
              "20  133522  \n",
              "21  129346  \n",
              "22  812939  \n",
              "23  447207  \n",
              "24  598375  \n",
              "25  341867  \n",
              "26  562502  \n",
              "27  166783  \n",
              "28  743739  \n",
              "29  258899  \n",
              "30  598941  \n",
              "31  648918  \n",
              "32  375985  \n",
              "33  461464  "
            ],
            "text/html": [
              "\n",
              "  <div id=\"df-aba4023f-4ccf-4746-bf4e-eeea0eaa8458\">\n",
              "    <div class=\"colab-df-container\">\n",
              "      <div>\n",
              "<style scoped>\n",
              "    .dataframe tbody tr th:only-of-type {\n",
              "        vertical-align: middle;\n",
              "    }\n",
              "\n",
              "    .dataframe tbody tr th {\n",
              "        vertical-align: top;\n",
              "    }\n",
              "\n",
              "    .dataframe thead th {\n",
              "        text-align: right;\n",
              "    }\n",
              "</style>\n",
              "<table border=\"1\" class=\"dataframe\">\n",
              "  <thead>\n",
              "    <tr style=\"text-align: right;\">\n",
              "      <th></th>\n",
              "      <th>Цифр. код</th>\n",
              "      <th>Букв. код</th>\n",
              "      <th>Единиц</th>\n",
              "      <th>Валюта</th>\n",
              "      <th>Курс</th>\n",
              "    </tr>\n",
              "  </thead>\n",
              "  <tbody>\n",
              "    <tr>\n",
              "      <th>0</th>\n",
              "      <td>36</td>\n",
              "      <td>AUD</td>\n",
              "      <td>1</td>\n",
              "      <td>Австралийский доллар</td>\n",
              "      <td>434717</td>\n",
              "    </tr>\n",
              "    <tr>\n",
              "      <th>1</th>\n",
              "      <td>944</td>\n",
              "      <td>AZN</td>\n",
              "      <td>1</td>\n",
              "      <td>Азербайджанский манат</td>\n",
              "      <td>361028</td>\n",
              "    </tr>\n",
              "    <tr>\n",
              "      <th>2</th>\n",
              "      <td>51</td>\n",
              "      <td>AMD</td>\n",
              "      <td>100</td>\n",
              "      <td>Армянских драмов</td>\n",
              "      <td>151099</td>\n",
              "    </tr>\n",
              "    <tr>\n",
              "      <th>3</th>\n",
              "      <td>933</td>\n",
              "      <td>BYN</td>\n",
              "      <td>1</td>\n",
              "      <td>Белорусский рубль</td>\n",
              "      <td>237124</td>\n",
              "    </tr>\n",
              "    <tr>\n",
              "      <th>4</th>\n",
              "      <td>975</td>\n",
              "      <td>BGN</td>\n",
              "      <td>1</td>\n",
              "      <td>Болгарский лев</td>\n",
              "      <td>322753</td>\n",
              "    </tr>\n",
              "    <tr>\n",
              "      <th>5</th>\n",
              "      <td>986</td>\n",
              "      <td>BRL</td>\n",
              "      <td>1</td>\n",
              "      <td>Бразильский реал</td>\n",
              "      <td>120295</td>\n",
              "    </tr>\n",
              "    <tr>\n",
              "      <th>6</th>\n",
              "      <td>348</td>\n",
              "      <td>HUF</td>\n",
              "      <td>100</td>\n",
              "      <td>Венгерских форинтов</td>\n",
              "      <td>157666</td>\n",
              "    </tr>\n",
              "    <tr>\n",
              "      <th>7</th>\n",
              "      <td>410</td>\n",
              "      <td>KRW</td>\n",
              "      <td>1000</td>\n",
              "      <td>Вон Республики Корея</td>\n",
              "      <td>471243</td>\n",
              "    </tr>\n",
              "    <tr>\n",
              "      <th>8</th>\n",
              "      <td>344</td>\n",
              "      <td>HKD</td>\n",
              "      <td>10</td>\n",
              "      <td>Гонконгских долларов</td>\n",
              "      <td>784542</td>\n",
              "    </tr>\n",
              "    <tr>\n",
              "      <th>9</th>\n",
              "      <td>208</td>\n",
              "      <td>DKK</td>\n",
              "      <td>10</td>\n",
              "      <td>Датских крон</td>\n",
              "      <td>848502</td>\n",
              "    </tr>\n",
              "    <tr>\n",
              "      <th>10</th>\n",
              "      <td>840</td>\n",
              "      <td>USD</td>\n",
              "      <td>1</td>\n",
              "      <td>Доллар США</td>\n",
              "      <td>613747</td>\n",
              "    </tr>\n",
              "    <tr>\n",
              "      <th>11</th>\n",
              "      <td>978</td>\n",
              "      <td>EUR</td>\n",
              "      <td>1</td>\n",
              "      <td>Евро</td>\n",
              "      <td>625056</td>\n",
              "    </tr>\n",
              "    <tr>\n",
              "      <th>12</th>\n",
              "      <td>356</td>\n",
              "      <td>INR</td>\n",
              "      <td>100</td>\n",
              "      <td>Индийских рупий</td>\n",
              "      <td>771247</td>\n",
              "    </tr>\n",
              "    <tr>\n",
              "      <th>13</th>\n",
              "      <td>398</td>\n",
              "      <td>KZT</td>\n",
              "      <td>100</td>\n",
              "      <td>Казахстанских тенге</td>\n",
              "      <td>128936</td>\n",
              "    </tr>\n",
              "    <tr>\n",
              "      <th>14</th>\n",
              "      <td>124</td>\n",
              "      <td>CAD</td>\n",
              "      <td>1</td>\n",
              "      <td>Канадский доллар</td>\n",
              "      <td>480128</td>\n",
              "    </tr>\n",
              "    <tr>\n",
              "      <th>15</th>\n",
              "      <td>417</td>\n",
              "      <td>KGS</td>\n",
              "      <td>100</td>\n",
              "      <td>Киргизских сомов</td>\n",
              "      <td>745065</td>\n",
              "    </tr>\n",
              "    <tr>\n",
              "      <th>16</th>\n",
              "      <td>156</td>\n",
              "      <td>CNY</td>\n",
              "      <td>10</td>\n",
              "      <td>Китайских юаней</td>\n",
              "      <td>904515</td>\n",
              "    </tr>\n",
              "    <tr>\n",
              "      <th>17</th>\n",
              "      <td>498</td>\n",
              "      <td>MDL</td>\n",
              "      <td>10</td>\n",
              "      <td>Молдавских леев</td>\n",
              "      <td>318424</td>\n",
              "    </tr>\n",
              "    <tr>\n",
              "      <th>18</th>\n",
              "      <td>934</td>\n",
              "      <td>TMT</td>\n",
              "      <td>1</td>\n",
              "      <td>Новый туркменский манат</td>\n",
              "      <td>175356</td>\n",
              "    </tr>\n",
              "    <tr>\n",
              "      <th>19</th>\n",
              "      <td>578</td>\n",
              "      <td>NOK</td>\n",
              "      <td>10</td>\n",
              "      <td>Норвежских крон</td>\n",
              "      <td>633637</td>\n",
              "    </tr>\n",
              "    <tr>\n",
              "      <th>20</th>\n",
              "      <td>985</td>\n",
              "      <td>PLN</td>\n",
              "      <td>1</td>\n",
              "      <td>Польский злотый</td>\n",
              "      <td>133522</td>\n",
              "    </tr>\n",
              "    <tr>\n",
              "      <th>21</th>\n",
              "      <td>946</td>\n",
              "      <td>RON</td>\n",
              "      <td>1</td>\n",
              "      <td>Румынский лей</td>\n",
              "      <td>129346</td>\n",
              "    </tr>\n",
              "    <tr>\n",
              "      <th>22</th>\n",
              "      <td>960</td>\n",
              "      <td>XDR</td>\n",
              "      <td>1</td>\n",
              "      <td>СДР (специальные права заимствования)</td>\n",
              "      <td>812939</td>\n",
              "    </tr>\n",
              "    <tr>\n",
              "      <th>23</th>\n",
              "      <td>702</td>\n",
              "      <td>SGD</td>\n",
              "      <td>1</td>\n",
              "      <td>Сингапурский доллар</td>\n",
              "      <td>447207</td>\n",
              "    </tr>\n",
              "    <tr>\n",
              "      <th>24</th>\n",
              "      <td>972</td>\n",
              "      <td>TJS</td>\n",
              "      <td>10</td>\n",
              "      <td>Таджикских сомони</td>\n",
              "      <td>598375</td>\n",
              "    </tr>\n",
              "    <tr>\n",
              "      <th>25</th>\n",
              "      <td>949</td>\n",
              "      <td>TRY</td>\n",
              "      <td>10</td>\n",
              "      <td>Турецких лир</td>\n",
              "      <td>341867</td>\n",
              "    </tr>\n",
              "    <tr>\n",
              "      <th>26</th>\n",
              "      <td>860</td>\n",
              "      <td>UZS</td>\n",
              "      <td>10000</td>\n",
              "      <td>Узбекских сумов</td>\n",
              "      <td>562502</td>\n",
              "    </tr>\n",
              "    <tr>\n",
              "      <th>27</th>\n",
              "      <td>980</td>\n",
              "      <td>UAH</td>\n",
              "      <td>10</td>\n",
              "      <td>Украинских гривен</td>\n",
              "      <td>166783</td>\n",
              "    </tr>\n",
              "    <tr>\n",
              "      <th>28</th>\n",
              "      <td>826</td>\n",
              "      <td>GBP</td>\n",
              "      <td>1</td>\n",
              "      <td>Фунт стерлингов Соединенного королевства</td>\n",
              "      <td>743739</td>\n",
              "    </tr>\n",
              "    <tr>\n",
              "      <th>29</th>\n",
              "      <td>203</td>\n",
              "      <td>CZK</td>\n",
              "      <td>10</td>\n",
              "      <td>Чешских крон</td>\n",
              "      <td>258899</td>\n",
              "    </tr>\n",
              "    <tr>\n",
              "      <th>30</th>\n",
              "      <td>752</td>\n",
              "      <td>SEK</td>\n",
              "      <td>10</td>\n",
              "      <td>Шведских крон</td>\n",
              "      <td>598941</td>\n",
              "    </tr>\n",
              "    <tr>\n",
              "      <th>31</th>\n",
              "      <td>756</td>\n",
              "      <td>CHF</td>\n",
              "      <td>1</td>\n",
              "      <td>Швейцарский франк</td>\n",
              "      <td>648918</td>\n",
              "    </tr>\n",
              "    <tr>\n",
              "      <th>32</th>\n",
              "      <td>710</td>\n",
              "      <td>ZAR</td>\n",
              "      <td>10</td>\n",
              "      <td>Южноафриканских рэндов</td>\n",
              "      <td>375985</td>\n",
              "    </tr>\n",
              "    <tr>\n",
              "      <th>33</th>\n",
              "      <td>392</td>\n",
              "      <td>JPY</td>\n",
              "      <td>100</td>\n",
              "      <td>Японских иен</td>\n",
              "      <td>461464</td>\n",
              "    </tr>\n",
              "  </tbody>\n",
              "</table>\n",
              "</div>\n",
              "      <button class=\"colab-df-convert\" onclick=\"convertToInteractive('df-aba4023f-4ccf-4746-bf4e-eeea0eaa8458')\"\n",
              "              title=\"Convert this dataframe to an interactive table.\"\n",
              "              style=\"display:none;\">\n",
              "        \n",
              "  <svg xmlns=\"http://www.w3.org/2000/svg\" height=\"24px\"viewBox=\"0 0 24 24\"\n",
              "       width=\"24px\">\n",
              "    <path d=\"M0 0h24v24H0V0z\" fill=\"none\"/>\n",
              "    <path d=\"M18.56 5.44l.94 2.06.94-2.06 2.06-.94-2.06-.94-.94-2.06-.94 2.06-2.06.94zm-11 1L8.5 8.5l.94-2.06 2.06-.94-2.06-.94L8.5 2.5l-.94 2.06-2.06.94zm10 10l.94 2.06.94-2.06 2.06-.94-2.06-.94-.94-2.06-.94 2.06-2.06.94z\"/><path d=\"M17.41 7.96l-1.37-1.37c-.4-.4-.92-.59-1.43-.59-.52 0-1.04.2-1.43.59L10.3 9.45l-7.72 7.72c-.78.78-.78 2.05 0 2.83L4 21.41c.39.39.9.59 1.41.59.51 0 1.02-.2 1.41-.59l7.78-7.78 2.81-2.81c.8-.78.8-2.07 0-2.86zM5.41 20L4 18.59l7.72-7.72 1.47 1.35L5.41 20z\"/>\n",
              "  </svg>\n",
              "      </button>\n",
              "      \n",
              "  <style>\n",
              "    .colab-df-container {\n",
              "      display:flex;\n",
              "      flex-wrap:wrap;\n",
              "      gap: 12px;\n",
              "    }\n",
              "\n",
              "    .colab-df-convert {\n",
              "      background-color: #E8F0FE;\n",
              "      border: none;\n",
              "      border-radius: 50%;\n",
              "      cursor: pointer;\n",
              "      display: none;\n",
              "      fill: #1967D2;\n",
              "      height: 32px;\n",
              "      padding: 0 0 0 0;\n",
              "      width: 32px;\n",
              "    }\n",
              "\n",
              "    .colab-df-convert:hover {\n",
              "      background-color: #E2EBFA;\n",
              "      box-shadow: 0px 1px 2px rgba(60, 64, 67, 0.3), 0px 1px 3px 1px rgba(60, 64, 67, 0.15);\n",
              "      fill: #174EA6;\n",
              "    }\n",
              "\n",
              "    [theme=dark] .colab-df-convert {\n",
              "      background-color: #3B4455;\n",
              "      fill: #D2E3FC;\n",
              "    }\n",
              "\n",
              "    [theme=dark] .colab-df-convert:hover {\n",
              "      background-color: #434B5C;\n",
              "      box-shadow: 0px 1px 3px 1px rgba(0, 0, 0, 0.15);\n",
              "      filter: drop-shadow(0px 1px 2px rgba(0, 0, 0, 0.3));\n",
              "      fill: #FFFFFF;\n",
              "    }\n",
              "  </style>\n",
              "\n",
              "      <script>\n",
              "        const buttonEl =\n",
              "          document.querySelector('#df-aba4023f-4ccf-4746-bf4e-eeea0eaa8458 button.colab-df-convert');\n",
              "        buttonEl.style.display =\n",
              "          google.colab.kernel.accessAllowed ? 'block' : 'none';\n",
              "\n",
              "        async function convertToInteractive(key) {\n",
              "          const element = document.querySelector('#df-aba4023f-4ccf-4746-bf4e-eeea0eaa8458');\n",
              "          const dataTable =\n",
              "            await google.colab.kernel.invokeFunction('convertToInteractive',\n",
              "                                                     [key], {});\n",
              "          if (!dataTable) return;\n",
              "\n",
              "          const docLinkHtml = 'Like what you see? Visit the ' +\n",
              "            '<a target=\"_blank\" href=https://colab.research.google.com/notebooks/data_table.ipynb>data table notebook</a>'\n",
              "            + ' to learn more about interactive tables.';\n",
              "          element.innerHTML = '';\n",
              "          dataTable['output_type'] = 'display_data';\n",
              "          await google.colab.output.renderOutput(dataTable, element);\n",
              "          const docLink = document.createElement('div');\n",
              "          docLink.innerHTML = docLinkHtml;\n",
              "          element.appendChild(docLink);\n",
              "        }\n",
              "      </script>\n",
              "    </div>\n",
              "  </div>\n",
              "  "
            ]
          },
          "metadata": {},
          "execution_count": 18
        }
      ]
    },
    {
      "cell_type": "code",
      "source": [
        ""
      ],
      "metadata": {
        "id": "-VWZfKdMdg3_"
      },
      "execution_count": 18,
      "outputs": []
    },
    {
      "cell_type": "code",
      "source": [
        "z"
      ],
      "metadata": {
        "colab": {
          "base_uri": "https://localhost:8080/",
          "height": 165
        },
        "id": "5GbXmF1ItczK",
        "outputId": "fdff01c6-9fea-41cb-e91b-ec22a8338031"
      },
      "execution_count": 19,
      "outputs": [
        {
          "output_type": "error",
          "ename": "NameError",
          "evalue": "ignored",
          "traceback": [
            "\u001b[0;31m---------------------------------------------------------------------------\u001b[0m",
            "\u001b[0;31mNameError\u001b[0m                                 Traceback (most recent call last)",
            "\u001b[0;32m<ipython-input-19-3a710d2a84f8>\u001b[0m in \u001b[0;36m<module>\u001b[0;34m\u001b[0m\n\u001b[0;32m----> 1\u001b[0;31m \u001b[0mz\u001b[0m\u001b[0;34m\u001b[0m\u001b[0;34m\u001b[0m\u001b[0m\n\u001b[0m",
            "\u001b[0;31mNameError\u001b[0m: name 'z' is not defined"
          ]
        }
      ]
    },
    {
      "cell_type": "markdown",
      "metadata": {
        "id": "choqIwamMLMR"
      },
      "source": [
        "# Теория: Основы pandas"
      ]
    },
    {
      "cell_type": "markdown",
      "source": [
        "## импорт, чтение, ознакомление с данными"
      ],
      "metadata": {
        "id": "dYCeG7QVeQNA"
      }
    },
    {
      "cell_type": "code",
      "execution_count": null,
      "metadata": {
        "id": "tcu4kU5UMLMY"
      },
      "outputs": [],
      "source": [
        "import pandas as pd"
      ]
    },
    {
      "cell_type": "markdown",
      "metadata": {
        "id": "M5px17pcMLMa"
      },
      "source": [
        "Пример забора данных с сайтов"
      ]
    },
    {
      "cell_type": "code",
      "source": [
        ""
      ],
      "metadata": {
        "id": "JxOxYqaQN2tJ"
      },
      "execution_count": null,
      "outputs": []
    },
    {
      "cell_type": "code",
      "execution_count": null,
      "metadata": {
        "id": "yUlTE8LiMLMa"
      },
      "outputs": [],
      "source": [
        "#может подключатся к базам данных, например к MySQL\n",
        "\n",
        "pip install pymysql\n",
        "\n",
        "import pymysql\n",
        "\n",
        "#тут код создания подключения\n",
        "<connection>"
      ]
    },
    {
      "cell_type": "code",
      "execution_count": null,
      "metadata": {
        "id": "51UoN8-RMLMb"
      },
      "outputs": [],
      "source": [
        "#тут обращение к базе\n",
        "pd.read_sql('select * from db.table;', connection)"
      ]
    },
    {
      "cell_type": "code",
      "execution_count": null,
      "metadata": {
        "scrolled": false,
        "id": "p1JBQUwlMLMc"
      },
      "outputs": [],
      "source": [
        "pd.read_html('https://cbr.ru/currency_base/daily/')[0]"
      ]
    },
    {
      "cell_type": "code",
      "execution_count": null,
      "metadata": {
        "id": "k516ZXUmMLMd"
      },
      "outputs": [],
      "source": [
        "page_url = 'https://www.finanz.ru/valyuty/usd-rub'\n",
        "\n",
        "# Импортируем нужную нам страницу в df\n",
        "# attrs = {'class': 'news_table'} ---> указываем какой именно блок нам нужен\n",
        "# encoding='utf-8' ---> указываем кодировку страниц для корректного отображения кириллицы\n",
        "df = pd.read_html(page_url, attrs = {'class': 'news_table'}, encoding='utf-8')"
      ]
    },
    {
      "cell_type": "code",
      "execution_count": null,
      "metadata": {
        "id": "mxcK8NAmMLMe"
      },
      "outputs": [],
      "source": [
        "df"
      ]
    },
    {
      "cell_type": "markdown",
      "metadata": {
        "id": "1AVD25QKMLMf"
      },
      "source": [
        "Импорт данных из файла"
      ]
    },
    {
      "cell_type": "code",
      "execution_count": null,
      "metadata": {
        "id": "ypkeuqxCMLMg"
      },
      "outputs": [],
      "source": [
        "csv - comma separated values"
      ]
    },
    {
      "cell_type": "code",
      "execution_count": null,
      "metadata": {
        "scrolled": false,
        "id": "1VZ7gAPYMLMh"
      },
      "outputs": [],
      "source": [
        "data = pd.read_csv('power.csv')\n",
        "data.head()"
      ]
    },
    {
      "cell_type": "code",
      "execution_count": null,
      "metadata": {
        "id": "nm4SVAkdMLMh"
      },
      "outputs": [],
      "source": [
        "data.head(30)"
      ]
    },
    {
      "cell_type": "code",
      "execution_count": null,
      "metadata": {
        "scrolled": true,
        "id": "_fJGbh83MLMi"
      },
      "outputs": [],
      "source": [
        "data.tail(10)"
      ]
    },
    {
      "cell_type": "code",
      "execution_count": null,
      "metadata": {
        "scrolled": true,
        "id": "KA7ywnNPMLMi"
      },
      "outputs": [],
      "source": [
        "type(data)"
      ]
    },
    {
      "cell_type": "code",
      "execution_count": null,
      "metadata": {
        "id": "0-3MYteuMLMj"
      },
      "outputs": [],
      "source": [
        "data."
      ]
    },
    {
      "cell_type": "code",
      "execution_count": null,
      "metadata": {
        "id": "FvyUkthyMLMj"
      },
      "outputs": [],
      "source": [
        "# если надо указать свои заголовки и разделитель\n",
        "# data = pd.read_csv('power.csv', names = ['страна', 'год', 'количество', 'категория'], sep = '\\t', header=0)\n",
        "# data.head()"
      ]
    },
    {
      "cell_type": "code",
      "execution_count": null,
      "metadata": {
        "id": "8DdMdg_hMLMj"
      },
      "outputs": [],
      "source": [
        "?pd.read_csv"
      ]
    },
    {
      "cell_type": "code",
      "execution_count": null,
      "metadata": {
        "id": "yJKrqSoVMLMk"
      },
      "outputs": [],
      "source": [
        "# количество строк в датафрейме\n",
        "\n",
        "len(data)"
      ]
    },
    {
      "cell_type": "code",
      "execution_count": null,
      "metadata": {
        "id": "HgAaFq3mMLMk"
      },
      "outputs": [],
      "source": [
        "# или так\n",
        "\n",
        "data.shape"
      ]
    },
    {
      "cell_type": "markdown",
      "metadata": {
        "id": "teJDFHg_MLMl"
      },
      "source": [
        "Простые вычисления для нового столбца"
      ]
    },
    {
      "cell_type": "code",
      "execution_count": null,
      "metadata": {
        "scrolled": true,
        "id": "n6UqWxEHMLMl"
      },
      "outputs": [],
      "source": [
        "data['year_plus_one'] = data['year'] + 1\n",
        "data.head()"
      ]
    },
    {
      "cell_type": "markdown",
      "metadata": {
        "id": "ZR9S42nDMLMm"
      },
      "source": [
        "### Основные сведения о датафрейме"
      ]
    },
    {
      "cell_type": "code",
      "execution_count": null,
      "metadata": {
        "id": "yjCqIsYfMLMm"
      },
      "outputs": [],
      "source": [
        "data.info()"
      ]
    },
    {
      "cell_type": "code",
      "execution_count": null,
      "metadata": {
        "id": "H1VgXDfFMLMm"
      },
      "outputs": [],
      "source": [
        "2**64"
      ]
    },
    {
      "cell_type": "code",
      "execution_count": null,
      "metadata": {
        "id": "puDjsebnMLMn"
      },
      "outputs": [],
      "source": [
        "None"
      ]
    },
    {
      "cell_type": "code",
      "execution_count": null,
      "metadata": {
        "scrolled": false,
        "id": "PMLxVxuGMLMn"
      },
      "outputs": [],
      "source": [
        "# немного статистики\n",
        "\n",
        "data.describe()"
      ]
    },
    {
      "cell_type": "markdown",
      "metadata": {
        "id": "FYh7seEqMLMn"
      },
      "source": [
        "### Отдельный столбец (тип Series)"
      ]
    },
    {
      "cell_type": "code",
      "execution_count": null,
      "metadata": {
        "id": "VIGQ1MNaMLMo"
      },
      "outputs": [],
      "source": [
        "data['year plus one'].head()"
      ]
    },
    {
      "cell_type": "code",
      "execution_count": null,
      "metadata": {
        "scrolled": true,
        "id": "UYxIfHJyMLMo"
      },
      "outputs": [],
      "source": [
        "# или так\n",
        "\n",
        "data.year.head()"
      ]
    },
    {
      "cell_type": "code",
      "execution_count": null,
      "metadata": {
        "scrolled": true,
        "id": "Fh-c8crYMLMo"
      },
      "outputs": [],
      "source": [
        "type(data['year'])"
      ]
    },
    {
      "cell_type": "code",
      "execution_count": null,
      "metadata": {
        "id": "MFfFbtUZMLMp"
      },
      "outputs": [],
      "source": [
        "data.head()"
      ]
    },
    {
      "cell_type": "code",
      "execution_count": null,
      "metadata": {
        "id": "MTlpPTQcMLMp"
      },
      "outputs": [],
      "source": [
        "# уникальные значения в столбце\n",
        "\n",
        "data['category'].unique()"
      ]
    },
    {
      "cell_type": "code",
      "execution_count": null,
      "metadata": {
        "id": "LubVRGzrMLMp"
      },
      "outputs": [],
      "source": [
        "set([1, 1, 1, 2])"
      ]
    },
    {
      "cell_type": "code",
      "execution_count": null,
      "metadata": {
        "id": "IgdhUqNUMLMq"
      },
      "outputs": [],
      "source": [
        "len(data['category'].unique())"
      ]
    },
    {
      "cell_type": "code",
      "execution_count": null,
      "metadata": {
        "id": "21xtSEPyMLMq"
      },
      "outputs": [],
      "source": [
        "data['category'].nunique()"
      ]
    },
    {
      "cell_type": "code",
      "execution_count": null,
      "metadata": {
        "id": "ddlF7-7EMLMq"
      },
      "outputs": [],
      "source": [
        "data['category'].head()"
      ]
    },
    {
      "cell_type": "code",
      "execution_count": null,
      "metadata": {
        "id": "wIZX16AcMLMr"
      },
      "outputs": [],
      "source": [
        "# распределение количества строк по значениям столбца\n",
        "\n",
        "data['category'].value_counts().head(10)"
      ]
    },
    {
      "cell_type": "code",
      "execution_count": null,
      "metadata": {
        "id": "cVebl6TEMLMr"
      },
      "outputs": [],
      "source": [
        "data['category'].value_counts(normalize=True).head()"
      ]
    },
    {
      "cell_type": "markdown",
      "metadata": {
        "id": "OnZQnvK9MLMr"
      },
      "source": [
        "## Фильтры"
      ]
    },
    {
      "cell_type": "code",
      "execution_count": null,
      "metadata": {
        "id": "k_UdcAYvMLMr"
      },
      "outputs": [],
      "source": [
        "data = pd.read_csv('power.csv')\n",
        "data.head()"
      ]
    },
    {
      "cell_type": "code",
      "execution_count": null,
      "metadata": {
        "scrolled": true,
        "id": "C-KkWyk1MLMs"
      },
      "outputs": [],
      "source": [
        "# выбрать несколько столбцов\n",
        "\n",
        "country_stats = data.filter(items = ['country', 'quantity'])\n",
        "country_stats.head()"
      ]
    },
    {
      "cell_type": "code",
      "execution_count": null,
      "metadata": {
        "id": "Cy15IfYxMLMs"
      },
      "outputs": [],
      "source": [
        "data['country']"
      ]
    },
    {
      "cell_type": "code",
      "execution_count": null,
      "metadata": {
        "id": "j19IKAhIMLMs"
      },
      "outputs": [],
      "source": [
        "# или так\n",
        "\n",
        "data[['country', 'quantity']].head()"
      ]
    },
    {
      "cell_type": "markdown",
      "metadata": {
        "id": "sToJOpCEMLMt"
      },
      "source": [
        "### Отфильтруем строки с потреблением выше среднего"
      ]
    },
    {
      "cell_type": "code",
      "execution_count": null,
      "metadata": {
        "id": "GJc5sPadMLMt"
      },
      "outputs": [],
      "source": [
        "average_level = data['quantity'].mean()\n",
        "average_level"
      ]
    },
    {
      "cell_type": "code",
      "execution_count": null,
      "metadata": {
        "id": "OFNzrYUdMLMt"
      },
      "outputs": [],
      "source": [
        "'quantity > {}'.format(average_level)"
      ]
    },
    {
      "cell_type": "code",
      "execution_count": null,
      "metadata": {
        "id": "8qbfXlnmMLMt"
      },
      "outputs": [],
      "source": [
        "f'quantity > {average_level}'"
      ]
    },
    {
      "cell_type": "code",
      "execution_count": null,
      "metadata": {
        "scrolled": true,
        "id": "HjvvlQ8iMLMu"
      },
      "outputs": [],
      "source": [
        "# строки с потреблением больше среднего\n",
        "\n",
        "average_level = data['quantity'].mean()\n",
        "country_stats.query('quantity > {}'.format(average_level)).head()"
      ]
    },
    {
      "cell_type": "code",
      "execution_count": null,
      "metadata": {
        "id": "wIoLo-WIMLMu"
      },
      "outputs": [],
      "source": [
        "if data.quantity > average_level:"
      ]
    },
    {
      "cell_type": "code",
      "execution_count": null,
      "metadata": {
        "scrolled": true,
        "id": "MZQWb-O0MLMu"
      },
      "outputs": [],
      "source": [
        "# самый популярный способ\n",
        "\n",
        "data[ data.quantity > average_level ].head()"
      ]
    },
    {
      "cell_type": "markdown",
      "metadata": {
        "id": "HHdOQAxPMLMv"
      },
      "source": [
        "### Как определить используемый вариант названия страны?"
      ]
    },
    {
      "cell_type": "code",
      "execution_count": null,
      "metadata": {
        "id": "GYCLC2ocMLMv"
      },
      "outputs": [],
      "source": [
        "data['country'].unique()"
      ]
    },
    {
      "cell_type": "code",
      "execution_count": null,
      "metadata": {
        "id": "aFK5Ci5bMLMv"
      },
      "outputs": [],
      "source": [
        "if 'rus' in 'Russia Federation':"
      ]
    },
    {
      "cell_type": "code",
      "execution_count": null,
      "metadata": {
        "id": "JCjClXqgMLMv"
      },
      "outputs": [],
      "source": [
        "# найдем как называется Россия и Беларусь в этом датафрейме\n",
        "# фильтр на подстроку - смотрим все страны, содержащие в названии 'us'\n",
        "\n",
        "data[ data['country'].str.contains('us', case=False) ]['country'].unique()"
      ]
    },
    {
      "cell_type": "code",
      "execution_count": null,
      "metadata": {
        "id": "NSOxaIDCMLMw"
      },
      "outputs": [],
      "source": [
        "# фильтр на несколько условий сразу\n",
        "# | - условие ИЛИ\n",
        "# & AND\n",
        "# () | (() | () & ())\n",
        "filtered_countries = data[ (data['country']=='Russian Federation') | (data['country']=='Belarus') ]\n",
        "\n",
        "filtered_countries.head()"
      ]
    },
    {
      "cell_type": "code",
      "execution_count": null,
      "metadata": {
        "id": "p9-QOHWQMLMw"
      },
      "outputs": [],
      "source": [
        "filtered_countries['country'].unique()"
      ]
    },
    {
      "cell_type": "code",
      "execution_count": null,
      "metadata": {
        "id": "fzQ_KGBeMLMw"
      },
      "outputs": [],
      "source": [
        "# фильтры на номер строки\n",
        "\n",
        "data.loc[1000:1005]"
      ]
    },
    {
      "cell_type": "markdown",
      "metadata": {
        "id": "23FOokV9MLMx"
      },
      "source": [
        "## Сортировка"
      ]
    },
    {
      "cell_type": "code",
      "execution_count": null,
      "metadata": {
        "id": "YrGF5o2vMLMx"
      },
      "outputs": [],
      "source": [
        "# Сортировка по столбцу\n",
        "\n",
        "data.sort_values(by='quantity').head()"
      ]
    },
    {
      "cell_type": "code",
      "execution_count": null,
      "metadata": {
        "id": "t2UtdfBKMLMx"
      },
      "outputs": [],
      "source": [
        "# сортировка по убыванию\n",
        "\n",
        "data.sort_values('quantity', ascending=False).head()"
      ]
    },
    {
      "cell_type": "code",
      "execution_count": null,
      "metadata": {
        "id": "8oxjg9daMLMy"
      },
      "outputs": [],
      "source": [
        "# сортировка по нескольким столбцам\n",
        "\n",
        "data.sort_values(by=['year', 'country', 'quantity'], ascending=[False, True, False]).head(50)"
      ]
    },
    {
      "cell_type": "markdown",
      "metadata": {
        "id": "sc7Z_EUyMLMy"
      },
      "source": [
        "## Параметр inplace"
      ]
    },
    {
      "cell_type": "code",
      "execution_count": null,
      "metadata": {
        "id": "A3Ev_63HMLMy"
      },
      "outputs": [],
      "source": [
        "data.head()"
      ]
    },
    {
      "cell_type": "code",
      "execution_count": null,
      "metadata": {
        "id": "FgIoiOZiMLMz"
      },
      "outputs": [],
      "source": [
        "data = data.sort_values(['country', 'year'], ascending=[False, True])"
      ]
    },
    {
      "cell_type": "code",
      "execution_count": null,
      "metadata": {
        "id": "OlTYc0IvMLMz"
      },
      "outputs": [],
      "source": [
        "def calculation(data, inplace=True):\n",
        "    data.sort_values(['country', 'year'], ascending=[False, True], inplace=inplace)"
      ]
    },
    {
      "cell_type": "code",
      "execution_count": null,
      "metadata": {
        "id": "QKRzwtW1MLMz"
      },
      "outputs": [],
      "source": [
        "data.sort_values(['country', 'year'], ascending=[False, True], inplace=True)"
      ]
    },
    {
      "cell_type": "code",
      "execution_count": null,
      "metadata": {
        "id": "cfXloqbYMLM0"
      },
      "outputs": [],
      "source": [
        "data = data.sort_values(by=['country', 'year', 'quantity'], ascending=[True, True, False])\n",
        "\n",
        "# чтобы сократить это выражение используем inplace:\n",
        "data.sort_values(by=['country', 'year', 'quantity'], ascending=[True, True, False], inplace=True)"
      ]
    }
  ],
  "metadata": {
    "kernelspec": {
      "display_name": "Python 3",
      "language": "python",
      "name": "python3"
    },
    "language_info": {
      "codemirror_mode": {
        "name": "ipython",
        "version": 3
      },
      "file_extension": ".py",
      "mimetype": "text/x-python",
      "name": "python",
      "nbconvert_exporter": "python",
      "pygments_lexer": "ipython3",
      "version": "3.7.0"
    },
    "colab": {
      "name": "PYDA10_pandas_basics_HW.ipynb",
      "provenance": [],
      "collapsed_sections": [
        "p9YQFxg3dvW2",
        "uOhN2ArmMgkB",
        "ljWnHN2Edg34",
        "choqIwamMLMR",
        "dYCeG7QVeQNA",
        "ZR9S42nDMLMm",
        "FYh7seEqMLMn",
        "OnZQnvK9MLMr",
        "sToJOpCEMLMt",
        "HHdOQAxPMLMv",
        "23FOokV9MLMx",
        "sc7Z_EUyMLMy"
      ],
      "include_colab_link": true
    }
  },
  "nbformat": 4,
  "nbformat_minor": 0
}