{
 "cells": [
  {
   "cell_type": "markdown",
   "metadata": {},
   "source": [
    "# Требования к отчету\n",
    "(в хронологическом порядке)\n",
    "\n",
    "1. Нужен отчет по трафику (визиты по дням)\n",
    "2. Сделайте таблицу попроще\n",
    "3. А можно сразу очень много строк получить?\n",
    "\n",
    "[Демо-счетчик](https://metrika.yandex.ru/stat/traffic?sort=-ym%3As%3Avisits&period=2020-08-01%3A2020-09-06&accuracy=1&id=44147844&stateHash=5d3ee51607d6bde783131e11) Яндекс.Метрики\n"
   ]
  },
  {
   "cell_type": "code",
   "execution_count": 1,
   "metadata": {},
   "outputs": [],
   "source": [
    "import requests"
   ]
  },
  {
   "cell_type": "code",
   "execution_count": 2,
   "metadata": {},
   "outputs": [],
   "source": [
    "API_URL = 'https://api-metrika.yandex.ru/stat/v1/data'\n",
    "METRIKA_ROWS_LIMIT = 5\n",
    "\n",
    "DEMO_COUNTER = 44147844"
   ]
  },
  {
   "cell_type": "code",
   "execution_count": 3,
   "metadata": {},
   "outputs": [],
   "source": [
    "class Metrika:\n",
    "    def __init__(self, token='', counter=DEMO_COUNTER, start_date='2020-09-01', end_date='2020-09-10'):\n",
    "        self.counter = counter\n",
    "        self.limit = METRIKA_ROWS_LIMIT\n",
    "        self.start_date = start_date\n",
    "        self.end_date = end_date\n",
    "        \n",
    "        if token:\n",
    "            self.headers = {'Authorization': 'OAuth ' + token}\n",
    "        else:\n",
    "            self.headers = ''  # для демо-счетчика заголовок запроса должен быть пустым\n",
    "        \n",
    "        self.dimensions = ''\n",
    "        self.metrics = ''\n",
    "        self.report = []\n",
    "        \n",
    "    def api_request(self, offset=1):\n",
    "        params = {\n",
    "            'id': self.counter,\n",
    "            'date1': self.start_date,\n",
    "            'date2': self.end_date,\n",
    "            'metrics': self.metrics,\n",
    "            'dimensions': self.dimensions,\n",
    "            'limit': self.limit,\n",
    "            'offset': offset,\n",
    "            'accuracy': 1,\n",
    "        }\n",
    "        \n",
    "        response = requests.get(API_URL, params=params, headers=self.headers)\n",
    "        return response.json()['data']\n",
    "    \n",
    "    def traffic(self):\n",
    "        self.metrics = 'ym:s:visits'\n",
    "        self.dimensions = 'ym:s:date'\n",
    "        \n",
    "        report = self.full_report()\n",
    "        print('Report', report)\n",
    "        self.report = report\n",
    "    \n",
    "    def reformat_api_report(self):\n",
    "        reformatted_report = []\n",
    "\n",
    "        for line in self.report:\n",
    "            dimensions = [x['name'] for x in line['dimensions']]\n",
    "            reformatted_report.append(dimensions + line['metrics'])\n",
    "\n",
    "        self.report = reformatted_report\n",
    "    \n",
    "    def full_report(self):\n",
    "        full_data = []\n",
    "        offset = 1\n",
    "        \n",
    "        while True:\n",
    "            print('Starting offset {}'.format(offset))\n",
    "            data = self.api_request(offset=offset)\n",
    "            full_data += data\n",
    "            \n",
    "            offset += self.limit\n",
    "            if not data or len(data) < self.limit:\n",
    "                break\n",
    "        \n",
    "        return full_data"
   ]
  },
  {
   "cell_type": "code",
   "execution_count": 4,
   "metadata": {},
   "outputs": [],
   "source": [
    "metrika = Metrika()"
   ]
  },
  {
   "cell_type": "code",
   "execution_count": 5,
   "metadata": {
    "scrolled": true
   },
   "outputs": [
    {
     "name": "stdout",
     "output_type": "stream",
     "text": [
      "Starting offset 1\n",
      "Starting offset 6\n",
      "Starting offset 11\n",
      "Report [{'dimensions': [{'name': '2020-09-08'}], 'metrics': [530.0]}, {'dimensions': [{'name': '2020-09-09'}], 'metrics': [526.0]}, {'dimensions': [{'name': '2020-09-07'}], 'metrics': [511.0]}, {'dimensions': [{'name': '2020-09-01'}], 'metrics': [505.0]}, {'dimensions': [{'name': '2020-09-02'}], 'metrics': [505.0]}, {'dimensions': [{'name': '2020-09-03'}], 'metrics': [504.0]}, {'dimensions': [{'name': '2020-09-10'}], 'metrics': [480.0]}, {'dimensions': [{'name': '2020-09-04'}], 'metrics': [438.0]}, {'dimensions': [{'name': '2020-09-05'}], 'metrics': [302.0]}, {'dimensions': [{'name': '2020-09-06'}], 'metrics': [297.0]}]\n"
     ]
    }
   ],
   "source": [
    "metrika.traffic()"
   ]
  },
  {
   "cell_type": "code",
   "execution_count": 6,
   "metadata": {},
   "outputs": [
    {
     "data": {
      "text/plain": [
       "[{'dimensions': [{'name': '2020-09-08'}], 'metrics': [530.0]},\n",
       " {'dimensions': [{'name': '2020-09-09'}], 'metrics': [526.0]},\n",
       " {'dimensions': [{'name': '2020-09-07'}], 'metrics': [511.0]},\n",
       " {'dimensions': [{'name': '2020-09-01'}], 'metrics': [505.0]},\n",
       " {'dimensions': [{'name': '2020-09-02'}], 'metrics': [505.0]},\n",
       " {'dimensions': [{'name': '2020-09-03'}], 'metrics': [504.0]},\n",
       " {'dimensions': [{'name': '2020-09-10'}], 'metrics': [480.0]},\n",
       " {'dimensions': [{'name': '2020-09-04'}], 'metrics': [438.0]},\n",
       " {'dimensions': [{'name': '2020-09-05'}], 'metrics': [302.0]},\n",
       " {'dimensions': [{'name': '2020-09-06'}], 'metrics': [297.0]}]"
      ]
     },
     "execution_count": 6,
     "metadata": {},
     "output_type": "execute_result"
    }
   ],
   "source": [
    "metrika.report"
   ]
  },
  {
   "cell_type": "code",
   "execution_count": 7,
   "metadata": {},
   "outputs": [],
   "source": [
    "metrika.reformat_api_report()"
   ]
  },
  {
   "cell_type": "code",
   "execution_count": 8,
   "metadata": {},
   "outputs": [
    {
     "data": {
      "text/plain": [
       "[['2020-09-08', 530.0],\n",
       " ['2020-09-09', 526.0],\n",
       " ['2020-09-07', 511.0],\n",
       " ['2020-09-01', 505.0],\n",
       " ['2020-09-02', 505.0],\n",
       " ['2020-09-03', 504.0],\n",
       " ['2020-09-10', 480.0],\n",
       " ['2020-09-04', 438.0],\n",
       " ['2020-09-05', 302.0],\n",
       " ['2020-09-06', 297.0]]"
      ]
     },
     "execution_count": 8,
     "metadata": {},
     "output_type": "execute_result"
    }
   ],
   "source": [
    "metrika.report"
   ]
  },
  {
   "cell_type": "code",
   "execution_count": 9,
   "metadata": {},
   "outputs": [
    {
     "name": "stdout",
     "output_type": "stream",
     "text": [
      "Starting offset 1\n",
      "Starting offset 6\n",
      "Starting offset 11\n",
      "Report [{'dimensions': [{'name': '2020-09-08'}], 'metrics': [530.0]}, {'dimensions': [{'name': '2020-09-09'}], 'metrics': [526.0]}, {'dimensions': [{'name': '2020-09-07'}], 'metrics': [511.0]}, {'dimensions': [{'name': '2020-09-01'}], 'metrics': [505.0]}, {'dimensions': [{'name': '2020-09-02'}], 'metrics': [505.0]}, {'dimensions': [{'name': '2020-09-03'}], 'metrics': [504.0]}, {'dimensions': [{'name': '2020-09-10'}], 'metrics': [480.0]}, {'dimensions': [{'name': '2020-09-04'}], 'metrics': [438.0]}, {'dimensions': [{'name': '2020-09-05'}], 'metrics': [302.0]}, {'dimensions': [{'name': '2020-09-06'}], 'metrics': [297.0]}]\n"
     ]
    }
   ],
   "source": [
    "metrica = Metrika()\n",
    "metrica.traffic()"
   ]
  },
  {
   "cell_type": "code",
   "execution_count": 10,
   "metadata": {},
   "outputs": [
    {
     "data": {
      "text/plain": [
       "[{'dimensions': [{'name': '2020-09-08'}], 'metrics': [530.0]},\n",
       " {'dimensions': [{'name': '2020-09-09'}], 'metrics': [526.0]},\n",
       " {'dimensions': [{'name': '2020-09-07'}], 'metrics': [511.0]},\n",
       " {'dimensions': [{'name': '2020-09-01'}], 'metrics': [505.0]},\n",
       " {'dimensions': [{'name': '2020-09-02'}], 'metrics': [505.0]},\n",
       " {'dimensions': [{'name': '2020-09-03'}], 'metrics': [504.0]},\n",
       " {'dimensions': [{'name': '2020-09-10'}], 'metrics': [480.0]},\n",
       " {'dimensions': [{'name': '2020-09-04'}], 'metrics': [438.0]},\n",
       " {'dimensions': [{'name': '2020-09-05'}], 'metrics': [302.0]},\n",
       " {'dimensions': [{'name': '2020-09-06'}], 'metrics': [297.0]}]"
      ]
     },
     "execution_count": 10,
     "metadata": {},
     "output_type": "execute_result"
    }
   ],
   "source": [
    "metrica.report"
   ]
  },
  {
   "cell_type": "code",
   "execution_count": 11,
   "metadata": {},
   "outputs": [],
   "source": [
    "metrica.reformat_api_report()"
   ]
  },
  {
   "cell_type": "code",
   "execution_count": 12,
   "metadata": {},
   "outputs": [
    {
     "data": {
      "text/plain": [
       "[['2020-09-08', 530.0],\n",
       " ['2020-09-09', 526.0],\n",
       " ['2020-09-07', 511.0],\n",
       " ['2020-09-01', 505.0],\n",
       " ['2020-09-02', 505.0],\n",
       " ['2020-09-03', 504.0],\n",
       " ['2020-09-10', 480.0],\n",
       " ['2020-09-04', 438.0],\n",
       " ['2020-09-05', 302.0],\n",
       " ['2020-09-06', 297.0]]"
      ]
     },
     "execution_count": 12,
     "metadata": {},
     "output_type": "execute_result"
    }
   ],
   "source": [
    "metrica.report"
   ]
  },
  {
   "cell_type": "code",
   "execution_count": 13,
   "metadata": {},
   "outputs": [
    {
     "data": {
      "text/plain": [
       "'ym:s:visits'"
      ]
     },
     "execution_count": 13,
     "metadata": {},
     "output_type": "execute_result"
    }
   ],
   "source": [
    "metrica.metrics"
   ]
  }
 ],
 "metadata": {
  "kernelspec": {
   "display_name": "Python 3",
   "language": "python",
   "name": "python3"
  },
  "language_info": {
   "codemirror_mode": {
    "name": "ipython",
    "version": 3
   },
   "file_extension": ".py",
   "mimetype": "text/x-python",
   "name": "python",
   "nbconvert_exporter": "python",
   "pygments_lexer": "ipython3",
   "version": "3.8.5"
  }
 },
 "nbformat": 4,
 "nbformat_minor": 2
}
