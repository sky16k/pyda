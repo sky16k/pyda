{
  "nbformat": 4,
  "nbformat_minor": 0,
  "metadata": {
    "colab": {
      "name": "PYDA13_Parse_API_HW.ipynb",
      "provenance": [],
      "collapsed_sections": [
        "p9YQFxg3dvW2",
        "uOhN2ArmMgkB",
        "hIecptaMnbe9"
      ],
      "mount_file_id": "1HZEPOUiOhzCPcM-OwzZrm7x3ZVzsmK3p",
      "authorship_tag": "ABX9TyPcHBx95UW5Ztzd5gW9Fjv5",
      "include_colab_link": true
    },
    "kernelspec": {
      "name": "python3",
      "display_name": "Python 3"
    },
    "language_info": {
      "name": "python"
    }
  },
  "cells": [
    {
      "cell_type": "markdown",
      "metadata": {
        "id": "view-in-github",
        "colab_type": "text"
      },
      "source": [
        "<a href=\"https://colab.research.google.com/github/sky16k/pyda/blob/main/PYDA13_Parse_API_HW.ipynb\" target=\"_parent\"><img src=\"https://colab.research.google.com/assets/colab-badge.svg\" alt=\"Open In Colab\"/></a>"
      ]
    },
    {
      "cell_type": "code",
      "source": [
        "'''\n",
        "from google.colab import drive\n",
        "drive.mount('/content/drive')\n",
        "\n",
        "import os, sys\n",
        "data_path = '/content/data'\n",
        "try: \n",
        "    os.symlink('/content/drive/MyDrive/скул/DS/data', data_path)\n",
        "    sys.path.insert(0,data_path)\n",
        "except:\n",
        "    pass\n",
        "# Then you can install a library, and specify the target.\n",
        "# !pip install --target=$data_path vk_api_config.py\n",
        "'''"
      ],
      "metadata": {
        "colab": {
          "base_uri": "https://localhost:8080/",
          "height": 53
        },
        "id": "j9I0i8jfvAKH",
        "outputId": "2ae2cc07-9d25-47a5-9e6d-b213ecf4342b"
      },
      "execution_count": null,
      "outputs": [
        {
          "output_type": "execute_result",
          "data": {
            "text/plain": [
              "\"\\nfrom google.colab import drive\\ndrive.mount('/content/drive')\\n\\nimport os, sys\\ndata_path = '/content/data'\\ntry: \\n    os.symlink('/content/drive/MyDrive/скул/DS/data', data_path)\\n    sys.path.insert(0,data_path)\\nexcept:\\n    pass\\n# Then you can install a library, and specify the target.\\n# !pip install --target=$data_path vk_api_config.py\\n\""
            ],
            "application/vnd.google.colaboratory.intrinsic+json": {
              "type": "string"
            }
          },
          "metadata": {},
          "execution_count": 1
        }
      ]
    },
    {
      "cell_type": "markdown",
      "source": [
        "#Домашнее задание"
      ],
      "metadata": {
        "id": "xut-1lrgNCEM"
      }
    },
    {
      "cell_type": "markdown",
      "source": [
        "## осн. текст"
      ],
      "metadata": {
        "id": "p9YQFxg3dvW2"
      }
    },
    {
      "cell_type": "code",
      "source": [
        "'''\n",
        "Преподаватель: Олег Булыгин\n",
        "Домашнее задание к лекции «Основы веб-скрапинга»\n",
        "\n",
        "Содержание задания можно найти здесь github.com...ping.ipynb\n",
        "\n",
        "Домашнее задание к лекции \"Основы веб-скрапинга\"\n",
        "Обязательная часть\n",
        "Вам необходимо написать функцию, которая будет основана на поиске по сайту habr.com. Функция в качестве параметра должна принимать список запросов для поиска (например, ['python', 'анализ данных']) и на основе материалов, попавших в результаты поиска по каждому запросу, возвращать датафрейм вида:\n",
        "\n",
        "<дата> - <заголовок> - <ссылка на материал>\n",
        "В рамках задания предполагается работа только с одной (первой) страницей результатов поисковой выдачи для каждого запроса. Материалы в датафрейме не должны дублироваться, если они попадали в результаты поиска для нескольких запросов из списка.\n",
        "\n",
        "Дополнительная часть (необязательная)\n",
        "Функция из обязательной части задания должна быть расширена следующим образом:\n",
        "\n",
        "кроме списка ключевых слов для поиска необходимо объявить параметр с количеством страниц поисковой выдачи. Т.е. при передаче в функцию аргумента 4 необходимо получить материалы с первых 4 страниц результатов;\n",
        "в датафрейме должны быть столбцы с полным текстом найденных материалов и количеством лайков:\n",
        "<дата> - <заголовок> - <ссылка на материал> - <текст материала> - <количество лайков>\n",
        "\n",
        "'''"
      ],
      "metadata": {
        "id": "r6XxRCktd2fw",
        "colab": {
          "base_uri": "https://localhost:8080/"
        },
        "outputId": "fbb6523c-afa1-4c52-e394-223075d140a0"
      },
      "execution_count": null,
      "outputs": [
        {
          "output_type": "execute_result",
          "data": {
            "text/plain": [
              "'\\nПреподаватель: Олег Булыгин\\nДомашнее задание к лекции «Основы веб-скрапинга»\\n\\nСодержание задания можно найти здесь github.com...ping.ipynb\\n\\nДомашнее задание к лекции \"Основы веб-скрапинга\"\\nОбязательная часть\\nВам необходимо написать функцию, которая будет основана на поиске по сайту habr.com. Функция в качестве параметра должна принимать список запросов для поиска (например, [\\'python\\', \\'анализ данных\\']) и на основе материалов, попавших в результаты поиска по каждому запросу, возвращать датафрейм вида:\\n\\n<дата> - <заголовок> - <ссылка на материал>\\nВ рамках задания предполагается работа только с одной (первой) страницей результатов поисковой выдачи для каждого запроса. Материалы в датафрейме не должны дублироваться, если они попадали в результаты поиска для нескольких запросов из списка.\\n\\nДополнительная часть (необязательная)\\nФункция из обязательной части задания должна быть расширена следующим образом:\\n\\nкроме списка ключевых слов для поиска необходимо объявить параметр с количеством страниц поисковой выдачи. Т.е. при передаче в функцию аргумента 4 необходимо получить материалы с первых 4 страниц результатов;\\nв датафрейме должны быть столбцы с полным текстом найденных материалов и количеством лайков:\\n<дата> - <заголовок> - <ссылка на материал> - <текст материала> - <количество лайков>\\n\\n'"
            ],
            "application/vnd.google.colaboratory.intrinsic+json": {
              "type": "string"
            }
          },
          "metadata": {},
          "execution_count": 2
        }
      ]
    },
    {
      "cell_type": "markdown",
      "source": [
        "## Задание 1"
      ],
      "metadata": {
        "id": "K28MI5k_MbDE"
      }
    },
    {
      "cell_type": "markdown",
      "source": [
        "###текст"
      ],
      "metadata": {
        "id": "_m6QJdwtMeFu"
      }
    },
    {
      "cell_type": "code",
      "source": [
        "# комментарий эксперта\n",
        "'''\n",
        "\n",
        "'''"
      ],
      "metadata": {
        "id": "LG7Q1soZ97bI",
        "colab": {
          "base_uri": "https://localhost:8080/",
          "height": 35
        },
        "outputId": "894cf658-8770-4dde-adc0-1b86014d735a"
      },
      "execution_count": null,
      "outputs": [
        {
          "output_type": "execute_result",
          "data": {
            "text/plain": [
              "'\\n\\n'"
            ],
            "application/vnd.google.colaboratory.intrinsic+json": {
              "type": "string"
            }
          },
          "metadata": {},
          "execution_count": 3
        }
      ]
    },
    {
      "cell_type": "code",
      "source": [
        "'''\n",
        "Обязательная часть\n",
        "Вам необходимо написать функцию, \n",
        "которая будет основана на поиске \n",
        "по сайту habr.com. \n",
        "\n",
        "Функция в качестве параметра должна \n",
        "принимать список запросов для поиска \n",
        "(например, ['python', 'анализ данных']) \n",
        "и на основе материалов, попавших \n",
        "в результаты поиска по каждому запросу, \n",
        "возвращать датафрейм вида:\n",
        "\n",
        "<дата> - <заголовок> - <ссылка на материал>\n",
        "\n",
        "В рамках задания предполагается работа \n",
        "только с одной (первой) страницей результатов \n",
        "поисковой выдачи для каждого запроса. \n",
        "Материалы в датафрейме не должны дублироваться, \n",
        "если они попадали в результаты поиска \n",
        "для нескольких запросов из списка.\n",
        "\n",
        "\n",
        "'''"
      ],
      "metadata": {
        "id": "6jF-_YjBMe2t",
        "colab": {
          "base_uri": "https://localhost:8080/",
          "height": 70
        },
        "outputId": "d9184aba-6f53-4234-8393-b6a2d6ce425c"
      },
      "execution_count": null,
      "outputs": [
        {
          "output_type": "execute_result",
          "data": {
            "text/plain": [
              "\"\\nОбязательная часть\\nВам необходимо написать функцию, \\nкоторая будет основана на поиске \\nпо сайту habr.com. \\n\\nФункция в качестве параметра должна \\nпринимать список запросов для поиска \\n(например, ['python', 'анализ данных']) \\nи на основе материалов, попавших \\nв результаты поиска по каждому запросу, \\nвозвращать датафрейм вида:\\n\\n<дата> - <заголовок> - <ссылка на материал>\\n\\nВ рамках задания предполагается работа \\nтолько с одной (первой) страницей результатов \\nпоисковой выдачи для каждого запроса. \\nМатериалы в датафрейме не должны дублироваться, \\nесли они попадали в результаты поиска \\nдля нескольких запросов из списка.\\n\\n\\n\""
            ],
            "application/vnd.google.colaboratory.intrinsic+json": {
              "type": "string"
            }
          },
          "metadata": {},
          "execution_count": 4
        }
      ]
    },
    {
      "cell_type": "code",
      "source": [
        "'''\n",
        "request:\n",
        "https://habr.com/ru/search/?q=python&target_type=posts&order=relevance\n",
        "'''"
      ],
      "metadata": {
        "id": "6UH24mju--VY",
        "colab": {
          "base_uri": "https://localhost:8080/",
          "height": 35
        },
        "outputId": "4d1d8ce4-1898-401b-93fd-a290eb7b49e1"
      },
      "execution_count": null,
      "outputs": [
        {
          "output_type": "execute_result",
          "data": {
            "text/plain": [
              "'\\nrequest:\\nhttps://habr.com/ru/search/?q=python&target_type=posts&order=relevance\\n'"
            ],
            "application/vnd.google.colaboratory.intrinsic+json": {
              "type": "string"
            }
          },
          "metadata": {},
          "execution_count": 5
        }
      ]
    },
    {
      "cell_type": "code",
      "source": [
        "'''\n",
        "#\\36 84486\n",
        "id:\n",
        "<article id=\"684486\" data-navigatable=\"\" data-test-id=\"articles-list-item\" tabindex=\"0\" class=\"tm-articles-list__item\"><div class=\"tm-article-snippet\"><div class=\"tm-article-snippet__meta-container\"><div class=\"tm-article-snippet__meta\"><span class=\"tm-user-info tm-article-snippet__author\"><a href=\"/ru/users/NatalieVT/\" class=\"tm-user-info__userpic\" data-test-id=\"user-info-pic\" title=\"NatalieVT\"><div class=\"tm-entity-image\"><img alt=\"\" height=\"24\" src=\"//habrastorage.org/r/w32/getpro/habr/avatars/cf4/5e6/9e2/cf45e69e2a12e0454be72c28bff528bf.jpg\" width=\"24\" class=\"tm-entity-image__pic\"></div></a> <span data-test-id=\"user-info-description\" class=\"tm-user-info__user\"><a href=\"/ru/users/NatalieVT/\" class=\"tm-user-info__username\">\n",
        "      NatalieVT\n",
        "    </a> </span></span> <span class=\"tm-article-snippet__datetime-published\"><time datetime=\"2022-08-26T07:59:01.000Z\" title=\"2022-08-26, 12:59\">сегодня в 12:59</time></span></div> <!----></div> <h2 data-test-id=\"articleTitle\" class=\"tm-article-snippet__title tm-article-snippet__title_h2\"><a href=\"/ru/company/yandex_praktikum/blog/684486/\" class=\"tm-article-snippet__title-link\" data-article-link=\"\" data-test-id=\"article-snippet-title-link\"><span>Как мы писали курс для <em class=\"searched-item\">Python</em>-разработчиков с опытом и зачем сделали упор на асинхронное программирование</span></a></h2> <div data-test-id=\"articleHubsList\" class=\"tm-article-snippet__hubs\"><span class=\"tm-article-snippet__hubs-item\"><a href=\"/ru/company/yandex_praktikum/blog/\" class=\"tm-article-snippet__hubs-item-link\"><span>Блог компании Яндекс Практикум</span> <!----></a></span><span class=\"tm-article-snippet__hubs-item\"><a href=\"/ru/hub/python/\" class=\"tm-article-snippet__hubs-item-link\"><span>Python</span> <span title=\"Профильный хаб\" class=\"tm-article-snippet__profiled-hub\">*</span></a></span><span class=\"tm-article-snippet__hubs-item\"><a href=\"/ru/hub/study/\" class=\"tm-article-snippet__hubs-item-link\"><span>Учебный процесс в IT</span> <!----></a></span></div> <!----> <!----> <div class=\"tm-article-body tm-article-snippet__lead\"><div class=\"tm-article-snippet__cover tm-article-snippet__cover_cover\"><img data-test-id=\"articleLeadImage\" src=\"https://habrastorage.org/getpro/habr/upload_files/094/fc2/3d1/094fc23d1438428ff34cb24d6e5d0a49.png\" class=\"tm-article-snippet__lead-image\" style=\"object-position: 0% 0%;\"></div> <div><div><div class=\"article-formatted-body article-formatted-body article-formatted-body_version-2\"><p>Два года назад Практикум запустил первые курсы для разработчиков с опытом. Один из этих курсов — «<a href=\"https://practicum.yandex.ru/middle-python?utm_source=pr&amp;utm_medium=content&amp;utm_content=25_08_22&amp;utm_campaign=pr_content_middle-python_habr\"><u>Мидл Python-разработчик</u></a>». За это время его успешно закончили 140 студентов. Но мир разработки не стоит на месте, и это повод постоянно добавлять что-то новое в учебную программу.</p><p>О том, как создавался курс «Мидл Python-разработчик», что с ним происходит сейчас и что войдёт в программу нового дополнительного модуля, рассказала его команда.</p></div></div> <div class=\"v-portal\" style=\"display: none;\"></div></div> <a href=\"/ru/company/yandex_praktikum/blog/684486/\" class=\"tm-article-snippet__readmore\"><span>Читать далее</span></a></div></div> <div data-test-id=\"article-stats-icons\" class=\"tm-data-icons\"><!----> <div class=\"tm-votes-meter tm-data-icons__item\"><svg height=\"24\" width=\"24\" class=\"tm-svg-img tm-votes-meter__icon tm-votes-meter__icon tm-votes-meter__icon_appearance-article\"><title>Всего голосов 11: ↑9 и ↓2</title> <use xlink:href=\"/img/megazord-v25.9b4a34a5.svg#counter-rating\"></use></svg> <span data-test-id=\"votes-meter-value\" title=\"Всего голосов 11: ↑9 и ↓2\" class=\"tm-votes-meter__value tm-votes-meter__value tm-votes-meter__value_positive tm-votes-meter__value_appearance-article tm-votes-meter__value_rating\">+7</span></div> <span class=\"tm-icon-counter tm-data-icons__item\" title=\"Количество просмотров\"><svg height=\"24\" width=\"24\" class=\"tm-svg-img tm-icon-counter__icon\"><title>Просмотры</title> <use xlink:href=\"/img/megazord-v25.9b4a34a5.svg#counter-views\"></use></svg> <span class=\"tm-icon-counter__value\">1.2K</span></span> <button title=\"Добавить в закладки\" type=\"button\" class=\"bookmarks-button tm-data-icons__item\"><span title=\"Добавить в закладки\" class=\"tm-svg-icon__wrapper bookmarks-button__icon\"><svg height=\"24\" width=\"24\" class=\"tm-svg-img tm-svg-icon\"><title>Добавить в закладки</title> <use xlink:href=\"/img/megazord-v25.9b4a34a5.svg#counter-favorite\"></use></svg></span> <span title=\"Количество пользователей, добавивших публикацию в закладки\" class=\"bookmarks-button__counter\">\n",
        "    14\n",
        "  </span></button> <div class=\"tm-article-comments-counter-link tm-data-icons__item\" title=\"Читать комментарии\"><a href=\"/ru/company/yandex_praktikum/blog/684486/comments/\" class=\"tm-article-comments-counter-link__link\" data-test-id=\"counter-comments\"><svg height=\"24\" width=\"24\" class=\"tm-svg-img tm-article-comments-counter-link__icon\"><title>Комментарии</title> <use xlink:href=\"/img/megazord-v25.9b4a34a5.svg#counter-comments\"></use></svg> <span class=\"tm-article-comments-counter-link__value\">\n",
        "      0\n",
        "    </span></a> <!----></div> <!----> <div class=\"v-portal\" style=\"display: none;\"></div></div></article>\n",
        "'''"
      ],
      "metadata": {
        "id": "23RrTYaNdUMT",
        "colab": {
          "base_uri": "https://localhost:8080/",
          "height": 105
        },
        "outputId": "1466b7ce-a6b2-4271-d64c-5c4fdffd04b6"
      },
      "execution_count": null,
      "outputs": [
        {
          "output_type": "execute_result",
          "data": {
            "text/plain": [
              "'\\n#\\x1e 84486\\nid:\\n<article id=\"684486\" data-navigatable=\"\" data-test-id=\"articles-list-item\" tabindex=\"0\" class=\"tm-articles-list__item\"><div class=\"tm-article-snippet\"><div class=\"tm-article-snippet__meta-container\"><div class=\"tm-article-snippet__meta\"><span class=\"tm-user-info tm-article-snippet__author\"><a href=\"/ru/users/NatalieVT/\" class=\"tm-user-info__userpic\" data-test-id=\"user-info-pic\" title=\"NatalieVT\"><div class=\"tm-entity-image\"><img alt=\"\" height=\"24\" src=\"//habrastorage.org/r/w32/getpro/habr/avatars/cf4/5e6/9e2/cf45e69e2a12e0454be72c28bff528bf.jpg\" width=\"24\" class=\"tm-entity-image__pic\"></div></a> <span data-test-id=\"user-info-description\" class=\"tm-user-info__user\"><a href=\"/ru/users/NatalieVT/\" class=\"tm-user-info__username\">\\n      NatalieVT\\n    </a> </span></span> <span class=\"tm-article-snippet__datetime-published\"><time datetime=\"2022-08-26T07:59:01.000Z\" title=\"2022-08-26, 12:59\">сегодня в 12:59</time></span></div> <!----></div> <h2 data-test-id=\"articleTitle\" class=\"tm-article-snippet__title tm-article-snippet__title_h2\"><a href=\"/ru/company/yandex_praktikum/blog/684486/\" class=\"tm-article-snippet__title-link\" data-article-link=\"\" data-test-id=\"article-snippet-title-link\"><span>Как мы писали курс для <em class=\"searched-item\">Python</em>-разработчиков с опытом и зачем сделали упор на асинхронное программирование</span></a></h2> <div data-test-id=\"articleHubsList\" class=\"tm-article-snippet__hubs\"><span class=\"tm-article-snippet__hubs-item\"><a href=\"/ru/company/yandex_praktikum/blog/\" class=\"tm-article-snippet__hubs-item-link\"><span>Блог компании Яндекс Практикум</span> <!----></a></span><span class=\"tm-article-snippet__hubs-item\"><a href=\"/ru/hub/python/\" class=\"tm-article-snippet__hubs-item-link\"><span>Python</span> <span title=\"Профильный хаб\" class=\"tm-article-snippet__profiled-hub\">*</span></a></span><span class=\"tm-article-snippet__hubs-item\"><a href=\"/ru/hub/study/\" class=\"tm-article-snippet__hubs-item-link\"><span>Учебный процесс в IT</span> <!----></a></span></div> <!----> <!----> <div class=\"tm-article-body tm-article-snippet__lead\"><div class=\"tm-article-snippet__cover tm-article-snippet__cover_cover\"><img data-test-id=\"articleLeadImage\" src=\"https://habrastorage.org/getpro/habr/upload_files/094/fc2/3d1/094fc23d1438428ff34cb24d6e5d0a49.png\" class=\"tm-article-snippet__lead-image\" style=\"object-position: 0% 0%;\"></div> <div><div><div class=\"article-formatted-body article-formatted-body article-formatted-body_version-2\"><p>Два года назад Практикум запустил первые курсы для разработчиков с опытом. Один из этих курсов — «<a href=\"https://practicum.yandex.ru/middle-python?utm_source=pr&amp;utm_medium=content&amp;utm_content=25_08_22&amp;utm_campaign=pr_content_middle-python_habr\"><u>Мидл Python-разработчик</u></a>». За это время его успешно закончили 140 студентов. Но мир разработки не стоит на месте, и это повод постоянно добавлять что-то новое в учебную программу.</p><p>О том, как создавался курс «Мидл Python-разработчик», что с ним происходит сейчас и что войдёт в программу нового дополнительного модуля, рассказала его команда.</p></div></div> <div class=\"v-portal\" style=\"display: none;\"></div></div> <a href=\"/ru/company/yandex_praktikum/blog/684486/\" class=\"tm-article-snippet__readmore\"><span>Читать далее</span></a></div></div> <div data-test-id=\"article-stats-icons\" class=\"tm-data-icons\"><!----> <div class=\"tm-votes-meter tm-data-icons__item\"><svg height=\"24\" width=\"24\" class=\"tm-svg-img tm-votes-meter__icon tm-votes-meter__icon tm-votes-meter__icon_appearance-article\"><title>Всего голосов 11: ↑9 и ↓2</title> <use xlink:href=\"/img/megazord-v25.9b4a34a5.svg#counter-rating\"></use></svg> <span data-test-id=\"votes-meter-value\" title=\"Всего голосов 11: ↑9 и ↓2\" class=\"tm-votes-meter__value tm-votes-meter__value tm-votes-meter__value_positive tm-votes-meter__value_appearance-article tm-votes-meter__value_rating\">+7</span></div> <span class=\"tm-icon-counter tm-data-icons__item\" title=\"Количество просмотров\"><svg height=\"24\" width=\"24\" class=\"tm-svg-img tm-icon-counter__icon\"><title>Просмотры</title> <use xlink:href=\"/img/megazord-v25.9b4a34a5.svg#counter-views\"></use></svg> <span class=\"tm-icon-counter__value\">1.2K</span></span> <button title=\"Добавить в закладки\" type=\"button\" class=\"bookmarks-button tm-data-icons__item\"><span title=\"Добавить в закладки\" class=\"tm-svg-icon__wrapper bookmarks-button__icon\"><svg height=\"24\" width=\"24\" class=\"tm-svg-img tm-svg-icon\"><title>Добавить в закладки</title> <use xlink:href=\"/img/megazord-v25.9b4a34a5.svg#counter-favorite\"></use></svg></span> <span title=\"Количество пользователей, добавивших публикацию в закладки\" class=\"bookmarks-button__counter\">\\n    14\\n  </span></button> <div class=\"tm-article-comments-counter-link tm-data-icons__item\" title=\"Читать комментарии\"><a href=\"/ru/company/yandex_praktikum/blog/684486/comments/\" class=\"tm-article-comments-counter-link__link\" data-test-id=\"counter-comments\"><svg height=\"24\" width=\"24\" class=\"tm-svg-img tm-article-comments-counter-link__icon\"><title>Комментарии</title> <use xlink:href=\"/img/megazord-v25.9b4a34a5.svg#counter-comments\"></use></svg> <span class=\"tm-article-comments-counter-link__value\">\\n      0\\n    </span></a> <!----></div> <!----> <div class=\"v-portal\" style=\"display: none;\"></div></div></article>\\n'"
            ],
            "application/vnd.google.colaboratory.intrinsic+json": {
              "type": "string"
            }
          },
          "metadata": {},
          "execution_count": 6
        }
      ]
    },
    {
      "cell_type": "code",
      "source": [
        "'''\n",
        "date:\n",
        "<span class=\"tm-article-snippet__datetime-published\"><time datetime=\"2022-08-26T07:59:01.000Z\" title=\"2022-08-26, 12:59\">сегодня в 12:59</time></span>\n",
        "'''"
      ],
      "metadata": {
        "id": "lYbx5mgW-kyH",
        "colab": {
          "base_uri": "https://localhost:8080/",
          "height": 35
        },
        "outputId": "a1e36fd3-869d-45bb-8b81-649bec50271a"
      },
      "execution_count": null,
      "outputs": [
        {
          "output_type": "execute_result",
          "data": {
            "text/plain": [
              "'\\ndate:\\n<span class=\"tm-article-snippet__datetime-published\"><time datetime=\"2022-08-26T07:59:01.000Z\" title=\"2022-08-26, 12:59\">сегодня в 12:59</time></span>\\n'"
            ],
            "application/vnd.google.colaboratory.intrinsic+json": {
              "type": "string"
            }
          },
          "metadata": {},
          "execution_count": 7
        }
      ]
    },
    {
      "cell_type": "code",
      "source": [
        "'''\n",
        "text:\n",
        "<h2 data-test-id=\"articleTitle\" class=\"tm-article-snippet__title tm-article-snippet__title_h2\"><a href=\"/ru/company/yandex_praktikum/blog/684486/\" class=\"tm-article-snippet__title-link\" data-article-link=\"\" data-test-id=\"article-snippet-title-link\"><span>Как мы писали курс для <em class=\"searched-item\">Python</em>-разработчиков с опытом и зачем сделали упор на асинхронное программирование</span></a></h2>\n",
        "'''"
      ],
      "metadata": {
        "id": "tWbuoJzLdT9E",
        "colab": {
          "base_uri": "https://localhost:8080/",
          "height": 53
        },
        "outputId": "0a08608b-c766-466d-e1c9-858e15666acf"
      },
      "execution_count": null,
      "outputs": [
        {
          "output_type": "execute_result",
          "data": {
            "text/plain": [
              "'\\ntext:\\n<h2 data-test-id=\"articleTitle\" class=\"tm-article-snippet__title tm-article-snippet__title_h2\"><a href=\"/ru/company/yandex_praktikum/blog/684486/\" class=\"tm-article-snippet__title-link\" data-article-link=\"\" data-test-id=\"article-snippet-title-link\"><span>Как мы писали курс для <em class=\"searched-item\">Python</em>-разработчиков с опытом и зачем сделали упор на асинхронное программирование</span></a></h2>\\n'"
            ],
            "application/vnd.google.colaboratory.intrinsic+json": {
              "type": "string"
            }
          },
          "metadata": {},
          "execution_count": 8
        }
      ]
    },
    {
      "cell_type": "code",
      "source": [
        "'''\n",
        "link:\n",
        "<a href=\"/ru/company/yandex_praktikum/blog/684486/\" class=\"tm-article-snippet__title-link\" data-article-link=\"\" data-test-id=\"article-snippet-title-link\"><span>Как мы писали курс для <em class=\"searched-item\">Python</em>-разработчиков с опытом и зачем сделали упор на асинхронное программирование</span></a>\n",
        "'''"
      ],
      "metadata": {
        "id": "AB3_G-zb-JdY",
        "colab": {
          "base_uri": "https://localhost:8080/",
          "height": 53
        },
        "outputId": "03d3158e-d7bb-416d-b2ae-0e843a567aab"
      },
      "execution_count": null,
      "outputs": [
        {
          "output_type": "execute_result",
          "data": {
            "text/plain": [
              "'\\nlink:\\n<a href=\"/ru/company/yandex_praktikum/blog/684486/\" class=\"tm-article-snippet__title-link\" data-article-link=\"\" data-test-id=\"article-snippet-title-link\"><span>Как мы писали курс для <em class=\"searched-item\">Python</em>-разработчиков с опытом и зачем сделали упор на асинхронное программирование</span></a>\\n'"
            ],
            "application/vnd.google.colaboratory.intrinsic+json": {
              "type": "string"
            }
          },
          "metadata": {},
          "execution_count": 9
        }
      ]
    },
    {
      "cell_type": "markdown",
      "source": [
        "###программа"
      ],
      "metadata": {
        "id": "KjSvPiWdMfT5"
      }
    },
    {
      "cell_type": "code",
      "source": [
        "import requests\n",
        "from bs4 import BeautifulSoup as bs\n",
        "import pandas as pd"
      ],
      "metadata": {
        "id": "3o0lOm-gMfqS"
      },
      "execution_count": null,
      "outputs": []
    },
    {
      "cell_type": "code",
      "source": [
        "search_list =  ['groupby',\n",
        "                'pandas',\n",
        "                'python sql'\n",
        "                ]\n",
        "              #  ['python',\n",
        "              #   'анализ данных'\n",
        "              #   ]"
      ],
      "metadata": {
        "id": "SlLrPVuEBEAv"
      },
      "execution_count": null,
      "outputs": []
    },
    {
      "cell_type": "code",
      "source": [
        "'''\n",
        "for query in search_list :\n",
        "    req = requests.get(f'{search_url}{query}')\n",
        "    soup = bs(req.text, 'html.parser')\n",
        "    break\n",
        "page_articles = soup.find_all('article')\n",
        "'''"
      ],
      "metadata": {
        "id": "p_hnrHoVBjlg",
        "colab": {
          "base_uri": "https://localhost:8080/",
          "height": 35
        },
        "outputId": "8b120db6-71a9-431a-9162-58a8b8ac3be3"
      },
      "execution_count": null,
      "outputs": [
        {
          "output_type": "execute_result",
          "data": {
            "text/plain": [
              "\"\\nfor query in search_list :\\n    req = requests.get(f'{search_url}{query}')\\n    soup = bs(req.text, 'html.parser')\\n    break\\npage_articles = soup.find_all('article')\\n\""
            ],
            "application/vnd.google.colaboratory.intrinsic+json": {
              "type": "string"
            }
          },
          "metadata": {},
          "execution_count": 12
        }
      ]
    },
    {
      "cell_type": "code",
      "source": [
        "'''\n",
        "res = pd.DataFrame ()#[], columns=['id', 'date', 'name', 'url'])\n",
        "\n",
        "for article in articles :  # = bs.find_next_sibling(soup.article)\n",
        "    id_ = article.get('id')\n",
        "    # print(id_)\n",
        "    date_ = article.time.get('datetime')[:10]\n",
        "    # print(date_)\n",
        "    name_ = article.h2.text\n",
        "    # print(name_)\n",
        "    url_ = host_url+article.h2.a.get('href')\n",
        "    # print(url_)\n",
        "    res = pd.concat([ res, pd.DataFrame([[id_, date_, name_, url_]]) ])\n",
        "    # break\n",
        "# print(pd.DataFrame([[id_, date_, name_, url_]]) )\n",
        "res.set_axis(['id', 'date', 'name', 'url'], axis=1, inplace = True)\n",
        "print(res)\n",
        "#article.find(class_=\"tm-article-snippet__title tm-article-snippet__title_h2\").text\n",
        "#article_url = host_url+article.find(class_=\"tm-article-snippet__title tm-article-snippet__title_h2\").a.get('href')\n",
        "'''\n"
      ],
      "metadata": {
        "id": "CEndBuHmmtJn",
        "colab": {
          "base_uri": "https://localhost:8080/",
          "height": 87
        },
        "outputId": "342d5d3a-f7de-45a6-ac50-ebb028e83c67"
      },
      "execution_count": null,
      "outputs": [
        {
          "output_type": "execute_result",
          "data": {
            "text/plain": [
              "'\\nres = pd.DataFrame ()#[], columns=[\\'id\\', \\'date\\', \\'name\\', \\'url\\'])\\n\\nfor article in articles :  # = bs.find_next_sibling(soup.article)\\n    id_ = article.get(\\'id\\')\\n    # print(id_)\\n    date_ = article.time.get(\\'datetime\\')[:10]\\n    # print(date_)\\n    name_ = article.h2.text\\n    # print(name_)\\n    url_ = host_url+article.h2.a.get(\\'href\\')\\n    # print(url_)\\n    res = pd.concat([ res, pd.DataFrame([[id_, date_, name_, url_]]) ])\\n    # break\\n# print(pd.DataFrame([[id_, date_, name_, url_]]) )\\nres.set_axis([\\'id\\', \\'date\\', \\'name\\', \\'url\\'], axis=1, inplace = True)\\nprint(res)\\n#article.find(class_=\"tm-article-snippet__title tm-article-snippet__title_h2\").text\\n#article_url = host_url+article.find(class_=\"tm-article-snippet__title tm-article-snippet__title_h2\").a.get(\\'href\\')\\n'"
            ],
            "application/vnd.google.colaboratory.intrinsic+json": {
              "type": "string"
            }
          },
          "metadata": {},
          "execution_count": 13
        }
      ]
    },
    {
      "cell_type": "code",
      "source": [
        "'''\n",
        "def get_articles_data(articles) :\n",
        "    res = pd.DataFrame (columns=['date', 'name', 'url'])\n",
        "\n",
        "    for article in articles : \n",
        "        try:\n",
        "            link_ = article.h2.a.get('href')\n",
        "        except:\n",
        "            link_ = article.header.a.get('href')\n",
        "        res.loc[article.get('id')] = [          # назовем строку номером id статьи\n",
        "            article.time.get('datetime')[:10],  # берем дату публикации\n",
        "            article.h2.text,                    # берем заголовок\n",
        "            host_url+link_   # создаем полную ссылку на статью\n",
        "        ]\n",
        "        print(res.iloc[-1])\n",
        "    return (res)\n",
        "'''"
      ],
      "metadata": {
        "id": "Iju3xjduhE7g",
        "colab": {
          "base_uri": "https://localhost:8080/",
          "height": 70
        },
        "outputId": "d27efe2f-0845-4936-a19b-651470585038"
      },
      "execution_count": null,
      "outputs": [
        {
          "output_type": "execute_result",
          "data": {
            "text/plain": [
              "\"\\ndef get_articles_data(articles) :\\n    res = pd.DataFrame (columns=['date', 'name', 'url'])\\n\\n    for article in articles : \\n        try:\\n            link_ = article.h2.a.get('href')\\n        except:\\n            link_ = article.header.a.get('href')\\n        res.loc[article.get('id')] = [          # назовем строку номером id статьи\\n            article.time.get('datetime')[:10],  # берем дату публикации\\n            article.h2.text,                    # берем заголовок\\n            host_url+link_   # создаем полную ссылку на статью\\n        ]\\n        print(res.iloc[-1])\\n    return (res)\\n\""
            ],
            "application/vnd.google.colaboratory.intrinsic+json": {
              "type": "string"
            }
          },
          "metadata": {},
          "execution_count": 14
        }
      ]
    },
    {
      "cell_type": "code",
      "source": [
        "# get_articles_data(page_articles)"
      ],
      "metadata": {
        "id": "Rqui59v3mvkh"
      },
      "execution_count": null,
      "outputs": []
    },
    {
      "cell_type": "code",
      "source": [
        "'''\n",
        "result = pd.DataFrame()\n",
        "for query in search_list :\n",
        "    print(f'{search_url}{query}')\n",
        "    # print(query)\n",
        "    # print()\n",
        "\n",
        "    req = requests.get(f'{search_url}{query}')\n",
        "    soup = bs(req.text)#, 'html.parser')\n",
        "    page_articles = soup.find_all('article')\n",
        "    result = pd.concat([result,\n",
        "                        get_articles_data(page_articles)\n",
        "                        ])\n",
        "    result = result[~result.index.duplicated()]\n",
        "    # break\n",
        "result\n",
        "# result[~result.index.duplicated()]\n",
        "'''"
      ],
      "metadata": {
        "id": "CFOrL8xPSfMO",
        "colab": {
          "base_uri": "https://localhost:8080/",
          "height": 70
        },
        "outputId": "450e5f37-eab8-4b93-b744-d21770ae1e7d"
      },
      "execution_count": null,
      "outputs": [
        {
          "output_type": "execute_result",
          "data": {
            "text/plain": [
              "\"\\nresult = pd.DataFrame()\\nfor query in search_list :\\n    print(f'{search_url}{query}')\\n    # print(query)\\n    # print()\\n\\n    req = requests.get(f'{search_url}{query}')\\n    soup = bs(req.text)#, 'html.parser')\\n    page_articles = soup.find_all('article')\\n    result = pd.concat([result,\\n                        get_articles_data(page_articles)\\n                        ])\\n    result = result[~result.index.duplicated()]\\n    # break\\nresult\\n# result[~result.index.duplicated()]\\n\""
            ],
            "application/vnd.google.colaboratory.intrinsic+json": {
              "type": "string"
            }
          },
          "metadata": {},
          "execution_count": 16
        }
      ]
    },
    {
      "cell_type": "code",
      "source": [
        "def habr_parser (query_list) :\n",
        "    host_url = 'https://habr.com'\n",
        "    search_url = 'https://habr.com/ru/search/?q='\n",
        "    result = pd.DataFrame(columns=['date', 'name', 'url'])  # задаем структуру итоговой таблицы\n",
        "\n",
        "    for query in query_list :   # перебираем запросы из списка\n",
        "\n",
        "        req = requests.get(f'{search_url}{query}')  # формируем запрос к серверу\n",
        "        soup = bs(req.text)#, 'html.parser')        # разбираем ответ на HTML\n",
        "        page_articles = soup.find_all('article')    # находим список данных о статьях\n",
        "\n",
        "        for article in page_articles : \n",
        "            try:\n",
        "                link_ = article.h2.a.get('href')    \n",
        "            except:                                   # некоторые статьи являются \"мегапостами\"\n",
        "                link_ = article.header.a.get('href')  # поэтому обрабатываются немного иначе\n",
        "            result.loc[ article.get('id')] = [              # назовем строку номером id статьи\n",
        "                        article.time.get('datetime')[:10],  # берем дату публикации\n",
        "                        article.h2.text,                    # берем заголовок\n",
        "                        host_url+link_                      # создаем полную ссылку на статью\n",
        "                        ]\n",
        "\n",
        "    return(result)"
      ],
      "metadata": {
        "id": "piwkny5nSfJL"
      },
      "execution_count": null,
      "outputs": []
    },
    {
      "cell_type": "code",
      "source": [
        "habr_parser(search_list)"
      ],
      "metadata": {
        "id": "4jDygUCsSgco",
        "colab": {
          "base_uri": "https://localhost:8080/",
          "height": 1000
        },
        "outputId": "d12cc164-605d-42ce-a6de-4b91262a97be"
      },
      "execution_count": null,
      "outputs": [
        {
          "output_type": "execute_result",
          "data": {
            "text/plain": [
              "              date                                               name  \\\n",
              "501214  2020-05-10                       Groupby aggregation в pandas   \n",
              "473576  2019-10-30     Инфраструктура для экспериментов разработчиков   \n",
              "552462  2021-04-15   Оптимизируем затраты с помощью AWS Cost Explorer   \n",
              "468295  2019-09-21  50 оттенков matplotlib — The Master Plots (с п...   \n",
              "512848  2020-08-05  Как проанализировать рынок фотостудий с помощь...   \n",
              "414613  2018-06-19  Соревнование Kaggle Home Credit Default Risk —...   \n",
              "502958  2020-05-25  Шпаргалка по визуализации данных в Python с по...   \n",
              "319996  2017-01-20  OdataToEntity легкий способ создания .Net Core...   \n",
              "457756  2019-06-27  Книга «Kafka Streams в действии. Приложения и ...   \n",
              "419979  2018-08-12      Как Python помогает заменить финконсультантов   \n",
              "451640  2019-05-13  «Игра престолов»: строим инфографику об убийст...   \n",
              "304230  2016-06-28    Игра Престолов. Поиск авторов диалогов в книгах   \n",
              "445834  2019-04-09  Прорабатываем навык использования группировки ...   \n",
              "556852  2021-05-12             Python и статистический вывод: часть 3   \n",
              "573154  2021-08-16                         Трюки Pandas от RealPython   \n",
              "663414  2022-04-28        Работа с отсутствующими значениями в Pandas   \n",
              "518202  2020-09-10  Black [O]lives Matter: раса, криминал и огонь ...   \n",
              "519640  2020-09-21   Crime, Race and Lethal Force in the USA — Part 3   \n",
              "673252  2022-06-24  Как предсказать настроение женщины или зачем н...   \n",
              "483182  2020-01-08  Пять интересных способов использования Array.r...   \n",
              "594787  2021-12-10  Работаем с большими наборами данных в Spark3.2...   \n",
              "475210  2020-03-16  Какой язык выбрать для работы с данными — R ил...   \n",
              "442516  2019-03-04  Руководство по использованию pandas для анализ...   \n",
              "322626  2017-02-28  Открытый курс машинного обучения. Тема 1. Перв...   \n",
              "500428  2020-05-09  Как помочь pandas в обработке больших объёмов ...   \n",
              "682388  2022-08-22     4 анти-паттерна pandas и способы борьбы с ними   \n",
              "451478  2019-05-13  Ускорение разведочного анализа данных с исполь...   \n",
              "504006  2020-05-27  6 способов значительно ускорить pandas с помощ...   \n",
              "500426  2020-05-10  Python, pandas и решение трёх задач из мира Excel   \n",
              "468637  2019-09-24  Как обработать большие датасеты в pandas. Рабо...   \n",
              "279213  2016-03-14  Pandasql vs Pandas для решения задач анализа д...   \n",
              "197212  2013-10-11  Введение в визуализацию данных при анализе с п...   \n",
              "492220  2020-03-16                    5 малоизвестных секретов Pandas   \n",
              "483720  2020-01-13                          Что принёс нам Pandas 1.0   \n",
              "503726  2020-05-25  6 способов значительно ускорить pandas с помощ...   \n",
              "669416  2022-06-03           Pandas vs dask vs sqlite на raspberry pi   \n",
              "464823  2019-08-23  Считаем среднюю ЗП «дата-саентолога». Парсим h...   \n",
              "513316  2020-07-31  Как переписать SQL-запросы на Python с помощью...   \n",
              "684376  2022-08-24  Python, SQL, С и Java стали самыми популярными...   \n",
              "675074  2022-07-05  Разработчики Django исправили уязвимость, кото...   \n",
              "328824  2017-05-17  Механизм подсчета нейронной сети в PL/SQL для ...   \n",
              "541820  2021-02-10                SQLite с использованием Go и Python   \n",
              "487900  2020-02-11  pyqtdeploy, или упаковываем Python-программу в...   \n",
              "527602  2020-11-11  Python API в Delta Lake — простые и надежные о...   \n",
              "684564  2022-08-25  Использование Python в SQL Server Machine Lear...   \n",
              "449436  2019-04-25  Практикум RHEL 8 Beta: Устанавливаем Microsoft...   \n",
              "327172  2017-04-25      «SQL Server 2017»: Теперь с поддержкой Python   \n",
              "486984  2020-02-05                 Python Gateway в InterSystems IRIS   \n",
              "499534  2020-04-29  Практическое руководство по разработке бэкенд-...   \n",
              "514538  2020-08-10  А вы знаете о том, что в Python есть встроенна...   \n",
              "531472  2020-12-05                                Немного SQL алхимии   \n",
              "590541  2021-11-21  Kaggle titanic dataset. Анализ данных с помощь...   \n",
              "266735  2015-09-12                   Snaql. Raw SQL в Python-проектах   \n",
              "322086  2020-05-07  Python: Работа с базой данных, часть 2/2: Испо...   \n",
              "321510  2017-02-14  Python: Работа с базой данных, часть 1/2: Испо...   \n",
              "552930  2021-04-22                                    SQL в DjangoORM   \n",
              "581596  2021-11-09  10 легких задач по Python и SQL, которые оказа...   \n",
              "\n",
              "                                                      url  \n",
              "501214                   https://habr.com/ru/post/501214/  \n",
              "473576                   https://habr.com/ru/post/473576/  \n",
              "552462                   https://habr.com/ru/post/552462/  \n",
              "468295                   https://habr.com/ru/post/468295/  \n",
              "512848                   https://habr.com/ru/post/512848/  \n",
              "414613                   https://habr.com/ru/post/414613/  \n",
              "502958                   https://habr.com/ru/post/502958/  \n",
              "319996                   https://habr.com/ru/post/319996/  \n",
              "457756     https://habr.com/ru/company/piter/blog/457756/  \n",
              "419979                   https://habr.com/ru/post/419979/  \n",
              "451640   https://habr.com/ru/company/wolfram/blog/451640/  \n",
              "304230                   https://habr.com/ru/post/304230/  \n",
              "445834        https://habr.com/ru/company/vk/blog/445834/  \n",
              "556852                   https://habr.com/ru/post/556852/  \n",
              "573154  https://habr.com/ru/company/skillfactory/blog/...  \n",
              "663414                   https://habr.com/ru/post/663414/  \n",
              "518202                   https://habr.com/ru/post/518202/  \n",
              "519640                   https://habr.com/ru/post/519640/  \n",
              "673252                   https://habr.com/ru/post/673252/  \n",
              "483182                   https://habr.com/ru/post/483182/  \n",
              "594787      https://habr.com/ru/company/otus/blog/594787/  \n",
              "475210                   https://habr.com/ru/post/475210/  \n",
              "442516     https://habr.com/ru/company/ruvds/blog/442516/  \n",
              "322626       https://habr.com/ru/company/ods/blog/322626/  \n",
              "500428     https://habr.com/ru/company/ruvds/blog/500428/  \n",
              "682388  https://habr.com/ru/company/wunderfund/blog/68...  \n",
              "451478     https://habr.com/ru/company/ruvds/blog/451478/  \n",
              "504006                   https://habr.com/ru/post/504006/  \n",
              "500426     https://habr.com/ru/company/ruvds/blog/500426/  \n",
              "468637                   https://habr.com/ru/post/468637/  \n",
              "279213                   https://habr.com/ru/post/279213/  \n",
              "197212                   https://habr.com/ru/post/197212/  \n",
              "492220     https://habr.com/ru/company/ruvds/blog/492220/  \n",
              "483720                   https://habr.com/ru/post/483720/  \n",
              "503726                   https://habr.com/ru/post/503726/  \n",
              "669416                   https://habr.com/ru/post/669416/  \n",
              "464823                   https://habr.com/ru/post/464823/  \n",
              "513316   https://habr.com/ru/company/plarium/blog/513316/  \n",
              "684376                 https://habr.com/ru/news/t/684376/  \n",
              "675074                 https://habr.com/ru/news/t/675074/  \n",
              "328824  https://habr.com/ru/company/pgdayrussia/blog/3...  \n",
              "541820      https://habr.com/ru/company/otus/blog/541820/  \n",
              "487900                   https://habr.com/ru/post/487900/  \n",
              "527602      https://habr.com/ru/company/otus/blog/527602/  \n",
              "684564      https://habr.com/ru/company/otus/blog/684564/  \n",
              "449436  https://habr.com/ru/company/redhatrussia/blog/...  \n",
              "327172    https://habr.com/ru/company/1cloud/blog/327172/  \n",
              "486984  https://habr.com/ru/company/intersystems/blog/...  \n",
              "499534    https://habr.com/ru/company/yandex/blog/499534/  \n",
              "514538     https://habr.com/ru/company/ruvds/blog/514538/  \n",
              "531472                   https://habr.com/ru/post/531472/  \n",
              "590541                   https://habr.com/ru/post/590541/  \n",
              "266735                   https://habr.com/ru/post/266735/  \n",
              "322086                   https://habr.com/ru/post/322086/  \n",
              "321510                   https://habr.com/ru/post/321510/  \n",
              "552930  https://habr.com/ru/company/domclick/blog/552930/  \n",
              "581596                   https://habr.com/ru/post/581596/  "
            ],
            "text/html": [
              "\n",
              "  <div id=\"df-fcd6da92-24fc-49c0-b318-1a59b514b14a\">\n",
              "    <div class=\"colab-df-container\">\n",
              "      <div>\n",
              "<style scoped>\n",
              "    .dataframe tbody tr th:only-of-type {\n",
              "        vertical-align: middle;\n",
              "    }\n",
              "\n",
              "    .dataframe tbody tr th {\n",
              "        vertical-align: top;\n",
              "    }\n",
              "\n",
              "    .dataframe thead th {\n",
              "        text-align: right;\n",
              "    }\n",
              "</style>\n",
              "<table border=\"1\" class=\"dataframe\">\n",
              "  <thead>\n",
              "    <tr style=\"text-align: right;\">\n",
              "      <th></th>\n",
              "      <th>date</th>\n",
              "      <th>name</th>\n",
              "      <th>url</th>\n",
              "    </tr>\n",
              "  </thead>\n",
              "  <tbody>\n",
              "    <tr>\n",
              "      <th>501214</th>\n",
              "      <td>2020-05-10</td>\n",
              "      <td>Groupby aggregation в pandas</td>\n",
              "      <td>https://habr.com/ru/post/501214/</td>\n",
              "    </tr>\n",
              "    <tr>\n",
              "      <th>473576</th>\n",
              "      <td>2019-10-30</td>\n",
              "      <td>Инфраструктура для экспериментов разработчиков</td>\n",
              "      <td>https://habr.com/ru/post/473576/</td>\n",
              "    </tr>\n",
              "    <tr>\n",
              "      <th>552462</th>\n",
              "      <td>2021-04-15</td>\n",
              "      <td>Оптимизируем затраты с помощью AWS Cost Explorer</td>\n",
              "      <td>https://habr.com/ru/post/552462/</td>\n",
              "    </tr>\n",
              "    <tr>\n",
              "      <th>468295</th>\n",
              "      <td>2019-09-21</td>\n",
              "      <td>50 оттенков matplotlib — The Master Plots (с п...</td>\n",
              "      <td>https://habr.com/ru/post/468295/</td>\n",
              "    </tr>\n",
              "    <tr>\n",
              "      <th>512848</th>\n",
              "      <td>2020-08-05</td>\n",
              "      <td>Как проанализировать рынок фотостудий с помощь...</td>\n",
              "      <td>https://habr.com/ru/post/512848/</td>\n",
              "    </tr>\n",
              "    <tr>\n",
              "      <th>414613</th>\n",
              "      <td>2018-06-19</td>\n",
              "      <td>Соревнование Kaggle Home Credit Default Risk —...</td>\n",
              "      <td>https://habr.com/ru/post/414613/</td>\n",
              "    </tr>\n",
              "    <tr>\n",
              "      <th>502958</th>\n",
              "      <td>2020-05-25</td>\n",
              "      <td>Шпаргалка по визуализации данных в Python с по...</td>\n",
              "      <td>https://habr.com/ru/post/502958/</td>\n",
              "    </tr>\n",
              "    <tr>\n",
              "      <th>319996</th>\n",
              "      <td>2017-01-20</td>\n",
              "      <td>OdataToEntity легкий способ создания .Net Core...</td>\n",
              "      <td>https://habr.com/ru/post/319996/</td>\n",
              "    </tr>\n",
              "    <tr>\n",
              "      <th>457756</th>\n",
              "      <td>2019-06-27</td>\n",
              "      <td>Книга «Kafka Streams в действии. Приложения и ...</td>\n",
              "      <td>https://habr.com/ru/company/piter/blog/457756/</td>\n",
              "    </tr>\n",
              "    <tr>\n",
              "      <th>419979</th>\n",
              "      <td>2018-08-12</td>\n",
              "      <td>Как Python помогает заменить финконсультантов</td>\n",
              "      <td>https://habr.com/ru/post/419979/</td>\n",
              "    </tr>\n",
              "    <tr>\n",
              "      <th>451640</th>\n",
              "      <td>2019-05-13</td>\n",
              "      <td>«Игра престолов»: строим инфографику об убийст...</td>\n",
              "      <td>https://habr.com/ru/company/wolfram/blog/451640/</td>\n",
              "    </tr>\n",
              "    <tr>\n",
              "      <th>304230</th>\n",
              "      <td>2016-06-28</td>\n",
              "      <td>Игра Престолов. Поиск авторов диалогов в книгах</td>\n",
              "      <td>https://habr.com/ru/post/304230/</td>\n",
              "    </tr>\n",
              "    <tr>\n",
              "      <th>445834</th>\n",
              "      <td>2019-04-09</td>\n",
              "      <td>Прорабатываем навык использования группировки ...</td>\n",
              "      <td>https://habr.com/ru/company/vk/blog/445834/</td>\n",
              "    </tr>\n",
              "    <tr>\n",
              "      <th>556852</th>\n",
              "      <td>2021-05-12</td>\n",
              "      <td>Python и статистический вывод: часть 3</td>\n",
              "      <td>https://habr.com/ru/post/556852/</td>\n",
              "    </tr>\n",
              "    <tr>\n",
              "      <th>573154</th>\n",
              "      <td>2021-08-16</td>\n",
              "      <td>Трюки Pandas от RealPython</td>\n",
              "      <td>https://habr.com/ru/company/skillfactory/blog/...</td>\n",
              "    </tr>\n",
              "    <tr>\n",
              "      <th>663414</th>\n",
              "      <td>2022-04-28</td>\n",
              "      <td>Работа с отсутствующими значениями в Pandas</td>\n",
              "      <td>https://habr.com/ru/post/663414/</td>\n",
              "    </tr>\n",
              "    <tr>\n",
              "      <th>518202</th>\n",
              "      <td>2020-09-10</td>\n",
              "      <td>Black [O]lives Matter: раса, криминал и огонь ...</td>\n",
              "      <td>https://habr.com/ru/post/518202/</td>\n",
              "    </tr>\n",
              "    <tr>\n",
              "      <th>519640</th>\n",
              "      <td>2020-09-21</td>\n",
              "      <td>Crime, Race and Lethal Force in the USA — Part 3</td>\n",
              "      <td>https://habr.com/ru/post/519640/</td>\n",
              "    </tr>\n",
              "    <tr>\n",
              "      <th>673252</th>\n",
              "      <td>2022-06-24</td>\n",
              "      <td>Как предсказать настроение женщины или зачем н...</td>\n",
              "      <td>https://habr.com/ru/post/673252/</td>\n",
              "    </tr>\n",
              "    <tr>\n",
              "      <th>483182</th>\n",
              "      <td>2020-01-08</td>\n",
              "      <td>Пять интересных способов использования Array.r...</td>\n",
              "      <td>https://habr.com/ru/post/483182/</td>\n",
              "    </tr>\n",
              "    <tr>\n",
              "      <th>594787</th>\n",
              "      <td>2021-12-10</td>\n",
              "      <td>Работаем с большими наборами данных в Spark3.2...</td>\n",
              "      <td>https://habr.com/ru/company/otus/blog/594787/</td>\n",
              "    </tr>\n",
              "    <tr>\n",
              "      <th>475210</th>\n",
              "      <td>2020-03-16</td>\n",
              "      <td>Какой язык выбрать для работы с данными — R ил...</td>\n",
              "      <td>https://habr.com/ru/post/475210/</td>\n",
              "    </tr>\n",
              "    <tr>\n",
              "      <th>442516</th>\n",
              "      <td>2019-03-04</td>\n",
              "      <td>Руководство по использованию pandas для анализ...</td>\n",
              "      <td>https://habr.com/ru/company/ruvds/blog/442516/</td>\n",
              "    </tr>\n",
              "    <tr>\n",
              "      <th>322626</th>\n",
              "      <td>2017-02-28</td>\n",
              "      <td>Открытый курс машинного обучения. Тема 1. Перв...</td>\n",
              "      <td>https://habr.com/ru/company/ods/blog/322626/</td>\n",
              "    </tr>\n",
              "    <tr>\n",
              "      <th>500428</th>\n",
              "      <td>2020-05-09</td>\n",
              "      <td>Как помочь pandas в обработке больших объёмов ...</td>\n",
              "      <td>https://habr.com/ru/company/ruvds/blog/500428/</td>\n",
              "    </tr>\n",
              "    <tr>\n",
              "      <th>682388</th>\n",
              "      <td>2022-08-22</td>\n",
              "      <td>4 анти-паттерна pandas и способы борьбы с ними</td>\n",
              "      <td>https://habr.com/ru/company/wunderfund/blog/68...</td>\n",
              "    </tr>\n",
              "    <tr>\n",
              "      <th>451478</th>\n",
              "      <td>2019-05-13</td>\n",
              "      <td>Ускорение разведочного анализа данных с исполь...</td>\n",
              "      <td>https://habr.com/ru/company/ruvds/blog/451478/</td>\n",
              "    </tr>\n",
              "    <tr>\n",
              "      <th>504006</th>\n",
              "      <td>2020-05-27</td>\n",
              "      <td>6 способов значительно ускорить pandas с помощ...</td>\n",
              "      <td>https://habr.com/ru/post/504006/</td>\n",
              "    </tr>\n",
              "    <tr>\n",
              "      <th>500426</th>\n",
              "      <td>2020-05-10</td>\n",
              "      <td>Python, pandas и решение трёх задач из мира Excel</td>\n",
              "      <td>https://habr.com/ru/company/ruvds/blog/500426/</td>\n",
              "    </tr>\n",
              "    <tr>\n",
              "      <th>468637</th>\n",
              "      <td>2019-09-24</td>\n",
              "      <td>Как обработать большие датасеты в pandas. Рабо...</td>\n",
              "      <td>https://habr.com/ru/post/468637/</td>\n",
              "    </tr>\n",
              "    <tr>\n",
              "      <th>279213</th>\n",
              "      <td>2016-03-14</td>\n",
              "      <td>Pandasql vs Pandas для решения задач анализа д...</td>\n",
              "      <td>https://habr.com/ru/post/279213/</td>\n",
              "    </tr>\n",
              "    <tr>\n",
              "      <th>197212</th>\n",
              "      <td>2013-10-11</td>\n",
              "      <td>Введение в визуализацию данных при анализе с п...</td>\n",
              "      <td>https://habr.com/ru/post/197212/</td>\n",
              "    </tr>\n",
              "    <tr>\n",
              "      <th>492220</th>\n",
              "      <td>2020-03-16</td>\n",
              "      <td>5 малоизвестных секретов Pandas</td>\n",
              "      <td>https://habr.com/ru/company/ruvds/blog/492220/</td>\n",
              "    </tr>\n",
              "    <tr>\n",
              "      <th>483720</th>\n",
              "      <td>2020-01-13</td>\n",
              "      <td>Что принёс нам Pandas 1.0</td>\n",
              "      <td>https://habr.com/ru/post/483720/</td>\n",
              "    </tr>\n",
              "    <tr>\n",
              "      <th>503726</th>\n",
              "      <td>2020-05-25</td>\n",
              "      <td>6 способов значительно ускорить pandas с помощ...</td>\n",
              "      <td>https://habr.com/ru/post/503726/</td>\n",
              "    </tr>\n",
              "    <tr>\n",
              "      <th>669416</th>\n",
              "      <td>2022-06-03</td>\n",
              "      <td>Pandas vs dask vs sqlite на raspberry pi</td>\n",
              "      <td>https://habr.com/ru/post/669416/</td>\n",
              "    </tr>\n",
              "    <tr>\n",
              "      <th>464823</th>\n",
              "      <td>2019-08-23</td>\n",
              "      <td>Считаем среднюю ЗП «дата-саентолога». Парсим h...</td>\n",
              "      <td>https://habr.com/ru/post/464823/</td>\n",
              "    </tr>\n",
              "    <tr>\n",
              "      <th>513316</th>\n",
              "      <td>2020-07-31</td>\n",
              "      <td>Как переписать SQL-запросы на Python с помощью...</td>\n",
              "      <td>https://habr.com/ru/company/plarium/blog/513316/</td>\n",
              "    </tr>\n",
              "    <tr>\n",
              "      <th>684376</th>\n",
              "      <td>2022-08-24</td>\n",
              "      <td>Python, SQL, С и Java стали самыми популярными...</td>\n",
              "      <td>https://habr.com/ru/news/t/684376/</td>\n",
              "    </tr>\n",
              "    <tr>\n",
              "      <th>675074</th>\n",
              "      <td>2022-07-05</td>\n",
              "      <td>Разработчики Django исправили уязвимость, кото...</td>\n",
              "      <td>https://habr.com/ru/news/t/675074/</td>\n",
              "    </tr>\n",
              "    <tr>\n",
              "      <th>328824</th>\n",
              "      <td>2017-05-17</td>\n",
              "      <td>Механизм подсчета нейронной сети в PL/SQL для ...</td>\n",
              "      <td>https://habr.com/ru/company/pgdayrussia/blog/3...</td>\n",
              "    </tr>\n",
              "    <tr>\n",
              "      <th>541820</th>\n",
              "      <td>2021-02-10</td>\n",
              "      <td>SQLite с использованием Go и Python</td>\n",
              "      <td>https://habr.com/ru/company/otus/blog/541820/</td>\n",
              "    </tr>\n",
              "    <tr>\n",
              "      <th>487900</th>\n",
              "      <td>2020-02-11</td>\n",
              "      <td>pyqtdeploy, или упаковываем Python-программу в...</td>\n",
              "      <td>https://habr.com/ru/post/487900/</td>\n",
              "    </tr>\n",
              "    <tr>\n",
              "      <th>527602</th>\n",
              "      <td>2020-11-11</td>\n",
              "      <td>Python API в Delta Lake — простые и надежные о...</td>\n",
              "      <td>https://habr.com/ru/company/otus/blog/527602/</td>\n",
              "    </tr>\n",
              "    <tr>\n",
              "      <th>684564</th>\n",
              "      <td>2022-08-25</td>\n",
              "      <td>Использование Python в SQL Server Machine Lear...</td>\n",
              "      <td>https://habr.com/ru/company/otus/blog/684564/</td>\n",
              "    </tr>\n",
              "    <tr>\n",
              "      <th>449436</th>\n",
              "      <td>2019-04-25</td>\n",
              "      <td>Практикум RHEL 8 Beta: Устанавливаем Microsoft...</td>\n",
              "      <td>https://habr.com/ru/company/redhatrussia/blog/...</td>\n",
              "    </tr>\n",
              "    <tr>\n",
              "      <th>327172</th>\n",
              "      <td>2017-04-25</td>\n",
              "      <td>«SQL Server 2017»: Теперь с поддержкой Python</td>\n",
              "      <td>https://habr.com/ru/company/1cloud/blog/327172/</td>\n",
              "    </tr>\n",
              "    <tr>\n",
              "      <th>486984</th>\n",
              "      <td>2020-02-05</td>\n",
              "      <td>Python Gateway в InterSystems IRIS</td>\n",
              "      <td>https://habr.com/ru/company/intersystems/blog/...</td>\n",
              "    </tr>\n",
              "    <tr>\n",
              "      <th>499534</th>\n",
              "      <td>2020-04-29</td>\n",
              "      <td>Практическое руководство по разработке бэкенд-...</td>\n",
              "      <td>https://habr.com/ru/company/yandex/blog/499534/</td>\n",
              "    </tr>\n",
              "    <tr>\n",
              "      <th>514538</th>\n",
              "      <td>2020-08-10</td>\n",
              "      <td>А вы знаете о том, что в Python есть встроенна...</td>\n",
              "      <td>https://habr.com/ru/company/ruvds/blog/514538/</td>\n",
              "    </tr>\n",
              "    <tr>\n",
              "      <th>531472</th>\n",
              "      <td>2020-12-05</td>\n",
              "      <td>Немного SQL алхимии</td>\n",
              "      <td>https://habr.com/ru/post/531472/</td>\n",
              "    </tr>\n",
              "    <tr>\n",
              "      <th>590541</th>\n",
              "      <td>2021-11-21</td>\n",
              "      <td>Kaggle titanic dataset. Анализ данных с помощь...</td>\n",
              "      <td>https://habr.com/ru/post/590541/</td>\n",
              "    </tr>\n",
              "    <tr>\n",
              "      <th>266735</th>\n",
              "      <td>2015-09-12</td>\n",
              "      <td>Snaql. Raw SQL в Python-проектах</td>\n",
              "      <td>https://habr.com/ru/post/266735/</td>\n",
              "    </tr>\n",
              "    <tr>\n",
              "      <th>322086</th>\n",
              "      <td>2020-05-07</td>\n",
              "      <td>Python: Работа с базой данных, часть 2/2: Испо...</td>\n",
              "      <td>https://habr.com/ru/post/322086/</td>\n",
              "    </tr>\n",
              "    <tr>\n",
              "      <th>321510</th>\n",
              "      <td>2017-02-14</td>\n",
              "      <td>Python: Работа с базой данных, часть 1/2: Испо...</td>\n",
              "      <td>https://habr.com/ru/post/321510/</td>\n",
              "    </tr>\n",
              "    <tr>\n",
              "      <th>552930</th>\n",
              "      <td>2021-04-22</td>\n",
              "      <td>SQL в DjangoORM</td>\n",
              "      <td>https://habr.com/ru/company/domclick/blog/552930/</td>\n",
              "    </tr>\n",
              "    <tr>\n",
              "      <th>581596</th>\n",
              "      <td>2021-11-09</td>\n",
              "      <td>10 легких задач по Python и SQL, которые оказа...</td>\n",
              "      <td>https://habr.com/ru/post/581596/</td>\n",
              "    </tr>\n",
              "  </tbody>\n",
              "</table>\n",
              "</div>\n",
              "      <button class=\"colab-df-convert\" onclick=\"convertToInteractive('df-fcd6da92-24fc-49c0-b318-1a59b514b14a')\"\n",
              "              title=\"Convert this dataframe to an interactive table.\"\n",
              "              style=\"display:none;\">\n",
              "        \n",
              "  <svg xmlns=\"http://www.w3.org/2000/svg\" height=\"24px\"viewBox=\"0 0 24 24\"\n",
              "       width=\"24px\">\n",
              "    <path d=\"M0 0h24v24H0V0z\" fill=\"none\"/>\n",
              "    <path d=\"M18.56 5.44l.94 2.06.94-2.06 2.06-.94-2.06-.94-.94-2.06-.94 2.06-2.06.94zm-11 1L8.5 8.5l.94-2.06 2.06-.94-2.06-.94L8.5 2.5l-.94 2.06-2.06.94zm10 10l.94 2.06.94-2.06 2.06-.94-2.06-.94-.94-2.06-.94 2.06-2.06.94z\"/><path d=\"M17.41 7.96l-1.37-1.37c-.4-.4-.92-.59-1.43-.59-.52 0-1.04.2-1.43.59L10.3 9.45l-7.72 7.72c-.78.78-.78 2.05 0 2.83L4 21.41c.39.39.9.59 1.41.59.51 0 1.02-.2 1.41-.59l7.78-7.78 2.81-2.81c.8-.78.8-2.07 0-2.86zM5.41 20L4 18.59l7.72-7.72 1.47 1.35L5.41 20z\"/>\n",
              "  </svg>\n",
              "      </button>\n",
              "      \n",
              "  <style>\n",
              "    .colab-df-container {\n",
              "      display:flex;\n",
              "      flex-wrap:wrap;\n",
              "      gap: 12px;\n",
              "    }\n",
              "\n",
              "    .colab-df-convert {\n",
              "      background-color: #E8F0FE;\n",
              "      border: none;\n",
              "      border-radius: 50%;\n",
              "      cursor: pointer;\n",
              "      display: none;\n",
              "      fill: #1967D2;\n",
              "      height: 32px;\n",
              "      padding: 0 0 0 0;\n",
              "      width: 32px;\n",
              "    }\n",
              "\n",
              "    .colab-df-convert:hover {\n",
              "      background-color: #E2EBFA;\n",
              "      box-shadow: 0px 1px 2px rgba(60, 64, 67, 0.3), 0px 1px 3px 1px rgba(60, 64, 67, 0.15);\n",
              "      fill: #174EA6;\n",
              "    }\n",
              "\n",
              "    [theme=dark] .colab-df-convert {\n",
              "      background-color: #3B4455;\n",
              "      fill: #D2E3FC;\n",
              "    }\n",
              "\n",
              "    [theme=dark] .colab-df-convert:hover {\n",
              "      background-color: #434B5C;\n",
              "      box-shadow: 0px 1px 3px 1px rgba(0, 0, 0, 0.15);\n",
              "      filter: drop-shadow(0px 1px 2px rgba(0, 0, 0, 0.3));\n",
              "      fill: #FFFFFF;\n",
              "    }\n",
              "  </style>\n",
              "\n",
              "      <script>\n",
              "        const buttonEl =\n",
              "          document.querySelector('#df-fcd6da92-24fc-49c0-b318-1a59b514b14a button.colab-df-convert');\n",
              "        buttonEl.style.display =\n",
              "          google.colab.kernel.accessAllowed ? 'block' : 'none';\n",
              "\n",
              "        async function convertToInteractive(key) {\n",
              "          const element = document.querySelector('#df-fcd6da92-24fc-49c0-b318-1a59b514b14a');\n",
              "          const dataTable =\n",
              "            await google.colab.kernel.invokeFunction('convertToInteractive',\n",
              "                                                     [key], {});\n",
              "          if (!dataTable) return;\n",
              "\n",
              "          const docLinkHtml = 'Like what you see? Visit the ' +\n",
              "            '<a target=\"_blank\" href=https://colab.research.google.com/notebooks/data_table.ipynb>data table notebook</a>'\n",
              "            + ' to learn more about interactive tables.';\n",
              "          element.innerHTML = '';\n",
              "          dataTable['output_type'] = 'display_data';\n",
              "          await google.colab.output.renderOutput(dataTable, element);\n",
              "          const docLink = document.createElement('div');\n",
              "          docLink.innerHTML = docLinkHtml;\n",
              "          element.appendChild(docLink);\n",
              "        }\n",
              "      </script>\n",
              "    </div>\n",
              "  </div>\n",
              "  "
            ]
          },
          "metadata": {},
          "execution_count": 28
        }
      ]
    },
    {
      "cell_type": "code",
      "source": [],
      "metadata": {
        "id": "G0j02v7kSfCu"
      },
      "execution_count": null,
      "outputs": []
    },
    {
      "cell_type": "code",
      "source": [],
      "metadata": {
        "id": "OzDPNo00Se4P"
      },
      "execution_count": null,
      "outputs": []
    },
    {
      "cell_type": "markdown",
      "source": [
        "## Задание 2"
      ],
      "metadata": {
        "id": "uOhN2ArmMgkB"
      }
    },
    {
      "cell_type": "markdown",
      "source": [
        "###текст"
      ],
      "metadata": {
        "id": "KRNNt6LNMg0B"
      }
    },
    {
      "cell_type": "code",
      "source": [
        "# комментарий эксперта\n",
        "'''\n",
        "\n",
        "'''"
      ],
      "metadata": {
        "id": "QXwNwGPB-Dup",
        "colab": {
          "base_uri": "https://localhost:8080/",
          "height": 35
        },
        "outputId": "5bce7ac9-999b-4c92-ab00-3042cf803251"
      },
      "execution_count": null,
      "outputs": [
        {
          "output_type": "execute_result",
          "data": {
            "text/plain": [
              "'\\n\\n'"
            ],
            "application/vnd.google.colaboratory.intrinsic+json": {
              "type": "string"
            }
          },
          "metadata": {},
          "execution_count": 19
        }
      ]
    },
    {
      "cell_type": "code",
      "source": [
        "'''\n",
        "Дополнительная часть (необязательная)\n",
        "Функция из обязательной части задания \n",
        "должна быть расширена следующим образом:\n",
        "\n",
        "- кроме списка ключевых слов для поиска \n",
        "необходимо объявить параметр с количеством \n",
        "страниц поисковой выдачи. \n",
        "Т.е. при передаче в функцию аргумента 4 \n",
        "необходимо получить материалы с первых 4 \n",
        "страниц результатов;\n",
        "\n",
        "- в датафрейме должны быть столбцы \n",
        "с полным текстом найденных материалов \n",
        "и количеством лайков:\n",
        "\n",
        "<дата> - <заголовок> - <ссылка на материал> - <текст материала> - <количество лайков>\n",
        "\n",
        "'''"
      ],
      "metadata": {
        "id": "nASO5cKOMhKM",
        "colab": {
          "base_uri": "https://localhost:8080/",
          "height": 70
        },
        "outputId": "da637d44-06a8-411c-a94a-f6ee69934122"
      },
      "execution_count": null,
      "outputs": [
        {
          "output_type": "execute_result",
          "data": {
            "text/plain": [
              "'\\nДополнительная часть (необязательная)\\nФункция из обязательной части задания \\nдолжна быть расширена следующим образом:\\n\\n- кроме списка ключевых слов для поиска \\nнеобходимо объявить параметр с количеством \\nстраниц поисковой выдачи. \\nТ.е. при передаче в функцию аргумента 4 \\nнеобходимо получить материалы с первых 4 \\nстраниц результатов;\\n\\n- в датафрейме должны быть столбцы \\nс полным текстом найденных материалов \\nи количеством лайков:\\n\\n<дата> - <заголовок> - <ссылка на материал> - <текст материала> - <количество лайков>\\n\\n'"
            ],
            "application/vnd.google.colaboratory.intrinsic+json": {
              "type": "string"
            }
          },
          "metadata": {},
          "execution_count": 20
        }
      ]
    },
    {
      "cell_type": "markdown",
      "source": [
        "###программа"
      ],
      "metadata": {
        "id": "sr6nEVKHMhaG"
      }
    },
    {
      "cell_type": "code",
      "source": [
        "import requests\n",
        "from bs4 import BeautifulSoup as bs\n",
        "import pandas as pd\n",
        "# import re\n"
      ],
      "metadata": {
        "id": "wSqCygzFMho8"
      },
      "execution_count": null,
      "outputs": []
    },
    {
      "cell_type": "code",
      "source": [
        "search_list =  ['groupby',\n",
        "                'pandas',\n",
        "                'python sql'\n",
        "                ]\n",
        "              #  ['python',\n",
        "              #   'анализ данных'\n",
        "              #   ]"
      ],
      "metadata": {
        "id": "xF64vZRUQydn"
      },
      "execution_count": null,
      "outputs": []
    },
    {
      "cell_type": "code",
      "source": [
        "'''\n",
        "https://habr.com/ru/search/?q=groupby&target_type=posts&order=relevance\n",
        "https://habr.com/ru/search/page2/?q=groupby&target_type=posts&order=relevance\n",
        "'''"
      ],
      "metadata": {
        "id": "AfQpgTFSdYJC",
        "colab": {
          "base_uri": "https://localhost:8080/",
          "height": 35
        },
        "outputId": "94c61e4a-38da-43fc-cf61-0f00468fe802"
      },
      "execution_count": null,
      "outputs": [
        {
          "output_type": "execute_result",
          "data": {
            "text/plain": [
              "'\\nhttps://habr.com/ru/search/?q=groupby&target_type=posts&order=relevance\\nhttps://habr.com/ru/search/page2/?q=groupby&target_type=posts&order=relevance\\n'"
            ],
            "application/vnd.google.colaboratory.intrinsic+json": {
              "type": "string"
            }
          },
          "metadata": {},
          "execution_count": 23
        }
      ]
    },
    {
      "cell_type": "code",
      "source": [
        "def habr_parser (query_list, search_pages=1) :\n",
        "    host_url = 'https://habr.com'\n",
        "    search_url_default_ = 'https://habr.com/ru/search/?q='\n",
        "    result = pd.DataFrame(columns=['date', 'name', 'url', 'text', 'likes'])  # задаем структуру итоговой таблицы\n",
        "    \n",
        "    for query in query_list :    # перебираем запросы из списка\n",
        "\n",
        "        for page in range(search_pages):  # перебираем страницы результатов поиска\n",
        "            if page : search_url = f'https://habr.com/ru/search/page{page+1}?q='\n",
        "            else : search_url = search_url_default_   # для нового запроса сбрасываем строку \n",
        "            # print(search_url)\n",
        "\n",
        "            req = requests.get(f'{search_url}{query}')  # формируем запрос к серверу\n",
        "            soup = bs(req.text)#, 'html.parser')        # разбираем ответ на HTML\n",
        "            page_articles = soup.find_all('article')    # находим список данных о статьях\n",
        "\n",
        "            # print(page_articles)\n",
        "            if not page_articles:     # если данных о статьях нет - сбрасываем\n",
        "                # print('break')\n",
        "                break\n",
        "\n",
        "            for article in page_articles : \n",
        "                try:\n",
        "                    link_ = article.h2.a.get('href')\n",
        "                except:                                   # некоторые статьи являются \"мегапостами\"\n",
        "                    link_ = article.header.a.get('href')  # поэтому обрабатываются немного иначе\n",
        "                \n",
        "                likes = article.find(attrs = {'data-test-id':\"votes-meter-value\"}).text#.get('title')\n",
        "                # print(likes)\n",
        "                \n",
        "                # найти текст статьи\n",
        "                article_req = requests.get(f'{host_url}{link_}')                # формируем запрос к серверу\n",
        "                article_soup = bs(article_req.text)#, 'html.parser')            # разбираем ответ на HTML\n",
        "                article_text = article_soup.find(id=\"post-content-body\").text   # находим содержимое статьи\n",
        "\n",
        "                \n",
        "                result.loc[ article.get('id')] = [              # назовем строку номером id статьи\n",
        "                            article.time.get('datetime')[:10],  # берем дату публикации\n",
        "                            article.h2.text,                    # берем заголовок\n",
        "                            host_url+link_,                     # создаем полную ссылку на статью\n",
        "                            article_text,\n",
        "                            likes\n",
        "                            ]\n",
        "\n",
        "    return(result)"
      ],
      "metadata": {
        "id": "HSpZIo9hJE8h"
      },
      "execution_count": null,
      "outputs": []
    },
    {
      "cell_type": "code",
      "source": [
        "habr_parser(search_list)#,3)"
      ],
      "metadata": {
        "id": "eH3SppGJdX0c"
      },
      "execution_count": null,
      "outputs": []
    },
    {
      "cell_type": "code",
      "source": [],
      "metadata": {
        "id": "lygF7qnTdXn3"
      },
      "execution_count": null,
      "outputs": []
    },
    {
      "cell_type": "code",
      "source": [
        "z"
      ],
      "metadata": {
        "id": "r0avxzkeoRHp",
        "colab": {
          "base_uri": "https://localhost:8080/",
          "height": 166
        },
        "outputId": "b38ca435-205d-4b8a-c030-c50fd875fa57"
      },
      "execution_count": null,
      "outputs": [
        {
          "output_type": "error",
          "ename": "NameError",
          "evalue": "ignored",
          "traceback": [
            "\u001b[0;31m---------------------------------------------------------------------------\u001b[0m",
            "\u001b[0;31mNameError\u001b[0m                                 Traceback (most recent call last)",
            "\u001b[0;32m<ipython-input-26-3a710d2a84f8>\u001b[0m in \u001b[0;36m<module>\u001b[0;34m\u001b[0m\n\u001b[0;32m----> 1\u001b[0;31m \u001b[0mz\u001b[0m\u001b[0;34m\u001b[0m\u001b[0;34m\u001b[0m\u001b[0m\n\u001b[0m",
            "\u001b[0;31mNameError\u001b[0m: name 'z' is not defined"
          ]
        }
      ]
    },
    {
      "cell_type": "markdown",
      "source": [
        "# Теория: парсинг, среппинг, API\n",
        "requests, beautifulsoup, selenna..."
      ],
      "metadata": {
        "id": "L5RAoiXjondQ"
      }
    },
    {
      "cell_type": "markdown",
      "metadata": {
        "id": "hIecptaMnbe9"
      },
      "source": [
        "## Библиотека requests"
      ]
    },
    {
      "cell_type": "code",
      "execution_count": null,
      "metadata": {
        "id": "igzSB0VknbfC"
      },
      "outputs": [],
      "source": [
        "import requests"
      ]
    },
    {
      "cell_type": "code",
      "execution_count": null,
      "metadata": {
        "id": "WjQ4eawvnbfD"
      },
      "outputs": [],
      "source": [
        "# метод get\n",
        "res = requests.get('https://yandex.ru')\n",
        "res\n",
        "# res.status_code"
      ]
    },
    {
      "cell_type": "code",
      "execution_count": null,
      "metadata": {
        "id": "mrteVio2nbfE"
      },
      "outputs": [],
      "source": [
        "# браузер отрисовал бы страницу на основе данного текста\n",
        "res.text"
      ]
    },
    {
      "cell_type": "code",
      "execution_count": null,
      "metadata": {
        "id": "PvW9FJFCnbfF"
      },
      "outputs": [],
      "source": [
        "# посмотрим куки\n",
        "res.cookies"
      ]
    },
    {
      "cell_type": "code",
      "execution_count": null,
      "metadata": {
        "id": "FChf33MAnbfF"
      },
      "outputs": [],
      "source": [
        "# получаем плохой статус\n",
        "bad_request = requests.get('https://yandex.ru/secret')\n",
        "bad_request"
      ]
    },
    {
      "cell_type": "code",
      "execution_count": null,
      "metadata": {
        "id": "y2p7cN3rnbfG"
      },
      "outputs": [],
      "source": [
        "bad_request.text"
      ]
    },
    {
      "cell_type": "code",
      "execution_count": null,
      "metadata": {
        "id": "fddzYZVBnbfG"
      },
      "outputs": [],
      "source": [
        "# попроуем сделать post запрос\n",
        "post_req = requests.post('https://yandex.ru')\n",
        "post_req"
      ]
    },
    {
      "cell_type": "code",
      "execution_count": null,
      "metadata": {
        "id": "3enIUvf7nbfH"
      },
      "outputs": [],
      "source": [
        "# cформируем поисковый запрос, обратите внимание на его формат\n",
        "# URL = 'https://www.google.com/search?q=python&source=hp&ei=GZ6mYKT4E-SurgT_j64w&oq=python&gs_lcp=ChFtb2JpbGUtZ3dzLXdpei1ocBADMgUIABCxAzIFCAAQsQMyAggAMgUIABCxAzIFCAAQsQMyAggAMgUIABCxAzIFCAAQsQM6CAgAELEDEIMBOgsILhCxAxDHARCjAjoFCC4QsQM6DAgAELEDEIMBEAoQAVDTI1iJKGCFKmgAcAB4AIABUogB1AOSAQE2mAEAoAEBsAEA&sclient=mobile-gws-wiz-hp'\n",
        "URL = 'https://yandex.ru/search/?text=python&lr=54'"
      ]
    },
    {
      "cell_type": "code",
      "execution_count": null,
      "metadata": {
        "id": "0bAWfnuonbfI"
      },
      "outputs": [],
      "source": [
        "req = requests.get(URL)\n",
        "req"
      ]
    },
    {
      "cell_type": "code",
      "execution_count": null,
      "metadata": {
        "id": "W3EjHx58nbfJ"
      },
      "outputs": [],
      "source": [
        "req.text"
      ]
    },
    {
      "cell_type": "code",
      "execution_count": null,
      "metadata": {
        "id": "wRMGT0xHnbfJ"
      },
      "outputs": [],
      "source": [
        "# в request можно передать параметры запроса (для get), данные (для post) и заголовки (headers) в виде словарей. \n",
        "# сегодня не будем рассматривать примеры с необхожимостью передачи заголовка, \n",
        "# но в практике вам это точно понадобится\n",
        "URL = 'https://yandex.ru/search/'\n",
        "params = {\n",
        "    'text': 'python',\n",
        "    'lr': 54\n",
        "}\n",
        "headers = {}\n",
        "req = requests.get(URL, params)\n",
        "req = requests.post(URL, params, headers)\n",
        "req.text"
      ]
    },
    {
      "cell_type": "code",
      "execution_count": null,
      "metadata": {
        "id": "Cy6gh3LjkHvc"
      },
      "outputs": [],
      "source": [
        "# в request можно передать параметры запроса (для get), данные (для post) и заголовки (headers) в виде словарей. \n",
        "# сегодня не будем рассматривать примеры с необходимостью передачи заголовка, \n",
        "# но в практике вам это точно понадобится\n",
        "URL = 'https://www.google.com/search'\n",
        "params = {\n",
        "    'q': 'python'\n",
        "}\n",
        "headers = {}\n",
        "# req = requests.get(URL, params, headers)\n",
        "req = requests.post(URL, data, headers)\n",
        "# req = requests.get(URL, params=params, headers=headers)\n",
        "\n",
        "req.text"
      ]
    },
    {
      "cell_type": "code",
      "execution_count": null,
      "metadata": {
        "id": "VkqKxzPOnbfK"
      },
      "outputs": [],
      "source": []
    },
    {
      "cell_type": "code",
      "execution_count": null,
      "metadata": {
        "id": "roE30aq9nbfK"
      },
      "outputs": [],
      "source": [
        "# очень часто сайты могут ограничивать частые запросы к себе, \n",
        "# поэтому нужно задерживать исполнение\n",
        "import time\n",
        "time.sleep(0.2)"
      ]
    },
    {
      "cell_type": "markdown",
      "metadata": {
        "id": "7DNfD7e1nbfK"
      },
      "source": [
        "## Beautiful Soup"
      ]
    },
    {
      "cell_type": "code",
      "execution_count": null,
      "metadata": {
        "id": "LnDOu3CMnbfK"
      },
      "outputs": [],
      "source": [
        "# как разбирать всю эту разметку? Поможет BeautifulSoup.\n",
        "from bs4 import BeautifulSoup"
      ]
    },
    {
      "cell_type": "markdown",
      "metadata": {
        "id": "LwUOCYAwnbfL"
      },
      "source": [
        "### Практика 1. Напишем скрипт, который будет отбирать посты из нужных хабов на habr.com"
      ]
    },
    {
      "cell_type": "code",
      "execution_count": null,
      "metadata": {
        "id": "uQZd3eelnbfL"
      },
      "outputs": [],
      "source": [
        "# определяем список хабов, которые нам интересны\n",
        "DESIRED_HUBS = ['python', 'bigdata']"
      ]
    },
    {
      "cell_type": "code",
      "execution_count": null,
      "metadata": {
        "id": "I7ujFa04nbfL"
      },
      "outputs": [],
      "source": [
        "# получаем страницу с самыми свежими постами\n",
        "req = requests.get('https://habr.com/ru/all/')\n",
        "soup = BeautifulSoup(req.text)#, 'html.parser')\n",
        "soup"
      ]
    },
    {
      "cell_type": "code",
      "execution_count": null,
      "metadata": {
        "id": "KWW7TWkjnbfM"
      },
      "outputs": [],
      "source": [
        "# извлекаем посты\n",
        "posts = soup.find_all('article', class_='post')\n",
        "posts"
      ]
    },
    {
      "cell_type": "code",
      "execution_count": null,
      "metadata": {
        "id": "fm-1c1A7nbfM"
      },
      "outputs": [],
      "source": [
        "for post in posts:\n",
        "    post_id = post.parent.attrs.get('id')\n",
        "   # если идентификатор не найден, это что-то странное, пропускаем\n",
        "    if not post_id:\n",
        "        continue\n",
        "    post_id = int(post_id.split('_')[-1])\n",
        "    print('post', post_id)\n",
        "    hubs = post.find_all('a', class_='hub-link')"
      ]
    },
    {
      "cell_type": "code",
      "execution_count": null,
      "metadata": {
        "id": "7gZFppznnbfM"
      },
      "outputs": [],
      "source": [
        "# добавляем извлечение хабов из постов, чтобы отбирать только нужные\n",
        "for post in posts:\n",
        "    post_id = post.parent.attrs.get('id')\n",
        "   # если идентификатор не найден, это что-то странное, пропускаем\n",
        "    if not post_id:\n",
        "        continue\n",
        "    post_id = int(post_id.split('_')[-1])\n",
        "    hubs = post.find_all('a', class_='hub-link')\n",
        "    for hub in hubs:\n",
        "            hub_lower = hub.text.lower()\n",
        "           # ищем вхождение хотя бы одного желаемого хаба\n",
        "            if any([hub_lower in desired for desired in DESIRED_HUBS]):\n",
        "               # пост нам интересен - делаем с ним все что захотим:\n",
        "               # можно отправит в телеграм уведомление, можно на почту и т.п.\n",
        "                title_element = post.find('a', class_='post__title_link')\n",
        "                print(title_element.text, title_element.attrs.get('href'))\n",
        "               # так как пост уже нам подошел - дальше нет смысла проверять хабы\n",
        "                break"
      ]
    },
    {
      "cell_type": "markdown",
      "metadata": {
        "id": "O15otMOznbfN"
      },
      "source": [
        "### Практика 2. Напишем скрипт, который будет собирать новости с сайта Коммерсанта"
      ]
    },
    {
      "cell_type": "code",
      "execution_count": null,
      "metadata": {
        "id": "oeHAyDF5nbfN"
      },
      "outputs": [],
      "source": [
        "URL = 'https://www.kommersant.ru/search/results'\n",
        "params = {\n",
        "    'search_query': 'python'\n",
        "}"
      ]
    },
    {
      "cell_type": "code",
      "execution_count": null,
      "metadata": {
        "id": "186rQZJpnbfO"
      },
      "outputs": [],
      "source": [
        "res = requests.get(URL, params)"
      ]
    },
    {
      "cell_type": "code",
      "execution_count": null,
      "metadata": {
        "id": "-W_TzV3EnbfO"
      },
      "outputs": [],
      "source": [
        "res.text"
      ]
    },
    {
      "cell_type": "code",
      "execution_count": null,
      "metadata": {
        "id": "1xK4kJ5qnbfO"
      },
      "outputs": [],
      "source": [
        "soup = BeautifulSoup(res.text)#, 'html.parser')\n",
        "soup"
      ]
    },
    {
      "cell_type": "code",
      "execution_count": null,
      "metadata": {
        "id": "je-SNwgDnbfO"
      },
      "outputs": [],
      "source": [
        "# добираемся до блоков с новостями\n",
        "news_blocks = soup.find_all('div', class_='search_results_item')\n",
        "news_blocks"
      ]
    },
    {
      "cell_type": "code",
      "execution_count": null,
      "metadata": {
        "id": "PsobLzaQnbfP"
      },
      "outputs": [],
      "source": [
        "# добираемся до текста со ссылкой\n",
        "articles_intro = list(map(lambda x: x.find('div', class_='article_intro'), news_blocks))\n",
        "articles_intro"
      ]
    },
    {
      "cell_type": "code",
      "execution_count": null,
      "metadata": {
        "id": "5TDut-jxnbfP"
      },
      "outputs": [],
      "source": [
        "# добираемся до ссылок\n",
        "a_list = list(map(lambda x: x.find('a').get('href'), articles_intro))\n",
        "a_list"
      ]
    },
    {
      "cell_type": "code",
      "execution_count": null,
      "metadata": {
        "id": "Z_kd_bHInbfP"
      },
      "outputs": [],
      "source": [
        "# формируем полноценные ссылки\n",
        "all_refs = list(map(lambda x: 'https://www.kommersant.ru/' + x, a_list))\n",
        "all_refs"
      ]
    },
    {
      "cell_type": "code",
      "execution_count": null,
      "metadata": {
        "id": "lwcs8GPunbfQ"
      },
      "outputs": [],
      "source": [
        "# объединим все в одну функцию\n",
        "def get_all_links(url, query):\n",
        "    all_refs = []\n",
        "    params = {\n",
        "        'search_query': query,\n",
        "    }\n",
        "    res = requests.get(URL, params)\n",
        "    time.sleep(0.3)\n",
        "    soup = BeautifulSoup(res.text)#, 'html.parser')\n",
        "    news_blocks = soup.find_all('div', class_='search_results_item')\n",
        "    articles_intro = list(map(lambda x: x.find('div', class_='article_intro'), news_blocks))\n",
        "    a_list = list(map(lambda x: x.find('a').get('href'), articles_intro))\n",
        "    all_refs = list(map(lambda x: 'https://www.kommersant.ru/' + x, a_list))\n",
        "\n",
        "    return all_refs\n",
        "\n",
        "all_links = get_all_links(URL, 'python')\n",
        "all_links"
      ]
    },
    {
      "cell_type": "code",
      "execution_count": null,
      "metadata": {
        "id": "VE83gqDinbfQ"
      },
      "outputs": [],
      "source": [
        "# но мы же собрали только одну страницу? Хотим ВСЕ новости\n",
        "def get_all_links(url, query, pages):\n",
        "    all_refs = []\n",
        "    params = {\n",
        "        'search_query': query\n",
        "    }\n",
        "    for i in range(pages):\n",
        "        params['page'] = i + 1\n",
        "        res = requests.get(URL, params)\n",
        "        time.sleep(0.3)\n",
        "        soup = BeautifulSoup(res.text)#, 'html.parser')\n",
        "        news_blocks = soup.find_all('div', class_='search_results_item')\n",
        "        articles_intro = list(map(lambda x: x.find('div', class_='article_intro'), news_blocks))\n",
        "        a_list = list(map(lambda x: x.find('a').get('href'), articles_intro))\n",
        "        all_refs += list(map(lambda x: 'https://www.kommersant.ru/' + x, a_list))\n",
        "    return all_refs\n",
        "\n",
        "all_links = get_all_links(URL, 'python', 3)\n",
        "all_links"
      ]
    },
    {
      "cell_type": "code",
      "execution_count": null,
      "metadata": {
        "id": "ALRvDhaNnbfQ"
      },
      "outputs": [],
      "source": [
        "import pandas as pd"
      ]
    },
    {
      "cell_type": "code",
      "execution_count": null,
      "metadata": {
        "id": "hFMwyOomnbfQ"
      },
      "outputs": [],
      "source": [
        "# собираем даты, заголовки и тексты новостей\n",
        "# получаем ошибочку. Значит не у всех получаемых страниц одинаковая разметка\n",
        "for link in all_links:\n",
        "    soup = BeautifulSoup(requests.get(link).text, 'html.parser')\n",
        "    time.sleep(0.3)\n",
        "    date = pd.to_datetime(soup.find('time', class_='title__cake').get('datetime'), dayfirst=True).date()\n",
        "    print(date)\n",
        "    title = soup.find('h1', class_='article_name').text\n",
        "    print(title)\n",
        "    text = soup.find('div', class_='article_text_wrapper').text\n",
        "    print(text)"
      ]
    },
    {
      "cell_type": "code",
      "execution_count": null,
      "metadata": {
        "id": "uKkyuQ0enbfR"
      },
      "outputs": [],
      "source": [
        "# получаем ошибочку. Значит не у всех получаемых страниц одинаковая разметка\n",
        "for link in all_links:\n",
        "    soup = BeautifulSoup(requests.get(link).text, 'html.parser')\n",
        "    if soup.find('div', class_='b-article__publish_date'):\n",
        "        date = pd.to_datetime(soup.find('div', class_='b-article__publish_date').find('time').get('datetime'), dayfirst=True).date()\n",
        "    elif soup.find('time', class_='title__cake'):\n",
        "        date = pd.to_datetime(soup.find('time', class_='title__cake').get('datetime'), dayfirst=True).date()\n",
        "    print(date)\n",
        "    if soup.find('h2', class_='article_name'): \n",
        "        title = soup.find('h2', class_='article_name').text\n",
        "    else: \n",
        "        title = soup.find('h1', class_='article_name').text    \n",
        "    print(title)\n",
        "    text = soup.find('div', class_='article_text_wrapper').text\n",
        "    print(text)"
      ]
    },
    {
      "cell_type": "code",
      "execution_count": null,
      "metadata": {
        "id": "-YqrKmvEnbfR"
      },
      "outputs": [],
      "source": [
        "# запишем данные в датафрейм\n",
        "kom_news = pd.DataFrame()\n",
        "for link in all_links:\n",
        "    soup = BeautifulSoup(requests.get(link).text)#, 'html.parser')\n",
        "    time.sleep(0.3)\n",
        "    if soup.find('div', class_='b-article__publish_date'):\n",
        "        date = pd.to_datetime(soup.find('div', class_='b-article__publish_date').find('time').get('datetime'), dayfirst=True).date()\n",
        "    elif soup.find('time', class_='title__cake'):\n",
        "        date = pd.to_datetime(soup.find('time', class_='title__cake').get('datetime'), dayfirst=True).date()\n",
        "    if soup.find('h2', class_='article_name'): \n",
        "        title = soup.find('h2', class_='article_name').text\n",
        "    else: \n",
        "        title = soup.find('h1', class_='article_name').text    \n",
        "    text = soup.find('div', class_='article_text_wrapper').text\n",
        "    row = {'date': date, 'title': title, 'text': text}\n",
        "    kom_news = pd.concat([kom_news, pd.DataFrame([row])])  \n",
        "kom_news"
      ]
    },
    {
      "cell_type": "code",
      "execution_count": null,
      "metadata": {
        "id": "dJeLG3YZnbfR"
      },
      "outputs": [],
      "source": [
        "# обернем в функцию \n",
        "def get_kom_news(links):\n",
        "    kom_news = pd.DataFrame()\n",
        "    for link in all_links:\n",
        "        soup = BeautifulSoup(requests.get(link).text, 'html.parser')\n",
        "        if soup.find('div', class_='b-article__publish_date'):\n",
        "            date = pd.to_datetime(soup.find('div', class_='b-article__publish_date').find('time').get('datetime'), dayfirst=True).date()\n",
        "        elif soup.find('time', class_='title__cake'):\n",
        "            date = pd.to_datetime(soup.find('time', class_='title__cake').get('datetime'), dayfirst=True).date()\n",
        "        if soup.find('h2', class_='article_name'): \n",
        "            title = soup.find('h2', class_='article_name').text\n",
        "        else: \n",
        "            title = soup.find('h1', class_='article_name').text    \n",
        "        text = soup.find('div', class_='article_text_wrapper').text\n",
        "        row = {'date': date, 'title': title, 'text': text}\n",
        "        kom_news = pd.concat([kom_news, pd.DataFrame([row])])  \n",
        "    return kom_news"
      ]
    },
    {
      "cell_type": "code",
      "execution_count": null,
      "metadata": {
        "id": "VwJr-GIlnbfS"
      },
      "outputs": [],
      "source": [
        "kom_news = get_kom_news(all_links)\n",
        "kom_news"
      ]
    },
    {
      "cell_type": "markdown",
      "metadata": {
        "id": "e0Hg64QZnbfS"
      },
      "source": [
        "## API"
      ]
    },
    {
      "cell_type": "markdown",
      "metadata": {
        "id": "KauHQsvMnbfS"
      },
      "source": [
        "### Практика 3. Получим данные о песнях исполнителя при помощи  [API ITunes](https://developer.apple.com/library/archive/documentation/AudioVideo/Conceptual/iTuneSearchAPI/index.html)"
      ]
    },
    {
      "cell_type": "code",
      "execution_count": null,
      "metadata": {
        "id": "vT6o8lzNnbfS"
      },
      "outputs": [],
      "source": [
        "# https://developer.apple.com/library/archive/documentation/AudioVideo/Conceptual/iTuneSearchAPI/UnderstandingSearchResults.html#//apple_ref/doc/uid/TP40017632-CH8-SW1\n",
        "URL = 'https://itunes.apple.com/search?term=jack+johnson'"
      ]
    },
    {
      "cell_type": "code",
      "execution_count": null,
      "metadata": {
        "id": "dyZw-s1anbfT"
      },
      "outputs": [],
      "source": [
        "res = requests.get(URL)"
      ]
    },
    {
      "cell_type": "code",
      "execution_count": null,
      "metadata": {
        "id": "ub5I82Z2nbfT"
      },
      "outputs": [],
      "source": [
        "res.text"
      ]
    },
    {
      "cell_type": "code",
      "execution_count": null,
      "metadata": {
        "id": "Sgy8nbD7nbfT"
      },
      "outputs": [],
      "source": [
        "res.json()"
      ]
    },
    {
      "cell_type": "code",
      "execution_count": null,
      "metadata": {
        "id": "WaOrBrvmnbfT"
      },
      "outputs": [],
      "source": [
        "params = {\n",
        "    'term': 'шнуров',\n",
        "    'limit': 200,\n",
        "#     'offset': 2\n",
        "}"
      ]
    },
    {
      "cell_type": "code",
      "execution_count": null,
      "metadata": {
        "id": "qM2wBxBhnbfT"
      },
      "outputs": [],
      "source": [
        "# pd.set_option('display.max_columns', 100)\n",
        "res = requests.get(URL, params)\n",
        "# res.json()\n",
        "\n",
        "pd.DataFrame(res.json()['results'])"
      ]
    },
    {
      "cell_type": "code",
      "execution_count": null,
      "metadata": {
        "id": "ESUJcrKrnbfU"
      },
      "outputs": [],
      "source": [
        "params = {\n",
        "    'term': 'лазарев',\n",
        "    'limit': 60,\n",
        "    'attribute': 'allArtistTerm',\n",
        "    'country': 'ru'\n",
        "}"
      ]
    },
    {
      "cell_type": "code",
      "execution_count": null,
      "metadata": {
        "id": "BYQNkrq0nbfU"
      },
      "outputs": [],
      "source": [
        "res = requests.get(URL, params)\n",
        "res.json()\n",
        "\n",
        "pd.DataFrame(res.json()['results'])"
      ]
    },
    {
      "cell_type": "markdown",
      "metadata": {
        "id": "52-pKRAYnbfU"
      },
      "source": [
        "### Практика 4. Соберем сообщения из новостной ленты ВК по нужному запросу"
      ]
    },
    {
      "cell_type": "code",
      "execution_count": null,
      "metadata": {
        "id": "YYaUOmQznbfU"
      },
      "outputs": [],
      "source": [
        "# https://vk.com/dev/manuals\n",
        "# https://vk.com/dev/newsfeed.search\n",
        "NEWSFEED_REQUEST = 'https://api.vk.com/method/newsfeed.search?'\n",
        "TOKEN = '9df7991c9df7991c9df7991c329d86910d99df79df7991cc363a27748dcf7ad91284ef6'\n",
        "VERSION = '5.103'\n",
        "SLEEP = 0.33"
      ]
    },
    {
      "cell_type": "code",
      "execution_count": null,
      "metadata": {
        "id": "R6cr_Rv1nbfV"
      },
      "outputs": [],
      "source": [
        "# обращаем внимание, что максимальное количество постов, \n",
        "# которые можно вытащить за раз, ограничено\n",
        "params = {\n",
        "    'access_token': TOKEN,\n",
        "    'v': VERSION,\n",
        "    'q': 'короновирус',\n",
        "    'count': 200\n",
        "}"
      ]
    },
    {
      "cell_type": "code",
      "execution_count": null,
      "metadata": {
        "id": "zYHwx6mFnbfV"
      },
      "outputs": [],
      "source": [
        "res = requests.get(NEWSFEED_REQUEST, params)\n",
        "res"
      ]
    },
    {
      "cell_type": "code",
      "execution_count": null,
      "metadata": {
        "id": "_PXrPrQsnbfV"
      },
      "outputs": [],
      "source": [
        "res.text"
      ]
    },
    {
      "cell_type": "code",
      "execution_count": null,
      "metadata": {
        "id": "Koec3vr5nbfV"
      },
      "outputs": [],
      "source": [
        "res.json()"
      ]
    },
    {
      "cell_type": "code",
      "execution_count": null,
      "metadata": {
        "id": "fBH5XcL_nbfW"
      },
      "outputs": [],
      "source": [
        "res.json()['response']['items']"
      ]
    },
    {
      "cell_type": "code",
      "execution_count": null,
      "metadata": {
        "id": "1F1RXvPqnbfW"
      },
      "outputs": [],
      "source": [
        "pd.DataFrame(res.json()['response']['items'])"
      ]
    },
    {
      "cell_type": "code",
      "execution_count": null,
      "metadata": {
        "id": "8HMgYsfInbfW"
      },
      "outputs": [],
      "source": [
        "# соберем все доступные сообщения по запросу\n",
        "newsfeed_df = pd.DataFrame()\n",
        "while True:\n",
        "    result = requests.get(NEWSFEED_REQUEST, params)\n",
        "    time.sleep(0.33)\n",
        "    newsfeed_df = pd.concat([newsfeed_df, pd.DataFrame(result.json()['response']['items'])])\n",
        "    if 'next_from' in result.json()['response'].keys():\n",
        "        params['start_from'] = result.json()['response']['next_from']\n",
        "    else:\n",
        "        break\n",
        "newsfeed_df"
      ]
    },
    {
      "cell_type": "code",
      "execution_count": null,
      "metadata": {
        "id": "VCr3QicXnbfW"
      },
      "outputs": [],
      "source": []
    },
    {
      "cell_type": "code",
      "source": [],
      "metadata": {
        "id": "cnsVBVqgnfcP"
      },
      "execution_count": null,
      "outputs": []
    },
    {
      "cell_type": "code",
      "source": [],
      "metadata": {
        "id": "AjVniO8gnglO"
      },
      "execution_count": null,
      "outputs": []
    },
    {
      "cell_type": "code",
      "source": [],
      "metadata": {
        "id": "V0Ngffp2nhyX"
      },
      "execution_count": null,
      "outputs": []
    },
    {
      "cell_type": "code",
      "source": [],
      "metadata": {
        "id": "cPUkLyWtnhLW"
      },
      "execution_count": null,
      "outputs": []
    },
    {
      "cell_type": "code",
      "source": [],
      "metadata": {
        "id": "4yTWpxKhngv1"
      },
      "execution_count": null,
      "outputs": []
    },
    {
      "cell_type": "markdown",
      "source": [
        "# Практика"
      ],
      "metadata": {
        "id": "q6eJUTbNKlsl"
      }
    },
    {
      "cell_type": "markdown",
      "source": [
        "## API\n",
        "vk"
      ],
      "metadata": {
        "id": "D2VG98lJgEg7"
      }
    },
    {
      "cell_type": "code",
      "source": [
        "\n",
        "# https://youtu.be/UjMZ7lTYvyI?t=911\n",
        "\n",
        "import csv\n",
        "import time\n",
        "import re\n",
        "from datetime import datetime\n",
        "\n",
        "import requests\n",
        "\n",
        "import pandas as pd"
      ],
      "metadata": {
        "id": "ongXyaZAKq6m"
      },
      "execution_count": null,
      "outputs": []
    },
    {
      "cell_type": "code",
      "source": [
        "\n",
        "from data.vk_api_config import vk_token, ver, vk\n",
        "\n",
        "request_domain = 'antropogenez_ru'\n",
        "# request_id = '12096545'\n",
        "\n"
      ],
      "metadata": {
        "id": "t8OMN8eE4yz8"
      },
      "execution_count": null,
      "outputs": []
    },
    {
      "cell_type": "code",
      "source": [
        "def take_1000_posts(domain):\n",
        "    count = 100  # постов за раз (100 - макс)\n",
        "    offset = 0  # смещение запроса (посты на стене, начиная с этого номера)\n",
        "    all_posts = []\n",
        "\n",
        "    while offset<1000:\n",
        "        response = requests.get(vk+'wall.get',\n",
        "                                params={\n",
        "                                    'access_token': vk_token,\n",
        "                                    'v': ver,\n",
        "                                    'count': count,\n",
        "                                    'offset': offset,\n",
        "                                    # 'owner_id': owner_id\n",
        "                                    'domain': domain\n",
        "                                    }\n",
        "                                )\n",
        "        data = response.json()['response']['items']\n",
        "        offset+=count\n",
        "        all_posts.extend(data)\n",
        "        time.sleep(0.5)\n",
        "    return all_posts\n",
        "\n",
        "\n"
      ],
      "metadata": {
        "id": "uKUBy3oo403S"
      },
      "execution_count": null,
      "outputs": []
    },
    {
      "cell_type": "code",
      "source": [
        "def file_writer(data, name_):\n",
        "    name_ = re.sub(r'\\W', '_', name_)\n",
        "    # print(csv.get_dialect('excel'))\n",
        "    current_date_str = datetime.now().strftime('%Y%m%d')\n",
        "    with open((f\"/content/data/{ name_ }_{current_date_str}.csv\"), 'w') as file:\n",
        "\n",
        "        a_pen = csv.writer(file)\n",
        "        a_pen.writerow( ('likes', 'date_time', 'body', 'url') )\n",
        "\n",
        "        for post in data :\n",
        "            img_url = None\n",
        "            try :   \n",
        "                for att in post['attachments'] :\n",
        "                    if att['type'] == 'photo':\n",
        "                        img_url = post['attachments'][0]['photo']['sizes'][-1]['url']\n",
        "                        break\n",
        "                    elif post['attachments'][0]['type'] == 'video':\n",
        "                        img_url = post['attachments'][0]['video']['image'][-1]['url']\n",
        "\n",
        "                if not img_url : img_url = 'None'\n",
        "\n",
        "            except: \n",
        "                img_url = 'None'\n",
        "\n",
        "\n",
        "            a_pen.writerow( (post['likes']['count'],\n",
        "                             datetime.fromtimestamp(post['date']),\n",
        "                             post['text'],\n",
        "                             img_url\n",
        "                             ) )\n",
        "        return file.name\n",
        "\n",
        "    # f\"/content/data/{ name_ }_{current_date_str}.csv\"\n",
        "\n"
      ],
      "metadata": {
        "id": "vjOJdYOS44Z4"
      },
      "execution_count": null,
      "outputs": []
    },
    {
      "cell_type": "code",
      "source": [
        "all_posts = take_1000_posts(request_domain)\n",
        "current_file = file_writer(all_posts, request_domain)\n",
        "\n"
      ],
      "metadata": {
        "id": "ZP5E7UGZ46aA"
      },
      "execution_count": null,
      "outputs": []
    },
    {
      "cell_type": "code",
      "source": [
        "# current_date = datetime.now().strftime('%Y%m%d')\n",
        "# name = re.sub(r'\\W', '_', request_domain)\n",
        "        \n",
        "df = pd.read_csv(current_file)\n",
        "df"
      ],
      "metadata": {
        "id": "A_40ag3Q5BXD"
      },
      "execution_count": null,
      "outputs": []
    },
    {
      "cell_type": "code",
      "source": [
        "\n",
        "# print(1)\n",
        "df.sort_values(by='likes', ascending = False)"
      ],
      "metadata": {
        "id": "Hr7UF_eR5C_A"
      },
      "execution_count": null,
      "outputs": []
    },
    {
      "cell_type": "code",
      "source": [
        "top_df = df.sort_values(by='likes', ascending = False)\n",
        "top_10 = pd.DataFrame(\n",
        "    [(top_df.likes.iat[i],\n",
        "      top_df.date_time.iat[i],\n",
        "      top_df.body.iat[i][0:100],\n",
        "      top_df.url.iat[i]\n",
        "      ) \n",
        "      for i in range (10) ],\n",
        "      columns=['likes','date_time','text','img'])\n",
        "top_10\n"
      ],
      "metadata": {
        "id": "eN6CYw326DuR"
      },
      "execution_count": null,
      "outputs": []
    },
    {
      "cell_type": "code",
      "source": [
        "print(f'{123.444:.2f}')"
      ],
      "metadata": {
        "id": "hwWC7QkUmImM"
      },
      "execution_count": null,
      "outputs": []
    }
  ]
}